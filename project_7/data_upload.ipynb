{
 "cells": [
  {
   "cell_type": "code",
   "execution_count": 1,
   "id": "248dec3c",
   "metadata": {
    "tags": [
     "aa81075c-062f-4de0-b5fe-14c73dc7468e"
    ]
   },
   "outputs": [],
   "source": [
    "import pandas as pd\n",
    "import numpy as np\n",
    "\n",
    "from sqlalchemy import create_engine"
   ]
  },
  {
   "cell_type": "code",
   "execution_count": 2,
   "id": "28e4e820",
   "metadata": {},
   "outputs": [],
   "source": [
    "path_to_db = '/datasets/telecomm_csi.db'\n",
    "engine = create_engine(f'sqlite:///{path_to_db}', echo = False)"
   ]
  },
  {
   "cell_type": "code",
   "execution_count": 3,
   "id": "d1fcdc21",
   "metadata": {},
   "outputs": [
    {
     "data": {
      "text/html": [
       "<div>\n",
       "<style scoped>\n",
       "    .dataframe tbody tr th:only-of-type {\n",
       "        vertical-align: middle;\n",
       "    }\n",
       "\n",
       "    .dataframe tbody tr th {\n",
       "        vertical-align: top;\n",
       "    }\n",
       "\n",
       "    .dataframe thead th {\n",
       "        text-align: right;\n",
       "    }\n",
       "</style>\n",
       "<table border=\"1\" class=\"dataframe\">\n",
       "  <thead>\n",
       "    <tr style=\"text-align: right;\">\n",
       "      <th></th>\n",
       "      <th>user_id</th>\n",
       "      <th>lt_day</th>\n",
       "      <th>age</th>\n",
       "      <th>os_name</th>\n",
       "      <th>cpe_type_name</th>\n",
       "      <th>nps_score</th>\n",
       "      <th>nps_group</th>\n",
       "      <th>gender</th>\n",
       "      <th>country</th>\n",
       "      <th>city</th>\n",
       "      <th>lifetime_segment_min</th>\n",
       "      <th>lifetime_segment_max</th>\n",
       "      <th>is_new</th>\n",
       "      <th>age_segment_min</th>\n",
       "      <th>age_segment_max</th>\n",
       "      <th>age_title</th>\n",
       "      <th>traffic_segment_min</th>\n",
       "      <th>traffic_segment_max</th>\n",
       "      <th>traffic_title</th>\n",
       "    </tr>\n",
       "  </thead>\n",
       "  <tbody>\n",
       "    <tr>\n",
       "      <td>0</td>\n",
       "      <td>A001A2</td>\n",
       "      <td>2320</td>\n",
       "      <td>45.0</td>\n",
       "      <td>ANDROID</td>\n",
       "      <td>SMARTPHONE</td>\n",
       "      <td>10</td>\n",
       "      <td>cторонники</td>\n",
       "      <td>женский</td>\n",
       "      <td>Россия</td>\n",
       "      <td>Уфа</td>\n",
       "      <td>36.0</td>\n",
       "      <td>NaN</td>\n",
       "      <td>старый клиент</td>\n",
       "      <td>45.0</td>\n",
       "      <td>54.0</td>\n",
       "      <td>05 45-54</td>\n",
       "      <td>1.0</td>\n",
       "      <td>5.0</td>\n",
       "      <td>04 1-5</td>\n",
       "    </tr>\n",
       "    <tr>\n",
       "      <td>1</td>\n",
       "      <td>A001WF</td>\n",
       "      <td>2344</td>\n",
       "      <td>53.0</td>\n",
       "      <td>ANDROID</td>\n",
       "      <td>SMARTPHONE</td>\n",
       "      <td>10</td>\n",
       "      <td>cторонники</td>\n",
       "      <td>мужской</td>\n",
       "      <td>Россия</td>\n",
       "      <td>Киров</td>\n",
       "      <td>36.0</td>\n",
       "      <td>NaN</td>\n",
       "      <td>старый клиент</td>\n",
       "      <td>45.0</td>\n",
       "      <td>54.0</td>\n",
       "      <td>05 45-54</td>\n",
       "      <td>1.0</td>\n",
       "      <td>5.0</td>\n",
       "      <td>04 1-5</td>\n",
       "    </tr>\n",
       "    <tr>\n",
       "      <td>2</td>\n",
       "      <td>A003Q7</td>\n",
       "      <td>467</td>\n",
       "      <td>57.0</td>\n",
       "      <td>ANDROID</td>\n",
       "      <td>SMARTPHONE</td>\n",
       "      <td>10</td>\n",
       "      <td>cторонники</td>\n",
       "      <td>мужской</td>\n",
       "      <td>Россия</td>\n",
       "      <td>Москва</td>\n",
       "      <td>13.0</td>\n",
       "      <td>24.0</td>\n",
       "      <td>старый клиент</td>\n",
       "      <td>55.0</td>\n",
       "      <td>64.0</td>\n",
       "      <td>06 55-64</td>\n",
       "      <td>20.0</td>\n",
       "      <td>25.0</td>\n",
       "      <td>08 20-25</td>\n",
       "    </tr>\n",
       "  </tbody>\n",
       "</table>\n",
       "</div>"
      ],
      "text/plain": [
       "  user_id  lt_day   age  os_name cpe_type_name  nps_score   nps_group  \\\n",
       "0  A001A2    2320  45.0  ANDROID    SMARTPHONE         10  cторонники   \n",
       "1  A001WF    2344  53.0  ANDROID    SMARTPHONE         10  cторонники   \n",
       "2  A003Q7     467  57.0  ANDROID    SMARTPHONE         10  cторонники   \n",
       "\n",
       "    gender country    city  lifetime_segment_min  lifetime_segment_max  \\\n",
       "0  женский  Россия     Уфа                  36.0                   NaN   \n",
       "1  мужской  Россия   Киров                  36.0                   NaN   \n",
       "2  мужской  Россия  Москва                  13.0                  24.0   \n",
       "\n",
       "          is_new  age_segment_min  age_segment_max age_title  \\\n",
       "0  старый клиент             45.0             54.0  05 45-54   \n",
       "1  старый клиент             45.0             54.0  05 45-54   \n",
       "2  старый клиент             55.0             64.0  06 55-64   \n",
       "\n",
       "   traffic_segment_min  traffic_segment_max traffic_title  \n",
       "0                  1.0                  5.0        04 1-5  \n",
       "1                  1.0                  5.0        04 1-5  \n",
       "2                 20.0                 25.0      08 20-25  "
      ]
     },
     "execution_count": 3,
     "metadata": {},
     "output_type": "execute_result"
    }
   ],
   "source": [
    "query = \"\"\"\n",
    "WITH\n",
    "user_df AS (SELECT *,\n",
    "                  (CASE\n",
    "                      WHEN nps_score <= 6 THEN \"критики\"\n",
    "                      WHEN nps_score > 6 and nps_score <= 8 THEN \"нейтралы\"\n",
    "                      WHEN nps_score > 8 THEN \"cторонники\"\n",
    "                  END) AS nps_group,\n",
    "                  (CASE\n",
    "                      WHEN gender_segment = 0 THEN \"мужской\"\n",
    "                      WHEN gender_segment = 1 THEN \"женский\"\n",
    "                  END) AS gender\n",
    "            FROM user),\n",
    "location_df AS (SELECT *                      \n",
    "                FROM location),\n",
    "Lifetime_df AS (SELECT *,\n",
    "                       (CASE\n",
    "                            WHEN bucket_min <= 6 THEN \"новый клиент\"\n",
    "                            WHEN bucket_min > 6 THEN \"старый клиент\"\n",
    "                        END) AS is_new\n",
    "                FROM lifetime_segment),\n",
    "age_df AS (SELECT *\n",
    "        FROM age_segment),\n",
    "traffic_df AS (SELECT *\n",
    "               FROM traffic_segment)\n",
    "SELECT user_df.user_id,\n",
    "       user_df.lt_day,\n",
    "       user_df.age,\n",
    "       user_df.os_name,\n",
    "       user_df.cpe_type_name,\n",
    "       user_df.nps_score,\n",
    "       user_df.nps_group,\n",
    "       user_df.gender,\n",
    "       location_df.country,\n",
    "       Location_df.city,\n",
    "       lifetime_df.bucket_min AS lifetime_segment_min,\n",
    "       Lifetime_df.bucket_max AS lifetime_segment_max,\n",
    "       lifetime_df.is_new,\n",
    "       age_df.bucket_min AS age_segment_min,\n",
    "       age_df.bucket_max AS age_segment_max,\n",
    "       age_df.title AS age_title,\n",
    "       traffic_df.bucket_min AS traffic_segment_min,\n",
    "       traffic_df.bucket_max AS traffic_segment_max,\n",
    "       traffic_df.title AS traffic_title\n",
    "FROM user_df\n",
    "JOIN location_df ON user_df.location_id = location_df.location_id\n",
    "JOIN Lifetime_df ON user_df.lt_gr_id = lifetime_df.lt_gr_id\n",
    "JOIN age_df ON user_df.age_gr_id = age_df.age_gr_id\n",
    "JOIN traffic_df ON user_df.tr_gr_id = traffic_df.tr_gr_id\n",
    "\"\"\"\n",
    "\n",
    "df = pd.read_sql(query, engine)\n",
    "df.head(3)"
   ]
  },
  {
   "cell_type": "code",
   "execution_count": 4,
   "id": "25ae2ad2",
   "metadata": {},
   "outputs": [],
   "source": [
    "df.to_csv('telecomm_csi_tableau.csv', index=False)"
   ]
  },
  {
   "cell_type": "markdown",
   "id": "d49dfb4d",
   "metadata": {},
   "source": [
    "### Укажите ссылку на дашборд на сайте Tableau Public:"
   ]
  },
  {
   "cell_type": "markdown",
   "id": "57d5e29d",
   "metadata": {},
   "source": [
    "https://public.tableau.com/app/profile/barzord/viz/yandex_nps/Dashboard1?publish=yes"
   ]
  },
  {
   "cell_type": "markdown",
   "id": "c0f0327d",
   "metadata": {},
   "source": [
    "### Укажите ссылку на pdf-файл с презентацией:"
   ]
  },
  {
   "cell_type": "markdown",
   "id": "e387f993",
   "metadata": {},
   "source": [
    "https://docs.google.com/presentation/d/1mTk5XmMhOfjof7PO_hdqa4-RPvJ-r10O/edit?usp=sharing&ouid=101711347049068326300&rtpof=true&sd=true"
   ]
  }
 ],
 "metadata": {
  "ExecuteTimeLog": [
   {
    "duration": 752,
    "start_time": "2021-10-03T17:40:52.731Z"
   },
   {
    "duration": 20,
    "start_time": "2021-10-03T17:40:53.486Z"
   },
   {
    "duration": 4,
    "start_time": "2021-10-03T17:41:04.638Z"
   },
   {
    "duration": 461,
    "start_time": "2021-10-03T17:41:04.912Z"
   },
   {
    "duration": 284,
    "start_time": "2021-10-03T17:41:05.376Z"
   },
   {
    "duration": 574,
    "start_time": "2021-10-06T07:55:05.029Z"
   },
   {
    "duration": 6,
    "start_time": "2021-10-06T07:55:05.605Z"
   },
   {
    "duration": 3,
    "start_time": "2021-10-06T07:55:14.685Z"
   },
   {
    "duration": 406,
    "start_time": "2021-10-06T07:55:15.522Z"
   },
   {
    "duration": 67,
    "start_time": "2021-10-06T07:55:15.929Z"
   },
   {
    "duration": 840,
    "start_time": "2021-10-07T07:54:04.647Z"
   },
   {
    "duration": 10,
    "start_time": "2021-10-07T07:54:05.490Z"
   },
   {
    "duration": 4,
    "start_time": "2021-10-07T07:54:05.544Z"
   },
   {
    "duration": 391,
    "start_time": "2021-10-07T07:54:06.237Z"
   },
   {
    "duration": 293,
    "start_time": "2021-10-07T07:54:06.654Z"
   },
   {
    "duration": 645,
    "start_time": "2022-03-06T19:02:14.984Z"
   },
   {
    "duration": 6,
    "start_time": "2022-03-06T19:02:16.260Z"
   },
   {
    "duration": 2,
    "start_time": "2022-03-06T19:02:18.652Z"
   },
   {
    "duration": 575,
    "start_time": "2022-03-06T19:02:21.420Z"
   },
   {
    "duration": 296,
    "start_time": "2022-03-06T19:02:25.289Z"
   },
   {
    "duration": 556,
    "start_time": "2022-03-06T19:12:49.388Z"
   },
   {
    "duration": 3373,
    "start_time": "2022-03-06T19:13:19.181Z"
   },
   {
    "duration": 5387,
    "start_time": "2022-03-06T19:16:19.825Z"
   },
   {
    "duration": 4941,
    "start_time": "2022-03-06T19:17:44.357Z"
   },
   {
    "duration": 937,
    "start_time": "2022-03-06T20:17:46.008Z"
   },
   {
    "duration": 842,
    "start_time": "2022-03-06T20:19:05.106Z"
   },
   {
    "duration": 2,
    "start_time": "2022-03-06T20:19:11.037Z"
   },
   {
    "duration": 3,
    "start_time": "2022-03-06T20:19:11.533Z"
   },
   {
    "duration": 871,
    "start_time": "2022-03-06T20:19:12.352Z"
   },
   {
    "duration": 4598,
    "start_time": "2022-03-06T20:19:25.197Z"
   },
   {
    "duration": 6827,
    "start_time": "2022-03-06T20:19:41.898Z"
   },
   {
    "duration": 1306,
    "start_time": "2022-03-06T20:21:21.464Z"
   },
   {
    "duration": 594,
    "start_time": "2022-03-06T20:23:12.348Z"
   },
   {
    "duration": 596,
    "start_time": "2022-03-06T20:23:20.311Z"
   },
   {
    "duration": 1628,
    "start_time": "2022-03-06T20:24:05.942Z"
   },
   {
    "duration": 1690,
    "start_time": "2022-03-06T20:24:40.844Z"
   },
   {
    "duration": 1890,
    "start_time": "2022-03-06T20:25:07.153Z"
   },
   {
    "duration": 2690,
    "start_time": "2022-03-06T20:42:14.290Z"
   },
   {
    "duration": 649,
    "start_time": "2022-03-06T20:46:08.888Z"
   },
   {
    "duration": 3080,
    "start_time": "2022-03-06T20:46:23.243Z"
   },
   {
    "duration": 606,
    "start_time": "2022-03-06T20:57:52.134Z"
   },
   {
    "duration": 5616,
    "start_time": "2022-03-06T21:03:54.390Z"
   },
   {
    "duration": 626,
    "start_time": "2022-03-06T21:05:28.966Z"
   },
   {
    "duration": 12,
    "start_time": "2022-03-06T21:05:29.594Z"
   },
   {
    "duration": 5843,
    "start_time": "2022-03-06T21:05:29.609Z"
   },
   {
    "duration": 7757,
    "start_time": "2022-03-06T21:05:35.453Z"
   },
   {
    "duration": 5694,
    "start_time": "2022-03-06T21:13:04.499Z"
   },
   {
    "duration": 628,
    "start_time": "2022-03-06T21:44:02.723Z"
   },
   {
    "duration": 6,
    "start_time": "2022-03-06T21:44:03.353Z"
   },
   {
    "duration": 703,
    "start_time": "2022-03-06T21:44:03.361Z"
   },
   {
    "duration": -40,
    "start_time": "2022-03-06T21:44:04.105Z"
   },
   {
    "duration": 6016,
    "start_time": "2022-03-06T21:46:00.097Z"
   },
   {
    "duration": 6148,
    "start_time": "2022-03-06T21:46:25.505Z"
   },
   {
    "duration": 5978,
    "start_time": "2022-03-06T21:46:54.283Z"
   },
   {
    "duration": 613,
    "start_time": "2022-03-06T21:52:22.723Z"
   },
   {
    "duration": 7,
    "start_time": "2022-03-06T21:52:23.338Z"
   },
   {
    "duration": 6110,
    "start_time": "2022-03-06T21:52:23.349Z"
   },
   {
    "duration": 7866,
    "start_time": "2022-03-06T21:52:29.461Z"
   },
   {
    "duration": 487,
    "start_time": "2022-03-06T22:03:00.781Z"
   },
   {
    "duration": 779,
    "start_time": "2022-03-07T03:57:53.172Z"
   },
   {
    "duration": 19,
    "start_time": "2022-03-07T03:57:53.953Z"
   },
   {
    "duration": 7432,
    "start_time": "2022-03-07T03:57:53.975Z"
   },
   {
    "duration": 10790,
    "start_time": "2022-03-07T03:58:01.409Z"
   },
   {
    "duration": 83,
    "start_time": "2022-03-07T11:55:50.544Z"
   },
   {
    "duration": 628,
    "start_time": "2022-03-07T16:03:15.125Z"
   },
   {
    "duration": 5,
    "start_time": "2022-03-07T16:03:15.755Z"
   },
   {
    "duration": 5526,
    "start_time": "2022-03-07T16:03:15.764Z"
   },
   {
    "duration": 6977,
    "start_time": "2022-03-07T16:03:21.292Z"
   }
  ],
  "kernelspec": {
   "display_name": "Python 3 (ipykernel)",
   "language": "python",
   "name": "python3"
  },
  "language_info": {
   "codemirror_mode": {
    "name": "ipython",
    "version": 3
   },
   "file_extension": ".py",
   "mimetype": "text/x-python",
   "name": "python",
   "nbconvert_exporter": "python",
   "pygments_lexer": "ipython3",
   "version": "3.9.7"
  },
  "toc": {
   "base_numbering": 1,
   "nav_menu": {},
   "number_sections": true,
   "sideBar": true,
   "skip_h1_title": true,
   "title_cell": "Table of Contents",
   "title_sidebar": "Contents",
   "toc_cell": false,
   "toc_position": {},
   "toc_section_display": true,
   "toc_window_display": false
  }
 },
 "nbformat": 4,
 "nbformat_minor": 5
}
