{
 "cells": [
  {
   "cell_type": "markdown",
   "metadata": {
    "id": "sIfNaMOxgFyK"
   },
   "source": [
    "## Исследование данных о российском кинопрокате\n",
    "\n",
    "Заказчик  исследования — Министерство культуры Российской Федерации.\n",
    "\n",
    "Необходимо изучить рынок российского кинопроката и выявить текущие тренды. Рассмотрим фильмы, которые получили государственную поддержку. Попробуем ответить на вопрос, насколько такие фильмы интересны зрителю.\n",
    "\n",
    "Данные, опубликованными на портале открытых данных Министерства культуры. Набор данных содержит информацию о прокатных удостоверениях, сборах и государственной поддержке фильмов, а также информацию с сайта КиноПоиск.\n",
    "\n",
    "**Цель исследования** - провести исследовательский анализ\n",
    "\n",
    "**Ход исследования**\n",
    "\n",
    "Данные получены из файлов:\n",
    "- mkrf_movies.csv — данные о прокатных удостоверениях.\n",
    "- mkrf_shows.csv — данные о прокате в российских кинотеатрах.\n",
    "\n",
    "Исследование пройдет в 5 этапов:\n",
    "1. Объединение файлов в один датафрейм\n",
    "2. Предобработка данных\n",
    "3. Исследовательский анализ\n",
    "4. Анализ фильмов с гос. поддержкой\n",
    "5. Вывод\n",
    "\n",
    "### Шаг 1. Объединение файлов"
   ]
  },
  {
   "cell_type": "code",
   "execution_count": 84,
   "metadata": {
    "id": "dw87FlzMgFyM"
   },
   "outputs": [],
   "source": [
    "import pandas as pd\n",
    "import numpy as np\n",
    "import matplotlib.pyplot as plt\n",
    "\n",
    "import warnings\n",
    "warnings.filterwarnings(\"ignore\")"
   ]
  },
  {
   "cell_type": "code",
   "execution_count": 85,
   "metadata": {},
   "outputs": [],
   "source": [
    "data_of_certificate = pd.read_csv('/datasets/mkrf_movies.csv')\n",
    "data_of_cinema = pd.read_csv('/datasets/mkrf_shows.csv')"
   ]
  },
  {
   "cell_type": "code",
   "execution_count": 86,
   "metadata": {},
   "outputs": [
    {
     "data": {
      "text/html": [
       "<div>\n",
       "<style scoped>\n",
       "    .dataframe tbody tr th:only-of-type {\n",
       "        vertical-align: middle;\n",
       "    }\n",
       "\n",
       "    .dataframe tbody tr th {\n",
       "        vertical-align: top;\n",
       "    }\n",
       "\n",
       "    .dataframe thead th {\n",
       "        text-align: right;\n",
       "    }\n",
       "</style>\n",
       "<table border=\"1\" class=\"dataframe\">\n",
       "  <thead>\n",
       "    <tr style=\"text-align: right;\">\n",
       "      <th></th>\n",
       "      <th>title</th>\n",
       "      <th>puNumber</th>\n",
       "      <th>show_start_date</th>\n",
       "      <th>type</th>\n",
       "      <th>film_studio</th>\n",
       "      <th>production_country</th>\n",
       "      <th>director</th>\n",
       "      <th>producer</th>\n",
       "      <th>age_restriction</th>\n",
       "      <th>refundable_support</th>\n",
       "      <th>nonrefundable_support</th>\n",
       "      <th>budget</th>\n",
       "      <th>financing_source</th>\n",
       "      <th>ratings</th>\n",
       "      <th>genres</th>\n",
       "    </tr>\n",
       "  </thead>\n",
       "  <tbody>\n",
       "    <tr>\n",
       "      <td>0</td>\n",
       "      <td>Открытый простор</td>\n",
       "      <td>221048915</td>\n",
       "      <td>2015-11-27T12:00:00.000Z</td>\n",
       "      <td>Художественный</td>\n",
       "      <td>Тачстоун Пикчерз, Кобальт Пикчерз, Бикон Пикче...</td>\n",
       "      <td>США</td>\n",
       "      <td>Кевин Костнер</td>\n",
       "      <td>Дэвид Валдес, Кевин Костнер, Джейк Эбертс</td>\n",
       "      <td>«18+» - запрещено для детей</td>\n",
       "      <td>NaN</td>\n",
       "      <td>NaN</td>\n",
       "      <td>NaN</td>\n",
       "      <td>NaN</td>\n",
       "      <td>7.2</td>\n",
       "      <td>боевик,драма,мелодрама</td>\n",
       "    </tr>\n",
       "    <tr>\n",
       "      <td>1</td>\n",
       "      <td>Особо важное задание</td>\n",
       "      <td>111013716</td>\n",
       "      <td>2016-09-13T12:00:00.000Z</td>\n",
       "      <td>Художественный</td>\n",
       "      <td>Киностудия \"Мосфильм\"</td>\n",
       "      <td>СССР</td>\n",
       "      <td>Е.Матвеев</td>\n",
       "      <td>NaN</td>\n",
       "      <td>«6+» - для детей старше 6 лет</td>\n",
       "      <td>NaN</td>\n",
       "      <td>NaN</td>\n",
       "      <td>NaN</td>\n",
       "      <td>NaN</td>\n",
       "      <td>6.6</td>\n",
       "      <td>драма,военный</td>\n",
       "    </tr>\n",
       "    <tr>\n",
       "      <td>2</td>\n",
       "      <td>Особо опасен</td>\n",
       "      <td>221038416</td>\n",
       "      <td>2016-10-10T12:00:00.000Z</td>\n",
       "      <td>Художественный</td>\n",
       "      <td>Юниверсал Пикчерз, Кикстарт Продакшнз, Марк Пл...</td>\n",
       "      <td>США</td>\n",
       "      <td>Тимур Бекмамбетов</td>\n",
       "      <td>Джим Лемли, Джейсон Нетер, Марк Е.Платт, Яйн Смит</td>\n",
       "      <td>«18+» - запрещено для детей</td>\n",
       "      <td>NaN</td>\n",
       "      <td>NaN</td>\n",
       "      <td>NaN</td>\n",
       "      <td>NaN</td>\n",
       "      <td>6.8</td>\n",
       "      <td>фантастика,боевик,триллер</td>\n",
       "    </tr>\n",
       "    <tr>\n",
       "      <td>3</td>\n",
       "      <td>Особо опасен</td>\n",
       "      <td>221026916</td>\n",
       "      <td>2016-06-10T12:00:00.000Z</td>\n",
       "      <td>Художественный</td>\n",
       "      <td>Юниверсал Пикчерз, Кикстарт Продакшнз, Марк Пл...</td>\n",
       "      <td>США</td>\n",
       "      <td>Тимур Бекмамбетов</td>\n",
       "      <td>Джим Лемли, Джейсон Нетер, Марк Е.Платт, Яйн Смит</td>\n",
       "      <td>«18+» - запрещено для детей</td>\n",
       "      <td>NaN</td>\n",
       "      <td>NaN</td>\n",
       "      <td>NaN</td>\n",
       "      <td>NaN</td>\n",
       "      <td>6.8</td>\n",
       "      <td>фантастика,боевик,триллер</td>\n",
       "    </tr>\n",
       "    <tr>\n",
       "      <td>4</td>\n",
       "      <td>Особо опасен</td>\n",
       "      <td>221030815</td>\n",
       "      <td>2015-07-29T12:00:00.000Z</td>\n",
       "      <td>Художественный</td>\n",
       "      <td>Юниверсал Пикчерз, Кикстарт Продакшнз, Марк Пл...</td>\n",
       "      <td>США</td>\n",
       "      <td>Тимур Бекмамбетов</td>\n",
       "      <td>Джим Лемли, Джейсон Нетер, Марк Е.Платт, Яйн Смит</td>\n",
       "      <td>«18+» - запрещено для детей</td>\n",
       "      <td>NaN</td>\n",
       "      <td>NaN</td>\n",
       "      <td>NaN</td>\n",
       "      <td>NaN</td>\n",
       "      <td>6.8</td>\n",
       "      <td>фантастика,боевик,триллер</td>\n",
       "    </tr>\n",
       "  </tbody>\n",
       "</table>\n",
       "</div>"
      ],
      "text/plain": [
       "                  title   puNumber           show_start_date            type  \\\n",
       "0      Открытый простор  221048915  2015-11-27T12:00:00.000Z  Художественный   \n",
       "1  Особо важное задание  111013716  2016-09-13T12:00:00.000Z  Художественный   \n",
       "2          Особо опасен  221038416  2016-10-10T12:00:00.000Z  Художественный   \n",
       "3          Особо опасен  221026916  2016-06-10T12:00:00.000Z  Художественный   \n",
       "4          Особо опасен  221030815  2015-07-29T12:00:00.000Z  Художественный   \n",
       "\n",
       "                                         film_studio production_country  \\\n",
       "0  Тачстоун Пикчерз, Кобальт Пикчерз, Бикон Пикче...                США   \n",
       "1                              Киностудия \"Мосфильм\"               СССР   \n",
       "2  Юниверсал Пикчерз, Кикстарт Продакшнз, Марк Пл...                США   \n",
       "3  Юниверсал Пикчерз, Кикстарт Продакшнз, Марк Пл...                США   \n",
       "4  Юниверсал Пикчерз, Кикстарт Продакшнз, Марк Пл...                США   \n",
       "\n",
       "            director                                           producer  \\\n",
       "0      Кевин Костнер          Дэвид Валдес, Кевин Костнер, Джейк Эбертс   \n",
       "1          Е.Матвеев                                                NaN   \n",
       "2  Тимур Бекмамбетов  Джим Лемли, Джейсон Нетер, Марк Е.Платт, Яйн Смит   \n",
       "3  Тимур Бекмамбетов  Джим Лемли, Джейсон Нетер, Марк Е.Платт, Яйн Смит   \n",
       "4  Тимур Бекмамбетов  Джим Лемли, Джейсон Нетер, Марк Е.Платт, Яйн Смит   \n",
       "\n",
       "                 age_restriction  refundable_support  nonrefundable_support  \\\n",
       "0    «18+» - запрещено для детей                 NaN                    NaN   \n",
       "1  «6+» - для детей старше 6 лет                 NaN                    NaN   \n",
       "2    «18+» - запрещено для детей                 NaN                    NaN   \n",
       "3    «18+» - запрещено для детей                 NaN                    NaN   \n",
       "4    «18+» - запрещено для детей                 NaN                    NaN   \n",
       "\n",
       "   budget financing_source ratings                     genres  \n",
       "0     NaN              NaN     7.2     боевик,драма,мелодрама  \n",
       "1     NaN              NaN     6.6              драма,военный  \n",
       "2     NaN              NaN     6.8  фантастика,боевик,триллер  \n",
       "3     NaN              NaN     6.8  фантастика,боевик,триллер  \n",
       "4     NaN              NaN     6.8  фантастика,боевик,триллер  "
      ]
     },
     "metadata": {},
     "output_type": "display_data"
    },
    {
     "data": {
      "text/html": [
       "<div>\n",
       "<style scoped>\n",
       "    .dataframe tbody tr th:only-of-type {\n",
       "        vertical-align: middle;\n",
       "    }\n",
       "\n",
       "    .dataframe tbody tr th {\n",
       "        vertical-align: top;\n",
       "    }\n",
       "\n",
       "    .dataframe thead th {\n",
       "        text-align: right;\n",
       "    }\n",
       "</style>\n",
       "<table border=\"1\" class=\"dataframe\">\n",
       "  <thead>\n",
       "    <tr style=\"text-align: right;\">\n",
       "      <th></th>\n",
       "      <th>puNumber</th>\n",
       "      <th>box_office</th>\n",
       "    </tr>\n",
       "  </thead>\n",
       "  <tbody>\n",
       "    <tr>\n",
       "      <td>0</td>\n",
       "      <td>111000113</td>\n",
       "      <td>2.450000e+03</td>\n",
       "    </tr>\n",
       "    <tr>\n",
       "      <td>1</td>\n",
       "      <td>111000115</td>\n",
       "      <td>6.104000e+04</td>\n",
       "    </tr>\n",
       "    <tr>\n",
       "      <td>2</td>\n",
       "      <td>111000116</td>\n",
       "      <td>1.530300e+08</td>\n",
       "    </tr>\n",
       "    <tr>\n",
       "      <td>3</td>\n",
       "      <td>111000117</td>\n",
       "      <td>1.226096e+07</td>\n",
       "    </tr>\n",
       "    <tr>\n",
       "      <td>4</td>\n",
       "      <td>111000118</td>\n",
       "      <td>1.636841e+08</td>\n",
       "    </tr>\n",
       "  </tbody>\n",
       "</table>\n",
       "</div>"
      ],
      "text/plain": [
       "    puNumber    box_office\n",
       "0  111000113  2.450000e+03\n",
       "1  111000115  6.104000e+04\n",
       "2  111000116  1.530300e+08\n",
       "3  111000117  1.226096e+07\n",
       "4  111000118  1.636841e+08"
      ]
     },
     "metadata": {},
     "output_type": "display_data"
    },
    {
     "name": "stdout",
     "output_type": "stream",
     "text": [
      "<class 'pandas.core.frame.DataFrame'>\n",
      "RangeIndex: 7486 entries, 0 to 7485\n",
      "Data columns (total 15 columns):\n",
      "title                    7486 non-null object\n",
      "puNumber                 7486 non-null object\n",
      "show_start_date          7486 non-null object\n",
      "type                     7486 non-null object\n",
      "film_studio              7468 non-null object\n",
      "production_country       7484 non-null object\n",
      "director                 7477 non-null object\n",
      "producer                 6918 non-null object\n",
      "age_restriction          7486 non-null object\n",
      "refundable_support       332 non-null float64\n",
      "nonrefundable_support    332 non-null float64\n",
      "budget                   332 non-null float64\n",
      "financing_source         332 non-null object\n",
      "ratings                  6519 non-null object\n",
      "genres                   6510 non-null object\n",
      "dtypes: float64(3), object(12)\n",
      "memory usage: 877.4+ KB\n"
     ]
    },
    {
     "data": {
      "text/plain": [
       "None"
      ]
     },
     "metadata": {},
     "output_type": "display_data"
    },
    {
     "name": "stdout",
     "output_type": "stream",
     "text": [
      "<class 'pandas.core.frame.DataFrame'>\n",
      "RangeIndex: 3158 entries, 0 to 3157\n",
      "Data columns (total 2 columns):\n",
      "puNumber      3158 non-null int64\n",
      "box_office    3158 non-null float64\n",
      "dtypes: float64(1), int64(1)\n",
      "memory usage: 49.5 KB\n"
     ]
    },
    {
     "data": {
      "text/plain": [
       "None"
      ]
     },
     "metadata": {},
     "output_type": "display_data"
    }
   ],
   "source": [
    "display(data_of_certificate.head())\n",
    "display(data_of_cinema.head())\n",
    "display(data_of_certificate.info())\n",
    "display(data_of_cinema.info())"
   ]
  },
  {
   "cell_type": "markdown",
   "metadata": {},
   "source": [
    "Соединять будем по столбцу puNumber, но в данных о прокатных удостоверениях этот столбец имеет тип object, а это значит что по мимо цифр там могут быть и буквы, которых явно нет во второй таблице."
   ]
  },
  {
   "cell_type": "code",
   "execution_count": 87,
   "metadata": {},
   "outputs": [
    {
     "name": "stdout",
     "output_type": "stream",
     "text": [
      "804 |  111004112\n",
      "1797 | нет\n"
     ]
    }
   ],
   "source": [
    "for value in range(len(data_of_certificate)):\n",
    "    if data_of_certificate['puNumber'][value].isdigit() == False:\n",
    "        print(value,'|', data_of_certificate['puNumber'][value])"
   ]
  },
  {
   "cell_type": "code",
   "execution_count": 89,
   "metadata": {},
   "outputs": [
    {
     "data": {
      "text/html": [
       "<div>\n",
       "<style scoped>\n",
       "    .dataframe tbody tr th:only-of-type {\n",
       "        vertical-align: middle;\n",
       "    }\n",
       "\n",
       "    .dataframe tbody tr th {\n",
       "        vertical-align: top;\n",
       "    }\n",
       "\n",
       "    .dataframe thead th {\n",
       "        text-align: right;\n",
       "    }\n",
       "</style>\n",
       "<table border=\"1\" class=\"dataframe\">\n",
       "  <thead>\n",
       "    <tr style=\"text-align: right;\">\n",
       "      <th></th>\n",
       "      <th>title</th>\n",
       "      <th>puNumber</th>\n",
       "      <th>show_start_date</th>\n",
       "      <th>type</th>\n",
       "      <th>film_studio</th>\n",
       "      <th>production_country</th>\n",
       "      <th>director</th>\n",
       "      <th>producer</th>\n",
       "      <th>age_restriction</th>\n",
       "      <th>refundable_support</th>\n",
       "      <th>nonrefundable_support</th>\n",
       "      <th>budget</th>\n",
       "      <th>financing_source</th>\n",
       "      <th>ratings</th>\n",
       "      <th>genres</th>\n",
       "    </tr>\n",
       "  </thead>\n",
       "  <tbody>\n",
       "    <tr>\n",
       "      <td>804</td>\n",
       "      <td>Паранормальный Якутск</td>\n",
       "      <td>111004112</td>\n",
       "      <td>2012-08-24T12:00:00.000Z</td>\n",
       "      <td>Художественный</td>\n",
       "      <td>ИП Тимофеев К.П.</td>\n",
       "      <td>Россия</td>\n",
       "      <td>К.Тимофеев</td>\n",
       "      <td>NaN</td>\n",
       "      <td>«16+» - для детей старше 16 лет</td>\n",
       "      <td>NaN</td>\n",
       "      <td>NaN</td>\n",
       "      <td>NaN</td>\n",
       "      <td>NaN</td>\n",
       "      <td>NaN</td>\n",
       "      <td>NaN</td>\n",
       "    </tr>\n",
       "    <tr>\n",
       "      <td>1797</td>\n",
       "      <td>Курбан-роман. (История с жертвой)</td>\n",
       "      <td>нет</td>\n",
       "      <td>2014-05-15T12:00:00.000Z</td>\n",
       "      <td>Художественный</td>\n",
       "      <td>ФОНД \"ИННОВАЦИЯ\"</td>\n",
       "      <td>Россия</td>\n",
       "      <td>С.Юзеев</td>\n",
       "      <td>М.Галицкая</td>\n",
       "      <td>«12+» - для детей старше 12 лет</td>\n",
       "      <td>NaN</td>\n",
       "      <td>NaN</td>\n",
       "      <td>NaN</td>\n",
       "      <td>NaN</td>\n",
       "      <td>NaN</td>\n",
       "      <td>NaN</td>\n",
       "    </tr>\n",
       "  </tbody>\n",
       "</table>\n",
       "</div>"
      ],
      "text/plain": [
       "                                  title    puNumber           show_start_date  \\\n",
       "804               Паранормальный Якутск   111004112  2012-08-24T12:00:00.000Z   \n",
       "1797  Курбан-роман. (История с жертвой)         нет  2014-05-15T12:00:00.000Z   \n",
       "\n",
       "                type       film_studio production_country    director  \\\n",
       "804   Художественный  ИП Тимофеев К.П.             Россия  К.Тимофеев   \n",
       "1797  Художественный  ФОНД \"ИННОВАЦИЯ\"             Россия     С.Юзеев   \n",
       "\n",
       "        producer                  age_restriction  refundable_support  \\\n",
       "804          NaN  «16+» - для детей старше 16 лет                 NaN   \n",
       "1797  М.Галицкая  «12+» - для детей старше 12 лет                 NaN   \n",
       "\n",
       "      nonrefundable_support  budget financing_source ratings genres  \n",
       "804                     NaN     NaN              NaN     NaN    NaN  \n",
       "1797                    NaN     NaN              NaN     NaN    NaN  "
      ]
     },
     "metadata": {},
     "output_type": "display_data"
    }
   ],
   "source": [
    "display(data_of_certificate[data_of_certificate['puNumber'].str.isnumeric() == False])"
   ]
  },
  {
   "cell_type": "code",
   "execution_count": 90,
   "metadata": {},
   "outputs": [
    {
     "data": {
      "text/plain": [
       "title                    Курбан-роман. (История с жертвой)\n",
       "puNumber                                               нет\n",
       "show_start_date                   2014-05-15T12:00:00.000Z\n",
       "type                                        Художественный\n",
       "film_studio                               ФОНД \"ИННОВАЦИЯ\"\n",
       "production_country                                  Россия\n",
       "director                                           С.Юзеев\n",
       "producer                                        М.Галицкая\n",
       "age_restriction            «12+» - для детей старше 12 лет\n",
       "refundable_support                                     NaN\n",
       "nonrefundable_support                                  NaN\n",
       "budget                                                 NaN\n",
       "financing_source                                       NaN\n",
       "ratings                                                NaN\n",
       "genres                                                 NaN\n",
       "Name: 1797, dtype: object"
      ]
     },
     "metadata": {},
     "output_type": "display_data"
    }
   ],
   "source": [
    "display(data_of_certificate.loc[1797])"
   ]
  },
  {
   "cell_type": "code",
   "execution_count": 91,
   "metadata": {},
   "outputs": [],
   "source": [
    "data_of_certificate['puNumber'][1797] = -1\n",
    "data_of_certificate['puNumber'] = data_of_certificate['puNumber'].astype('int')"
   ]
  },
  {
   "cell_type": "markdown",
   "metadata": {},
   "source": [
    "Объединим таблицы"
   ]
  },
  {
   "cell_type": "code",
   "execution_count": 92,
   "metadata": {},
   "outputs": [],
   "source": [
    "main_df = data_of_certificate.merge(data_of_cinema, on='puNumber', how='outer')"
   ]
  },
  {
   "cell_type": "code",
   "execution_count": 93,
   "metadata": {
    "scrolled": true
   },
   "outputs": [
    {
     "data": {
      "text/html": [
       "<div>\n",
       "<style scoped>\n",
       "    .dataframe tbody tr th:only-of-type {\n",
       "        vertical-align: middle;\n",
       "    }\n",
       "\n",
       "    .dataframe tbody tr th {\n",
       "        vertical-align: top;\n",
       "    }\n",
       "\n",
       "    .dataframe thead th {\n",
       "        text-align: right;\n",
       "    }\n",
       "</style>\n",
       "<table border=\"1\" class=\"dataframe\">\n",
       "  <thead>\n",
       "    <tr style=\"text-align: right;\">\n",
       "      <th></th>\n",
       "      <th>title</th>\n",
       "      <th>puNumber</th>\n",
       "      <th>show_start_date</th>\n",
       "      <th>type</th>\n",
       "      <th>film_studio</th>\n",
       "      <th>production_country</th>\n",
       "      <th>director</th>\n",
       "      <th>producer</th>\n",
       "      <th>age_restriction</th>\n",
       "      <th>refundable_support</th>\n",
       "      <th>nonrefundable_support</th>\n",
       "      <th>budget</th>\n",
       "      <th>financing_source</th>\n",
       "      <th>ratings</th>\n",
       "      <th>genres</th>\n",
       "      <th>box_office</th>\n",
       "    </tr>\n",
       "  </thead>\n",
       "  <tbody>\n",
       "    <tr>\n",
       "      <td>0</td>\n",
       "      <td>Открытый простор</td>\n",
       "      <td>221048915</td>\n",
       "      <td>2015-11-27T12:00:00.000Z</td>\n",
       "      <td>Художественный</td>\n",
       "      <td>Тачстоун Пикчерз, Кобальт Пикчерз, Бикон Пикче...</td>\n",
       "      <td>США</td>\n",
       "      <td>Кевин Костнер</td>\n",
       "      <td>Дэвид Валдес, Кевин Костнер, Джейк Эбертс</td>\n",
       "      <td>«18+» - запрещено для детей</td>\n",
       "      <td>NaN</td>\n",
       "      <td>NaN</td>\n",
       "      <td>NaN</td>\n",
       "      <td>NaN</td>\n",
       "      <td>7.2</td>\n",
       "      <td>боевик,драма,мелодрама</td>\n",
       "      <td>NaN</td>\n",
       "    </tr>\n",
       "    <tr>\n",
       "      <td>1</td>\n",
       "      <td>Особо важное задание</td>\n",
       "      <td>111013716</td>\n",
       "      <td>2016-09-13T12:00:00.000Z</td>\n",
       "      <td>Художественный</td>\n",
       "      <td>Киностудия \"Мосфильм\"</td>\n",
       "      <td>СССР</td>\n",
       "      <td>Е.Матвеев</td>\n",
       "      <td>NaN</td>\n",
       "      <td>«6+» - для детей старше 6 лет</td>\n",
       "      <td>NaN</td>\n",
       "      <td>NaN</td>\n",
       "      <td>NaN</td>\n",
       "      <td>NaN</td>\n",
       "      <td>6.6</td>\n",
       "      <td>драма,военный</td>\n",
       "      <td>NaN</td>\n",
       "    </tr>\n",
       "    <tr>\n",
       "      <td>2</td>\n",
       "      <td>Особо опасен</td>\n",
       "      <td>221038416</td>\n",
       "      <td>2016-10-10T12:00:00.000Z</td>\n",
       "      <td>Художественный</td>\n",
       "      <td>Юниверсал Пикчерз, Кикстарт Продакшнз, Марк Пл...</td>\n",
       "      <td>США</td>\n",
       "      <td>Тимур Бекмамбетов</td>\n",
       "      <td>Джим Лемли, Джейсон Нетер, Марк Е.Платт, Яйн Смит</td>\n",
       "      <td>«18+» - запрещено для детей</td>\n",
       "      <td>NaN</td>\n",
       "      <td>NaN</td>\n",
       "      <td>NaN</td>\n",
       "      <td>NaN</td>\n",
       "      <td>6.8</td>\n",
       "      <td>фантастика,боевик,триллер</td>\n",
       "      <td>NaN</td>\n",
       "    </tr>\n",
       "    <tr>\n",
       "      <td>3</td>\n",
       "      <td>Особо опасен</td>\n",
       "      <td>221026916</td>\n",
       "      <td>2016-06-10T12:00:00.000Z</td>\n",
       "      <td>Художественный</td>\n",
       "      <td>Юниверсал Пикчерз, Кикстарт Продакшнз, Марк Пл...</td>\n",
       "      <td>США</td>\n",
       "      <td>Тимур Бекмамбетов</td>\n",
       "      <td>Джим Лемли, Джейсон Нетер, Марк Е.Платт, Яйн Смит</td>\n",
       "      <td>«18+» - запрещено для детей</td>\n",
       "      <td>NaN</td>\n",
       "      <td>NaN</td>\n",
       "      <td>NaN</td>\n",
       "      <td>NaN</td>\n",
       "      <td>6.8</td>\n",
       "      <td>фантастика,боевик,триллер</td>\n",
       "      <td>NaN</td>\n",
       "    </tr>\n",
       "    <tr>\n",
       "      <td>4</td>\n",
       "      <td>Особо опасен</td>\n",
       "      <td>221030815</td>\n",
       "      <td>2015-07-29T12:00:00.000Z</td>\n",
       "      <td>Художественный</td>\n",
       "      <td>Юниверсал Пикчерз, Кикстарт Продакшнз, Марк Пл...</td>\n",
       "      <td>США</td>\n",
       "      <td>Тимур Бекмамбетов</td>\n",
       "      <td>Джим Лемли, Джейсон Нетер, Марк Е.Платт, Яйн Смит</td>\n",
       "      <td>«18+» - запрещено для детей</td>\n",
       "      <td>NaN</td>\n",
       "      <td>NaN</td>\n",
       "      <td>NaN</td>\n",
       "      <td>NaN</td>\n",
       "      <td>6.8</td>\n",
       "      <td>фантастика,боевик,триллер</td>\n",
       "      <td>NaN</td>\n",
       "    </tr>\n",
       "  </tbody>\n",
       "</table>\n",
       "</div>"
      ],
      "text/plain": [
       "                  title   puNumber           show_start_date            type  \\\n",
       "0      Открытый простор  221048915  2015-11-27T12:00:00.000Z  Художественный   \n",
       "1  Особо важное задание  111013716  2016-09-13T12:00:00.000Z  Художественный   \n",
       "2          Особо опасен  221038416  2016-10-10T12:00:00.000Z  Художественный   \n",
       "3          Особо опасен  221026916  2016-06-10T12:00:00.000Z  Художественный   \n",
       "4          Особо опасен  221030815  2015-07-29T12:00:00.000Z  Художественный   \n",
       "\n",
       "                                         film_studio production_country  \\\n",
       "0  Тачстоун Пикчерз, Кобальт Пикчерз, Бикон Пикче...                США   \n",
       "1                              Киностудия \"Мосфильм\"               СССР   \n",
       "2  Юниверсал Пикчерз, Кикстарт Продакшнз, Марк Пл...                США   \n",
       "3  Юниверсал Пикчерз, Кикстарт Продакшнз, Марк Пл...                США   \n",
       "4  Юниверсал Пикчерз, Кикстарт Продакшнз, Марк Пл...                США   \n",
       "\n",
       "            director                                           producer  \\\n",
       "0      Кевин Костнер          Дэвид Валдес, Кевин Костнер, Джейк Эбертс   \n",
       "1          Е.Матвеев                                                NaN   \n",
       "2  Тимур Бекмамбетов  Джим Лемли, Джейсон Нетер, Марк Е.Платт, Яйн Смит   \n",
       "3  Тимур Бекмамбетов  Джим Лемли, Джейсон Нетер, Марк Е.Платт, Яйн Смит   \n",
       "4  Тимур Бекмамбетов  Джим Лемли, Джейсон Нетер, Марк Е.Платт, Яйн Смит   \n",
       "\n",
       "                 age_restriction  refundable_support  nonrefundable_support  \\\n",
       "0    «18+» - запрещено для детей                 NaN                    NaN   \n",
       "1  «6+» - для детей старше 6 лет                 NaN                    NaN   \n",
       "2    «18+» - запрещено для детей                 NaN                    NaN   \n",
       "3    «18+» - запрещено для детей                 NaN                    NaN   \n",
       "4    «18+» - запрещено для детей                 NaN                    NaN   \n",
       "\n",
       "   budget financing_source ratings                     genres  box_office  \n",
       "0     NaN              NaN     7.2     боевик,драма,мелодрама         NaN  \n",
       "1     NaN              NaN     6.6              драма,военный         NaN  \n",
       "2     NaN              NaN     6.8  фантастика,боевик,триллер         NaN  \n",
       "3     NaN              NaN     6.8  фантастика,боевик,триллер         NaN  \n",
       "4     NaN              NaN     6.8  фантастика,боевик,триллер         NaN  "
      ]
     },
     "metadata": {},
     "output_type": "display_data"
    },
    {
     "name": "stdout",
     "output_type": "stream",
     "text": [
      "<class 'pandas.core.frame.DataFrame'>\n",
      "Int64Index: 7486 entries, 0 to 7485\n",
      "Data columns (total 16 columns):\n",
      "title                    7486 non-null object\n",
      "puNumber                 7486 non-null int64\n",
      "show_start_date          7486 non-null object\n",
      "type                     7486 non-null object\n",
      "film_studio              7468 non-null object\n",
      "production_country       7484 non-null object\n",
      "director                 7477 non-null object\n",
      "producer                 6918 non-null object\n",
      "age_restriction          7486 non-null object\n",
      "refundable_support       332 non-null float64\n",
      "nonrefundable_support    332 non-null float64\n",
      "budget                   332 non-null float64\n",
      "financing_source         332 non-null object\n",
      "ratings                  6519 non-null object\n",
      "genres                   6510 non-null object\n",
      "box_office               3158 non-null float64\n",
      "dtypes: float64(4), int64(1), object(11)\n",
      "memory usage: 994.2+ KB\n"
     ]
    },
    {
     "data": {
      "text/plain": [
       "None"
      ]
     },
     "metadata": {},
     "output_type": "display_data"
    }
   ],
   "source": [
    "display(main_df.head())\n",
    "display(main_df.info())"
   ]
  },
  {
   "cell_type": "code",
   "execution_count": 94,
   "metadata": {},
   "outputs": [
    {
     "data": {
      "text/html": [
       "<div>\n",
       "<style scoped>\n",
       "    .dataframe tbody tr th:only-of-type {\n",
       "        vertical-align: middle;\n",
       "    }\n",
       "\n",
       "    .dataframe tbody tr th {\n",
       "        vertical-align: top;\n",
       "    }\n",
       "\n",
       "    .dataframe thead th {\n",
       "        text-align: right;\n",
       "    }\n",
       "</style>\n",
       "<table border=\"1\" class=\"dataframe\">\n",
       "  <thead>\n",
       "    <tr style=\"text-align: right;\">\n",
       "      <th></th>\n",
       "      <th>title</th>\n",
       "      <th>puNumber</th>\n",
       "      <th>show_start_date</th>\n",
       "      <th>type</th>\n",
       "      <th>film_studio</th>\n",
       "      <th>production_country</th>\n",
       "      <th>director</th>\n",
       "      <th>producer</th>\n",
       "      <th>age_restriction</th>\n",
       "      <th>refundable_support</th>\n",
       "      <th>nonrefundable_support</th>\n",
       "      <th>budget</th>\n",
       "      <th>financing_source</th>\n",
       "      <th>ratings</th>\n",
       "      <th>genres</th>\n",
       "      <th>box_office</th>\n",
       "    </tr>\n",
       "  </thead>\n",
       "  <tbody>\n",
       "    <tr>\n",
       "      <td>3186</td>\n",
       "      <td>Детский юмористический киножурнал \"Ералаш. Ну ...</td>\n",
       "      <td>111001216</td>\n",
       "      <td>2016-02-09T12:00:00.000Z</td>\n",
       "      <td>Художественный</td>\n",
       "      <td>ООО \"Продюсерский центр ЕРАЛАШ\"</td>\n",
       "      <td>NaN</td>\n",
       "      <td>Р.Светлов, И.Магитон, А.Арутюнян, Л.Мирский, А...</td>\n",
       "      <td>ООО \"Продюсерский центр ЕРАЛАШ\"</td>\n",
       "      <td>«0+» - для любой зрительской аудитории</td>\n",
       "      <td>NaN</td>\n",
       "      <td>NaN</td>\n",
       "      <td>NaN</td>\n",
       "      <td>NaN</td>\n",
       "      <td>7.2</td>\n",
       "      <td>детский,комедия</td>\n",
       "      <td>194527.0</td>\n",
       "    </tr>\n",
       "    <tr>\n",
       "      <td>4441</td>\n",
       "      <td>Мульт личности. Выпуск 5</td>\n",
       "      <td>214000410</td>\n",
       "      <td>2010-01-25T12:00:00.000Z</td>\n",
       "      <td>Художественный</td>\n",
       "      <td>NaN</td>\n",
       "      <td>NaN</td>\n",
       "      <td>NaN</td>\n",
       "      <td>NaN</td>\n",
       "      <td>«0+» - для любой зрительской аудитории</td>\n",
       "      <td>NaN</td>\n",
       "      <td>NaN</td>\n",
       "      <td>NaN</td>\n",
       "      <td>NaN</td>\n",
       "      <td>4.0</td>\n",
       "      <td>мультфильм,комедия</td>\n",
       "      <td>NaN</td>\n",
       "    </tr>\n",
       "  </tbody>\n",
       "</table>\n",
       "</div>"
      ],
      "text/plain": [
       "                                                  title   puNumber  \\\n",
       "3186  Детский юмористический киножурнал \"Ералаш. Ну ...  111001216   \n",
       "4441                           Мульт личности. Выпуск 5  214000410   \n",
       "\n",
       "               show_start_date            type  \\\n",
       "3186  2016-02-09T12:00:00.000Z  Художественный   \n",
       "4441  2010-01-25T12:00:00.000Z  Художественный   \n",
       "\n",
       "                          film_studio production_country  \\\n",
       "3186  ООО \"Продюсерский центр ЕРАЛАШ\"                NaN   \n",
       "4441                              NaN                NaN   \n",
       "\n",
       "                                               director  \\\n",
       "3186  Р.Светлов, И.Магитон, А.Арутюнян, Л.Мирский, А...   \n",
       "4441                                                NaN   \n",
       "\n",
       "                             producer                         age_restriction  \\\n",
       "3186  ООО \"Продюсерский центр ЕРАЛАШ\"  «0+» - для любой зрительской аудитории   \n",
       "4441                              NaN  «0+» - для любой зрительской аудитории   \n",
       "\n",
       "      refundable_support  nonrefundable_support  budget financing_source  \\\n",
       "3186                 NaN                    NaN     NaN              NaN   \n",
       "4441                 NaN                    NaN     NaN              NaN   \n",
       "\n",
       "     ratings              genres  box_office  \n",
       "3186     7.2     детский,комедия    194527.0  \n",
       "4441     4.0  мультфильм,комедия         NaN  "
      ]
     },
     "metadata": {},
     "output_type": "display_data"
    }
   ],
   "source": [
    "display(main_df[main_df['production_country'].isna() == True].head())# явно Россея"
   ]
  },
  {
   "cell_type": "code",
   "execution_count": 95,
   "metadata": {},
   "outputs": [
    {
     "name": "stdout",
     "output_type": "stream",
     "text": [
      "\n",
      " ['Художественный' 'Анимационный' 'Прочие' 'Документальный'\n",
      " 'Научно-популярный' ' Художественный' ' Анимационный'\n",
      " 'Музыкально-развлекательный']\n",
      "\n",
      " ['7.2' '6.6' '6.8' '7.7' '8.3' '8.0' '7.8' '8.1' '7.1' '6.0' '7.4' '5.8'\n",
      " '8.7' '6.3' '6.9' '5.0' '4.3' '7.3' '7.0' '6.4' nan '8.2' '7.5' '6.7'\n",
      " '7.9' '5.9' '6.2' '5.6' '6.5' '2.4' '7.6' '6.1' '8.6' '8.5' '8.8' '5.5'\n",
      " '5.1' '5.7' '5.4' '99%' '4.4' '4.5' '5.3' '4.1' '8.4' '2.6' '3.8' '4.6'\n",
      " '4.8' '4.0' '3.0' '1.6' '4.2' '5.2' '4.7' '4.9' '3.9' '2.7' '3.3' '2.9'\n",
      " '28%' '3.7' '1.4' '3.1' '97%' '3.5' '3.2' '2.8' '1.5' '2.1' '2.5' '9.2'\n",
      " '3.4' '1.1' '3.6' '83%' '64%' '91%' '94%' '62%' '79%' '90%' '19%' '88%'\n",
      " '1.0' '89%' '1.3' '1.9' '1.8' '1.2' '1.7' '9.0' '98%' '8.9' '9.1']\n"
     ]
    }
   ],
   "source": [
    "#print('\\n',main_df['age_restriction'].unique())\n",
    "print('\\n',main_df['type'].unique())\n",
    "#print('\\n',main_df['production_country'].unique())\n",
    "print('\\n',main_df['ratings'].unique())\n",
    "#print('\\n',main_df['genres'].unique())"
   ]
  },
  {
   "cell_type": "markdown",
   "metadata": {},
   "source": [
    "- есть пропуски в столбцах.(по факту есть возможность и смысл заполнять только production_country)\n",
    "- столбец ratings - рейтинги в разных форматах.\n",
    "- столбец type, production_country неявные дубликаты."
   ]
  },
  {
   "cell_type": "markdown",
   "metadata": {
    "id": "KLDGpPG0gFyM"
   },
   "source": [
    "### Шаг 2. Предобработка данных"
   ]
  },
  {
   "cell_type": "markdown",
   "metadata": {
    "id": "ssWwKXsxgFyO"
   },
   "source": [
    "#### Шаг 2.1. Проверка типа данных"
   ]
  },
  {
   "cell_type": "code",
   "execution_count": 96,
   "metadata": {
    "id": "kVGSplJOgFyO"
   },
   "outputs": [],
   "source": [
    "main_df['show_start_date'] = pd.to_datetime(main_df['show_start_date'], format='%Y-%m-%dT%H:%M:%S')"
   ]
  },
  {
   "cell_type": "code",
   "execution_count": 97,
   "metadata": {},
   "outputs": [
    {
     "data": {
      "text/html": [
       "<div>\n",
       "<style scoped>\n",
       "    .dataframe tbody tr th:only-of-type {\n",
       "        vertical-align: middle;\n",
       "    }\n",
       "\n",
       "    .dataframe tbody tr th {\n",
       "        vertical-align: top;\n",
       "    }\n",
       "\n",
       "    .dataframe thead th {\n",
       "        text-align: right;\n",
       "    }\n",
       "</style>\n",
       "<table border=\"1\" class=\"dataframe\">\n",
       "  <thead>\n",
       "    <tr style=\"text-align: right;\">\n",
       "      <th></th>\n",
       "      <th>title</th>\n",
       "      <th>puNumber</th>\n",
       "      <th>show_start_date</th>\n",
       "      <th>type</th>\n",
       "      <th>film_studio</th>\n",
       "      <th>production_country</th>\n",
       "      <th>director</th>\n",
       "      <th>producer</th>\n",
       "      <th>age_restriction</th>\n",
       "      <th>refundable_support</th>\n",
       "      <th>nonrefundable_support</th>\n",
       "      <th>budget</th>\n",
       "      <th>financing_source</th>\n",
       "      <th>ratings</th>\n",
       "      <th>genres</th>\n",
       "      <th>box_office</th>\n",
       "    </tr>\n",
       "  </thead>\n",
       "  <tbody>\n",
       "    <tr>\n",
       "      <td>0</td>\n",
       "      <td>Открытый простор</td>\n",
       "      <td>221048915</td>\n",
       "      <td>2015-11-27 12:00:00+00:00</td>\n",
       "      <td>Художественный</td>\n",
       "      <td>Тачстоун Пикчерз, Кобальт Пикчерз, Бикон Пикче...</td>\n",
       "      <td>США</td>\n",
       "      <td>Кевин Костнер</td>\n",
       "      <td>Дэвид Валдес, Кевин Костнер, Джейк Эбертс</td>\n",
       "      <td>«18+» - запрещено для детей</td>\n",
       "      <td>NaN</td>\n",
       "      <td>NaN</td>\n",
       "      <td>NaN</td>\n",
       "      <td>NaN</td>\n",
       "      <td>7.2</td>\n",
       "      <td>боевик,драма,мелодрама</td>\n",
       "      <td>NaN</td>\n",
       "    </tr>\n",
       "    <tr>\n",
       "      <td>1</td>\n",
       "      <td>Особо важное задание</td>\n",
       "      <td>111013716</td>\n",
       "      <td>2016-09-13 12:00:00+00:00</td>\n",
       "      <td>Художественный</td>\n",
       "      <td>Киностудия \"Мосфильм\"</td>\n",
       "      <td>СССР</td>\n",
       "      <td>Е.Матвеев</td>\n",
       "      <td>NaN</td>\n",
       "      <td>«6+» - для детей старше 6 лет</td>\n",
       "      <td>NaN</td>\n",
       "      <td>NaN</td>\n",
       "      <td>NaN</td>\n",
       "      <td>NaN</td>\n",
       "      <td>6.6</td>\n",
       "      <td>драма,военный</td>\n",
       "      <td>NaN</td>\n",
       "    </tr>\n",
       "    <tr>\n",
       "      <td>2</td>\n",
       "      <td>Особо опасен</td>\n",
       "      <td>221038416</td>\n",
       "      <td>2016-10-10 12:00:00+00:00</td>\n",
       "      <td>Художественный</td>\n",
       "      <td>Юниверсал Пикчерз, Кикстарт Продакшнз, Марк Пл...</td>\n",
       "      <td>США</td>\n",
       "      <td>Тимур Бекмамбетов</td>\n",
       "      <td>Джим Лемли, Джейсон Нетер, Марк Е.Платт, Яйн Смит</td>\n",
       "      <td>«18+» - запрещено для детей</td>\n",
       "      <td>NaN</td>\n",
       "      <td>NaN</td>\n",
       "      <td>NaN</td>\n",
       "      <td>NaN</td>\n",
       "      <td>6.8</td>\n",
       "      <td>фантастика,боевик,триллер</td>\n",
       "      <td>NaN</td>\n",
       "    </tr>\n",
       "    <tr>\n",
       "      <td>3</td>\n",
       "      <td>Особо опасен</td>\n",
       "      <td>221026916</td>\n",
       "      <td>2016-06-10 12:00:00+00:00</td>\n",
       "      <td>Художественный</td>\n",
       "      <td>Юниверсал Пикчерз, Кикстарт Продакшнз, Марк Пл...</td>\n",
       "      <td>США</td>\n",
       "      <td>Тимур Бекмамбетов</td>\n",
       "      <td>Джим Лемли, Джейсон Нетер, Марк Е.Платт, Яйн Смит</td>\n",
       "      <td>«18+» - запрещено для детей</td>\n",
       "      <td>NaN</td>\n",
       "      <td>NaN</td>\n",
       "      <td>NaN</td>\n",
       "      <td>NaN</td>\n",
       "      <td>6.8</td>\n",
       "      <td>фантастика,боевик,триллер</td>\n",
       "      <td>NaN</td>\n",
       "    </tr>\n",
       "    <tr>\n",
       "      <td>4</td>\n",
       "      <td>Особо опасен</td>\n",
       "      <td>221030815</td>\n",
       "      <td>2015-07-29 12:00:00+00:00</td>\n",
       "      <td>Художественный</td>\n",
       "      <td>Юниверсал Пикчерз, Кикстарт Продакшнз, Марк Пл...</td>\n",
       "      <td>США</td>\n",
       "      <td>Тимур Бекмамбетов</td>\n",
       "      <td>Джим Лемли, Джейсон Нетер, Марк Е.Платт, Яйн Смит</td>\n",
       "      <td>«18+» - запрещено для детей</td>\n",
       "      <td>NaN</td>\n",
       "      <td>NaN</td>\n",
       "      <td>NaN</td>\n",
       "      <td>NaN</td>\n",
       "      <td>6.8</td>\n",
       "      <td>фантастика,боевик,триллер</td>\n",
       "      <td>NaN</td>\n",
       "    </tr>\n",
       "  </tbody>\n",
       "</table>\n",
       "</div>"
      ],
      "text/plain": [
       "                  title   puNumber           show_start_date            type  \\\n",
       "0      Открытый простор  221048915 2015-11-27 12:00:00+00:00  Художественный   \n",
       "1  Особо важное задание  111013716 2016-09-13 12:00:00+00:00  Художественный   \n",
       "2          Особо опасен  221038416 2016-10-10 12:00:00+00:00  Художественный   \n",
       "3          Особо опасен  221026916 2016-06-10 12:00:00+00:00  Художественный   \n",
       "4          Особо опасен  221030815 2015-07-29 12:00:00+00:00  Художественный   \n",
       "\n",
       "                                         film_studio production_country  \\\n",
       "0  Тачстоун Пикчерз, Кобальт Пикчерз, Бикон Пикче...                США   \n",
       "1                              Киностудия \"Мосфильм\"               СССР   \n",
       "2  Юниверсал Пикчерз, Кикстарт Продакшнз, Марк Пл...                США   \n",
       "3  Юниверсал Пикчерз, Кикстарт Продакшнз, Марк Пл...                США   \n",
       "4  Юниверсал Пикчерз, Кикстарт Продакшнз, Марк Пл...                США   \n",
       "\n",
       "            director                                           producer  \\\n",
       "0      Кевин Костнер          Дэвид Валдес, Кевин Костнер, Джейк Эбертс   \n",
       "1          Е.Матвеев                                                NaN   \n",
       "2  Тимур Бекмамбетов  Джим Лемли, Джейсон Нетер, Марк Е.Платт, Яйн Смит   \n",
       "3  Тимур Бекмамбетов  Джим Лемли, Джейсон Нетер, Марк Е.Платт, Яйн Смит   \n",
       "4  Тимур Бекмамбетов  Джим Лемли, Джейсон Нетер, Марк Е.Платт, Яйн Смит   \n",
       "\n",
       "                 age_restriction  refundable_support  nonrefundable_support  \\\n",
       "0    «18+» - запрещено для детей                 NaN                    NaN   \n",
       "1  «6+» - для детей старше 6 лет                 NaN                    NaN   \n",
       "2    «18+» - запрещено для детей                 NaN                    NaN   \n",
       "3    «18+» - запрещено для детей                 NaN                    NaN   \n",
       "4    «18+» - запрещено для детей                 NaN                    NaN   \n",
       "\n",
       "   budget financing_source ratings                     genres  box_office  \n",
       "0     NaN              NaN     7.2     боевик,драма,мелодрама         NaN  \n",
       "1     NaN              NaN     6.6              драма,военный         NaN  \n",
       "2     NaN              NaN     6.8  фантастика,боевик,триллер         NaN  \n",
       "3     NaN              NaN     6.8  фантастика,боевик,триллер         NaN  \n",
       "4     NaN              NaN     6.8  фантастика,боевик,триллер         NaN  "
      ]
     },
     "metadata": {},
     "output_type": "display_data"
    }
   ],
   "source": [
    "display(main_df.head())"
   ]
  },
  {
   "cell_type": "code",
   "execution_count": 98,
   "metadata": {},
   "outputs": [],
   "source": [
    "main_df_copy = main_df.copy()"
   ]
  },
  {
   "cell_type": "code",
   "execution_count": 99,
   "metadata": {},
   "outputs": [
    {
     "name": "stdout",
     "output_type": "stream",
     "text": [
      "\n",
      " ['7.2' '6.6' '6.8' '7.7' '8.3' '8.0' '7.8' '8.1' '7.1' '6.0' '7.4' '5.8'\n",
      " '8.7' '6.3' '6.9' '5.0' '4.3' '7.3' '7.0' '6.4' nan '8.2' '7.5' '6.7'\n",
      " '7.9' '5.9' '6.2' '5.6' '6.5' '2.4' '7.6' '6.1' '8.6' '8.5' '8.8' '5.5'\n",
      " '5.1' '5.7' '5.4' '99%' '4.4' '4.5' '5.3' '4.1' '8.4' '2.6' '3.8' '4.6'\n",
      " '4.8' '4.0' '3.0' '1.6' '4.2' '5.2' '4.7' '4.9' '3.9' '2.7' '3.3' '2.9'\n",
      " '28%' '3.7' '1.4' '3.1' '97%' '3.5' '3.2' '2.8' '1.5' '2.1' '2.5' '9.2'\n",
      " '3.4' '1.1' '3.6' '83%' '64%' '91%' '94%' '62%' '79%' '90%' '19%' '88%'\n",
      " '1.0' '89%' '1.3' '1.9' '1.8' '1.2' '1.7' '9.0' '98%' '8.9' '9.1']\n"
     ]
    }
   ],
   "source": [
    "print('\\n',main_df['ratings'].unique())\n",
    "main_df['ratings'] = main_df['ratings'].str.replace('%', '')\n",
    "main_df['ratings'] = main_df['ratings'].astype('float')\n",
    "for value in range(len(main_df)):\n",
    "    if main_df['ratings'][value] > 10:\n",
    "        main_df['ratings'][value] /= 10\n",
    "\n",
    "#main_df['ratings'] = np.where(main_df['ratings'].str.contains('%',na=False), main_df['ratings'].str.strip('%').astype('float') / 10, ...)"
   ]
  },
  {
   "cell_type": "code",
   "execution_count": 100,
   "metadata": {},
   "outputs": [
    {
     "data": {
      "text/plain": [
       "True"
      ]
     },
     "metadata": {},
     "output_type": "display_data"
    }
   ],
   "source": [
    "s1 = pd.Series(np.where(main_df_copy['ratings'].str.contains('%',na=False), \n",
    "                               main_df_copy['ratings'].str.strip('%').astype('float') / 10, \n",
    "                               main_df_copy['ratings'])).astype('float')\n",
    "\n",
    "\n",
    "# Проверим, что получилось то же самое\n",
    "display((s1[lambda x : x.notna()] == main_df[main_df['ratings'].notna()]['ratings']).all())\n"
   ]
  },
  {
   "cell_type": "code",
   "execution_count": 101,
   "metadata": {},
   "outputs": [
    {
     "name": "stdout",
     "output_type": "stream",
     "text": [
      "\n",
      " [7.2 6.6 6.8 7.7 8.3 8.  7.8 8.1 7.1 6.  7.4 5.8 8.7 6.3 6.9 5.  4.3 7.3\n",
      " 7.  6.4 nan 8.2 7.5 6.7 7.9 5.9 6.2 5.6 6.5 2.4 7.6 6.1 8.6 8.5 8.8 5.5\n",
      " 5.1 5.7 5.4 9.9 4.4 4.5 5.3 4.1 8.4 2.6 3.8 4.6 4.8 4.  3.  1.6 4.2 5.2\n",
      " 4.7 4.9 3.9 2.7 3.3 2.9 2.8 3.7 1.4 3.1 9.7 3.5 3.2 1.5 2.1 2.5 9.2 3.4\n",
      " 1.1 3.6 9.1 9.4 9.  1.9 1.  8.9 1.3 1.8 1.2 1.7 9.8]\n"
     ]
    }
   ],
   "source": [
    "print('\\n',main_df['ratings'].unique())"
   ]
  },
  {
   "cell_type": "markdown",
   "metadata": {
    "id": "i0MOLbF-gFyP"
   },
   "source": [
    "#### Шаг 2.2. Изучение пропусков в датафрейме"
   ]
  },
  {
   "cell_type": "code",
   "execution_count": 102,
   "metadata": {
    "id": "8MJD_lkngFyP"
   },
   "outputs": [],
   "source": [
    "main_df['production_country'] = main_df['production_country'].fillna('Россия')"
   ]
  },
  {
   "cell_type": "markdown",
   "metadata": {},
   "source": [
    "Единственный адекватный пропуск который можно заполнить, и то пришлось искать информацию и пробить студию (ералаш выпусклся и в ссср, но студия зарегана с 2004 предположим что это были новые выпуски). Остальные пропуски чем то вразумительным не заполнить, сборы заполнять медианой или среднем нельзя(как минимум потому что пропусков половина от данных, как максимум из за специфики данных). Рейтинг заполнять никак, это только исказит анализ. В целом остальные пропуски категориальные, их можно заполнить чем то вроде \"нет данных\", но смысла в этом нет(по крайней мере, я не вижу для нашего исследования).\n",
    "\n",
    "пс. ну или руками пробивать каждую позицию на википедии, но это канешно слишком сильный ход\n",
    "\n",
    "#### Шаг 2.3. Изучение дубликатов в датафрейме"
   ]
  },
  {
   "cell_type": "code",
   "execution_count": 103,
   "metadata": {
    "id": "aKck8RIdgFyQ",
    "scrolled": true
   },
   "outputs": [
    {
     "name": "stdout",
     "output_type": "stream",
     "text": [
      "\n",
      " ['художественный' 'анимационный' 'прочие' 'документальный'\n",
      " 'научно-популярный' 'музыкально-развлекательный']\n",
      "\n",
      " ['сша' 'ссср' 'франция' 'ссср,венгрия' 'германия-великобритания'\n",
      " 'великобритания-италия' 'чехословакия' 'сша-франция-турция'\n",
      " 'новаязеландия' 'канада-франция-испания' 'сша-германия'\n",
      " 'сша-великобритания' 'великобритания' 'франция-мексика-сша'\n",
      " 'россия,казахстан,сша' 'ссср,швеция' 'ссср,франция,англия,куба,гдр'\n",
      " 'германия' 'великобритания-сша-германия-кнр'\n",
      " 'ссср,чсср,западныйберлин,пнр' 'ссср,италия' 'гонконг,кнр' 'сша-франция'\n",
      " 'сша-япония-франция-великобритания'\n",
      " 'гонконг-сингапур-таиланд-великобритания' 'сша-канада'\n",
      " 'франция-италия-великобритания-сша' 'франция-сша'\n",
      " 'ирландия-великобритания-германия' 'чехия' 'сша-австралия'\n",
      " 'ссср,финляндия' 'сша-франция-великобритания-австрия' 'сша-бельгия'\n",
      " 'сша-ирландия-великобритания' 'великобритания-сша'\n",
      " 'люксембург-нидерланды-испания-великобритания-сша-италия'\n",
      " 'великобритания-франция-сша' 'новаязеландия-сша'\n",
      " 'сша-великобритания-чехия' 'канада-франция-великобритания' 'ирландия'\n",
      " 'великобритания-германия-сша' 'сша-франция-великобритания' 'япония'\n",
      " 'ссср,польша' 'франция-испания' 'канада-франция' 'германия-италия-сша'\n",
      " 'аргентина-бразилия' 'дания-швейцария-бельгия-франция' 'сша-испания'\n",
      " 'германия-сша' 'франция-австрия-германия-италия-сша' 'австрия'\n",
      " 'сша-канада-германия' 'ссср-швейцария-франция' 'россия-казахстан'\n",
      " 'гонконг' 'италия' 'сша-оаэ' 'россия'\n",
      " 'сша-франция-испания-великобритания' 'великобритания-франция'\n",
      " 'сша-италия-испания-аргентина' 'франция-великобритания' 'кнр-гонконг'\n",
      " 'франция-италия-швейцария' 'сша-новаязеландия' 'франция-бельгия' 'кнр'\n",
      " 'германия-великобритания-австрия'\n",
      " 'великобритания-израиль-франция-япония-сша' 'швеция' 'испания' 'дания'\n",
      " 'франция-бельгия-люксембург' 'сша-индия-оаэ'\n",
      " 'германия-канада-великобритания-швейцария-франция' 'мексика-чили'\n",
      " 'аргентина' 'бразилия' 'чили' 'австралия' 'португалия-франция' 'сша-юар'\n",
      " 'исландия-ирландия-германия' 'сша-индонезия' 'южнаякорея'\n",
      " 'мексика-испания-дания-сша' 'франция-италия' 'сша-венгрия-великобритания'\n",
      " 'бельгия-франция-италия' 'чехия-германия' 'германия-франция'\n",
      " 'сша-нидерланды' 'украина' 'великобритания-германия'\n",
      " 'сша-франция-испания' 'италия-франция' 'канада' 'швеция-франция-дания'\n",
      " 'германия-франция-польша' 'франция-великобритания-германия'\n",
      " 'сша-бразилия-франция-австралия-великобритания-германия'\n",
      " 'германия-австрия' 'германия-италия-шри-ланка' 'великобритания-испания'\n",
      " 'сша-великобритания-канада-швеция'\n",
      " 'боснияигерцеговина-франция-великобритания-германия-словения-бельгия-сербия'\n",
      " 'великобритания-франция-италия-сша' 'испания-франция'\n",
      " 'великобритания-австралия-сша' 'норвегия-швеция-дания-германия'\n",
      " 'норвегия' 'швейцария' 'греция-германия-франция' 'норвения'\n",
      " 'южнаякорея-сша' 'чили-франция-сша' 'австрия-германия-франция'\n",
      " 'швеция-дания' 'великобритания-франция-бельгия-италия' 'франция-германия'\n",
      " 'грузия-франция-люксембург' 'сша-франция-великобритания-бразилия'\n",
      " 'сша-кнр' 'мексика-франция' 'сша-германия-гонконг-сингапур'\n",
      " 'финляндия-австрия-россия' 'испания-куба' 'великобритания-юар'\n",
      " 'великобритания-ирландия' 'израиль'\n",
      " 'бразилия-германия-порртугалия-франция' 'франция-канада-бельгия'\n",
      " 'испания-канада-япония' 'иран' 'швеция-куба'\n",
      " 'сша-великобритания-ирландия' 'гонконг-кнр' 'нидерланды' 'испания-канада'\n",
      " 'япония-великобритания' 'великобритания-норвегия-дания-германия'\n",
      " 'финляндия-франция-германия' 'мексика-франция-нидерланды-германия'\n",
      " 'сша-индия' 'сша-великобритания-индия' 'сша-канада-бельгия'\n",
      " 'республикаузбекистан' 'турция'\n",
      " 'сербия-словения-хорватия-черногория-македония' 'киргизия'\n",
      " 'германия-нидерланды-беларусь-россия-латвия' 'индия'\n",
      " 'нидерланды-россия-германия' 'великобритания-нидерланды-франция-хорватия'\n",
      " 'канада-южнаякорея' 'великобритания-польша-кнр-индия-норвегия'\n",
      " 'япония-франция-сша-южнаякорея-турция' 'мексика-аргентина-великобритания'\n",
      " 'израиль-франция' 'польша-португалия-франция-великобритания'\n",
      " 'австралия-сша' 'франция-люксембург-бельгия' 'армения'\n",
      " 'бельгия-люксембург-франция-швейцария' 'сша-великобритания-канада'\n",
      " 'норвегия-швеция' 'кнр-гонконг-сша' 'сша-сингапур-малайзия-индонезия'\n",
      " 'германия-россия' 'япония-канада' 'финляндия-дания-германия-ирландия'\n",
      " 'франция-люксембург-германия-бельгия-швейцария-великобритания'\n",
      " 'канада-сша' 'сша-италия-испания' 'сша-швейцария-франция'\n",
      " 'испания-сша-колумбия' 'канада-юар' 'франция-россия'\n",
      " 'германия-финляндия-австралия' 'дания-швеция' 'бельгия'\n",
      " 'германия-франция-австрия' 'франция-индия' 'юар' 'франция-перу'\n",
      " 'франция-канада' 'республикабеларусь'\n",
      " 'великобритания-австрия-франция-сша' 'сша-россия' 'сша-южнаякорея'\n",
      " 'канада-кнр' 'дания-швеция-италия-франция-германия'\n",
      " 'франция-италия-испания-венгрия' 'франция-германия-бельгия'\n",
      " 'франция-великобритания-чехия' 'румыния-франция-бельгия'\n",
      " 'болгария-франция-изриль'\n",
      " 'израиль-германия-польша-бельгия-франция-люксембург'\n",
      " 'россия,германия,франция,бельгия' 'индонезия' 'франция-португалия'\n",
      " 'великобритания-пуэрто-рико' 'ссср,фрг,западныйберлин'\n",
      " 'россия,республикабеларусь' 'сша,великобритания' 'франция-австрия'\n",
      " 'бельгия-нидерланды' 'великобритания-сша-индия'\n",
      " 'сша-великобритания-австралия' 'канада-франция-сша-оаэ-великобритания'\n",
      " 'сша-австралия-франция' 'дания-франция-бельгия-германия-великобритания'\n",
      " 'испания-аргентина' 'исландия-финляндия'\n",
      " 'россия-польша-голландия-словакия' 'дания-германия-швеция'\n",
      " 'южнаякорея-сша-канада' 'таиланд' 'сша-мальта'\n",
      " 'великобритания-германия-франция-кипр-сша' 'мексика' 'сша-украина'\n",
      " 'сша-финляндия-испания-великобритания-франция' 'австралия-великобритания'\n",
      " 'сша-канада-афганистан-бельгия-франция'\n",
      " 'сша-великобритания-германия-новаязеландия-бельгия-франция'\n",
      " 'ирландия-финляндия-бельгия-великобритания-сша-швейцария' 'малайзия-сша'\n",
      " 'германия-италия' 'сша-франция-бельгия-италия' 'франция-ирландия-швеция'\n",
      " 'азербайджан-россия' 'великобритания-италия-швейцария'\n",
      " 'сша-германия-великобритания' 'германия-бельгия-сша-франция' 'сша-китай'\n",
      " 'чили-испания' 'франция-швейцария' 'канада-испания'\n",
      " 'сша-румыния-великобритания' 'сша-япония' 'сша-россия-франция' 'парагвай'\n",
      " 'германия-канада' 'сша-канада-великобритания' 'финляндия-канада'\n",
      " 'уругвай-мексика-германия' 'сша-чили'\n",
      " 'германия-аргентина-нидерланды-чили' 'сша-канада-индонезия'\n",
      " 'армения-казахстан' 'финляндия' 'испания-италия-франция'\n",
      " 'бельгия-испания-канада-нидерланды'\n",
      " 'великобритания-франция-швеция-бельгия'\n",
      " 'мексика-эквадор-канада-сша-франция-малайзия-италия-аргентина-германия-индия'\n",
      " 'франция-бенльгия' 'индия-великобритания' 'япония-великобритания-франция'\n",
      " 'испания-уругвай-аргентина' 'франция-италия-бельгия-люксембург'\n",
      " 'франция-украина-грузия-армения' 'сербия-германия-венгрия'\n",
      " 'франция-польша' 'румыния-сша' 'россия-азербайджан'\n",
      " 'сша-нидерланды-бельгия-венгрия-греция-канада'\n",
      " 'германия-франция-люксембург' 'великобритания-сша-франция'\n",
      " 'сша-австралия-дания' 'бельгия-франция' 'сша-мексика'\n",
      " 'норвегия-азербайджан-россия-колумбия-великобритания-венгрия-румыния-франция-грузия'\n",
      " 'сща' 'бразилия-испания' 'россия,франция,латвия'\n",
      " 'нидерланды-сша-германия-канада-франция-ирландия-великобритания'\n",
      " 'уругвай-колумбия' 'сша-испания-болгария' 'армения-германия'\n",
      " 'сша-великобритания-франция-швеция' 'австралия-турция-сша'\n",
      " 'швеция-германия' 'польша-италия-россия' 'франция-бразилия'\n",
      " 'сша-канада-кнр' 'ссср,венгрия,чсср,гдр' 'бельгия-германия-люксембург'\n",
      " 'бразилия-сша' 'сша-великобритания-канада-кнр' 'франция-чили'\n",
      " 'франция-сша-великобритания-колумбия-бельгия-россия'\n",
      " 'дания-великобритания-юар' 'россия-сша-канада-люксембург'\n",
      " 'россия-республикакипр' 'германия-сша-швеция-франция'\n",
      " 'великобритания-германия-канада-юар' 'ирландия,канада'\n",
      " 'япония-великобритания-швейцария-ирландия-дания-франция-польша-австралия-канада'\n",
      " 'великобритания,канада' 'бельгия-сша' 'великобритания-сша-россия'\n",
      " 'россия-украина' 'германия-сша-великобритания-израиль' 'канада-германия'\n",
      " 'сша-ю.корея' 'индия-мексика'\n",
      " 'великобритания-франция-республикакипр-швейцария-сша-сербия'\n",
      " 'испания-аргентина-индия-сша' 'норвегия-исландия-сша-великобритания'\n",
      " 'турция-германя-франция' 'австралия-германия' 'мексика-испания'\n",
      " 'великобритания-сша-германия-бельгия' 'сша-чехия-франция' 'россия-италия'\n",
      " 'норвегия-дания-швеция' 'франция-швейцария-германия' 'грузия-украина'\n",
      " 'россия-эстония-финляндия-беларусь' 'сша-франция-юар'\n",
      " 'великобритания-сша-швейцария' 'мексика-нидерланды-германия-франция'\n",
      " 'сша-испания-франция' 'сша-великобритания-кнр' 'сша-франция-канада'\n",
      " 'япония,великобритания,австрия,германия,ю.корея'\n",
      " 'великобритания-ирландия-сша' 'бельгия-италия-франция'\n",
      " 'швейцария-германия-юар' 'великобритания-сша-германия'\n",
      " 'германия-исландия' 'испания-сша' 'хорватия' 'финляндия-исландия-швеция'\n",
      " 'канада-сша-германия-франция' 'сша-великобритания-испания'\n",
      " 'ирландия-великобритания' 'аргентина-испания' 'австрия-германия'\n",
      " 'германия-швейцария-франция-южнаякорея-сша' 'украина-нидерланды'\n",
      " 'венгрия-германия-швеция'\n",
      " 'германия-франция-польша-турция-канада-италия-россия' 'ссср,афганистан'\n",
      " 'ссср,монголия' 'россия-кипр' 'россия,грузия,испания'\n",
      " 'великобритания-нидерланды-германия-франция-бельгия-австрия'\n",
      " 'испания-великобритания-франция' 'дания-норвегия-великобритания'\n",
      " 'бельгия-франция-люксембург' 'италия-франция-швейцария-великобритания'\n",
      " 'франция-бельгия-великобритания-испания-германия-сша'\n",
      " 'швейцария-израиль-франция-великобритания'\n",
      " 'великобритания-сша-канада-нидерланды-франция' 'россия,италия'\n",
      " 'ссср,албания' 'россия,украина,республикабеларусь,литва'\n",
      " 'финляндия-великобритания-германия' 'россия,украина,польша'\n",
      " 'франция-италия-бельгия-кнр' 'германия-бельгия-люксембург-ирландия'\n",
      " 'кнр-сингапур' 'франция-бельгия-великобритания-сша-нидерланды-канада'\n",
      " 'сша-россия-польша-германия-пуэрторико' 'франция-бельгия-канада'\n",
      " 'мексика-сша' 'сша-гонконг-кнр' 'греция-россия'\n",
      " 'ирландия-дания-бельгия-люксембург-франция' 'эстония-россия'\n",
      " 'великобритания-исландия-испания-швейцария-сша'\n",
      " 'австралия-великобритания-бельгия-индия'\n",
      " 'швеция-германия-франция-норвегия' 'нидерланды-бельгия-германия-ирландия'\n",
      " 'нидерланды-великобритания-бельгия' 'сша-колумбия-испания'\n",
      " 'франция-испания-бельгия-панама' 'сша-великобритания-чехия-румыния'\n",
      " 'аргентина-уругвай-россия-германия-франция-нидерланды'\n",
      " 'швеция-франция-норвегия-дания' 'италия-франция-великобритания'\n",
      " 'великобритания,франция' 'австралия,сша' 'венесуэла'\n",
      " 'великобритания-сша-австралия-ирландия-германия-куба-канада'\n",
      " 'южнаякорея-кнр' 'аргентина-мексика-бразилия-франция-сша' 'швеция-сша'\n",
      " 'франция-германия-турция-катар' 'франция-китай'\n",
      " 'россия,германия,великобритания' 'великобритания-италия-испания'\n",
      " 'италия-россия' 'япония-кнр-южнаякорея' 'россия,германия'\n",
      " 'россия-ирландия' 'македония-франция-великобритания'\n",
      " 'франция-бразилия-италия' 'россия-сша' 'армения-россия' 'россия,румыния'\n",
      " 'грузия-франция' 'юар-сша' 'великобритания-сша-германия-канада-австралия'\n",
      " 'сша-ирландия' 'россия,республикакипр' 'германия-люксембург-франция'\n",
      " 'россия-франция' 'сша-нидерланды-финляндия-великобритания-италия'\n",
      " 'республикакипр' 'венгрия' 'франция-сша-норвегия-дания'\n",
      " 'германия-австрия-ирландия' 'сша-финляндия' 'италия-великобритания'\n",
      " 'россия,испания' 'сша-великобритания-болгария'\n",
      " 'великобритания-люксембург' 'индия-сша'\n",
      " 'сша-канада-россия-франция-чили-ирландия' 'грузия-россия'\n",
      " 'дания-австрия-ирландия-финляндия-норвегия-швеция-нидерланды' 'грузия'\n",
      " 'австралия-ирландия' 'великобритания-канада' 'италия-аргентина-словения'\n",
      " 'испания-франция-нидерланды-германия-бельгия-великобритания-канада'\n",
      " 'франция-чехия-бельгия' 'великобритания-франция-германия-сша'\n",
      " 'ирландия-великобритания-франция-сша-германия-нидерланды'\n",
      " 'сша-канада-япония-кнр' 'сша-великобритания-исландия'\n",
      " 'франция-германия-нидерланды'\n",
      " 'франция-германия-швеция-сша-чехия-словакия-великобритания-нидерланды'\n",
      " 'франция-канада-н.зеландия-сша-нидерланды-германия-швеция-россия'\n",
      " 'турция-сша'\n",
      " 'великобритания-сша-канада-бельгия-нидерланды-австрия-германия'\n",
      " 'израиль-франция-германия-палестина-сша-австрия-великобритания'\n",
      " 'аргентина-франция-испания' 'ссср,россия'\n",
      " 'великобритания-франция-италия-индия-дания-кнр-бангладеш-камбоджа-гаити-уганда'\n",
      " 'италия-франция-швейцария' 'ирландия-великобритания-канада' 'перу'\n",
      " 'сша-норвегия' 'китай-гонконг' 'сша-германия-кнр'\n",
      " 'великобритания-новаязеландия' 'франция-дания-швеция-кнр'\n",
      " 'сша-великобритания-германия-бельгия-дания'\n",
      " 'сша-франция-канада-германия-австралия-индия' 'ссср,румыния,франция'\n",
      " 'ссср,гдр' 'великобритания-франция-австрия-швеция' 'россия,таджикистан'\n",
      " 'нидерланды-бельгия-болгария' 'великобритания-канада-сша'\n",
      " 'франция-бельгия-испания' 'китай-гонконг-сша' 'сша-вьетнам'\n",
      " 'сша-германия-франция' 'германия-франция-бельгия' 'сша-италия'\n",
      " 'германия-дания-испания-швеция-канада-эстония-франция'\n",
      " 'княжествоандорра-украина' 'германия-люксембург-бельгия'\n",
      " 'великобритания-россия-украина-сша'\n",
      " 'германия-бельгия-люксембург-норвегия'\n",
      " 'сша-австралия-новаязеландия-великобритания'\n",
      " 'сша-франция-канада-великобритания' 'испания-колумбия'\n",
      " 'великобритания-чехия-франция' 'россия,украина' 'исландия'\n",
      " 'великобритания-франция-венгрия' 'россия,франция,германия,бельгия'\n",
      " 'франция-македония'\n",
      " 'нидерланды-франция-германия-бельгия-швеция-великобритания'\n",
      " 'испания-сша-великобритания-канада' 'республикаказахстан'\n",
      " 'франция-испания-дания-венгрия-швейцария' 'франция-кнр'\n",
      " 'сша-пуэрто-рико-франция' 'мексика-тайвань-сша'\n",
      " 'великобритания-испания-непал-индия-венгрия-гонконг-германия-дания-бахрейн'\n",
      " 'великобритания-аргентина-сша-франция-россия-испания' 'кнр-сша'\n",
      " 'италия-сша' 'финляндия-швеция-германия' 'франция-бельгия-чехия'\n",
      " 'франция-германия-сша' 'сша-дания' 'индия-кнр' 'чехия-великобритания-сша'\n",
      " 'сша-фрг-россия' 'ирландия-нидерланды-франция-сша-великобритания'\n",
      " 'россия,грузия,хорватия,испания' 'финляндия-швеция-норвегия'\n",
      " 'сербия-великобритания-сша' 'сша-великобритания-франция-гонконг'\n",
      " 'швейцария-франция' 'швейцария-великобритания' 'оаэ-сша'\n",
      " 'сша-франция-германия-канада-австралия' 'германия-австралия'\n",
      " 'иран,франция' 'сша-великобритания-новаязеландия' 'сша-колумбия'\n",
      " 'сша-франция-ирландия' 'великобритания-франция-бельгия'\n",
      " 'сша-великобритания-япония' 'сша-франция-германия' 'польша-ирландия'\n",
      " 'ирландия-великобритания-франция-сша' 'сша-бельгия-великобритания'\n",
      " 'ссср,внр' 'испания-франция-сша-великобритания-бельгия'\n",
      " 'франция-дания-сша' 'сша-гонконг' 'бразилия-к;анада'\n",
      " 'сша-ирландия-великобритания-франция' 'великобритания-сша-канада'\n",
      " 'польша-франция' 'канада-сша-нидерланды-великобритания-аргентина'\n",
      " 'великобритания-дания' 'франция-бельгия-япония'\n",
      " 'сша-канада-германия-франция' 'сша-канада-франция' 'россия-германия'\n",
      " 'германия-австрия-франция-италия' 'сша-германия-канада' 'испания-мексика'\n",
      " 'сша-япония-канада-великобритания-германия-франция'\n",
      " 'россия-украина-германия' 'израиль-франция-великобритания-германия'\n",
      " 'корея' 'россия-болгария' 'германия-канада-франция-бельгия'\n",
      " 'германия-кения' 'франция-монако' 'франция-испания-швейцария'\n",
      " 'австрия-франция-германия' 'румыния' 'сша-великобритания-франция'\n",
      " 'канада-великобритания' 'канада-бразилия-япония'\n",
      " 'германия-дания-норвегия' 'дания-германия' 'ссср-италия'\n",
      " 'ссср-гдр-польша-италия' 'сша-испания-франция-великобритания' 'китай'\n",
      " 'мексика-аргентина' 'германия-великобритания-италия-испания'\n",
      " 'франция-германия-великобритания' 'россия-германия-швейцария'\n",
      " 'франция-австралия' 'голландия' 'россия-белоруссия'\n",
      " 'франция-испания-тайвань' 'сша-южнаякорея-новаязеландия'\n",
      " 'великобритания-венгрия' 'великобритания-франция-германия'\n",
      " 'франция-германия-италия' 'швеция-финляндия-франция-норвегия'\n",
      " 'германия-израиль' 'швеция-германия-дания-норвегия'\n",
      " 'франция-гонконг-ирландия' 'эстония' 'литва-россия-украина'\n",
      " 'германия-италия-франция' 'великобритания-австрия-германия'\n",
      " 'испания-мальта' 'франция-россия-румыния-италия-бельгия' 'россия-польша'\n",
      " 'сша-аргентина' 'израиль-сша-франция' 'сша-новаязеландия-япония'\n",
      " 'франция-чехия-великобритания' 'германия-франция-великобритания'\n",
      " 'сша-гонконг-китай' 'сша-великобритания-германия' 'сша-канада-австралия'\n",
      " 'япония-сша-франция' 'франция-испания-германия'\n",
      " 'сша-хорватия-босния-герцеговина' 'великобритания-чехия-франция-италия'\n",
      " 'сша-германия-нидерланды' 'германия-франция-канада'\n",
      " 'франция-грузия-германия-россия-украина-бельгия'\n",
      " 'великобритания-франция-италия' 'франция-италия-иран' 'греция'\n",
      " 'дания-сша' 'сша-германия-австралия' 'сша-канада-италия'\n",
      " 'сша-япония-германия' 'франция-великобритания-багамскиеострова-сша'\n",
      " 'швейцария-люксембург' 'швейцария-австрия' 'германия-швейцария'\n",
      " 'дания-швеция-франция-германия' 'польша' 'бразилия-канада-сша'\n",
      " 'нидерланды-россия' 'португалия' 'франция-аргентина' 'швеция-франция'\n",
      " 'франция-украина' 'германия-украина-нидерланды' 'италия-швейцария'\n",
      " 'латвия-россия' 'германия-франция-великобритания-сша' 'канада-италия'\n",
      " 'сша-объединенныеарабскиеэмираты' 'сша-венгрия' 'малайзия'\n",
      " 'россия-германия-украина' 'сша-австралия-мексика' 'литва-венгрия'\n",
      " 'германия-китай' 'казахстан' 'республикакорея'\n",
      " 'сша-германия-франция-великобритания-канада'\n",
      " 'бельгия-германия-люксембург-франция' 'франция-греция' 'италия-канада'\n",
      " 'сша-италия-греция' 'германия-сша-великобритания-ирландия'\n",
      " 'германия-нидерланды-юар' 'сша-япония-германия-великобритания-нидерланды'\n",
      " 'сша-япония-германия-великобритания'\n",
      " 'таиланд-великобритания-франция-германия-испания-нидерланды'\n",
      " 'германия-италия-швейцария'\n",
      " 'дания-швеция-великобритания-франция-германия-нидерланды-норвегия-финляндия'\n",
      " 'франция-великобритания-нидерланды-люксембург'\n",
      " 'нидерланды-великобритания-франция-италия-япония'\n",
      " 'великобритания-нидерланды-франция-сша' 'канада-мексика' 'сша,франция'\n",
      " 'канада-южнаякорея-сша' 'великобритания-франция-бельгия-сша'\n",
      " 'кнр-канада-сша' 'италия-франция-германия'\n",
      " 'швеция-германия-франция-дания' 'франция-сша-бельгия'\n",
      " 'украина-германия-латвия-эстония' 'австрия-люксембург'\n",
      " 'великобритания-кнр' 'монголия' 'франция-дания' 'швеция-дания-финляндия'\n",
      " 'сингапур-великобритания-индонезия-канада-сша' 'сша-германия-япония'\n",
      " 'таиланд-сша' 'франция-нидерланды' 'великобритания-румыния'\n",
      " 'великобритания-германия-нидерланды-дания'\n",
      " 'франция-германия-литва-нидерланды-россия' 'сша-юар-гонконг'\n",
      " 'австралия-колумбия' 'великобритания-польша' 'сша-великобритания-швеция'\n",
      " 'франция-швеция-дания-норвегия' 'болгария-сша' 'ссср,фрг'\n",
      " 'бельгия-нидерланды-франция' 'финляндия-германия' 'болгария'\n",
      " 'грузия-россия-украина-хорватия-германия' 'франция-люксембург'\n",
      " 'франция-германия-австрия' 'норвегия-сша' 'германия-швеция'\n",
      " 'дания-латвия-россия-сша' 'финляндия-польша' 'германия-бельгия'\n",
      " 'германия-сша-франция-испания'\n",
      " 'бельгия-германия-канада-франция-сша-великобритания'\n",
      " 'нидерланды-бельгия-люксембург' 'люксембург-бельгия-франция'\n",
      " 'великобритания,новаязеландия' 'бельгия,великобритания,сша'\n",
      " 'великобритания,австралия' 'исландия,бельгия'\n",
      " 'испания-швейцария-великобритания-германия-новаязеландия-нидерланды-канада'\n",
      " 'франция,бельгия' 'великобритания,сша' 'киргизия-россия' 'германия,сша'\n",
      " 'великобритания,сша,испания' 'италия-швейцария-германия' 'россия,армения'\n",
      " 'франция,германия' 'китай,канада,сша' 'германия,австралия' 'кнр,сша'\n",
      " 'сша,великобритания,люксембург' 'испания,ирландия,бельгия,франция'\n",
      " 'великобритания-гонконг-венгрия-сша-ирландия' 'сша-пуэрторико'\n",
      " 'аргентина-испания-уругвай' 'израиль-германия-франция-швейцария'\n",
      " 'великобритания-мексика-сша' 'испания-болгария-сша'\n",
      " 'россия-словакия-чехия'\n",
      " 'швейцария-кнр-сша-россия-республикакорея-великобритания'\n",
      " 'россия,нидерланды,финляндия'\n",
      " 'испания-бельгия-франция-португалия-великобритания'\n",
      " 'бразилия-португалия-франция' 'швеция-норвегия' 'франция-польша-бельгия'\n",
      " 'cша' 'китай,сша' 'италия,франция,германия' 'германия-австрия-франция'\n",
      " 'чехия-словакия-хорватия' 'россия,польша,финляндия'\n",
      " 'россия,латвия,чешскаяреспублика'\n",
      " 'франция-великобритания-камбоджа-сша-кнр' 'чехия-испания-сша'\n",
      " 'германия-люксембург-дания' 'великобритания-испания-германия'\n",
      " 'дания-исландия' 'германия,франция,великобритания'\n",
      " 'великобритания-испания-италия-латвия-франция-эстония'\n",
      " 'дания,швеция,великобритания,франция,германия,норвегия,финляндия,нидерланды,италия'\n",
      " 'польша-франция-великобритания' 'дания,норвегия,венгрия,чехия'\n",
      " 'дания-франция-германия-швеция' 'великобритания,швеция,сша'\n",
      " 'канада,франция,италия,швейцария,сша' 'сша,индия'\n",
      " 'сша-великобритания-германия--швеция-канада' 'италия,франция'\n",
      " 'республикабеларусь,германия,сша,россия'\n",
      " 'италия-швейцария-франция-германия'\n",
      " 'россия-франция-великобритания-латвия' 'россия-беларусь'\n",
      " 'франция-испания-румыния-сша-бельгия' 'россия,австрия'\n",
      " 'ирландия-великобритания-сша'\n",
      " 'швейцария,великобритания,франция,сша,ирландия'\n",
      " 'мексика,франция,германия,дания,швеция' 'нидерланды,бельгия'\n",
      " 'швеция,норвегия,финляндия,франция' 'испания,франция,италия'\n",
      " 'испания-франция-греция-индия-сша-россия-великобритания'\n",
      " 'великобритания-япония-сша' 'дания,канада,норвегия,австралия,сша'\n",
      " 'аргентина,испания' 'россия,германия,казахстан,польша,китай'\n",
      " 'португалия,франция,польша,сша' 'сша-канада-аргентина' 'ливан-сша'\n",
      " 'япония-сша' 'сша,гонконг' 'франция-россия-швейцария-румыния-венгрия'\n",
      " 'россия,сербия' 'сша-болгария-мексика'\n",
      " 'сша-великобритания-швейцария-франция' 'таиланд-кнр-сша'\n",
      " 'великобритания,нидерланды,польша,швейцария,франция' 'ирландия-сша'\n",
      " 'германия-франция-великобритания-польша-сша' 'сша-австралия-индия'\n",
      " 'великобритания-израиль' 'великобритания-норвегия-кения-хорватия'\n",
      " 'сша-бразилия-великобритания-канада' 'германия,бельгия'\n",
      " 'австралия,канада' 'сша,великобритания,франция' 'кения,германия'\n",
      " 'нидерланды,бельгия,люксембург' 'колумбия' 'латвия-франция'\n",
      " 'ирландия,великобритания' 'франция-израиль-германия'\n",
      " 'швеция,франция,великобритания' 'бельгия-люксембург'\n",
      " 'германия-бельгия-великобритания'\n",
      " 'испания,франция,великобритания,дания,бельгия,германия'\n",
      " 'румыния,юар,иран,франция,канада,великобритания' 'германия,франция'\n",
      " 'сша,япония' 'сша,великобритания,ирландия,люксембург' 'республикаармения'\n",
      " 'сша,франция,япония' 'япония,сша' 'канада,сша' 'республикакипр-россия'\n",
      " 'дания-франция-италия-бельгия-нидерланды' 'россия-грузия'\n",
      " 'италия,германия' 'норвегия,швеция,дания' 'республикакипр,россия'\n",
      " 'кнр,индия,гонконг,сша' 'израиль,украина' 'сша,россия'\n",
      " 'сша-кнр-индия-ю.корея' 'сша-швеция' 'франция,канада' 'россия-китай'\n",
      " 'канада,великобритания' 'сша,германия' 'канада,сша,каймановыострова'\n",
      " 'бразилия,уругвай,дания,норвегия,чили,швеция'\n",
      " 'пуэрто-рико,великобритания,сша' 'уругвай-аргентина-испания'\n",
      " 'сша-великобритания-италия-израиль-сербия-индия'\n",
      " 'сша-канада-франция-индия' 'великобритания-россия-кнр'\n",
      " 'франция,новаязеландия' 'франция,люксембург,бельгия'\n",
      " 'канада,сша,норвегия' 'италия,испания' 'испания-германия-нидерланды'\n",
      " 'бразилия-сша-кнр' 'великобритания,германия,дания,сша' '2019'\n",
      " 'италия-фрация-бразилия-германия' 'норвегия-швеция-россия'\n",
      " 'великобритания,япония,сша' 'сша,канада' 'бельгия,канада'\n",
      " 'франция-финляндия' 'колумбия-сша' 'великобритания,франция,бельгия'\n",
      " 'норвегия-нидерланды' 'великобритания,канада,сша' 'япония,великобритания'\n",
      " 'италия-бельгия-франция' 'россия,бельгия,финляндия' 'сша,украина'\n",
      " 'франция,норвегия'\n",
      " 'великобритания,южнаякорея,канада,сша,индия,китай,япония'\n",
      " 'канада-норвегия' 'германия,россия'\n",
      " 'польша-франция-испания-бразилия-швеция'\n",
      " 'австрия,великобритания,германия' 'франция-сенегал-бельгия'\n",
      " 'франция,бельгия,люксембург' 'финляндия,латвия' 'пакистан'\n",
      " 'германия,франция,сша' 'германия-великобритания-сша' 'кнр-франция'\n",
      " 'дания,норвегия,швеция,исландия' 'республикакипр,сша,россия'\n",
      " 'новаязеландия-кнр'\n",
      " 'дания-канада-швеция-франция-германия-великобритания-сша']\n"
     ]
    }
   ],
   "source": [
    "main_df['type'] = main_df['type'].str.lower()\n",
    "main_df['type'] = main_df['type'].str.replace(' ', '')\n",
    "print('\\n',main_df['type'].unique())\n",
    "\n",
    "main_df['production_country'] = main_df['production_country'].str.lower()\n",
    "main_df['production_country'] = main_df['production_country'].str.replace(' ', '')\n",
    "print('\\n',main_df['production_country'].unique())"
   ]
  },
  {
   "cell_type": "code",
   "execution_count": 104,
   "metadata": {},
   "outputs": [
    {
     "name": "stdout",
     "output_type": "stream",
     "text": [
      "0\n"
     ]
    }
   ],
   "source": [
    "#print(len(main_df) - len(main_df.drop_duplicates()))# проверяем количество явных дубликатов\n",
    "print(main_df.duplicated().sum())"
   ]
  },
  {
   "cell_type": "markdown",
   "metadata": {},
   "source": [
    "Явных дубликатов не обнаруженно.\n",
    "\n",
    "#### Шаг 2.4. Проверка количественных значений"
   ]
  },
  {
   "cell_type": "code",
   "execution_count": 105,
   "metadata": {
    "id": "YbzClBxagFyS"
   },
   "outputs": [
    {
     "data": {
      "text/html": [
       "<div>\n",
       "<style scoped>\n",
       "    .dataframe tbody tr th:only-of-type {\n",
       "        vertical-align: middle;\n",
       "    }\n",
       "\n",
       "    .dataframe tbody tr th {\n",
       "        vertical-align: top;\n",
       "    }\n",
       "\n",
       "    .dataframe thead th {\n",
       "        text-align: right;\n",
       "    }\n",
       "</style>\n",
       "<table border=\"1\" class=\"dataframe\">\n",
       "  <thead>\n",
       "    <tr style=\"text-align: right;\">\n",
       "      <th></th>\n",
       "      <th>count</th>\n",
       "      <th>mean</th>\n",
       "      <th>std</th>\n",
       "      <th>min</th>\n",
       "      <th>25%</th>\n",
       "      <th>50%</th>\n",
       "      <th>75%</th>\n",
       "      <th>max</th>\n",
       "    </tr>\n",
       "  </thead>\n",
       "  <tbody>\n",
       "    <tr>\n",
       "      <td>puNumber</td>\n",
       "      <td>332.0</td>\n",
       "      <td>1.115938e+08</td>\n",
       "      <td>5.703031e+06</td>\n",
       "      <td>111000115.0</td>\n",
       "      <td>111004891.5</td>\n",
       "      <td>1.110104e+08</td>\n",
       "      <td>1.110178e+08</td>\n",
       "      <td>2.140101e+08</td>\n",
       "    </tr>\n",
       "    <tr>\n",
       "      <td>refundable_support</td>\n",
       "      <td>332.0</td>\n",
       "      <td>1.186446e+07</td>\n",
       "      <td>2.491656e+07</td>\n",
       "      <td>0.0</td>\n",
       "      <td>0.0</td>\n",
       "      <td>0.000000e+00</td>\n",
       "      <td>1.500000e+07</td>\n",
       "      <td>1.800000e+08</td>\n",
       "    </tr>\n",
       "    <tr>\n",
       "      <td>nonrefundable_support</td>\n",
       "      <td>332.0</td>\n",
       "      <td>4.898099e+07</td>\n",
       "      <td>5.998012e+07</td>\n",
       "      <td>0.0</td>\n",
       "      <td>25000000.0</td>\n",
       "      <td>3.000000e+07</td>\n",
       "      <td>4.037500e+07</td>\n",
       "      <td>4.000000e+08</td>\n",
       "    </tr>\n",
       "    <tr>\n",
       "      <td>budget</td>\n",
       "      <td>332.0</td>\n",
       "      <td>1.272297e+08</td>\n",
       "      <td>1.885883e+08</td>\n",
       "      <td>0.0</td>\n",
       "      <td>42000000.0</td>\n",
       "      <td>6.864992e+07</td>\n",
       "      <td>1.419853e+08</td>\n",
       "      <td>2.305074e+09</td>\n",
       "    </tr>\n",
       "    <tr>\n",
       "      <td>ratings</td>\n",
       "      <td>316.0</td>\n",
       "      <td>6.020886e+00</td>\n",
       "      <td>1.148943e+00</td>\n",
       "      <td>1.0</td>\n",
       "      <td>5.3</td>\n",
       "      <td>6.200000e+00</td>\n",
       "      <td>6.700000e+00</td>\n",
       "      <td>9.400000e+00</td>\n",
       "    </tr>\n",
       "    <tr>\n",
       "      <td>box_office</td>\n",
       "      <td>318.0</td>\n",
       "      <td>1.324324e+08</td>\n",
       "      <td>3.348379e+08</td>\n",
       "      <td>1550.0</td>\n",
       "      <td>1236675.5</td>\n",
       "      <td>1.572007e+07</td>\n",
       "      <td>1.063730e+08</td>\n",
       "      <td>3.073569e+09</td>\n",
       "    </tr>\n",
       "  </tbody>\n",
       "</table>\n",
       "</div>"
      ],
      "text/plain": [
       "                       count          mean           std          min  \\\n",
       "puNumber               332.0  1.115938e+08  5.703031e+06  111000115.0   \n",
       "refundable_support     332.0  1.186446e+07  2.491656e+07          0.0   \n",
       "nonrefundable_support  332.0  4.898099e+07  5.998012e+07          0.0   \n",
       "budget                 332.0  1.272297e+08  1.885883e+08          0.0   \n",
       "ratings                316.0  6.020886e+00  1.148943e+00          1.0   \n",
       "box_office             318.0  1.324324e+08  3.348379e+08       1550.0   \n",
       "\n",
       "                               25%           50%           75%           max  \n",
       "puNumber               111004891.5  1.110104e+08  1.110178e+08  2.140101e+08  \n",
       "refundable_support             0.0  0.000000e+00  1.500000e+07  1.800000e+08  \n",
       "nonrefundable_support   25000000.0  3.000000e+07  4.037500e+07  4.000000e+08  \n",
       "budget                  42000000.0  6.864992e+07  1.419853e+08  2.305074e+09  \n",
       "ratings                        5.3  6.200000e+00  6.700000e+00  9.400000e+00  \n",
       "box_office               1236675.5  1.572007e+07  1.063730e+08  3.073569e+09  "
      ]
     },
     "metadata": {},
     "output_type": "display_data"
    }
   ],
   "source": [
    "display(main_df[main_df['budget'].isna() == False].describe().T)"
   ]
  },
  {
   "cell_type": "markdown",
   "metadata": {},
   "source": [
    "столбцы budget, refundable_support, nonrefundable_support, financing_source которые могу нас заинтересовать. Разумеется они почти все бьются в одно число потому что эти данные связанны с отечественными лентами и господдержкой."
   ]
  },
  {
   "cell_type": "code",
   "execution_count": 106,
   "metadata": {},
   "outputs": [
    {
     "data": {
      "text/html": [
       "<div>\n",
       "<style scoped>\n",
       "    .dataframe tbody tr th:only-of-type {\n",
       "        vertical-align: middle;\n",
       "    }\n",
       "\n",
       "    .dataframe tbody tr th {\n",
       "        vertical-align: top;\n",
       "    }\n",
       "\n",
       "    .dataframe thead th {\n",
       "        text-align: right;\n",
       "    }\n",
       "</style>\n",
       "<table border=\"1\" class=\"dataframe\">\n",
       "  <thead>\n",
       "    <tr style=\"text-align: right;\">\n",
       "      <th></th>\n",
       "      <th>title</th>\n",
       "      <th>puNumber</th>\n",
       "      <th>show_start_date</th>\n",
       "      <th>type</th>\n",
       "      <th>film_studio</th>\n",
       "      <th>production_country</th>\n",
       "      <th>director</th>\n",
       "      <th>producer</th>\n",
       "      <th>age_restriction</th>\n",
       "      <th>refundable_support</th>\n",
       "      <th>nonrefundable_support</th>\n",
       "      <th>budget</th>\n",
       "      <th>financing_source</th>\n",
       "      <th>ratings</th>\n",
       "      <th>genres</th>\n",
       "      <th>box_office</th>\n",
       "    </tr>\n",
       "  </thead>\n",
       "  <tbody>\n",
       "    <tr>\n",
       "      <td>2053</td>\n",
       "      <td>14+</td>\n",
       "      <td>111023614</td>\n",
       "      <td>2014-12-19 12:00:00+00:00</td>\n",
       "      <td>художественный</td>\n",
       "      <td>ООО Киностудия  \"Сентябрь\"</td>\n",
       "      <td>россия</td>\n",
       "      <td>А.Зайцев</td>\n",
       "      <td>О.Гранина, А.Зайцев</td>\n",
       "      <td>«16+» - для детей старше 16 лет</td>\n",
       "      <td>0.0</td>\n",
       "      <td>23000000.0</td>\n",
       "      <td>0.0</td>\n",
       "      <td>Министерство культуры, Фонд кино</td>\n",
       "      <td>6.6</td>\n",
       "      <td>мелодрама</td>\n",
       "      <td>1.023402e+07</td>\n",
       "    </tr>\n",
       "    <tr>\n",
       "      <td>2058</td>\n",
       "      <td>Дуxless 2</td>\n",
       "      <td>111000415</td>\n",
       "      <td>2015-01-26 12:00:00+00:00</td>\n",
       "      <td>художественный</td>\n",
       "      <td>ООО \"Киностудия \"Слово\", ООО \"Арт Пикчерс Студия\"</td>\n",
       "      <td>россия</td>\n",
       "      <td>Р.Прыгунов</td>\n",
       "      <td>П.Ануров, Ф.Бондарчук, Д.Рудовский</td>\n",
       "      <td>«16+» - для детей старше 16 лет</td>\n",
       "      <td>0.0</td>\n",
       "      <td>75000000.0</td>\n",
       "      <td>0.0</td>\n",
       "      <td>Фонд кино</td>\n",
       "      <td>6.6</td>\n",
       "      <td>драма</td>\n",
       "      <td>4.461635e+08</td>\n",
       "    </tr>\n",
       "    <tr>\n",
       "      <td>2472</td>\n",
       "      <td>Воин (2015)</td>\n",
       "      <td>111017315</td>\n",
       "      <td>2015-09-28 12:00:00+00:00</td>\n",
       "      <td>художественный</td>\n",
       "      <td>ООО \"Форпост Продакшн\", ООО \"Арт Пикчерс Студия\"</td>\n",
       "      <td>россия</td>\n",
       "      <td>А.Андрианов</td>\n",
       "      <td>ООО \"Арт Пикчерс Студия\"</td>\n",
       "      <td>«12+» - для детей старше 12 лет</td>\n",
       "      <td>10000000.0</td>\n",
       "      <td>70000000.0</td>\n",
       "      <td>0.0</td>\n",
       "      <td>Фонд кино</td>\n",
       "      <td>7.8</td>\n",
       "      <td>боевик,драма,криминал</td>\n",
       "      <td>1.965724e+08</td>\n",
       "    </tr>\n",
       "    <tr>\n",
       "      <td>2532</td>\n",
       "      <td>Бармен.</td>\n",
       "      <td>111009615</td>\n",
       "      <td>2015-05-26 12:00:00+00:00</td>\n",
       "      <td>художественный</td>\n",
       "      <td>АО \"ВайТ Медиа\", ООО \"Арт Пикчерс Студия\"</td>\n",
       "      <td>россия</td>\n",
       "      <td>Д.Штурманова</td>\n",
       "      <td>Т.Вайнштейн</td>\n",
       "      <td>«16+» - для детей старше 16 лет</td>\n",
       "      <td>20000000.0</td>\n",
       "      <td>0.0</td>\n",
       "      <td>0.0</td>\n",
       "      <td>Фонд кино</td>\n",
       "      <td>6.2</td>\n",
       "      <td>комедия,фэнтези</td>\n",
       "      <td>6.741897e+07</td>\n",
       "    </tr>\n",
       "    <tr>\n",
       "      <td>2615</td>\n",
       "      <td>Савва. Сердце воина</td>\n",
       "      <td>114001715</td>\n",
       "      <td>2015-07-21 12:00:00+00:00</td>\n",
       "      <td>анимационный</td>\n",
       "      <td>ООО \"Глюкоза Продакшн\", ООО \"Арт Пикчерс Студия\"</td>\n",
       "      <td>россия</td>\n",
       "      <td>М.Фадеев</td>\n",
       "      <td>А.Чистяков</td>\n",
       "      <td>«6+» - для детей старше 6 лет</td>\n",
       "      <td>60000000.0</td>\n",
       "      <td>100000000.0</td>\n",
       "      <td>0.0</td>\n",
       "      <td>Фонд кино</td>\n",
       "      <td>4.6</td>\n",
       "      <td>мультфильм,приключения,фэнтези</td>\n",
       "      <td>1.844876e+08</td>\n",
       "    </tr>\n",
       "    <tr>\n",
       "      <td>2684</td>\n",
       "      <td>Тряпичный союз</td>\n",
       "      <td>111010215</td>\n",
       "      <td>2015-06-08 12:00:00+00:00</td>\n",
       "      <td>художественный</td>\n",
       "      <td>ООО \"Кинокомпания \"КОКТЕБЕЛЬ\"</td>\n",
       "      <td>россия</td>\n",
       "      <td>М.Местецкий</td>\n",
       "      <td>Р.Борисевич, А.Кушаев</td>\n",
       "      <td>«18+» - запрещено для детей</td>\n",
       "      <td>0.0</td>\n",
       "      <td>59000000.0</td>\n",
       "      <td>0.0</td>\n",
       "      <td>Фонд кино</td>\n",
       "      <td>6.3</td>\n",
       "      <td>комедия,драма</td>\n",
       "      <td>1.957739e+06</td>\n",
       "    </tr>\n",
       "    <tr>\n",
       "      <td>2788</td>\n",
       "      <td>Срочно выйду замуж</td>\n",
       "      <td>111017115</td>\n",
       "      <td>2015-09-30 12:00:00+00:00</td>\n",
       "      <td>художественный</td>\n",
       "      <td>АО \"ВайТ Медиа\", ООО \"Арт Пикчерс Студия\"</td>\n",
       "      <td>россия</td>\n",
       "      <td>С Чекалов</td>\n",
       "      <td>Ф.Бондарчук, Т.Вайнштейн, Д.Рудовский</td>\n",
       "      <td>«16+» - для детей старше 16 лет</td>\n",
       "      <td>0.0</td>\n",
       "      <td>35000000.0</td>\n",
       "      <td>0.0</td>\n",
       "      <td>Фонд кино</td>\n",
       "      <td>5.1</td>\n",
       "      <td>комедия,мелодрама</td>\n",
       "      <td>7.293778e+07</td>\n",
       "    </tr>\n",
       "    <tr>\n",
       "      <td>2874</td>\n",
       "      <td>Помню - не помню!</td>\n",
       "      <td>111004916</td>\n",
       "      <td>2016-03-01 12:00:00+00:00</td>\n",
       "      <td>художественный</td>\n",
       "      <td>ООО \"КиноФирма\"</td>\n",
       "      <td>россия</td>\n",
       "      <td>В.Ровенский</td>\n",
       "      <td>ООО \"КиноФирма\"</td>\n",
       "      <td>«12+» - для детей старше 12 лет</td>\n",
       "      <td>0.0</td>\n",
       "      <td>6000000.0</td>\n",
       "      <td>0.0</td>\n",
       "      <td>Министерство культуры</td>\n",
       "      <td>4.3</td>\n",
       "      <td>комедия</td>\n",
       "      <td>1.536293e+07</td>\n",
       "    </tr>\n",
       "    <tr>\n",
       "      <td>3047</td>\n",
       "      <td>Любовь с ограничениями</td>\n",
       "      <td>111008216</td>\n",
       "      <td>2016-04-29 12:00:00+00:00</td>\n",
       "      <td>художественный</td>\n",
       "      <td>АО \"ВайТ Медиа\", ООО \"Арт Пикчерс Студия\"</td>\n",
       "      <td>россия</td>\n",
       "      <td>Д.Тюрин</td>\n",
       "      <td>Ф.Бондарчук, Т.Вайнштейн, Д.Рудовский</td>\n",
       "      <td>«16+» - для детей старше 16 лет</td>\n",
       "      <td>19000000.0</td>\n",
       "      <td>51000000.0</td>\n",
       "      <td>0.0</td>\n",
       "      <td>Фонд кино</td>\n",
       "      <td>6.3</td>\n",
       "      <td>комедия,мелодрама</td>\n",
       "      <td>7.029905e+07</td>\n",
       "    </tr>\n",
       "    <tr>\n",
       "      <td>3565</td>\n",
       "      <td>Притяжение (2016)</td>\n",
       "      <td>111018116</td>\n",
       "      <td>2016-12-16 12:00:00+00:00</td>\n",
       "      <td>художественный</td>\n",
       "      <td>ООО \"Водород 2011\",  ООО \"Арт Пикчерс Студия\"</td>\n",
       "      <td>россия</td>\n",
       "      <td>Ф.Бондарчук</td>\n",
       "      <td>ООО \"Арт Пикчерс Студия\"</td>\n",
       "      <td>«12+» - для детей старше 12 лет</td>\n",
       "      <td>0.0</td>\n",
       "      <td>250000000.0</td>\n",
       "      <td>0.0</td>\n",
       "      <td>Фонд кино</td>\n",
       "      <td>5.6</td>\n",
       "      <td>фантастика</td>\n",
       "      <td>1.038321e+09</td>\n",
       "    </tr>\n",
       "    <tr>\n",
       "      <td>3675</td>\n",
       "      <td>Чудо-юдо</td>\n",
       "      <td>114001817</td>\n",
       "      <td>2017-06-27 12:00:00+00:00</td>\n",
       "      <td>анимационный</td>\n",
       "      <td>ООО \"КиноФирма\"</td>\n",
       "      <td>россия</td>\n",
       "      <td>А.Лукичев</td>\n",
       "      <td>ООО \"КиноФирма\"</td>\n",
       "      <td>«6+» - для детей старше 6 лет</td>\n",
       "      <td>20000000.0</td>\n",
       "      <td>20000000.0</td>\n",
       "      <td>0.0</td>\n",
       "      <td>Фонд кино</td>\n",
       "      <td>5.2</td>\n",
       "      <td>мультфильм,фэнтези,семейный</td>\n",
       "      <td>5.510801e+07</td>\n",
       "    </tr>\n",
       "    <tr>\n",
       "      <td>3739</td>\n",
       "      <td>Мифы</td>\n",
       "      <td>111004317</td>\n",
       "      <td>2017-06-07 12:00:00+00:00</td>\n",
       "      <td>художественный</td>\n",
       "      <td>ООО \"ХАЙПФИЛМ\", ООО \"Арт Пикчерс Студия\"</td>\n",
       "      <td>россия</td>\n",
       "      <td>А.Молочников</td>\n",
       "      <td>Ф.Бондарчук, Д.Рудовский, И.Стюарт, М.Османн, ...</td>\n",
       "      <td>«16+» - для детей старше 16 лет</td>\n",
       "      <td>25000000.0</td>\n",
       "      <td>20000000.0</td>\n",
       "      <td>0.0</td>\n",
       "      <td>Фонд кино</td>\n",
       "      <td>4.8</td>\n",
       "      <td>комедия</td>\n",
       "      <td>5.045195e+07</td>\n",
       "    </tr>\n",
       "    <tr>\n",
       "      <td>5673</td>\n",
       "      <td>Селфи</td>\n",
       "      <td>111012117</td>\n",
       "      <td>2018-02-01 12:00:00+00:00</td>\n",
       "      <td>художественный</td>\n",
       "      <td>ООО \"Киностудия \"Слово\", ООО \"Арт Пикчерс Студия\"</td>\n",
       "      <td>россия</td>\n",
       "      <td>Н.Хомерики</td>\n",
       "      <td>П.Ануров, Ф.Бондарчук, Д.Рудовский</td>\n",
       "      <td>«16+» - для детей старше 16 лет</td>\n",
       "      <td>20000000.0</td>\n",
       "      <td>40000000.0</td>\n",
       "      <td>0.0</td>\n",
       "      <td>Фонд кино</td>\n",
       "      <td>5.8</td>\n",
       "      <td>триллер,драма</td>\n",
       "      <td>2.251964e+08</td>\n",
       "    </tr>\n",
       "    <tr>\n",
       "      <td>5806</td>\n",
       "      <td>Два хвоста</td>\n",
       "      <td>114001018</td>\n",
       "      <td>2018-05-31 12:00:00+00:00</td>\n",
       "      <td>анимационный</td>\n",
       "      <td>ООО \"ЛИЦЕНЗИОННЫЕ БРЕНДЫ\"</td>\n",
       "      <td>россия</td>\n",
       "      <td>В.Ровенский, Н.Лопато, В.Азеев</td>\n",
       "      <td>ООО \"ЛИЦЕНЗИОННЫЕ БРЕНДЫ\"</td>\n",
       "      <td>«6+» - для детей старше 6 лет</td>\n",
       "      <td>10000000.0</td>\n",
       "      <td>60000000.0</td>\n",
       "      <td>0.0</td>\n",
       "      <td>Фонд кино</td>\n",
       "      <td>5.0</td>\n",
       "      <td>мультфильм,детский</td>\n",
       "      <td>1.065143e+08</td>\n",
       "    </tr>\n",
       "    <tr>\n",
       "      <td>6008</td>\n",
       "      <td>Принцесса и дракон</td>\n",
       "      <td>114003018</td>\n",
       "      <td>2018-08-23 12:00:00+00:00</td>\n",
       "      <td>анимационный</td>\n",
       "      <td>ООО \"ЛИЦЕНЗИОННЫЕ БРЕНДЫ\"</td>\n",
       "      <td>россия</td>\n",
       "      <td>М.Нефедова</td>\n",
       "      <td>ООО \"ЛИЦЕНЗИОННЫЕ БРЕНДЫ\"</td>\n",
       "      <td>«6+» - для детей старше 6 лет</td>\n",
       "      <td>40000000.0</td>\n",
       "      <td>40000000.0</td>\n",
       "      <td>0.0</td>\n",
       "      <td>Фонд кино</td>\n",
       "      <td>5.2</td>\n",
       "      <td>мультфильм,фэнтези,детский</td>\n",
       "      <td>8.336633e+07</td>\n",
       "    </tr>\n",
       "    <tr>\n",
       "      <td>6323</td>\n",
       "      <td>Баба Яга</td>\n",
       "      <td>114006518</td>\n",
       "      <td>2018-11-08 12:00:00+00:00</td>\n",
       "      <td>анимационный</td>\n",
       "      <td>ООО \"Арт Пикчерс Студия\"</td>\n",
       "      <td>россия</td>\n",
       "      <td>В.Саков</td>\n",
       "      <td>ООО \"Арт Пикчерс Студия\", ООО \"КРИЭЙТИВ АНИМЭЙ...</td>\n",
       "      <td>«6+» - для детей старше 6 лет</td>\n",
       "      <td>0.0</td>\n",
       "      <td>138969465.0</td>\n",
       "      <td>0.0</td>\n",
       "      <td>Фонд кино</td>\n",
       "      <td>NaN</td>\n",
       "      <td>NaN</td>\n",
       "      <td>1.334699e+06</td>\n",
       "    </tr>\n",
       "    <tr>\n",
       "      <td>6823</td>\n",
       "      <td>Большое путешествие</td>\n",
       "      <td>114002419</td>\n",
       "      <td>2019-04-20 12:00:00+00:00</td>\n",
       "      <td>анимационный</td>\n",
       "      <td>ООО \"ЛИЦЕНЗИОННЫЕ БРЕНДЫ\"</td>\n",
       "      <td>россия</td>\n",
       "      <td>Н.Лопато, В.Ровенский</td>\n",
       "      <td>ООО \"ЛИЦЕНЗИОННЫЕ БРЕНДЫ\"</td>\n",
       "      <td>«6+» - для детей старше 6 лет</td>\n",
       "      <td>60000000.0</td>\n",
       "      <td>120000000.0</td>\n",
       "      <td>0.0</td>\n",
       "      <td>Фонд кино</td>\n",
       "      <td>6.2</td>\n",
       "      <td>мультфильм,комедия,приключения</td>\n",
       "      <td>1.476068e+08</td>\n",
       "    </tr>\n",
       "  </tbody>\n",
       "</table>\n",
       "</div>"
      ],
      "text/plain": [
       "                       title   puNumber           show_start_date  \\\n",
       "2053                     14+  111023614 2014-12-19 12:00:00+00:00   \n",
       "2058               Дуxless 2  111000415 2015-01-26 12:00:00+00:00   \n",
       "2472             Воин (2015)  111017315 2015-09-28 12:00:00+00:00   \n",
       "2532                 Бармен.  111009615 2015-05-26 12:00:00+00:00   \n",
       "2615     Савва. Сердце воина  114001715 2015-07-21 12:00:00+00:00   \n",
       "2684          Тряпичный союз  111010215 2015-06-08 12:00:00+00:00   \n",
       "2788      Срочно выйду замуж  111017115 2015-09-30 12:00:00+00:00   \n",
       "2874       Помню - не помню!  111004916 2016-03-01 12:00:00+00:00   \n",
       "3047  Любовь с ограничениями  111008216 2016-04-29 12:00:00+00:00   \n",
       "3565       Притяжение (2016)  111018116 2016-12-16 12:00:00+00:00   \n",
       "3675                Чудо-юдо  114001817 2017-06-27 12:00:00+00:00   \n",
       "3739                    Мифы  111004317 2017-06-07 12:00:00+00:00   \n",
       "5673                   Селфи  111012117 2018-02-01 12:00:00+00:00   \n",
       "5806              Два хвоста  114001018 2018-05-31 12:00:00+00:00   \n",
       "6008      Принцесса и дракон  114003018 2018-08-23 12:00:00+00:00   \n",
       "6323                Баба Яга  114006518 2018-11-08 12:00:00+00:00   \n",
       "6823     Большое путешествие  114002419 2019-04-20 12:00:00+00:00   \n",
       "\n",
       "                type                                        film_studio  \\\n",
       "2053  художественный                         ООО Киностудия  \"Сентябрь\"   \n",
       "2058  художественный  ООО \"Киностудия \"Слово\", ООО \"Арт Пикчерс Студия\"   \n",
       "2472  художественный   ООО \"Форпост Продакшн\", ООО \"Арт Пикчерс Студия\"   \n",
       "2532  художественный          АО \"ВайТ Медиа\", ООО \"Арт Пикчерс Студия\"   \n",
       "2615    анимационный   ООО \"Глюкоза Продакшн\", ООО \"Арт Пикчерс Студия\"   \n",
       "2684  художественный                      ООО \"Кинокомпания \"КОКТЕБЕЛЬ\"   \n",
       "2788  художественный          АО \"ВайТ Медиа\", ООО \"Арт Пикчерс Студия\"   \n",
       "2874  художественный                                    ООО \"КиноФирма\"   \n",
       "3047  художественный          АО \"ВайТ Медиа\", ООО \"Арт Пикчерс Студия\"   \n",
       "3565  художественный      ООО \"Водород 2011\",  ООО \"Арт Пикчерс Студия\"   \n",
       "3675    анимационный                                    ООО \"КиноФирма\"   \n",
       "3739  художественный           ООО \"ХАЙПФИЛМ\", ООО \"Арт Пикчерс Студия\"   \n",
       "5673  художественный  ООО \"Киностудия \"Слово\", ООО \"Арт Пикчерс Студия\"   \n",
       "5806    анимационный                          ООО \"ЛИЦЕНЗИОННЫЕ БРЕНДЫ\"   \n",
       "6008    анимационный                          ООО \"ЛИЦЕНЗИОННЫЕ БРЕНДЫ\"   \n",
       "6323    анимационный                           ООО \"Арт Пикчерс Студия\"   \n",
       "6823    анимационный                          ООО \"ЛИЦЕНЗИОННЫЕ БРЕНДЫ\"   \n",
       "\n",
       "     production_country                        director  \\\n",
       "2053             россия                        А.Зайцев   \n",
       "2058             россия                      Р.Прыгунов   \n",
       "2472             россия                     А.Андрианов   \n",
       "2532             россия                    Д.Штурманова   \n",
       "2615             россия                        М.Фадеев   \n",
       "2684             россия                     М.Местецкий   \n",
       "2788             россия                       С Чекалов   \n",
       "2874             россия                     В.Ровенский   \n",
       "3047             россия                         Д.Тюрин   \n",
       "3565             россия                     Ф.Бондарчук   \n",
       "3675             россия                       А.Лукичев   \n",
       "3739             россия                    А.Молочников   \n",
       "5673             россия                      Н.Хомерики   \n",
       "5806             россия  В.Ровенский, Н.Лопато, В.Азеев   \n",
       "6008             россия                      М.Нефедова   \n",
       "6323             россия                         В.Саков   \n",
       "6823             россия           Н.Лопато, В.Ровенский   \n",
       "\n",
       "                                               producer  \\\n",
       "2053                                О.Гранина, А.Зайцев   \n",
       "2058                 П.Ануров, Ф.Бондарчук, Д.Рудовский   \n",
       "2472                           ООО \"Арт Пикчерс Студия\"   \n",
       "2532                                        Т.Вайнштейн   \n",
       "2615                                         А.Чистяков   \n",
       "2684                              Р.Борисевич, А.Кушаев   \n",
       "2788              Ф.Бондарчук, Т.Вайнштейн, Д.Рудовский   \n",
       "2874                                    ООО \"КиноФирма\"   \n",
       "3047              Ф.Бондарчук, Т.Вайнштейн, Д.Рудовский   \n",
       "3565                           ООО \"Арт Пикчерс Студия\"   \n",
       "3675                                    ООО \"КиноФирма\"   \n",
       "3739  Ф.Бондарчук, Д.Рудовский, И.Стюарт, М.Османн, ...   \n",
       "5673                 П.Ануров, Ф.Бондарчук, Д.Рудовский   \n",
       "5806                          ООО \"ЛИЦЕНЗИОННЫЕ БРЕНДЫ\"   \n",
       "6008                          ООО \"ЛИЦЕНЗИОННЫЕ БРЕНДЫ\"   \n",
       "6323  ООО \"Арт Пикчерс Студия\", ООО \"КРИЭЙТИВ АНИМЭЙ...   \n",
       "6823                          ООО \"ЛИЦЕНЗИОННЫЕ БРЕНДЫ\"   \n",
       "\n",
       "                      age_restriction  refundable_support  \\\n",
       "2053  «16+» - для детей старше 16 лет                 0.0   \n",
       "2058  «16+» - для детей старше 16 лет                 0.0   \n",
       "2472  «12+» - для детей старше 12 лет          10000000.0   \n",
       "2532  «16+» - для детей старше 16 лет          20000000.0   \n",
       "2615    «6+» - для детей старше 6 лет          60000000.0   \n",
       "2684      «18+» - запрещено для детей                 0.0   \n",
       "2788  «16+» - для детей старше 16 лет                 0.0   \n",
       "2874  «12+» - для детей старше 12 лет                 0.0   \n",
       "3047  «16+» - для детей старше 16 лет          19000000.0   \n",
       "3565  «12+» - для детей старше 12 лет                 0.0   \n",
       "3675    «6+» - для детей старше 6 лет          20000000.0   \n",
       "3739  «16+» - для детей старше 16 лет          25000000.0   \n",
       "5673  «16+» - для детей старше 16 лет          20000000.0   \n",
       "5806    «6+» - для детей старше 6 лет          10000000.0   \n",
       "6008    «6+» - для детей старше 6 лет          40000000.0   \n",
       "6323    «6+» - для детей старше 6 лет                 0.0   \n",
       "6823    «6+» - для детей старше 6 лет          60000000.0   \n",
       "\n",
       "      nonrefundable_support  budget                  financing_source  \\\n",
       "2053             23000000.0     0.0  Министерство культуры, Фонд кино   \n",
       "2058             75000000.0     0.0                         Фонд кино   \n",
       "2472             70000000.0     0.0                         Фонд кино   \n",
       "2532                    0.0     0.0                         Фонд кино   \n",
       "2615            100000000.0     0.0                         Фонд кино   \n",
       "2684             59000000.0     0.0                         Фонд кино   \n",
       "2788             35000000.0     0.0                         Фонд кино   \n",
       "2874              6000000.0     0.0             Министерство культуры   \n",
       "3047             51000000.0     0.0                         Фонд кино   \n",
       "3565            250000000.0     0.0                         Фонд кино   \n",
       "3675             20000000.0     0.0                         Фонд кино   \n",
       "3739             20000000.0     0.0                         Фонд кино   \n",
       "5673             40000000.0     0.0                         Фонд кино   \n",
       "5806             60000000.0     0.0                         Фонд кино   \n",
       "6008             40000000.0     0.0                         Фонд кино   \n",
       "6323            138969465.0     0.0                         Фонд кино   \n",
       "6823            120000000.0     0.0                         Фонд кино   \n",
       "\n",
       "      ratings                          genres    box_office  \n",
       "2053      6.6                       мелодрама  1.023402e+07  \n",
       "2058      6.6                           драма  4.461635e+08  \n",
       "2472      7.8           боевик,драма,криминал  1.965724e+08  \n",
       "2532      6.2                 комедия,фэнтези  6.741897e+07  \n",
       "2615      4.6  мультфильм,приключения,фэнтези  1.844876e+08  \n",
       "2684      6.3                   комедия,драма  1.957739e+06  \n",
       "2788      5.1               комедия,мелодрама  7.293778e+07  \n",
       "2874      4.3                         комедия  1.536293e+07  \n",
       "3047      6.3               комедия,мелодрама  7.029905e+07  \n",
       "3565      5.6                      фантастика  1.038321e+09  \n",
       "3675      5.2     мультфильм,фэнтези,семейный  5.510801e+07  \n",
       "3739      4.8                         комедия  5.045195e+07  \n",
       "5673      5.8                   триллер,драма  2.251964e+08  \n",
       "5806      5.0              мультфильм,детский  1.065143e+08  \n",
       "6008      5.2      мультфильм,фэнтези,детский  8.336633e+07  \n",
       "6323      NaN                             NaN  1.334699e+06  \n",
       "6823      6.2  мультфильм,комедия,приключения  1.476068e+08  "
      ]
     },
     "metadata": {},
     "output_type": "display_data"
    }
   ],
   "source": [
    "display(main_df[main_df['budget'] == 0])"
   ]
  },
  {
   "cell_type": "markdown",
   "metadata": {},
   "source": [
    "У бюджета есть 0, что является ошибкой, заполнять суммой возвратных/невозвратных средств будет не корректно, но 0 немного просто удалим их."
   ]
  },
  {
   "cell_type": "code",
   "execution_count": 107,
   "metadata": {},
   "outputs": [],
   "source": [
    "main_df = main_df[main_df['budget'] != 0].reset_index(drop=True)"
   ]
  },
  {
   "cell_type": "code",
   "execution_count": 108,
   "metadata": {},
   "outputs": [
    {
     "data": {
      "text/html": [
       "<div>\n",
       "<style scoped>\n",
       "    .dataframe tbody tr th:only-of-type {\n",
       "        vertical-align: middle;\n",
       "    }\n",
       "\n",
       "    .dataframe tbody tr th {\n",
       "        vertical-align: top;\n",
       "    }\n",
       "\n",
       "    .dataframe thead th {\n",
       "        text-align: right;\n",
       "    }\n",
       "</style>\n",
       "<table border=\"1\" class=\"dataframe\">\n",
       "  <thead>\n",
       "    <tr style=\"text-align: right;\">\n",
       "      <th></th>\n",
       "      <th>title</th>\n",
       "      <th>puNumber</th>\n",
       "      <th>show_start_date</th>\n",
       "      <th>type</th>\n",
       "      <th>film_studio</th>\n",
       "      <th>production_country</th>\n",
       "      <th>director</th>\n",
       "      <th>producer</th>\n",
       "      <th>age_restriction</th>\n",
       "      <th>refundable_support</th>\n",
       "      <th>nonrefundable_support</th>\n",
       "      <th>budget</th>\n",
       "      <th>financing_source</th>\n",
       "      <th>ratings</th>\n",
       "      <th>genres</th>\n",
       "      <th>box_office</th>\n",
       "    </tr>\n",
       "  </thead>\n",
       "  <tbody>\n",
       "    <tr>\n",
       "      <td>66</td>\n",
       "      <td>Анна Павлова</td>\n",
       "      <td>111011013</td>\n",
       "      <td>2013-12-19 12:00:00+00:00</td>\n",
       "      <td>художественный</td>\n",
       "      <td>совместное производство Киностудия \"Мосфильм\",...</td>\n",
       "      <td>ссср,франция,англия,куба,гдр</td>\n",
       "      <td>Эмиль Лотяну</td>\n",
       "      <td>NaN</td>\n",
       "      <td>«6+» - для детей старше 6 лет</td>\n",
       "      <td>NaN</td>\n",
       "      <td>NaN</td>\n",
       "      <td>NaN</td>\n",
       "      <td>NaN</td>\n",
       "      <td>7.7</td>\n",
       "      <td>драма,биография,музыка</td>\n",
       "      <td>0.0</td>\n",
       "    </tr>\n",
       "    <tr>\n",
       "      <td>237</td>\n",
       "      <td>Подранки</td>\n",
       "      <td>111007613</td>\n",
       "      <td>2013-10-18 12:00:00+00:00</td>\n",
       "      <td>художественный</td>\n",
       "      <td>Киностудия \"Мосфильм\"</td>\n",
       "      <td>ссср</td>\n",
       "      <td>Н.Губенко</td>\n",
       "      <td>NaN</td>\n",
       "      <td>«12+» - для детей старше 12 лет</td>\n",
       "      <td>NaN</td>\n",
       "      <td>NaN</td>\n",
       "      <td>NaN</td>\n",
       "      <td>NaN</td>\n",
       "      <td>8.2</td>\n",
       "      <td>драма</td>\n",
       "      <td>0.0</td>\n",
       "    </tr>\n",
       "    <tr>\n",
       "      <td>596</td>\n",
       "      <td>Запах вереска</td>\n",
       "      <td>111003012</td>\n",
       "      <td>2012-05-23 12:00:00+00:00</td>\n",
       "      <td>художественный</td>\n",
       "      <td>ООО \"Студия РИМ\"</td>\n",
       "      <td>россия</td>\n",
       "      <td>А.Магомедов</td>\n",
       "      <td>М.Балашова, Е.Миронов</td>\n",
       "      <td>«16+» - для детей старше 16 лет</td>\n",
       "      <td>NaN</td>\n",
       "      <td>NaN</td>\n",
       "      <td>NaN</td>\n",
       "      <td>NaN</td>\n",
       "      <td>6.3</td>\n",
       "      <td>комедия</td>\n",
       "      <td>0.0</td>\n",
       "    </tr>\n",
       "    <tr>\n",
       "      <td>914</td>\n",
       "      <td>В тумане /По одноименной повести Василя Быкова/</td>\n",
       "      <td>121027712</td>\n",
       "      <td>2012-11-07 12:00:00+00:00</td>\n",
       "      <td>художественный</td>\n",
       "      <td>Ма Йа Де Фикшн, Лемминг Филм, Беларусьфильм, Д...</td>\n",
       "      <td>германия-нидерланды-беларусь-россия-латвия</td>\n",
       "      <td>Сергей Лозница</td>\n",
       "      <td>Хайно Декерт</td>\n",
       "      <td>«12+» - для детей старше 12 лет</td>\n",
       "      <td>NaN</td>\n",
       "      <td>NaN</td>\n",
       "      <td>NaN</td>\n",
       "      <td>NaN</td>\n",
       "      <td>6.5</td>\n",
       "      <td>драма,военный,история</td>\n",
       "      <td>0.0</td>\n",
       "    </tr>\n",
       "    <tr>\n",
       "      <td>932</td>\n",
       "      <td>Письмо для Момо</td>\n",
       "      <td>124002912</td>\n",
       "      <td>2012-10-25 12:00:00+00:00</td>\n",
       "      <td>анимационный</td>\n",
       "      <td>Кадокава Пикчерз, Продакшнз И Джи, Токио Броад...</td>\n",
       "      <td>япония</td>\n",
       "      <td>Окиура Хироюки</td>\n",
       "      <td>Хироюки Икеда, Митсухиса Ишикава, Кацзуя Хамана</td>\n",
       "      <td>«12+» - для детей старше 12 лет</td>\n",
       "      <td>NaN</td>\n",
       "      <td>NaN</td>\n",
       "      <td>NaN</td>\n",
       "      <td>NaN</td>\n",
       "      <td>7.4</td>\n",
       "      <td>аниме,мультфильм,драма</td>\n",
       "      <td>0.0</td>\n",
       "    </tr>\n",
       "    <tr>\n",
       "      <td>933</td>\n",
       "      <td>Летние войны</td>\n",
       "      <td>124002812</td>\n",
       "      <td>2012-10-25 12:00:00+00:00</td>\n",
       "      <td>анимационный</td>\n",
       "      <td>Медхауз, Ниппон Телевижн Нетуорк Корпорейшн, К...</td>\n",
       "      <td>япония</td>\n",
       "      <td>Мамору Хосода</td>\n",
       "      <td>Такафуми Ватанабэ, Такуя Ито, Сэйдзи Окуда, Юи...</td>\n",
       "      <td>«12+» - для детей старше 12 лет</td>\n",
       "      <td>NaN</td>\n",
       "      <td>NaN</td>\n",
       "      <td>NaN</td>\n",
       "      <td>NaN</td>\n",
       "      <td>7.7</td>\n",
       "      <td>аниме,мультфильм,фантастика</td>\n",
       "      <td>0.0</td>\n",
       "    </tr>\n",
       "    <tr>\n",
       "      <td>976</td>\n",
       "      <td>Гарегин Нжде</td>\n",
       "      <td>131000213</td>\n",
       "      <td>2013-04-23 12:00:00+00:00</td>\n",
       "      <td>художественный</td>\n",
       "      <td>Эй Джи Кей Продакшнз, Пан Армениан Медиа Групп</td>\n",
       "      <td>армения</td>\n",
       "      <td>Грач Кешишян</td>\n",
       "      <td>Грач Кешишян</td>\n",
       "      <td>«12+» - для детей старше 12 лет</td>\n",
       "      <td>NaN</td>\n",
       "      <td>NaN</td>\n",
       "      <td>NaN</td>\n",
       "      <td>NaN</td>\n",
       "      <td>7.9</td>\n",
       "      <td>биография</td>\n",
       "      <td>0.0</td>\n",
       "    </tr>\n",
       "    <tr>\n",
       "      <td>1126</td>\n",
       "      <td>Марафон</td>\n",
       "      <td>111006712</td>\n",
       "      <td>2012-12-18 12:00:00+00:00</td>\n",
       "      <td>художественный</td>\n",
       "      <td>ООО \"Синема Арт Студио\"</td>\n",
       "      <td>россия</td>\n",
       "      <td>К.Оганесян</td>\n",
       "      <td>К.Оганесян</td>\n",
       "      <td>«16+» - для детей старше 16 лет</td>\n",
       "      <td>NaN</td>\n",
       "      <td>NaN</td>\n",
       "      <td>NaN</td>\n",
       "      <td>NaN</td>\n",
       "      <td>5.5</td>\n",
       "      <td>комедия,мелодрама</td>\n",
       "      <td>0.0</td>\n",
       "    </tr>\n",
       "    <tr>\n",
       "      <td>1387</td>\n",
       "      <td>Экзамен для двоих /По роману Джин Ханфф Корелитц/</td>\n",
       "      <td>121014613</td>\n",
       "      <td>2013-06-11 12:00:00+00:00</td>\n",
       "      <td>художественный</td>\n",
       "      <td>Депф оф Филд</td>\n",
       "      <td>сша</td>\n",
       "      <td>Пол Вайц</td>\n",
       "      <td>Пол Вайц, Керри Кохански, Эндрю Миано</td>\n",
       "      <td>«12+» - для детей старше 12 лет</td>\n",
       "      <td>NaN</td>\n",
       "      <td>NaN</td>\n",
       "      <td>NaN</td>\n",
       "      <td>NaN</td>\n",
       "      <td>5.8</td>\n",
       "      <td>мелодрама,комедия,драма</td>\n",
       "      <td>0.0</td>\n",
       "    </tr>\n",
       "    <tr>\n",
       "      <td>1559</td>\n",
       "      <td>Последняя любовь мистера Моргана /По роману Фр...</td>\n",
       "      <td>121002614</td>\n",
       "      <td>2014-02-11 12:00:00+00:00</td>\n",
       "      <td>художественный</td>\n",
       "      <td>Камински Штим Фильм, Бавариа Пикчерз, Сенатор ...</td>\n",
       "      <td>германия-бельгия-сша-франция</td>\n",
       "      <td>Сандра Неттельбек</td>\n",
       "      <td>Франк Камински, Астрид Камке, Филипп Кройцер, ...</td>\n",
       "      <td>«16+» - для детей старше 16 лет</td>\n",
       "      <td>NaN</td>\n",
       "      <td>NaN</td>\n",
       "      <td>NaN</td>\n",
       "      <td>NaN</td>\n",
       "      <td>6.9</td>\n",
       "      <td>драма</td>\n",
       "      <td>0.0</td>\n",
       "    </tr>\n",
       "    <tr>\n",
       "      <td>1772</td>\n",
       "      <td>Весёлые ребята ;)</td>\n",
       "      <td>111002414</td>\n",
       "      <td>2014-02-27 12:00:00+00:00</td>\n",
       "      <td>художественный</td>\n",
       "      <td>ЗАО \"ПРОДЮСЕРСКАЯ КОМПАНИЯ ВАЛЕРИЯ ТОДОРОВСКОГО\"</td>\n",
       "      <td>россия</td>\n",
       "      <td>А.Бобров</td>\n",
       "      <td>В.Тодоровский</td>\n",
       "      <td>«6+» - для детей старше 6 лет</td>\n",
       "      <td>NaN</td>\n",
       "      <td>NaN</td>\n",
       "      <td>NaN</td>\n",
       "      <td>NaN</td>\n",
       "      <td>NaN</td>\n",
       "      <td>NaN</td>\n",
       "      <td>0.0</td>\n",
       "    </tr>\n",
       "    <tr>\n",
       "      <td>1782</td>\n",
       "      <td>Анжелика, маркиза ангелов</td>\n",
       "      <td>121031913</td>\n",
       "      <td>2013-12-12 12:00:00+00:00</td>\n",
       "      <td>художественный</td>\n",
       "      <td>Европа Корп., МонаФилм, ВилмаФилм</td>\n",
       "      <td>франция</td>\n",
       "      <td>Ариэль Зейтун</td>\n",
       "      <td>Эммануэль Жаклин, Павел Солк, Филипп Херинг</td>\n",
       "      <td>«16+» - для детей старше 16 лет</td>\n",
       "      <td>NaN</td>\n",
       "      <td>NaN</td>\n",
       "      <td>NaN</td>\n",
       "      <td>NaN</td>\n",
       "      <td>8.0</td>\n",
       "      <td>драма,мелодрама,приключения</td>\n",
       "      <td>0.0</td>\n",
       "    </tr>\n",
       "    <tr>\n",
       "      <td>1978</td>\n",
       "      <td>Люблю твою жену</td>\n",
       "      <td>121013014</td>\n",
       "      <td>2014-06-23 12:00:00+00:00</td>\n",
       "      <td>художественный</td>\n",
       "      <td>Серендипити Пойнт Фильм, Номадик Пикчерз</td>\n",
       "      <td>канада</td>\n",
       "      <td>Джеримайя С.Чечик</td>\n",
       "      <td>Стефен Аликс, Эри Лантос, Роберт Лантош</td>\n",
       "      <td>«16+» - для детей старше 16 лет</td>\n",
       "      <td>NaN</td>\n",
       "      <td>NaN</td>\n",
       "      <td>NaN</td>\n",
       "      <td>NaN</td>\n",
       "      <td>6.0</td>\n",
       "      <td>мелодрама,комедия</td>\n",
       "      <td>0.0</td>\n",
       "    </tr>\n",
       "    <tr>\n",
       "      <td>2037</td>\n",
       "      <td>Кино про Алексеева</td>\n",
       "      <td>111007114</td>\n",
       "      <td>2014-07-18 12:00:00+00:00</td>\n",
       "      <td>художественный</td>\n",
       "      <td>ООО \"Кинокомпания \"Новые люди\"</td>\n",
       "      <td>россия</td>\n",
       "      <td>М.Сегал</td>\n",
       "      <td>Н.Мокрицкая</td>\n",
       "      <td>«12+» - для детей старше 12 лет</td>\n",
       "      <td>NaN</td>\n",
       "      <td>NaN</td>\n",
       "      <td>NaN</td>\n",
       "      <td>NaN</td>\n",
       "      <td>6.9</td>\n",
       "      <td>драма</td>\n",
       "      <td>0.0</td>\n",
       "    </tr>\n",
       "    <tr>\n",
       "      <td>2076</td>\n",
       "      <td>Курбан-роман. (История с жертвой).</td>\n",
       "      <td>111009614</td>\n",
       "      <td>2014-09-02 12:00:00+00:00</td>\n",
       "      <td>художественный</td>\n",
       "      <td>ФОНД \"ИННОВАЦИЯ\"</td>\n",
       "      <td>россия</td>\n",
       "      <td>С.Юзеев</td>\n",
       "      <td>М.Галицкая</td>\n",
       "      <td>«12+» - для детей старше 12 лет</td>\n",
       "      <td>NaN</td>\n",
       "      <td>NaN</td>\n",
       "      <td>NaN</td>\n",
       "      <td>NaN</td>\n",
       "      <td>NaN</td>\n",
       "      <td>NaN</td>\n",
       "      <td>0.0</td>\n",
       "    </tr>\n",
       "    <tr>\n",
       "      <td>2124</td>\n",
       "      <td>Поездка к матери</td>\n",
       "      <td>111002015</td>\n",
       "      <td>2015-03-02 12:00:00+00:00</td>\n",
       "      <td>художественный</td>\n",
       "      <td>ЗАО \"Киностудия \"М\"-Фильм\"</td>\n",
       "      <td>россия</td>\n",
       "      <td>М.Косырев-Нестеров</td>\n",
       "      <td>М.Косырев-Нестеров</td>\n",
       "      <td>«16+» - для детей старше 16 лет</td>\n",
       "      <td>NaN</td>\n",
       "      <td>NaN</td>\n",
       "      <td>NaN</td>\n",
       "      <td>NaN</td>\n",
       "      <td>9.1</td>\n",
       "      <td>драма,семейный</td>\n",
       "      <td>0.0</td>\n",
       "    </tr>\n",
       "    <tr>\n",
       "      <td>2217</td>\n",
       "      <td>Прогулка по солнечному свету</td>\n",
       "      <td>121011614</td>\n",
       "      <td>2014-06-11 12:00:00+00:00</td>\n",
       "      <td>художественный</td>\n",
       "      <td>Вертиго Филмз, АйЭм Глобал</td>\n",
       "      <td>великобритания</td>\n",
       "      <td>Макс Джива, Дания Пасквини</td>\n",
       "      <td>Кэролайн Леви, Эллан Нибло, Джеймс Ричардсон</td>\n",
       "      <td>«12+» - для детей старше 12 лет</td>\n",
       "      <td>NaN</td>\n",
       "      <td>NaN</td>\n",
       "      <td>NaN</td>\n",
       "      <td>NaN</td>\n",
       "      <td>6.1</td>\n",
       "      <td>мюзикл,драма,мелодрама</td>\n",
       "      <td>0.0</td>\n",
       "    </tr>\n",
       "    <tr>\n",
       "      <td>2440</td>\n",
       "      <td>Звездный мальчик</td>\n",
       "      <td>111013915</td>\n",
       "      <td>2015-08-25 12:00:00+00:00</td>\n",
       "      <td>художественный</td>\n",
       "      <td>Киностудия \"Мосфильм\"</td>\n",
       "      <td>ссср</td>\n",
       "      <td>Е.Зильберштейн, А.Дудоров</td>\n",
       "      <td>NaN</td>\n",
       "      <td>«0+» - для любой зрительской аудитории</td>\n",
       "      <td>NaN</td>\n",
       "      <td>NaN</td>\n",
       "      <td>NaN</td>\n",
       "      <td>NaN</td>\n",
       "      <td>7.5</td>\n",
       "      <td>драма</td>\n",
       "      <td>0.0</td>\n",
       "    </tr>\n",
       "    <tr>\n",
       "      <td>2679</td>\n",
       "      <td>ПУСТЬ ТАК БУДЕТ</td>\n",
       "      <td>111009815</td>\n",
       "      <td>2015-06-01 12:00:00+00:00</td>\n",
       "      <td>художественный</td>\n",
       "      <td>ООО ПРОДЮСЕРСКАЯ КОМПАНИЯ \"ДЕРЖАВА\"</td>\n",
       "      <td>россия</td>\n",
       "      <td>О.Смольников</td>\n",
       "      <td>К.Лавров, Ю.Потапова, В.Бутер, С.Прудников, С....</td>\n",
       "      <td>«12+» - для детей старше 12 лет</td>\n",
       "      <td>NaN</td>\n",
       "      <td>NaN</td>\n",
       "      <td>NaN</td>\n",
       "      <td>NaN</td>\n",
       "      <td>NaN</td>\n",
       "      <td>NaN</td>\n",
       "      <td>0.0</td>\n",
       "    </tr>\n",
       "    <tr>\n",
       "      <td>3585</td>\n",
       "      <td>Ананас</td>\n",
       "      <td>111017116</td>\n",
       "      <td>2016-11-10 12:00:00+00:00</td>\n",
       "      <td>художественный</td>\n",
       "      <td>Рудак Владимир Иванович</td>\n",
       "      <td>россия</td>\n",
       "      <td>В.Рудак</td>\n",
       "      <td>В.Рудак, А.Бабенко</td>\n",
       "      <td>«16+» - для детей старше 16 лет</td>\n",
       "      <td>NaN</td>\n",
       "      <td>NaN</td>\n",
       "      <td>NaN</td>\n",
       "      <td>NaN</td>\n",
       "      <td>6.7</td>\n",
       "      <td>боевик,комедия,криминал</td>\n",
       "      <td>0.0</td>\n",
       "    </tr>\n",
       "    <tr>\n",
       "      <td>3815</td>\n",
       "      <td>Москва, я люблю тебя</td>\n",
       "      <td>111001610</td>\n",
       "      <td>2010-02-09 12:00:00+00:00</td>\n",
       "      <td>художественный</td>\n",
       "      <td>ООО \"БФГ-МЕДИА-ПРОДАКШН\", ООО \"Продюсерская ко...</td>\n",
       "      <td>россия</td>\n",
       "      <td>Г.Михалков, Г.Натансон, В.Сторожева, А.Касатки...</td>\n",
       "      <td>Ю.Глоцер, Ю.Гинзбург</td>\n",
       "      <td>«16+» - для детей старше 16 лет</td>\n",
       "      <td>NaN</td>\n",
       "      <td>NaN</td>\n",
       "      <td>NaN</td>\n",
       "      <td>NaN</td>\n",
       "      <td>4.5</td>\n",
       "      <td>мелодрама,комедия</td>\n",
       "      <td>0.0</td>\n",
       "    </tr>\n",
       "    <tr>\n",
       "      <td>3982</td>\n",
       "      <td>Стать Джоном Ленноном</td>\n",
       "      <td>121008610</td>\n",
       "      <td>2010-05-05 12:00:00+00:00</td>\n",
       "      <td>художественный</td>\n",
       "      <td>Авер Медиа, Экосси Филмз, Филм 4, Норс Вест Ви...</td>\n",
       "      <td>канада-великобритания</td>\n",
       "      <td>Сэм Тейлор Вуд</td>\n",
       "      <td>Роберт Бернштейн, Кевин Лоудер, Дуглас Рэй</td>\n",
       "      <td>«16+» - для детей старше 16 лет</td>\n",
       "      <td>NaN</td>\n",
       "      <td>NaN</td>\n",
       "      <td>NaN</td>\n",
       "      <td>NaN</td>\n",
       "      <td>7.5</td>\n",
       "      <td>драма,мелодрама,биография</td>\n",
       "      <td>0.0</td>\n",
       "    </tr>\n",
       "    <tr>\n",
       "      <td>4054</td>\n",
       "      <td>Дерево.</td>\n",
       "      <td>121020210</td>\n",
       "      <td>2010-11-03 12:00:00+00:00</td>\n",
       "      <td>художественный</td>\n",
       "      <td>Ле Фильм Дю Позьон, Тэйлор Медиа, Скрин Ауастр...</td>\n",
       "      <td>франция-австралия</td>\n",
       "      <td>Жюли Бертучелли</td>\n",
       "      <td>NaN</td>\n",
       "      <td>«16+» - для детей старше 16 лет</td>\n",
       "      <td>NaN</td>\n",
       "      <td>NaN</td>\n",
       "      <td>NaN</td>\n",
       "      <td>NaN</td>\n",
       "      <td>NaN</td>\n",
       "      <td>NaN</td>\n",
       "      <td>0.0</td>\n",
       "    </tr>\n",
       "    <tr>\n",
       "      <td>4778</td>\n",
       "      <td>КРАСНЫЙ ЛЕД. Сага о хантах Югры</td>\n",
       "      <td>111005910</td>\n",
       "      <td>2010-06-04 12:00:00+00:00</td>\n",
       "      <td>художественный</td>\n",
       "      <td>Департамент культуры и искусства ХМАО-Югры, ОО...</td>\n",
       "      <td>россия</td>\n",
       "      <td>О.Фесенко</td>\n",
       "      <td>О.Урушев</td>\n",
       "      <td>«16+» - для детей старше 16 лет</td>\n",
       "      <td>NaN</td>\n",
       "      <td>NaN</td>\n",
       "      <td>NaN</td>\n",
       "      <td>NaN</td>\n",
       "      <td>4.5</td>\n",
       "      <td>драма,история</td>\n",
       "      <td>0.0</td>\n",
       "    </tr>\n",
       "  </tbody>\n",
       "</table>\n",
       "</div>"
      ],
      "text/plain": [
       "                                                  title   puNumber  \\\n",
       "66                                         Анна Павлова  111011013   \n",
       "237                                            Подранки  111007613   \n",
       "596                                       Запах вереска  111003012   \n",
       "914     В тумане /По одноименной повести Василя Быкова/  121027712   \n",
       "932                                     Письмо для Момо  124002912   \n",
       "933                                        Летние войны  124002812   \n",
       "976                                        Гарегин Нжде  131000213   \n",
       "1126                                            Марафон  111006712   \n",
       "1387  Экзамен для двоих /По роману Джин Ханфф Корелитц/  121014613   \n",
       "1559  Последняя любовь мистера Моргана /По роману Фр...  121002614   \n",
       "1772                                  Весёлые ребята ;)  111002414   \n",
       "1782                          Анжелика, маркиза ангелов  121031913   \n",
       "1978                                    Люблю твою жену  121013014   \n",
       "2037                                 Кино про Алексеева  111007114   \n",
       "2076                 Курбан-роман. (История с жертвой).  111009614   \n",
       "2124                                   Поездка к матери  111002015   \n",
       "2217                       Прогулка по солнечному свету  121011614   \n",
       "2440                                   Звездный мальчик  111013915   \n",
       "2679                                    ПУСТЬ ТАК БУДЕТ  111009815   \n",
       "3585                                             Ананас  111017116   \n",
       "3815                               Москва, я люблю тебя  111001610   \n",
       "3982                              Стать Джоном Ленноном  121008610   \n",
       "4054                                            Дерево.  121020210   \n",
       "4778                    КРАСНЫЙ ЛЕД. Сага о хантах Югры  111005910   \n",
       "\n",
       "               show_start_date            type  \\\n",
       "66   2013-12-19 12:00:00+00:00  художественный   \n",
       "237  2013-10-18 12:00:00+00:00  художественный   \n",
       "596  2012-05-23 12:00:00+00:00  художественный   \n",
       "914  2012-11-07 12:00:00+00:00  художественный   \n",
       "932  2012-10-25 12:00:00+00:00    анимационный   \n",
       "933  2012-10-25 12:00:00+00:00    анимационный   \n",
       "976  2013-04-23 12:00:00+00:00  художественный   \n",
       "1126 2012-12-18 12:00:00+00:00  художественный   \n",
       "1387 2013-06-11 12:00:00+00:00  художественный   \n",
       "1559 2014-02-11 12:00:00+00:00  художественный   \n",
       "1772 2014-02-27 12:00:00+00:00  художественный   \n",
       "1782 2013-12-12 12:00:00+00:00  художественный   \n",
       "1978 2014-06-23 12:00:00+00:00  художественный   \n",
       "2037 2014-07-18 12:00:00+00:00  художественный   \n",
       "2076 2014-09-02 12:00:00+00:00  художественный   \n",
       "2124 2015-03-02 12:00:00+00:00  художественный   \n",
       "2217 2014-06-11 12:00:00+00:00  художественный   \n",
       "2440 2015-08-25 12:00:00+00:00  художественный   \n",
       "2679 2015-06-01 12:00:00+00:00  художественный   \n",
       "3585 2016-11-10 12:00:00+00:00  художественный   \n",
       "3815 2010-02-09 12:00:00+00:00  художественный   \n",
       "3982 2010-05-05 12:00:00+00:00  художественный   \n",
       "4054 2010-11-03 12:00:00+00:00  художественный   \n",
       "4778 2010-06-04 12:00:00+00:00  художественный   \n",
       "\n",
       "                                            film_studio  \\\n",
       "66    совместное производство Киностудия \"Мосфильм\",...   \n",
       "237                               Киностудия \"Мосфильм\"   \n",
       "596                                    ООО \"Студия РИМ\"   \n",
       "914   Ма Йа Де Фикшн, Лемминг Филм, Беларусьфильм, Д...   \n",
       "932   Кадокава Пикчерз, Продакшнз И Джи, Токио Броад...   \n",
       "933   Медхауз, Ниппон Телевижн Нетуорк Корпорейшн, К...   \n",
       "976      Эй Джи Кей Продакшнз, Пан Армениан Медиа Групп   \n",
       "1126                            ООО \"Синема Арт Студио\"   \n",
       "1387                                       Депф оф Филд   \n",
       "1559  Камински Штим Фильм, Бавариа Пикчерз, Сенатор ...   \n",
       "1772   ЗАО \"ПРОДЮСЕРСКАЯ КОМПАНИЯ ВАЛЕРИЯ ТОДОРОВСКОГО\"   \n",
       "1782                  Европа Корп., МонаФилм, ВилмаФилм   \n",
       "1978           Серендипити Пойнт Фильм, Номадик Пикчерз   \n",
       "2037                     ООО \"Кинокомпания \"Новые люди\"   \n",
       "2076                                   ФОНД \"ИННОВАЦИЯ\"   \n",
       "2124                         ЗАО \"Киностудия \"М\"-Фильм\"   \n",
       "2217                         Вертиго Филмз, АйЭм Глобал   \n",
       "2440                              Киностудия \"Мосфильм\"   \n",
       "2679                ООО ПРОДЮСЕРСКАЯ КОМПАНИЯ \"ДЕРЖАВА\"   \n",
       "3585                            Рудак Владимир Иванович   \n",
       "3815  ООО \"БФГ-МЕДИА-ПРОДАКШН\", ООО \"Продюсерская ко...   \n",
       "3982  Авер Медиа, Экосси Филмз, Филм 4, Норс Вест Ви...   \n",
       "4054  Ле Фильм Дю Позьон, Тэйлор Медиа, Скрин Ауастр...   \n",
       "4778  Департамент культуры и искусства ХМАО-Югры, ОО...   \n",
       "\n",
       "                              production_country  \\\n",
       "66                  ссср,франция,англия,куба,гдр   \n",
       "237                                         ссср   \n",
       "596                                       россия   \n",
       "914   германия-нидерланды-беларусь-россия-латвия   \n",
       "932                                       япония   \n",
       "933                                       япония   \n",
       "976                                      армения   \n",
       "1126                                      россия   \n",
       "1387                                         сша   \n",
       "1559                германия-бельгия-сша-франция   \n",
       "1772                                      россия   \n",
       "1782                                     франция   \n",
       "1978                                      канада   \n",
       "2037                                      россия   \n",
       "2076                                      россия   \n",
       "2124                                      россия   \n",
       "2217                              великобритания   \n",
       "2440                                        ссср   \n",
       "2679                                      россия   \n",
       "3585                                      россия   \n",
       "3815                                      россия   \n",
       "3982                       канада-великобритания   \n",
       "4054                           франция-австралия   \n",
       "4778                                      россия   \n",
       "\n",
       "                                               director  \\\n",
       "66                                         Эмиль Лотяну   \n",
       "237                                           Н.Губенко   \n",
       "596                                         А.Магомедов   \n",
       "914                                      Сергей Лозница   \n",
       "932                                      Окиура Хироюки   \n",
       "933                                       Мамору Хосода   \n",
       "976                                        Грач Кешишян   \n",
       "1126                                         К.Оганесян   \n",
       "1387                                           Пол Вайц   \n",
       "1559                                  Сандра Неттельбек   \n",
       "1772                                           А.Бобров   \n",
       "1782                                      Ариэль Зейтун   \n",
       "1978                                  Джеримайя С.Чечик   \n",
       "2037                                            М.Сегал   \n",
       "2076                                            С.Юзеев   \n",
       "2124                                 М.Косырев-Нестеров   \n",
       "2217                         Макс Джива, Дания Пасквини   \n",
       "2440                          Е.Зильберштейн, А.Дудоров   \n",
       "2679                                       О.Смольников   \n",
       "3585                                            В.Рудак   \n",
       "3815  Г.Михалков, Г.Натансон, В.Сторожева, А.Касатки...   \n",
       "3982                                     Сэм Тейлор Вуд   \n",
       "4054                                    Жюли Бертучелли   \n",
       "4778                                          О.Фесенко   \n",
       "\n",
       "                                               producer  \\\n",
       "66                                                  NaN   \n",
       "237                                                 NaN   \n",
       "596                               М.Балашова, Е.Миронов   \n",
       "914                                        Хайно Декерт   \n",
       "932     Хироюки Икеда, Митсухиса Ишикава, Кацзуя Хамана   \n",
       "933   Такафуми Ватанабэ, Такуя Ито, Сэйдзи Окуда, Юи...   \n",
       "976                                        Грач Кешишян   \n",
       "1126                                         К.Оганесян   \n",
       "1387              Пол Вайц, Керри Кохански, Эндрю Миано   \n",
       "1559  Франк Камински, Астрид Камке, Филипп Кройцер, ...   \n",
       "1772                                      В.Тодоровский   \n",
       "1782        Эммануэль Жаклин, Павел Солк, Филипп Херинг   \n",
       "1978            Стефен Аликс, Эри Лантос, Роберт Лантош   \n",
       "2037                                        Н.Мокрицкая   \n",
       "2076                                         М.Галицкая   \n",
       "2124                                 М.Косырев-Нестеров   \n",
       "2217       Кэролайн Леви, Эллан Нибло, Джеймс Ричардсон   \n",
       "2440                                                NaN   \n",
       "2679  К.Лавров, Ю.Потапова, В.Бутер, С.Прудников, С....   \n",
       "3585                                 В.Рудак, А.Бабенко   \n",
       "3815                               Ю.Глоцер, Ю.Гинзбург   \n",
       "3982         Роберт Бернштейн, Кевин Лоудер, Дуглас Рэй   \n",
       "4054                                                NaN   \n",
       "4778                                           О.Урушев   \n",
       "\n",
       "                             age_restriction  refundable_support  \\\n",
       "66             «6+» - для детей старше 6 лет                 NaN   \n",
       "237          «12+» - для детей старше 12 лет                 NaN   \n",
       "596          «16+» - для детей старше 16 лет                 NaN   \n",
       "914          «12+» - для детей старше 12 лет                 NaN   \n",
       "932          «12+» - для детей старше 12 лет                 NaN   \n",
       "933          «12+» - для детей старше 12 лет                 NaN   \n",
       "976          «12+» - для детей старше 12 лет                 NaN   \n",
       "1126         «16+» - для детей старше 16 лет                 NaN   \n",
       "1387         «12+» - для детей старше 12 лет                 NaN   \n",
       "1559         «16+» - для детей старше 16 лет                 NaN   \n",
       "1772           «6+» - для детей старше 6 лет                 NaN   \n",
       "1782         «16+» - для детей старше 16 лет                 NaN   \n",
       "1978         «16+» - для детей старше 16 лет                 NaN   \n",
       "2037         «12+» - для детей старше 12 лет                 NaN   \n",
       "2076         «12+» - для детей старше 12 лет                 NaN   \n",
       "2124         «16+» - для детей старше 16 лет                 NaN   \n",
       "2217         «12+» - для детей старше 12 лет                 NaN   \n",
       "2440  «0+» - для любой зрительской аудитории                 NaN   \n",
       "2679         «12+» - для детей старше 12 лет                 NaN   \n",
       "3585         «16+» - для детей старше 16 лет                 NaN   \n",
       "3815         «16+» - для детей старше 16 лет                 NaN   \n",
       "3982         «16+» - для детей старше 16 лет                 NaN   \n",
       "4054         «16+» - для детей старше 16 лет                 NaN   \n",
       "4778         «16+» - для детей старше 16 лет                 NaN   \n",
       "\n",
       "      nonrefundable_support  budget financing_source  ratings  \\\n",
       "66                      NaN     NaN              NaN      7.7   \n",
       "237                     NaN     NaN              NaN      8.2   \n",
       "596                     NaN     NaN              NaN      6.3   \n",
       "914                     NaN     NaN              NaN      6.5   \n",
       "932                     NaN     NaN              NaN      7.4   \n",
       "933                     NaN     NaN              NaN      7.7   \n",
       "976                     NaN     NaN              NaN      7.9   \n",
       "1126                    NaN     NaN              NaN      5.5   \n",
       "1387                    NaN     NaN              NaN      5.8   \n",
       "1559                    NaN     NaN              NaN      6.9   \n",
       "1772                    NaN     NaN              NaN      NaN   \n",
       "1782                    NaN     NaN              NaN      8.0   \n",
       "1978                    NaN     NaN              NaN      6.0   \n",
       "2037                    NaN     NaN              NaN      6.9   \n",
       "2076                    NaN     NaN              NaN      NaN   \n",
       "2124                    NaN     NaN              NaN      9.1   \n",
       "2217                    NaN     NaN              NaN      6.1   \n",
       "2440                    NaN     NaN              NaN      7.5   \n",
       "2679                    NaN     NaN              NaN      NaN   \n",
       "3585                    NaN     NaN              NaN      6.7   \n",
       "3815                    NaN     NaN              NaN      4.5   \n",
       "3982                    NaN     NaN              NaN      7.5   \n",
       "4054                    NaN     NaN              NaN      NaN   \n",
       "4778                    NaN     NaN              NaN      4.5   \n",
       "\n",
       "                           genres  box_office  \n",
       "66         драма,биография,музыка         0.0  \n",
       "237                         драма         0.0  \n",
       "596                       комедия         0.0  \n",
       "914         драма,военный,история         0.0  \n",
       "932        аниме,мультфильм,драма         0.0  \n",
       "933   аниме,мультфильм,фантастика         0.0  \n",
       "976                     биография         0.0  \n",
       "1126            комедия,мелодрама         0.0  \n",
       "1387      мелодрама,комедия,драма         0.0  \n",
       "1559                        драма         0.0  \n",
       "1772                          NaN         0.0  \n",
       "1782  драма,мелодрама,приключения         0.0  \n",
       "1978            мелодрама,комедия         0.0  \n",
       "2037                        драма         0.0  \n",
       "2076                          NaN         0.0  \n",
       "2124               драма,семейный         0.0  \n",
       "2217       мюзикл,драма,мелодрама         0.0  \n",
       "2440                        драма         0.0  \n",
       "2679                          NaN         0.0  \n",
       "3585      боевик,комедия,криминал         0.0  \n",
       "3815            мелодрама,комедия         0.0  \n",
       "3982    драма,мелодрама,биография         0.0  \n",
       "4054                          NaN         0.0  \n",
       "4778                драма,история         0.0  "
      ]
     },
     "metadata": {},
     "output_type": "display_data"
    }
   ],
   "source": [
    "display(main_df[main_df['box_office'] == 0])"
   ]
  },
  {
   "cell_type": "code",
   "execution_count": 109,
   "metadata": {},
   "outputs": [],
   "source": [
    "main_df = main_df[main_df['box_office'] != 0].reset_index(drop=True)"
   ]
  },
  {
   "cell_type": "markdown",
   "metadata": {},
   "source": [
    "Та же ситуация со сборами."
   ]
  },
  {
   "cell_type": "code",
   "execution_count": 110,
   "metadata": {},
   "outputs": [
    {
     "data": {
      "text/html": [
       "<div>\n",
       "<style scoped>\n",
       "    .dataframe tbody tr th:only-of-type {\n",
       "        vertical-align: middle;\n",
       "    }\n",
       "\n",
       "    .dataframe tbody tr th {\n",
       "        vertical-align: top;\n",
       "    }\n",
       "\n",
       "    .dataframe thead th {\n",
       "        text-align: right;\n",
       "    }\n",
       "</style>\n",
       "<table border=\"1\" class=\"dataframe\">\n",
       "  <thead>\n",
       "    <tr style=\"text-align: right;\">\n",
       "      <th></th>\n",
       "      <th>count</th>\n",
       "      <th>mean</th>\n",
       "      <th>std</th>\n",
       "      <th>min</th>\n",
       "      <th>25%</th>\n",
       "      <th>50%</th>\n",
       "      <th>75%</th>\n",
       "      <th>max</th>\n",
       "    </tr>\n",
       "  </thead>\n",
       "  <tbody>\n",
       "    <tr>\n",
       "      <td>puNumber</td>\n",
       "      <td>7444.0</td>\n",
       "      <td>1.353105e+08</td>\n",
       "      <td>3.842571e+07</td>\n",
       "      <td>1811096.0</td>\n",
       "      <td>113000292.5</td>\n",
       "      <td>121015614.5</td>\n",
       "      <td>1.240034e+08</td>\n",
       "      <td>2.310011e+08</td>\n",
       "    </tr>\n",
       "    <tr>\n",
       "      <td>refundable_support</td>\n",
       "      <td>315.0</td>\n",
       "      <td>1.160317e+07</td>\n",
       "      <td>2.515144e+07</td>\n",
       "      <td>0.0</td>\n",
       "      <td>0.0</td>\n",
       "      <td>0.0</td>\n",
       "      <td>1.000000e+07</td>\n",
       "      <td>1.800000e+08</td>\n",
       "    </tr>\n",
       "    <tr>\n",
       "      <td>nonrefundable_support</td>\n",
       "      <td>315.0</td>\n",
       "      <td>4.810704e+07</td>\n",
       "      <td>5.988614e+07</td>\n",
       "      <td>0.0</td>\n",
       "      <td>25000000.0</td>\n",
       "      <td>30000000.0</td>\n",
       "      <td>4.000000e+07</td>\n",
       "      <td>4.000000e+08</td>\n",
       "    </tr>\n",
       "    <tr>\n",
       "      <td>budget</td>\n",
       "      <td>315.0</td>\n",
       "      <td>1.340961e+08</td>\n",
       "      <td>1.912260e+08</td>\n",
       "      <td>14462464.0</td>\n",
       "      <td>46153866.5</td>\n",
       "      <td>73379554.0</td>\n",
       "      <td>1.500043e+08</td>\n",
       "      <td>2.305074e+09</td>\n",
       "    </tr>\n",
       "    <tr>\n",
       "      <td>ratings</td>\n",
       "      <td>6483.0</td>\n",
       "      <td>6.488987e+00</td>\n",
       "      <td>1.114140e+00</td>\n",
       "      <td>1.0</td>\n",
       "      <td>5.9</td>\n",
       "      <td>6.6</td>\n",
       "      <td>7.200000e+00</td>\n",
       "      <td>9.900000e+00</td>\n",
       "    </tr>\n",
       "    <tr>\n",
       "      <td>box_office</td>\n",
       "      <td>3117.0</td>\n",
       "      <td>7.659493e+07</td>\n",
       "      <td>2.410807e+08</td>\n",
       "      <td>40.0</td>\n",
       "      <td>96846.0</td>\n",
       "      <td>2351960.0</td>\n",
       "      <td>2.376625e+07</td>\n",
       "      <td>3.073569e+09</td>\n",
       "    </tr>\n",
       "  </tbody>\n",
       "</table>\n",
       "</div>"
      ],
      "text/plain": [
       "                        count          mean           std         min  \\\n",
       "puNumber               7444.0  1.353105e+08  3.842571e+07   1811096.0   \n",
       "refundable_support      315.0  1.160317e+07  2.515144e+07         0.0   \n",
       "nonrefundable_support   315.0  4.810704e+07  5.988614e+07         0.0   \n",
       "budget                  315.0  1.340961e+08  1.912260e+08  14462464.0   \n",
       "ratings                6483.0  6.488987e+00  1.114140e+00         1.0   \n",
       "box_office             3117.0  7.659493e+07  2.410807e+08        40.0   \n",
       "\n",
       "                               25%          50%           75%           max  \n",
       "puNumber               113000292.5  121015614.5  1.240034e+08  2.310011e+08  \n",
       "refundable_support             0.0          0.0  1.000000e+07  1.800000e+08  \n",
       "nonrefundable_support   25000000.0   30000000.0  4.000000e+07  4.000000e+08  \n",
       "budget                  46153866.5   73379554.0  1.500043e+08  2.305074e+09  \n",
       "ratings                        5.9          6.6  7.200000e+00  9.900000e+00  \n",
       "box_office                 96846.0    2351960.0  2.376625e+07  3.073569e+09  "
      ]
     },
     "metadata": {},
     "output_type": "display_data"
    }
   ],
   "source": [
    "main_df = main_df[main_df['puNumber'] > 0].reset_index(drop=True)\n",
    "display(main_df.describe().T)"
   ]
  },
  {
   "cell_type": "code",
   "execution_count": 111,
   "metadata": {},
   "outputs": [
    {
     "data": {
      "text/html": [
       "<div>\n",
       "<style scoped>\n",
       "    .dataframe tbody tr th:only-of-type {\n",
       "        vertical-align: middle;\n",
       "    }\n",
       "\n",
       "    .dataframe tbody tr th {\n",
       "        vertical-align: top;\n",
       "    }\n",
       "\n",
       "    .dataframe thead th {\n",
       "        text-align: right;\n",
       "    }\n",
       "</style>\n",
       "<table border=\"1\" class=\"dataframe\">\n",
       "  <thead>\n",
       "    <tr style=\"text-align: right;\">\n",
       "      <th></th>\n",
       "      <th>title</th>\n",
       "      <th>puNumber</th>\n",
       "      <th>show_start_date</th>\n",
       "      <th>type</th>\n",
       "      <th>film_studio</th>\n",
       "      <th>production_country</th>\n",
       "      <th>director</th>\n",
       "      <th>producer</th>\n",
       "      <th>age_restriction</th>\n",
       "      <th>refundable_support</th>\n",
       "      <th>nonrefundable_support</th>\n",
       "      <th>budget</th>\n",
       "      <th>financing_source</th>\n",
       "      <th>ratings</th>\n",
       "      <th>genres</th>\n",
       "      <th>box_office</th>\n",
       "    </tr>\n",
       "  </thead>\n",
       "  <tbody>\n",
       "    <tr>\n",
       "      <td>150</td>\n",
       "      <td>Жестокий романс</td>\n",
       "      <td>111006013</td>\n",
       "      <td>2013-10-18 12:00:00+00:00</td>\n",
       "      <td>художественный</td>\n",
       "      <td>Киностудия \"Мосфильм\"</td>\n",
       "      <td>ссср</td>\n",
       "      <td>Э.Рязанов</td>\n",
       "      <td>NaN</td>\n",
       "      <td>«12+» - для детей старше 12 лет</td>\n",
       "      <td>NaN</td>\n",
       "      <td>NaN</td>\n",
       "      <td>NaN</td>\n",
       "      <td>NaN</td>\n",
       "      <td>8.1</td>\n",
       "      <td>драма,мелодрама,история</td>\n",
       "      <td>40.0</td>\n",
       "    </tr>\n",
       "    <tr>\n",
       "      <td>2254</td>\n",
       "      <td>Каменный цветок.</td>\n",
       "      <td>111016714</td>\n",
       "      <td>2014-12-01 12:00:00+00:00</td>\n",
       "      <td>художественный</td>\n",
       "      <td>Киностудия \"Мосфильм\"</td>\n",
       "      <td>ссср</td>\n",
       "      <td>А.Птушко</td>\n",
       "      <td>NaN</td>\n",
       "      <td>«0+» - для любой зрительской аудитории</td>\n",
       "      <td>NaN</td>\n",
       "      <td>NaN</td>\n",
       "      <td>NaN</td>\n",
       "      <td>NaN</td>\n",
       "      <td>7.1</td>\n",
       "      <td>фэнтези,драма,мелодрама</td>\n",
       "      <td>50.0</td>\n",
       "    </tr>\n",
       "    <tr>\n",
       "      <td>3883</td>\n",
       "      <td>22 пули: Бессмертный</td>\n",
       "      <td>121006410</td>\n",
       "      <td>2010-04-01 12:00:00+00:00</td>\n",
       "      <td>художественный</td>\n",
       "      <td>Еуроп Корпорейшн</td>\n",
       "      <td>франция</td>\n",
       "      <td>Ришар Бери</td>\n",
       "      <td>Люк Бессон, Дидье Хорау, Пьер-Анж Ле Погам</td>\n",
       "      <td>«16+» - для детей старше 16 лет</td>\n",
       "      <td>NaN</td>\n",
       "      <td>NaN</td>\n",
       "      <td>NaN</td>\n",
       "      <td>NaN</td>\n",
       "      <td>7.1</td>\n",
       "      <td>боевик,драма,криминал</td>\n",
       "      <td>75.0</td>\n",
       "    </tr>\n",
       "    <tr>\n",
       "      <td>1172</td>\n",
       "      <td>Астерикс и Обеликс в Британии 3D</td>\n",
       "      <td>121025012</td>\n",
       "      <td>2012-10-05 12:00:00+00:00</td>\n",
       "      <td>художественный</td>\n",
       "      <td>Уайлд Банч, Фиделите Фильм, Филм Кайрос, Синет...</td>\n",
       "      <td>франция-италия-испания-венгрия</td>\n",
       "      <td>Лоран Тирар</td>\n",
       "      <td>Оливье Делбоск, Марк Миссонье</td>\n",
       "      <td>«6+» - для детей старше 6 лет</td>\n",
       "      <td>NaN</td>\n",
       "      <td>NaN</td>\n",
       "      <td>NaN</td>\n",
       "      <td>NaN</td>\n",
       "      <td>5.6</td>\n",
       "      <td>комедия,приключения,семейный</td>\n",
       "      <td>80.0</td>\n",
       "    </tr>\n",
       "    <tr>\n",
       "      <td>163</td>\n",
       "      <td>За спичками</td>\n",
       "      <td>111006113</td>\n",
       "      <td>2013-10-18 12:00:00+00:00</td>\n",
       "      <td>художественный</td>\n",
       "      <td>Киностудия \"Мосфильм\", \"СУОМИ-ФИЛЬМ\"</td>\n",
       "      <td>ссср,финляндия</td>\n",
       "      <td>Л.Гайдай, Р.Орко</td>\n",
       "      <td>NaN</td>\n",
       "      <td>«12+» - для детей старше 12 лет</td>\n",
       "      <td>NaN</td>\n",
       "      <td>NaN</td>\n",
       "      <td>NaN</td>\n",
       "      <td>NaN</td>\n",
       "      <td>7.5</td>\n",
       "      <td>комедия,приключения,история</td>\n",
       "      <td>100.0</td>\n",
       "    </tr>\n",
       "    <tr>\n",
       "      <td>210</td>\n",
       "      <td>Одиноким предоставляется общежитие</td>\n",
       "      <td>111018614</td>\n",
       "      <td>2014-12-01 12:00:00+00:00</td>\n",
       "      <td>художественный</td>\n",
       "      <td>Киностудия \"Мосфильм\"</td>\n",
       "      <td>ссср</td>\n",
       "      <td>С.Самсонов</td>\n",
       "      <td>NaN</td>\n",
       "      <td>«12+» - для детей старше 12 лет</td>\n",
       "      <td>NaN</td>\n",
       "      <td>NaN</td>\n",
       "      <td>NaN</td>\n",
       "      <td>NaN</td>\n",
       "      <td>7.8</td>\n",
       "      <td>мелодрама,комедия</td>\n",
       "      <td>100.0</td>\n",
       "    </tr>\n",
       "    <tr>\n",
       "      <td>1490</td>\n",
       "      <td>Лучшие дни впереди</td>\n",
       "      <td>121023413</td>\n",
       "      <td>2013-09-03 12:00:00+00:00</td>\n",
       "      <td>художественный</td>\n",
       "      <td>Ле Фильм дю Киоск, 27.11 Продюксьон, Директ си...</td>\n",
       "      <td>франция</td>\n",
       "      <td>Марион Верну</td>\n",
       "      <td>Франсуа Краус, Дени Пино-Валенсьенн</td>\n",
       "      <td>«16+» - для детей старше 16 лет</td>\n",
       "      <td>NaN</td>\n",
       "      <td>NaN</td>\n",
       "      <td>NaN</td>\n",
       "      <td>NaN</td>\n",
       "      <td>6.6</td>\n",
       "      <td>драма,комедия</td>\n",
       "      <td>100.0</td>\n",
       "    </tr>\n",
       "    <tr>\n",
       "      <td>4028</td>\n",
       "      <td>Ловец ветра</td>\n",
       "      <td>111009310</td>\n",
       "      <td>2010-10-21 12:00:00+00:00</td>\n",
       "      <td>художественный</td>\n",
       "      <td>ГУП РБ Киностудия \"Башкортостан\"</td>\n",
       "      <td>россия</td>\n",
       "      <td>А.Юмагулов</td>\n",
       "      <td>А.Юнусов</td>\n",
       "      <td>«16+» - для детей старше 16 лет</td>\n",
       "      <td>NaN</td>\n",
       "      <td>NaN</td>\n",
       "      <td>NaN</td>\n",
       "      <td>NaN</td>\n",
       "      <td>7.5</td>\n",
       "      <td>драма,комедия</td>\n",
       "      <td>100.0</td>\n",
       "    </tr>\n",
       "    <tr>\n",
       "      <td>1261</td>\n",
       "      <td>Обещание /По произведению Стефана Цвейга/</td>\n",
       "      <td>121009914</td>\n",
       "      <td>2014-05-19 12:00:00+00:00</td>\n",
       "      <td>художественный</td>\n",
       "      <td>Фиделите Фильм, Уалд Банч, Скоуп Пикчерз, Оран...</td>\n",
       "      <td>франция-бельгия</td>\n",
       "      <td>Патрис Леконт</td>\n",
       "      <td>Оливье Дебоск, Кристин де Жекель, Марк Миссонье</td>\n",
       "      <td>«18+» - запрещено для детей</td>\n",
       "      <td>NaN</td>\n",
       "      <td>NaN</td>\n",
       "      <td>NaN</td>\n",
       "      <td>NaN</td>\n",
       "      <td>7.1</td>\n",
       "      <td>боевик,драма,приключения</td>\n",
       "      <td>100.0</td>\n",
       "    </tr>\n",
       "    <tr>\n",
       "      <td>349</td>\n",
       "      <td>Волшебное приключение</td>\n",
       "      <td>124000905</td>\n",
       "      <td>2015-01-18 12:00:00+00:00</td>\n",
       "      <td>анимационный</td>\n",
       "      <td>Экшион Филмз, Патэ Синема, Болексбразерс</td>\n",
       "      <td>великобритания-франция</td>\n",
       "      <td>Дэйв Бортвик</td>\n",
       "      <td>Клауди Горский, Энди Лэйтон, Лаурен Родон, Пас...</td>\n",
       "      <td>«0+» - для любой зрительской аудитории</td>\n",
       "      <td>NaN</td>\n",
       "      <td>NaN</td>\n",
       "      <td>NaN</td>\n",
       "      <td>NaN</td>\n",
       "      <td>5.7</td>\n",
       "      <td>мультфильм,фэнтези,комедия</td>\n",
       "      <td>100.0</td>\n",
       "    </tr>\n",
       "    <tr>\n",
       "      <td>4412</td>\n",
       "      <td>Прячься!</td>\n",
       "      <td>111003010</td>\n",
       "      <td>2010-03-22 12:00:00+00:00</td>\n",
       "      <td>художественный</td>\n",
       "      <td>ООО \"Стар Медиа Про\", ООО \"Кинокомпания \"СТВ\" ...</td>\n",
       "      <td>россия-германия</td>\n",
       "      <td>Д.О'Рейли</td>\n",
       "      <td>С.Сельянов, В.Ряшин</td>\n",
       "      <td>«16+» - для детей старше 16 лет</td>\n",
       "      <td>NaN</td>\n",
       "      <td>NaN</td>\n",
       "      <td>NaN</td>\n",
       "      <td>NaN</td>\n",
       "      <td>5.8</td>\n",
       "      <td>боевик,триллер</td>\n",
       "      <td>115.0</td>\n",
       "    </tr>\n",
       "    <tr>\n",
       "      <td>1027</td>\n",
       "      <td>Монстры на острове</td>\n",
       "      <td>124002515</td>\n",
       "      <td>2015-06-25 12:00:00+00:00</td>\n",
       "      <td>анимационный</td>\n",
       "      <td>Аби Шуи, Хакайдо Медиа Партнерс, Джи Дрим, Роб...</td>\n",
       "      <td>япония-канада</td>\n",
       "      <td>Такаши Ямадзаки</td>\n",
       "      <td>Генки Хавамура</td>\n",
       "      <td>«0+» - для любой зрительской аудитории</td>\n",
       "      <td>NaN</td>\n",
       "      <td>NaN</td>\n",
       "      <td>NaN</td>\n",
       "      <td>NaN</td>\n",
       "      <td>7.1</td>\n",
       "      <td>мультфильм,фэнтези,приключения</td>\n",
       "      <td>120.0</td>\n",
       "    </tr>\n",
       "    <tr>\n",
       "      <td>922</td>\n",
       "      <td>Стукач .</td>\n",
       "      <td>121001713</td>\n",
       "      <td>2013-02-05 12:00:00+00:00</td>\n",
       "      <td>художественный</td>\n",
       "      <td>Эксклюзив Медиа Групп, Имеджинейшн Абу Даби, П...</td>\n",
       "      <td>сша</td>\n",
       "      <td>Рик Роман Во</td>\n",
       "      <td>Дуэйн Джонсон, Найджел Синклер</td>\n",
       "      <td>«12+» - для детей старше 12 лет</td>\n",
       "      <td>NaN</td>\n",
       "      <td>NaN</td>\n",
       "      <td>NaN</td>\n",
       "      <td>NaN</td>\n",
       "      <td>6.8</td>\n",
       "      <td>триллер,драма,криминал</td>\n",
       "      <td>120.0</td>\n",
       "    </tr>\n",
       "    <tr>\n",
       "      <td>4506</td>\n",
       "      <td>Фобос</td>\n",
       "      <td>111001510</td>\n",
       "      <td>2010-02-05 12:00:00+00:00</td>\n",
       "      <td>художественный</td>\n",
       "      <td>ООО \"Арт Пикчерс Студия\"</td>\n",
       "      <td>россия</td>\n",
       "      <td>О.Асадулин</td>\n",
       "      <td>ООО \"Арт Пикчерс Студия\"</td>\n",
       "      <td>«16+» - для детей старше 16 лет</td>\n",
       "      <td>NaN</td>\n",
       "      <td>NaN</td>\n",
       "      <td>NaN</td>\n",
       "      <td>NaN</td>\n",
       "      <td>3.7</td>\n",
       "      <td>ужасы,триллер</td>\n",
       "      <td>120.0</td>\n",
       "    </tr>\n",
       "    <tr>\n",
       "      <td>827</td>\n",
       "      <td>Кровавый Санта</td>\n",
       "      <td>121027012</td>\n",
       "      <td>2012-11-07 12:00:00+00:00</td>\n",
       "      <td>художественный</td>\n",
       "      <td>Парашют Пикчерз, Том де Моль Продюксьон</td>\n",
       "      <td>нидерланды</td>\n",
       "      <td>Дик Маас</td>\n",
       "      <td>Дик Маас, Том де Моль</td>\n",
       "      <td>«16+» - для детей старше 16 лет</td>\n",
       "      <td>NaN</td>\n",
       "      <td>NaN</td>\n",
       "      <td>NaN</td>\n",
       "      <td>NaN</td>\n",
       "      <td>4.8</td>\n",
       "      <td>ужасы,комедия</td>\n",
       "      <td>120.0</td>\n",
       "    </tr>\n",
       "    <tr>\n",
       "      <td>1477</td>\n",
       "      <td>Я, Франкенштейн /По мотивам графического роман...</td>\n",
       "      <td>121032713</td>\n",
       "      <td>2013-12-20 12:00:00+00:00</td>\n",
       "      <td>художественный</td>\n",
       "      <td>Хопскотч Фьючерз, Лэйкшор Интертейнмент, Лайон...</td>\n",
       "      <td>сша</td>\n",
       "      <td>Стюарт Битти</td>\n",
       "      <td>Сидни Киммел, Гари Лучези, Эндрю Мэйсон, Ричар...</td>\n",
       "      <td>«12+» - для детей старше 12 лет</td>\n",
       "      <td>NaN</td>\n",
       "      <td>NaN</td>\n",
       "      <td>NaN</td>\n",
       "      <td>NaN</td>\n",
       "      <td>5.2</td>\n",
       "      <td>фэнтези,боевик,приключения</td>\n",
       "      <td>120.0</td>\n",
       "    </tr>\n",
       "    <tr>\n",
       "      <td>3833</td>\n",
       "      <td>Медведь Йоги</td>\n",
       "      <td>224003711</td>\n",
       "      <td>2011-02-07 12:00:00+00:00</td>\n",
       "      <td>художественный</td>\n",
       "      <td>Уорнер Бразерс, Сансвепт Интертейнмент, Де Лай...</td>\n",
       "      <td>сша-новаязеландия</td>\n",
       "      <td>Эрик Бревиг</td>\n",
       "      <td>Дональд Де Лайн, Карен Розенфельт</td>\n",
       "      <td>«0+» - для любой зрительской аудитории</td>\n",
       "      <td>NaN</td>\n",
       "      <td>NaN</td>\n",
       "      <td>NaN</td>\n",
       "      <td>NaN</td>\n",
       "      <td>5.3</td>\n",
       "      <td>мультфильм,комедия,приключения</td>\n",
       "      <td>125.0</td>\n",
       "    </tr>\n",
       "    <tr>\n",
       "      <td>4493</td>\n",
       "      <td>Ёлки</td>\n",
       "      <td>111010710</td>\n",
       "      <td>2010-12-08 12:00:00+00:00</td>\n",
       "      <td>художественный</td>\n",
       "      <td>ООО \"ТаББаК\"</td>\n",
       "      <td>россия</td>\n",
       "      <td>Т.Бекмамбетов, Я.Чеважевский, А.Войтинский, Д....</td>\n",
       "      <td>С.Муазен, А.Ремизова</td>\n",
       "      <td>«12+» - для детей старше 12 лет</td>\n",
       "      <td>NaN</td>\n",
       "      <td>NaN</td>\n",
       "      <td>NaN</td>\n",
       "      <td>NaN</td>\n",
       "      <td>6.9</td>\n",
       "      <td>комедия</td>\n",
       "      <td>125.0</td>\n",
       "    </tr>\n",
       "    <tr>\n",
       "      <td>3872</td>\n",
       "      <td>Больше, чем друг</td>\n",
       "      <td>121013210</td>\n",
       "      <td>2010-08-02 12:00:00+00:00</td>\n",
       "      <td>художественный</td>\n",
       "      <td>Бон Файд Прдакшнз, Мандат Пикчерз</td>\n",
       "      <td>сша</td>\n",
       "      <td>Джош Гордон, Уилл Спек</td>\n",
       "      <td>Алберт Бергер, Алан Лоб, Брэдли Томас</td>\n",
       "      <td>«16+» - для детей старше 16 лет</td>\n",
       "      <td>NaN</td>\n",
       "      <td>NaN</td>\n",
       "      <td>NaN</td>\n",
       "      <td>NaN</td>\n",
       "      <td>6.7</td>\n",
       "      <td>драма,мелодрама,комедия</td>\n",
       "      <td>130.0</td>\n",
       "    </tr>\n",
       "    <tr>\n",
       "      <td>4704</td>\n",
       "      <td>Механик_</td>\n",
       "      <td>121024110</td>\n",
       "      <td>2010-12-29 12:00:00+00:00</td>\n",
       "      <td>художественный</td>\n",
       "      <td>Миллениум Филмз, Нью Имейдж Интертейнмент</td>\n",
       "      <td>сша</td>\n",
       "      <td>Саймон Уэст</td>\n",
       "      <td>Рене Бессон, Авэ Лернер, Дэнни Лернер</td>\n",
       "      <td>«18+» - запрещено для детей</td>\n",
       "      <td>NaN</td>\n",
       "      <td>NaN</td>\n",
       "      <td>NaN</td>\n",
       "      <td>NaN</td>\n",
       "      <td>6.8</td>\n",
       "      <td>боевик,триллер</td>\n",
       "      <td>135.0</td>\n",
       "    </tr>\n",
       "    <tr>\n",
       "      <td>4326</td>\n",
       "      <td>Побег из Вегаса</td>\n",
       "      <td>221115810</td>\n",
       "      <td>2010-10-07 12:00:00+00:00</td>\n",
       "      <td>художественный</td>\n",
       "      <td>Юниверсал Пикчерз, Рилейтивити Медиа, спайглас...</td>\n",
       "      <td>сша</td>\n",
       "      <td>Николас Столлер</td>\n",
       "      <td>Джадд Апатов, Дэвид Л.Бушелл, Родни Ротман</td>\n",
       "      <td>«16+» - для детей старше 16 лет</td>\n",
       "      <td>NaN</td>\n",
       "      <td>NaN</td>\n",
       "      <td>NaN</td>\n",
       "      <td>NaN</td>\n",
       "      <td>6.6</td>\n",
       "      <td>комедия,приключения,музыка</td>\n",
       "      <td>140.0</td>\n",
       "    </tr>\n",
       "    <tr>\n",
       "      <td>1634</td>\n",
       "      <td>Железяки</td>\n",
       "      <td>124002113</td>\n",
       "      <td>2013-06-11 12:00:00+00:00</td>\n",
       "      <td>анимационный</td>\n",
       "      <td>Шамонколфилм Интернэшнл, Ворк Пойнт Интертейнмент</td>\n",
       "      <td>таиланд</td>\n",
       "      <td>Прапас Чолсаранонт</td>\n",
       "      <td>Панич Содзи</td>\n",
       "      <td>«6+» - для детей старше 6 лет</td>\n",
       "      <td>NaN</td>\n",
       "      <td>NaN</td>\n",
       "      <td>NaN</td>\n",
       "      <td>NaN</td>\n",
       "      <td>6.4</td>\n",
       "      <td>мультфильм,фантастика,комедия</td>\n",
       "      <td>150.0</td>\n",
       "    </tr>\n",
       "    <tr>\n",
       "      <td>4948</td>\n",
       "      <td>Неуловимый Люк</td>\n",
       "      <td>121014011</td>\n",
       "      <td>2011-08-03 12:00:00+00:00</td>\n",
       "      <td>художественный</td>\n",
       "      <td>ЮДжиСи ЮэМ</td>\n",
       "      <td>франция-аргентина</td>\n",
       "      <td>Джеймс Хат</td>\n",
       "      <td>Саид Бен Саид, Ив Мармион, Соня Шиллито</td>\n",
       "      <td>«16+» - для детей старше 16 лет</td>\n",
       "      <td>NaN</td>\n",
       "      <td>NaN</td>\n",
       "      <td>NaN</td>\n",
       "      <td>NaN</td>\n",
       "      <td>5.8</td>\n",
       "      <td>комедия,приключения,вестерн</td>\n",
       "      <td>150.0</td>\n",
       "    </tr>\n",
       "    <tr>\n",
       "      <td>5019</td>\n",
       "      <td>Еще один год</td>\n",
       "      <td>121006811</td>\n",
       "      <td>2011-04-27 12:00:00+00:00</td>\n",
       "      <td>художественный</td>\n",
       "      <td>Филм4, Фокус Фьючерз Интернэшнл, Син Мэн Филмз...</td>\n",
       "      <td>великобритания</td>\n",
       "      <td>Майкл Ли</td>\n",
       "      <td>Джорджина Лоу</td>\n",
       "      <td>«16+» - для детей старше 16 лет</td>\n",
       "      <td>NaN</td>\n",
       "      <td>NaN</td>\n",
       "      <td>NaN</td>\n",
       "      <td>NaN</td>\n",
       "      <td>7.1</td>\n",
       "      <td>драма,комедия</td>\n",
       "      <td>150.0</td>\n",
       "    </tr>\n",
       "    <tr>\n",
       "      <td>211</td>\n",
       "      <td>Обыкновенный фашизм</td>\n",
       "      <td>112000215</td>\n",
       "      <td>2015-04-23 12:00:00+00:00</td>\n",
       "      <td>документальный</td>\n",
       "      <td>Киностудия \"Мосфильм\"</td>\n",
       "      <td>ссср</td>\n",
       "      <td>М.Ромм</td>\n",
       "      <td>NaN</td>\n",
       "      <td>«16+» - для детей старше 16 лет</td>\n",
       "      <td>NaN</td>\n",
       "      <td>NaN</td>\n",
       "      <td>NaN</td>\n",
       "      <td>NaN</td>\n",
       "      <td>8.3</td>\n",
       "      <td>документальный,военный,история</td>\n",
       "      <td>150.0</td>\n",
       "    </tr>\n",
       "    <tr>\n",
       "      <td>1757</td>\n",
       "      <td>Пиноккио /По мотивам сказки Карло Коллоди \"При...</td>\n",
       "      <td>124002513</td>\n",
       "      <td>2013-07-29 12:00:00+00:00</td>\n",
       "      <td>анимационный</td>\n",
       "      <td>2Дэ3Дэ Анимейшн, Комета Фильм, Ирис Продакшнз,...</td>\n",
       "      <td>франция-италия-бельгия-люксембург</td>\n",
       "      <td>Энцо Д'Алло</td>\n",
       "      <td>Эрик Гозенс, Николас Стейл</td>\n",
       "      <td>«0+» - для любой зрительской аудитории</td>\n",
       "      <td>NaN</td>\n",
       "      <td>NaN</td>\n",
       "      <td>NaN</td>\n",
       "      <td>NaN</td>\n",
       "      <td>6.4</td>\n",
       "      <td>фэнтези,драма,приключения</td>\n",
       "      <td>150.0</td>\n",
       "    </tr>\n",
       "    <tr>\n",
       "      <td>4406</td>\n",
       "      <td>Воображариум доктора Парнаса</td>\n",
       "      <td>121000810</td>\n",
       "      <td>2010-01-28 12:00:00+00:00</td>\n",
       "      <td>художественный</td>\n",
       "      <td>Дэвис Филмз, Гроссвенор Парк Продакшнз, Инфини...</td>\n",
       "      <td>канада-франция-великобритания</td>\n",
       "      <td>Тьерри Гиллиам</td>\n",
       "      <td>Тьерри Гиллиам, Эми Гиллиам, Сэмюэл Хадида</td>\n",
       "      <td>«16+» - для детей старше 16 лет</td>\n",
       "      <td>NaN</td>\n",
       "      <td>NaN</td>\n",
       "      <td>NaN</td>\n",
       "      <td>NaN</td>\n",
       "      <td>7.0</td>\n",
       "      <td>фэнтези,приключения,комедия</td>\n",
       "      <td>150.0</td>\n",
       "    </tr>\n",
       "    <tr>\n",
       "      <td>2340</td>\n",
       "      <td>Детский юмористический киножурнал \"Ералаш\", вы...</td>\n",
       "      <td>111014014</td>\n",
       "      <td>2014-10-10 12:00:00+00:00</td>\n",
       "      <td>художественный</td>\n",
       "      <td>ООО \"Продюсерский центр ЕРАЛАШ\"</td>\n",
       "      <td>россия</td>\n",
       "      <td>И.Белостоцкий, Р.Фрунтов, А.Зеленков, Е.Юликов...</td>\n",
       "      <td>ООО \"Продюсерский центр ЕРАЛАШ\"</td>\n",
       "      <td>«0+» - для любой зрительской аудитории</td>\n",
       "      <td>NaN</td>\n",
       "      <td>NaN</td>\n",
       "      <td>NaN</td>\n",
       "      <td>NaN</td>\n",
       "      <td>7.2</td>\n",
       "      <td>детский,комедия</td>\n",
       "      <td>165.0</td>\n",
       "    </tr>\n",
       "    <tr>\n",
       "      <td>162</td>\n",
       "      <td>Журавушка</td>\n",
       "      <td>111011914</td>\n",
       "      <td>2014-10-01 12:00:00+00:00</td>\n",
       "      <td>художественный</td>\n",
       "      <td>Киностудия \"Мосфильм\"</td>\n",
       "      <td>ссср</td>\n",
       "      <td>Н.Москаленко</td>\n",
       "      <td>NaN</td>\n",
       "      <td>«12+» - для детей старше 12 лет</td>\n",
       "      <td>NaN</td>\n",
       "      <td>NaN</td>\n",
       "      <td>NaN</td>\n",
       "      <td>NaN</td>\n",
       "      <td>7.6</td>\n",
       "      <td>драма,мелодрама</td>\n",
       "      <td>165.0</td>\n",
       "    </tr>\n",
       "    <tr>\n",
       "      <td>1956</td>\n",
       "      <td>Срок давности</td>\n",
       "      <td>111021214</td>\n",
       "      <td>2014-12-01 12:00:00+00:00</td>\n",
       "      <td>художественный</td>\n",
       "      <td>Киностудия \"Мосфильм\"</td>\n",
       "      <td>ссср</td>\n",
       "      <td>Л.Агранович</td>\n",
       "      <td>NaN</td>\n",
       "      <td>«12+» - для детей старше 12 лет</td>\n",
       "      <td>NaN</td>\n",
       "      <td>NaN</td>\n",
       "      <td>NaN</td>\n",
       "      <td>NaN</td>\n",
       "      <td>5.8</td>\n",
       "      <td>приключения,детектив,мелодрама</td>\n",
       "      <td>170.0</td>\n",
       "    </tr>\n",
       "    <tr>\n",
       "      <td>4625</td>\n",
       "      <td>Без мужчин</td>\n",
       "      <td>111011310</td>\n",
       "      <td>2010-12-15 12:00:00+00:00</td>\n",
       "      <td>художественный</td>\n",
       "      <td>ООО Кинокомпания \"ВВЫСЬ\", ООО \"ВВП Альянс\"</td>\n",
       "      <td>россия</td>\n",
       "      <td>А.Хмельницкая</td>\n",
       "      <td>Р.Гигинеишвили</td>\n",
       "      <td>«16+» - для детей старше 16 лет</td>\n",
       "      <td>NaN</td>\n",
       "      <td>NaN</td>\n",
       "      <td>NaN</td>\n",
       "      <td>NaN</td>\n",
       "      <td>4.5</td>\n",
       "      <td>мелодрама,комедия</td>\n",
       "      <td>180.0</td>\n",
       "    </tr>\n",
       "    <tr>\n",
       "      <td>3896</td>\n",
       "      <td>Меняющие реальность /По произведению Филиппа К...</td>\n",
       "      <td>121002211</td>\n",
       "      <td>2011-02-17 12:00:00+00:00</td>\n",
       "      <td>художественный</td>\n",
       "      <td>Гамбит Пикчерз, Электрик Шеперд Продакшнз, Мед...</td>\n",
       "      <td>сша</td>\n",
       "      <td>Джордж Нолфи</td>\n",
       "      <td>Майкл Бедерман, Билл Карраро, Иза Дик Хэкетт</td>\n",
       "      <td>«12+» - для детей старше 12 лет</td>\n",
       "      <td>NaN</td>\n",
       "      <td>NaN</td>\n",
       "      <td>NaN</td>\n",
       "      <td>NaN</td>\n",
       "      <td>7.4</td>\n",
       "      <td>фантастика,триллер,мелодрама</td>\n",
       "      <td>180.0</td>\n",
       "    </tr>\n",
       "    <tr>\n",
       "      <td>1057</td>\n",
       "      <td>Третий лишний _</td>\n",
       "      <td>121016012</td>\n",
       "      <td>2012-07-06 12:00:00+00:00</td>\n",
       "      <td>художественный</td>\n",
       "      <td>Юниверсал Пикчерз, Медиа Райтс Кэпитал, Фаззи ...</td>\n",
       "      <td>сша</td>\n",
       "      <td>Сет МакФарлейн</td>\n",
       "      <td>Джон Джейкобс, Джейсон Кларк, Сет МакФарлейн</td>\n",
       "      <td>«16+» - для детей старше 16 лет</td>\n",
       "      <td>NaN</td>\n",
       "      <td>NaN</td>\n",
       "      <td>NaN</td>\n",
       "      <td>NaN</td>\n",
       "      <td>6.7</td>\n",
       "      <td>комедия</td>\n",
       "      <td>180.0</td>\n",
       "    </tr>\n",
       "    <tr>\n",
       "      <td>1145</td>\n",
       "      <td>Джек - покоритель великанов</td>\n",
       "      <td>121003813</td>\n",
       "      <td>2013-02-21 12:00:00+00:00</td>\n",
       "      <td>художественный</td>\n",
       "      <td>Нью Лайн Синема, Лежендари Пикчерз, Ориджинал ...</td>\n",
       "      <td>сша</td>\n",
       "      <td>Брайан Сингер</td>\n",
       "      <td>Дэйвид Добкин, Нил Мориц</td>\n",
       "      <td>«12+» - для детей старше 12 лет</td>\n",
       "      <td>NaN</td>\n",
       "      <td>NaN</td>\n",
       "      <td>NaN</td>\n",
       "      <td>NaN</td>\n",
       "      <td>6.3</td>\n",
       "      <td>фэнтези,приключения</td>\n",
       "      <td>190.0</td>\n",
       "    </tr>\n",
       "    <tr>\n",
       "      <td>103</td>\n",
       "      <td>Гори, гори, моя звезда</td>\n",
       "      <td>111013713</td>\n",
       "      <td>2013-12-19 12:00:00+00:00</td>\n",
       "      <td>художественный</td>\n",
       "      <td>Киностудия \"Мосфильм\"</td>\n",
       "      <td>ссср</td>\n",
       "      <td>А.Митта</td>\n",
       "      <td>NaN</td>\n",
       "      <td>«12+» - для детей старше 12 лет</td>\n",
       "      <td>NaN</td>\n",
       "      <td>NaN</td>\n",
       "      <td>NaN</td>\n",
       "      <td>NaN</td>\n",
       "      <td>8.0</td>\n",
       "      <td>драма,мелодрама,комедия</td>\n",
       "      <td>200.0</td>\n",
       "    </tr>\n",
       "    <tr>\n",
       "      <td>485</td>\n",
       "      <td>Отважная Лифи</td>\n",
       "      <td>124000512</td>\n",
       "      <td>2012-04-05 12:00:00+00:00</td>\n",
       "      <td>анимационный</td>\n",
       "      <td>Мьюнг Филмз, Одолтоджи</td>\n",
       "      <td>южнаякорея</td>\n",
       "      <td>Сон-Юн О</td>\n",
       "      <td>Сун-ку Ким, Эун Ли</td>\n",
       "      <td>«0+» - для любой зрительской аудитории</td>\n",
       "      <td>NaN</td>\n",
       "      <td>NaN</td>\n",
       "      <td>NaN</td>\n",
       "      <td>NaN</td>\n",
       "      <td>7.2</td>\n",
       "      <td>мультфильм,приключения,драма</td>\n",
       "      <td>200.0</td>\n",
       "    </tr>\n",
       "    <tr>\n",
       "      <td>1441</td>\n",
       "      <td>Рэд 2</td>\n",
       "      <td>121018013</td>\n",
       "      <td>2013-07-11 12:00:00+00:00</td>\n",
       "      <td>художественный</td>\n",
       "      <td>Саммит Интертейнмент, Ди Бонавентура, ДиСи Инт...</td>\n",
       "      <td>сша</td>\n",
       "      <td>Дин Паризо</td>\n",
       "      <td>Лоренцо Ди Бонавентура</td>\n",
       "      <td>«12+» - для детей старше 12 лет</td>\n",
       "      <td>NaN</td>\n",
       "      <td>NaN</td>\n",
       "      <td>NaN</td>\n",
       "      <td>NaN</td>\n",
       "      <td>6.8</td>\n",
       "      <td>боевик,комедия</td>\n",
       "      <td>200.0</td>\n",
       "    </tr>\n",
       "    <tr>\n",
       "      <td>462</td>\n",
       "      <td>КОКОКО</td>\n",
       "      <td>111003112</td>\n",
       "      <td>2012-06-05 12:00:00+00:00</td>\n",
       "      <td>художественный</td>\n",
       "      <td>ООО Кинокомпания \"Глобус-фильм\"</td>\n",
       "      <td>россия</td>\n",
       "      <td>А.Смирнова</td>\n",
       "      <td>С.Сельянов</td>\n",
       "      <td>«18+» - запрещено для детей</td>\n",
       "      <td>NaN</td>\n",
       "      <td>NaN</td>\n",
       "      <td>NaN</td>\n",
       "      <td>NaN</td>\n",
       "      <td>6.9</td>\n",
       "      <td>драма,комедия</td>\n",
       "      <td>200.0</td>\n",
       "    </tr>\n",
       "    <tr>\n",
       "      <td>3907</td>\n",
       "      <td>Ларго Винч 2: Заговор в Бирме</td>\n",
       "      <td>121002811</td>\n",
       "      <td>2011-02-25 12:00:00+00:00</td>\n",
       "      <td>художественный</td>\n",
       "      <td>Пан Европен Продюксьон, Каса Продюксьон, Уалд ...</td>\n",
       "      <td>франция</td>\n",
       "      <td>Жером Салль</td>\n",
       "      <td>Натали Гастальдо, Эрик Зауали</td>\n",
       "      <td>«16+» - для детей старше 16 лет</td>\n",
       "      <td>NaN</td>\n",
       "      <td>NaN</td>\n",
       "      <td>NaN</td>\n",
       "      <td>NaN</td>\n",
       "      <td>6.6</td>\n",
       "      <td>триллер,приключения</td>\n",
       "      <td>200.0</td>\n",
       "    </tr>\n",
       "    <tr>\n",
       "      <td>1683</td>\n",
       "      <td>Полярный рейс</td>\n",
       "      <td>131000813</td>\n",
       "      <td>2013-12-03 12:00:00+00:00</td>\n",
       "      <td>художественный</td>\n",
       "      <td>Вайс Вижн</td>\n",
       "      <td>украина</td>\n",
       "      <td>С.Чекалов</td>\n",
       "      <td>О.Компанец, Д.Тулин</td>\n",
       "      <td>«12+» - для детей старше 12 лет</td>\n",
       "      <td>NaN</td>\n",
       "      <td>NaN</td>\n",
       "      <td>NaN</td>\n",
       "      <td>NaN</td>\n",
       "      <td>4.2</td>\n",
       "      <td>комедия</td>\n",
       "      <td>200.0</td>\n",
       "    </tr>\n",
       "    <tr>\n",
       "      <td>3843</td>\n",
       "      <td>Рейдер</td>\n",
       "      <td>111001311</td>\n",
       "      <td>2011-02-10 12:00:00+00:00</td>\n",
       "      <td>художественный</td>\n",
       "      <td>ООО \"Продюсерская фирма Игоря Толстунова\", ООО...</td>\n",
       "      <td>россия</td>\n",
       "      <td>В.Аравин</td>\n",
       "      <td>И.Толстунов, С.Астахова</td>\n",
       "      <td>«16+» - для детей старше 16 лет</td>\n",
       "      <td>NaN</td>\n",
       "      <td>NaN</td>\n",
       "      <td>NaN</td>\n",
       "      <td>NaN</td>\n",
       "      <td>5.8</td>\n",
       "      <td>драма,криминал</td>\n",
       "      <td>200.0</td>\n",
       "    </tr>\n",
       "    <tr>\n",
       "      <td>77</td>\n",
       "      <td>Будьте моим мужем</td>\n",
       "      <td>111012413</td>\n",
       "      <td>2013-12-19 12:00:00+00:00</td>\n",
       "      <td>художественный</td>\n",
       "      <td>Киностудия \"Мосфильм\"</td>\n",
       "      <td>ссср</td>\n",
       "      <td>А.Сурикова</td>\n",
       "      <td>NaN</td>\n",
       "      <td>«6+» - для детей старше 6 лет</td>\n",
       "      <td>NaN</td>\n",
       "      <td>NaN</td>\n",
       "      <td>NaN</td>\n",
       "      <td>NaN</td>\n",
       "      <td>6.4</td>\n",
       "      <td>комедия</td>\n",
       "      <td>200.0</td>\n",
       "    </tr>\n",
       "    <tr>\n",
       "      <td>512</td>\n",
       "      <td>Ржевский против Наполеона</td>\n",
       "      <td>111000212</td>\n",
       "      <td>2012-01-12 12:00:00+00:00</td>\n",
       "      <td>художественный</td>\n",
       "      <td>ООО \"Территория Кино\"</td>\n",
       "      <td>россия</td>\n",
       "      <td>М.Бальчунас</td>\n",
       "      <td>ООО \"Квартал Леополис\"</td>\n",
       "      <td>«16+» - для детей старше 16 лет</td>\n",
       "      <td>NaN</td>\n",
       "      <td>NaN</td>\n",
       "      <td>NaN</td>\n",
       "      <td>NaN</td>\n",
       "      <td>3.0</td>\n",
       "      <td>комедия</td>\n",
       "      <td>200.0</td>\n",
       "    </tr>\n",
       "    <tr>\n",
       "      <td>4501</td>\n",
       "      <td>Время ведьм .</td>\n",
       "      <td>121022810</td>\n",
       "      <td>2010-12-10 12:00:00+00:00</td>\n",
       "      <td>художественный</td>\n",
       "      <td>Атлас Интертейнмент, Релативити Медиа</td>\n",
       "      <td>сша</td>\n",
       "      <td>Доминик Сена</td>\n",
       "      <td>Алекс Гартнер</td>\n",
       "      <td>«16+» - для детей старше 16 лет</td>\n",
       "      <td>NaN</td>\n",
       "      <td>NaN</td>\n",
       "      <td>NaN</td>\n",
       "      <td>NaN</td>\n",
       "      <td>6.2</td>\n",
       "      <td>фэнтези,боевик,приключения</td>\n",
       "      <td>200.0</td>\n",
       "    </tr>\n",
       "    <tr>\n",
       "      <td>1043</td>\n",
       "      <td>Папа - досвидос</td>\n",
       "      <td>221035012</td>\n",
       "      <td>2012-09-24 12:00:00+00:00</td>\n",
       "      <td>художественный</td>\n",
       "      <td>Коламбиа Пикчерз, Хэппи Медисон Продакшнз</td>\n",
       "      <td>сша</td>\n",
       "      <td>Шон Андерс</td>\n",
       "      <td>Джек Джаррапуто, Аллен Коверт, Хезер Перри, Ад...</td>\n",
       "      <td>«16+» - для детей старше 16 лет</td>\n",
       "      <td>NaN</td>\n",
       "      <td>NaN</td>\n",
       "      <td>NaN</td>\n",
       "      <td>NaN</td>\n",
       "      <td>6.1</td>\n",
       "      <td>комедия</td>\n",
       "      <td>200.0</td>\n",
       "    </tr>\n",
       "    <tr>\n",
       "      <td>2628</td>\n",
       "      <td>Песнь моря</td>\n",
       "      <td>124001316</td>\n",
       "      <td>2016-04-19 12:00:00+00:00</td>\n",
       "      <td>анимационный</td>\n",
       "      <td>Биг Фарм, Картун Салун, Диджитал Графикс, Ириш...</td>\n",
       "      <td>ирландия-дания-бельгия-люксембург-франция</td>\n",
       "      <td>Томм Мур</td>\n",
       "      <td>Клаус Токсвиг Кьяэр, Томм Мур, Пол Янг</td>\n",
       "      <td>«6+» - для детей старше 6 лет</td>\n",
       "      <td>NaN</td>\n",
       "      <td>NaN</td>\n",
       "      <td>NaN</td>\n",
       "      <td>NaN</td>\n",
       "      <td>8.1</td>\n",
       "      <td>мультфильм,фэнтези,драма</td>\n",
       "      <td>200.0</td>\n",
       "    </tr>\n",
       "    <tr>\n",
       "      <td>151</td>\n",
       "      <td>Жестокость</td>\n",
       "      <td>111011614</td>\n",
       "      <td>2014-10-01 12:00:00+00:00</td>\n",
       "      <td>художественный</td>\n",
       "      <td>Киностудия \"Мосфильм\"</td>\n",
       "      <td>ссср</td>\n",
       "      <td>В.Скуйбин</td>\n",
       "      <td>NaN</td>\n",
       "      <td>«12+» - для детей старше 12 лет</td>\n",
       "      <td>NaN</td>\n",
       "      <td>NaN</td>\n",
       "      <td>NaN</td>\n",
       "      <td>NaN</td>\n",
       "      <td>7.1</td>\n",
       "      <td>драма</td>\n",
       "      <td>200.0</td>\n",
       "    </tr>\n",
       "    <tr>\n",
       "      <td>530</td>\n",
       "      <td>Схватка _</td>\n",
       "      <td>121000312</td>\n",
       "      <td>2012-01-11 12:00:00+00:00</td>\n",
       "      <td>художественный</td>\n",
       "      <td>Лиддел Интертейнмент, Скотт Фри Продакшнз, 198...</td>\n",
       "      <td>сша</td>\n",
       "      <td>Джо Карнахан</td>\n",
       "      <td>Джо Карнахан, Ридли Скотт, Тони Скотт</td>\n",
       "      <td>«18+» - запрещено для детей</td>\n",
       "      <td>NaN</td>\n",
       "      <td>NaN</td>\n",
       "      <td>NaN</td>\n",
       "      <td>NaN</td>\n",
       "      <td>8.0</td>\n",
       "      <td>триллер,драма,криминал</td>\n",
       "      <td>210.0</td>\n",
       "    </tr>\n",
       "    <tr>\n",
       "      <td>4929</td>\n",
       "      <td>Бабло</td>\n",
       "      <td>111006311</td>\n",
       "      <td>2011-09-27 12:00:00+00:00</td>\n",
       "      <td>художественный</td>\n",
       "      <td>ООО \"Кинокомпания \"СТВ\"</td>\n",
       "      <td>россия</td>\n",
       "      <td>К.Буслов</td>\n",
       "      <td>С.Сельянов</td>\n",
       "      <td>«16+» - для детей старше 16 лет</td>\n",
       "      <td>NaN</td>\n",
       "      <td>NaN</td>\n",
       "      <td>NaN</td>\n",
       "      <td>NaN</td>\n",
       "      <td>6.5</td>\n",
       "      <td>комедия,криминал</td>\n",
       "      <td>225.0</td>\n",
       "    </tr>\n",
       "    <tr>\n",
       "      <td>1065</td>\n",
       "      <td>Мой парень - псих! История оптимиста</td>\n",
       "      <td>121028512</td>\n",
       "      <td>2012-11-19 12:00:00+00:00</td>\n",
       "      <td>художественный</td>\n",
       "      <td>Вайнштейн Компани, Мираж Интерпрайзис</td>\n",
       "      <td>сша</td>\n",
       "      <td>Дэвид О.Расселл</td>\n",
       "      <td>Донна Джильотти, Брюс Коэн, Брэдли Купер</td>\n",
       "      <td>«16+» - для детей старше 16 лет</td>\n",
       "      <td>NaN</td>\n",
       "      <td>NaN</td>\n",
       "      <td>NaN</td>\n",
       "      <td>NaN</td>\n",
       "      <td>7.2</td>\n",
       "      <td>драма,мелодрама,комедия</td>\n",
       "      <td>225.0</td>\n",
       "    </tr>\n",
       "  </tbody>\n",
       "</table>\n",
       "</div>"
      ],
      "text/plain": [
       "                                                  title   puNumber  \\\n",
       "150                                     Жестокий романс  111006013   \n",
       "2254                                   Каменный цветок.  111016714   \n",
       "3883                               22 пули: Бессмертный  121006410   \n",
       "1172                   Астерикс и Обеликс в Британии 3D  121025012   \n",
       "163                                         За спичками  111006113   \n",
       "210                  Одиноким предоставляется общежитие  111018614   \n",
       "1490                                 Лучшие дни впереди  121023413   \n",
       "4028                                        Ловец ветра  111009310   \n",
       "1261          Обещание /По произведению Стефана Цвейга/  121009914   \n",
       "349                               Волшебное приключение  124000905   \n",
       "4412                                           Прячься!  111003010   \n",
       "1027                                 Монстры на острове  124002515   \n",
       "922                                            Стукач .  121001713   \n",
       "4506                                              Фобос  111001510   \n",
       "827                                      Кровавый Санта  121027012   \n",
       "1477  Я, Франкенштейн /По мотивам графического роман...  121032713   \n",
       "3833                                       Медведь Йоги  224003711   \n",
       "4493                                               Ёлки  111010710   \n",
       "3872                                   Больше, чем друг  121013210   \n",
       "4704                                           Механик_  121024110   \n",
       "4326                                    Побег из Вегаса  221115810   \n",
       "1634                                           Железяки  124002113   \n",
       "4948                                     Неуловимый Люк  121014011   \n",
       "5019                                       Еще один год  121006811   \n",
       "211                                 Обыкновенный фашизм  112000215   \n",
       "1757  Пиноккио /По мотивам сказки Карло Коллоди \"При...  124002513   \n",
       "4406                       Воображариум доктора Парнаса  121000810   \n",
       "2340  Детский юмористический киножурнал \"Ералаш\", вы...  111014014   \n",
       "162                                           Журавушка  111011914   \n",
       "1956                                      Срок давности  111021214   \n",
       "4625                                         Без мужчин  111011310   \n",
       "3896  Меняющие реальность /По произведению Филиппа К...  121002211   \n",
       "1057                                    Третий лишний _  121016012   \n",
       "1145                        Джек - покоритель великанов  121003813   \n",
       "103                              Гори, гори, моя звезда  111013713   \n",
       "485                                       Отважная Лифи  124000512   \n",
       "1441                                              Рэд 2  121018013   \n",
       "462                                              КОКОКО  111003112   \n",
       "3907                      Ларго Винч 2: Заговор в Бирме  121002811   \n",
       "1683                                      Полярный рейс  131000813   \n",
       "3843                                             Рейдер  111001311   \n",
       "77                                    Будьте моим мужем  111012413   \n",
       "512                           Ржевский против Наполеона  111000212   \n",
       "4501                                      Время ведьм .  121022810   \n",
       "1043                                    Папа - досвидос  221035012   \n",
       "2628                                         Песнь моря  124001316   \n",
       "151                                          Жестокость  111011614   \n",
       "530                                           Схватка _  121000312   \n",
       "4929                                              Бабло  111006311   \n",
       "1065               Мой парень - псих! История оптимиста  121028512   \n",
       "\n",
       "               show_start_date            type  \\\n",
       "150  2013-10-18 12:00:00+00:00  художественный   \n",
       "2254 2014-12-01 12:00:00+00:00  художественный   \n",
       "3883 2010-04-01 12:00:00+00:00  художественный   \n",
       "1172 2012-10-05 12:00:00+00:00  художественный   \n",
       "163  2013-10-18 12:00:00+00:00  художественный   \n",
       "210  2014-12-01 12:00:00+00:00  художественный   \n",
       "1490 2013-09-03 12:00:00+00:00  художественный   \n",
       "4028 2010-10-21 12:00:00+00:00  художественный   \n",
       "1261 2014-05-19 12:00:00+00:00  художественный   \n",
       "349  2015-01-18 12:00:00+00:00    анимационный   \n",
       "4412 2010-03-22 12:00:00+00:00  художественный   \n",
       "1027 2015-06-25 12:00:00+00:00    анимационный   \n",
       "922  2013-02-05 12:00:00+00:00  художественный   \n",
       "4506 2010-02-05 12:00:00+00:00  художественный   \n",
       "827  2012-11-07 12:00:00+00:00  художественный   \n",
       "1477 2013-12-20 12:00:00+00:00  художественный   \n",
       "3833 2011-02-07 12:00:00+00:00  художественный   \n",
       "4493 2010-12-08 12:00:00+00:00  художественный   \n",
       "3872 2010-08-02 12:00:00+00:00  художественный   \n",
       "4704 2010-12-29 12:00:00+00:00  художественный   \n",
       "4326 2010-10-07 12:00:00+00:00  художественный   \n",
       "1634 2013-06-11 12:00:00+00:00    анимационный   \n",
       "4948 2011-08-03 12:00:00+00:00  художественный   \n",
       "5019 2011-04-27 12:00:00+00:00  художественный   \n",
       "211  2015-04-23 12:00:00+00:00  документальный   \n",
       "1757 2013-07-29 12:00:00+00:00    анимационный   \n",
       "4406 2010-01-28 12:00:00+00:00  художественный   \n",
       "2340 2014-10-10 12:00:00+00:00  художественный   \n",
       "162  2014-10-01 12:00:00+00:00  художественный   \n",
       "1956 2014-12-01 12:00:00+00:00  художественный   \n",
       "4625 2010-12-15 12:00:00+00:00  художественный   \n",
       "3896 2011-02-17 12:00:00+00:00  художественный   \n",
       "1057 2012-07-06 12:00:00+00:00  художественный   \n",
       "1145 2013-02-21 12:00:00+00:00  художественный   \n",
       "103  2013-12-19 12:00:00+00:00  художественный   \n",
       "485  2012-04-05 12:00:00+00:00    анимационный   \n",
       "1441 2013-07-11 12:00:00+00:00  художественный   \n",
       "462  2012-06-05 12:00:00+00:00  художественный   \n",
       "3907 2011-02-25 12:00:00+00:00  художественный   \n",
       "1683 2013-12-03 12:00:00+00:00  художественный   \n",
       "3843 2011-02-10 12:00:00+00:00  художественный   \n",
       "77   2013-12-19 12:00:00+00:00  художественный   \n",
       "512  2012-01-12 12:00:00+00:00  художественный   \n",
       "4501 2010-12-10 12:00:00+00:00  художественный   \n",
       "1043 2012-09-24 12:00:00+00:00  художественный   \n",
       "2628 2016-04-19 12:00:00+00:00    анимационный   \n",
       "151  2014-10-01 12:00:00+00:00  художественный   \n",
       "530  2012-01-11 12:00:00+00:00  художественный   \n",
       "4929 2011-09-27 12:00:00+00:00  художественный   \n",
       "1065 2012-11-19 12:00:00+00:00  художественный   \n",
       "\n",
       "                                            film_studio  \\\n",
       "150                               Киностудия \"Мосфильм\"   \n",
       "2254                              Киностудия \"Мосфильм\"   \n",
       "3883                                   Еуроп Корпорейшн   \n",
       "1172  Уайлд Банч, Фиделите Фильм, Филм Кайрос, Синет...   \n",
       "163               Киностудия \"Мосфильм\", \"СУОМИ-ФИЛЬМ\"    \n",
       "210                               Киностудия \"Мосфильм\"   \n",
       "1490  Ле Фильм дю Киоск, 27.11 Продюксьон, Директ си...   \n",
       "4028                   ГУП РБ Киностудия \"Башкортостан\"   \n",
       "1261  Фиделите Фильм, Уалд Банч, Скоуп Пикчерз, Оран...   \n",
       "349            Экшион Филмз, Патэ Синема, Болексбразерс   \n",
       "4412  ООО \"Стар Медиа Про\", ООО \"Кинокомпания \"СТВ\" ...   \n",
       "1027  Аби Шуи, Хакайдо Медиа Партнерс, Джи Дрим, Роб...   \n",
       "922   Эксклюзив Медиа Групп, Имеджинейшн Абу Даби, П...   \n",
       "4506                           ООО \"Арт Пикчерс Студия\"   \n",
       "827             Парашют Пикчерз, Том де Моль Продюксьон   \n",
       "1477  Хопскотч Фьючерз, Лэйкшор Интертейнмент, Лайон...   \n",
       "3833  Уорнер Бразерс, Сансвепт Интертейнмент, Де Лай...   \n",
       "4493                                       ООО \"ТаББаК\"   \n",
       "3872                  Бон Файд Прдакшнз, Мандат Пикчерз   \n",
       "4704          Миллениум Филмз, Нью Имейдж Интертейнмент   \n",
       "4326  Юниверсал Пикчерз, Рилейтивити Медиа, спайглас...   \n",
       "1634  Шамонколфилм Интернэшнл, Ворк Пойнт Интертейнмент   \n",
       "4948                                         ЮДжиСи ЮэМ   \n",
       "5019  Филм4, Фокус Фьючерз Интернэшнл, Син Мэн Филмз...   \n",
       "211                               Киностудия \"Мосфильм\"   \n",
       "1757  2Дэ3Дэ Анимейшн, Комета Фильм, Ирис Продакшнз,...   \n",
       "4406  Дэвис Филмз, Гроссвенор Парк Продакшнз, Инфини...   \n",
       "2340                    ООО \"Продюсерский центр ЕРАЛАШ\"   \n",
       "162                               Киностудия \"Мосфильм\"   \n",
       "1956                              Киностудия \"Мосфильм\"   \n",
       "4625         ООО Кинокомпания \"ВВЫСЬ\", ООО \"ВВП Альянс\"   \n",
       "3896  Гамбит Пикчерз, Электрик Шеперд Продакшнз, Мед...   \n",
       "1057  Юниверсал Пикчерз, Медиа Райтс Кэпитал, Фаззи ...   \n",
       "1145  Нью Лайн Синема, Лежендари Пикчерз, Ориджинал ...   \n",
       "103                               Киностудия \"Мосфильм\"   \n",
       "485                              Мьюнг Филмз, Одолтоджи   \n",
       "1441  Саммит Интертейнмент, Ди Бонавентура, ДиСи Инт...   \n",
       "462                     ООО Кинокомпания \"Глобус-фильм\"   \n",
       "3907  Пан Европен Продюксьон, Каса Продюксьон, Уалд ...   \n",
       "1683                                          Вайс Вижн   \n",
       "3843  ООО \"Продюсерская фирма Игоря Толстунова\", ООО...   \n",
       "77                                Киностудия \"Мосфильм\"   \n",
       "512                               ООО \"Территория Кино\"   \n",
       "4501              Атлас Интертейнмент, Релативити Медиа   \n",
       "1043          Коламбиа Пикчерз, Хэппи Медисон Продакшнз   \n",
       "2628  Биг Фарм, Картун Салун, Диджитал Графикс, Ириш...   \n",
       "151                               Киностудия \"Мосфильм\"   \n",
       "530   Лиддел Интертейнмент, Скотт Фри Продакшнз, 198...   \n",
       "4929                            ООО \"Кинокомпания \"СТВ\"   \n",
       "1065              Вайнштейн Компани, Мираж Интерпрайзис   \n",
       "\n",
       "                             production_country  \\\n",
       "150                                        ссср   \n",
       "2254                                       ссср   \n",
       "3883                                    франция   \n",
       "1172             франция-италия-испания-венгрия   \n",
       "163                              ссср,финляндия   \n",
       "210                                        ссср   \n",
       "1490                                    франция   \n",
       "4028                                     россия   \n",
       "1261                            франция-бельгия   \n",
       "349                      великобритания-франция   \n",
       "4412                            россия-германия   \n",
       "1027                              япония-канада   \n",
       "922                                         сша   \n",
       "4506                                     россия   \n",
       "827                                  нидерланды   \n",
       "1477                                        сша   \n",
       "3833                          сша-новаязеландия   \n",
       "4493                                     россия   \n",
       "3872                                        сша   \n",
       "4704                                        сша   \n",
       "4326                                        сша   \n",
       "1634                                    таиланд   \n",
       "4948                          франция-аргентина   \n",
       "5019                             великобритания   \n",
       "211                                        ссср   \n",
       "1757          франция-италия-бельгия-люксембург   \n",
       "4406              канада-франция-великобритания   \n",
       "2340                                     россия   \n",
       "162                                        ссср   \n",
       "1956                                       ссср   \n",
       "4625                                     россия   \n",
       "3896                                        сша   \n",
       "1057                                        сша   \n",
       "1145                                        сша   \n",
       "103                                        ссср   \n",
       "485                                  южнаякорея   \n",
       "1441                                        сша   \n",
       "462                                      россия   \n",
       "3907                                    франция   \n",
       "1683                                    украина   \n",
       "3843                                     россия   \n",
       "77                                         ссср   \n",
       "512                                      россия   \n",
       "4501                                        сша   \n",
       "1043                                        сша   \n",
       "2628  ирландия-дания-бельгия-люксембург-франция   \n",
       "151                                        ссср   \n",
       "530                                         сша   \n",
       "4929                                     россия   \n",
       "1065                                        сша   \n",
       "\n",
       "                                               director  \\\n",
       "150                                           Э.Рязанов   \n",
       "2254                                           А.Птушко   \n",
       "3883                                         Ришар Бери   \n",
       "1172                                        Лоран Тирар   \n",
       "163                                    Л.Гайдай, Р.Орко   \n",
       "210                                          С.Самсонов   \n",
       "1490                                       Марион Верну   \n",
       "4028                                         А.Юмагулов   \n",
       "1261                                      Патрис Леконт   \n",
       "349                                        Дэйв Бортвик   \n",
       "4412                                          Д.О'Рейли   \n",
       "1027                                    Такаши Ямадзаки   \n",
       "922                                        Рик Роман Во   \n",
       "4506                                         О.Асадулин   \n",
       "827                                            Дик Маас   \n",
       "1477                                       Стюарт Битти   \n",
       "3833                                        Эрик Бревиг   \n",
       "4493  Т.Бекмамбетов, Я.Чеважевский, А.Войтинский, Д....   \n",
       "3872                             Джош Гордон, Уилл Спек   \n",
       "4704                                        Саймон Уэст   \n",
       "4326                                    Николас Столлер   \n",
       "1634                                 Прапас Чолсаранонт   \n",
       "4948                                         Джеймс Хат   \n",
       "5019                                           Майкл Ли   \n",
       "211                                              М.Ромм   \n",
       "1757                                        Энцо Д'Алло   \n",
       "4406                                     Тьерри Гиллиам   \n",
       "2340  И.Белостоцкий, Р.Фрунтов, А.Зеленков, Е.Юликов...   \n",
       "162                                        Н.Москаленко   \n",
       "1956                                        Л.Агранович   \n",
       "4625                                      А.Хмельницкая   \n",
       "3896                                       Джордж Нолфи   \n",
       "1057                                     Сет МакФарлейн   \n",
       "1145                                      Брайан Сингер   \n",
       "103                                             А.Митта   \n",
       "485                                            Сон-Юн О   \n",
       "1441                                         Дин Паризо   \n",
       "462                                          А.Смирнова   \n",
       "3907                                        Жером Салль   \n",
       "1683                                          С.Чекалов   \n",
       "3843                                           В.Аравин   \n",
       "77                                           А.Сурикова   \n",
       "512                                         М.Бальчунас   \n",
       "4501                                       Доминик Сена   \n",
       "1043                                         Шон Андерс   \n",
       "2628                                           Томм Мур   \n",
       "151                                           В.Скуйбин   \n",
       "530                                        Джо Карнахан   \n",
       "4929                                           К.Буслов   \n",
       "1065                                    Дэвид О.Расселл   \n",
       "\n",
       "                                               producer  \\\n",
       "150                                                 NaN   \n",
       "2254                                                NaN   \n",
       "3883         Люк Бессон, Дидье Хорау, Пьер-Анж Ле Погам   \n",
       "1172                      Оливье Делбоск, Марк Миссонье   \n",
       "163                                                 NaN   \n",
       "210                                                 NaN   \n",
       "1490                Франсуа Краус, Дени Пино-Валенсьенн   \n",
       "4028                                           А.Юнусов   \n",
       "1261    Оливье Дебоск, Кристин де Жекель, Марк Миссонье   \n",
       "349   Клауди Горский, Энди Лэйтон, Лаурен Родон, Пас...   \n",
       "4412                                С.Сельянов, В.Ряшин   \n",
       "1027                                     Генки Хавамура   \n",
       "922                      Дуэйн Джонсон, Найджел Синклер   \n",
       "4506                           ООО \"Арт Пикчерс Студия\"   \n",
       "827                               Дик Маас, Том де Моль   \n",
       "1477  Сидни Киммел, Гари Лучези, Эндрю Мэйсон, Ричар...   \n",
       "3833                  Дональд Де Лайн, Карен Розенфельт   \n",
       "4493                               С.Муазен, А.Ремизова   \n",
       "3872              Алберт Бергер, Алан Лоб, Брэдли Томас   \n",
       "4704              Рене Бессон, Авэ Лернер, Дэнни Лернер   \n",
       "4326         Джадд Апатов, Дэвид Л.Бушелл, Родни Ротман   \n",
       "1634                                        Панич Содзи   \n",
       "4948            Саид Бен Саид, Ив Мармион, Соня Шиллито   \n",
       "5019                                      Джорджина Лоу   \n",
       "211                                                 NaN   \n",
       "1757                         Эрик Гозенс, Николас Стейл   \n",
       "4406         Тьерри Гиллиам, Эми Гиллиам, Сэмюэл Хадида   \n",
       "2340                    ООО \"Продюсерский центр ЕРАЛАШ\"   \n",
       "162                                                 NaN   \n",
       "1956                                                NaN   \n",
       "4625                                     Р.Гигинеишвили   \n",
       "3896       Майкл Бедерман, Билл Карраро, Иза Дик Хэкетт   \n",
       "1057       Джон Джейкобс, Джейсон Кларк, Сет МакФарлейн   \n",
       "1145                           Дэйвид Добкин, Нил Мориц   \n",
       "103                                                 NaN   \n",
       "485                                  Сун-ку Ким, Эун Ли   \n",
       "1441                             Лоренцо Ди Бонавентура   \n",
       "462                                          С.Сельянов   \n",
       "3907                      Натали Гастальдо, Эрик Зауали   \n",
       "1683                                О.Компанец, Д.Тулин   \n",
       "3843                            И.Толстунов, С.Астахова   \n",
       "77                                                  NaN   \n",
       "512                              ООО \"Квартал Леополис\"   \n",
       "4501                                      Алекс Гартнер   \n",
       "1043  Джек Джаррапуто, Аллен Коверт, Хезер Перри, Ад...   \n",
       "2628             Клаус Токсвиг Кьяэр, Томм Мур, Пол Янг   \n",
       "151                                                 NaN   \n",
       "530              Джо Карнахан, Ридли Скотт, Тони Скотт    \n",
       "4929                                         С.Сельянов   \n",
       "1065           Донна Джильотти, Брюс Коэн, Брэдли Купер   \n",
       "\n",
       "                             age_restriction  refundable_support  \\\n",
       "150          «12+» - для детей старше 12 лет                 NaN   \n",
       "2254  «0+» - для любой зрительской аудитории                 NaN   \n",
       "3883         «16+» - для детей старше 16 лет                 NaN   \n",
       "1172           «6+» - для детей старше 6 лет                 NaN   \n",
       "163          «12+» - для детей старше 12 лет                 NaN   \n",
       "210          «12+» - для детей старше 12 лет                 NaN   \n",
       "1490         «16+» - для детей старше 16 лет                 NaN   \n",
       "4028         «16+» - для детей старше 16 лет                 NaN   \n",
       "1261             «18+» - запрещено для детей                 NaN   \n",
       "349   «0+» - для любой зрительской аудитории                 NaN   \n",
       "4412         «16+» - для детей старше 16 лет                 NaN   \n",
       "1027  «0+» - для любой зрительской аудитории                 NaN   \n",
       "922          «12+» - для детей старше 12 лет                 NaN   \n",
       "4506         «16+» - для детей старше 16 лет                 NaN   \n",
       "827          «16+» - для детей старше 16 лет                 NaN   \n",
       "1477         «12+» - для детей старше 12 лет                 NaN   \n",
       "3833  «0+» - для любой зрительской аудитории                 NaN   \n",
       "4493         «12+» - для детей старше 12 лет                 NaN   \n",
       "3872         «16+» - для детей старше 16 лет                 NaN   \n",
       "4704             «18+» - запрещено для детей                 NaN   \n",
       "4326         «16+» - для детей старше 16 лет                 NaN   \n",
       "1634           «6+» - для детей старше 6 лет                 NaN   \n",
       "4948         «16+» - для детей старше 16 лет                 NaN   \n",
       "5019         «16+» - для детей старше 16 лет                 NaN   \n",
       "211          «16+» - для детей старше 16 лет                 NaN   \n",
       "1757  «0+» - для любой зрительской аудитории                 NaN   \n",
       "4406         «16+» - для детей старше 16 лет                 NaN   \n",
       "2340  «0+» - для любой зрительской аудитории                 NaN   \n",
       "162          «12+» - для детей старше 12 лет                 NaN   \n",
       "1956         «12+» - для детей старше 12 лет                 NaN   \n",
       "4625         «16+» - для детей старше 16 лет                 NaN   \n",
       "3896         «12+» - для детей старше 12 лет                 NaN   \n",
       "1057         «16+» - для детей старше 16 лет                 NaN   \n",
       "1145         «12+» - для детей старше 12 лет                 NaN   \n",
       "103          «12+» - для детей старше 12 лет                 NaN   \n",
       "485   «0+» - для любой зрительской аудитории                 NaN   \n",
       "1441         «12+» - для детей старше 12 лет                 NaN   \n",
       "462              «18+» - запрещено для детей                 NaN   \n",
       "3907         «16+» - для детей старше 16 лет                 NaN   \n",
       "1683         «12+» - для детей старше 12 лет                 NaN   \n",
       "3843         «16+» - для детей старше 16 лет                 NaN   \n",
       "77             «6+» - для детей старше 6 лет                 NaN   \n",
       "512          «16+» - для детей старше 16 лет                 NaN   \n",
       "4501         «16+» - для детей старше 16 лет                 NaN   \n",
       "1043         «16+» - для детей старше 16 лет                 NaN   \n",
       "2628           «6+» - для детей старше 6 лет                 NaN   \n",
       "151          «12+» - для детей старше 12 лет                 NaN   \n",
       "530              «18+» - запрещено для детей                 NaN   \n",
       "4929         «16+» - для детей старше 16 лет                 NaN   \n",
       "1065         «16+» - для детей старше 16 лет                 NaN   \n",
       "\n",
       "      nonrefundable_support  budget financing_source  ratings  \\\n",
       "150                     NaN     NaN              NaN      8.1   \n",
       "2254                    NaN     NaN              NaN      7.1   \n",
       "3883                    NaN     NaN              NaN      7.1   \n",
       "1172                    NaN     NaN              NaN      5.6   \n",
       "163                     NaN     NaN              NaN      7.5   \n",
       "210                     NaN     NaN              NaN      7.8   \n",
       "1490                    NaN     NaN              NaN      6.6   \n",
       "4028                    NaN     NaN              NaN      7.5   \n",
       "1261                    NaN     NaN              NaN      7.1   \n",
       "349                     NaN     NaN              NaN      5.7   \n",
       "4412                    NaN     NaN              NaN      5.8   \n",
       "1027                    NaN     NaN              NaN      7.1   \n",
       "922                     NaN     NaN              NaN      6.8   \n",
       "4506                    NaN     NaN              NaN      3.7   \n",
       "827                     NaN     NaN              NaN      4.8   \n",
       "1477                    NaN     NaN              NaN      5.2   \n",
       "3833                    NaN     NaN              NaN      5.3   \n",
       "4493                    NaN     NaN              NaN      6.9   \n",
       "3872                    NaN     NaN              NaN      6.7   \n",
       "4704                    NaN     NaN              NaN      6.8   \n",
       "4326                    NaN     NaN              NaN      6.6   \n",
       "1634                    NaN     NaN              NaN      6.4   \n",
       "4948                    NaN     NaN              NaN      5.8   \n",
       "5019                    NaN     NaN              NaN      7.1   \n",
       "211                     NaN     NaN              NaN      8.3   \n",
       "1757                    NaN     NaN              NaN      6.4   \n",
       "4406                    NaN     NaN              NaN      7.0   \n",
       "2340                    NaN     NaN              NaN      7.2   \n",
       "162                     NaN     NaN              NaN      7.6   \n",
       "1956                    NaN     NaN              NaN      5.8   \n",
       "4625                    NaN     NaN              NaN      4.5   \n",
       "3896                    NaN     NaN              NaN      7.4   \n",
       "1057                    NaN     NaN              NaN      6.7   \n",
       "1145                    NaN     NaN              NaN      6.3   \n",
       "103                     NaN     NaN              NaN      8.0   \n",
       "485                     NaN     NaN              NaN      7.2   \n",
       "1441                    NaN     NaN              NaN      6.8   \n",
       "462                     NaN     NaN              NaN      6.9   \n",
       "3907                    NaN     NaN              NaN      6.6   \n",
       "1683                    NaN     NaN              NaN      4.2   \n",
       "3843                    NaN     NaN              NaN      5.8   \n",
       "77                      NaN     NaN              NaN      6.4   \n",
       "512                     NaN     NaN              NaN      3.0   \n",
       "4501                    NaN     NaN              NaN      6.2   \n",
       "1043                    NaN     NaN              NaN      6.1   \n",
       "2628                    NaN     NaN              NaN      8.1   \n",
       "151                     NaN     NaN              NaN      7.1   \n",
       "530                     NaN     NaN              NaN      8.0   \n",
       "4929                    NaN     NaN              NaN      6.5   \n",
       "1065                    NaN     NaN              NaN      7.2   \n",
       "\n",
       "                              genres  box_office  \n",
       "150          драма,мелодрама,история        40.0  \n",
       "2254         фэнтези,драма,мелодрама        50.0  \n",
       "3883           боевик,драма,криминал        75.0  \n",
       "1172    комедия,приключения,семейный        80.0  \n",
       "163      комедия,приключения,история       100.0  \n",
       "210                мелодрама,комедия       100.0  \n",
       "1490                   драма,комедия       100.0  \n",
       "4028                   драма,комедия       100.0  \n",
       "1261        боевик,драма,приключения       100.0  \n",
       "349       мультфильм,фэнтези,комедия       100.0  \n",
       "4412                  боевик,триллер       115.0  \n",
       "1027  мультфильм,фэнтези,приключения       120.0  \n",
       "922           триллер,драма,криминал       120.0  \n",
       "4506                   ужасы,триллер       120.0  \n",
       "827                    ужасы,комедия       120.0  \n",
       "1477      фэнтези,боевик,приключения       120.0  \n",
       "3833  мультфильм,комедия,приключения       125.0  \n",
       "4493                         комедия       125.0  \n",
       "3872         драма,мелодрама,комедия       130.0  \n",
       "4704                  боевик,триллер       135.0  \n",
       "4326      комедия,приключения,музыка       140.0  \n",
       "1634   мультфильм,фантастика,комедия       150.0  \n",
       "4948     комедия,приключения,вестерн       150.0  \n",
       "5019                   драма,комедия       150.0  \n",
       "211   документальный,военный,история       150.0  \n",
       "1757       фэнтези,драма,приключения       150.0  \n",
       "4406     фэнтези,приключения,комедия       150.0  \n",
       "2340                 детский,комедия       165.0  \n",
       "162                  драма,мелодрама       165.0  \n",
       "1956  приключения,детектив,мелодрама       170.0  \n",
       "4625               мелодрама,комедия       180.0  \n",
       "3896    фантастика,триллер,мелодрама       180.0  \n",
       "1057                         комедия       180.0  \n",
       "1145             фэнтези,приключения       190.0  \n",
       "103          драма,мелодрама,комедия       200.0  \n",
       "485     мультфильм,приключения,драма       200.0  \n",
       "1441                  боевик,комедия       200.0  \n",
       "462                    драма,комедия       200.0  \n",
       "3907             триллер,приключения       200.0  \n",
       "1683                         комедия       200.0  \n",
       "3843                  драма,криминал       200.0  \n",
       "77                           комедия       200.0  \n",
       "512                          комедия       200.0  \n",
       "4501      фэнтези,боевик,приключения       200.0  \n",
       "1043                         комедия       200.0  \n",
       "2628        мультфильм,фэнтези,драма       200.0  \n",
       "151                            драма       200.0  \n",
       "530           триллер,драма,криминал       210.0  \n",
       "4929                комедия,криминал       225.0  \n",
       "1065         драма,мелодрама,комедия       225.0  "
      ]
     },
     "metadata": {},
     "output_type": "display_data"
    }
   ],
   "source": [
    "display(main_df.sort_values(['box_office']).head(50))"
   ]
  },
  {
   "cell_type": "code",
   "execution_count": 112,
   "metadata": {},
   "outputs": [
    {
     "name": "stdout",
     "output_type": "stream",
     "text": [
      "-35407264.349999994\n"
     ]
    }
   ],
   "source": [
    "us_low = main_df['box_office'].describe()[4] - 1.5*(main_df['box_office'].describe()[6]-main_df['box_office'].describe()[4])\n",
    "print(us_low)"
   ]
  },
  {
   "cell_type": "markdown",
   "metadata": {},
   "source": [
    "Много аномально маленьких сборов по бокс плоту их не отрезать (хотя даже если можно было бы, не уверен что это корректно). Думаю стоит для анализа со сборами использовать данные от медианы и выше.\n",
    "\n",
    "#### Шаг 2.5. Добавление новых столбцов"
   ]
  },
  {
   "cell_type": "code",
   "execution_count": 113,
   "metadata": {
    "id": "I-yd1DkWgFyT"
   },
   "outputs": [],
   "source": [
    "main_df['year'] = main_df['show_start_date'].dt.year"
   ]
  },
  {
   "cell_type": "code",
   "execution_count": 115,
   "metadata": {
    "id": "LSbRZKbMgFyU"
   },
   "outputs": [
    {
     "data": {
      "text/html": [
       "<div>\n",
       "<style scoped>\n",
       "    .dataframe tbody tr th:only-of-type {\n",
       "        vertical-align: middle;\n",
       "    }\n",
       "\n",
       "    .dataframe tbody tr th {\n",
       "        vertical-align: top;\n",
       "    }\n",
       "\n",
       "    .dataframe thead th {\n",
       "        text-align: right;\n",
       "    }\n",
       "</style>\n",
       "<table border=\"1\" class=\"dataframe\">\n",
       "  <thead>\n",
       "    <tr style=\"text-align: right;\">\n",
       "      <th></th>\n",
       "      <th>title</th>\n",
       "      <th>puNumber</th>\n",
       "      <th>show_start_date</th>\n",
       "      <th>type</th>\n",
       "      <th>film_studio</th>\n",
       "      <th>production_country</th>\n",
       "      <th>director</th>\n",
       "      <th>producer</th>\n",
       "      <th>age_restriction</th>\n",
       "      <th>refundable_support</th>\n",
       "      <th>nonrefundable_support</th>\n",
       "      <th>budget</th>\n",
       "      <th>financing_source</th>\n",
       "      <th>ratings</th>\n",
       "      <th>genres</th>\n",
       "      <th>box_office</th>\n",
       "      <th>year</th>\n",
       "      <th>main_director</th>\n",
       "      <th>main_genres</th>\n",
       "    </tr>\n",
       "  </thead>\n",
       "  <tbody>\n",
       "    <tr>\n",
       "      <td>0</td>\n",
       "      <td>Открытый простор</td>\n",
       "      <td>221048915</td>\n",
       "      <td>2015-11-27 12:00:00+00:00</td>\n",
       "      <td>художественный</td>\n",
       "      <td>Тачстоун Пикчерз, Кобальт Пикчерз, Бикон Пикче...</td>\n",
       "      <td>сша</td>\n",
       "      <td>Кевин Костнер</td>\n",
       "      <td>Дэвид Валдес, Кевин Костнер, Джейк Эбертс</td>\n",
       "      <td>«18+» - запрещено для детей</td>\n",
       "      <td>NaN</td>\n",
       "      <td>NaN</td>\n",
       "      <td>NaN</td>\n",
       "      <td>NaN</td>\n",
       "      <td>7.2</td>\n",
       "      <td>боевик,драма,мелодрама</td>\n",
       "      <td>NaN</td>\n",
       "      <td>2015</td>\n",
       "      <td>Кевин Костнер</td>\n",
       "      <td>боевик</td>\n",
       "    </tr>\n",
       "    <tr>\n",
       "      <td>1</td>\n",
       "      <td>Особо важное задание</td>\n",
       "      <td>111013716</td>\n",
       "      <td>2016-09-13 12:00:00+00:00</td>\n",
       "      <td>художественный</td>\n",
       "      <td>Киностудия \"Мосфильм\"</td>\n",
       "      <td>ссср</td>\n",
       "      <td>Е.Матвеев</td>\n",
       "      <td>NaN</td>\n",
       "      <td>«6+» - для детей старше 6 лет</td>\n",
       "      <td>NaN</td>\n",
       "      <td>NaN</td>\n",
       "      <td>NaN</td>\n",
       "      <td>NaN</td>\n",
       "      <td>6.6</td>\n",
       "      <td>драма,военный</td>\n",
       "      <td>NaN</td>\n",
       "      <td>2016</td>\n",
       "      <td>Е.Матвеев</td>\n",
       "      <td>драма</td>\n",
       "    </tr>\n",
       "    <tr>\n",
       "      <td>2</td>\n",
       "      <td>Особо опасен</td>\n",
       "      <td>221038416</td>\n",
       "      <td>2016-10-10 12:00:00+00:00</td>\n",
       "      <td>художественный</td>\n",
       "      <td>Юниверсал Пикчерз, Кикстарт Продакшнз, Марк Пл...</td>\n",
       "      <td>сша</td>\n",
       "      <td>Тимур Бекмамбетов</td>\n",
       "      <td>Джим Лемли, Джейсон Нетер, Марк Е.Платт, Яйн Смит</td>\n",
       "      <td>«18+» - запрещено для детей</td>\n",
       "      <td>NaN</td>\n",
       "      <td>NaN</td>\n",
       "      <td>NaN</td>\n",
       "      <td>NaN</td>\n",
       "      <td>6.8</td>\n",
       "      <td>фантастика,боевик,триллер</td>\n",
       "      <td>NaN</td>\n",
       "      <td>2016</td>\n",
       "      <td>Тимур Бекмамбетов</td>\n",
       "      <td>фантастика</td>\n",
       "    </tr>\n",
       "    <tr>\n",
       "      <td>3</td>\n",
       "      <td>Особо опасен</td>\n",
       "      <td>221026916</td>\n",
       "      <td>2016-06-10 12:00:00+00:00</td>\n",
       "      <td>художественный</td>\n",
       "      <td>Юниверсал Пикчерз, Кикстарт Продакшнз, Марк Пл...</td>\n",
       "      <td>сша</td>\n",
       "      <td>Тимур Бекмамбетов</td>\n",
       "      <td>Джим Лемли, Джейсон Нетер, Марк Е.Платт, Яйн Смит</td>\n",
       "      <td>«18+» - запрещено для детей</td>\n",
       "      <td>NaN</td>\n",
       "      <td>NaN</td>\n",
       "      <td>NaN</td>\n",
       "      <td>NaN</td>\n",
       "      <td>6.8</td>\n",
       "      <td>фантастика,боевик,триллер</td>\n",
       "      <td>NaN</td>\n",
       "      <td>2016</td>\n",
       "      <td>Тимур Бекмамбетов</td>\n",
       "      <td>фантастика</td>\n",
       "    </tr>\n",
       "    <tr>\n",
       "      <td>4</td>\n",
       "      <td>Особо опасен</td>\n",
       "      <td>221030815</td>\n",
       "      <td>2015-07-29 12:00:00+00:00</td>\n",
       "      <td>художественный</td>\n",
       "      <td>Юниверсал Пикчерз, Кикстарт Продакшнз, Марк Пл...</td>\n",
       "      <td>сша</td>\n",
       "      <td>Тимур Бекмамбетов</td>\n",
       "      <td>Джим Лемли, Джейсон Нетер, Марк Е.Платт, Яйн Смит</td>\n",
       "      <td>«18+» - запрещено для детей</td>\n",
       "      <td>NaN</td>\n",
       "      <td>NaN</td>\n",
       "      <td>NaN</td>\n",
       "      <td>NaN</td>\n",
       "      <td>6.8</td>\n",
       "      <td>фантастика,боевик,триллер</td>\n",
       "      <td>NaN</td>\n",
       "      <td>2015</td>\n",
       "      <td>Тимур Бекмамбетов</td>\n",
       "      <td>фантастика</td>\n",
       "    </tr>\n",
       "    <tr>\n",
       "      <td>5</td>\n",
       "      <td>Остановился поезд</td>\n",
       "      <td>111013816</td>\n",
       "      <td>2016-09-13 12:00:00+00:00</td>\n",
       "      <td>художественный</td>\n",
       "      <td>Киностудия \"Мосфильм\"</td>\n",
       "      <td>ссср</td>\n",
       "      <td>В.Абдрашитов</td>\n",
       "      <td>NaN</td>\n",
       "      <td>«6+» - для детей старше 6 лет</td>\n",
       "      <td>NaN</td>\n",
       "      <td>NaN</td>\n",
       "      <td>NaN</td>\n",
       "      <td>NaN</td>\n",
       "      <td>7.7</td>\n",
       "      <td>драма</td>\n",
       "      <td>NaN</td>\n",
       "      <td>2016</td>\n",
       "      <td>В.Абдрашитов</td>\n",
       "      <td>драма</td>\n",
       "    </tr>\n",
       "    <tr>\n",
       "      <td>6</td>\n",
       "      <td>Любовь и голуби</td>\n",
       "      <td>111007013</td>\n",
       "      <td>2013-10-18 12:00:00+00:00</td>\n",
       "      <td>художественный</td>\n",
       "      <td>Киностудия \"Мосфильм\"</td>\n",
       "      <td>ссср</td>\n",
       "      <td>В.Меньшов</td>\n",
       "      <td>NaN</td>\n",
       "      <td>«12+» - для детей старше 12 лет</td>\n",
       "      <td>NaN</td>\n",
       "      <td>NaN</td>\n",
       "      <td>NaN</td>\n",
       "      <td>NaN</td>\n",
       "      <td>8.3</td>\n",
       "      <td>мелодрама,комедия</td>\n",
       "      <td>2700.0</td>\n",
       "      <td>2013</td>\n",
       "      <td>В.Меньшов</td>\n",
       "      <td>мелодрама</td>\n",
       "    </tr>\n",
       "    <tr>\n",
       "      <td>7</td>\n",
       "      <td>Любовь и сигареты</td>\n",
       "      <td>221074614</td>\n",
       "      <td>2014-12-29 12:00:00+00:00</td>\n",
       "      <td>художественный</td>\n",
       "      <td>Юнайтед Артистс, Грин Стрит Филмз, Айкон Интер...</td>\n",
       "      <td>сша</td>\n",
       "      <td>Джон Туртурро</td>\n",
       "      <td>Джон Пенотти, Джон Туртурро</td>\n",
       "      <td>«18+» - запрещено для детей</td>\n",
       "      <td>NaN</td>\n",
       "      <td>NaN</td>\n",
       "      <td>NaN</td>\n",
       "      <td>NaN</td>\n",
       "      <td>6.6</td>\n",
       "      <td>мюзикл,мелодрама,комедия</td>\n",
       "      <td>NaN</td>\n",
       "      <td>2014</td>\n",
       "      <td>Джон Туртурро</td>\n",
       "      <td>мюзикл</td>\n",
       "    </tr>\n",
       "    <tr>\n",
       "      <td>8</td>\n",
       "      <td>Отпетые мошенники.</td>\n",
       "      <td>121011416</td>\n",
       "      <td>2016-05-05 12:00:00+00:00</td>\n",
       "      <td>художественный</td>\n",
       "      <td>Пульсар Продюксьон, ТФ1 Фильм</td>\n",
       "      <td>франция</td>\n",
       "      <td>Эрик Беснард</td>\n",
       "      <td>Патрис Леду</td>\n",
       "      <td>«18+» - запрещено для детей</td>\n",
       "      <td>NaN</td>\n",
       "      <td>NaN</td>\n",
       "      <td>NaN</td>\n",
       "      <td>NaN</td>\n",
       "      <td>8.0</td>\n",
       "      <td>комедия,криминал</td>\n",
       "      <td>NaN</td>\n",
       "      <td>2016</td>\n",
       "      <td>Эрик Беснард</td>\n",
       "      <td>комедия</td>\n",
       "    </tr>\n",
       "    <tr>\n",
       "      <td>9</td>\n",
       "      <td>Отпуск за свой счет</td>\n",
       "      <td>111019114</td>\n",
       "      <td>2014-12-01 12:00:00+00:00</td>\n",
       "      <td>художественный</td>\n",
       "      <td>Киностудия \"Мосфильм\", Телевидение ВНР</td>\n",
       "      <td>ссср,венгрия</td>\n",
       "      <td>В.Титов</td>\n",
       "      <td>NaN</td>\n",
       "      <td>«12+» - для детей старше 12 лет</td>\n",
       "      <td>NaN</td>\n",
       "      <td>NaN</td>\n",
       "      <td>NaN</td>\n",
       "      <td>NaN</td>\n",
       "      <td>7.8</td>\n",
       "      <td>мелодрама,комедия</td>\n",
       "      <td>NaN</td>\n",
       "      <td>2014</td>\n",
       "      <td>В.Титов</td>\n",
       "      <td>мелодрама</td>\n",
       "    </tr>\n",
       "    <tr>\n",
       "      <td>10</td>\n",
       "      <td>Превосходство Борна /По одноименной новелле Ро...</td>\n",
       "      <td>221031416</td>\n",
       "      <td>2016-06-29 12:00:00+00:00</td>\n",
       "      <td>художественный</td>\n",
       "      <td>Кеннеди/Маршал Компани, Юниверсал Пикчерз, Гип...</td>\n",
       "      <td>сша</td>\n",
       "      <td>Пол Грингросс</td>\n",
       "      <td>Патрик Кроули, Фрэнк Маршалл, Пол Сэндберг</td>\n",
       "      <td>«16+» - для детей старше 16 лет</td>\n",
       "      <td>NaN</td>\n",
       "      <td>NaN</td>\n",
       "      <td>NaN</td>\n",
       "      <td>NaN</td>\n",
       "      <td>7.7</td>\n",
       "      <td>боевик,триллер,детектив</td>\n",
       "      <td>NaN</td>\n",
       "      <td>2016</td>\n",
       "      <td>Пол Грингросс</td>\n",
       "      <td>боевик</td>\n",
       "    </tr>\n",
       "    <tr>\n",
       "      <td>11</td>\n",
       "      <td>Ответный ход</td>\n",
       "      <td>111019014</td>\n",
       "      <td>2014-12-01 12:00:00+00:00</td>\n",
       "      <td>художественный</td>\n",
       "      <td>Киностудия \"Мосфильм\"</td>\n",
       "      <td>ссср</td>\n",
       "      <td>М.Туманишвили</td>\n",
       "      <td>NaN</td>\n",
       "      <td>«12+» - для детей старше 12 лет</td>\n",
       "      <td>NaN</td>\n",
       "      <td>NaN</td>\n",
       "      <td>NaN</td>\n",
       "      <td>NaN</td>\n",
       "      <td>7.8</td>\n",
       "      <td>боевик,драма,приключения</td>\n",
       "      <td>NaN</td>\n",
       "      <td>2014</td>\n",
       "      <td>М.Туманишвили</td>\n",
       "      <td>боевик</td>\n",
       "    </tr>\n",
       "    <tr>\n",
       "      <td>12</td>\n",
       "      <td>Малышка на миллион /По мотивам рассказов Ф.Х.Т...</td>\n",
       "      <td>221011415</td>\n",
       "      <td>2015-04-03 12:00:00+00:00</td>\n",
       "      <td>художественный</td>\n",
       "      <td>Уорнер Бразерс, Лейкшор Интертейнмент, Малпасо...</td>\n",
       "      <td>сша</td>\n",
       "      <td>Клинт Иствуд</td>\n",
       "      <td>Клинт Иствуд, Том Розенберг, Альберт С.Рудди, ...</td>\n",
       "      <td>«16+» - для детей старше 16 лет</td>\n",
       "      <td>NaN</td>\n",
       "      <td>NaN</td>\n",
       "      <td>NaN</td>\n",
       "      <td>NaN</td>\n",
       "      <td>8.1</td>\n",
       "      <td>драма,спорт</td>\n",
       "      <td>NaN</td>\n",
       "      <td>2015</td>\n",
       "      <td>Клинт Иствуд</td>\n",
       "      <td>драма</td>\n",
       "    </tr>\n",
       "    <tr>\n",
       "      <td>13</td>\n",
       "      <td>Преданный садовник</td>\n",
       "      <td>121003106</td>\n",
       "      <td>2013-08-26 12:00:00+00:00</td>\n",
       "      <td>художественный</td>\n",
       "      <td>Потбойлер Продакшнз, Эпсилон Моушн Пикчерз, Ск...</td>\n",
       "      <td>германия-великобритания</td>\n",
       "      <td>Фернанду Мейрелльеш</td>\n",
       "      <td>Саймон Чэннинг Уильямс</td>\n",
       "      <td>«16+» - для детей старше 16 лет</td>\n",
       "      <td>NaN</td>\n",
       "      <td>NaN</td>\n",
       "      <td>NaN</td>\n",
       "      <td>NaN</td>\n",
       "      <td>7.1</td>\n",
       "      <td>триллер,драма,мелодрама</td>\n",
       "      <td>NaN</td>\n",
       "      <td>2013</td>\n",
       "      <td>Фернанду Мейрелльеш</td>\n",
       "      <td>триллер</td>\n",
       "    </tr>\n",
       "    <tr>\n",
       "      <td>14</td>\n",
       "      <td>Отель /По мотивам пьесы Джона Уэбстера/</td>\n",
       "      <td>221008812</td>\n",
       "      <td>2012-01-27 12:00:00+00:00</td>\n",
       "      <td>художественный</td>\n",
       "      <td>Кэтлей, Отель Продакшнс, Мунстоун Интертейнмен...</td>\n",
       "      <td>великобритания-италия</td>\n",
       "      <td>Майк Фиггис</td>\n",
       "      <td>Этчи Стро, Анни Стюарт, Майк Фиггис</td>\n",
       "      <td>«18+» - запрещено для детей</td>\n",
       "      <td>NaN</td>\n",
       "      <td>NaN</td>\n",
       "      <td>NaN</td>\n",
       "      <td>NaN</td>\n",
       "      <td>6.0</td>\n",
       "      <td>комедия,мелодрама</td>\n",
       "      <td>NaN</td>\n",
       "      <td>2012</td>\n",
       "      <td>Майк Фиггис</td>\n",
       "      <td>комедия</td>\n",
       "    </tr>\n",
       "    <tr>\n",
       "      <td>15</td>\n",
       "      <td>Председатель</td>\n",
       "      <td>111014916</td>\n",
       "      <td>2016-09-13 12:00:00+00:00</td>\n",
       "      <td>художественный</td>\n",
       "      <td>Киностудия \"Мосфильм\"</td>\n",
       "      <td>ссср</td>\n",
       "      <td>А.Салтыков</td>\n",
       "      <td>NaN</td>\n",
       "      <td>«12+» - для детей старше 12 лет</td>\n",
       "      <td>NaN</td>\n",
       "      <td>NaN</td>\n",
       "      <td>NaN</td>\n",
       "      <td>NaN</td>\n",
       "      <td>8.3</td>\n",
       "      <td>драма</td>\n",
       "      <td>NaN</td>\n",
       "      <td>2016</td>\n",
       "      <td>А.Салтыков</td>\n",
       "      <td>драма</td>\n",
       "    </tr>\n",
       "    <tr>\n",
       "      <td>16</td>\n",
       "      <td>Осенний марафон</td>\n",
       "      <td>111007513</td>\n",
       "      <td>2013-10-18 12:00:00+00:00</td>\n",
       "      <td>художественный</td>\n",
       "      <td>Киностудия \"Мосфильм\"</td>\n",
       "      <td>ссср</td>\n",
       "      <td>Г.Данелия</td>\n",
       "      <td>NaN</td>\n",
       "      <td>«12+» - для детей старше 12 лет</td>\n",
       "      <td>NaN</td>\n",
       "      <td>NaN</td>\n",
       "      <td>NaN</td>\n",
       "      <td>NaN</td>\n",
       "      <td>8.0</td>\n",
       "      <td>драма,мелодрама,комедия</td>\n",
       "      <td>NaN</td>\n",
       "      <td>2013</td>\n",
       "      <td>Г.Данелия</td>\n",
       "      <td>драма</td>\n",
       "    </tr>\n",
       "    <tr>\n",
       "      <td>17</td>\n",
       "      <td>Осень</td>\n",
       "      <td>111027914</td>\n",
       "      <td>2014-12-24 12:00:00+00:00</td>\n",
       "      <td>художественный</td>\n",
       "      <td>Киностудия \"Мосфильм\"</td>\n",
       "      <td>ссср</td>\n",
       "      <td>А.Смирнов</td>\n",
       "      <td>NaN</td>\n",
       "      <td>«12+» - для детей старше 12 лет</td>\n",
       "      <td>NaN</td>\n",
       "      <td>NaN</td>\n",
       "      <td>NaN</td>\n",
       "      <td>NaN</td>\n",
       "      <td>7.4</td>\n",
       "      <td>драма,мелодрама</td>\n",
       "      <td>NaN</td>\n",
       "      <td>2014</td>\n",
       "      <td>А.Смирнов</td>\n",
       "      <td>драма</td>\n",
       "    </tr>\n",
       "    <tr>\n",
       "      <td>18</td>\n",
       "      <td>Неподдающиеся</td>\n",
       "      <td>111003616</td>\n",
       "      <td>2016-02-12 12:00:00+00:00</td>\n",
       "      <td>художественный</td>\n",
       "      <td>Киностудия \"Мосфильм\"</td>\n",
       "      <td>ссср</td>\n",
       "      <td>Ю.Чулюкин</td>\n",
       "      <td>NaN</td>\n",
       "      <td>«6+» - для детей старше 6 лет</td>\n",
       "      <td>NaN</td>\n",
       "      <td>NaN</td>\n",
       "      <td>NaN</td>\n",
       "      <td>NaN</td>\n",
       "      <td>8.0</td>\n",
       "      <td>мелодрама,комедия</td>\n",
       "      <td>360.0</td>\n",
       "      <td>2016</td>\n",
       "      <td>Ю.Чулюкин</td>\n",
       "      <td>мелодрама</td>\n",
       "    </tr>\n",
       "    <tr>\n",
       "      <td>19</td>\n",
       "      <td>Неподсуден</td>\n",
       "      <td>111003716</td>\n",
       "      <td>2016-02-12 12:00:00+00:00</td>\n",
       "      <td>художественный</td>\n",
       "      <td>Киностудия \"Мосфильм\"</td>\n",
       "      <td>ссср</td>\n",
       "      <td>В.Краснопольский, В.Усков</td>\n",
       "      <td>NaN</td>\n",
       "      <td>«6+» - для детей старше 6 лет</td>\n",
       "      <td>NaN</td>\n",
       "      <td>NaN</td>\n",
       "      <td>NaN</td>\n",
       "      <td>NaN</td>\n",
       "      <td>7.7</td>\n",
       "      <td>драма</td>\n",
       "      <td>420.0</td>\n",
       "      <td>2016</td>\n",
       "      <td>В.Краснопольский</td>\n",
       "      <td>драма</td>\n",
       "    </tr>\n",
       "  </tbody>\n",
       "</table>\n",
       "</div>"
      ],
      "text/plain": [
       "                                                title   puNumber  \\\n",
       "0                                    Открытый простор  221048915   \n",
       "1                                Особо важное задание  111013716   \n",
       "2                                        Особо опасен  221038416   \n",
       "3                                        Особо опасен  221026916   \n",
       "4                                        Особо опасен  221030815   \n",
       "5                                   Остановился поезд  111013816   \n",
       "6                                     Любовь и голуби  111007013   \n",
       "7                                   Любовь и сигареты  221074614   \n",
       "8                                  Отпетые мошенники.  121011416   \n",
       "9                                 Отпуск за свой счет  111019114   \n",
       "10  Превосходство Борна /По одноименной новелле Ро...  221031416   \n",
       "11                                       Ответный ход  111019014   \n",
       "12  Малышка на миллион /По мотивам рассказов Ф.Х.Т...  221011415   \n",
       "13                                 Преданный садовник  121003106   \n",
       "14            Отель /По мотивам пьесы Джона Уэбстера/  221008812   \n",
       "15                                       Председатель  111014916   \n",
       "16                                    Осенний марафон  111007513   \n",
       "17                                              Осень  111027914   \n",
       "18                                      Неподдающиеся  111003616   \n",
       "19                                         Неподсуден  111003716   \n",
       "\n",
       "             show_start_date            type  \\\n",
       "0  2015-11-27 12:00:00+00:00  художественный   \n",
       "1  2016-09-13 12:00:00+00:00  художественный   \n",
       "2  2016-10-10 12:00:00+00:00  художественный   \n",
       "3  2016-06-10 12:00:00+00:00  художественный   \n",
       "4  2015-07-29 12:00:00+00:00  художественный   \n",
       "5  2016-09-13 12:00:00+00:00  художественный   \n",
       "6  2013-10-18 12:00:00+00:00  художественный   \n",
       "7  2014-12-29 12:00:00+00:00  художественный   \n",
       "8  2016-05-05 12:00:00+00:00  художественный   \n",
       "9  2014-12-01 12:00:00+00:00  художественный   \n",
       "10 2016-06-29 12:00:00+00:00  художественный   \n",
       "11 2014-12-01 12:00:00+00:00  художественный   \n",
       "12 2015-04-03 12:00:00+00:00  художественный   \n",
       "13 2013-08-26 12:00:00+00:00  художественный   \n",
       "14 2012-01-27 12:00:00+00:00  художественный   \n",
       "15 2016-09-13 12:00:00+00:00  художественный   \n",
       "16 2013-10-18 12:00:00+00:00  художественный   \n",
       "17 2014-12-24 12:00:00+00:00  художественный   \n",
       "18 2016-02-12 12:00:00+00:00  художественный   \n",
       "19 2016-02-12 12:00:00+00:00  художественный   \n",
       "\n",
       "                                          film_studio  \\\n",
       "0   Тачстоун Пикчерз, Кобальт Пикчерз, Бикон Пикче...   \n",
       "1                               Киностудия \"Мосфильм\"   \n",
       "2   Юниверсал Пикчерз, Кикстарт Продакшнз, Марк Пл...   \n",
       "3   Юниверсал Пикчерз, Кикстарт Продакшнз, Марк Пл...   \n",
       "4   Юниверсал Пикчерз, Кикстарт Продакшнз, Марк Пл...   \n",
       "5                               Киностудия \"Мосфильм\"   \n",
       "6                               Киностудия \"Мосфильм\"   \n",
       "7   Юнайтед Артистс, Грин Стрит Филмз, Айкон Интер...   \n",
       "8                      Пульсар Продюксьон, ТФ1 Фильм    \n",
       "9              Киностудия \"Мосфильм\", Телевидение ВНР   \n",
       "10  Кеннеди/Маршал Компани, Юниверсал Пикчерз, Гип...   \n",
       "11                              Киностудия \"Мосфильм\"   \n",
       "12  Уорнер Бразерс, Лейкшор Интертейнмент, Малпасо...   \n",
       "13  Потбойлер Продакшнз, Эпсилон Моушн Пикчерз, Ск...   \n",
       "14  Кэтлей, Отель Продакшнс, Мунстоун Интертейнмен...   \n",
       "15                              Киностудия \"Мосфильм\"   \n",
       "16                              Киностудия \"Мосфильм\"   \n",
       "17                              Киностудия \"Мосфильм\"   \n",
       "18                              Киностудия \"Мосфильм\"   \n",
       "19                              Киностудия \"Мосфильм\"   \n",
       "\n",
       "         production_country                   director  \\\n",
       "0                       сша              Кевин Костнер   \n",
       "1                      ссср                  Е.Матвеев   \n",
       "2                       сша          Тимур Бекмамбетов   \n",
       "3                       сша          Тимур Бекмамбетов   \n",
       "4                       сша          Тимур Бекмамбетов   \n",
       "5                      ссср               В.Абдрашитов   \n",
       "6                      ссср                  В.Меньшов   \n",
       "7                       сша              Джон Туртурро   \n",
       "8                   франция               Эрик Беснард   \n",
       "9              ссср,венгрия                    В.Титов   \n",
       "10                      сша              Пол Грингросс   \n",
       "11                     ссср              М.Туманишвили   \n",
       "12                      сша               Клинт Иствуд   \n",
       "13  германия-великобритания        Фернанду Мейрелльеш   \n",
       "14    великобритания-италия                Майк Фиггис   \n",
       "15                     ссср                 А.Салтыков   \n",
       "16                     ссср                  Г.Данелия   \n",
       "17                     ссср                  А.Смирнов   \n",
       "18                     ссср                  Ю.Чулюкин   \n",
       "19                     ссср  В.Краснопольский, В.Усков   \n",
       "\n",
       "                                             producer  \\\n",
       "0           Дэвид Валдес, Кевин Костнер, Джейк Эбертс   \n",
       "1                                                 NaN   \n",
       "2   Джим Лемли, Джейсон Нетер, Марк Е.Платт, Яйн Смит   \n",
       "3   Джим Лемли, Джейсон Нетер, Марк Е.Платт, Яйн Смит   \n",
       "4   Джим Лемли, Джейсон Нетер, Марк Е.Платт, Яйн Смит   \n",
       "5                                                 NaN   \n",
       "6                                                 NaN   \n",
       "7                         Джон Пенотти, Джон Туртурро   \n",
       "8                                         Патрис Леду   \n",
       "9                                                 NaN   \n",
       "10         Патрик Кроули, Фрэнк Маршалл, Пол Сэндберг   \n",
       "11                                                NaN   \n",
       "12  Клинт Иствуд, Том Розенберг, Альберт С.Рудди, ...   \n",
       "13                             Саймон Чэннинг Уильямс   \n",
       "14                Этчи Стро, Анни Стюарт, Майк Фиггис   \n",
       "15                                                NaN   \n",
       "16                                                NaN   \n",
       "17                                                NaN   \n",
       "18                                                NaN   \n",
       "19                                                NaN   \n",
       "\n",
       "                    age_restriction  refundable_support  \\\n",
       "0       «18+» - запрещено для детей                 NaN   \n",
       "1     «6+» - для детей старше 6 лет                 NaN   \n",
       "2       «18+» - запрещено для детей                 NaN   \n",
       "3       «18+» - запрещено для детей                 NaN   \n",
       "4       «18+» - запрещено для детей                 NaN   \n",
       "5     «6+» - для детей старше 6 лет                 NaN   \n",
       "6   «12+» - для детей старше 12 лет                 NaN   \n",
       "7       «18+» - запрещено для детей                 NaN   \n",
       "8       «18+» - запрещено для детей                 NaN   \n",
       "9   «12+» - для детей старше 12 лет                 NaN   \n",
       "10  «16+» - для детей старше 16 лет                 NaN   \n",
       "11  «12+» - для детей старше 12 лет                 NaN   \n",
       "12  «16+» - для детей старше 16 лет                 NaN   \n",
       "13  «16+» - для детей старше 16 лет                 NaN   \n",
       "14      «18+» - запрещено для детей                 NaN   \n",
       "15  «12+» - для детей старше 12 лет                 NaN   \n",
       "16  «12+» - для детей старше 12 лет                 NaN   \n",
       "17  «12+» - для детей старше 12 лет                 NaN   \n",
       "18    «6+» - для детей старше 6 лет                 NaN   \n",
       "19    «6+» - для детей старше 6 лет                 NaN   \n",
       "\n",
       "    nonrefundable_support  budget financing_source  ratings  \\\n",
       "0                     NaN     NaN              NaN      7.2   \n",
       "1                     NaN     NaN              NaN      6.6   \n",
       "2                     NaN     NaN              NaN      6.8   \n",
       "3                     NaN     NaN              NaN      6.8   \n",
       "4                     NaN     NaN              NaN      6.8   \n",
       "5                     NaN     NaN              NaN      7.7   \n",
       "6                     NaN     NaN              NaN      8.3   \n",
       "7                     NaN     NaN              NaN      6.6   \n",
       "8                     NaN     NaN              NaN      8.0   \n",
       "9                     NaN     NaN              NaN      7.8   \n",
       "10                    NaN     NaN              NaN      7.7   \n",
       "11                    NaN     NaN              NaN      7.8   \n",
       "12                    NaN     NaN              NaN      8.1   \n",
       "13                    NaN     NaN              NaN      7.1   \n",
       "14                    NaN     NaN              NaN      6.0   \n",
       "15                    NaN     NaN              NaN      8.3   \n",
       "16                    NaN     NaN              NaN      8.0   \n",
       "17                    NaN     NaN              NaN      7.4   \n",
       "18                    NaN     NaN              NaN      8.0   \n",
       "19                    NaN     NaN              NaN      7.7   \n",
       "\n",
       "                       genres  box_office  year        main_director  \\\n",
       "0      боевик,драма,мелодрама         NaN  2015        Кевин Костнер   \n",
       "1               драма,военный         NaN  2016            Е.Матвеев   \n",
       "2   фантастика,боевик,триллер         NaN  2016    Тимур Бекмамбетов   \n",
       "3   фантастика,боевик,триллер         NaN  2016    Тимур Бекмамбетов   \n",
       "4   фантастика,боевик,триллер         NaN  2015    Тимур Бекмамбетов   \n",
       "5                       драма         NaN  2016         В.Абдрашитов   \n",
       "6           мелодрама,комедия      2700.0  2013            В.Меньшов   \n",
       "7    мюзикл,мелодрама,комедия         NaN  2014        Джон Туртурро   \n",
       "8            комедия,криминал         NaN  2016         Эрик Беснард   \n",
       "9           мелодрама,комедия         NaN  2014              В.Титов   \n",
       "10    боевик,триллер,детектив         NaN  2016        Пол Грингросс   \n",
       "11   боевик,драма,приключения         NaN  2014        М.Туманишвили   \n",
       "12                драма,спорт         NaN  2015         Клинт Иствуд   \n",
       "13    триллер,драма,мелодрама         NaN  2013  Фернанду Мейрелльеш   \n",
       "14          комедия,мелодрама         NaN  2012          Майк Фиггис   \n",
       "15                      драма         NaN  2016           А.Салтыков   \n",
       "16    драма,мелодрама,комедия         NaN  2013            Г.Данелия   \n",
       "17            драма,мелодрама         NaN  2014            А.Смирнов   \n",
       "18          мелодрама,комедия       360.0  2016            Ю.Чулюкин   \n",
       "19                      драма       420.0  2016     В.Краснопольский   \n",
       "\n",
       "   main_genres  \n",
       "0       боевик  \n",
       "1        драма  \n",
       "2   фантастика  \n",
       "3   фантастика  \n",
       "4   фантастика  \n",
       "5        драма  \n",
       "6    мелодрама  \n",
       "7       мюзикл  \n",
       "8      комедия  \n",
       "9    мелодрама  \n",
       "10      боевик  \n",
       "11      боевик  \n",
       "12       драма  \n",
       "13     триллер  \n",
       "14     комедия  \n",
       "15       драма  \n",
       "16       драма  \n",
       "17       драма  \n",
       "18   мелодрама  \n",
       "19       драма  "
      ]
     },
     "metadata": {},
     "output_type": "display_data"
    }
   ],
   "source": [
    "def get_first(cell_value):\n",
    "    try:\n",
    "        return cell_value.split(',')[0]\n",
    "    except:\n",
    "        return np.nan\n",
    "\n",
    "main_df['main_director'] = main_df['director'].apply(get_first)\n",
    "main_df['main_genres'] = main_df['genres'].apply(get_first)\n",
    "display(main_df.head(20))"
   ]
  },
  {
   "cell_type": "markdown",
   "metadata": {
    "id": "1FsCXHwdgFyU"
   },
   "source": [
    "- доля государственной поддержки."
   ]
  },
  {
   "cell_type": "code",
   "execution_count": 116,
   "metadata": {
    "id": "LV6qFuZLgFyV"
   },
   "outputs": [
    {
     "data": {
      "text/html": [
       "<div>\n",
       "<style scoped>\n",
       "    .dataframe tbody tr th:only-of-type {\n",
       "        vertical-align: middle;\n",
       "    }\n",
       "\n",
       "    .dataframe tbody tr th {\n",
       "        vertical-align: top;\n",
       "    }\n",
       "\n",
       "    .dataframe thead th {\n",
       "        text-align: right;\n",
       "    }\n",
       "</style>\n",
       "<table border=\"1\" class=\"dataframe\">\n",
       "  <thead>\n",
       "    <tr style=\"text-align: right;\">\n",
       "      <th></th>\n",
       "      <th>title</th>\n",
       "      <th>support_proportion</th>\n",
       "    </tr>\n",
       "  </thead>\n",
       "  <tbody>\n",
       "    <tr>\n",
       "      <td>1273</td>\n",
       "      <td>Пока еще жива</td>\n",
       "      <td>0.333703</td>\n",
       "    </tr>\n",
       "    <tr>\n",
       "      <td>1439</td>\n",
       "      <td>Бесславные придурки</td>\n",
       "      <td>0.700000</td>\n",
       "    </tr>\n",
       "    <tr>\n",
       "      <td>1489</td>\n",
       "      <td>Невидимки</td>\n",
       "      <td>0.612691</td>\n",
       "    </tr>\n",
       "    <tr>\n",
       "      <td>1515</td>\n",
       "      <td>БЕРЦЫ</td>\n",
       "      <td>0.690095</td>\n",
       "    </tr>\n",
       "    <tr>\n",
       "      <td>1780</td>\n",
       "      <td>Братья Ч</td>\n",
       "      <td>0.624764</td>\n",
       "    </tr>\n",
       "    <tr>\n",
       "      <td>...</td>\n",
       "      <td>...</td>\n",
       "      <td>...</td>\n",
       "    </tr>\n",
       "    <tr>\n",
       "      <td>7422</td>\n",
       "      <td>Союз спасения</td>\n",
       "      <td>0.510204</td>\n",
       "    </tr>\n",
       "    <tr>\n",
       "      <td>7424</td>\n",
       "      <td>Иван Царевич и Серый Волк 4</td>\n",
       "      <td>0.526316</td>\n",
       "    </tr>\n",
       "    <tr>\n",
       "      <td>7432</td>\n",
       "      <td>Вторжение</td>\n",
       "      <td>0.529661</td>\n",
       "    </tr>\n",
       "    <tr>\n",
       "      <td>7434</td>\n",
       "      <td>Я свободен</td>\n",
       "      <td>0.649998</td>\n",
       "    </tr>\n",
       "    <tr>\n",
       "      <td>7436</td>\n",
       "      <td>(Не)идеальный мужчина</td>\n",
       "      <td>0.666012</td>\n",
       "    </tr>\n",
       "  </tbody>\n",
       "</table>\n",
       "<p>315 rows × 2 columns</p>\n",
       "</div>"
      ],
      "text/plain": [
       "                            title  support_proportion\n",
       "1273                Пока еще жива            0.333703\n",
       "1439          Бесславные придурки            0.700000\n",
       "1489                    Невидимки            0.612691\n",
       "1515                        БЕРЦЫ            0.690095\n",
       "1780                     Братья Ч            0.624764\n",
       "...                           ...                 ...\n",
       "7422                Союз спасения            0.510204\n",
       "7424  Иван Царевич и Серый Волк 4            0.526316\n",
       "7432                    Вторжение            0.529661\n",
       "7434                   Я свободен            0.649998\n",
       "7436        (Не)идеальный мужчина            0.666012\n",
       "\n",
       "[315 rows x 2 columns]"
      ]
     },
     "metadata": {},
     "output_type": "display_data"
    }
   ],
   "source": [
    "budget_proportion = main_df[main_df['budget'].isna() == False]\n",
    "budget_proportion['support_proportion'] = (budget_proportion['refundable_support']+budget_proportion['nonrefundable_support'])/budget_proportion['budget']\n",
    "display(budget_proportion[['title','support_proportion']])"
   ]
  },
  {
   "cell_type": "markdown",
   "metadata": {
    "id": "6t4EukPLgFyV"
   },
   "source": [
    "### Шаг 3. Исследовательский анализ данных"
   ]
  },
  {
   "cell_type": "code",
   "execution_count": 117,
   "metadata": {
    "id": "ABeV47y7gFyW"
   },
   "outputs": [
    {
     "name": "stdout",
     "output_type": "stream",
     "text": [
      "Количество фильмов выпущенных в год\n"
     ]
    },
    {
     "data": {
      "text/plain": [
       "year\n",
       "2010    981\n",
       "2011    622\n",
       "2012    588\n",
       "2013    625\n",
       "2014    799\n",
       "2015    696\n",
       "2016    814\n",
       "2017    503\n",
       "2018    887\n",
       "2019    929\n",
       "Name: title, dtype: int64"
      ]
     },
     "metadata": {},
     "output_type": "display_data"
    },
    {
     "data": {
      "image/png": "[encoded data removed]",
      "text/plain": [
       "<Figure size 432x288 with 1 Axes>"
      ]
     },
     "metadata": {
      "needs_background": "light"
     },
     "output_type": "display_data"
    }
   ],
   "source": [
    "main_df.hist('year', bins = 20)\n",
    "plt.title('Histogram number films of year')\n",
    "plt.xlabel('Years')\n",
    "plt.ylabel('Number')\n",
    "\n",
    "print('Количество фильмов выпущенных в год')\n",
    "display(main_df.groupby('year')['title'].count())"
   ]
  },
  {
   "cell_type": "code",
   "execution_count": 118,
   "metadata": {},
   "outputs": [
    {
     "name": "stdout",
     "output_type": "stream",
     "text": [
      "Доля фильмов с указанной информацией о прокате: 0.418726491133799\n"
     ]
    }
   ],
   "source": [
    "print('Доля фильмов с указанной информацией о прокате:',main_df['box_office'].count()/main_df['year'].count())"
   ]
  },
  {
   "cell_type": "code",
   "execution_count": 119,
   "metadata": {},
   "outputs": [
    {
     "data": {
      "text/html": [
       "<div>\n",
       "<style scoped>\n",
       "    .dataframe tbody tr th:only-of-type {\n",
       "        vertical-align: middle;\n",
       "    }\n",
       "\n",
       "    .dataframe tbody tr th {\n",
       "        vertical-align: top;\n",
       "    }\n",
       "\n",
       "    .dataframe thead th {\n",
       "        text-align: right;\n",
       "    }\n",
       "</style>\n",
       "<table border=\"1\" class=\"dataframe\">\n",
       "  <thead>\n",
       "    <tr style=\"text-align: right;\">\n",
       "      <th></th>\n",
       "      <th>box_office</th>\n",
       "      <th>year</th>\n",
       "      <th>proportion</th>\n",
       "    </tr>\n",
       "    <tr>\n",
       "      <th>year</th>\n",
       "      <th></th>\n",
       "      <th></th>\n",
       "      <th></th>\n",
       "    </tr>\n",
       "  </thead>\n",
       "  <tbody>\n",
       "    <tr>\n",
       "      <td>2010</td>\n",
       "      <td>101</td>\n",
       "      <td>981</td>\n",
       "      <td>0.102956</td>\n",
       "    </tr>\n",
       "    <tr>\n",
       "      <td>2011</td>\n",
       "      <td>109</td>\n",
       "      <td>622</td>\n",
       "      <td>0.175241</td>\n",
       "    </tr>\n",
       "    <tr>\n",
       "      <td>2012</td>\n",
       "      <td>123</td>\n",
       "      <td>588</td>\n",
       "      <td>0.209184</td>\n",
       "    </tr>\n",
       "    <tr>\n",
       "      <td>2013</td>\n",
       "      <td>179</td>\n",
       "      <td>625</td>\n",
       "      <td>0.286400</td>\n",
       "    </tr>\n",
       "    <tr>\n",
       "      <td>2014</td>\n",
       "      <td>272</td>\n",
       "      <td>799</td>\n",
       "      <td>0.340426</td>\n",
       "    </tr>\n",
       "    <tr>\n",
       "      <td>2015</td>\n",
       "      <td>456</td>\n",
       "      <td>696</td>\n",
       "      <td>0.655172</td>\n",
       "    </tr>\n",
       "    <tr>\n",
       "      <td>2016</td>\n",
       "      <td>522</td>\n",
       "      <td>814</td>\n",
       "      <td>0.641278</td>\n",
       "    </tr>\n",
       "    <tr>\n",
       "      <td>2017</td>\n",
       "      <td>355</td>\n",
       "      <td>503</td>\n",
       "      <td>0.705765</td>\n",
       "    </tr>\n",
       "    <tr>\n",
       "      <td>2018</td>\n",
       "      <td>471</td>\n",
       "      <td>887</td>\n",
       "      <td>0.531003</td>\n",
       "    </tr>\n",
       "    <tr>\n",
       "      <td>2019</td>\n",
       "      <td>529</td>\n",
       "      <td>929</td>\n",
       "      <td>0.569429</td>\n",
       "    </tr>\n",
       "  </tbody>\n",
       "</table>\n",
       "</div>"
      ],
      "text/plain": [
       "      box_office  year  proportion\n",
       "year                              \n",
       "2010         101   981    0.102956\n",
       "2011         109   622    0.175241\n",
       "2012         123   588    0.209184\n",
       "2013         179   625    0.286400\n",
       "2014         272   799    0.340426\n",
       "2015         456   696    0.655172\n",
       "2016         522   814    0.641278\n",
       "2017         355   503    0.705765\n",
       "2018         471   887    0.531003\n",
       "2019         529   929    0.569429"
      ]
     },
     "metadata": {},
     "output_type": "display_data"
    },
    {
     "data": {
      "text/plain": [
       "<matplotlib.axes._subplots.AxesSubplot at 0x7ffa4272ef90>"
      ]
     },
     "execution_count": 119,
     "metadata": {},
     "output_type": "execute_result"
    },
    {
     "data": {
      "image/png": "[encoded data removed]",
      "text/plain": [
       "<Figure size 432x288 with 1 Axes>"
      ]
     },
     "metadata": {
      "needs_background": "light"
     },
     "output_type": "display_data"
    }
   ],
   "source": [
    "b_o_proportion_df = main_df.groupby('year')[['box_office','year']].count()\n",
    "b_o_proportion_df['proportion'] = b_o_proportion_df['box_office']/b_o_proportion_df['year']\n",
    "display(b_o_proportion_df)\n",
    "b_o_proportion_df.plot(y = 'proportion', kind = 'bar', grid = True)"
   ]
  },
  {
   "cell_type": "markdown",
   "metadata": {},
   "source": [
    "учитывая что скорее всего в районе половины сборов некорректные, можно преблизительно поделить ответ на два."
   ]
  },
  {
   "cell_type": "code",
   "execution_count": 120,
   "metadata": {
    "id": "tfEhofYvgFyX"
   },
   "outputs": [
    {
     "name": "stdout",
     "output_type": "stream",
     "text": [
      "year\n",
      "2010    2.428654e+06\n",
      "2011    1.410276e+07\n",
      "2012    6.955423e+06\n",
      "2013    2.979971e+07\n",
      "2014    7.434718e+09\n",
      "2015    3.852783e+10\n",
      "2016    4.674232e+10\n",
      "2017    4.845815e+10\n",
      "2018    4.925199e+10\n",
      "2019    4.827810e+10\n",
      "Name: box_office, dtype: float64\n"
     ]
    },
    {
     "data": {
      "text/plain": [
       "Text(0, 0.5, 'Summ_box_office')"
      ]
     },
     "execution_count": 120,
     "metadata": {},
     "output_type": "execute_result"
    },
    {
     "data": {
      "image/png": "[encoded data removed]",
      "text/plain": [
       "<Figure size 1080x432 with 1 Axes>"
      ]
     },
     "metadata": {
      "needs_background": "light"
     },
     "output_type": "display_data"
    }
   ],
   "source": [
    "films_dinamics = main_df[main_df['box_office'].isna() == False]\n",
    "films_dinamics = films_dinamics.groupby('year')['box_office'].sum()\n",
    "print(films_dinamics)\n",
    "films_dinamics.plot(figsize=(15,6), grid=True)\n",
    "plt.title('Dinamic summ of box_office')\n",
    "plt.xlabel('Years')\n",
    "plt.ylabel('Summ_box_office')"
   ]
  },
  {
   "cell_type": "markdown",
   "metadata": {},
   "source": [
    "Минимум 2010, максимум 2018, по граффику видна зависимость того что все провалы по сборам относятся к годам проката 2010-2013, возможно включая 2014-2015. В среднем стоимость фильмов растет, инфляция шо поделать."
   ]
  },
  {
   "cell_type": "code",
   "execution_count": 121,
   "metadata": {
    "id": "jmp-rgg9gFyY"
   },
   "outputs": [
    {
     "data": {
      "text/plain": [
       "year\n",
       "2010       1710.00\n",
       "2011       3000.00\n",
       "2012       6220.00\n",
       "2013       3580.00\n",
       "2014      20310.00\n",
       "2015    4864744.05\n",
       "2016    3777202.68\n",
       "2017    9919415.00\n",
       "2018    8751895.75\n",
       "2019    4601033.60\n",
       "Name: box_office, dtype: float64"
      ]
     },
     "metadata": {},
     "output_type": "display_data"
    }
   ],
   "source": [
    "mean_median_box = main_df[main_df['box_office'].isna() == False]\n",
    "display(mean_median_box.groupby('year')['box_office'].median())"
   ]
  },
  {
   "cell_type": "code",
   "execution_count": 122,
   "metadata": {},
   "outputs": [
    {
     "data": {
      "text/plain": [
       "year\n",
       "2010    2.404608e+04\n",
       "2011    1.293832e+05\n",
       "2012    5.654815e+04\n",
       "2013    1.664788e+05\n",
       "2014    2.733352e+07\n",
       "2015    8.449085e+07\n",
       "2016    8.954467e+07\n",
       "2017    1.365018e+08\n",
       "2018    1.045690e+08\n",
       "2019    9.126295e+07\n",
       "Name: box_office, dtype: float64"
      ]
     },
     "metadata": {},
     "output_type": "display_data"
    }
   ],
   "source": [
    "display(mean_median_box.groupby('year')['box_office'].mean())"
   ]
  },
  {
   "cell_type": "code",
   "execution_count": 123,
   "metadata": {
    "id": "jsSbEqfjgFya"
   },
   "outputs": [
    {
     "data": {
      "text/html": [
       "<div>\n",
       "<style scoped>\n",
       "    .dataframe tbody tr th:only-of-type {\n",
       "        vertical-align: middle;\n",
       "    }\n",
       "\n",
       "    .dataframe tbody tr th {\n",
       "        vertical-align: top;\n",
       "    }\n",
       "\n",
       "    .dataframe thead th {\n",
       "        text-align: right;\n",
       "    }\n",
       "</style>\n",
       "<table border=\"1\" class=\"dataframe\">\n",
       "  <thead>\n",
       "    <tr style=\"text-align: right;\">\n",
       "      <th>age_restriction</th>\n",
       "      <th>«0+» - для любой зрительской аудитории</th>\n",
       "      <th>«12+» - для детей старше 12 лет</th>\n",
       "      <th>«16+» - для детей старше 16 лет</th>\n",
       "      <th>«18+» - запрещено для детей</th>\n",
       "      <th>«6+» - для детей старше 6 лет</th>\n",
       "    </tr>\n",
       "    <tr>\n",
       "      <th>year</th>\n",
       "      <th></th>\n",
       "      <th></th>\n",
       "      <th></th>\n",
       "      <th></th>\n",
       "      <th></th>\n",
       "    </tr>\n",
       "  </thead>\n",
       "  <tbody>\n",
       "    <tr>\n",
       "      <td>2015</td>\n",
       "      <td>3.790546e+08</td>\n",
       "      <td>1.341951e+10</td>\n",
       "      <td>1.078160e+10</td>\n",
       "      <td>5.430351e+09</td>\n",
       "      <td>8.517312e+09</td>\n",
       "    </tr>\n",
       "    <tr>\n",
       "      <td>2016</td>\n",
       "      <td>1.502288e+08</td>\n",
       "      <td>1.115076e+10</td>\n",
       "      <td>1.659425e+10</td>\n",
       "      <td>6.793930e+09</td>\n",
       "      <td>1.205315e+10</td>\n",
       "    </tr>\n",
       "    <tr>\n",
       "      <td>2017</td>\n",
       "      <td>2.295989e+08</td>\n",
       "      <td>7.851428e+09</td>\n",
       "      <td>1.869459e+10</td>\n",
       "      <td>9.651496e+09</td>\n",
       "      <td>1.203103e+10</td>\n",
       "    </tr>\n",
       "    <tr>\n",
       "      <td>2018</td>\n",
       "      <td>3.244900e+07</td>\n",
       "      <td>1.426729e+10</td>\n",
       "      <td>1.627841e+10</td>\n",
       "      <td>8.760086e+09</td>\n",
       "      <td>9.913759e+09</td>\n",
       "    </tr>\n",
       "    <tr>\n",
       "      <td>2019</td>\n",
       "      <td>1.774607e+07</td>\n",
       "      <td>1.268020e+10</td>\n",
       "      <td>1.275342e+10</td>\n",
       "      <td>1.012180e+10</td>\n",
       "      <td>1.270494e+10</td>\n",
       "    </tr>\n",
       "  </tbody>\n",
       "</table>\n",
       "</div>"
      ],
      "text/plain": [
       "age_restriction  «0+» - для любой зрительской аудитории  \\\n",
       "year                                                      \n",
       "2015                                       3.790546e+08   \n",
       "2016                                       1.502288e+08   \n",
       "2017                                       2.295989e+08   \n",
       "2018                                       3.244900e+07   \n",
       "2019                                       1.774607e+07   \n",
       "\n",
       "age_restriction  «12+» - для детей старше 12 лет  \\\n",
       "year                                               \n",
       "2015                                1.341951e+10   \n",
       "2016                                1.115076e+10   \n",
       "2017                                7.851428e+09   \n",
       "2018                                1.426729e+10   \n",
       "2019                                1.268020e+10   \n",
       "\n",
       "age_restriction  «16+» - для детей старше 16 лет  «18+» - запрещено для детей  \\\n",
       "year                                                                            \n",
       "2015                                1.078160e+10                 5.430351e+09   \n",
       "2016                                1.659425e+10                 6.793930e+09   \n",
       "2017                                1.869459e+10                 9.651496e+09   \n",
       "2018                                1.627841e+10                 8.760086e+09   \n",
       "2019                                1.275342e+10                 1.012180e+10   \n",
       "\n",
       "age_restriction  «6+» - для детей старше 6 лет  \n",
       "year                                            \n",
       "2015                              8.517312e+09  \n",
       "2016                              1.205315e+10  \n",
       "2017                              1.203103e+10  \n",
       "2018                              9.913759e+09  \n",
       "2019                              1.270494e+10  "
      ]
     },
     "metadata": {},
     "output_type": "display_data"
    }
   ],
   "source": [
    "age_df=main_df[main_df['year']>2014]\n",
    "age_df=age_df.pivot_table(index = 'year', columns = 'age_restriction', values = 'box_office', aggfunc = 'sum')\n",
    "display(age_df)"
   ]
  },
  {
   "cell_type": "code",
   "execution_count": 124,
   "metadata": {},
   "outputs": [
    {
     "data": {
      "text/plain": [
       "Text(0, 0.5, 'Summ_box_office')"
      ]
     },
     "execution_count": 124,
     "metadata": {},
     "output_type": "execute_result"
    },
    {
     "data": {
      "image/png": "[encoded data removed]",
      "text/plain": [
       "<Figure size 1080x432 with 1 Axes>"
      ]
     },
     "metadata": {
      "needs_background": "light"
     },
     "output_type": "display_data"
    }
   ],
   "source": [
    "age_df.plot(figsize=(15,6), kind='bar', grid=True)\n",
    "plt.title('age of box_office')\n",
    "plt.xlabel('Years')\n",
    "plt.ylabel('Summ_box_office')"
   ]
  },
  {
   "cell_type": "markdown",
   "metadata": {},
   "source": [
    "Самые прибыльные картины 16+. Самые не прибльные 0+. \n",
    "\n",
    "12+,6+,18+ на протяжении лет становятсе более или менее популярнее дург друга, думаю это должно быть связано с выходом очень кассово успешных картин в тот или иной год с определенным рейтингом.\n",
    "\n",
    "### Шаг 4. Исследуйте фильмы, которые получили государственную поддержку\n",
    "\n",
    "На этом этапе нет конкретных инструкций и заданий — поищите интересные закономерности в данных. Посмотрите, сколько выделяют средств на поддержку кино. Проверьте, хорошо ли окупаются такие фильмы, какой у них рейтинг."
   ]
  },
  {
   "cell_type": "code",
   "execution_count": 125,
   "metadata": {},
   "outputs": [
    {
     "data": {
      "text/html": [
       "<div>\n",
       "<style scoped>\n",
       "    .dataframe tbody tr th:only-of-type {\n",
       "        vertical-align: middle;\n",
       "    }\n",
       "\n",
       "    .dataframe tbody tr th {\n",
       "        vertical-align: top;\n",
       "    }\n",
       "\n",
       "    .dataframe thead th {\n",
       "        text-align: right;\n",
       "    }\n",
       "</style>\n",
       "<table border=\"1\" class=\"dataframe\">\n",
       "  <thead>\n",
       "    <tr style=\"text-align: right;\">\n",
       "      <th></th>\n",
       "      <th>puNumber</th>\n",
       "      <th>refundable_support</th>\n",
       "      <th>nonrefundable_support</th>\n",
       "      <th>budget</th>\n",
       "      <th>ratings</th>\n",
       "      <th>box_office</th>\n",
       "      <th>year</th>\n",
       "      <th>support_proportion</th>\n",
       "      <th>general_support</th>\n",
       "      <th>payback</th>\n",
       "    </tr>\n",
       "  </thead>\n",
       "  <tbody>\n",
       "    <tr>\n",
       "      <td>count</td>\n",
       "      <td>3.150000e+02</td>\n",
       "      <td>3.150000e+02</td>\n",
       "      <td>3.150000e+02</td>\n",
       "      <td>3.150000e+02</td>\n",
       "      <td>300.000000</td>\n",
       "      <td>3.010000e+02</td>\n",
       "      <td>315.000000</td>\n",
       "      <td>315.000000</td>\n",
       "      <td>3.150000e+02</td>\n",
       "      <td>3.010000e+02</td>\n",
       "    </tr>\n",
       "    <tr>\n",
       "      <td>mean</td>\n",
       "      <td>1.115683e+08</td>\n",
       "      <td>1.160317e+07</td>\n",
       "      <td>4.810704e+07</td>\n",
       "      <td>1.340961e+08</td>\n",
       "      <td>6.036667</td>\n",
       "      <td>1.306983e+08</td>\n",
       "      <td>2016.742857</td>\n",
       "      <td>0.517386</td>\n",
       "      <td>5.971022e+07</td>\n",
       "      <td>-4.139510e+06</td>\n",
       "    </tr>\n",
       "    <tr>\n",
       "      <td>std</td>\n",
       "      <td>5.844829e+06</td>\n",
       "      <td>2.515144e+07</td>\n",
       "      <td>5.988614e+07</td>\n",
       "      <td>1.912260e+08</td>\n",
       "      <td>1.159167</td>\n",
       "      <td>3.391903e+08</td>\n",
       "      <td>1.647398</td>\n",
       "      <td>0.170043</td>\n",
       "      <td>7.308521e+07</td>\n",
       "      <td>3.204259e+08</td>\n",
       "    </tr>\n",
       "    <tr>\n",
       "      <td>min</td>\n",
       "      <td>1.110001e+08</td>\n",
       "      <td>0.000000e+00</td>\n",
       "      <td>0.000000e+00</td>\n",
       "      <td>1.446246e+07</td>\n",
       "      <td>1.000000</td>\n",
       "      <td>1.550000e+03</td>\n",
       "      <td>2013.000000</td>\n",
       "      <td>0.044043</td>\n",
       "      <td>3.000000e+06</td>\n",
       "      <td>-1.971477e+09</td>\n",
       "    </tr>\n",
       "    <tr>\n",
       "      <td>25%</td>\n",
       "      <td>1.110048e+08</td>\n",
       "      <td>0.000000e+00</td>\n",
       "      <td>2.500000e+07</td>\n",
       "      <td>4.615387e+07</td>\n",
       "      <td>5.400000</td>\n",
       "      <td>1.067649e+06</td>\n",
       "      <td>2015.000000</td>\n",
       "      <td>0.373458</td>\n",
       "      <td>2.525000e+07</td>\n",
       "      <td>-7.332212e+07</td>\n",
       "    </tr>\n",
       "    <tr>\n",
       "      <td>50%</td>\n",
       "      <td>1.110102e+08</td>\n",
       "      <td>0.000000e+00</td>\n",
       "      <td>3.000000e+07</td>\n",
       "      <td>7.337955e+07</td>\n",
       "      <td>6.200000</td>\n",
       "      <td>1.274840e+07</td>\n",
       "      <td>2017.000000</td>\n",
       "      <td>0.592265</td>\n",
       "      <td>3.500000e+07</td>\n",
       "      <td>-4.336374e+07</td>\n",
       "    </tr>\n",
       "    <tr>\n",
       "      <td>75%</td>\n",
       "      <td>1.110172e+08</td>\n",
       "      <td>1.000000e+07</td>\n",
       "      <td>4.000000e+07</td>\n",
       "      <td>1.500043e+08</td>\n",
       "      <td>6.700000</td>\n",
       "      <td>1.031348e+08</td>\n",
       "      <td>2018.000000</td>\n",
       "      <td>0.656931</td>\n",
       "      <td>6.000000e+07</td>\n",
       "      <td>-1.477910e+07</td>\n",
       "    </tr>\n",
       "    <tr>\n",
       "      <td>max</td>\n",
       "      <td>2.140101e+08</td>\n",
       "      <td>1.800000e+08</td>\n",
       "      <td>4.000000e+08</td>\n",
       "      <td>2.305074e+09</td>\n",
       "      <td>9.400000</td>\n",
       "      <td>3.073569e+09</td>\n",
       "      <td>2019.000000</td>\n",
       "      <td>0.784745</td>\n",
       "      <td>5.000000e+08</td>\n",
       "      <td>2.913569e+09</td>\n",
       "    </tr>\n",
       "  </tbody>\n",
       "</table>\n",
       "</div>"
      ],
      "text/plain": [
       "           puNumber  refundable_support  nonrefundable_support        budget  \\\n",
       "count  3.150000e+02        3.150000e+02           3.150000e+02  3.150000e+02   \n",
       "mean   1.115683e+08        1.160317e+07           4.810704e+07  1.340961e+08   \n",
       "std    5.844829e+06        2.515144e+07           5.988614e+07  1.912260e+08   \n",
       "min    1.110001e+08        0.000000e+00           0.000000e+00  1.446246e+07   \n",
       "25%    1.110048e+08        0.000000e+00           2.500000e+07  4.615387e+07   \n",
       "50%    1.110102e+08        0.000000e+00           3.000000e+07  7.337955e+07   \n",
       "75%    1.110172e+08        1.000000e+07           4.000000e+07  1.500043e+08   \n",
       "max    2.140101e+08        1.800000e+08           4.000000e+08  2.305074e+09   \n",
       "\n",
       "          ratings    box_office         year  support_proportion  \\\n",
       "count  300.000000  3.010000e+02   315.000000          315.000000   \n",
       "mean     6.036667  1.306983e+08  2016.742857            0.517386   \n",
       "std      1.159167  3.391903e+08     1.647398            0.170043   \n",
       "min      1.000000  1.550000e+03  2013.000000            0.044043   \n",
       "25%      5.400000  1.067649e+06  2015.000000            0.373458   \n",
       "50%      6.200000  1.274840e+07  2017.000000            0.592265   \n",
       "75%      6.700000  1.031348e+08  2018.000000            0.656931   \n",
       "max      9.400000  3.073569e+09  2019.000000            0.784745   \n",
       "\n",
       "       general_support       payback  \n",
       "count     3.150000e+02  3.010000e+02  \n",
       "mean      5.971022e+07 -4.139510e+06  \n",
       "std       7.308521e+07  3.204259e+08  \n",
       "min       3.000000e+06 -1.971477e+09  \n",
       "25%       2.525000e+07 -7.332212e+07  \n",
       "50%       3.500000e+07 -4.336374e+07  \n",
       "75%       6.000000e+07 -1.477910e+07  \n",
       "max       5.000000e+08  2.913569e+09  "
      ]
     },
     "metadata": {},
     "output_type": "display_data"
    }
   ],
   "source": [
    "budget_proportion['general_support'] = budget_proportion['refundable_support']+budget_proportion['nonrefundable_support']\n",
    "budget_proportion['payback'] = budget_proportion['box_office']-budget_proportion['budget']\n",
    "display(budget_proportion.describe())\n",
    "#display(budget_proportion[['refundable_support','nonrefundable_support','general_support']])"
   ]
  },
  {
   "cell_type": "markdown",
   "metadata": {
    "id": "V2gYwMcPgFyd"
   },
   "source": [
    "Средний рейтинг кинолент с поддержкой относительно не высок от 5.4 до 6.7 баллов.\n",
    "\n",
    "В среднем из бюджета выделяется от 25млн до 60млн.\n",
    "\n",
    "Фильмы с гос поддержкой более чем в 75% случаях уходят в убыток (а казалось бы).\n",
    "\n",
    "### Шаг 5. Вывод\n",
    "\n",
    "В данных много пропусков, данные о прокате есть только в 40%, но половина из них некорректна.\n",
    "\n",
    "Больше всего вышло фильмов в 2010 году - 981, меньше всего в 2017 - 503 (некорректные данные выпадают на отрезок 2010-2014).\n",
    "\n",
    "Самый прибыльный по кассовым сбором год 2018, самы менее прибыльный 2010 (но учитывая проблемы данных лучше отбросить начальные года и тогда минимум будет в 2015).\n",
    "\n",
    "Медиана сборов 2017 года больше чем в 2018, скорее всего в 2018 вышела одна или несколько очень прибыльных картин.\n",
    "\n",
    "Самые прибыльные картины 16+. Самые не прибльные 0+. Остальные в среднем похожи.\n",
    "\n",
    "Картины с гос. поддержкой имеют средние рейтинги (учитывая специфику кинопоиска, можно сказать низкие), на их поддержку выделяется в среднем от 25 до 60 млн, и в большинстве случаев, они терпят фиаско в прокате. \n",
    "\n",
    "В итоге кино с гос. поддержкой проваливается по оценкам зрителей, и проваливается в прокате, возможно стоит выделять деньги на кино реже(если конечно только все эти фильмы не имеют высокой культурной ценности, в что вериться с трудом)."
   ]
  },
  {
   "cell_type": "code",
   "execution_count": null,
   "metadata": {},
   "outputs": [],
   "source": []
  }
 ],
 "metadata": {
  "ExecuteTimeLog": [
   {
    "duration": 537,
    "start_time": "2021-07-07T10:12:08.634Z"
   },
   {
    "duration": 206,
    "start_time": "2021-07-07T10:12:30.191Z"
   },
   {
    "duration": 227,
    "start_time": "2021-07-07T10:12:33.078Z"
   },
   {
    "duration": 153,
    "start_time": "2021-07-07T10:13:42.146Z"
   },
   {
    "duration": 233,
    "start_time": "2021-07-07T10:30:09.252Z"
   },
   {
    "duration": 19,
    "start_time": "2021-07-07T10:30:15.577Z"
   },
   {
    "duration": 18,
    "start_time": "2021-07-07T10:30:57.348Z"
   },
   {
    "duration": 19,
    "start_time": "2021-07-07T10:31:17.452Z"
   },
   {
    "duration": 21,
    "start_time": "2021-07-07T10:31:32.227Z"
   },
   {
    "duration": 27,
    "start_time": "2021-07-07T10:32:06.588Z"
   },
   {
    "duration": 23,
    "start_time": "2021-07-07T10:32:43.645Z"
   },
   {
    "duration": 24,
    "start_time": "2021-07-07T10:33:06.948Z"
   },
   {
    "duration": 7,
    "start_time": "2021-07-07T10:33:28.558Z"
   },
   {
    "duration": 23,
    "start_time": "2021-07-07T10:33:43.761Z"
   },
   {
    "duration": 28,
    "start_time": "2021-07-07T10:34:13.466Z"
   },
   {
    "duration": 23,
    "start_time": "2021-07-07T10:35:56.187Z"
   },
   {
    "duration": 6,
    "start_time": "2021-07-07T10:36:48.182Z"
   },
   {
    "duration": 14,
    "start_time": "2021-07-07T10:37:49.641Z"
   },
   {
    "duration": 6,
    "start_time": "2021-07-07T10:38:06.694Z"
   },
   {
    "duration": 6,
    "start_time": "2021-07-07T10:38:13.493Z"
   },
   {
    "duration": 19,
    "start_time": "2021-07-07T10:38:44.056Z"
   },
   {
    "duration": 186,
    "start_time": "2021-07-07T10:48:35.618Z"
   },
   {
    "duration": 24,
    "start_time": "2021-07-07T10:48:51.498Z"
   },
   {
    "duration": 20,
    "start_time": "2021-07-07T10:48:59.415Z"
   },
   {
    "duration": 20,
    "start_time": "2021-07-07T10:53:02.195Z"
   },
   {
    "duration": 188,
    "start_time": "2021-07-07T10:54:40.486Z"
   },
   {
    "duration": 115,
    "start_time": "2021-07-07T10:54:52.552Z"
   },
   {
    "duration": 214,
    "start_time": "2021-07-07T10:54:56.354Z"
   },
   {
    "duration": 47,
    "start_time": "2021-07-07T10:54:58.282Z"
   },
   {
    "duration": 217,
    "start_time": "2021-07-07T10:59:16.075Z"
   },
   {
    "duration": 51,
    "start_time": "2021-07-07T10:59:16.243Z"
   },
   {
    "duration": 578,
    "start_time": "2021-07-07T10:59:18.774Z"
   },
   {
    "duration": 161,
    "start_time": "2021-07-07T10:59:21.238Z"
   },
   {
    "duration": 59,
    "start_time": "2021-07-07T10:59:21.453Z"
   },
   {
    "duration": 3,
    "start_time": "2021-07-07T11:02:10.786Z"
   },
   {
    "duration": 13,
    "start_time": "2021-07-07T11:07:07.722Z"
   },
   {
    "duration": 26,
    "start_time": "2021-07-07T11:07:17.958Z"
   },
   {
    "duration": 22,
    "start_time": "2021-07-07T11:08:17.939Z"
   },
   {
    "duration": 212,
    "start_time": "2021-07-07T11:08:19.665Z"
   },
   {
    "duration": 21,
    "start_time": "2021-07-07T11:08:29.945Z"
   },
   {
    "duration": 31,
    "start_time": "2021-07-07T11:08:38.899Z"
   },
   {
    "duration": 23,
    "start_time": "2021-07-07T11:08:54.527Z"
   },
   {
    "duration": 8,
    "start_time": "2021-07-07T11:18:55.974Z"
   },
   {
    "duration": 7,
    "start_time": "2021-07-07T11:19:03.639Z"
   },
   {
    "duration": 7,
    "start_time": "2021-07-07T11:19:06.444Z"
   },
   {
    "duration": 578,
    "start_time": "2021-07-07T12:09:59.576Z"
   },
   {
    "duration": 195,
    "start_time": "2021-07-07T12:10:00.156Z"
   },
   {
    "duration": 115,
    "start_time": "2021-07-07T12:10:00.353Z"
   },
   {
    "duration": 3,
    "start_time": "2021-07-07T12:10:00.470Z"
   },
   {
    "duration": 32,
    "start_time": "2021-07-07T12:10:00.474Z"
   },
   {
    "duration": 23,
    "start_time": "2021-07-07T12:10:00.508Z"
   },
   {
    "duration": 19,
    "start_time": "2021-07-07T12:10:00.533Z"
   },
   {
    "duration": 44,
    "start_time": "2021-07-07T12:10:00.553Z"
   },
   {
    "duration": 7,
    "start_time": "2021-07-07T12:10:00.600Z"
   },
   {
    "duration": 7,
    "start_time": "2021-07-07T12:19:45.761Z"
   },
   {
    "duration": 21,
    "start_time": "2021-07-07T12:21:35.482Z"
   },
   {
    "duration": 21,
    "start_time": "2021-07-07T12:29:23.569Z"
   },
   {
    "duration": 525,
    "start_time": "2021-07-07T12:29:44.542Z"
   },
   {
    "duration": 214,
    "start_time": "2021-07-07T12:29:45.069Z"
   },
   {
    "duration": 92,
    "start_time": "2021-07-07T12:29:45.285Z"
   },
   {
    "duration": 3,
    "start_time": "2021-07-07T12:29:45.379Z"
   },
   {
    "duration": 28,
    "start_time": "2021-07-07T12:29:45.384Z"
   },
   {
    "duration": 23,
    "start_time": "2021-07-07T12:29:45.413Z"
   },
   {
    "duration": 21,
    "start_time": "2021-07-07T12:29:45.437Z"
   },
   {
    "duration": 41,
    "start_time": "2021-07-07T12:29:45.460Z"
   },
   {
    "duration": 7,
    "start_time": "2021-07-07T12:29:45.502Z"
   },
   {
    "duration": 20,
    "start_time": "2021-07-07T12:29:45.511Z"
   },
   {
    "duration": 12,
    "start_time": "2021-07-07T12:34:02.800Z"
   },
   {
    "duration": 7,
    "start_time": "2021-07-07T12:35:10.479Z"
   },
   {
    "duration": 8,
    "start_time": "2021-07-07T12:35:22.440Z"
   },
   {
    "duration": 6,
    "start_time": "2021-07-07T12:35:35.649Z"
   },
   {
    "duration": 6,
    "start_time": "2021-07-07T12:35:43.107Z"
   },
   {
    "duration": 22,
    "start_time": "2021-07-07T12:38:03.029Z"
   },
   {
    "duration": 10,
    "start_time": "2021-07-07T12:38:06.592Z"
   },
   {
    "duration": 563,
    "start_time": "2021-07-07T12:38:46.493Z"
   },
   {
    "duration": 265,
    "start_time": "2021-07-07T12:38:47.058Z"
   },
   {
    "duration": 94,
    "start_time": "2021-07-07T12:38:47.325Z"
   },
   {
    "duration": 3,
    "start_time": "2021-07-07T12:38:47.422Z"
   },
   {
    "duration": 30,
    "start_time": "2021-07-07T12:38:47.427Z"
   },
   {
    "duration": 16,
    "start_time": "2021-07-07T12:38:53.305Z"
   },
   {
    "duration": 10,
    "start_time": "2021-07-07T12:38:53.499Z"
   },
   {
    "duration": 8,
    "start_time": "2021-07-07T12:39:48.161Z"
   },
   {
    "duration": 27,
    "start_time": "2021-07-07T12:41:17.629Z"
   },
   {
    "duration": 17,
    "start_time": "2021-07-07T12:41:17.867Z"
   },
   {
    "duration": 21,
    "start_time": "2021-07-07T12:41:19.310Z"
   },
   {
    "duration": 7,
    "start_time": "2021-07-07T12:41:19.544Z"
   },
   {
    "duration": 20,
    "start_time": "2021-07-07T12:41:20.504Z"
   },
   {
    "duration": 554,
    "start_time": "2021-07-07T12:56:23.696Z"
   },
   {
    "duration": 200,
    "start_time": "2021-07-07T12:56:25.234Z"
   },
   {
    "duration": 119,
    "start_time": "2021-07-07T12:56:25.480Z"
   },
   {
    "duration": 4,
    "start_time": "2021-07-07T12:56:25.762Z"
   },
   {
    "duration": 26,
    "start_time": "2021-07-07T12:56:27.172Z"
   },
   {
    "duration": 12,
    "start_time": "2021-07-07T12:56:29.051Z"
   },
   {
    "duration": 10,
    "start_time": "2021-07-07T12:56:29.291Z"
   },
   {
    "duration": 8,
    "start_time": "2021-07-07T12:56:29.623Z"
   },
   {
    "duration": 28,
    "start_time": "2021-07-07T12:56:32.137Z"
   },
   {
    "duration": 19,
    "start_time": "2021-07-07T12:56:39.785Z"
   },
   {
    "duration": 20,
    "start_time": "2021-07-07T12:56:44.297Z"
   },
   {
    "duration": 7,
    "start_time": "2021-07-07T12:56:45.392Z"
   },
   {
    "duration": 23,
    "start_time": "2021-07-07T12:56:46.615Z"
   },
   {
    "duration": 4,
    "start_time": "2021-07-07T12:57:06.625Z"
   },
   {
    "duration": 32,
    "start_time": "2021-07-07T12:57:36.690Z"
   },
   {
    "duration": 18,
    "start_time": "2021-07-07T12:58:00.149Z"
   },
   {
    "duration": 15,
    "start_time": "2021-07-07T12:59:16.793Z"
   },
   {
    "duration": 7,
    "start_time": "2021-07-07T13:19:22.624Z"
   },
   {
    "duration": 6,
    "start_time": "2021-07-07T14:17:33.527Z"
   },
   {
    "duration": 9,
    "start_time": "2021-07-07T14:17:48.409Z"
   },
   {
    "duration": 8,
    "start_time": "2021-07-07T14:20:13.060Z"
   },
   {
    "duration": 8,
    "start_time": "2021-07-07T14:20:37.957Z"
   },
   {
    "duration": 8,
    "start_time": "2021-07-07T14:20:47.470Z"
   },
   {
    "duration": 9,
    "start_time": "2021-07-07T14:20:54.503Z"
   },
   {
    "duration": 10,
    "start_time": "2021-07-07T14:28:57.763Z"
   },
   {
    "duration": 3,
    "start_time": "2021-07-07T14:30:23.377Z"
   },
   {
    "duration": 3,
    "start_time": "2021-07-07T14:30:36.489Z"
   },
   {
    "duration": 103,
    "start_time": "2021-07-07T14:30:52.351Z"
   },
   {
    "duration": 8,
    "start_time": "2021-07-07T14:30:54.763Z"
   },
   {
    "duration": 8,
    "start_time": "2021-07-07T14:31:29.301Z"
   },
   {
    "duration": 13,
    "start_time": "2021-07-07T14:31:44.516Z"
   },
   {
    "duration": 7,
    "start_time": "2021-07-07T14:33:10.972Z"
   },
   {
    "duration": 11,
    "start_time": "2021-07-07T14:33:27.780Z"
   },
   {
    "duration": 8,
    "start_time": "2021-07-07T14:34:44.588Z"
   },
   {
    "duration": 57,
    "start_time": "2021-07-07T14:35:59.042Z"
   },
   {
    "duration": 3,
    "start_time": "2021-07-07T14:36:28.168Z"
   },
   {
    "duration": 5,
    "start_time": "2021-07-07T14:36:46.254Z"
   },
   {
    "duration": 4,
    "start_time": "2021-07-07T14:36:52.714Z"
   },
   {
    "duration": 3,
    "start_time": "2021-07-07T14:36:56.612Z"
   },
   {
    "duration": 4,
    "start_time": "2021-07-07T14:36:57.049Z"
   },
   {
    "duration": 3,
    "start_time": "2021-07-07T14:39:21.214Z"
   },
   {
    "duration": 7,
    "start_time": "2021-07-07T14:39:52.406Z"
   },
   {
    "duration": 11,
    "start_time": "2021-07-07T14:39:58.576Z"
   },
   {
    "duration": 9,
    "start_time": "2021-07-07T14:40:26.301Z"
   },
   {
    "duration": 10,
    "start_time": "2021-07-07T14:40:31.704Z"
   },
   {
    "duration": 11,
    "start_time": "2021-07-07T14:40:36.249Z"
   },
   {
    "duration": 10,
    "start_time": "2021-07-07T14:40:39.783Z"
   },
   {
    "duration": 9,
    "start_time": "2021-07-07T14:40:48.558Z"
   },
   {
    "duration": 10,
    "start_time": "2021-07-07T14:40:57.143Z"
   },
   {
    "duration": 9,
    "start_time": "2021-07-07T14:41:06.074Z"
   },
   {
    "duration": 4324,
    "start_time": "2021-07-07T14:41:22.004Z"
   },
   {
    "duration": 11,
    "start_time": "2021-07-07T14:41:33.392Z"
   },
   {
    "duration": 9,
    "start_time": "2021-07-07T14:41:39.288Z"
   },
   {
    "duration": 569,
    "start_time": "2021-07-07T14:42:14.387Z"
   },
   {
    "duration": 197,
    "start_time": "2021-07-07T14:42:14.959Z"
   },
   {
    "duration": 84,
    "start_time": "2021-07-07T14:42:16.052Z"
   },
   {
    "duration": 4,
    "start_time": "2021-07-07T14:42:16.900Z"
   },
   {
    "duration": 27,
    "start_time": "2021-07-07T14:42:19.898Z"
   },
   {
    "duration": 12,
    "start_time": "2021-07-07T14:42:21.577Z"
   },
   {
    "duration": 9,
    "start_time": "2021-07-07T14:42:21.813Z"
   },
   {
    "duration": 9,
    "start_time": "2021-07-07T14:42:22.569Z"
   },
   {
    "duration": 29,
    "start_time": "2021-07-07T14:42:25.837Z"
   },
   {
    "duration": 20,
    "start_time": "2021-07-07T14:42:27.003Z"
   },
   {
    "duration": 21,
    "start_time": "2021-07-07T14:42:28.767Z"
   },
   {
    "duration": 7,
    "start_time": "2021-07-07T14:42:29.838Z"
   },
   {
    "duration": 4,
    "start_time": "2021-07-07T14:43:25.493Z"
   },
   {
    "duration": 7,
    "start_time": "2021-07-07T14:43:26.573Z"
   },
   {
    "duration": 10,
    "start_time": "2021-07-07T14:43:31.639Z"
   },
   {
    "duration": 9,
    "start_time": "2021-07-07T14:43:32.046Z"
   },
   {
    "duration": 10,
    "start_time": "2021-07-07T14:43:33.301Z"
   },
   {
    "duration": 12,
    "start_time": "2021-07-07T14:43:33.658Z"
   },
   {
    "duration": 8,
    "start_time": "2021-07-07T14:43:34.552Z"
   },
   {
    "duration": 9,
    "start_time": "2021-07-07T14:43:35.058Z"
   },
   {
    "duration": 12,
    "start_time": "2021-07-07T14:43:35.914Z"
   },
   {
    "duration": 17,
    "start_time": "2021-07-07T14:45:34.368Z"
   },
   {
    "duration": 512,
    "start_time": "2021-07-07T14:51:58.236Z"
   },
   {
    "duration": 223,
    "start_time": "2021-07-07T14:51:58.750Z"
   },
   {
    "duration": 93,
    "start_time": "2021-07-07T14:51:58.977Z"
   },
   {
    "duration": 4,
    "start_time": "2021-07-07T14:51:59.071Z"
   },
   {
    "duration": 37,
    "start_time": "2021-07-07T14:51:59.077Z"
   },
   {
    "duration": 18,
    "start_time": "2021-07-07T14:51:59.116Z"
   },
   {
    "duration": 10,
    "start_time": "2021-07-07T14:51:59.137Z"
   },
   {
    "duration": 8,
    "start_time": "2021-07-07T14:51:59.149Z"
   },
   {
    "duration": 54,
    "start_time": "2021-07-07T14:51:59.158Z"
   },
   {
    "duration": 18,
    "start_time": "2021-07-07T14:51:59.213Z"
   },
   {
    "duration": 22,
    "start_time": "2021-07-07T14:51:59.232Z"
   },
   {
    "duration": 36,
    "start_time": "2021-07-07T14:51:59.255Z"
   },
   {
    "duration": 7,
    "start_time": "2021-07-07T14:51:59.293Z"
   },
   {
    "duration": 10,
    "start_time": "2021-07-07T14:51:59.302Z"
   },
   {
    "duration": 9,
    "start_time": "2021-07-07T14:51:59.313Z"
   },
   {
    "duration": 11,
    "start_time": "2021-07-07T14:51:59.324Z"
   },
   {
    "duration": 8,
    "start_time": "2021-07-07T14:51:59.337Z"
   },
   {
    "duration": 46,
    "start_time": "2021-07-07T14:51:59.347Z"
   },
   {
    "duration": 22,
    "start_time": "2021-07-07T14:51:59.395Z"
   },
   {
    "duration": 24,
    "start_time": "2021-07-07T14:57:32.911Z"
   },
   {
    "duration": 7,
    "start_time": "2021-07-07T14:58:22.070Z"
   },
   {
    "duration": 4,
    "start_time": "2021-07-07T14:59:11.239Z"
   },
   {
    "duration": 25,
    "start_time": "2021-07-07T15:07:22.208Z"
   },
   {
    "duration": 16,
    "start_time": "2021-07-07T15:08:25.560Z"
   },
   {
    "duration": 15,
    "start_time": "2021-07-07T15:08:40.647Z"
   },
   {
    "duration": 14,
    "start_time": "2021-07-07T15:08:46.669Z"
   },
   {
    "duration": 533,
    "start_time": "2021-07-07T15:18:07.440Z"
   },
   {
    "duration": 173,
    "start_time": "2021-07-07T15:18:07.974Z"
   },
   {
    "duration": 84,
    "start_time": "2021-07-07T15:18:08.149Z"
   },
   {
    "duration": 3,
    "start_time": "2021-07-07T15:18:08.235Z"
   },
   {
    "duration": 30,
    "start_time": "2021-07-07T15:18:08.240Z"
   },
   {
    "duration": 22,
    "start_time": "2021-07-07T15:18:08.272Z"
   },
   {
    "duration": 11,
    "start_time": "2021-07-07T15:18:08.295Z"
   },
   {
    "duration": 11,
    "start_time": "2021-07-07T15:18:08.309Z"
   },
   {
    "duration": 40,
    "start_time": "2021-07-07T15:18:08.322Z"
   },
   {
    "duration": 42,
    "start_time": "2021-07-07T15:18:08.364Z"
   },
   {
    "duration": 22,
    "start_time": "2021-07-07T15:18:08.408Z"
   },
   {
    "duration": 5,
    "start_time": "2021-07-07T15:18:08.432Z"
   },
   {
    "duration": 13,
    "start_time": "2021-07-07T15:18:08.439Z"
   },
   {
    "duration": 9,
    "start_time": "2021-07-07T15:18:08.454Z"
   },
   {
    "duration": 32,
    "start_time": "2021-07-07T15:18:08.465Z"
   },
   {
    "duration": 10,
    "start_time": "2021-07-07T15:18:08.501Z"
   },
   {
    "duration": 7,
    "start_time": "2021-07-07T15:18:08.513Z"
   },
   {
    "duration": 11,
    "start_time": "2021-07-07T15:18:08.521Z"
   },
   {
    "duration": 17,
    "start_time": "2021-07-07T15:18:08.534Z"
   },
   {
    "duration": 44,
    "start_time": "2021-07-07T15:18:08.553Z"
   },
   {
    "duration": 22,
    "start_time": "2021-07-07T15:18:08.599Z"
   },
   {
    "duration": 61,
    "start_time": "2021-07-07T15:18:08.622Z"
   },
   {
    "duration": 7,
    "start_time": "2021-07-07T15:18:39.457Z"
   },
   {
    "duration": 5,
    "start_time": "2021-07-07T16:05:17.020Z"
   },
   {
    "duration": 5,
    "start_time": "2021-07-07T16:51:28.794Z"
   },
   {
    "duration": 546,
    "start_time": "2021-07-07T16:52:26.306Z"
   },
   {
    "duration": 203,
    "start_time": "2021-07-07T16:52:27.523Z"
   },
   {
    "duration": 85,
    "start_time": "2021-07-07T16:52:27.736Z"
   },
   {
    "duration": 4,
    "start_time": "2021-07-07T16:52:27.899Z"
   },
   {
    "duration": 25,
    "start_time": "2021-07-07T16:52:28.674Z"
   },
   {
    "duration": 8,
    "start_time": "2021-07-07T16:52:32.956Z"
   },
   {
    "duration": 18,
    "start_time": "2021-07-07T16:52:35.616Z"
   },
   {
    "duration": 6,
    "start_time": "2021-07-07T16:52:36.913Z"
   },
   {
    "duration": 11,
    "start_time": "2021-07-07T16:52:40.258Z"
   },
   {
    "duration": 10,
    "start_time": "2021-07-07T16:52:46.251Z"
   },
   {
    "duration": 8,
    "start_time": "2021-07-07T16:52:47.182Z"
   },
   {
    "duration": 27,
    "start_time": "2021-07-07T16:53:20.391Z"
   },
   {
    "duration": 20,
    "start_time": "2021-07-07T16:53:22.022Z"
   },
   {
    "duration": 23,
    "start_time": "2021-07-07T16:53:23.690Z"
   },
   {
    "duration": 8,
    "start_time": "2021-07-07T16:53:24.261Z"
   },
   {
    "duration": 4,
    "start_time": "2021-07-07T16:53:38.733Z"
   },
   {
    "duration": 7,
    "start_time": "2021-07-07T16:53:40.445Z"
   },
   {
    "duration": 11,
    "start_time": "2021-07-07T16:53:41.348Z"
   },
   {
    "duration": 13,
    "start_time": "2021-07-07T16:53:45.250Z"
   },
   {
    "duration": 12,
    "start_time": "2021-07-07T16:53:45.467Z"
   },
   {
    "duration": 4,
    "start_time": "2021-07-07T16:55:32.704Z"
   },
   {
    "duration": 12,
    "start_time": "2021-07-07T16:55:49.012Z"
   },
   {
    "duration": 18,
    "start_time": "2021-07-07T16:55:49.547Z"
   },
   {
    "duration": 611,
    "start_time": "2021-07-07T16:58:35.156Z"
   },
   {
    "duration": 200,
    "start_time": "2021-07-07T16:58:35.770Z"
   },
   {
    "duration": 86,
    "start_time": "2021-07-07T16:58:35.972Z"
   },
   {
    "duration": 3,
    "start_time": "2021-07-07T16:58:36.060Z"
   },
   {
    "duration": 27,
    "start_time": "2021-07-07T16:58:36.065Z"
   },
   {
    "duration": 8,
    "start_time": "2021-07-07T16:58:36.094Z"
   },
   {
    "duration": 17,
    "start_time": "2021-07-07T16:58:36.103Z"
   },
   {
    "duration": 5,
    "start_time": "2021-07-07T16:58:36.123Z"
   },
   {
    "duration": 11,
    "start_time": "2021-07-07T16:58:36.130Z"
   },
   {
    "duration": 7,
    "start_time": "2021-07-07T16:58:36.143Z"
   },
   {
    "duration": 37,
    "start_time": "2021-07-07T16:58:36.152Z"
   },
   {
    "duration": 27,
    "start_time": "2021-07-07T16:58:36.191Z"
   },
   {
    "duration": 19,
    "start_time": "2021-07-07T16:58:36.219Z"
   },
   {
    "duration": 49,
    "start_time": "2021-07-07T16:58:36.240Z"
   },
   {
    "duration": 6,
    "start_time": "2021-07-07T16:58:36.291Z"
   },
   {
    "duration": 3,
    "start_time": "2021-07-07T16:58:36.299Z"
   },
   {
    "duration": 13,
    "start_time": "2021-07-07T16:58:36.304Z"
   },
   {
    "duration": 10,
    "start_time": "2021-07-07T16:58:36.319Z"
   },
   {
    "duration": 10,
    "start_time": "2021-07-07T16:58:36.331Z"
   },
   {
    "duration": 44,
    "start_time": "2021-07-07T16:58:36.343Z"
   },
   {
    "duration": 4,
    "start_time": "2021-07-07T16:58:36.388Z"
   },
   {
    "duration": 13,
    "start_time": "2021-07-07T16:58:36.394Z"
   },
   {
    "duration": 16,
    "start_time": "2021-07-07T16:58:36.410Z"
   },
   {
    "duration": 8,
    "start_time": "2021-07-07T17:02:31.629Z"
   },
   {
    "duration": 8,
    "start_time": "2021-07-07T17:02:34.308Z"
   },
   {
    "duration": 6,
    "start_time": "2021-07-07T17:05:13.483Z"
   },
   {
    "duration": 17,
    "start_time": "2021-07-07T17:05:20.606Z"
   },
   {
    "duration": 7,
    "start_time": "2021-07-07T17:05:34.638Z"
   },
   {
    "duration": 3,
    "start_time": "2021-07-07T17:06:31.883Z"
   },
   {
    "duration": 570,
    "start_time": "2021-07-07T17:06:37.165Z"
   },
   {
    "duration": 174,
    "start_time": "2021-07-07T17:06:37.737Z"
   },
   {
    "duration": 47,
    "start_time": "2021-07-07T17:06:37.913Z"
   },
   {
    "duration": 3,
    "start_time": "2021-07-07T17:06:37.962Z"
   },
   {
    "duration": 27,
    "start_time": "2021-07-07T17:06:37.967Z"
   },
   {
    "duration": 7,
    "start_time": "2021-07-07T17:06:37.996Z"
   },
   {
    "duration": 16,
    "start_time": "2021-07-07T17:06:38.005Z"
   },
   {
    "duration": 6,
    "start_time": "2021-07-07T17:06:38.024Z"
   },
   {
    "duration": 12,
    "start_time": "2021-07-07T17:06:38.031Z"
   },
   {
    "duration": 41,
    "start_time": "2021-07-07T17:06:38.045Z"
   },
   {
    "duration": 8,
    "start_time": "2021-07-07T17:06:38.088Z"
   },
   {
    "duration": 26,
    "start_time": "2021-07-07T17:06:38.098Z"
   },
   {
    "duration": 17,
    "start_time": "2021-07-07T17:06:38.126Z"
   },
   {
    "duration": 43,
    "start_time": "2021-07-07T17:06:38.144Z"
   },
   {
    "duration": 6,
    "start_time": "2021-07-07T17:06:38.188Z"
   },
   {
    "duration": 5,
    "start_time": "2021-07-07T17:06:38.195Z"
   },
   {
    "duration": 9,
    "start_time": "2021-07-07T17:06:38.201Z"
   },
   {
    "duration": 12,
    "start_time": "2021-07-07T17:06:38.212Z"
   },
   {
    "duration": 11,
    "start_time": "2021-07-07T17:06:38.226Z"
   },
   {
    "duration": 47,
    "start_time": "2021-07-07T17:06:38.239Z"
   },
   {
    "duration": 4,
    "start_time": "2021-07-07T17:06:38.288Z"
   },
   {
    "duration": 13,
    "start_time": "2021-07-07T17:06:38.293Z"
   },
   {
    "duration": 5,
    "start_time": "2021-07-07T17:06:38.309Z"
   },
   {
    "duration": 18,
    "start_time": "2021-07-07T17:06:38.325Z"
   },
   {
    "duration": 20,
    "start_time": "2021-07-07T17:07:02.805Z"
   },
   {
    "duration": 19,
    "start_time": "2021-07-07T17:07:08.527Z"
   },
   {
    "duration": 19,
    "start_time": "2021-07-07T17:07:12.758Z"
   },
   {
    "duration": 22,
    "start_time": "2021-07-07T17:07:17.497Z"
   },
   {
    "duration": 19,
    "start_time": "2021-07-07T17:07:19.645Z"
   },
   {
    "duration": 10,
    "start_time": "2021-07-07T17:07:34.239Z"
   },
   {
    "duration": 17,
    "start_time": "2021-07-07T17:07:54.144Z"
   },
   {
    "duration": 14,
    "start_time": "2021-07-07T17:08:14.357Z"
   },
   {
    "duration": 616,
    "start_time": "2021-07-07T17:08:45.254Z"
   },
   {
    "duration": 178,
    "start_time": "2021-07-07T17:08:45.872Z"
   },
   {
    "duration": 60,
    "start_time": "2021-07-07T17:08:46.054Z"
   },
   {
    "duration": 3,
    "start_time": "2021-07-07T17:08:46.116Z"
   },
   {
    "duration": 26,
    "start_time": "2021-07-07T17:08:46.121Z"
   },
   {
    "duration": 7,
    "start_time": "2021-07-07T17:08:46.149Z"
   },
   {
    "duration": 17,
    "start_time": "2021-07-07T17:08:46.158Z"
   },
   {
    "duration": 14,
    "start_time": "2021-07-07T17:08:46.176Z"
   },
   {
    "duration": 17,
    "start_time": "2021-07-07T17:08:46.193Z"
   },
   {
    "duration": 9,
    "start_time": "2021-07-07T17:08:46.211Z"
   },
   {
    "duration": 21,
    "start_time": "2021-07-07T17:08:46.221Z"
   },
   {
    "duration": 49,
    "start_time": "2021-07-07T17:08:46.244Z"
   },
   {
    "duration": 24,
    "start_time": "2021-07-07T17:08:46.295Z"
   },
   {
    "duration": 22,
    "start_time": "2021-07-07T17:08:46.321Z"
   },
   {
    "duration": 6,
    "start_time": "2021-07-07T17:08:46.345Z"
   },
   {
    "duration": 5,
    "start_time": "2021-07-07T17:08:46.353Z"
   },
   {
    "duration": 13,
    "start_time": "2021-07-07T17:08:46.386Z"
   },
   {
    "duration": 12,
    "start_time": "2021-07-07T17:08:46.402Z"
   },
   {
    "duration": 10,
    "start_time": "2021-07-07T17:08:46.415Z"
   },
   {
    "duration": 7,
    "start_time": "2021-07-07T17:08:46.427Z"
   },
   {
    "duration": 8,
    "start_time": "2021-07-07T17:08:46.435Z"
   },
   {
    "duration": 68,
    "start_time": "2021-07-07T17:08:46.446Z"
   },
   {
    "duration": 13,
    "start_time": "2021-07-07T17:08:46.516Z"
   },
   {
    "duration": 78,
    "start_time": "2021-07-07T17:08:46.530Z"
   },
   {
    "duration": 40,
    "start_time": "2021-07-07T17:09:08.185Z"
   },
   {
    "duration": 16,
    "start_time": "2021-07-07T17:09:19.324Z"
   },
   {
    "duration": 21,
    "start_time": "2021-07-07T17:09:23.290Z"
   },
   {
    "duration": 13,
    "start_time": "2021-07-07T17:09:54.812Z"
   },
   {
    "duration": 13,
    "start_time": "2021-07-07T17:10:02.039Z"
   },
   {
    "duration": 10,
    "start_time": "2021-07-07T17:10:29.632Z"
   },
   {
    "duration": 13,
    "start_time": "2021-07-07T17:10:52.372Z"
   },
   {
    "duration": 13,
    "start_time": "2021-07-07T17:11:17.270Z"
   },
   {
    "duration": 13,
    "start_time": "2021-07-07T17:14:59.284Z"
   },
   {
    "duration": 547,
    "start_time": "2021-07-07T17:18:52.403Z"
   },
   {
    "duration": 163,
    "start_time": "2021-07-07T17:18:52.952Z"
   },
   {
    "duration": 44,
    "start_time": "2021-07-07T17:18:53.117Z"
   },
   {
    "duration": 3,
    "start_time": "2021-07-07T17:18:53.162Z"
   },
   {
    "duration": 26,
    "start_time": "2021-07-07T17:18:53.167Z"
   },
   {
    "duration": 6,
    "start_time": "2021-07-07T17:18:53.195Z"
   },
   {
    "duration": 15,
    "start_time": "2021-07-07T17:18:53.203Z"
   },
   {
    "duration": 5,
    "start_time": "2021-07-07T17:18:53.220Z"
   },
   {
    "duration": 11,
    "start_time": "2021-07-07T17:18:53.228Z"
   },
   {
    "duration": 9,
    "start_time": "2021-07-07T17:18:53.241Z"
   },
   {
    "duration": 41,
    "start_time": "2021-07-07T17:18:53.252Z"
   },
   {
    "duration": 33,
    "start_time": "2021-07-07T17:18:53.295Z"
   },
   {
    "duration": 19,
    "start_time": "2021-07-07T17:18:53.330Z"
   },
   {
    "duration": 49,
    "start_time": "2021-07-07T17:18:53.350Z"
   },
   {
    "duration": 5,
    "start_time": "2021-07-07T17:18:53.401Z"
   },
   {
    "duration": 5,
    "start_time": "2021-07-07T17:18:53.408Z"
   },
   {
    "duration": 11,
    "start_time": "2021-07-07T17:18:53.414Z"
   },
   {
    "duration": 9,
    "start_time": "2021-07-07T17:18:53.427Z"
   },
   {
    "duration": 10,
    "start_time": "2021-07-07T17:18:53.437Z"
   },
   {
    "duration": 39,
    "start_time": "2021-07-07T17:18:53.448Z"
   },
   {
    "duration": 26,
    "start_time": "2021-07-07T17:18:55.799Z"
   },
   {
    "duration": 598,
    "start_time": "2021-07-07T17:20:17.862Z"
   },
   {
    "duration": 161,
    "start_time": "2021-07-07T17:20:18.462Z"
   },
   {
    "duration": 45,
    "start_time": "2021-07-07T17:20:18.626Z"
   },
   {
    "duration": 4,
    "start_time": "2021-07-07T17:20:18.673Z"
   },
   {
    "duration": 38,
    "start_time": "2021-07-07T17:20:26.877Z"
   },
   {
    "duration": 7,
    "start_time": "2021-07-07T17:20:37.405Z"
   },
   {
    "duration": 19,
    "start_time": "2021-07-07T17:20:51.534Z"
   },
   {
    "duration": 5,
    "start_time": "2021-07-07T17:20:57.228Z"
   },
   {
    "duration": 7,
    "start_time": "2021-07-07T17:21:08.235Z"
   },
   {
    "duration": 19,
    "start_time": "2021-07-07T17:21:42.158Z"
   },
   {
    "duration": 14,
    "start_time": "2021-07-07T17:21:50.225Z"
   },
   {
    "duration": 22,
    "start_time": "2021-07-07T17:22:54.104Z"
   },
   {
    "duration": 5,
    "start_time": "2021-07-07T17:22:56.371Z"
   },
   {
    "duration": 14,
    "start_time": "2021-07-07T17:22:58.316Z"
   },
   {
    "duration": 5,
    "start_time": "2021-07-07T17:22:58.493Z"
   },
   {
    "duration": 35,
    "start_time": "2021-07-07T17:22:59.666Z"
   },
   {
    "duration": 6,
    "start_time": "2021-07-07T17:23:02.410Z"
   },
   {
    "duration": 611,
    "start_time": "2021-07-07T17:24:59.664Z"
   },
   {
    "duration": 178,
    "start_time": "2021-07-07T17:25:01.945Z"
   },
   {
    "duration": 47,
    "start_time": "2021-07-07T17:25:02.125Z"
   },
   {
    "duration": 2,
    "start_time": "2021-07-07T17:25:07.903Z"
   },
   {
    "duration": 254,
    "start_time": "2021-07-07T17:25:08.232Z"
   },
   {
    "duration": 182,
    "start_time": "2021-07-07T17:25:08.671Z"
   },
   {
    "duration": 6,
    "start_time": "2021-07-07T17:25:13.104Z"
   },
   {
    "duration": 36,
    "start_time": "2021-07-07T17:25:13.662Z"
   },
   {
    "duration": 7,
    "start_time": "2021-07-07T17:25:14.528Z"
   },
   {
    "duration": 24,
    "start_time": "2021-07-07T17:25:27.982Z"
   },
   {
    "duration": 3,
    "start_time": "2021-07-07T17:25:48.982Z"
   },
   {
    "duration": 165,
    "start_time": "2021-07-07T17:25:48.987Z"
   },
   {
    "duration": 50,
    "start_time": "2021-07-07T17:25:49.154Z"
   },
   {
    "duration": 4,
    "start_time": "2021-07-07T17:25:49.206Z"
   },
   {
    "duration": 26,
    "start_time": "2021-07-07T17:25:49.212Z"
   },
   {
    "duration": 7,
    "start_time": "2021-07-07T17:25:49.240Z"
   },
   {
    "duration": 16,
    "start_time": "2021-07-07T17:25:49.249Z"
   },
   {
    "duration": 22,
    "start_time": "2021-07-07T17:25:49.266Z"
   },
   {
    "duration": 16,
    "start_time": "2021-07-07T17:25:49.291Z"
   },
   {
    "duration": 9,
    "start_time": "2021-07-07T17:25:49.309Z"
   },
   {
    "duration": 7,
    "start_time": "2021-07-07T17:25:49.319Z"
   },
   {
    "duration": 28,
    "start_time": "2021-07-07T17:25:49.328Z"
   },
   {
    "duration": 44,
    "start_time": "2021-07-07T17:25:49.357Z"
   },
   {
    "duration": 22,
    "start_time": "2021-07-07T17:25:49.403Z"
   },
   {
    "duration": 7,
    "start_time": "2021-07-07T17:25:49.427Z"
   },
   {
    "duration": 3,
    "start_time": "2021-07-07T17:25:49.436Z"
   },
   {
    "duration": 44,
    "start_time": "2021-07-07T17:25:49.441Z"
   },
   {
    "duration": 12,
    "start_time": "2021-07-07T17:25:49.488Z"
   },
   {
    "duration": 13,
    "start_time": "2021-07-07T17:25:49.502Z"
   },
   {
    "duration": 10,
    "start_time": "2021-07-07T17:25:49.516Z"
   },
   {
    "duration": 62,
    "start_time": "2021-07-07T17:25:49.527Z"
   },
   {
    "duration": 26,
    "start_time": "2021-07-07T17:26:51.809Z"
   },
   {
    "duration": 26,
    "start_time": "2021-07-07T17:26:55.759Z"
   },
   {
    "duration": 26,
    "start_time": "2021-07-07T17:27:04.501Z"
   },
   {
    "duration": 25,
    "start_time": "2021-07-07T17:28:24.859Z"
   },
   {
    "duration": 21,
    "start_time": "2021-07-07T17:28:55.250Z"
   },
   {
    "duration": 21,
    "start_time": "2021-07-07T17:28:58.885Z"
   },
   {
    "duration": 7,
    "start_time": "2021-07-07T17:45:40.972Z"
   },
   {
    "duration": 13,
    "start_time": "2021-07-07T17:45:42.529Z"
   },
   {
    "duration": 27,
    "start_time": "2021-07-07T17:45:51.026Z"
   },
   {
    "duration": 518,
    "start_time": "2021-07-07T17:46:15.532Z"
   },
   {
    "duration": 235,
    "start_time": "2021-07-07T17:46:16.053Z"
   },
   {
    "duration": 80,
    "start_time": "2021-07-07T17:46:16.292Z"
   },
   {
    "duration": 5,
    "start_time": "2021-07-07T17:46:16.373Z"
   },
   {
    "duration": 26,
    "start_time": "2021-07-07T17:46:16.380Z"
   },
   {
    "duration": 7,
    "start_time": "2021-07-07T17:46:16.408Z"
   },
   {
    "duration": 16,
    "start_time": "2021-07-07T17:46:16.418Z"
   },
   {
    "duration": 5,
    "start_time": "2021-07-07T17:46:16.436Z"
   },
   {
    "duration": 13,
    "start_time": "2021-07-07T17:46:16.442Z"
   },
   {
    "duration": 35,
    "start_time": "2021-07-07T17:46:16.456Z"
   },
   {
    "duration": 8,
    "start_time": "2021-07-07T17:46:16.493Z"
   },
   {
    "duration": 28,
    "start_time": "2021-07-07T17:46:16.502Z"
   },
   {
    "duration": 17,
    "start_time": "2021-07-07T17:46:16.532Z"
   },
   {
    "duration": 44,
    "start_time": "2021-07-07T17:46:16.551Z"
   },
   {
    "duration": 6,
    "start_time": "2021-07-07T17:46:16.597Z"
   },
   {
    "duration": 4,
    "start_time": "2021-07-07T17:46:16.605Z"
   },
   {
    "duration": 9,
    "start_time": "2021-07-07T17:46:16.610Z"
   },
   {
    "duration": 9,
    "start_time": "2021-07-07T17:46:16.621Z"
   },
   {
    "duration": 10,
    "start_time": "2021-07-07T17:46:16.632Z"
   },
   {
    "duration": 43,
    "start_time": "2021-07-07T17:46:16.644Z"
   },
   {
    "duration": 26,
    "start_time": "2021-07-07T17:46:16.689Z"
   },
   {
    "duration": 19,
    "start_time": "2021-07-07T17:46:16.718Z"
   },
   {
    "duration": 8,
    "start_time": "2021-07-07T17:46:16.738Z"
   },
   {
    "duration": 43,
    "start_time": "2021-07-07T17:46:16.747Z"
   },
   {
    "duration": 19,
    "start_time": "2021-07-07T17:46:16.791Z"
   },
   {
    "duration": 9,
    "start_time": "2021-07-07T17:46:16.812Z"
   },
   {
    "duration": 60,
    "start_time": "2021-07-07T17:46:16.822Z"
   },
   {
    "duration": -8,
    "start_time": "2021-07-07T17:46:16.892Z"
   },
   {
    "duration": 12,
    "start_time": "2021-07-07T17:48:47.707Z"
   },
   {
    "duration": 553,
    "start_time": "2021-07-07T18:10:09.350Z"
   },
   {
    "duration": 230,
    "start_time": "2021-07-07T18:10:09.905Z"
   },
   {
    "duration": 97,
    "start_time": "2021-07-07T18:10:10.137Z"
   },
   {
    "duration": 5,
    "start_time": "2021-07-07T18:10:10.236Z"
   },
   {
    "duration": 29,
    "start_time": "2021-07-07T18:10:10.242Z"
   },
   {
    "duration": 7,
    "start_time": "2021-07-07T18:10:10.272Z"
   },
   {
    "duration": 15,
    "start_time": "2021-07-07T18:10:10.281Z"
   },
   {
    "duration": 4,
    "start_time": "2021-07-07T18:10:10.299Z"
   },
   {
    "duration": 14,
    "start_time": "2021-07-07T18:10:10.305Z"
   },
   {
    "duration": 8,
    "start_time": "2021-07-07T18:10:10.321Z"
   },
   {
    "duration": 8,
    "start_time": "2021-07-07T18:10:10.331Z"
   },
   {
    "duration": 56,
    "start_time": "2021-07-07T18:10:10.341Z"
   },
   {
    "duration": 19,
    "start_time": "2021-07-07T18:10:10.399Z"
   },
   {
    "duration": 23,
    "start_time": "2021-07-07T18:10:10.419Z"
   },
   {
    "duration": 6,
    "start_time": "2021-07-07T18:10:10.444Z"
   },
   {
    "duration": 9,
    "start_time": "2021-07-07T18:10:10.451Z"
   },
   {
    "duration": 30,
    "start_time": "2021-07-07T18:10:10.462Z"
   },
   {
    "duration": 9,
    "start_time": "2021-07-07T18:10:10.494Z"
   },
   {
    "duration": 14,
    "start_time": "2021-07-07T18:10:10.505Z"
   },
   {
    "duration": 7,
    "start_time": "2021-07-07T18:10:10.521Z"
   },
   {
    "duration": 26,
    "start_time": "2021-07-07T18:10:10.530Z"
   },
   {
    "duration": 44,
    "start_time": "2021-07-07T18:10:10.558Z"
   },
   {
    "duration": 7,
    "start_time": "2021-07-07T18:10:10.605Z"
   },
   {
    "duration": 11,
    "start_time": "2021-07-07T18:10:10.614Z"
   },
   {
    "duration": 19,
    "start_time": "2021-07-07T18:10:10.626Z"
   },
   {
    "duration": 44,
    "start_time": "2021-07-07T18:10:10.646Z"
   },
   {
    "duration": 516,
    "start_time": "2021-07-07T18:14:00.826Z"
   },
   {
    "duration": 230,
    "start_time": "2021-07-07T18:14:01.344Z"
   },
   {
    "duration": 105,
    "start_time": "2021-07-07T18:14:01.576Z"
   },
   {
    "duration": 5,
    "start_time": "2021-07-07T18:14:01.683Z"
   },
   {
    "duration": 46,
    "start_time": "2021-07-07T18:14:01.690Z"
   },
   {
    "duration": 7,
    "start_time": "2021-07-07T18:14:01.738Z"
   },
   {
    "duration": 20,
    "start_time": "2021-07-07T18:14:01.747Z"
   },
   {
    "duration": 16,
    "start_time": "2021-07-07T18:14:01.769Z"
   },
   {
    "duration": 14,
    "start_time": "2021-07-07T18:14:01.787Z"
   },
   {
    "duration": 15,
    "start_time": "2021-07-07T18:14:01.803Z"
   },
   {
    "duration": 12,
    "start_time": "2021-07-07T18:14:01.820Z"
   },
   {
    "duration": 35,
    "start_time": "2021-07-07T18:14:01.833Z"
   },
   {
    "duration": 31,
    "start_time": "2021-07-07T18:14:01.869Z"
   },
   {
    "duration": 37,
    "start_time": "2021-07-07T18:14:01.902Z"
   },
   {
    "duration": 8,
    "start_time": "2021-07-07T18:14:01.942Z"
   },
   {
    "duration": 16,
    "start_time": "2021-07-07T18:14:01.952Z"
   },
   {
    "duration": 13,
    "start_time": "2021-07-07T18:14:01.970Z"
   },
   {
    "duration": 32,
    "start_time": "2021-07-07T18:14:01.985Z"
   },
   {
    "duration": 11,
    "start_time": "2021-07-07T18:14:02.019Z"
   },
   {
    "duration": 22,
    "start_time": "2021-07-07T18:14:02.031Z"
   },
   {
    "duration": 27,
    "start_time": "2021-07-07T18:14:02.055Z"
   },
   {
    "duration": 18,
    "start_time": "2021-07-07T18:14:02.084Z"
   },
   {
    "duration": 18,
    "start_time": "2021-07-07T18:14:02.106Z"
   },
   {
    "duration": 11,
    "start_time": "2021-07-07T18:14:02.126Z"
   },
   {
    "duration": 21,
    "start_time": "2021-07-07T18:14:02.138Z"
   },
   {
    "duration": 32,
    "start_time": "2021-07-07T18:14:02.161Z"
   },
   {
    "duration": 28,
    "start_time": "2021-07-07T18:14:44.295Z"
   },
   {
    "duration": 6,
    "start_time": "2021-07-07T18:15:05.834Z"
   },
   {
    "duration": 511,
    "start_time": "2021-07-07T18:15:41.541Z"
   },
   {
    "duration": 183,
    "start_time": "2021-07-07T18:15:42.054Z"
   },
   {
    "duration": 50,
    "start_time": "2021-07-07T18:15:42.239Z"
   },
   {
    "duration": 5,
    "start_time": "2021-07-07T18:15:42.291Z"
   },
   {
    "duration": 48,
    "start_time": "2021-07-07T18:15:42.297Z"
   },
   {
    "duration": 8,
    "start_time": "2021-07-07T18:15:42.346Z"
   },
   {
    "duration": 17,
    "start_time": "2021-07-07T18:15:42.356Z"
   },
   {
    "duration": 15,
    "start_time": "2021-07-07T18:15:42.375Z"
   },
   {
    "duration": 12,
    "start_time": "2021-07-07T18:15:42.392Z"
   },
   {
    "duration": 7,
    "start_time": "2021-07-07T18:15:42.406Z"
   },
   {
    "duration": 7,
    "start_time": "2021-07-07T18:15:42.415Z"
   },
   {
    "duration": 29,
    "start_time": "2021-07-07T18:15:42.423Z"
   },
   {
    "duration": 43,
    "start_time": "2021-07-07T18:15:42.453Z"
   },
   {
    "duration": 18,
    "start_time": "2021-07-07T18:15:42.497Z"
   },
   {
    "duration": 6,
    "start_time": "2021-07-07T18:15:42.516Z"
   },
   {
    "duration": 3,
    "start_time": "2021-07-07T18:15:42.523Z"
   },
   {
    "duration": 18,
    "start_time": "2021-07-07T18:15:42.528Z"
   },
   {
    "duration": 10,
    "start_time": "2021-07-07T18:15:42.547Z"
   },
   {
    "duration": 36,
    "start_time": "2021-07-07T18:15:42.559Z"
   },
   {
    "duration": 8,
    "start_time": "2021-07-07T18:15:42.597Z"
   },
   {
    "duration": 28,
    "start_time": "2021-07-07T18:15:42.606Z"
   },
   {
    "duration": 52,
    "start_time": "2021-07-07T18:15:42.635Z"
   },
   {
    "duration": 7,
    "start_time": "2021-07-07T18:15:42.690Z"
   },
   {
    "duration": 10,
    "start_time": "2021-07-07T18:15:42.699Z"
   },
   {
    "duration": 19,
    "start_time": "2021-07-07T18:15:42.711Z"
   },
   {
    "duration": 9,
    "start_time": "2021-07-07T18:15:42.732Z"
   },
   {
    "duration": 5,
    "start_time": "2021-07-07T18:15:42.743Z"
   },
   {
    "duration": 1450,
    "start_time": "2021-07-07T18:15:51.984Z"
   },
   {
    "duration": 161,
    "start_time": "2021-07-07T18:15:53.435Z"
   },
   {
    "duration": 124,
    "start_time": "2021-07-07T18:15:53.598Z"
   },
   {
    "duration": 5,
    "start_time": "2021-07-07T18:15:53.724Z"
   },
   {
    "duration": 34,
    "start_time": "2021-07-07T18:15:53.730Z"
   },
   {
    "duration": 7,
    "start_time": "2021-07-07T18:15:53.765Z"
   },
   {
    "duration": 15,
    "start_time": "2021-07-07T18:15:53.773Z"
   },
   {
    "duration": 5,
    "start_time": "2021-07-07T18:15:53.791Z"
   },
   {
    "duration": 19,
    "start_time": "2021-07-07T18:15:53.798Z"
   },
   {
    "duration": 9,
    "start_time": "2021-07-07T18:15:53.818Z"
   },
   {
    "duration": 19,
    "start_time": "2021-07-07T18:15:53.828Z"
   },
   {
    "duration": 27,
    "start_time": "2021-07-07T18:15:53.848Z"
   },
   {
    "duration": 16,
    "start_time": "2021-07-07T18:15:53.884Z"
   },
   {
    "duration": 29,
    "start_time": "2021-07-07T18:15:53.901Z"
   },
   {
    "duration": 5,
    "start_time": "2021-07-07T18:15:53.932Z"
   },
   {
    "duration": 15,
    "start_time": "2021-07-07T18:15:53.939Z"
   },
   {
    "duration": 13,
    "start_time": "2021-07-07T18:15:53.956Z"
   },
   {
    "duration": 20,
    "start_time": "2021-07-07T18:15:53.971Z"
   },
   {
    "duration": 14,
    "start_time": "2021-07-07T18:15:53.992Z"
   },
   {
    "duration": 9,
    "start_time": "2021-07-07T18:15:54.009Z"
   },
   {
    "duration": 28,
    "start_time": "2021-07-07T18:15:54.020Z"
   },
   {
    "duration": 50,
    "start_time": "2021-07-07T18:15:54.051Z"
   },
   {
    "duration": 8,
    "start_time": "2021-07-07T18:15:54.105Z"
   },
   {
    "duration": 11,
    "start_time": "2021-07-07T18:15:54.115Z"
   },
   {
    "duration": 20,
    "start_time": "2021-07-07T18:15:54.128Z"
   },
   {
    "duration": 13,
    "start_time": "2021-07-07T18:15:54.184Z"
   },
   {
    "duration": 7,
    "start_time": "2021-07-07T18:15:54.199Z"
   },
   {
    "duration": 7,
    "start_time": "2021-07-07T18:17:08.042Z"
   },
   {
    "duration": 8,
    "start_time": "2021-07-07T18:17:21.008Z"
   },
   {
    "duration": 7,
    "start_time": "2021-07-07T18:17:29.003Z"
   },
   {
    "duration": 8,
    "start_time": "2021-07-07T18:17:32.492Z"
   },
   {
    "duration": 9,
    "start_time": "2021-07-07T18:17:41.758Z"
   },
   {
    "duration": 255,
    "start_time": "2021-07-07T18:20:20.897Z"
   },
   {
    "duration": 173,
    "start_time": "2021-07-07T18:20:26.636Z"
   },
   {
    "duration": 7,
    "start_time": "2021-07-07T18:21:47.164Z"
   },
   {
    "duration": 254,
    "start_time": "2021-07-07T18:23:08.703Z"
   },
   {
    "duration": 21,
    "start_time": "2021-07-07T18:23:22.506Z"
   },
   {
    "duration": 315,
    "start_time": "2021-07-07T18:25:54.801Z"
   },
   {
    "duration": 34,
    "start_time": "2021-07-07T18:26:51.817Z"
   },
   {
    "duration": 327,
    "start_time": "2021-07-07T18:26:56.147Z"
   },
   {
    "duration": 342,
    "start_time": "2021-07-07T18:27:15.887Z"
   },
   {
    "duration": 302,
    "start_time": "2021-07-07T18:28:18.569Z"
   },
   {
    "duration": 226,
    "start_time": "2021-07-07T18:29:20.879Z"
   },
   {
    "duration": 207,
    "start_time": "2021-07-07T18:29:58.114Z"
   },
   {
    "duration": 140,
    "start_time": "2021-07-07T18:32:04.372Z"
   },
   {
    "duration": 158,
    "start_time": "2021-07-07T18:32:32.508Z"
   },
   {
    "duration": 145,
    "start_time": "2021-07-07T18:32:41.365Z"
   },
   {
    "duration": 132,
    "start_time": "2021-07-07T18:32:45.199Z"
   },
   {
    "duration": 11,
    "start_time": "2021-07-07T18:35:24.679Z"
   },
   {
    "duration": 268,
    "start_time": "2021-07-07T18:36:16.145Z"
   },
   {
    "duration": 227,
    "start_time": "2021-07-07T18:37:04.918Z"
   },
   {
    "duration": 3,
    "start_time": "2021-07-07T18:37:33.012Z"
   },
   {
    "duration": 671,
    "start_time": "2021-07-07T18:37:38.295Z"
   },
   {
    "duration": 54,
    "start_time": "2021-07-07T18:37:53.406Z"
   },
   {
    "duration": 631,
    "start_time": "2021-07-07T18:37:56.463Z"
   },
   {
    "duration": 19,
    "start_time": "2021-07-07T18:39:40.535Z"
   },
   {
    "duration": 20,
    "start_time": "2021-07-07T18:40:12.236Z"
   },
   {
    "duration": 633,
    "start_time": "2021-07-07T18:42:00.398Z"
   },
   {
    "duration": 218,
    "start_time": "2021-07-07T18:42:01.033Z"
   },
   {
    "duration": 49,
    "start_time": "2021-07-07T18:42:01.253Z"
   },
   {
    "duration": 5,
    "start_time": "2021-07-07T18:42:01.303Z"
   },
   {
    "duration": 27,
    "start_time": "2021-07-07T18:42:01.310Z"
   },
   {
    "duration": 8,
    "start_time": "2021-07-07T18:42:01.339Z"
   },
   {
    "duration": 20,
    "start_time": "2021-07-07T18:42:01.348Z"
   },
   {
    "duration": 6,
    "start_time": "2021-07-07T18:42:01.386Z"
   },
   {
    "duration": 16,
    "start_time": "2021-07-07T18:42:01.394Z"
   },
   {
    "duration": 9,
    "start_time": "2021-07-07T18:42:01.411Z"
   },
   {
    "duration": 11,
    "start_time": "2021-07-07T18:42:01.421Z"
   },
   {
    "duration": 31,
    "start_time": "2021-07-07T18:42:01.434Z"
   },
   {
    "duration": 18,
    "start_time": "2021-07-07T18:42:01.485Z"
   },
   {
    "duration": 23,
    "start_time": "2021-07-07T18:42:01.505Z"
   },
   {
    "duration": 6,
    "start_time": "2021-07-07T18:42:01.530Z"
   },
   {
    "duration": 10,
    "start_time": "2021-07-07T18:42:01.538Z"
   },
   {
    "duration": 13,
    "start_time": "2021-07-07T18:42:01.550Z"
   },
   {
    "duration": 24,
    "start_time": "2021-07-07T18:42:01.564Z"
   },
   {
    "duration": 20,
    "start_time": "2021-07-07T18:42:01.590Z"
   },
   {
    "duration": 8,
    "start_time": "2021-07-07T18:42:01.611Z"
   },
   {
    "duration": 31,
    "start_time": "2021-07-07T18:42:01.620Z"
   },
   {
    "duration": 39,
    "start_time": "2021-07-07T18:42:01.653Z"
   },
   {
    "duration": 8,
    "start_time": "2021-07-07T18:42:01.696Z"
   },
   {
    "duration": 13,
    "start_time": "2021-07-07T18:42:01.705Z"
   },
   {
    "duration": 20,
    "start_time": "2021-07-07T18:42:01.720Z"
   },
   {
    "duration": 12,
    "start_time": "2021-07-07T18:42:01.741Z"
   },
   {
    "duration": 35,
    "start_time": "2021-07-07T18:42:01.755Z"
   },
   {
    "duration": 14,
    "start_time": "2021-07-07T18:42:01.792Z"
   },
   {
    "duration": 188,
    "start_time": "2021-07-07T18:42:01.808Z"
   },
   {
    "duration": 19,
    "start_time": "2021-07-07T18:42:01.998Z"
   },
   {
    "duration": 175,
    "start_time": "2021-07-07T18:42:02.019Z"
   },
   {
    "duration": 134,
    "start_time": "2021-07-07T18:42:02.196Z"
   },
   {
    "duration": 10,
    "start_time": "2021-07-07T18:42:02.331Z"
   },
   {
    "duration": 19,
    "start_time": "2021-07-07T18:42:02.343Z"
   },
   {
    "duration": 628,
    "start_time": "2021-07-07T18:46:30.701Z"
   },
   {
    "duration": 183,
    "start_time": "2021-07-07T18:46:31.331Z"
   },
   {
    "duration": 48,
    "start_time": "2021-07-07T18:46:31.516Z"
   },
   {
    "duration": 5,
    "start_time": "2021-07-07T18:46:31.566Z"
   },
   {
    "duration": 28,
    "start_time": "2021-07-07T18:46:31.572Z"
   },
   {
    "duration": 8,
    "start_time": "2021-07-07T18:46:31.602Z"
   },
   {
    "duration": 19,
    "start_time": "2021-07-07T18:46:31.611Z"
   },
   {
    "duration": 6,
    "start_time": "2021-07-07T18:46:31.633Z"
   },
   {
    "duration": 17,
    "start_time": "2021-07-07T18:46:31.642Z"
   },
   {
    "duration": 10,
    "start_time": "2021-07-07T18:46:31.684Z"
   },
   {
    "duration": 9,
    "start_time": "2021-07-07T18:46:31.695Z"
   },
   {
    "duration": 28,
    "start_time": "2021-07-07T18:46:31.705Z"
   },
   {
    "duration": 18,
    "start_time": "2021-07-07T18:46:31.735Z"
   },
   {
    "duration": 48,
    "start_time": "2021-07-07T18:46:31.755Z"
   },
   {
    "duration": 6,
    "start_time": "2021-07-07T18:46:31.804Z"
   },
   {
    "duration": 4,
    "start_time": "2021-07-07T18:46:31.812Z"
   },
   {
    "duration": 9,
    "start_time": "2021-07-07T18:46:31.817Z"
   },
   {
    "duration": 10,
    "start_time": "2021-07-07T18:46:31.827Z"
   },
   {
    "duration": 12,
    "start_time": "2021-07-07T18:46:31.838Z"
   },
   {
    "duration": 39,
    "start_time": "2021-07-07T18:46:31.851Z"
   },
   {
    "duration": 24,
    "start_time": "2021-07-07T18:46:31.892Z"
   },
   {
    "duration": 15,
    "start_time": "2021-07-07T18:46:31.918Z"
   },
   {
    "duration": 7,
    "start_time": "2021-07-07T18:46:31.936Z"
   },
   {
    "duration": 8,
    "start_time": "2021-07-07T18:46:31.944Z"
   },
   {
    "duration": 19,
    "start_time": "2021-07-07T18:46:31.984Z"
   },
   {
    "duration": 10,
    "start_time": "2021-07-07T18:46:32.004Z"
   },
   {
    "duration": 5,
    "start_time": "2021-07-07T18:46:32.016Z"
   },
   {
    "duration": 9,
    "start_time": "2021-07-07T18:46:32.023Z"
   },
   {
    "duration": 199,
    "start_time": "2021-07-07T18:46:32.033Z"
   },
   {
    "duration": 19,
    "start_time": "2021-07-07T18:46:32.234Z"
   },
   {
    "duration": 159,
    "start_time": "2021-07-07T18:46:32.255Z"
   },
   {
    "duration": 134,
    "start_time": "2021-07-07T18:46:32.416Z"
   },
   {
    "duration": 10,
    "start_time": "2021-07-07T18:46:32.552Z"
   },
   {
    "duration": 34,
    "start_time": "2021-07-07T18:46:32.563Z"
   },
   {
    "duration": 1039,
    "start_time": "2021-07-08T08:41:09.419Z"
   },
   {
    "duration": 333,
    "start_time": "2021-07-08T08:41:10.459Z"
   },
   {
    "duration": 173,
    "start_time": "2021-07-08T08:41:10.794Z"
   },
   {
    "duration": 5,
    "start_time": "2021-07-08T08:41:10.968Z"
   },
   {
    "duration": 25,
    "start_time": "2021-07-08T08:41:10.975Z"
   },
   {
    "duration": 9,
    "start_time": "2021-07-08T08:41:11.002Z"
   },
   {
    "duration": 18,
    "start_time": "2021-07-08T08:41:11.013Z"
   },
   {
    "duration": 6,
    "start_time": "2021-07-08T08:41:11.033Z"
   },
   {
    "duration": 44,
    "start_time": "2021-07-08T08:41:11.042Z"
   },
   {
    "duration": 10,
    "start_time": "2021-07-08T08:41:11.088Z"
   },
   {
    "duration": 9,
    "start_time": "2021-07-08T08:41:11.100Z"
   },
   {
    "duration": 27,
    "start_time": "2021-07-08T08:41:11.111Z"
   },
   {
    "duration": 46,
    "start_time": "2021-07-08T08:41:11.140Z"
   },
   {
    "duration": 17,
    "start_time": "2021-07-08T08:41:11.187Z"
   },
   {
    "duration": 6,
    "start_time": "2021-07-08T08:41:11.206Z"
   },
   {
    "duration": 5,
    "start_time": "2021-07-08T08:41:11.213Z"
   },
   {
    "duration": 10,
    "start_time": "2021-07-08T08:41:11.219Z"
   },
   {
    "duration": 9,
    "start_time": "2021-07-08T08:41:11.230Z"
   },
   {
    "duration": 45,
    "start_time": "2021-07-08T08:41:11.241Z"
   },
   {
    "duration": 7,
    "start_time": "2021-07-08T08:41:11.287Z"
   },
   {
    "duration": 24,
    "start_time": "2021-07-08T08:41:11.296Z"
   },
   {
    "duration": 16,
    "start_time": "2021-07-08T08:41:11.322Z"
   },
   {
    "duration": 7,
    "start_time": "2021-07-08T08:41:11.341Z"
   },
   {
    "duration": 41,
    "start_time": "2021-07-08T08:41:11.349Z"
   },
   {
    "duration": 17,
    "start_time": "2021-07-08T08:41:11.391Z"
   },
   {
    "duration": 9,
    "start_time": "2021-07-08T08:41:11.410Z"
   },
   {
    "duration": 5,
    "start_time": "2021-07-08T08:41:11.421Z"
   },
   {
    "duration": 6,
    "start_time": "2021-07-08T08:41:11.428Z"
   },
   {
    "duration": 198,
    "start_time": "2021-07-08T08:41:11.435Z"
   },
   {
    "duration": 18,
    "start_time": "2021-07-08T08:41:11.635Z"
   },
   {
    "duration": 155,
    "start_time": "2021-07-08T08:41:11.655Z"
   },
   {
    "duration": 138,
    "start_time": "2021-07-08T08:41:11.811Z"
   },
   {
    "duration": 10,
    "start_time": "2021-07-08T08:41:11.950Z"
   },
   {
    "duration": 29,
    "start_time": "2021-07-08T08:41:11.961Z"
   },
   {
    "duration": 171,
    "start_time": "2021-07-08T08:47:44.522Z"
   },
   {
    "duration": 124,
    "start_time": "2021-07-08T08:47:46.872Z"
   },
   {
    "duration": 191,
    "start_time": "2021-07-08T08:47:58.148Z"
   },
   {
    "duration": 191,
    "start_time": "2021-07-08T08:48:07.412Z"
   },
   {
    "duration": 261,
    "start_time": "2021-07-08T08:48:10.385Z"
   },
   {
    "duration": 255,
    "start_time": "2021-07-08T08:48:14.494Z"
   },
   {
    "duration": 219,
    "start_time": "2021-07-08T08:48:22.752Z"
   },
   {
    "duration": 173,
    "start_time": "2021-07-08T08:49:06.395Z"
   },
   {
    "duration": 180,
    "start_time": "2021-07-08T08:49:21.011Z"
   },
   {
    "duration": 6,
    "start_time": "2021-07-08T08:50:31.697Z"
   },
   {
    "duration": 10,
    "start_time": "2021-07-08T08:50:47.394Z"
   },
   {
    "duration": 11,
    "start_time": "2021-07-08T08:53:49.332Z"
   },
   {
    "duration": 171,
    "start_time": "2021-07-08T08:54:28.408Z"
   },
   {
    "duration": 636,
    "start_time": "2021-07-08T09:02:48.385Z"
   },
   {
    "duration": 227,
    "start_time": "2021-07-08T09:02:49.023Z"
   },
   {
    "duration": 104,
    "start_time": "2021-07-08T09:02:49.252Z"
   },
   {
    "duration": 5,
    "start_time": "2021-07-08T09:02:49.358Z"
   },
   {
    "duration": 27,
    "start_time": "2021-07-08T09:02:49.365Z"
   },
   {
    "duration": 8,
    "start_time": "2021-07-08T09:02:49.394Z"
   },
   {
    "duration": 18,
    "start_time": "2021-07-08T09:02:49.404Z"
   },
   {
    "duration": 6,
    "start_time": "2021-07-08T09:02:49.424Z"
   },
   {
    "duration": 11,
    "start_time": "2021-07-08T09:02:49.433Z"
   },
   {
    "duration": 13,
    "start_time": "2021-07-08T09:02:49.485Z"
   },
   {
    "duration": 9,
    "start_time": "2021-07-08T09:02:49.500Z"
   },
   {
    "duration": 38,
    "start_time": "2021-07-08T09:02:49.511Z"
   },
   {
    "duration": 42,
    "start_time": "2021-07-08T09:02:49.551Z"
   },
   {
    "duration": 21,
    "start_time": "2021-07-08T09:02:49.594Z"
   },
   {
    "duration": 6,
    "start_time": "2021-07-08T09:02:49.616Z"
   },
   {
    "duration": 3,
    "start_time": "2021-07-08T09:02:49.623Z"
   },
   {
    "duration": 9,
    "start_time": "2021-07-08T09:02:49.628Z"
   },
   {
    "duration": 52,
    "start_time": "2021-07-08T09:02:49.638Z"
   },
   {
    "duration": 11,
    "start_time": "2021-07-08T09:02:49.692Z"
   },
   {
    "duration": 8,
    "start_time": "2021-07-08T09:02:49.704Z"
   },
   {
    "duration": 27,
    "start_time": "2021-07-08T09:02:49.713Z"
   },
   {
    "duration": 59,
    "start_time": "2021-07-08T09:02:49.741Z"
   },
   {
    "duration": 8,
    "start_time": "2021-07-08T09:02:49.803Z"
   },
   {
    "duration": 14,
    "start_time": "2021-07-08T09:02:49.813Z"
   },
   {
    "duration": 20,
    "start_time": "2021-07-08T09:02:49.829Z"
   },
   {
    "duration": 44,
    "start_time": "2021-07-08T09:02:49.851Z"
   },
   {
    "duration": 14,
    "start_time": "2021-07-08T09:02:49.896Z"
   },
   {
    "duration": 221,
    "start_time": "2021-07-08T09:02:49.912Z"
   },
   {
    "duration": 6,
    "start_time": "2021-07-08T09:02:50.134Z"
   },
   {
    "duration": 206,
    "start_time": "2021-07-08T09:02:50.142Z"
   },
   {
    "duration": 19,
    "start_time": "2021-07-08T09:02:50.350Z"
   },
   {
    "duration": 21,
    "start_time": "2021-07-08T09:02:50.370Z"
   },
   {
    "duration": 20,
    "start_time": "2021-07-08T09:02:50.393Z"
   },
   {
    "duration": 5,
    "start_time": "2021-07-08T09:02:50.414Z"
   },
   {
    "duration": 5,
    "start_time": "2021-07-08T09:03:34.173Z"
   },
   {
    "duration": 6,
    "start_time": "2021-07-08T09:04:49.062Z"
   },
   {
    "duration": 9,
    "start_time": "2021-07-08T09:04:50.118Z"
   },
   {
    "duration": 14,
    "start_time": "2021-07-08T09:04:58.512Z"
   },
   {
    "duration": 9,
    "start_time": "2021-07-08T09:05:10.988Z"
   },
   {
    "duration": 11,
    "start_time": "2021-07-08T09:05:11.743Z"
   },
   {
    "duration": 7,
    "start_time": "2021-07-08T09:05:25.677Z"
   },
   {
    "duration": 13,
    "start_time": "2021-07-08T09:05:47.189Z"
   },
   {
    "duration": 13,
    "start_time": "2021-07-08T09:05:54.755Z"
   },
   {
    "duration": 4,
    "start_time": "2021-07-08T09:06:29.189Z"
   },
   {
    "duration": 244,
    "start_time": "2021-07-08T09:06:29.195Z"
   },
   {
    "duration": 91,
    "start_time": "2021-07-08T09:06:29.441Z"
   },
   {
    "duration": 4,
    "start_time": "2021-07-08T09:06:29.534Z"
   },
   {
    "duration": 28,
    "start_time": "2021-07-08T09:06:29.540Z"
   },
   {
    "duration": 6,
    "start_time": "2021-07-08T09:06:29.570Z"
   },
   {
    "duration": 18,
    "start_time": "2021-07-08T09:06:29.578Z"
   },
   {
    "duration": 5,
    "start_time": "2021-07-08T09:06:29.597Z"
   },
   {
    "duration": 13,
    "start_time": "2021-07-08T09:06:29.605Z"
   },
   {
    "duration": 8,
    "start_time": "2021-07-08T09:06:29.620Z"
   },
   {
    "duration": 7,
    "start_time": "2021-07-08T09:06:29.630Z"
   },
   {
    "duration": 63,
    "start_time": "2021-07-08T09:06:29.639Z"
   },
   {
    "duration": 17,
    "start_time": "2021-07-08T09:06:29.704Z"
   },
   {
    "duration": 20,
    "start_time": "2021-07-08T09:06:29.723Z"
   },
   {
    "duration": 6,
    "start_time": "2021-07-08T09:06:29.745Z"
   },
   {
    "duration": 3,
    "start_time": "2021-07-08T09:06:29.752Z"
   },
   {
    "duration": 7,
    "start_time": "2021-07-08T09:06:29.785Z"
   },
   {
    "duration": 11,
    "start_time": "2021-07-08T09:06:29.794Z"
   },
   {
    "duration": 15,
    "start_time": "2021-07-08T09:06:29.807Z"
   },
   {
    "duration": 8,
    "start_time": "2021-07-08T09:06:29.823Z"
   },
   {
    "duration": 70,
    "start_time": "2021-07-08T09:06:29.832Z"
   },
   {
    "duration": 17,
    "start_time": "2021-07-08T09:06:29.903Z"
   },
   {
    "duration": 9,
    "start_time": "2021-07-08T09:06:29.921Z"
   },
   {
    "duration": 9,
    "start_time": "2021-07-08T09:06:29.932Z"
   },
   {
    "duration": 57,
    "start_time": "2021-07-08T09:06:29.942Z"
   },
   {
    "duration": 11,
    "start_time": "2021-07-08T09:06:30.001Z"
   },
   {
    "duration": 19,
    "start_time": "2021-07-08T09:06:30.016Z"
   },
   {
    "duration": 217,
    "start_time": "2021-07-08T09:06:30.037Z"
   },
   {
    "duration": 6,
    "start_time": "2021-07-08T09:06:30.255Z"
   },
   {
    "duration": 205,
    "start_time": "2021-07-08T09:06:30.263Z"
   },
   {
    "duration": 27,
    "start_time": "2021-07-08T09:06:30.470Z"
   },
   {
    "duration": 11,
    "start_time": "2021-07-08T09:06:30.500Z"
   },
   {
    "duration": 31,
    "start_time": "2021-07-08T09:06:30.513Z"
   },
   {
    "duration": 18,
    "start_time": "2021-07-08T09:06:30.546Z"
   },
   {
    "duration": 11,
    "start_time": "2021-07-08T09:06:30.566Z"
   },
   {
    "duration": 19,
    "start_time": "2021-07-08T09:06:30.579Z"
   },
   {
    "duration": 20,
    "start_time": "2021-07-08T09:06:49.466Z"
   },
   {
    "duration": 9,
    "start_time": "2021-07-08T09:06:51.994Z"
   },
   {
    "duration": 20,
    "start_time": "2021-07-08T09:06:52.273Z"
   },
   {
    "duration": 246,
    "start_time": "2021-07-08T09:10:21.272Z"
   },
   {
    "duration": 84,
    "start_time": "2021-07-08T09:10:21.436Z"
   },
   {
    "duration": 7,
    "start_time": "2021-07-08T09:10:37.608Z"
   },
   {
    "duration": 189,
    "start_time": "2021-07-08T09:10:38.573Z"
   },
   {
    "duration": 185,
    "start_time": "2021-07-08T09:10:53.181Z"
   },
   {
    "duration": 11,
    "start_time": "2021-07-08T09:10:59.549Z"
   },
   {
    "duration": 42,
    "start_time": "2021-07-08T09:10:59.709Z"
   },
   {
    "duration": 12,
    "start_time": "2021-07-08T09:11:02.857Z"
   },
   {
    "duration": 28,
    "start_time": "2021-07-08T09:11:10.062Z"
   },
   {
    "duration": 249,
    "start_time": "2021-07-08T09:11:37.388Z"
   },
   {
    "duration": 232,
    "start_time": "2021-07-08T09:11:49.485Z"
   },
   {
    "duration": 453,
    "start_time": "2021-07-08T09:12:01.546Z"
   },
   {
    "duration": 440,
    "start_time": "2021-07-08T09:12:12.347Z"
   },
   {
    "duration": 213,
    "start_time": "2021-07-08T09:13:32.196Z"
   },
   {
    "duration": 172,
    "start_time": "2021-07-08T09:14:07.400Z"
   },
   {
    "duration": 185,
    "start_time": "2021-07-08T09:14:14.905Z"
   },
   {
    "duration": 209,
    "start_time": "2021-07-08T09:14:40.109Z"
   },
   {
    "duration": 201,
    "start_time": "2021-07-08T09:14:54.506Z"
   },
   {
    "duration": 622,
    "start_time": "2021-07-08T09:18:14.497Z"
   },
   {
    "duration": 220,
    "start_time": "2021-07-08T09:18:15.121Z"
   },
   {
    "duration": 79,
    "start_time": "2021-07-08T09:18:15.343Z"
   },
   {
    "duration": 4,
    "start_time": "2021-07-08T09:18:15.425Z"
   },
   {
    "duration": 24,
    "start_time": "2021-07-08T09:18:15.431Z"
   },
   {
    "duration": 8,
    "start_time": "2021-07-08T09:18:15.457Z"
   },
   {
    "duration": 16,
    "start_time": "2021-07-08T09:18:15.466Z"
   },
   {
    "duration": 5,
    "start_time": "2021-07-08T09:18:15.484Z"
   },
   {
    "duration": 10,
    "start_time": "2021-07-08T09:18:15.493Z"
   },
   {
    "duration": 8,
    "start_time": "2021-07-08T09:18:15.504Z"
   },
   {
    "duration": 7,
    "start_time": "2021-07-08T09:18:15.513Z"
   },
   {
    "duration": 26,
    "start_time": "2021-07-08T09:18:15.522Z"
   },
   {
    "duration": 49,
    "start_time": "2021-07-08T09:18:15.550Z"
   },
   {
    "duration": 21,
    "start_time": "2021-07-08T09:18:15.601Z"
   },
   {
    "duration": 8,
    "start_time": "2021-07-08T09:18:15.624Z"
   },
   {
    "duration": 3,
    "start_time": "2021-07-08T09:18:15.634Z"
   },
   {
    "duration": 8,
    "start_time": "2021-07-08T09:18:15.639Z"
   },
   {
    "duration": 45,
    "start_time": "2021-07-08T09:18:15.649Z"
   },
   {
    "duration": 13,
    "start_time": "2021-07-08T09:18:15.696Z"
   },
   {
    "duration": 10,
    "start_time": "2021-07-08T09:18:15.711Z"
   },
   {
    "duration": 64,
    "start_time": "2021-07-08T09:18:15.722Z"
   },
   {
    "duration": 19,
    "start_time": "2021-07-08T09:18:15.788Z"
   },
   {
    "duration": 9,
    "start_time": "2021-07-08T09:18:15.809Z"
   },
   {
    "duration": 9,
    "start_time": "2021-07-08T09:18:15.820Z"
   },
   {
    "duration": 18,
    "start_time": "2021-07-08T09:18:15.831Z"
   },
   {
    "duration": 43,
    "start_time": "2021-07-08T09:18:15.851Z"
   },
   {
    "duration": 12,
    "start_time": "2021-07-08T09:18:15.897Z"
   },
   {
    "duration": 219,
    "start_time": "2021-07-08T09:18:15.911Z"
   },
   {
    "duration": 8,
    "start_time": "2021-07-08T09:18:16.132Z"
   },
   {
    "duration": 199,
    "start_time": "2021-07-08T09:18:16.141Z"
   },
   {
    "duration": 18,
    "start_time": "2021-07-08T09:18:16.341Z"
   },
   {
    "duration": 24,
    "start_time": "2021-07-08T09:18:16.361Z"
   },
   {
    "duration": 24,
    "start_time": "2021-07-08T09:18:16.387Z"
   },
   {
    "duration": 211,
    "start_time": "2021-07-08T09:18:16.413Z"
   },
   {
    "duration": 18,
    "start_time": "2021-07-08T09:18:16.626Z"
   },
   {
    "duration": 596,
    "start_time": "2021-07-08T10:06:33.623Z"
   },
   {
    "duration": 181,
    "start_time": "2021-07-08T10:06:34.221Z"
   },
   {
    "duration": 176,
    "start_time": "2021-07-08T10:06:34.635Z"
   },
   {
    "duration": 239,
    "start_time": "2021-07-08T10:06:55.572Z"
   },
   {
    "duration": 6,
    "start_time": "2021-07-08T10:06:57.687Z"
   },
   {
    "duration": 4,
    "start_time": "2021-07-08T10:07:03.956Z"
   },
   {
    "duration": 4,
    "start_time": "2021-07-08T10:07:10.376Z"
   },
   {
    "duration": 4,
    "start_time": "2021-07-08T10:17:19.889Z"
   },
   {
    "duration": 3,
    "start_time": "2021-07-08T10:19:19.407Z"
   },
   {
    "duration": 197,
    "start_time": "2021-07-08T10:19:19.412Z"
   },
   {
    "duration": 127,
    "start_time": "2021-07-08T10:19:19.611Z"
   },
   {
    "duration": 4,
    "start_time": "2021-07-08T10:19:19.740Z"
   },
   {
    "duration": 27,
    "start_time": "2021-07-08T10:19:19.746Z"
   },
   {
    "duration": 7,
    "start_time": "2021-07-08T10:19:19.775Z"
   },
   {
    "duration": 30,
    "start_time": "2021-07-08T10:19:19.784Z"
   },
   {
    "duration": 7,
    "start_time": "2021-07-08T10:19:19.817Z"
   },
   {
    "duration": 26,
    "start_time": "2021-07-08T10:19:19.826Z"
   },
   {
    "duration": 18,
    "start_time": "2021-07-08T10:19:19.854Z"
   },
   {
    "duration": 14,
    "start_time": "2021-07-08T10:19:19.874Z"
   },
   {
    "duration": 48,
    "start_time": "2021-07-08T10:19:19.890Z"
   },
   {
    "duration": 17,
    "start_time": "2021-07-08T10:19:19.940Z"
   },
   {
    "duration": 38,
    "start_time": "2021-07-08T10:19:19.959Z"
   },
   {
    "duration": 8,
    "start_time": "2021-07-08T10:19:19.999Z"
   },
   {
    "duration": 15,
    "start_time": "2021-07-08T10:19:20.009Z"
   },
   {
    "duration": 22,
    "start_time": "2021-07-08T10:19:20.026Z"
   },
   {
    "duration": 10,
    "start_time": "2021-07-08T10:19:20.050Z"
   },
   {
    "duration": 10,
    "start_time": "2021-07-08T10:19:20.062Z"
   },
   {
    "duration": 20,
    "start_time": "2021-07-08T10:19:20.073Z"
   },
   {
    "duration": 29,
    "start_time": "2021-07-08T10:19:20.095Z"
   },
   {
    "duration": 17,
    "start_time": "2021-07-08T10:19:20.126Z"
   },
   {
    "duration": 40,
    "start_time": "2021-07-08T10:19:20.146Z"
   },
   {
    "duration": 15,
    "start_time": "2021-07-08T10:19:20.189Z"
   },
   {
    "duration": 19,
    "start_time": "2021-07-08T10:19:20.206Z"
   },
   {
    "duration": 10,
    "start_time": "2021-07-08T10:19:20.226Z"
   },
   {
    "duration": 11,
    "start_time": "2021-07-08T10:19:20.238Z"
   },
   {
    "duration": 297,
    "start_time": "2021-07-08T10:19:20.250Z"
   },
   {
    "duration": 6,
    "start_time": "2021-07-08T10:19:20.549Z"
   },
   {
    "duration": 191,
    "start_time": "2021-07-08T10:19:20.557Z"
   },
   {
    "duration": 19,
    "start_time": "2021-07-08T10:19:20.750Z"
   },
   {
    "duration": 20,
    "start_time": "2021-07-08T10:19:20.771Z"
   },
   {
    "duration": 15,
    "start_time": "2021-07-08T10:19:20.793Z"
   },
   {
    "duration": 222,
    "start_time": "2021-07-08T10:19:20.809Z"
   },
   {
    "duration": 20,
    "start_time": "2021-07-08T10:19:21.033Z"
   },
   {
    "duration": 27,
    "start_time": "2021-07-08T10:45:04.055Z"
   },
   {
    "duration": 8,
    "start_time": "2021-07-08T10:45:08.478Z"
   },
   {
    "duration": 8,
    "start_time": "2021-07-08T10:45:31.982Z"
   },
   {
    "duration": 10,
    "start_time": "2021-07-08T10:46:01.221Z"
   },
   {
    "duration": 17,
    "start_time": "2021-07-08T10:46:40.011Z"
   },
   {
    "duration": 193,
    "start_time": "2021-07-08T10:48:19.471Z"
   },
   {
    "duration": 225,
    "start_time": "2021-07-08T10:49:26.480Z"
   },
   {
    "duration": 204,
    "start_time": "2021-07-08T10:49:59.992Z"
   },
   {
    "duration": 435,
    "start_time": "2021-07-08T10:50:06.779Z"
   },
   {
    "duration": 199,
    "start_time": "2021-07-08T10:50:14.891Z"
   },
   {
    "duration": 204,
    "start_time": "2021-07-08T10:50:18.501Z"
   },
   {
    "duration": 244,
    "start_time": "2021-07-08T10:50:23.359Z"
   },
   {
    "duration": 192,
    "start_time": "2021-07-08T10:50:29.135Z"
   },
   {
    "duration": 218,
    "start_time": "2021-07-08T10:50:33.092Z"
   },
   {
    "duration": 207,
    "start_time": "2021-07-08T10:52:45.381Z"
   },
   {
    "duration": 5,
    "start_time": "2021-07-08T10:53:34.641Z"
   },
   {
    "duration": 196,
    "start_time": "2021-07-08T10:53:41.478Z"
   },
   {
    "duration": 43,
    "start_time": "2021-07-08T10:53:50.335Z"
   },
   {
    "duration": 32,
    "start_time": "2021-07-08T10:53:55.294Z"
   },
   {
    "duration": 55,
    "start_time": "2021-07-08T10:54:09.675Z"
   },
   {
    "duration": 16,
    "start_time": "2021-07-08T10:54:12.260Z"
   },
   {
    "duration": 15,
    "start_time": "2021-07-08T10:54:49.150Z"
   },
   {
    "duration": 20,
    "start_time": "2021-07-08T10:56:07.596Z"
   },
   {
    "duration": 16,
    "start_time": "2021-07-08T10:58:26.276Z"
   },
   {
    "duration": 22,
    "start_time": "2021-07-08T10:59:00.486Z"
   },
   {
    "duration": 18,
    "start_time": "2021-07-08T11:02:09.653Z"
   },
   {
    "duration": 10,
    "start_time": "2021-07-08T11:03:44.331Z"
   },
   {
    "duration": 10,
    "start_time": "2021-07-08T11:03:54.055Z"
   },
   {
    "duration": 12,
    "start_time": "2021-07-08T11:04:41.967Z"
   },
   {
    "duration": 24,
    "start_time": "2021-07-08T11:07:30.732Z"
   },
   {
    "duration": 6,
    "start_time": "2021-07-08T11:07:37.364Z"
   },
   {
    "duration": 16,
    "start_time": "2021-07-08T11:08:01.819Z"
   },
   {
    "duration": 17,
    "start_time": "2021-07-08T11:09:47.488Z"
   },
   {
    "duration": 246,
    "start_time": "2021-07-08T11:10:00.830Z"
   },
   {
    "duration": 18,
    "start_time": "2021-07-08T11:13:55.195Z"
   },
   {
    "duration": 204,
    "start_time": "2021-07-08T11:14:04.951Z"
   },
   {
    "duration": 19,
    "start_time": "2021-07-08T11:15:10.613Z"
   },
   {
    "duration": 680,
    "start_time": "2021-07-08T11:16:25.793Z"
   },
   {
    "duration": 451,
    "start_time": "2021-07-08T11:16:40.313Z"
   },
   {
    "duration": 469,
    "start_time": "2021-07-08T11:17:21.286Z"
   },
   {
    "duration": 20,
    "start_time": "2021-07-08T11:19:12.554Z"
   },
   {
    "duration": 35,
    "start_time": "2021-07-08T11:20:05.484Z"
   },
   {
    "duration": 53,
    "start_time": "2021-07-08T11:21:40.050Z"
   },
   {
    "duration": 13,
    "start_time": "2021-07-08T11:22:26.059Z"
   },
   {
    "duration": 19,
    "start_time": "2021-07-08T11:22:47.419Z"
   },
   {
    "duration": 25,
    "start_time": "2021-07-08T11:23:19.958Z"
   },
   {
    "duration": 29,
    "start_time": "2021-07-08T11:23:25.415Z"
   },
   {
    "duration": 10,
    "start_time": "2021-07-08T11:24:45.138Z"
   },
   {
    "duration": 19,
    "start_time": "2021-07-08T11:24:54.498Z"
   },
   {
    "duration": 12,
    "start_time": "2021-07-08T11:25:32.225Z"
   },
   {
    "duration": 19,
    "start_time": "2021-07-08T11:25:37.092Z"
   },
   {
    "duration": 17,
    "start_time": "2021-07-08T11:25:58.116Z"
   },
   {
    "duration": 15,
    "start_time": "2021-07-08T11:26:02.258Z"
   },
   {
    "duration": 8,
    "start_time": "2021-07-08T11:26:59.682Z"
   },
   {
    "duration": 184,
    "start_time": "2021-07-08T11:27:21.894Z"
   },
   {
    "duration": 8,
    "start_time": "2021-07-08T11:27:23.824Z"
   },
   {
    "duration": 202,
    "start_time": "2021-07-08T11:27:23.962Z"
   },
   {
    "duration": 360,
    "start_time": "2021-07-08T11:28:33.215Z"
   },
   {
    "duration": 231,
    "start_time": "2021-07-08T11:32:05.542Z"
   },
   {
    "duration": 607,
    "start_time": "2021-07-08T11:36:27.854Z"
   },
   {
    "duration": 241,
    "start_time": "2021-07-08T11:36:28.463Z"
   },
   {
    "duration": 67,
    "start_time": "2021-07-08T11:36:28.709Z"
   },
   {
    "duration": 5,
    "start_time": "2021-07-08T11:36:28.778Z"
   },
   {
    "duration": 32,
    "start_time": "2021-07-08T11:36:28.784Z"
   },
   {
    "duration": 11,
    "start_time": "2021-07-08T11:36:28.819Z"
   },
   {
    "duration": 20,
    "start_time": "2021-07-08T11:36:28.834Z"
   },
   {
    "duration": 36,
    "start_time": "2021-07-08T11:36:28.857Z"
   },
   {
    "duration": 16,
    "start_time": "2021-07-08T11:36:28.895Z"
   },
   {
    "duration": 14,
    "start_time": "2021-07-08T11:36:28.913Z"
   },
   {
    "duration": 9,
    "start_time": "2021-07-08T11:36:28.930Z"
   },
   {
    "duration": 55,
    "start_time": "2021-07-08T11:36:28.941Z"
   },
   {
    "duration": 27,
    "start_time": "2021-07-08T11:36:28.999Z"
   },
   {
    "duration": 30,
    "start_time": "2021-07-08T11:36:29.028Z"
   },
   {
    "duration": 31,
    "start_time": "2021-07-08T11:36:29.060Z"
   },
   {
    "duration": 3,
    "start_time": "2021-07-08T11:36:29.093Z"
   },
   {
    "duration": 12,
    "start_time": "2021-07-08T11:36:29.099Z"
   },
   {
    "duration": 11,
    "start_time": "2021-07-08T11:36:29.112Z"
   },
   {
    "duration": 12,
    "start_time": "2021-07-08T11:36:29.125Z"
   },
   {
    "duration": 9,
    "start_time": "2021-07-08T11:36:29.139Z"
   },
   {
    "duration": 31,
    "start_time": "2021-07-08T11:36:29.191Z"
   },
   {
    "duration": 17,
    "start_time": "2021-07-08T11:36:29.226Z"
   },
   {
    "duration": 7,
    "start_time": "2021-07-08T11:36:29.245Z"
   },
   {
    "duration": 10,
    "start_time": "2021-07-08T11:36:29.254Z"
   },
   {
    "duration": 30,
    "start_time": "2021-07-08T11:36:29.292Z"
   },
   {
    "duration": 11,
    "start_time": "2021-07-08T11:36:29.324Z"
   },
   {
    "duration": 11,
    "start_time": "2021-07-08T11:36:29.337Z"
   },
   {
    "duration": 230,
    "start_time": "2021-07-08T11:36:29.349Z"
   },
   {
    "duration": 13,
    "start_time": "2021-07-08T11:36:29.588Z"
   },
   {
    "duration": 205,
    "start_time": "2021-07-08T11:36:29.603Z"
   },
   {
    "duration": 20,
    "start_time": "2021-07-08T11:36:29.810Z"
   },
   {
    "duration": 9,
    "start_time": "2021-07-08T11:36:29.832Z"
   },
   {
    "duration": 16,
    "start_time": "2021-07-08T11:36:29.843Z"
   },
   {
    "duration": 283,
    "start_time": "2021-07-08T11:36:29.861Z"
   },
   {
    "duration": 50,
    "start_time": "2021-07-08T11:36:30.146Z"
   },
   {
    "duration": 14,
    "start_time": "2021-07-08T11:36:30.198Z"
   },
   {
    "duration": 11,
    "start_time": "2021-07-08T11:36:30.214Z"
   },
   {
    "duration": 245,
    "start_time": "2021-07-08T11:36:30.227Z"
   },
   {
    "duration": 439,
    "start_time": "2021-07-08T11:36:30.474Z"
   },
   {
    "duration": 210,
    "start_time": "2021-07-08T11:36:30.915Z"
   },
   {
    "duration": 15,
    "start_time": "2021-07-08T11:36:31.127Z"
   },
   {
    "duration": 17,
    "start_time": "2021-07-08T11:38:20.451Z"
   },
   {
    "duration": 642,
    "start_time": "2021-07-08T11:46:17.881Z"
   },
   {
    "duration": 210,
    "start_time": "2021-07-08T11:46:18.525Z"
   },
   {
    "duration": 104,
    "start_time": "2021-07-08T11:46:18.741Z"
   },
   {
    "duration": 8,
    "start_time": "2021-07-08T11:46:18.847Z"
   },
   {
    "duration": 25,
    "start_time": "2021-07-08T11:46:18.857Z"
   },
   {
    "duration": 14,
    "start_time": "2021-07-08T11:46:18.884Z"
   },
   {
    "duration": 22,
    "start_time": "2021-07-08T11:46:18.900Z"
   },
   {
    "duration": 5,
    "start_time": "2021-07-08T11:46:18.924Z"
   },
   {
    "duration": 13,
    "start_time": "2021-07-08T11:46:18.931Z"
   },
   {
    "duration": 45,
    "start_time": "2021-07-08T11:46:18.946Z"
   },
   {
    "duration": 12,
    "start_time": "2021-07-08T11:46:18.993Z"
   },
   {
    "duration": 38,
    "start_time": "2021-07-08T11:46:19.006Z"
   },
   {
    "duration": 50,
    "start_time": "2021-07-08T11:46:19.046Z"
   },
   {
    "duration": 29,
    "start_time": "2021-07-08T11:46:19.099Z"
   },
   {
    "duration": 7,
    "start_time": "2021-07-08T11:46:19.130Z"
   },
   {
    "duration": 3,
    "start_time": "2021-07-08T11:46:19.139Z"
   },
   {
    "duration": 11,
    "start_time": "2021-07-08T11:46:19.144Z"
   },
   {
    "duration": 40,
    "start_time": "2021-07-08T11:46:19.157Z"
   },
   {
    "duration": 15,
    "start_time": "2021-07-08T11:46:19.199Z"
   },
   {
    "duration": 10,
    "start_time": "2021-07-08T11:46:19.217Z"
   },
   {
    "duration": 68,
    "start_time": "2021-07-08T11:46:19.230Z"
   },
   {
    "duration": 17,
    "start_time": "2021-07-08T11:46:19.301Z"
   },
   {
    "duration": 7,
    "start_time": "2021-07-08T11:46:19.321Z"
   },
   {
    "duration": 11,
    "start_time": "2021-07-08T11:46:19.330Z"
   },
   {
    "duration": 59,
    "start_time": "2021-07-08T11:46:19.343Z"
   },
   {
    "duration": 17,
    "start_time": "2021-07-08T11:46:19.405Z"
   },
   {
    "duration": 16,
    "start_time": "2021-07-08T11:46:19.424Z"
   },
   {
    "duration": 252,
    "start_time": "2021-07-08T11:46:19.443Z"
   },
   {
    "duration": 9,
    "start_time": "2021-07-08T11:46:19.697Z"
   },
   {
    "duration": 224,
    "start_time": "2021-07-08T11:46:19.708Z"
   },
   {
    "duration": 21,
    "start_time": "2021-07-08T11:46:19.934Z"
   },
   {
    "duration": 9,
    "start_time": "2021-07-08T11:46:19.956Z"
   },
   {
    "duration": 32,
    "start_time": "2021-07-08T11:46:19.967Z"
   },
   {
    "duration": 288,
    "start_time": "2021-07-08T11:46:20.004Z"
   },
   {
    "duration": 23,
    "start_time": "2021-07-08T11:46:20.300Z"
   },
   {
    "duration": 11,
    "start_time": "2021-07-08T11:46:20.325Z"
   },
   {
    "duration": 11,
    "start_time": "2021-07-08T11:46:20.339Z"
   },
   {
    "duration": 259,
    "start_time": "2021-07-08T11:46:20.352Z"
   },
   {
    "duration": 438,
    "start_time": "2021-07-08T11:46:20.613Z"
   },
   {
    "duration": 207,
    "start_time": "2021-07-08T11:46:21.054Z"
   },
   {
    "duration": 27,
    "start_time": "2021-07-08T11:46:21.262Z"
   },
   {
    "duration": 19,
    "start_time": "2021-07-08T11:46:21.291Z"
   },
   {
    "duration": 820,
    "start_time": "2021-07-08T11:49:01.655Z"
   },
   {
    "duration": 372,
    "start_time": "2021-07-08T11:49:02.478Z"
   },
   {
    "duration": 98,
    "start_time": "2021-07-08T11:49:02.853Z"
   },
   {
    "duration": 6,
    "start_time": "2021-07-08T11:49:02.953Z"
   },
   {
    "duration": 39,
    "start_time": "2021-07-08T11:49:02.960Z"
   },
   {
    "duration": 9,
    "start_time": "2021-07-08T11:49:03.003Z"
   },
   {
    "duration": 23,
    "start_time": "2021-07-08T11:49:03.014Z"
   },
   {
    "duration": 6,
    "start_time": "2021-07-08T11:49:03.041Z"
   },
   {
    "duration": 20,
    "start_time": "2021-07-08T11:49:03.049Z"
   },
   {
    "duration": 18,
    "start_time": "2021-07-08T11:49:03.084Z"
   },
   {
    "duration": 14,
    "start_time": "2021-07-08T11:49:03.104Z"
   },
   {
    "duration": 39,
    "start_time": "2021-07-08T11:49:03.119Z"
   },
   {
    "duration": 38,
    "start_time": "2021-07-08T11:49:03.160Z"
   },
   {
    "duration": 26,
    "start_time": "2021-07-08T11:49:03.200Z"
   },
   {
    "duration": 7,
    "start_time": "2021-07-08T11:49:03.227Z"
   },
   {
    "duration": 4,
    "start_time": "2021-07-08T11:49:03.236Z"
   },
   {
    "duration": 15,
    "start_time": "2021-07-08T11:49:03.243Z"
   },
   {
    "duration": 21,
    "start_time": "2021-07-08T11:49:03.285Z"
   },
   {
    "duration": 17,
    "start_time": "2021-07-08T11:49:03.309Z"
   },
   {
    "duration": 10,
    "start_time": "2021-07-08T11:49:03.328Z"
   },
   {
    "duration": 65,
    "start_time": "2021-07-08T11:49:03.340Z"
   },
   {
    "duration": 18,
    "start_time": "2021-07-08T11:49:03.407Z"
   },
   {
    "duration": 8,
    "start_time": "2021-07-08T11:49:03.428Z"
   },
   {
    "duration": 15,
    "start_time": "2021-07-08T11:49:03.438Z"
   },
   {
    "duration": 40,
    "start_time": "2021-07-08T11:49:03.455Z"
   },
   {
    "duration": 12,
    "start_time": "2021-07-08T11:49:03.497Z"
   },
   {
    "duration": 29,
    "start_time": "2021-07-08T11:49:03.511Z"
   },
   {
    "duration": 285,
    "start_time": "2021-07-08T11:49:03.542Z"
   },
   {
    "duration": 8,
    "start_time": "2021-07-08T11:49:03.829Z"
   },
   {
    "duration": 227,
    "start_time": "2021-07-08T11:49:03.838Z"
   },
   {
    "duration": 40,
    "start_time": "2021-07-08T11:49:04.066Z"
   },
   {
    "duration": 10,
    "start_time": "2021-07-08T11:49:04.108Z"
   },
   {
    "duration": 26,
    "start_time": "2021-07-08T11:49:04.121Z"
   },
   {
    "duration": 290,
    "start_time": "2021-07-08T11:49:04.149Z"
   },
   {
    "duration": 26,
    "start_time": "2021-07-08T11:49:04.441Z"
   },
   {
    "duration": 31,
    "start_time": "2021-07-08T11:49:04.470Z"
   },
   {
    "duration": 14,
    "start_time": "2021-07-08T11:49:04.503Z"
   },
   {
    "duration": 259,
    "start_time": "2021-07-08T11:49:04.521Z"
   },
   {
    "duration": 480,
    "start_time": "2021-07-08T11:49:04.782Z"
   },
   {
    "duration": 225,
    "start_time": "2021-07-08T11:49:05.264Z"
   },
   {
    "duration": 22,
    "start_time": "2021-07-08T11:49:05.491Z"
   },
   {
    "duration": 24,
    "start_time": "2021-07-08T11:49:05.515Z"
   },
   {
    "duration": 634,
    "start_time": "2021-07-08T11:52:24.960Z"
   },
   {
    "duration": 199,
    "start_time": "2021-07-08T11:52:25.599Z"
   },
   {
    "duration": 106,
    "start_time": "2021-07-08T11:52:25.803Z"
   },
   {
    "duration": 7,
    "start_time": "2021-07-08T11:52:25.911Z"
   },
   {
    "duration": 29,
    "start_time": "2021-07-08T11:52:25.920Z"
   },
   {
    "duration": 7,
    "start_time": "2021-07-08T11:52:25.951Z"
   },
   {
    "duration": 26,
    "start_time": "2021-07-08T11:52:25.961Z"
   },
   {
    "duration": 11,
    "start_time": "2021-07-08T11:52:25.990Z"
   },
   {
    "duration": 29,
    "start_time": "2021-07-08T11:52:26.005Z"
   },
   {
    "duration": 9,
    "start_time": "2021-07-08T11:52:26.036Z"
   },
   {
    "duration": 8,
    "start_time": "2021-07-08T11:52:26.047Z"
   },
   {
    "duration": 63,
    "start_time": "2021-07-08T11:52:26.057Z"
   },
   {
    "duration": 17,
    "start_time": "2021-07-08T11:52:26.122Z"
   },
   {
    "duration": 43,
    "start_time": "2021-07-08T11:52:26.142Z"
   },
   {
    "duration": 17,
    "start_time": "2021-07-08T11:52:26.187Z"
   },
   {
    "duration": 5,
    "start_time": "2021-07-08T11:52:26.206Z"
   },
   {
    "duration": 12,
    "start_time": "2021-07-08T11:52:26.212Z"
   },
   {
    "duration": 11,
    "start_time": "2021-07-08T11:52:26.226Z"
   },
   {
    "duration": 12,
    "start_time": "2021-07-08T11:52:26.238Z"
   },
   {
    "duration": 38,
    "start_time": "2021-07-08T11:52:26.252Z"
   },
   {
    "duration": 40,
    "start_time": "2021-07-08T11:52:26.292Z"
   },
   {
    "duration": 17,
    "start_time": "2021-07-08T11:52:26.336Z"
   },
   {
    "duration": 39,
    "start_time": "2021-07-08T11:52:26.355Z"
   },
   {
    "duration": 11,
    "start_time": "2021-07-08T11:52:26.395Z"
   },
   {
    "duration": 23,
    "start_time": "2021-07-08T11:52:26.408Z"
   },
   {
    "duration": 12,
    "start_time": "2021-07-08T11:52:26.432Z"
   },
   {
    "duration": 41,
    "start_time": "2021-07-08T11:52:26.446Z"
   },
   {
    "duration": 215,
    "start_time": "2021-07-08T11:52:26.493Z"
   },
   {
    "duration": 8,
    "start_time": "2021-07-08T11:52:26.710Z"
   },
   {
    "duration": 228,
    "start_time": "2021-07-08T11:52:26.720Z"
   },
   {
    "duration": 18,
    "start_time": "2021-07-08T11:52:26.950Z"
   },
   {
    "duration": 35,
    "start_time": "2021-07-08T11:52:26.969Z"
   },
   {
    "duration": 23,
    "start_time": "2021-07-08T11:52:27.006Z"
   },
   {
    "duration": 258,
    "start_time": "2021-07-08T11:52:27.030Z"
   },
   {
    "duration": 24,
    "start_time": "2021-07-08T11:52:27.290Z"
   },
   {
    "duration": 12,
    "start_time": "2021-07-08T11:52:27.316Z"
   },
   {
    "duration": 10,
    "start_time": "2021-07-08T11:52:27.329Z"
   },
   {
    "duration": 298,
    "start_time": "2021-07-08T11:52:27.341Z"
   },
   {
    "duration": 436,
    "start_time": "2021-07-08T11:52:27.641Z"
   },
   {
    "duration": 216,
    "start_time": "2021-07-08T11:52:28.079Z"
   },
   {
    "duration": 20,
    "start_time": "2021-07-08T11:52:28.297Z"
   },
   {
    "duration": 17,
    "start_time": "2021-07-08T11:52:28.319Z"
   },
   {
    "duration": 654,
    "start_time": "2021-11-16T13:19:48.727Z"
   },
   {
    "duration": 101,
    "start_time": "2021-11-16T13:21:39.898Z"
   },
   {
    "duration": 25,
    "start_time": "2021-11-16T13:22:04.268Z"
   },
   {
    "duration": 52,
    "start_time": "2021-11-16T13:24:47.395Z"
   },
   {
    "duration": 30,
    "start_time": "2021-11-16T13:25:10.727Z"
   },
   {
    "duration": 14,
    "start_time": "2021-11-16T13:26:26.087Z"
   },
   {
    "duration": 35,
    "start_time": "2021-11-16T13:26:39.766Z"
   },
   {
    "duration": 5,
    "start_time": "2021-11-16T13:34:46.795Z"
   },
   {
    "duration": 5,
    "start_time": "2021-11-16T13:40:36.138Z"
   },
   {
    "duration": 6896,
    "start_time": "2021-11-16T13:41:27.975Z"
   },
   {
    "duration": 469,
    "start_time": "2021-11-16T13:42:16.284Z"
   },
   {
    "duration": 23,
    "start_time": "2021-11-16T13:45:13.036Z"
   },
   {
    "duration": 111,
    "start_time": "2021-11-16T13:45:33.290Z"
   },
   {
    "duration": 11,
    "start_time": "2021-11-16T13:45:38.536Z"
   },
   {
    "duration": 22,
    "start_time": "2021-11-16T13:45:42.265Z"
   },
   {
    "duration": 78,
    "start_time": "2021-11-16T13:48:49.743Z"
   },
   {
    "duration": 72,
    "start_time": "2021-11-16T13:49:04.984Z"
   },
   {
    "duration": 91,
    "start_time": "2021-11-16T13:49:46.974Z"
   },
   {
    "duration": 78,
    "start_time": "2021-11-16T13:52:40.879Z"
   },
   {
    "duration": 69,
    "start_time": "2021-11-16T13:56:42.633Z"
   },
   {
    "duration": 69,
    "start_time": "2021-11-16T13:57:02.971Z"
   },
   {
    "duration": 4,
    "start_time": "2021-11-16T13:57:47.488Z"
   },
   {
    "duration": 290,
    "start_time": "2021-11-16T14:00:45.480Z"
   },
   {
    "duration": 3,
    "start_time": "2021-11-16T14:02:59.990Z"
   },
   {
    "duration": 3,
    "start_time": "2021-11-16T14:03:06.812Z"
   },
   {
    "duration": 1058,
    "start_time": "2021-11-16T14:03:51.789Z"
   },
   {
    "duration": 4,
    "start_time": "2021-11-16T14:04:17.404Z"
   },
   {
    "duration": 1032,
    "start_time": "2021-11-16T14:04:28.331Z"
   },
   {
    "duration": 3,
    "start_time": "2021-11-16T14:04:51.250Z"
   },
   {
    "duration": 6,
    "start_time": "2021-11-16T14:04:55.541Z"
   },
   {
    "duration": 11,
    "start_time": "2021-11-16T14:05:22.295Z"
   },
   {
    "duration": 582,
    "start_time": "2021-11-17T16:54:29.560Z"
   },
   {
    "duration": 243,
    "start_time": "2021-11-17T16:54:30.143Z"
   },
   {
    "duration": 35,
    "start_time": "2021-11-17T16:54:31.237Z"
   },
   {
    "duration": 331,
    "start_time": "2021-11-17T16:55:28.684Z"
   },
   {
    "duration": 564,
    "start_time": "2021-11-17T16:57:33.982Z"
   },
   {
    "duration": 3,
    "start_time": "2021-11-17T16:59:14.486Z"
   },
   {
    "duration": 66,
    "start_time": "2021-11-17T16:59:43.930Z"
   },
   {
    "duration": 618,
    "start_time": "2021-11-25T19:31:03.928Z"
   },
   {
    "duration": 96,
    "start_time": "2021-11-25T19:31:04.547Z"
   },
   {
    "duration": 35,
    "start_time": "2021-11-25T19:31:04.645Z"
   },
   {
    "duration": 81,
    "start_time": "2021-11-25T19:31:04.682Z"
   },
   {
    "duration": 7,
    "start_time": "2021-11-25T19:31:04.765Z"
   },
   {
    "duration": 13,
    "start_time": "2021-11-25T19:31:04.773Z"
   },
   {
    "duration": 295,
    "start_time": "2021-11-25T19:31:43.512Z"
   },
   {
    "duration": 632,
    "start_time": "2021-11-25T19:31:50.855Z"
   },
   {
    "duration": 102,
    "start_time": "2021-11-25T19:31:51.489Z"
   },
   {
    "duration": 35,
    "start_time": "2021-11-25T19:31:51.593Z"
   },
   {
    "duration": 306,
    "start_time": "2021-11-25T19:31:51.630Z"
   },
   {
    "duration": 83,
    "start_time": "2021-11-25T19:31:51.855Z"
   },
   {
    "duration": 69,
    "start_time": "2021-11-25T19:31:51.870Z"
   },
   {
    "duration": 66,
    "start_time": "2021-11-25T19:31:51.873Z"
   },
   {
    "duration": 617,
    "start_time": "2021-11-25T19:32:15.887Z"
   },
   {
    "duration": 100,
    "start_time": "2021-11-25T19:32:16.506Z"
   },
   {
    "duration": 40,
    "start_time": "2021-11-25T19:32:16.609Z"
   },
   {
    "duration": 74,
    "start_time": "2021-11-25T19:32:16.650Z"
   },
   {
    "duration": 6,
    "start_time": "2021-11-25T19:32:16.726Z"
   },
   {
    "duration": 12,
    "start_time": "2021-11-25T19:32:16.733Z"
   },
   {
    "duration": 12,
    "start_time": "2021-11-25T20:14:13.354Z"
   },
   {
    "duration": 25,
    "start_time": "2021-11-25T20:14:35.605Z"
   },
   {
    "duration": 19,
    "start_time": "2021-11-25T20:15:25.372Z"
   },
   {
    "duration": 37,
    "start_time": "2021-11-25T20:15:34.086Z"
   },
   {
    "duration": 31,
    "start_time": "2021-11-25T20:16:24.642Z"
   },
   {
    "duration": 98,
    "start_time": "2021-11-25T20:17:19.463Z"
   },
   {
    "duration": 410,
    "start_time": "2021-11-25T20:17:23.195Z"
   },
   {
    "duration": 44,
    "start_time": "2021-11-25T20:17:50.943Z"
   },
   {
    "duration": 32,
    "start_time": "2021-11-25T20:20:02.843Z"
   },
   {
    "duration": 11,
    "start_time": "2021-11-25T20:20:39.684Z"
   },
   {
    "duration": 12,
    "start_time": "2021-11-25T20:21:49.881Z"
   },
   {
    "duration": 16,
    "start_time": "2021-11-25T20:21:57.100Z"
   },
   {
    "duration": 3,
    "start_time": "2021-11-25T20:29:11.143Z"
   },
   {
    "duration": 134,
    "start_time": "2021-11-25T20:29:11.810Z"
   },
   {
    "duration": 35,
    "start_time": "2021-11-25T20:29:12.786Z"
   },
   {
    "duration": 70,
    "start_time": "2021-11-25T20:29:19.035Z"
   },
   {
    "duration": 257,
    "start_time": "2021-11-25T20:30:04.520Z"
   },
   {
    "duration": 259,
    "start_time": "2021-11-25T20:30:54.796Z"
   },
   {
    "duration": 296,
    "start_time": "2021-11-25T20:31:22.598Z"
   },
   {
    "duration": 81,
    "start_time": "2021-11-25T20:32:26.641Z"
   },
   {
    "duration": 9,
    "start_time": "2021-11-25T20:33:28.206Z"
   },
   {
    "duration": 3,
    "start_time": "2021-11-25T20:34:00.559Z"
   },
   {
    "duration": 132,
    "start_time": "2021-11-25T20:34:01.195Z"
   },
   {
    "duration": 32,
    "start_time": "2021-11-25T20:34:04.229Z"
   },
   {
    "duration": 70,
    "start_time": "2021-11-25T20:34:10.248Z"
   },
   {
    "duration": 6748,
    "start_time": "2021-11-25T20:34:35.508Z"
   },
   {
    "duration": 3,
    "start_time": "2021-11-25T20:36:44.597Z"
   },
   {
    "duration": 79,
    "start_time": "2021-11-25T20:36:58.653Z"
   },
   {
    "duration": 238,
    "start_time": "2021-11-25T20:37:04.005Z"
   },
   {
    "duration": 6701,
    "start_time": "2021-11-25T20:37:14.336Z"
   },
   {
    "duration": 6125,
    "start_time": "2021-11-25T20:37:32.446Z"
   },
   {
    "duration": 8,
    "start_time": "2021-11-25T20:38:27.469Z"
   },
   {
    "duration": 7,
    "start_time": "2021-11-25T20:38:59.238Z"
   },
   {
    "duration": 3,
    "start_time": "2021-11-25T20:39:14.317Z"
   },
   {
    "duration": 116,
    "start_time": "2021-11-25T20:39:14.917Z"
   },
   {
    "duration": 34,
    "start_time": "2021-11-25T20:39:16.453Z"
   },
   {
    "duration": 73,
    "start_time": "2021-11-25T20:39:19.103Z"
   },
   {
    "duration": 6,
    "start_time": "2021-11-25T20:39:20.469Z"
   },
   {
    "duration": 13,
    "start_time": "2021-11-25T20:39:57.194Z"
   },
   {
    "duration": 7,
    "start_time": "2021-11-25T20:41:26.768Z"
   },
   {
    "duration": 14,
    "start_time": "2021-11-25T20:41:28.166Z"
   },
   {
    "duration": 6679,
    "start_time": "2021-11-25T20:41:57.658Z"
   },
   {
    "duration": 14,
    "start_time": "2021-11-25T20:42:15.209Z"
   },
   {
    "duration": 5957,
    "start_time": "2021-11-25T20:43:56.782Z"
   },
   {
    "duration": 6129,
    "start_time": "2021-11-25T20:44:44.527Z"
   },
   {
    "duration": 6751,
    "start_time": "2021-11-25T20:44:55.350Z"
   },
   {
    "duration": 6,
    "start_time": "2021-11-25T20:51:08.060Z"
   },
   {
    "duration": 5,
    "start_time": "2021-11-25T20:51:18.864Z"
   },
   {
    "duration": 5,
    "start_time": "2021-11-25T20:51:22.403Z"
   },
   {
    "duration": 5,
    "start_time": "2021-11-25T20:51:35.605Z"
   },
   {
    "duration": 6184,
    "start_time": "2021-11-25T20:52:01.873Z"
   },
   {
    "duration": 7,
    "start_time": "2021-11-25T20:52:10.181Z"
   },
   {
    "duration": 14,
    "start_time": "2021-11-25T20:52:40.041Z"
   },
   {
    "duration": 5,
    "start_time": "2021-11-25T20:55:23.821Z"
   },
   {
    "duration": 16,
    "start_time": "2021-11-25T20:57:26.810Z"
   },
   {
    "duration": 19,
    "start_time": "2021-11-25T20:57:50.430Z"
   },
   {
    "duration": 28,
    "start_time": "2021-11-25T20:58:14.047Z"
   },
   {
    "duration": 14,
    "start_time": "2021-11-25T21:25:26.859Z"
   },
   {
    "duration": 24,
    "start_time": "2021-11-25T21:25:50.785Z"
   },
   {
    "duration": 39,
    "start_time": "2021-11-25T21:26:18.626Z"
   },
   {
    "duration": 24,
    "start_time": "2021-11-25T21:26:46.413Z"
   },
   {
    "duration": 3,
    "start_time": "2021-11-25T21:28:05.906Z"
   },
   {
    "duration": 6,
    "start_time": "2021-11-25T21:28:32.753Z"
   },
   {
    "duration": 15,
    "start_time": "2021-11-25T21:29:08.040Z"
   },
   {
    "duration": 7,
    "start_time": "2021-11-25T21:29:28.708Z"
   },
   {
    "duration": 663,
    "start_time": "2021-11-25T21:30:03.439Z"
   },
   {
    "duration": 106,
    "start_time": "2021-11-25T21:30:04.104Z"
   },
   {
    "duration": 37,
    "start_time": "2021-11-25T21:30:04.212Z"
   },
   {
    "duration": 75,
    "start_time": "2021-11-25T21:30:04.250Z"
   },
   {
    "duration": 7,
    "start_time": "2021-11-25T21:30:04.327Z"
   },
   {
    "duration": 84,
    "start_time": "2021-11-25T21:30:04.335Z"
   },
   {
    "duration": 26,
    "start_time": "2021-11-25T21:30:04.423Z"
   },
   {
    "duration": 24,
    "start_time": "2021-11-25T21:30:04.451Z"
   },
   {
    "duration": 322,
    "start_time": "2021-11-25T21:30:04.477Z"
   },
   {
    "duration": 3,
    "start_time": "2021-11-25T21:32:09.267Z"
   },
   {
    "duration": 106,
    "start_time": "2021-11-25T21:32:09.847Z"
   },
   {
    "duration": 31,
    "start_time": "2021-11-25T21:32:10.933Z"
   },
   {
    "duration": 74,
    "start_time": "2021-11-25T21:32:20.699Z"
   },
   {
    "duration": 5,
    "start_time": "2021-11-25T21:32:26.548Z"
   },
   {
    "duration": 620,
    "start_time": "2021-11-25T21:32:30.860Z"
   },
   {
    "duration": 107,
    "start_time": "2021-11-25T21:32:31.482Z"
   },
   {
    "duration": 38,
    "start_time": "2021-11-25T21:32:31.591Z"
   },
   {
    "duration": 67,
    "start_time": "2021-11-25T21:32:31.631Z"
   },
   {
    "duration": 6,
    "start_time": "2021-11-25T21:32:31.701Z"
   },
   {
    "duration": 21,
    "start_time": "2021-11-25T21:32:31.710Z"
   },
   {
    "duration": 38,
    "start_time": "2021-11-25T21:32:31.733Z"
   },
   {
    "duration": 24,
    "start_time": "2021-11-25T21:32:31.773Z"
   },
   {
    "duration": 299,
    "start_time": "2021-11-25T21:32:31.798Z"
   },
   {
    "duration": 256,
    "start_time": "2021-11-25T21:36:39.516Z"
   },
   {
    "duration": 75,
    "start_time": "2021-11-25T21:36:44.343Z"
   },
   {
    "duration": 3,
    "start_time": "2021-11-25T21:37:00.893Z"
   },
   {
    "duration": 24,
    "start_time": "2021-11-25T21:37:04.699Z"
   },
   {
    "duration": 24,
    "start_time": "2021-11-25T21:37:09.704Z"
   },
   {
    "duration": 3,
    "start_time": "2021-11-25T21:37:16.371Z"
   },
   {
    "duration": 97,
    "start_time": "2021-11-25T21:37:17.839Z"
   },
   {
    "duration": 34,
    "start_time": "2021-11-25T21:37:27.757Z"
   },
   {
    "duration": 9,
    "start_time": "2021-11-25T21:43:31.794Z"
   },
   {
    "duration": 26,
    "start_time": "2021-11-25T21:43:51.620Z"
   },
   {
    "duration": 5,
    "start_time": "2021-11-25T21:47:44.278Z"
   },
   {
    "duration": 23,
    "start_time": "2021-11-25T21:47:48.076Z"
   },
   {
    "duration": 12,
    "start_time": "2021-11-25T21:48:01.070Z"
   },
   {
    "duration": 23,
    "start_time": "2021-11-25T21:48:10.528Z"
   },
   {
    "duration": 5,
    "start_time": "2021-11-25T21:48:14.971Z"
   },
   {
    "duration": 22,
    "start_time": "2021-11-25T21:48:17.479Z"
   },
   {
    "duration": 5,
    "start_time": "2021-11-25T21:49:35.729Z"
   },
   {
    "duration": 23,
    "start_time": "2021-11-25T21:49:42.474Z"
   },
   {
    "duration": 5,
    "start_time": "2021-11-25T21:49:59.891Z"
   },
   {
    "duration": 22,
    "start_time": "2021-11-25T21:50:03.495Z"
   },
   {
    "duration": 253,
    "start_time": "2021-11-25T21:50:16.830Z"
   },
   {
    "duration": 4023,
    "start_time": "2021-11-25T21:50:29.351Z"
   },
   {
    "duration": 101,
    "start_time": "2021-11-25T21:50:33.376Z"
   },
   {
    "duration": 37,
    "start_time": "2021-11-25T21:50:33.479Z"
   },
   {
    "duration": 82,
    "start_time": "2021-11-25T21:50:33.518Z"
   },
   {
    "duration": 6,
    "start_time": "2021-11-25T21:50:33.601Z"
   },
   {
    "duration": 15,
    "start_time": "2021-11-25T21:50:33.609Z"
   },
   {
    "duration": 27,
    "start_time": "2021-11-25T21:50:33.626Z"
   },
   {
    "duration": 30,
    "start_time": "2021-11-25T21:50:33.654Z"
   },
   {
    "duration": 1748,
    "start_time": "2021-11-25T21:50:33.686Z"
   },
   {
    "duration": 119,
    "start_time": "2021-11-25T21:50:35.318Z"
   },
   {
    "duration": 8,
    "start_time": "2021-11-25T21:50:58.748Z"
   },
   {
    "duration": 25,
    "start_time": "2021-11-25T21:51:00.362Z"
   },
   {
    "duration": 4,
    "start_time": "2021-11-25T21:58:28.264Z"
   },
   {
    "duration": 41,
    "start_time": "2021-11-25T21:59:21.406Z"
   },
   {
    "duration": 5,
    "start_time": "2021-11-25T22:01:35.839Z"
   },
   {
    "duration": 17,
    "start_time": "2021-11-25T22:01:39.069Z"
   },
   {
    "duration": 9,
    "start_time": "2021-11-25T22:01:49.813Z"
   },
   {
    "duration": 14,
    "start_time": "2021-11-25T22:02:01.922Z"
   },
   {
    "duration": 40,
    "start_time": "2021-11-25T22:02:18.344Z"
   },
   {
    "duration": 4,
    "start_time": "2021-11-25T22:02:36.062Z"
   },
   {
    "duration": 5,
    "start_time": "2021-11-25T22:05:07.212Z"
   },
   {
    "duration": 6,
    "start_time": "2021-11-25T22:05:42.085Z"
   },
   {
    "duration": 2,
    "start_time": "2021-11-25T22:08:39.910Z"
   },
   {
    "duration": 5,
    "start_time": "2021-11-25T22:09:07.754Z"
   },
   {
    "duration": 7,
    "start_time": "2021-11-25T22:09:28.448Z"
   },
   {
    "duration": 4,
    "start_time": "2021-11-25T22:11:38.393Z"
   },
   {
    "duration": 4,
    "start_time": "2021-11-25T22:12:03.245Z"
   },
   {
    "duration": 6,
    "start_time": "2021-11-25T22:13:58.995Z"
   },
   {
    "duration": 7,
    "start_time": "2021-11-25T22:14:15.701Z"
   },
   {
    "duration": 7,
    "start_time": "2021-11-25T22:14:19.830Z"
   },
   {
    "duration": 7,
    "start_time": "2021-11-25T22:14:25.812Z"
   },
   {
    "duration": 8,
    "start_time": "2021-11-25T22:14:36.288Z"
   },
   {
    "duration": 10,
    "start_time": "2021-11-25T22:14:50.716Z"
   },
   {
    "duration": 6,
    "start_time": "2021-11-25T22:16:11.674Z"
   },
   {
    "duration": 5,
    "start_time": "2021-11-25T22:21:12.465Z"
   },
   {
    "duration": 7,
    "start_time": "2021-11-25T22:23:38.443Z"
   },
   {
    "duration": 16,
    "start_time": "2021-11-25T22:24:31.106Z"
   },
   {
    "duration": 3,
    "start_time": "2021-11-25T22:32:02.596Z"
   },
   {
    "duration": 703,
    "start_time": "2021-11-25T22:32:34.882Z"
   },
   {
    "duration": 100,
    "start_time": "2021-11-25T22:32:35.587Z"
   },
   {
    "duration": 40,
    "start_time": "2021-11-25T22:32:35.690Z"
   },
   {
    "duration": 70,
    "start_time": "2021-11-25T22:32:35.733Z"
   },
   {
    "duration": 6,
    "start_time": "2021-11-25T22:32:35.805Z"
   },
   {
    "duration": 8,
    "start_time": "2021-11-25T22:32:35.813Z"
   },
   {
    "duration": 13,
    "start_time": "2021-11-25T22:32:35.823Z"
   },
   {
    "duration": 49,
    "start_time": "2021-11-25T22:32:35.839Z"
   },
   {
    "duration": 15,
    "start_time": "2021-11-25T22:32:35.890Z"
   },
   {
    "duration": 2,
    "start_time": "2021-11-25T22:32:35.908Z"
   },
   {
    "duration": 11,
    "start_time": "2021-11-25T22:32:35.912Z"
   },
   {
    "duration": 40,
    "start_time": "2021-11-25T22:32:35.925Z"
   },
   {
    "duration": 6,
    "start_time": "2021-11-25T22:35:04.516Z"
   },
   {
    "duration": 6077,
    "start_time": "2021-11-25T22:35:36.753Z"
   },
   {
    "duration": 19,
    "start_time": "2021-11-25T22:36:06.874Z"
   },
   {
    "duration": 21,
    "start_time": "2021-11-25T22:38:55.616Z"
   },
   {
    "duration": 26,
    "start_time": "2021-11-25T22:41:17.322Z"
   },
   {
    "duration": 34,
    "start_time": "2021-11-25T22:42:00.222Z"
   },
   {
    "duration": 33,
    "start_time": "2021-11-25T22:43:45.699Z"
   },
   {
    "duration": 22,
    "start_time": "2021-11-25T22:50:44.640Z"
   },
   {
    "duration": 18,
    "start_time": "2021-11-25T22:50:50.235Z"
   },
   {
    "duration": 10,
    "start_time": "2021-11-25T22:52:08.246Z"
   },
   {
    "duration": 16,
    "start_time": "2021-11-25T22:52:29.955Z"
   },
   {
    "duration": 46,
    "start_time": "2021-11-25T22:53:57.317Z"
   },
   {
    "duration": 50,
    "start_time": "2021-11-25T22:54:16.963Z"
   },
   {
    "duration": 45,
    "start_time": "2021-11-25T22:56:50.415Z"
   },
   {
    "duration": 46,
    "start_time": "2021-11-25T22:57:44.508Z"
   },
   {
    "duration": 17,
    "start_time": "2021-11-25T23:00:22.602Z"
   },
   {
    "duration": 264,
    "start_time": "2021-11-25T23:02:22.177Z"
   },
   {
    "duration": 249,
    "start_time": "2021-11-25T23:02:29.737Z"
   },
   {
    "duration": 5,
    "start_time": "2021-11-25T23:02:38.145Z"
   },
   {
    "duration": 16,
    "start_time": "2021-11-25T23:02:58.710Z"
   },
   {
    "duration": 33,
    "start_time": "2021-11-25T23:10:07.833Z"
   },
   {
    "duration": 17,
    "start_time": "2021-11-25T23:10:25.373Z"
   },
   {
    "duration": 30,
    "start_time": "2021-11-25T23:14:08.101Z"
   },
   {
    "duration": 34,
    "start_time": "2021-11-25T23:14:26.374Z"
   },
   {
    "duration": 4,
    "start_time": "2021-11-25T23:14:58.102Z"
   },
   {
    "duration": 15,
    "start_time": "2021-11-25T23:15:09.457Z"
   },
   {
    "duration": 13,
    "start_time": "2021-11-25T23:15:28.581Z"
   },
   {
    "duration": 5,
    "start_time": "2021-11-25T23:16:02.647Z"
   },
   {
    "duration": 20,
    "start_time": "2021-11-25T23:16:16.096Z"
   },
   {
    "duration": 15,
    "start_time": "2021-11-25T23:34:05.743Z"
   },
   {
    "duration": 23,
    "start_time": "2021-11-25T23:34:55.835Z"
   },
   {
    "duration": 25,
    "start_time": "2021-11-25T23:38:36.255Z"
   },
   {
    "duration": 33,
    "start_time": "2021-11-25T23:45:09.782Z"
   },
   {
    "duration": 21,
    "start_time": "2021-11-25T23:45:46.165Z"
   },
   {
    "duration": 6,
    "start_time": "2021-11-25T23:54:18.849Z"
   },
   {
    "duration": 25,
    "start_time": "2021-11-25T23:54:47.430Z"
   },
   {
    "duration": 27,
    "start_time": "2021-11-26T00:01:34.519Z"
   },
   {
    "duration": 27,
    "start_time": "2021-11-26T00:06:47.151Z"
   },
   {
    "duration": 27,
    "start_time": "2021-11-26T00:07:19.156Z"
   },
   {
    "duration": 400,
    "start_time": "2021-11-26T19:46:56.051Z"
   },
   {
    "duration": 615,
    "start_time": "2021-11-26T19:47:10.734Z"
   },
   {
    "duration": 118,
    "start_time": "2021-11-26T19:47:11.351Z"
   },
   {
    "duration": 39,
    "start_time": "2021-11-26T19:47:11.471Z"
   },
   {
    "duration": 73,
    "start_time": "2021-11-26T19:47:11.512Z"
   },
   {
    "duration": 5,
    "start_time": "2021-11-26T19:47:11.587Z"
   },
   {
    "duration": 6,
    "start_time": "2021-11-26T19:47:11.607Z"
   },
   {
    "duration": 20,
    "start_time": "2021-11-26T19:47:11.615Z"
   },
   {
    "duration": 26,
    "start_time": "2021-11-26T19:47:11.637Z"
   },
   {
    "duration": 14,
    "start_time": "2021-11-26T19:47:11.666Z"
   },
   {
    "duration": 5,
    "start_time": "2021-11-26T19:47:11.707Z"
   },
   {
    "duration": 10,
    "start_time": "2021-11-26T19:47:11.715Z"
   },
   {
    "duration": 17,
    "start_time": "2021-11-26T19:47:11.727Z"
   },
   {
    "duration": 10,
    "start_time": "2021-11-26T19:47:11.745Z"
   },
   {
    "duration": 53,
    "start_time": "2021-11-26T19:47:11.756Z"
   },
   {
    "duration": 22,
    "start_time": "2021-11-26T19:47:11.811Z"
   },
   {
    "duration": 25,
    "start_time": "2021-11-26T19:47:11.835Z"
   },
   {
    "duration": 5,
    "start_time": "2021-11-26T19:47:11.862Z"
   },
   {
    "duration": 7,
    "start_time": "2021-11-26T20:00:13.939Z"
   },
   {
    "duration": 8,
    "start_time": "2021-11-26T20:00:28.040Z"
   },
   {
    "duration": 9,
    "start_time": "2021-11-26T20:00:39.560Z"
   },
   {
    "duration": 435,
    "start_time": "2021-11-26T20:01:08.568Z"
   },
   {
    "duration": 40,
    "start_time": "2021-11-26T20:01:13.494Z"
   },
   {
    "duration": 39,
    "start_time": "2021-11-26T20:01:20.426Z"
   },
   {
    "duration": 22,
    "start_time": "2021-11-26T20:02:47.525Z"
   },
   {
    "duration": 8,
    "start_time": "2021-11-26T20:10:00.487Z"
   },
   {
    "duration": 24,
    "start_time": "2021-11-26T20:16:22.828Z"
   },
   {
    "duration": 11,
    "start_time": "2021-11-26T20:17:05.701Z"
   },
   {
    "duration": 25,
    "start_time": "2021-11-26T20:17:12.196Z"
   },
   {
    "duration": 8,
    "start_time": "2021-11-26T20:17:36.186Z"
   },
   {
    "duration": 484,
    "start_time": "2021-11-26T20:19:33.787Z"
   },
   {
    "duration": 349,
    "start_time": "2021-11-26T20:19:58.676Z"
   },
   {
    "duration": 1719,
    "start_time": "2021-11-26T20:20:18.686Z"
   },
   {
    "duration": 359,
    "start_time": "2021-11-26T20:20:37.625Z"
   },
   {
    "duration": 190,
    "start_time": "2021-11-26T20:22:03.769Z"
   },
   {
    "duration": 395,
    "start_time": "2021-11-26T20:22:15.891Z"
   },
   {
    "duration": 27,
    "start_time": "2021-11-26T20:24:24.028Z"
   },
   {
    "duration": 104,
    "start_time": "2021-11-26T20:29:15.625Z"
   },
   {
    "duration": 15,
    "start_time": "2021-11-26T20:29:25.781Z"
   },
   {
    "duration": 796,
    "start_time": "2021-11-26T20:29:43.943Z"
   },
   {
    "duration": 143,
    "start_time": "2021-11-26T20:29:44.741Z"
   },
   {
    "duration": 63,
    "start_time": "2021-11-26T20:29:44.887Z"
   },
   {
    "duration": 95,
    "start_time": "2021-11-26T20:29:44.953Z"
   },
   {
    "duration": 5,
    "start_time": "2021-11-26T20:29:45.050Z"
   },
   {
    "duration": 14,
    "start_time": "2021-11-26T20:29:45.058Z"
   },
   {
    "duration": 34,
    "start_time": "2021-11-26T20:29:45.074Z"
   },
   {
    "duration": 34,
    "start_time": "2021-11-26T20:29:45.110Z"
   },
   {
    "duration": 23,
    "start_time": "2021-11-26T20:29:45.147Z"
   },
   {
    "duration": 37,
    "start_time": "2021-11-26T20:29:45.172Z"
   },
   {
    "duration": 11,
    "start_time": "2021-11-26T20:29:45.212Z"
   },
   {
    "duration": 21,
    "start_time": "2021-11-26T20:29:45.224Z"
   },
   {
    "duration": 6,
    "start_time": "2021-11-26T20:29:45.248Z"
   },
   {
    "duration": 68,
    "start_time": "2021-11-26T20:29:45.255Z"
   },
   {
    "duration": 25,
    "start_time": "2021-11-26T20:29:45.326Z"
   },
   {
    "duration": 29,
    "start_time": "2021-11-26T20:29:45.353Z"
   },
   {
    "duration": 24,
    "start_time": "2021-11-26T20:29:45.407Z"
   },
   {
    "duration": 11,
    "start_time": "2021-11-26T20:29:45.432Z"
   },
   {
    "duration": 26,
    "start_time": "2021-11-26T20:29:45.445Z"
   },
   {
    "duration": 34,
    "start_time": "2021-11-26T20:29:45.473Z"
   },
   {
    "duration": 28,
    "start_time": "2021-11-26T20:29:45.508Z"
   },
   {
    "duration": 413,
    "start_time": "2021-11-26T20:29:45.538Z"
   },
   {
    "duration": 15,
    "start_time": "2021-11-26T20:29:45.953Z"
   },
   {
    "duration": 922,
    "start_time": "2021-11-26T20:31:46.877Z"
   },
   {
    "duration": 74,
    "start_time": "2021-11-26T20:31:53.579Z"
   },
   {
    "duration": 45,
    "start_time": "2021-11-26T20:32:34.670Z"
   },
   {
    "duration": 586,
    "start_time": "2021-11-26T20:32:40.246Z"
   },
   {
    "duration": 46,
    "start_time": "2021-11-26T20:32:42.806Z"
   },
   {
    "duration": 361,
    "start_time": "2021-11-26T20:48:07.268Z"
   },
   {
    "duration": 682,
    "start_time": "2021-11-26T20:48:15.386Z"
   },
   {
    "duration": 1104,
    "start_time": "2021-11-26T20:48:49.479Z"
   },
   {
    "duration": 1101,
    "start_time": "2021-11-26T20:49:13.827Z"
   },
   {
    "duration": 1017,
    "start_time": "2021-11-26T20:49:30.646Z"
   },
   {
    "duration": 1168,
    "start_time": "2021-11-26T20:49:51.486Z"
   },
   {
    "duration": 719,
    "start_time": "2021-11-26T20:50:21.430Z"
   },
   {
    "duration": 105,
    "start_time": "2021-11-26T20:50:22.151Z"
   },
   {
    "duration": 37,
    "start_time": "2021-11-26T20:50:22.261Z"
   },
   {
    "duration": 82,
    "start_time": "2021-11-26T20:50:22.300Z"
   },
   {
    "duration": 6,
    "start_time": "2021-11-26T20:50:22.385Z"
   },
   {
    "duration": 18,
    "start_time": "2021-11-26T20:50:22.394Z"
   },
   {
    "duration": 19,
    "start_time": "2021-11-26T20:50:22.415Z"
   },
   {
    "duration": 29,
    "start_time": "2021-11-26T20:50:22.436Z"
   },
   {
    "duration": 44,
    "start_time": "2021-11-26T20:50:22.466Z"
   },
   {
    "duration": 7,
    "start_time": "2021-11-26T20:50:22.512Z"
   },
   {
    "duration": 13,
    "start_time": "2021-11-26T20:50:22.521Z"
   },
   {
    "duration": 18,
    "start_time": "2021-11-26T20:50:22.536Z"
   },
   {
    "duration": 7,
    "start_time": "2021-11-26T20:50:22.556Z"
   },
   {
    "duration": 70,
    "start_time": "2021-11-26T20:50:22.565Z"
   },
   {
    "duration": 23,
    "start_time": "2021-11-26T20:50:22.637Z"
   },
   {
    "duration": 54,
    "start_time": "2021-11-26T20:50:22.662Z"
   },
   {
    "duration": 23,
    "start_time": "2021-11-26T20:50:22.720Z"
   },
   {
    "duration": 21,
    "start_time": "2021-11-26T20:50:22.746Z"
   },
   {
    "duration": 31,
    "start_time": "2021-11-26T20:50:22.768Z"
   },
   {
    "duration": 19,
    "start_time": "2021-11-26T20:50:22.806Z"
   },
   {
    "duration": 36,
    "start_time": "2021-11-26T20:50:22.827Z"
   },
   {
    "duration": 686,
    "start_time": "2021-11-26T20:50:22.866Z"
   },
   {
    "duration": 17,
    "start_time": "2021-11-26T20:50:23.554Z"
   },
   {
    "duration": 1577,
    "start_time": "2021-11-26T20:50:36.247Z"
   },
   {
    "duration": 999,
    "start_time": "2021-11-26T20:50:44.003Z"
   },
   {
    "duration": 1112,
    "start_time": "2021-11-26T20:50:57.773Z"
   },
   {
    "duration": 1117,
    "start_time": "2021-11-26T20:51:05.495Z"
   },
   {
    "duration": 1419,
    "start_time": "2021-11-26T20:51:18.623Z"
   },
   {
    "duration": 9546,
    "start_time": "2021-11-26T20:51:24.116Z"
   },
   {
    "duration": 2231,
    "start_time": "2021-11-26T20:51:43.803Z"
   },
   {
    "duration": 19,
    "start_time": "2021-11-26T20:52:57.456Z"
   },
   {
    "duration": 29,
    "start_time": "2021-11-26T20:53:16.223Z"
   },
   {
    "duration": 39,
    "start_time": "2021-11-26T20:53:33.529Z"
   },
   {
    "duration": 15,
    "start_time": "2021-11-26T20:57:05.500Z"
   },
   {
    "duration": 18,
    "start_time": "2021-11-26T20:57:29.512Z"
   },
   {
    "duration": 18,
    "start_time": "2021-11-26T20:57:40.624Z"
   },
   {
    "duration": 4,
    "start_time": "2021-11-26T21:06:22.860Z"
   },
   {
    "duration": 4,
    "start_time": "2021-11-26T21:08:27.118Z"
   },
   {
    "duration": 8,
    "start_time": "2021-11-26T21:08:29.164Z"
   },
   {
    "duration": 5,
    "start_time": "2021-11-26T21:08:31.398Z"
   },
   {
    "duration": 405,
    "start_time": "2021-11-26T21:11:30.136Z"
   },
   {
    "duration": 5,
    "start_time": "2021-11-26T21:11:43.390Z"
   },
   {
    "duration": 5,
    "start_time": "2021-11-26T21:12:45.187Z"
   },
   {
    "duration": 411,
    "start_time": "2021-11-26T21:12:48.584Z"
   },
   {
    "duration": 5,
    "start_time": "2021-11-26T21:13:04.546Z"
   },
   {
    "duration": 346,
    "start_time": "2021-11-26T21:14:01.787Z"
   },
   {
    "duration": 737,
    "start_time": "2021-11-26T21:14:14.624Z"
   },
   {
    "duration": 107,
    "start_time": "2021-11-26T21:14:15.363Z"
   },
   {
    "duration": 39,
    "start_time": "2021-11-26T21:14:15.473Z"
   },
   {
    "duration": 78,
    "start_time": "2021-11-26T21:14:15.514Z"
   },
   {
    "duration": 14,
    "start_time": "2021-11-26T21:14:15.594Z"
   },
   {
    "duration": 13,
    "start_time": "2021-11-26T21:14:15.610Z"
   },
   {
    "duration": 20,
    "start_time": "2021-11-26T21:14:15.625Z"
   },
   {
    "duration": 39,
    "start_time": "2021-11-26T21:14:15.647Z"
   },
   {
    "duration": 25,
    "start_time": "2021-11-26T21:14:15.710Z"
   },
   {
    "duration": 7,
    "start_time": "2021-11-26T21:14:15.737Z"
   },
   {
    "duration": 12,
    "start_time": "2021-11-26T21:14:15.746Z"
   },
   {
    "duration": 50,
    "start_time": "2021-11-26T21:14:15.760Z"
   },
   {
    "duration": 15,
    "start_time": "2021-11-26T21:14:15.812Z"
   },
   {
    "duration": 472,
    "start_time": "2021-11-26T21:14:15.829Z"
   },
   {
    "duration": -18335,
    "start_time": "2021-11-26T21:14:34.638Z"
   },
   {
    "duration": -18335,
    "start_time": "2021-11-26T21:14:34.639Z"
   },
   {
    "duration": -18336,
    "start_time": "2021-11-26T21:14:34.641Z"
   },
   {
    "duration": -18336,
    "start_time": "2021-11-26T21:14:34.642Z"
   },
   {
    "duration": -18336,
    "start_time": "2021-11-26T21:14:34.643Z"
   },
   {
    "duration": -18336,
    "start_time": "2021-11-26T21:14:34.644Z"
   },
   {
    "duration": -18336,
    "start_time": "2021-11-26T21:14:34.645Z"
   },
   {
    "duration": -18335,
    "start_time": "2021-11-26T21:14:34.646Z"
   },
   {
    "duration": -18335,
    "start_time": "2021-11-26T21:14:34.647Z"
   },
   {
    "duration": -18338,
    "start_time": "2021-11-26T21:14:34.651Z"
   },
   {
    "duration": -18338,
    "start_time": "2021-11-26T21:14:34.652Z"
   },
   {
    "duration": 8,
    "start_time": "2021-11-26T21:14:43.750Z"
   },
   {
    "duration": 369,
    "start_time": "2021-11-26T21:14:49.260Z"
   },
   {
    "duration": 1805,
    "start_time": "2021-11-26T21:17:20.361Z"
   },
   {
    "duration": 105,
    "start_time": "2021-11-26T21:17:22.168Z"
   },
   {
    "duration": 34,
    "start_time": "2021-11-26T21:17:22.275Z"
   },
   {
    "duration": 76,
    "start_time": "2021-11-26T21:17:22.311Z"
   },
   {
    "duration": 20,
    "start_time": "2021-11-26T21:17:22.388Z"
   },
   {
    "duration": 14,
    "start_time": "2021-11-26T21:17:22.412Z"
   },
   {
    "duration": 57,
    "start_time": "2021-11-26T21:17:22.428Z"
   },
   {
    "duration": 37,
    "start_time": "2021-11-26T21:17:22.487Z"
   },
   {
    "duration": 16,
    "start_time": "2021-11-26T21:17:22.527Z"
   },
   {
    "duration": 9,
    "start_time": "2021-11-26T21:17:22.546Z"
   },
   {
    "duration": 18,
    "start_time": "2021-11-26T21:17:22.557Z"
   },
   {
    "duration": 33,
    "start_time": "2021-11-26T21:17:22.577Z"
   },
   {
    "duration": 13,
    "start_time": "2021-11-26T21:17:22.612Z"
   },
   {
    "duration": 9,
    "start_time": "2021-11-26T21:17:22.627Z"
   },
   {
    "duration": 6,
    "start_time": "2021-11-26T21:17:22.638Z"
   },
   {
    "duration": 30,
    "start_time": "2021-11-26T21:17:22.645Z"
   },
   {
    "duration": 48,
    "start_time": "2021-11-26T21:17:22.677Z"
   },
   {
    "duration": 33,
    "start_time": "2021-11-26T21:17:22.727Z"
   },
   {
    "duration": 22,
    "start_time": "2021-11-26T21:17:22.762Z"
   },
   {
    "duration": 10,
    "start_time": "2021-11-26T21:17:22.812Z"
   },
   {
    "duration": 29,
    "start_time": "2021-11-26T21:17:22.824Z"
   },
   {
    "duration": 16,
    "start_time": "2021-11-26T21:17:22.854Z"
   },
   {
    "duration": 56,
    "start_time": "2021-11-26T21:17:22.872Z"
   },
   {
    "duration": 59,
    "start_time": "2021-11-26T21:17:22.931Z"
   },
   {
    "duration": 21,
    "start_time": "2021-11-26T21:17:22.991Z"
   },
   {
    "duration": 6,
    "start_time": "2021-11-26T21:26:10.214Z"
   },
   {
    "duration": 114,
    "start_time": "2021-11-26T21:27:16.724Z"
   },
   {
    "duration": 79,
    "start_time": "2021-11-26T21:27:25.817Z"
   },
   {
    "duration": 662,
    "start_time": "2021-11-26T21:28:07.552Z"
   },
   {
    "duration": 105,
    "start_time": "2021-11-26T21:28:08.217Z"
   },
   {
    "duration": 41,
    "start_time": "2021-11-26T21:28:08.328Z"
   },
   {
    "duration": 96,
    "start_time": "2021-11-26T21:28:08.372Z"
   },
   {
    "duration": 6,
    "start_time": "2021-11-26T21:28:08.471Z"
   },
   {
    "duration": 20,
    "start_time": "2021-11-26T21:28:08.480Z"
   },
   {
    "duration": 15,
    "start_time": "2021-11-26T21:28:08.510Z"
   },
   {
    "duration": 27,
    "start_time": "2021-11-26T21:28:08.528Z"
   },
   {
    "duration": 15,
    "start_time": "2021-11-26T21:28:08.558Z"
   },
   {
    "duration": 31,
    "start_time": "2021-11-26T21:28:08.575Z"
   },
   {
    "duration": 12,
    "start_time": "2021-11-26T21:28:08.609Z"
   },
   {
    "duration": 15,
    "start_time": "2021-11-26T21:28:08.623Z"
   },
   {
    "duration": 110,
    "start_time": "2021-11-26T21:28:08.640Z"
   },
   {
    "duration": 5,
    "start_time": "2021-11-26T21:28:08.751Z"
   },
   {
    "duration": 14,
    "start_time": "2021-11-26T21:28:08.757Z"
   },
   {
    "duration": 41,
    "start_time": "2021-11-26T21:28:08.773Z"
   },
   {
    "duration": 26,
    "start_time": "2021-11-26T21:28:08.815Z"
   },
   {
    "duration": 29,
    "start_time": "2021-11-26T21:28:08.843Z"
   },
   {
    "duration": 47,
    "start_time": "2021-11-26T21:28:08.873Z"
   },
   {
    "duration": 9,
    "start_time": "2021-11-26T21:28:08.922Z"
   },
   {
    "duration": 25,
    "start_time": "2021-11-26T21:28:08.933Z"
   },
   {
    "duration": 11,
    "start_time": "2021-11-26T21:28:08.959Z"
   },
   {
    "duration": 67,
    "start_time": "2021-11-26T21:28:08.971Z"
   },
   {
    "duration": 37,
    "start_time": "2021-11-26T21:28:09.040Z"
   },
   {
    "duration": 35,
    "start_time": "2021-11-26T21:28:09.078Z"
   },
   {
    "duration": 4,
    "start_time": "2021-11-26T21:47:40.479Z"
   },
   {
    "duration": 27,
    "start_time": "2021-11-26T21:48:05.462Z"
   },
   {
    "duration": 4,
    "start_time": "2021-11-26T22:13:33.141Z"
   },
   {
    "duration": 5,
    "start_time": "2021-11-26T22:13:40.399Z"
   },
   {
    "duration": 5,
    "start_time": "2021-11-26T22:14:46.150Z"
   },
   {
    "duration": 4,
    "start_time": "2021-11-26T22:15:15.283Z"
   },
   {
    "duration": 4,
    "start_time": "2021-11-26T22:15:54.390Z"
   },
   {
    "duration": 5,
    "start_time": "2021-11-26T22:15:58.614Z"
   },
   {
    "duration": 4,
    "start_time": "2021-11-26T22:19:17.177Z"
   },
   {
    "duration": 1685,
    "start_time": "2021-11-26T22:22:06.331Z"
   },
   {
    "duration": 1600,
    "start_time": "2021-11-26T22:23:12.524Z"
   },
   {
    "duration": 23,
    "start_time": "2021-11-26T22:27:19.314Z"
   },
   {
    "duration": 8,
    "start_time": "2021-11-26T22:27:55.413Z"
   },
   {
    "duration": 20,
    "start_time": "2021-11-26T22:27:57.899Z"
   },
   {
    "duration": 15,
    "start_time": "2021-11-26T22:28:12.649Z"
   },
   {
    "duration": 23,
    "start_time": "2021-11-26T22:28:31.444Z"
   },
   {
    "duration": 33,
    "start_time": "2021-11-26T22:29:37.012Z"
   },
   {
    "duration": 740,
    "start_time": "2021-11-26T22:30:42.030Z"
   },
   {
    "duration": 109,
    "start_time": "2021-11-26T22:30:42.772Z"
   },
   {
    "duration": 46,
    "start_time": "2021-11-26T22:30:42.883Z"
   },
   {
    "duration": 125,
    "start_time": "2021-11-26T22:30:42.931Z"
   },
   {
    "duration": 8,
    "start_time": "2021-11-26T22:30:43.058Z"
   },
   {
    "duration": 15,
    "start_time": "2021-11-26T22:30:43.068Z"
   },
   {
    "duration": 37,
    "start_time": "2021-11-26T22:30:43.085Z"
   },
   {
    "duration": 41,
    "start_time": "2021-11-26T22:30:43.124Z"
   },
   {
    "duration": 41,
    "start_time": "2021-11-26T22:30:43.169Z"
   },
   {
    "duration": 11,
    "start_time": "2021-11-26T22:30:43.214Z"
   },
   {
    "duration": 23,
    "start_time": "2021-11-26T22:30:43.228Z"
   },
   {
    "duration": 21,
    "start_time": "2021-11-26T22:30:43.253Z"
   },
   {
    "duration": 96,
    "start_time": "2021-11-26T22:30:43.276Z"
   },
   {
    "duration": 4,
    "start_time": "2021-11-26T22:30:43.374Z"
   },
   {
    "duration": 11,
    "start_time": "2021-11-26T22:30:43.379Z"
   },
   {
    "duration": 48,
    "start_time": "2021-11-26T22:30:43.392Z"
   },
   {
    "duration": 25,
    "start_time": "2021-11-26T22:30:43.442Z"
   },
   {
    "duration": 58,
    "start_time": "2021-11-26T22:30:43.469Z"
   },
   {
    "duration": 22,
    "start_time": "2021-11-26T22:30:43.529Z"
   },
   {
    "duration": 12,
    "start_time": "2021-11-26T22:30:43.553Z"
   },
   {
    "duration": 43,
    "start_time": "2021-11-26T22:30:43.567Z"
   },
   {
    "duration": 9,
    "start_time": "2021-11-26T22:30:43.614Z"
   },
   {
    "duration": 42,
    "start_time": "2021-11-26T22:30:43.625Z"
   },
   {
    "duration": 58,
    "start_time": "2021-11-26T22:30:43.670Z"
   },
   {
    "duration": 13,
    "start_time": "2021-11-26T22:30:43.730Z"
   },
   {
    "duration": 10,
    "start_time": "2021-11-26T22:30:43.745Z"
   },
   {
    "duration": 33,
    "start_time": "2021-11-26T22:30:43.758Z"
   },
   {
    "duration": 21,
    "start_time": "2021-11-26T22:30:43.793Z"
   },
   {
    "duration": 24,
    "start_time": "2021-11-26T22:30:43.816Z"
   },
   {
    "duration": 34,
    "start_time": "2021-11-26T22:31:08.503Z"
   },
   {
    "duration": 2,
    "start_time": "2021-11-26T22:37:18.261Z"
   },
   {
    "duration": 711,
    "start_time": "2021-11-26T22:37:23.550Z"
   },
   {
    "duration": 102,
    "start_time": "2021-11-26T22:37:24.263Z"
   },
   {
    "duration": 36,
    "start_time": "2021-11-26T22:37:24.368Z"
   },
   {
    "duration": 75,
    "start_time": "2021-11-26T22:37:24.406Z"
   },
   {
    "duration": 6,
    "start_time": "2021-11-26T22:37:24.483Z"
   },
   {
    "duration": 7,
    "start_time": "2021-11-26T22:37:24.511Z"
   },
   {
    "duration": 21,
    "start_time": "2021-11-26T22:37:24.523Z"
   },
   {
    "duration": 43,
    "start_time": "2021-11-26T22:37:24.546Z"
   },
   {
    "duration": 42,
    "start_time": "2021-11-26T22:37:24.593Z"
   },
   {
    "duration": 16,
    "start_time": "2021-11-26T22:37:24.638Z"
   },
   {
    "duration": 13,
    "start_time": "2021-11-26T22:37:24.656Z"
   },
   {
    "duration": 19,
    "start_time": "2021-11-26T22:37:24.671Z"
   },
   {
    "duration": 98,
    "start_time": "2021-11-26T22:37:24.692Z"
   },
   {
    "duration": 29,
    "start_time": "2021-11-26T22:37:24.792Z"
   },
   {
    "duration": 18,
    "start_time": "2021-11-26T22:37:24.823Z"
   },
   {
    "duration": 29,
    "start_time": "2021-11-26T22:37:24.843Z"
   },
   {
    "duration": 28,
    "start_time": "2021-11-26T22:37:24.875Z"
   },
   {
    "duration": 45,
    "start_time": "2021-11-26T22:37:24.905Z"
   },
   {
    "duration": 35,
    "start_time": "2021-11-26T22:37:24.952Z"
   },
   {
    "duration": 25,
    "start_time": "2021-11-26T22:37:24.989Z"
   },
   {
    "duration": 42,
    "start_time": "2021-11-26T22:37:25.016Z"
   },
   {
    "duration": 7,
    "start_time": "2021-11-26T22:37:25.060Z"
   },
   {
    "duration": 60,
    "start_time": "2021-11-26T22:37:25.069Z"
   },
   {
    "duration": 36,
    "start_time": "2021-11-26T22:37:25.131Z"
   },
   {
    "duration": 12,
    "start_time": "2021-11-26T22:37:25.169Z"
   },
   {
    "duration": 31,
    "start_time": "2021-11-26T22:37:25.182Z"
   },
   {
    "duration": 43,
    "start_time": "2021-11-26T22:37:25.218Z"
   },
   {
    "duration": 2,
    "start_time": "2021-11-26T22:37:25.263Z"
   },
   {
    "duration": 48,
    "start_time": "2021-11-26T22:37:25.267Z"
   },
   {
    "duration": 34,
    "start_time": "2021-11-26T22:38:45.053Z"
   },
   {
    "duration": 40,
    "start_time": "2021-11-26T22:41:46.697Z"
   },
   {
    "duration": 36,
    "start_time": "2021-11-26T22:43:16.286Z"
   },
   {
    "duration": 6,
    "start_time": "2021-11-26T22:44:21.227Z"
   },
   {
    "duration": 25,
    "start_time": "2021-11-26T22:44:35.501Z"
   },
   {
    "duration": 32,
    "start_time": "2021-11-26T22:45:08.718Z"
   },
   {
    "duration": 46,
    "start_time": "2021-11-26T22:47:34.109Z"
   },
   {
    "duration": 10,
    "start_time": "2021-11-26T22:48:34.756Z"
   },
   {
    "duration": 17,
    "start_time": "2021-11-26T22:49:45.796Z"
   },
   {
    "duration": 15,
    "start_time": "2021-11-26T22:50:45.894Z"
   },
   {
    "duration": 4,
    "start_time": "2021-11-26T22:55:40.220Z"
   },
   {
    "duration": 207,
    "start_time": "2021-11-26T22:56:01.227Z"
   },
   {
    "duration": 335,
    "start_time": "2021-11-26T22:56:10.464Z"
   },
   {
    "duration": 302,
    "start_time": "2021-11-26T22:56:16.361Z"
   },
   {
    "duration": 281,
    "start_time": "2021-11-26T22:58:00.643Z"
   },
   {
    "duration": 209,
    "start_time": "2021-11-26T22:58:53.236Z"
   },
   {
    "duration": 208,
    "start_time": "2021-11-26T22:59:20.101Z"
   },
   {
    "duration": 197,
    "start_time": "2021-11-26T22:59:38.942Z"
   },
   {
    "duration": 227,
    "start_time": "2021-11-26T23:01:08.997Z"
   },
   {
    "duration": 206,
    "start_time": "2021-11-26T23:01:24.006Z"
   },
   {
    "duration": 238,
    "start_time": "2021-11-26T23:03:40.819Z"
   },
   {
    "duration": 215,
    "start_time": "2021-11-26T23:03:45.247Z"
   },
   {
    "duration": 210,
    "start_time": "2021-11-26T23:03:56.497Z"
   },
   {
    "duration": 275,
    "start_time": "2021-11-26T23:04:01.660Z"
   },
   {
    "duration": 419,
    "start_time": "2021-11-26T23:06:13.417Z"
   },
   {
    "duration": 34,
    "start_time": "2021-11-26T23:06:57.539Z"
   },
   {
    "duration": 29,
    "start_time": "2021-11-26T23:07:12.944Z"
   },
   {
    "duration": 5,
    "start_time": "2021-11-26T23:08:27.317Z"
   },
   {
    "duration": 5,
    "start_time": "2021-11-26T23:09:02.210Z"
   },
   {
    "duration": 30,
    "start_time": "2021-11-26T23:09:12.870Z"
   },
   {
    "duration": 4,
    "start_time": "2021-11-26T23:09:53.092Z"
   },
   {
    "duration": 5,
    "start_time": "2021-11-26T23:14:18.076Z"
   },
   {
    "duration": 4,
    "start_time": "2021-11-26T23:14:24.028Z"
   },
   {
    "duration": 359,
    "start_time": "2021-11-26T23:24:24.796Z"
   },
   {
    "duration": 32,
    "start_time": "2021-11-26T23:24:31.158Z"
   },
   {
    "duration": 10,
    "start_time": "2021-11-26T23:25:54.148Z"
   },
   {
    "duration": 286,
    "start_time": "2021-11-26T23:26:42.457Z"
   },
   {
    "duration": 260,
    "start_time": "2021-11-26T23:27:47.985Z"
   },
   {
    "duration": 266,
    "start_time": "2021-11-26T23:29:13.983Z"
   },
   {
    "duration": 251,
    "start_time": "2021-11-26T23:30:37.036Z"
   },
   {
    "duration": 448,
    "start_time": "2021-11-26T23:30:47.337Z"
   },
   {
    "duration": 49,
    "start_time": "2021-11-27T00:21:53.864Z"
   },
   {
    "duration": 47,
    "start_time": "2021-11-27T00:22:14.705Z"
   },
   {
    "duration": 46,
    "start_time": "2021-11-27T00:22:49.270Z"
   },
   {
    "duration": 24,
    "start_time": "2021-11-27T00:23:52.096Z"
   },
   {
    "duration": 12,
    "start_time": "2021-11-27T00:24:04.234Z"
   },
   {
    "duration": 7,
    "start_time": "2021-11-27T00:24:34.606Z"
   },
   {
    "duration": 5,
    "start_time": "2021-11-27T00:26:39.080Z"
   },
   {
    "duration": 31,
    "start_time": "2021-11-27T00:26:49.706Z"
   },
   {
    "duration": 9,
    "start_time": "2021-11-27T00:29:35.664Z"
   },
   {
    "duration": 339,
    "start_time": "2021-11-27T00:29:49.824Z"
   },
   {
    "duration": 9,
    "start_time": "2021-11-27T00:30:02.868Z"
   },
   {
    "duration": 25,
    "start_time": "2021-11-27T00:30:09.017Z"
   },
   {
    "duration": 349,
    "start_time": "2021-11-27T00:31:57.227Z"
   },
   {
    "duration": 23,
    "start_time": "2021-11-27T00:32:06.437Z"
   },
   {
    "duration": 248,
    "start_time": "2021-11-27T00:32:21.637Z"
   },
   {
    "duration": 236,
    "start_time": "2021-11-27T00:32:35.690Z"
   },
   {
    "duration": 346,
    "start_time": "2021-11-27T00:33:07.371Z"
   },
   {
    "duration": 3,
    "start_time": "2021-11-27T00:33:16.709Z"
   },
   {
    "duration": 338,
    "start_time": "2021-11-27T00:33:55.606Z"
   },
   {
    "duration": 316,
    "start_time": "2021-11-27T00:34:06.747Z"
   },
   {
    "duration": 18,
    "start_time": "2021-11-27T00:34:21.758Z"
   },
   {
    "duration": 24,
    "start_time": "2021-11-27T00:34:32.900Z"
   },
   {
    "duration": 387,
    "start_time": "2021-11-27T00:34:45.649Z"
   },
   {
    "duration": 335,
    "start_time": "2021-11-27T00:35:34.474Z"
   },
   {
    "duration": 31,
    "start_time": "2021-11-27T00:48:29.087Z"
   },
   {
    "duration": 31,
    "start_time": "2021-11-27T00:50:04.713Z"
   },
   {
    "duration": 10,
    "start_time": "2021-11-27T00:50:23.419Z"
   },
   {
    "duration": 439,
    "start_time": "2021-11-27T00:50:38.903Z"
   },
   {
    "duration": 10,
    "start_time": "2021-11-27T00:50:44.338Z"
   },
   {
    "duration": 32,
    "start_time": "2021-11-27T00:51:01.864Z"
   },
   {
    "duration": 35,
    "start_time": "2021-11-27T00:54:11.648Z"
   },
   {
    "duration": 38,
    "start_time": "2021-11-27T00:54:46.894Z"
   },
   {
    "duration": 36,
    "start_time": "2021-11-27T00:55:09.540Z"
   },
   {
    "duration": 37,
    "start_time": "2021-11-27T00:55:23.752Z"
   },
   {
    "duration": 13,
    "start_time": "2021-11-27T00:56:00.709Z"
   },
   {
    "duration": 36,
    "start_time": "2021-11-27T00:56:11.717Z"
   },
   {
    "duration": 39,
    "start_time": "2021-11-27T01:01:14.587Z"
   },
   {
    "duration": 841,
    "start_time": "2021-11-27T01:02:27.607Z"
   },
   {
    "duration": 98,
    "start_time": "2021-11-27T01:02:28.450Z"
   },
   {
    "duration": 37,
    "start_time": "2021-11-27T01:02:28.552Z"
   },
   {
    "duration": 76,
    "start_time": "2021-11-27T01:02:28.590Z"
   },
   {
    "duration": 6,
    "start_time": "2021-11-27T01:02:28.667Z"
   },
   {
    "duration": 9,
    "start_time": "2021-11-27T01:02:28.675Z"
   },
   {
    "duration": 26,
    "start_time": "2021-11-27T01:02:28.686Z"
   },
   {
    "duration": 27,
    "start_time": "2021-11-27T01:02:28.715Z"
   },
   {
    "duration": 16,
    "start_time": "2021-11-27T01:02:28.744Z"
   },
   {
    "duration": 8,
    "start_time": "2021-11-27T01:02:28.761Z"
   },
   {
    "duration": 42,
    "start_time": "2021-11-27T01:02:28.771Z"
   },
   {
    "duration": 19,
    "start_time": "2021-11-27T01:02:28.815Z"
   },
   {
    "duration": 101,
    "start_time": "2021-11-27T01:02:28.836Z"
   },
   {
    "duration": 5,
    "start_time": "2021-11-27T01:02:28.939Z"
   },
   {
    "duration": 7,
    "start_time": "2021-11-27T01:02:28.946Z"
   },
   {
    "duration": 26,
    "start_time": "2021-11-27T01:02:28.955Z"
   },
   {
    "duration": 43,
    "start_time": "2021-11-27T01:02:28.983Z"
   },
   {
    "duration": 30,
    "start_time": "2021-11-27T01:02:29.028Z"
   },
   {
    "duration": 23,
    "start_time": "2021-11-27T01:02:29.060Z"
   },
   {
    "duration": 8,
    "start_time": "2021-11-27T01:02:29.107Z"
   },
   {
    "duration": 24,
    "start_time": "2021-11-27T01:02:29.117Z"
   },
   {
    "duration": 11,
    "start_time": "2021-11-27T01:02:29.143Z"
   },
   {
    "duration": 57,
    "start_time": "2021-11-27T01:02:29.156Z"
   },
   {
    "duration": 39,
    "start_time": "2021-11-27T01:02:29.214Z"
   },
   {
    "duration": 14,
    "start_time": "2021-11-27T01:02:29.255Z"
   },
   {
    "duration": 5,
    "start_time": "2021-11-27T01:02:29.274Z"
   },
   {
    "duration": 3,
    "start_time": "2021-11-27T01:02:29.307Z"
   },
   {
    "duration": 34,
    "start_time": "2021-11-27T01:02:29.313Z"
   },
   {
    "duration": 21,
    "start_time": "2021-11-27T01:02:29.349Z"
   },
   {
    "duration": 238,
    "start_time": "2021-11-27T01:02:29.371Z"
   },
   {
    "duration": 4,
    "start_time": "2021-11-27T01:02:29.610Z"
   },
   {
    "duration": 271,
    "start_time": "2021-11-27T01:02:29.616Z"
   },
   {
    "duration": 19,
    "start_time": "2021-11-27T01:02:29.889Z"
   },
   {
    "duration": 9,
    "start_time": "2021-11-27T01:02:29.910Z"
   },
   {
    "duration": 23,
    "start_time": "2021-11-27T01:02:29.921Z"
   },
   {
    "duration": 360,
    "start_time": "2021-11-27T01:02:29.946Z"
   },
   {
    "duration": 40,
    "start_time": "2021-11-27T01:02:30.308Z"
   },
   {
    "duration": 118,
    "start_time": "2021-11-27T13:53:17.191Z"
   },
   {
    "duration": 113,
    "start_time": "2021-11-27T14:02:51.266Z"
   },
   {
    "duration": 78,
    "start_time": "2021-11-27T14:28:19.020Z"
   },
   {
    "duration": 649,
    "start_time": "2021-11-27T14:29:42.489Z"
   },
   {
    "duration": 94,
    "start_time": "2021-11-27T14:29:43.140Z"
   },
   {
    "duration": 33,
    "start_time": "2021-11-27T14:29:43.238Z"
   },
   {
    "duration": 65,
    "start_time": "2021-11-27T14:29:43.272Z"
   },
   {
    "duration": 301,
    "start_time": "2021-11-27T14:29:43.339Z"
   },
   {
    "duration": -811,
    "start_time": "2021-11-27T14:29:44.455Z"
   },
   {
    "duration": -837,
    "start_time": "2021-11-27T14:29:44.482Z"
   },
   {
    "duration": -839,
    "start_time": "2021-11-27T14:29:44.485Z"
   },
   {
    "duration": -848,
    "start_time": "2021-11-27T14:29:44.496Z"
   },
   {
    "duration": -851,
    "start_time": "2021-11-27T14:29:44.500Z"
   },
   {
    "duration": -856,
    "start_time": "2021-11-27T14:29:44.506Z"
   },
   {
    "duration": -865,
    "start_time": "2021-11-27T14:29:44.517Z"
   },
   {
    "duration": -868,
    "start_time": "2021-11-27T14:29:44.522Z"
   },
   {
    "duration": -871,
    "start_time": "2021-11-27T14:29:44.526Z"
   },
   {
    "duration": -873,
    "start_time": "2021-11-27T14:29:44.529Z"
   },
   {
    "duration": -874,
    "start_time": "2021-11-27T14:29:44.532Z"
   },
   {
    "duration": -877,
    "start_time": "2021-11-27T14:29:44.536Z"
   },
   {
    "duration": -879,
    "start_time": "2021-11-27T14:29:44.539Z"
   },
   {
    "duration": -881,
    "start_time": "2021-11-27T14:29:44.543Z"
   },
   {
    "duration": -883,
    "start_time": "2021-11-27T14:29:44.546Z"
   },
   {
    "duration": -885,
    "start_time": "2021-11-27T14:29:44.549Z"
   },
   {
    "duration": -886,
    "start_time": "2021-11-27T14:29:44.552Z"
   },
   {
    "duration": -888,
    "start_time": "2021-11-27T14:29:44.555Z"
   },
   {
    "duration": -891,
    "start_time": "2021-11-27T14:29:44.559Z"
   },
   {
    "duration": -892,
    "start_time": "2021-11-27T14:29:44.562Z"
   },
   {
    "duration": -894,
    "start_time": "2021-11-27T14:29:44.565Z"
   },
   {
    "duration": -896,
    "start_time": "2021-11-27T14:29:44.568Z"
   },
   {
    "duration": -897,
    "start_time": "2021-11-27T14:29:44.571Z"
   },
   {
    "duration": -900,
    "start_time": "2021-11-27T14:29:44.575Z"
   },
   {
    "duration": -902,
    "start_time": "2021-11-27T14:29:44.578Z"
   },
   {
    "duration": -903,
    "start_time": "2021-11-27T14:29:44.581Z"
   },
   {
    "duration": -905,
    "start_time": "2021-11-27T14:29:44.584Z"
   },
   {
    "duration": -907,
    "start_time": "2021-11-27T14:29:44.587Z"
   },
   {
    "duration": -909,
    "start_time": "2021-11-27T14:29:44.590Z"
   },
   {
    "duration": -910,
    "start_time": "2021-11-27T14:29:44.593Z"
   },
   {
    "duration": -912,
    "start_time": "2021-11-27T14:29:44.596Z"
   },
   {
    "duration": -912,
    "start_time": "2021-11-27T14:29:44.599Z"
   },
   {
    "duration": -913,
    "start_time": "2021-11-27T14:29:44.602Z"
   },
   {
    "duration": 3,
    "start_time": "2021-11-27T14:30:11.320Z"
   },
   {
    "duration": 702,
    "start_time": "2021-11-27T14:30:28.079Z"
   },
   {
    "duration": 92,
    "start_time": "2021-11-27T14:30:28.782Z"
   },
   {
    "duration": 30,
    "start_time": "2021-11-27T14:30:28.876Z"
   },
   {
    "duration": 80,
    "start_time": "2021-11-27T14:30:28.908Z"
   },
   {
    "duration": 2,
    "start_time": "2021-11-27T14:30:28.989Z"
   },
   {
    "duration": 7,
    "start_time": "2021-11-27T14:30:28.993Z"
   },
   {
    "duration": 7,
    "start_time": "2021-11-27T14:30:29.001Z"
   },
   {
    "duration": 11,
    "start_time": "2021-11-27T14:30:29.009Z"
   },
   {
    "duration": 22,
    "start_time": "2021-11-27T14:30:29.023Z"
   },
   {
    "duration": 13,
    "start_time": "2021-11-27T14:30:29.047Z"
   },
   {
    "duration": 4,
    "start_time": "2021-11-27T14:30:29.088Z"
   },
   {
    "duration": 9,
    "start_time": "2021-11-27T14:30:29.093Z"
   },
   {
    "duration": 19,
    "start_time": "2021-11-27T14:30:29.103Z"
   },
   {
    "duration": 80,
    "start_time": "2021-11-27T14:30:29.123Z"
   },
   {
    "duration": 4,
    "start_time": "2021-11-27T14:30:29.205Z"
   },
   {
    "duration": 6,
    "start_time": "2021-11-27T14:30:29.210Z"
   },
   {
    "duration": 23,
    "start_time": "2021-11-27T14:30:29.217Z"
   },
   {
    "duration": 18,
    "start_time": "2021-11-27T14:30:29.241Z"
   },
   {
    "duration": 47,
    "start_time": "2021-11-27T14:30:29.260Z"
   },
   {
    "duration": 20,
    "start_time": "2021-11-27T14:30:29.308Z"
   },
   {
    "duration": 7,
    "start_time": "2021-11-27T14:30:29.329Z"
   },
   {
    "duration": 20,
    "start_time": "2021-11-27T14:30:29.338Z"
   },
   {
    "duration": 7,
    "start_time": "2021-11-27T14:30:29.387Z"
   },
   {
    "duration": 27,
    "start_time": "2021-11-27T14:30:29.395Z"
   },
   {
    "duration": 32,
    "start_time": "2021-11-27T14:30:29.424Z"
   },
   {
    "duration": 34,
    "start_time": "2021-11-27T14:30:29.458Z"
   },
   {
    "duration": 3,
    "start_time": "2021-11-27T14:30:29.496Z"
   },
   {
    "duration": 7,
    "start_time": "2021-11-27T14:30:29.501Z"
   },
   {
    "duration": 37,
    "start_time": "2021-11-27T14:30:29.510Z"
   },
   {
    "duration": 17,
    "start_time": "2021-11-27T14:30:29.548Z"
   },
   {
    "duration": 194,
    "start_time": "2021-11-27T14:30:29.567Z"
   },
   {
    "duration": 3,
    "start_time": "2021-11-27T14:30:29.763Z"
   },
   {
    "duration": 247,
    "start_time": "2021-11-27T14:30:29.768Z"
   },
   {
    "duration": 8,
    "start_time": "2021-11-27T14:30:30.017Z"
   },
   {
    "duration": 7,
    "start_time": "2021-11-27T14:30:30.027Z"
   },
   {
    "duration": 39,
    "start_time": "2021-11-27T14:30:30.036Z"
   },
   {
    "duration": 293,
    "start_time": "2021-11-27T14:30:30.077Z"
   },
   {
    "duration": 45,
    "start_time": "2021-11-27T14:30:30.372Z"
   },
   {
    "duration": 593,
    "start_time": "2021-11-27T14:33:51.216Z"
   },
   {
    "duration": 92,
    "start_time": "2021-11-27T14:33:51.812Z"
   },
   {
    "duration": 31,
    "start_time": "2021-11-27T14:33:51.905Z"
   },
   {
    "duration": 70,
    "start_time": "2021-11-27T14:33:51.938Z"
   },
   {
    "duration": 2,
    "start_time": "2021-11-27T14:33:52.010Z"
   },
   {
    "duration": 8,
    "start_time": "2021-11-27T14:33:52.013Z"
   },
   {
    "duration": 6,
    "start_time": "2021-11-27T14:33:52.023Z"
   },
   {
    "duration": 11,
    "start_time": "2021-11-27T14:33:52.030Z"
   },
   {
    "duration": 46,
    "start_time": "2021-11-27T14:33:52.042Z"
   },
   {
    "duration": 13,
    "start_time": "2021-11-27T14:33:52.089Z"
   },
   {
    "duration": 6,
    "start_time": "2021-11-27T14:33:52.104Z"
   },
   {
    "duration": 8,
    "start_time": "2021-11-27T14:33:52.112Z"
   },
   {
    "duration": 15,
    "start_time": "2021-11-27T14:33:52.121Z"
   },
   {
    "duration": 11,
    "start_time": "2021-11-27T14:33:52.137Z"
   },
   {
    "duration": 39,
    "start_time": "2021-11-27T14:33:52.150Z"
   },
   {
    "duration": 6,
    "start_time": "2021-11-27T14:33:52.190Z"
   },
   {
    "duration": 21,
    "start_time": "2021-11-27T14:33:52.197Z"
   },
   {
    "duration": 19,
    "start_time": "2021-11-27T14:33:52.219Z"
   },
   {
    "duration": 22,
    "start_time": "2021-11-27T14:33:52.239Z"
   },
   {
    "duration": 19,
    "start_time": "2021-11-27T14:33:52.287Z"
   },
   {
    "duration": 12,
    "start_time": "2021-11-27T14:33:52.307Z"
   },
   {
    "duration": 24,
    "start_time": "2021-11-27T14:33:52.322Z"
   },
   {
    "duration": 24,
    "start_time": "2021-11-27T14:33:52.348Z"
   },
   {
    "duration": 32,
    "start_time": "2021-11-27T14:33:52.374Z"
   },
   {
    "duration": 33,
    "start_time": "2021-11-27T14:33:52.408Z"
   },
   {
    "duration": 11,
    "start_time": "2021-11-27T14:33:52.442Z"
   },
   {
    "duration": 4,
    "start_time": "2021-11-27T14:33:52.454Z"
   },
   {
    "duration": 28,
    "start_time": "2021-11-27T14:33:52.460Z"
   },
   {
    "duration": 29,
    "start_time": "2021-11-27T14:33:52.490Z"
   },
   {
    "duration": 14,
    "start_time": "2021-11-27T14:33:52.521Z"
   },
   {
    "duration": 210,
    "start_time": "2021-11-27T14:33:52.537Z"
   },
   {
    "duration": 4,
    "start_time": "2021-11-27T14:33:52.749Z"
   },
   {
    "duration": 252,
    "start_time": "2021-11-27T14:33:52.754Z"
   },
   {
    "duration": 8,
    "start_time": "2021-11-27T14:33:53.007Z"
   },
   {
    "duration": 5,
    "start_time": "2021-11-27T14:33:53.016Z"
   },
   {
    "duration": 21,
    "start_time": "2021-11-27T14:33:53.023Z"
   },
   {
    "duration": 324,
    "start_time": "2021-11-27T14:33:53.045Z"
   },
   {
    "duration": 38,
    "start_time": "2021-11-27T14:33:53.371Z"
   },
   {
    "duration": 72,
    "start_time": "2021-11-27T14:34:55.154Z"
   },
   {
    "duration": 642,
    "start_time": "2021-11-27T14:35:00.578Z"
   },
   {
    "duration": 95,
    "start_time": "2021-11-27T14:35:01.221Z"
   },
   {
    "duration": 30,
    "start_time": "2021-11-27T14:35:01.318Z"
   },
   {
    "duration": 67,
    "start_time": "2021-11-27T14:35:01.350Z"
   },
   {
    "duration": 2,
    "start_time": "2021-11-27T14:35:01.418Z"
   },
   {
    "duration": 25,
    "start_time": "2021-11-27T14:35:01.422Z"
   },
   {
    "duration": 30,
    "start_time": "2021-11-27T14:35:01.448Z"
   },
   {
    "duration": 38,
    "start_time": "2021-11-27T14:35:01.481Z"
   },
   {
    "duration": 30,
    "start_time": "2021-11-27T14:35:01.521Z"
   },
   {
    "duration": 20,
    "start_time": "2021-11-27T14:35:01.553Z"
   },
   {
    "duration": 33,
    "start_time": "2021-11-27T14:35:01.575Z"
   },
   {
    "duration": 34,
    "start_time": "2021-11-27T14:35:01.610Z"
   },
   {
    "duration": 41,
    "start_time": "2021-11-27T14:35:01.646Z"
   },
   {
    "duration": 109,
    "start_time": "2021-11-27T14:35:01.688Z"
   },
   {
    "duration": 4,
    "start_time": "2021-11-27T14:35:01.799Z"
   },
   {
    "duration": 28,
    "start_time": "2021-11-27T14:35:01.804Z"
   },
   {
    "duration": 54,
    "start_time": "2021-11-27T14:35:01.834Z"
   },
   {
    "duration": 46,
    "start_time": "2021-11-27T14:35:01.889Z"
   },
   {
    "duration": 28,
    "start_time": "2021-11-27T14:35:01.936Z"
   },
   {
    "duration": 33,
    "start_time": "2021-11-27T14:35:01.966Z"
   },
   {
    "duration": 40,
    "start_time": "2021-11-27T14:35:02.001Z"
   },
   {
    "duration": 38,
    "start_time": "2021-11-27T14:35:02.043Z"
   },
   {
    "duration": 36,
    "start_time": "2021-11-27T14:35:02.085Z"
   },
   {
    "duration": 39,
    "start_time": "2021-11-27T14:35:02.123Z"
   },
   {
    "duration": 43,
    "start_time": "2021-11-27T14:35:02.163Z"
   },
   {
    "duration": 17,
    "start_time": "2021-11-27T14:35:02.208Z"
   },
   {
    "duration": 27,
    "start_time": "2021-11-27T14:35:02.227Z"
   },
   {
    "duration": 44,
    "start_time": "2021-11-27T14:35:02.256Z"
   },
   {
    "duration": 52,
    "start_time": "2021-11-27T14:35:02.301Z"
   },
   {
    "duration": 36,
    "start_time": "2021-11-27T14:35:02.354Z"
   },
   {
    "duration": 218,
    "start_time": "2021-11-27T14:35:02.391Z"
   },
   {
    "duration": 3,
    "start_time": "2021-11-27T14:35:02.611Z"
   },
   {
    "duration": 266,
    "start_time": "2021-11-27T14:35:02.615Z"
   },
   {
    "duration": 7,
    "start_time": "2021-11-27T14:35:02.887Z"
   },
   {
    "duration": 27,
    "start_time": "2021-11-27T14:35:02.895Z"
   },
   {
    "duration": 59,
    "start_time": "2021-11-27T14:35:02.924Z"
   },
   {
    "duration": 304,
    "start_time": "2021-11-27T14:35:02.985Z"
   },
   {
    "duration": 35,
    "start_time": "2021-11-27T14:35:03.291Z"
   },
   {
    "duration": 612,
    "start_time": "2021-11-27T14:41:57.002Z"
   },
   {
    "duration": 93,
    "start_time": "2021-11-27T14:41:57.615Z"
   },
   {
    "duration": 29,
    "start_time": "2021-11-27T14:41:57.712Z"
   },
   {
    "duration": 64,
    "start_time": "2021-11-27T14:41:57.743Z"
   },
   {
    "duration": 3,
    "start_time": "2021-11-27T14:41:57.808Z"
   },
   {
    "duration": 7,
    "start_time": "2021-11-27T14:41:57.812Z"
   },
   {
    "duration": 6,
    "start_time": "2021-11-27T14:41:57.821Z"
   },
   {
    "duration": 12,
    "start_time": "2021-11-27T14:41:57.829Z"
   },
   {
    "duration": 46,
    "start_time": "2021-11-27T14:41:57.843Z"
   },
   {
    "duration": 13,
    "start_time": "2021-11-27T14:41:57.890Z"
   },
   {
    "duration": 9,
    "start_time": "2021-11-27T14:41:57.905Z"
   },
   {
    "duration": 8,
    "start_time": "2021-11-27T14:41:57.915Z"
   },
   {
    "duration": 13,
    "start_time": "2021-11-27T14:41:57.924Z"
   },
   {
    "duration": 76,
    "start_time": "2021-11-27T14:41:57.939Z"
   },
   {
    "duration": -942,
    "start_time": "2021-11-27T14:41:58.959Z"
   },
   {
    "duration": -949,
    "start_time": "2021-11-27T14:41:58.967Z"
   },
   {
    "duration": -951,
    "start_time": "2021-11-27T14:41:58.970Z"
   },
   {
    "duration": -956,
    "start_time": "2021-11-27T14:41:58.975Z"
   },
   {
    "duration": -963,
    "start_time": "2021-11-27T14:41:58.983Z"
   },
   {
    "duration": -966,
    "start_time": "2021-11-27T14:41:58.987Z"
   },
   {
    "duration": -975,
    "start_time": "2021-11-27T14:41:58.997Z"
   },
   {
    "duration": -978,
    "start_time": "2021-11-27T14:41:59.000Z"
   },
   {
    "duration": -980,
    "start_time": "2021-11-27T14:41:59.003Z"
   },
   {
    "duration": -982,
    "start_time": "2021-11-27T14:41:59.007Z"
   },
   {
    "duration": -993,
    "start_time": "2021-11-27T14:41:59.018Z"
   },
   {
    "duration": -994,
    "start_time": "2021-11-27T14:41:59.020Z"
   },
   {
    "duration": -999,
    "start_time": "2021-11-27T14:41:59.026Z"
   },
   {
    "duration": -1000,
    "start_time": "2021-11-27T14:41:59.028Z"
   },
   {
    "duration": -1004,
    "start_time": "2021-11-27T14:41:59.032Z"
   },
   {
    "duration": -1006,
    "start_time": "2021-11-27T14:41:59.035Z"
   },
   {
    "duration": -1008,
    "start_time": "2021-11-27T14:41:59.038Z"
   },
   {
    "duration": -1011,
    "start_time": "2021-11-27T14:41:59.042Z"
   },
   {
    "duration": -1014,
    "start_time": "2021-11-27T14:41:59.046Z"
   },
   {
    "duration": -1030,
    "start_time": "2021-11-27T14:41:59.062Z"
   },
   {
    "duration": -1033,
    "start_time": "2021-11-27T14:41:59.066Z"
   },
   {
    "duration": -1034,
    "start_time": "2021-11-27T14:41:59.068Z"
   },
   {
    "duration": -1036,
    "start_time": "2021-11-27T14:41:59.071Z"
   },
   {
    "duration": -1039,
    "start_time": "2021-11-27T14:41:59.075Z"
   },
   {
    "duration": 14,
    "start_time": "2021-11-27T14:42:17.034Z"
   },
   {
    "duration": 4,
    "start_time": "2021-11-27T14:42:23.255Z"
   },
   {
    "duration": 674,
    "start_time": "2021-11-27T14:48:00.856Z"
   },
   {
    "duration": 94,
    "start_time": "2021-11-27T14:48:01.532Z"
   },
   {
    "duration": 31,
    "start_time": "2021-11-27T14:48:01.628Z"
   },
   {
    "duration": 68,
    "start_time": "2021-11-27T14:48:01.661Z"
   },
   {
    "duration": 14,
    "start_time": "2021-11-27T14:48:01.730Z"
   },
   {
    "duration": 11,
    "start_time": "2021-11-27T14:48:01.746Z"
   },
   {
    "duration": 14,
    "start_time": "2021-11-27T14:48:01.758Z"
   },
   {
    "duration": 17,
    "start_time": "2021-11-27T14:48:01.774Z"
   },
   {
    "duration": 23,
    "start_time": "2021-11-27T14:48:01.794Z"
   },
   {
    "duration": 15,
    "start_time": "2021-11-27T14:48:01.819Z"
   },
   {
    "duration": 13,
    "start_time": "2021-11-27T14:48:01.835Z"
   },
   {
    "duration": 13,
    "start_time": "2021-11-27T14:48:01.850Z"
   },
   {
    "duration": 32,
    "start_time": "2021-11-27T14:48:01.864Z"
   },
   {
    "duration": 74,
    "start_time": "2021-11-27T14:48:01.898Z"
   },
   {
    "duration": 15,
    "start_time": "2021-11-27T14:48:01.974Z"
   },
   {
    "duration": 14,
    "start_time": "2021-11-27T14:48:01.991Z"
   },
   {
    "duration": 30,
    "start_time": "2021-11-27T14:48:02.007Z"
   },
   {
    "duration": 20,
    "start_time": "2021-11-27T14:48:02.038Z"
   },
   {
    "duration": 35,
    "start_time": "2021-11-27T14:48:02.059Z"
   },
   {
    "duration": 21,
    "start_time": "2021-11-27T14:48:02.096Z"
   },
   {
    "duration": 6,
    "start_time": "2021-11-27T14:48:02.119Z"
   },
   {
    "duration": 26,
    "start_time": "2021-11-27T14:48:02.127Z"
   },
   {
    "duration": 10,
    "start_time": "2021-11-27T14:48:02.154Z"
   },
   {
    "duration": 48,
    "start_time": "2021-11-27T14:48:02.165Z"
   },
   {
    "duration": 33,
    "start_time": "2021-11-27T14:48:02.215Z"
   },
   {
    "duration": 10,
    "start_time": "2021-11-27T14:48:02.249Z"
   },
   {
    "duration": 26,
    "start_time": "2021-11-27T14:48:02.262Z"
   },
   {
    "duration": 4,
    "start_time": "2021-11-27T14:48:02.289Z"
   },
   {
    "duration": 33,
    "start_time": "2021-11-27T14:48:02.294Z"
   },
   {
    "duration": 17,
    "start_time": "2021-11-27T14:48:02.328Z"
   },
   {
    "duration": 201,
    "start_time": "2021-11-27T14:48:02.347Z"
   },
   {
    "duration": 4,
    "start_time": "2021-11-27T14:48:02.550Z"
   },
   {
    "duration": 250,
    "start_time": "2021-11-27T14:48:02.556Z"
   },
   {
    "duration": 9,
    "start_time": "2021-11-27T14:48:02.808Z"
   },
   {
    "duration": 11,
    "start_time": "2021-11-27T14:48:02.819Z"
   },
   {
    "duration": 20,
    "start_time": "2021-11-27T14:48:02.832Z"
   },
   {
    "duration": 317,
    "start_time": "2021-11-27T14:48:02.853Z"
   },
   {
    "duration": 41,
    "start_time": "2021-11-27T14:48:03.171Z"
   },
   {
    "duration": 281,
    "start_time": "2021-11-27T14:50:07.526Z"
   },
   {
    "duration": 18,
    "start_time": "2021-11-27T14:50:14.234Z"
   },
   {
    "duration": 6,
    "start_time": "2021-11-27T15:15:55.786Z"
   },
   {
    "duration": 9,
    "start_time": "2021-11-27T15:16:03.628Z"
   },
   {
    "duration": 8,
    "start_time": "2021-11-27T15:18:30.586Z"
   },
   {
    "duration": 5808,
    "start_time": "2021-11-27T15:19:20.533Z"
   },
   {
    "duration": 13,
    "start_time": "2021-11-27T15:19:44.138Z"
   },
   {
    "duration": 274,
    "start_time": "2021-11-27T15:20:57.965Z"
   },
   {
    "duration": 173,
    "start_time": "2021-11-27T15:25:18.028Z"
   },
   {
    "duration": 170,
    "start_time": "2021-11-27T15:27:35.779Z"
   },
   {
    "duration": 174,
    "start_time": "2021-11-27T15:27:44.013Z"
   },
   {
    "duration": 290,
    "start_time": "2021-11-27T15:29:23.479Z"
   },
   {
    "duration": 91,
    "start_time": "2021-11-27T15:30:34.675Z"
   },
   {
    "duration": 285,
    "start_time": "2021-11-28T10:52:33.551Z"
   },
   {
    "duration": 575,
    "start_time": "2021-11-28T10:52:37.532Z"
   },
   {
    "duration": 92,
    "start_time": "2021-11-28T10:52:38.108Z"
   },
   {
    "duration": 32,
    "start_time": "2021-11-28T10:52:38.203Z"
   },
   {
    "duration": 70,
    "start_time": "2021-11-28T10:52:38.237Z"
   },
   {
    "duration": 3,
    "start_time": "2021-11-28T10:52:38.308Z"
   },
   {
    "duration": 32,
    "start_time": "2021-11-28T10:52:38.312Z"
   },
   {
    "duration": 12,
    "start_time": "2021-11-28T10:52:38.346Z"
   },
   {
    "duration": 16,
    "start_time": "2021-11-28T10:52:38.359Z"
   },
   {
    "duration": 13,
    "start_time": "2021-11-28T10:52:38.378Z"
   },
   {
    "duration": 35,
    "start_time": "2021-11-28T10:52:38.394Z"
   },
   {
    "duration": 29,
    "start_time": "2021-11-28T10:52:38.431Z"
   },
   {
    "duration": 36,
    "start_time": "2021-11-28T10:52:38.461Z"
   },
   {
    "duration": 16,
    "start_time": "2021-11-28T10:52:38.499Z"
   },
   {
    "duration": 26,
    "start_time": "2021-11-28T10:52:38.517Z"
   },
   {
    "duration": 124,
    "start_time": "2021-11-28T10:52:38.544Z"
   },
   {
    "duration": 3,
    "start_time": "2021-11-28T10:52:38.670Z"
   },
   {
    "duration": 12,
    "start_time": "2021-11-28T10:52:38.675Z"
   },
   {
    "duration": 35,
    "start_time": "2021-11-28T10:52:38.689Z"
   },
   {
    "duration": 19,
    "start_time": "2021-11-28T10:52:38.725Z"
   },
   {
    "duration": 47,
    "start_time": "2021-11-28T10:52:38.746Z"
   },
   {
    "duration": 19,
    "start_time": "2021-11-28T10:52:38.795Z"
   },
   {
    "duration": 14,
    "start_time": "2021-11-28T10:52:38.815Z"
   },
   {
    "duration": 21,
    "start_time": "2021-11-28T10:52:38.830Z"
   },
   {
    "duration": 15,
    "start_time": "2021-11-28T10:52:38.852Z"
   },
   {
    "duration": 34,
    "start_time": "2021-11-28T10:52:38.868Z"
   },
   {
    "duration": 31,
    "start_time": "2021-11-28T10:52:38.904Z"
   },
   {
    "duration": 10,
    "start_time": "2021-11-28T10:52:38.938Z"
   },
   {
    "duration": 8,
    "start_time": "2021-11-28T10:52:38.949Z"
   },
   {
    "duration": 17,
    "start_time": "2021-11-28T10:52:38.958Z"
   },
   {
    "duration": 36,
    "start_time": "2021-11-28T10:52:38.976Z"
   },
   {
    "duration": 17,
    "start_time": "2021-11-28T10:52:39.014Z"
   },
   {
    "duration": 221,
    "start_time": "2021-11-28T10:52:39.032Z"
   },
   {
    "duration": 4,
    "start_time": "2021-11-28T10:52:39.254Z"
   },
   {
    "duration": 191,
    "start_time": "2021-11-28T10:52:39.259Z"
   },
   {
    "duration": 295,
    "start_time": "2021-11-28T10:52:39.451Z"
   },
   {
    "duration": 7,
    "start_time": "2021-11-28T10:52:39.747Z"
   },
   {
    "duration": 8,
    "start_time": "2021-11-28T10:52:39.755Z"
   },
   {
    "duration": 39,
    "start_time": "2021-11-28T10:52:39.764Z"
   },
   {
    "duration": 388,
    "start_time": "2021-11-28T10:52:39.805Z"
   },
   {
    "duration": 38,
    "start_time": "2021-11-28T10:52:40.195Z"
   },
   {
    "duration": 3,
    "start_time": "2021-11-28T11:00:53.825Z"
   },
   {
    "duration": 119,
    "start_time": "2021-11-28T11:00:53.830Z"
   },
   {
    "duration": 39,
    "start_time": "2021-11-28T11:00:53.951Z"
   },
   {
    "duration": 62,
    "start_time": "2021-11-28T11:00:53.992Z"
   },
   {
    "duration": 2,
    "start_time": "2021-11-28T11:00:54.055Z"
   },
   {
    "duration": 30,
    "start_time": "2021-11-28T11:00:54.059Z"
   },
   {
    "duration": 11,
    "start_time": "2021-11-28T11:00:54.091Z"
   },
   {
    "duration": 8,
    "start_time": "2021-11-28T11:00:54.105Z"
   },
   {
    "duration": 12,
    "start_time": "2021-11-28T11:00:54.116Z"
   },
   {
    "duration": 25,
    "start_time": "2021-11-28T11:00:54.130Z"
   },
   {
    "duration": 36,
    "start_time": "2021-11-28T11:00:54.156Z"
   },
   {
    "duration": 9,
    "start_time": "2021-11-28T11:00:54.193Z"
   },
   {
    "duration": 14,
    "start_time": "2021-11-28T11:00:54.204Z"
   },
   {
    "duration": 15,
    "start_time": "2021-11-28T11:00:54.220Z"
   },
   {
    "duration": 5,
    "start_time": "2021-11-28T11:00:54.237Z"
   },
   {
    "duration": 98,
    "start_time": "2021-11-28T11:00:54.243Z"
   },
   {
    "duration": 250,
    "start_time": "2021-11-28T11:00:54.343Z"
   },
   {
    "duration": -4157,
    "start_time": "2021-11-28T11:00:58.752Z"
   },
   {
    "duration": -4157,
    "start_time": "2021-11-28T11:00:58.755Z"
   },
   {
    "duration": -4159,
    "start_time": "2021-11-28T11:00:58.758Z"
   },
   {
    "duration": -4160,
    "start_time": "2021-11-28T11:00:58.760Z"
   },
   {
    "duration": -4161,
    "start_time": "2021-11-28T11:00:58.763Z"
   },
   {
    "duration": -4164,
    "start_time": "2021-11-28T11:00:58.766Z"
   },
   {
    "duration": -4165,
    "start_time": "2021-11-28T11:00:58.768Z"
   },
   {
    "duration": -4166,
    "start_time": "2021-11-28T11:00:58.770Z"
   },
   {
    "duration": -4167,
    "start_time": "2021-11-28T11:00:58.772Z"
   },
   {
    "duration": -4168,
    "start_time": "2021-11-28T11:00:58.774Z"
   },
   {
    "duration": -4169,
    "start_time": "2021-11-28T11:00:58.776Z"
   },
   {
    "duration": -4171,
    "start_time": "2021-11-28T11:00:58.778Z"
   },
   {
    "duration": -4171,
    "start_time": "2021-11-28T11:00:58.779Z"
   },
   {
    "duration": -4172,
    "start_time": "2021-11-28T11:00:58.781Z"
   },
   {
    "duration": -4174,
    "start_time": "2021-11-28T11:00:58.785Z"
   },
   {
    "duration": -4192,
    "start_time": "2021-11-28T11:00:58.804Z"
   },
   {
    "duration": -4193,
    "start_time": "2021-11-28T11:00:58.806Z"
   },
   {
    "duration": -4194,
    "start_time": "2021-11-28T11:00:58.808Z"
   },
   {
    "duration": -4194,
    "start_time": "2021-11-28T11:00:58.809Z"
   },
   {
    "duration": -4195,
    "start_time": "2021-11-28T11:00:58.811Z"
   },
   {
    "duration": -4196,
    "start_time": "2021-11-28T11:00:58.813Z"
   },
   {
    "duration": -4196,
    "start_time": "2021-11-28T11:00:58.814Z"
   },
   {
    "duration": -4197,
    "start_time": "2021-11-28T11:00:58.816Z"
   },
   {
    "duration": -4197,
    "start_time": "2021-11-28T11:00:58.817Z"
   },
   {
    "duration": -4198,
    "start_time": "2021-11-28T11:00:58.819Z"
   },
   {
    "duration": 15,
    "start_time": "2021-11-28T11:01:47.590Z"
   },
   {
    "duration": 10,
    "start_time": "2021-11-28T11:02:23.427Z"
   },
   {
    "duration": 238,
    "start_time": "2021-11-28T11:03:09.606Z"
   },
   {
    "duration": 252,
    "start_time": "2021-11-28T11:03:22.229Z"
   },
   {
    "duration": 13,
    "start_time": "2021-11-28T11:05:00.132Z"
   },
   {
    "duration": 373,
    "start_time": "2021-11-28T11:05:12.581Z"
   },
   {
    "duration": 14,
    "start_time": "2021-11-28T11:05:15.256Z"
   },
   {
    "duration": 246,
    "start_time": "2021-11-28T11:05:24.114Z"
   },
   {
    "duration": 45,
    "start_time": "2021-11-28T11:05:36.356Z"
   },
   {
    "duration": 33,
    "start_time": "2021-11-28T11:05:46.287Z"
   },
   {
    "duration": 33,
    "start_time": "2021-11-28T11:06:19.062Z"
   },
   {
    "duration": 38,
    "start_time": "2021-11-28T11:07:05.088Z"
   },
   {
    "duration": 31,
    "start_time": "2021-11-28T11:07:16.542Z"
   },
   {
    "duration": 13,
    "start_time": "2021-11-28T11:07:43.883Z"
   },
   {
    "duration": 246,
    "start_time": "2021-11-28T11:08:00.457Z"
   },
   {
    "duration": 12,
    "start_time": "2021-11-28T11:08:05.795Z"
   },
   {
    "duration": 31,
    "start_time": "2021-11-28T11:08:23.052Z"
   },
   {
    "duration": 245,
    "start_time": "2021-11-28T11:09:55.977Z"
   },
   {
    "duration": 16,
    "start_time": "2021-11-28T11:10:09.411Z"
   },
   {
    "duration": 17,
    "start_time": "2021-11-28T11:10:26.709Z"
   },
   {
    "duration": 19,
    "start_time": "2021-11-28T11:10:34.395Z"
   },
   {
    "duration": 19,
    "start_time": "2021-11-28T11:10:59.782Z"
   },
   {
    "duration": 227,
    "start_time": "2021-11-28T11:11:42.233Z"
   },
   {
    "duration": 13,
    "start_time": "2021-11-28T11:11:47.957Z"
   },
   {
    "duration": 14,
    "start_time": "2021-11-28T11:12:15.846Z"
   },
   {
    "duration": 3,
    "start_time": "2021-11-28T11:13:26.266Z"
   },
   {
    "duration": 103,
    "start_time": "2021-11-28T11:13:26.270Z"
   },
   {
    "duration": 33,
    "start_time": "2021-11-28T11:13:26.375Z"
   },
   {
    "duration": 79,
    "start_time": "2021-11-28T11:13:26.410Z"
   },
   {
    "duration": 3,
    "start_time": "2021-11-28T11:13:26.491Z"
   },
   {
    "duration": 19,
    "start_time": "2021-11-28T11:13:26.496Z"
   },
   {
    "duration": 3,
    "start_time": "2021-11-28T11:13:26.517Z"
   },
   {
    "duration": 5,
    "start_time": "2021-11-28T11:13:26.522Z"
   },
   {
    "duration": 10,
    "start_time": "2021-11-28T11:13:26.529Z"
   },
   {
    "duration": 22,
    "start_time": "2021-11-28T11:13:26.541Z"
   },
   {
    "duration": 17,
    "start_time": "2021-11-28T11:13:26.588Z"
   },
   {
    "duration": 6,
    "start_time": "2021-11-28T11:13:26.606Z"
   },
   {
    "duration": 8,
    "start_time": "2021-11-28T11:13:26.613Z"
   },
   {
    "duration": 13,
    "start_time": "2021-11-28T11:13:26.623Z"
   },
   {
    "duration": 4,
    "start_time": "2021-11-28T11:13:26.637Z"
   },
   {
    "duration": 103,
    "start_time": "2021-11-28T11:13:26.642Z"
   },
   {
    "duration": 13,
    "start_time": "2021-11-28T11:13:26.746Z"
   },
   {
    "duration": 3,
    "start_time": "2021-11-28T11:13:26.761Z"
   },
   {
    "duration": 22,
    "start_time": "2021-11-28T11:13:26.766Z"
   },
   {
    "duration": 29,
    "start_time": "2021-11-28T11:13:26.789Z"
   },
   {
    "duration": 18,
    "start_time": "2021-11-28T11:13:26.820Z"
   },
   {
    "duration": 25,
    "start_time": "2021-11-28T11:13:26.839Z"
   },
   {
    "duration": 42,
    "start_time": "2021-11-28T11:13:26.867Z"
   },
   {
    "duration": 7,
    "start_time": "2021-11-28T11:13:26.911Z"
   },
   {
    "duration": 21,
    "start_time": "2021-11-28T11:13:26.920Z"
   },
   {
    "duration": 5,
    "start_time": "2021-11-28T11:13:26.943Z"
   },
   {
    "duration": 50,
    "start_time": "2021-11-28T11:13:26.949Z"
   },
   {
    "duration": 32,
    "start_time": "2021-11-28T11:13:27.001Z"
   },
   {
    "duration": 12,
    "start_time": "2021-11-28T11:13:27.034Z"
   },
   {
    "duration": 4,
    "start_time": "2021-11-28T11:13:27.048Z"
   },
   {
    "duration": 35,
    "start_time": "2021-11-28T11:13:27.053Z"
   },
   {
    "duration": 32,
    "start_time": "2021-11-28T11:13:27.090Z"
   },
   {
    "duration": 14,
    "start_time": "2021-11-28T11:13:27.123Z"
   },
   {
    "duration": 207,
    "start_time": "2021-11-28T11:13:27.138Z"
   },
   {
    "duration": 4,
    "start_time": "2021-11-28T11:13:27.346Z"
   },
   {
    "duration": 199,
    "start_time": "2021-11-28T11:13:27.351Z"
   },
   {
    "duration": 258,
    "start_time": "2021-11-28T11:13:27.552Z"
   },
   {
    "duration": 8,
    "start_time": "2021-11-28T11:13:27.812Z"
   },
   {
    "duration": 4,
    "start_time": "2021-11-28T11:13:27.822Z"
   },
   {
    "duration": 20,
    "start_time": "2021-11-28T11:13:27.828Z"
   },
   {
    "duration": 342,
    "start_time": "2021-11-28T11:13:27.849Z"
   },
   {
    "duration": 41,
    "start_time": "2021-11-28T11:13:28.193Z"
   },
   {
    "duration": 78,
    "start_time": "2021-11-28T11:15:58.180Z"
   }
  ],
  "colab": {
   "name": "DA+. Сборный проект 1. Шаблон (1).ipynb",
   "provenance": []
  },
  "kernelspec": {
   "display_name": "Python 3 (ipykernel)",
   "language": "python",
   "name": "python3"
  },
  "language_info": {
   "codemirror_mode": {
    "name": "ipython",
    "version": 3
   },
   "file_extension": ".py",
   "mimetype": "text/x-python",
   "name": "python",
   "nbconvert_exporter": "python",
   "pygments_lexer": "ipython3",
   "version": "3.9.7"
  },
  "toc": {
   "base_numbering": 1,
   "nav_menu": {},
   "number_sections": true,
   "sideBar": true,
   "skip_h1_title": true,
   "title_cell": "Table of Contents",
   "title_sidebar": "Contents",
   "toc_cell": false,
   "toc_position": {
    "height": "calc(100% - 180px)",
    "left": "10px",
    "top": "150px",
    "width": "375.391px"
   },
   "toc_section_display": true,
   "toc_window_display": false
  }
 },
 "nbformat": 4,
 "nbformat_minor": 1
}
