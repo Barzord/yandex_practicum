{
 "cells": [
  {
   "cell_type": "markdown",
   "metadata": {
    "id": "E0vqbgi9ay0H"
   },
   "source": [
    "# Яндекс.Музыка"
   ]
  },
  {
   "cell_type": "markdown",
   "metadata": {
    "id": "VUC88oWjTJw2"
   },
   "source": [
    "**Цель исследования** — проверить три гипотезы:\n",
    "\n",
    "1. Активность пользователей зависит от дня недели. Причём в Москве и Петербурге это проявляется по-разному.\n",
    "2. В понедельник уДтром в Москве преобладают одни жанры, а в Петербурге — другие. Так же и вечером пятницы преобладают разные жанры — в зависимости от города. \n",
    "3. Москва и Петербург предпочитают разные жанры музыки. В Москве чаще слушают поп-музыку, в Петербурге — русский рэп.\n",
    "\n",
    "**Ход исследования**\n",
    "\n",
    "Данные о поведении пользователей вы получите из файла `yandex_music_project.csv`. О качестве данных ничего не известно. Поэтому перед проверкой гипотез понадобится обзор данных. \n",
    " \n",
    "Таким образом, исследование пройдёт в три этапа:\n",
    " 1. Обзор данных.\n",
    " 2. Предобработка данных.\n",
    " 3. Проверка гипотез.\n",
    "\n",
    "\n",
    "## Обзор данных"
   ]
  },
  {
   "cell_type": "code",
   "execution_count": 1,
   "metadata": {
    "id": "AXN7PHPN_Zcs"
   },
   "outputs": [],
   "source": [
    "# импорт библиотеки pandas\n",
    "import pandas as pd"
   ]
  },
  {
   "cell_type": "code",
   "execution_count": 2,
   "metadata": {
    "id": "fFVu7vqh_Zct"
   },
   "outputs": [],
   "source": [
    "# чтение файла с данными и сохранение в df\n",
    "df = pd.read_csv('/datasets/yandex_music_project.csv')"
   ]
  },
  {
   "cell_type": "code",
   "execution_count": 3,
   "metadata": {
    "id": "oWTVX3gW_Zct"
   },
   "outputs": [
    {
     "data": {
      "text/html": [
       "<div>\n",
       "<style scoped>\n",
       "    .dataframe tbody tr th:only-of-type {\n",
       "        vertical-align: middle;\n",
       "    }\n",
       "\n",
       "    .dataframe tbody tr th {\n",
       "        vertical-align: top;\n",
       "    }\n",
       "\n",
       "    .dataframe thead th {\n",
       "        text-align: right;\n",
       "    }\n",
       "</style>\n",
       "<table border=\"1\" class=\"dataframe\">\n",
       "  <thead>\n",
       "    <tr style=\"text-align: right;\">\n",
       "      <th></th>\n",
       "      <th>userID</th>\n",
       "      <th>Track</th>\n",
       "      <th>artist</th>\n",
       "      <th>genre</th>\n",
       "      <th>City</th>\n",
       "      <th>time</th>\n",
       "      <th>Day</th>\n",
       "    </tr>\n",
       "  </thead>\n",
       "  <tbody>\n",
       "    <tr>\n",
       "      <td>0</td>\n",
       "      <td>FFB692EC</td>\n",
       "      <td>Kamigata To Boots</td>\n",
       "      <td>The Mass Missile</td>\n",
       "      <td>rock</td>\n",
       "      <td>Saint-Petersburg</td>\n",
       "      <td>20:28:33</td>\n",
       "      <td>Wednesday</td>\n",
       "    </tr>\n",
       "    <tr>\n",
       "      <td>1</td>\n",
       "      <td>55204538</td>\n",
       "      <td>Delayed Because of Accident</td>\n",
       "      <td>Andreas Rönnberg</td>\n",
       "      <td>rock</td>\n",
       "      <td>Moscow</td>\n",
       "      <td>14:07:09</td>\n",
       "      <td>Friday</td>\n",
       "    </tr>\n",
       "    <tr>\n",
       "      <td>2</td>\n",
       "      <td>20EC38</td>\n",
       "      <td>Funiculì funiculà</td>\n",
       "      <td>Mario Lanza</td>\n",
       "      <td>pop</td>\n",
       "      <td>Saint-Petersburg</td>\n",
       "      <td>20:58:07</td>\n",
       "      <td>Wednesday</td>\n",
       "    </tr>\n",
       "    <tr>\n",
       "      <td>3</td>\n",
       "      <td>A3DD03C9</td>\n",
       "      <td>Dragons in the Sunset</td>\n",
       "      <td>Fire + Ice</td>\n",
       "      <td>folk</td>\n",
       "      <td>Saint-Petersburg</td>\n",
       "      <td>08:37:09</td>\n",
       "      <td>Monday</td>\n",
       "    </tr>\n",
       "    <tr>\n",
       "      <td>4</td>\n",
       "      <td>E2DC1FAE</td>\n",
       "      <td>Soul People</td>\n",
       "      <td>Space Echo</td>\n",
       "      <td>dance</td>\n",
       "      <td>Moscow</td>\n",
       "      <td>08:34:34</td>\n",
       "      <td>Monday</td>\n",
       "    </tr>\n",
       "    <tr>\n",
       "      <td>5</td>\n",
       "      <td>842029A1</td>\n",
       "      <td>Преданная</td>\n",
       "      <td>IMPERVTOR</td>\n",
       "      <td>rusrap</td>\n",
       "      <td>Saint-Petersburg</td>\n",
       "      <td>13:09:41</td>\n",
       "      <td>Friday</td>\n",
       "    </tr>\n",
       "    <tr>\n",
       "      <td>6</td>\n",
       "      <td>4CB90AA5</td>\n",
       "      <td>True</td>\n",
       "      <td>Roman Messer</td>\n",
       "      <td>dance</td>\n",
       "      <td>Moscow</td>\n",
       "      <td>13:00:07</td>\n",
       "      <td>Wednesday</td>\n",
       "    </tr>\n",
       "    <tr>\n",
       "      <td>7</td>\n",
       "      <td>F03E1C1F</td>\n",
       "      <td>Feeling This Way</td>\n",
       "      <td>Polina Griffith</td>\n",
       "      <td>dance</td>\n",
       "      <td>Moscow</td>\n",
       "      <td>20:47:49</td>\n",
       "      <td>Wednesday</td>\n",
       "    </tr>\n",
       "    <tr>\n",
       "      <td>8</td>\n",
       "      <td>8FA1D3BE</td>\n",
       "      <td>И вновь продолжается бой</td>\n",
       "      <td>NaN</td>\n",
       "      <td>ruspop</td>\n",
       "      <td>Moscow</td>\n",
       "      <td>09:17:40</td>\n",
       "      <td>Friday</td>\n",
       "    </tr>\n",
       "    <tr>\n",
       "      <td>9</td>\n",
       "      <td>E772D5C0</td>\n",
       "      <td>Pessimist</td>\n",
       "      <td>NaN</td>\n",
       "      <td>dance</td>\n",
       "      <td>Saint-Petersburg</td>\n",
       "      <td>21:20:49</td>\n",
       "      <td>Wednesday</td>\n",
       "    </tr>\n",
       "  </tbody>\n",
       "</table>\n",
       "</div>"
      ],
      "text/plain": [
       "     userID                        Track            artist   genre  \\\n",
       "0  FFB692EC            Kamigata To Boots  The Mass Missile    rock   \n",
       "1  55204538  Delayed Because of Accident  Andreas Rönnberg    rock   \n",
       "2    20EC38            Funiculì funiculà       Mario Lanza     pop   \n",
       "3  A3DD03C9        Dragons in the Sunset        Fire + Ice    folk   \n",
       "4  E2DC1FAE                  Soul People        Space Echo   dance   \n",
       "5  842029A1                    Преданная         IMPERVTOR  rusrap   \n",
       "6  4CB90AA5                         True      Roman Messer   dance   \n",
       "7  F03E1C1F             Feeling This Way   Polina Griffith   dance   \n",
       "8  8FA1D3BE     И вновь продолжается бой               NaN  ruspop   \n",
       "9  E772D5C0                    Pessimist               NaN   dance   \n",
       "\n",
       "             City        time        Day  \n",
       "0  Saint-Petersburg  20:28:33  Wednesday  \n",
       "1            Moscow  14:07:09     Friday  \n",
       "2  Saint-Petersburg  20:58:07  Wednesday  \n",
       "3  Saint-Petersburg  08:37:09     Monday  \n",
       "4            Moscow  08:34:34     Monday  \n",
       "5  Saint-Petersburg  13:09:41     Friday  \n",
       "6            Moscow  13:00:07  Wednesday  \n",
       "7            Moscow  20:47:49  Wednesday  \n",
       "8            Moscow  09:17:40     Friday  \n",
       "9  Saint-Petersburg  21:20:49  Wednesday  "
      ]
     },
     "execution_count": 3,
     "metadata": {},
     "output_type": "execute_result"
    }
   ],
   "source": [
    "# получение первых 10 строк таблицы df\n",
    "df.head(10)"
   ]
  },
  {
   "cell_type": "code",
   "execution_count": 4,
   "metadata": {
    "id": "DSf2kIb-_Zct",
    "scrolled": true
   },
   "outputs": [
    {
     "name": "stdout",
     "output_type": "stream",
     "text": [
      "<class 'pandas.core.frame.DataFrame'>\n",
      "RangeIndex: 65079 entries, 0 to 65078\n",
      "Data columns (total 7 columns):\n",
      "  userID    65079 non-null object\n",
      "Track       63848 non-null object\n",
      "artist      57876 non-null object\n",
      "genre       63881 non-null object\n",
      "  City      65079 non-null object\n",
      "time        65079 non-null object\n",
      "Day         65079 non-null object\n",
      "dtypes: object(7)\n",
      "memory usage: 3.5+ MB\n"
     ]
    }
   ],
   "source": [
    "# получение общей информации о данных в таблице df\n",
    "df.info()"
   ]
  },
  {
   "cell_type": "markdown",
   "metadata": {
    "id": "TaQ2Iwbr_Zct"
   },
   "source": [
    "В таблице семь столбцов. Тип данных во всех столбцах — `object`.\n",
    "\n",
    "Согласно документации к данным:\n",
    "* `userID` — идентификатор пользователя;\n",
    "* `Track` — название трека;  \n",
    "* `artist` — имя исполнителя;\n",
    "* `genre` — название жанра;\n",
    "* `City` — город пользователя;\n",
    "* `time` — время начала прослушивания;\n",
    "* `Day` — день недели.\n",
    "\n",
    "В названиях колонок видны три нарушения стиля:\n",
    "1. Строчные буквы сочетаются с прописными.\n",
    "2. Встречаются пробелы.\n",
    "3. Отсутствуют разделительные знаки \"_\".\n",
    "\n",
    "Количество значений в столбцах различается. Значит, в данных есть пропущенные значения.\n",
    "\n",
    "**Выводы**\n",
    "\n",
    "В каждой строке таблицы — данные о прослушанном треке. Часть колонок описывает саму композицию: название, исполнителя и жанр. Остальные данные рассказывают о пользователе: из какого он города, когда он слушал музыку. \n",
    "\n",
    "Предварительно можно утверждать, что, данных достаточно для проверки гипотез. Но встречаются пропуски в данных, а в названиях колонок — расхождения с хорошим стилем.\n",
    "\n",
    "Чтобы двигаться дальше, нужно устранить проблемы в данных.\n",
    "\n",
    "## Предобработка данных"
   ]
  },
  {
   "cell_type": "code",
   "execution_count": 5,
   "metadata": {
    "id": "oKOTdF_Q_Zct"
   },
   "outputs": [
    {
     "data": {
      "text/plain": [
       "Index(['  userID', 'Track', 'artist', 'genre', '  City  ', 'time', 'Day'], dtype='object')"
      ]
     },
     "execution_count": 5,
     "metadata": {},
     "output_type": "execute_result"
    }
   ],
   "source": [
    "# перечень названий столбцов таблицы df\n",
    "df.columns"
   ]
  },
  {
   "cell_type": "markdown",
   "metadata": {
    "id": "FPZA3ki8xe7T"
   },
   "source": []
  },
  {
   "cell_type": "code",
   "execution_count": 6,
   "metadata": {
    "id": "ISlFqs5y_Zct"
   },
   "outputs": [],
   "source": [
    "# переименование столбцов\n",
    "df = df.rename(columns = {'  userID' : 'user_id', 'Track' : 'track', '  City  ' : 'city', 'Day': 'day'})"
   ]
  },
  {
   "cell_type": "code",
   "execution_count": 7,
   "metadata": {
    "id": "d4NOAmTW_Zct"
   },
   "outputs": [
    {
     "data": {
      "text/plain": [
       "Index(['user_id', 'track', 'artist', 'genre', 'city', 'time', 'day'], dtype='object')"
      ]
     },
     "execution_count": 7,
     "metadata": {},
     "output_type": "execute_result"
    }
   ],
   "source": [
    "# проверка результатов - перечень названий столбцов\n",
    "df.columns"
   ]
  },
  {
   "cell_type": "markdown",
   "metadata": {
    "id": "5ISfbcfY_Zct"
   },
   "source": [
    "### Пропуски значений"
   ]
  },
  {
   "cell_type": "code",
   "execution_count": 8,
   "metadata": {
    "id": "RskX29qr_Zct"
   },
   "outputs": [
    {
     "data": {
      "text/plain": [
       "user_id       0\n",
       "track      1231\n",
       "artist     7203\n",
       "genre      1198\n",
       "city          0\n",
       "time          0\n",
       "day           0\n",
       "dtype: int64"
      ]
     },
     "execution_count": 8,
     "metadata": {},
     "output_type": "execute_result"
    }
   ],
   "source": [
    "# подсчёт пропусков\n",
    "df.isna().sum()"
   ]
  },
  {
   "cell_type": "code",
   "execution_count": 9,
   "metadata": {
    "id": "KplB5qWs_Zct"
   },
   "outputs": [],
   "source": [
    "# перебор названий столбцов в цикле и замена пропущенных значений на 'unknown'\n",
    "columns_to_replace = ['track', 'artist', 'genre']\n",
    "\n",
    "for col in columns_to_replace:\n",
    "    df[col] = df[col].fillna('unknown')"
   ]
  },
  {
   "cell_type": "code",
   "execution_count": 10,
   "metadata": {
    "id": "Tq4nYRX4_Zct"
   },
   "outputs": [
    {
     "data": {
      "text/plain": [
       "user_id    0\n",
       "track      0\n",
       "artist     0\n",
       "genre      0\n",
       "city       0\n",
       "time       0\n",
       "day        0\n",
       "dtype: int64"
      ]
     },
     "execution_count": 10,
     "metadata": {},
     "output_type": "execute_result"
    }
   ],
   "source": [
    "# подсчёт пропусков\n",
    "df.isna().sum()"
   ]
  },
  {
   "cell_type": "markdown",
   "metadata": {
    "id": "BWKRtBJ3_Zct"
   },
   "source": [
    "### Дубликаты"
   ]
  },
  {
   "cell_type": "code",
   "execution_count": 11,
   "metadata": {
    "id": "36eES_S0_Zct"
   },
   "outputs": [
    {
     "data": {
      "text/plain": [
       "3826"
      ]
     },
     "execution_count": 11,
     "metadata": {},
     "output_type": "execute_result"
    }
   ],
   "source": [
    "# подсчёт явных дубликатов\n",
    "df.duplicated().sum()"
   ]
  },
  {
   "cell_type": "code",
   "execution_count": 12,
   "metadata": {
    "id": "exFHq6tt_Zct"
   },
   "outputs": [],
   "source": [
    "# удаление явных дубликатов (с удалением старых индексов и формированием новых)\n",
    "df = df.drop_duplicates().reset_index(drop=True)"
   ]
  },
  {
   "cell_type": "code",
   "execution_count": 13,
   "metadata": {
    "id": "-8PuNWQ0_Zct"
   },
   "outputs": [
    {
     "data": {
      "text/plain": [
       "0"
      ]
     },
     "execution_count": 13,
     "metadata": {},
     "output_type": "execute_result"
    }
   ],
   "source": [
    "# проверка на отсутствие дубликатов\n",
    "df.duplicated().sum()"
   ]
  },
  {
   "cell_type": "code",
   "execution_count": 14,
   "metadata": {
    "id": "JIUcqzZN_Zct"
   },
   "outputs": [
    {
     "data": {
      "text/plain": [
       "array(['acid', 'acoustic', 'action', 'adult', 'africa', 'afrikaans',\n",
       "       'alternative', 'alternativepunk', 'ambient', 'americana',\n",
       "       'animated', 'anime', 'arabesk', 'arabic', 'arena',\n",
       "       'argentinetango', 'art', 'audiobook', 'author', 'avantgarde',\n",
       "       'axé', 'baile', 'balkan', 'beats', 'bigroom', 'black', 'bluegrass',\n",
       "       'blues', 'bollywood', 'bossa', 'brazilian', 'breakbeat', 'breaks',\n",
       "       'broadway', 'cantautori', 'cantopop', 'canzone', 'caribbean',\n",
       "       'caucasian', 'celtic', 'chamber', 'chanson', 'children', 'chill',\n",
       "       'chinese', 'choral', 'christian', 'christmas', 'classical',\n",
       "       'classicmetal', 'club', 'colombian', 'comedy', 'conjazz',\n",
       "       'contemporary', 'country', 'cuban', 'dance', 'dancehall',\n",
       "       'dancepop', 'dark', 'death', 'deep', 'deutschrock', 'deutschspr',\n",
       "       'dirty', 'disco', 'dnb', 'documentary', 'downbeat', 'downtempo',\n",
       "       'drum', 'dub', 'dubstep', 'eastern', 'easy', 'electronic',\n",
       "       'electropop', 'emo', 'entehno', 'epicmetal', 'estrada', 'ethnic',\n",
       "       'eurofolk', 'european', 'experimental', 'extrememetal', 'fado',\n",
       "       'fairytail', 'film', 'fitness', 'flamenco', 'folk', 'folklore',\n",
       "       'folkmetal', 'folkrock', 'folktronica', 'forró', 'frankreich',\n",
       "       'französisch', 'french', 'funk', 'future', 'gangsta', 'garage',\n",
       "       'german', 'ghazal', 'gitarre', 'glitch', 'gospel', 'gothic',\n",
       "       'grime', 'grunge', 'gypsy', 'handsup', \"hard'n'heavy\", 'hardcore',\n",
       "       'hardstyle', 'hardtechno', 'hip', 'hip-hop', 'hiphop',\n",
       "       'historisch', 'holiday', 'hop', 'horror', 'house', 'hymn', 'idm',\n",
       "       'independent', 'indian', 'indie', 'indipop', 'industrial',\n",
       "       'inspirational', 'instrumental', 'international', 'irish', 'jam',\n",
       "       'japanese', 'jazz', 'jewish', 'jpop', 'jungle', 'k-pop',\n",
       "       'karadeniz', 'karaoke', 'kayokyoku', 'korean', 'laiko', 'latin',\n",
       "       'latino', 'leftfield', 'local', 'lounge', 'loungeelectronic',\n",
       "       'lovers', 'malaysian', 'mandopop', 'marschmusik', 'meditative',\n",
       "       'mediterranean', 'melodic', 'metal', 'metalcore', 'mexican',\n",
       "       'middle', 'minimal', 'miscellaneous', 'modern', 'mood', 'mpb',\n",
       "       'muslim', 'native', 'neoklassik', 'neue', 'new', 'newage',\n",
       "       'newwave', 'nu', 'nujazz', 'numetal', 'oceania', 'old', 'opera',\n",
       "       'orchestral', 'other', 'piano', 'podcasts', 'pop', 'popdance',\n",
       "       'popelectronic', 'popeurodance', 'poprussian', 'post',\n",
       "       'posthardcore', 'postrock', 'power', 'progmetal', 'progressive',\n",
       "       'psychedelic', 'punjabi', 'punk', 'quebecois', 'ragga', 'ram',\n",
       "       'rancheras', 'rap', 'rave', 'reggae', 'reggaeton', 'regional',\n",
       "       'relax', 'religious', 'retro', 'rhythm', 'rnb', 'rnr', 'rock',\n",
       "       'rockabilly', 'rockalternative', 'rockindie', 'rockother',\n",
       "       'romance', 'roots', 'ruspop', 'rusrap', 'rusrock', 'russian',\n",
       "       'salsa', 'samba', 'scenic', 'schlager', 'self', 'sertanejo',\n",
       "       'shanson', 'shoegazing', 'showtunes', 'singer', 'ska', 'skarock',\n",
       "       'slow', 'smooth', 'soft', 'soul', 'soulful', 'sound', 'soundtrack',\n",
       "       'southern', 'specialty', 'speech', 'spiritual', 'sport',\n",
       "       'stonerrock', 'surf', 'swing', 'synthpop', 'synthrock',\n",
       "       'sängerportrait', 'tango', 'tanzorchester', 'taraftar', 'tatar',\n",
       "       'tech', 'techno', 'teen', 'thrash', 'top', 'traditional',\n",
       "       'tradjazz', 'trance', 'tribal', 'trip', 'triphop', 'tropical',\n",
       "       'türk', 'türkçe', 'ukrrock', 'unknown', 'urban', 'uzbek',\n",
       "       'variété', 'vi', 'videogame', 'vocal', 'western', 'world',\n",
       "       'worldbeat', 'ïîï', 'электроника'], dtype=object)"
      ]
     },
     "metadata": {},
     "output_type": "display_data"
    }
   ],
   "source": [
    "# Просмотр уникальных названий жанров\n",
    "list_genre = df['genre'].sort_values().unique()\n",
    "display(list_genre)"
   ]
  },
  {
   "cell_type": "code",
   "execution_count": 15,
   "metadata": {
    "id": "ErNDkmns_Zct"
   },
   "outputs": [],
   "source": [
    "# Функция для замены неявных дубликатов\n",
    "def replace_wrong_genres(wrong_genres, correct_genre):\n",
    "    for value in wrong_genres:\n",
    "        df['genre'] = df['genre'].replace(value, correct_genre)"
   ]
  },
  {
   "cell_type": "code",
   "execution_count": 16,
   "metadata": {
    "id": "YN5i2hpmSo09"
   },
   "outputs": [],
   "source": [
    "# Устранение неявных дубликатов\n",
    "hiphop_dupl = ['hip', 'hop', 'hip-hop']\n",
    "replace_wrong_genres(hiphop_dupl, 'hiphop')"
   ]
  },
  {
   "cell_type": "code",
   "execution_count": 17,
   "metadata": {
    "id": "wvixALnFG15m"
   },
   "outputs": [
    {
     "data": {
      "text/plain": [
       "array(['acid', 'acoustic', 'action', 'adult', 'africa', 'afrikaans',\n",
       "       'alternative', 'alternativepunk', 'ambient', 'americana',\n",
       "       'animated', 'anime', 'arabesk', 'arabic', 'arena',\n",
       "       'argentinetango', 'art', 'audiobook', 'author', 'avantgarde',\n",
       "       'axé', 'baile', 'balkan', 'beats', 'bigroom', 'black', 'bluegrass',\n",
       "       'blues', 'bollywood', 'bossa', 'brazilian', 'breakbeat', 'breaks',\n",
       "       'broadway', 'cantautori', 'cantopop', 'canzone', 'caribbean',\n",
       "       'caucasian', 'celtic', 'chamber', 'chanson', 'children', 'chill',\n",
       "       'chinese', 'choral', 'christian', 'christmas', 'classical',\n",
       "       'classicmetal', 'club', 'colombian', 'comedy', 'conjazz',\n",
       "       'contemporary', 'country', 'cuban', 'dance', 'dancehall',\n",
       "       'dancepop', 'dark', 'death', 'deep', 'deutschrock', 'deutschspr',\n",
       "       'dirty', 'disco', 'dnb', 'documentary', 'downbeat', 'downtempo',\n",
       "       'drum', 'dub', 'dubstep', 'eastern', 'easy', 'electronic',\n",
       "       'electropop', 'emo', 'entehno', 'epicmetal', 'estrada', 'ethnic',\n",
       "       'eurofolk', 'european', 'experimental', 'extrememetal', 'fado',\n",
       "       'fairytail', 'film', 'fitness', 'flamenco', 'folk', 'folklore',\n",
       "       'folkmetal', 'folkrock', 'folktronica', 'forró', 'frankreich',\n",
       "       'französisch', 'french', 'funk', 'future', 'gangsta', 'garage',\n",
       "       'german', 'ghazal', 'gitarre', 'glitch', 'gospel', 'gothic',\n",
       "       'grime', 'grunge', 'gypsy', 'handsup', \"hard'n'heavy\", 'hardcore',\n",
       "       'hardstyle', 'hardtechno', 'hiphop', 'historisch', 'holiday',\n",
       "       'horror', 'house', 'hymn', 'idm', 'independent', 'indian', 'indie',\n",
       "       'indipop', 'industrial', 'inspirational', 'instrumental',\n",
       "       'international', 'irish', 'jam', 'japanese', 'jazz', 'jewish',\n",
       "       'jpop', 'jungle', 'k-pop', 'karadeniz', 'karaoke', 'kayokyoku',\n",
       "       'korean', 'laiko', 'latin', 'latino', 'leftfield', 'local',\n",
       "       'lounge', 'loungeelectronic', 'lovers', 'malaysian', 'mandopop',\n",
       "       'marschmusik', 'meditative', 'mediterranean', 'melodic', 'metal',\n",
       "       'metalcore', 'mexican', 'middle', 'minimal', 'miscellaneous',\n",
       "       'modern', 'mood', 'mpb', 'muslim', 'native', 'neoklassik', 'neue',\n",
       "       'new', 'newage', 'newwave', 'nu', 'nujazz', 'numetal', 'oceania',\n",
       "       'old', 'opera', 'orchestral', 'other', 'piano', 'podcasts', 'pop',\n",
       "       'popdance', 'popelectronic', 'popeurodance', 'poprussian', 'post',\n",
       "       'posthardcore', 'postrock', 'power', 'progmetal', 'progressive',\n",
       "       'psychedelic', 'punjabi', 'punk', 'quebecois', 'ragga', 'ram',\n",
       "       'rancheras', 'rap', 'rave', 'reggae', 'reggaeton', 'regional',\n",
       "       'relax', 'religious', 'retro', 'rhythm', 'rnb', 'rnr', 'rock',\n",
       "       'rockabilly', 'rockalternative', 'rockindie', 'rockother',\n",
       "       'romance', 'roots', 'ruspop', 'rusrap', 'rusrock', 'russian',\n",
       "       'salsa', 'samba', 'scenic', 'schlager', 'self', 'sertanejo',\n",
       "       'shanson', 'shoegazing', 'showtunes', 'singer', 'ska', 'skarock',\n",
       "       'slow', 'smooth', 'soft', 'soul', 'soulful', 'sound', 'soundtrack',\n",
       "       'southern', 'specialty', 'speech', 'spiritual', 'sport',\n",
       "       'stonerrock', 'surf', 'swing', 'synthpop', 'synthrock',\n",
       "       'sängerportrait', 'tango', 'tanzorchester', 'taraftar', 'tatar',\n",
       "       'tech', 'techno', 'teen', 'thrash', 'top', 'traditional',\n",
       "       'tradjazz', 'trance', 'tribal', 'trip', 'triphop', 'tropical',\n",
       "       'türk', 'türkçe', 'ukrrock', 'unknown', 'urban', 'uzbek',\n",
       "       'variété', 'vi', 'videogame', 'vocal', 'western', 'world',\n",
       "       'worldbeat', 'ïîï', 'электроника'], dtype=object)"
      ]
     },
     "metadata": {},
     "output_type": "display_data"
    }
   ],
   "source": [
    "# Проверка на неявные дубликаты\n",
    "list_genre = df['genre'].sort_values().unique()\n",
    "display(list_genre)"
   ]
  },
  {
   "cell_type": "markdown",
   "metadata": {
    "id": "jz6a9-7HQUDd"
   },
   "source": [
    "**Выводы**\n",
    "\n",
    "Было обнаружино три проблемы в данных:\n",
    "\n",
    "- нарушения в стиле заголовков,\n",
    "- пропущенные значения,\n",
    "- дубликаты — явные и неявные.\n",
    "\n",
    "Перейдем к проверке гипотез.\n",
    "\n",
    "## Проверка гипотез\n",
    "\n",
    "### Сравнение поведения пользователей двух столиц"
   ]
  },
  {
   "cell_type": "code",
   "execution_count": 18,
   "metadata": {
    "id": "0_Qs96oh_Zcu"
   },
   "outputs": [
    {
     "data": {
      "text/plain": [
       "city\n",
       "Moscow              42741\n",
       "Saint-Petersburg    18512\n",
       "Name: genre, dtype: int64"
      ]
     },
     "execution_count": 18,
     "metadata": {},
     "output_type": "execute_result"
    }
   ],
   "source": [
    "# Подсчёт прослушиваний в каждом городе\n",
    "\n",
    "#number_auditions_moscow = df[(df['city'] == 'Moscow')]['city'].count()\n",
    "#number_auditions_petersburg = df[df['city'] == 'Saint-Petersburg']['city'].count()\n",
    "\n",
    "#print('Колличество прослушиваний в Москве:     ', number_auditions_moscow, '\\n')\n",
    "#print('Колличество прослушиваний в Петербурге: ', number_auditions_petersburg)\n",
    "\n",
    "#group_auditions_city = df[(df['city'] == 'Moscow') | (df['city'] == 'Saint-Petersburg')]\n",
    "\n",
    "group_auditions_city = df.groupby('city')['genre'].count()\n",
    "group_auditions_city"
   ]
  },
  {
   "cell_type": "code",
   "execution_count": 19,
   "metadata": {},
   "outputs": [
    {
     "data": {
      "text/html": [
       "<div>\n",
       "<style scoped>\n",
       "    .dataframe tbody tr th:only-of-type {\n",
       "        vertical-align: middle;\n",
       "    }\n",
       "\n",
       "    .dataframe tbody tr th {\n",
       "        vertical-align: top;\n",
       "    }\n",
       "\n",
       "    .dataframe thead th {\n",
       "        text-align: right;\n",
       "    }\n",
       "</style>\n",
       "<table border=\"1\" class=\"dataframe\">\n",
       "  <thead>\n",
       "    <tr style=\"text-align: right;\">\n",
       "      <th></th>\n",
       "      <th>user_id</th>\n",
       "      <th>track</th>\n",
       "      <th>artist</th>\n",
       "      <th>genre</th>\n",
       "      <th>time</th>\n",
       "      <th>day</th>\n",
       "    </tr>\n",
       "    <tr>\n",
       "      <th>city</th>\n",
       "      <th></th>\n",
       "      <th></th>\n",
       "      <th></th>\n",
       "      <th></th>\n",
       "      <th></th>\n",
       "      <th></th>\n",
       "    </tr>\n",
       "  </thead>\n",
       "  <tbody>\n",
       "    <tr>\n",
       "      <td>Moscow</td>\n",
       "      <td>42741</td>\n",
       "      <td>42741</td>\n",
       "      <td>42741</td>\n",
       "      <td>42741</td>\n",
       "      <td>42741</td>\n",
       "      <td>42741</td>\n",
       "    </tr>\n",
       "    <tr>\n",
       "      <td>Saint-Petersburg</td>\n",
       "      <td>18512</td>\n",
       "      <td>18512</td>\n",
       "      <td>18512</td>\n",
       "      <td>18512</td>\n",
       "      <td>18512</td>\n",
       "      <td>18512</td>\n",
       "    </tr>\n",
       "  </tbody>\n",
       "</table>\n",
       "</div>"
      ],
      "text/plain": [
       "                  user_id  track  artist  genre   time    day\n",
       "city                                                         \n",
       "Moscow              42741  42741   42741  42741  42741  42741\n",
       "Saint-Petersburg    18512  18512   18512  18512  18512  18512"
      ]
     },
     "execution_count": 19,
     "metadata": {},
     "output_type": "execute_result"
    }
   ],
   "source": [
    "count_all = df.groupby(by = 'city').count()\n",
    "count_all"
   ]
  },
  {
   "cell_type": "code",
   "execution_count": 20,
   "metadata": {},
   "outputs": [
    {
     "data": {
      "text/plain": [
       "city\n",
       "Moscow              42741\n",
       "Saint-Petersburg    18512\n",
       "Name: genre, dtype: int64"
      ]
     },
     "execution_count": 20,
     "metadata": {},
     "output_type": "execute_result"
    }
   ],
   "source": [
    "count_all['genre']"
   ]
  },
  {
   "cell_type": "markdown",
   "metadata": {
    "id": "dzli3w8o_Zcu"
   },
   "source": [
    "В Москве прослушиваний больше, чем в Петербурге. Из этого не следует, что московские пользователи чаще слушают музыку. Просто самих пользователей в Москве больше.\n",
    "\n",
    "Теперь сгруппируйте данные по дню недели и подсчитайте прослушивания в понедельник, среду и пятницу. Учтите, что в данных есть информация только о прослушиваниях только за эти дни.\n"
   ]
  },
  {
   "cell_type": "code",
   "execution_count": 21,
   "metadata": {
    "id": "uZMKjiJz_Zcu"
   },
   "outputs": [
    {
     "data": {
      "text/plain": [
       "day\n",
       "Friday       21840\n",
       "Monday       21354\n",
       "Wednesday    18059\n",
       "Name: genre, dtype: int64"
      ]
     },
     "execution_count": 21,
     "metadata": {},
     "output_type": "execute_result"
    }
   ],
   "source": [
    "# Подсчёт прослушиваний в каждый из трёх дней\n",
    "\n",
    "#number_auditions_monday = df[df['day'] == 'Monday']['day'].count()\n",
    "#number_auditions_wednesday = df[df['day'] == 'Wednesday']['day'].count()\n",
    "#number_auditions_friday = df[df['day'] == 'Friday']['day'].count()\n",
    "\n",
    "#print('Колличество прослушиваний в понедельник: ', number_auditions_monday, '\\n')\n",
    "#print('Колличество прослушиваний в среду:       ', number_auditions_wednesday, '\\n')\n",
    "#print('Колличество прослушиваний в пятницу:     ', number_auditions_friday)\n",
    "\n",
    "#group_auditions_day = df[(df['day'] == 'Monday') | (df['day'] == 'Wednesday') | (df['day'] == 'Friday')]\n",
    "\n",
    "group_auditions_day = df.groupby('day')['genre'].count()\n",
    "group_auditions_day"
   ]
  },
  {
   "cell_type": "markdown",
   "metadata": {
    "id": "cC2tNrlL_Zcu"
   },
   "source": [
    "В среднем пользователи из двух городов менее активны по средам. Но картина может измениться, если рассмотреть каждый город в отдельности."
   ]
  },
  {
   "cell_type": "code",
   "execution_count": 22,
   "metadata": {
    "id": "Nz3GdQB1_Zcu"
   },
   "outputs": [],
   "source": [
    "# Функция для подсчёта прослушиваний для конкретного города и дня.\n",
    "def number_tracks(day, city):\n",
    "    track_list = df[(df['day'] == day) & (df['city'] == city)]\n",
    "    track_list_count = track_list['user_id'].count()\n",
    "    return track_list_count"
   ]
  },
  {
   "cell_type": "code",
   "execution_count": 23,
   "metadata": {
    "id": "rJcRATNQ_Zcu"
   },
   "outputs": [
    {
     "name": "stdout",
     "output_type": "stream",
     "text": [
      "количество прослушиваний в Москве по понедельникам: 15740\n"
     ]
    }
   ],
   "source": [
    "# количество прослушиваний в Москве по понедельникам\n",
    "number_auditions_mon_mosk = number_tracks('Monday', 'Moscow')\n",
    "print('количество прослушиваний в Москве по понедельникам:', number_auditions_mon_mosk)"
   ]
  },
  {
   "cell_type": "code",
   "execution_count": 24,
   "metadata": {
    "id": "hq_ncZ5T_Zcu"
   },
   "outputs": [
    {
     "name": "stdout",
     "output_type": "stream",
     "text": [
      "количество прослушиваний в Санкт-Петербурге по понедельникам: 5614\n"
     ]
    }
   ],
   "source": [
    "# количество прослушиваний в Санкт-Петербурге по понедельникам\n",
    "number_auditions_mon_spb = number_tracks('Monday', 'Saint-Petersburg')\n",
    "print('количество прослушиваний в Санкт-Петербурге по понедельникам:', number_auditions_mon_spb)"
   ]
  },
  {
   "cell_type": "code",
   "execution_count": 25,
   "metadata": {
    "id": "_NTy2VPU_Zcu"
   },
   "outputs": [
    {
     "name": "stdout",
     "output_type": "stream",
     "text": [
      "количество прослушиваний в Москве по средам: 11056\n"
     ]
    }
   ],
   "source": [
    "# количество прослушиваний в Москве по средам\n",
    "number_auditions_wedn_mosk = number_tracks('Wednesday', 'Moscow')\n",
    "print('количество прослушиваний в Москве по средам:', number_auditions_wedn_mosk)"
   ]
  },
  {
   "cell_type": "code",
   "execution_count": 26,
   "metadata": {
    "id": "j2y3TAwo_Zcu"
   },
   "outputs": [
    {
     "name": "stdout",
     "output_type": "stream",
     "text": [
      "количество прослушиваний в Санкт-Петербурге по средам: 7003\n"
     ]
    }
   ],
   "source": [
    "# количество прослушиваний в Санкт-Петербурге по средам\n",
    "number_auditions_wedn_spb = number_tracks('Wednesday', 'Saint-Petersburg')\n",
    "print('количество прослушиваний в Санкт-Петербурге по средам:', number_auditions_wedn_spb)"
   ]
  },
  {
   "cell_type": "code",
   "execution_count": 27,
   "metadata": {
    "id": "vYDw5u_K_Zcu"
   },
   "outputs": [
    {
     "name": "stdout",
     "output_type": "stream",
     "text": [
      "количество прослушиваний в Москве по пятницам: 15945\n"
     ]
    }
   ],
   "source": [
    "# количество прослушиваний в Москве по пятницам\n",
    "number_auditions_fr_mosk = number_tracks('Friday', 'Moscow')\n",
    "print('количество прослушиваний в Москве по пятницам:', number_auditions_fr_mosk)"
   ]
  },
  {
   "cell_type": "code",
   "execution_count": 28,
   "metadata": {
    "id": "8_yzFtW3_Zcu"
   },
   "outputs": [
    {
     "name": "stdout",
     "output_type": "stream",
     "text": [
      "количество прослушиваний в Санкт-Петербурге по пятницам: 5895\n"
     ]
    }
   ],
   "source": [
    "# количество прослушиваний в Санкт-Петербурге по пятницам\n",
    "number_auditions_fr_spb = number_tracks('Friday', 'Saint-Petersburg')\n",
    "print('количество прослушиваний в Санкт-Петербурге по пятницам:', number_auditions_fr_spb)"
   ]
  },
  {
   "cell_type": "code",
   "execution_count": 29,
   "metadata": {
    "id": "APAcLpOr_Zcu"
   },
   "outputs": [
    {
     "data": {
      "text/html": [
       "<div>\n",
       "<style scoped>\n",
       "    .dataframe tbody tr th:only-of-type {\n",
       "        vertical-align: middle;\n",
       "    }\n",
       "\n",
       "    .dataframe tbody tr th {\n",
       "        vertical-align: top;\n",
       "    }\n",
       "\n",
       "    .dataframe thead th {\n",
       "        text-align: right;\n",
       "    }\n",
       "</style>\n",
       "<table border=\"1\" class=\"dataframe\">\n",
       "  <thead>\n",
       "    <tr style=\"text-align: right;\">\n",
       "      <th></th>\n",
       "      <th>city</th>\n",
       "      <th>monday</th>\n",
       "      <th>wednesday</th>\n",
       "      <th>friday</th>\n",
       "    </tr>\n",
       "  </thead>\n",
       "  <tbody>\n",
       "    <tr>\n",
       "      <td>0</td>\n",
       "      <td>Moscow</td>\n",
       "      <td>15740</td>\n",
       "      <td>11056</td>\n",
       "      <td>15945</td>\n",
       "    </tr>\n",
       "    <tr>\n",
       "      <td>1</td>\n",
       "      <td>Saint-Petersburg</td>\n",
       "      <td>5614</td>\n",
       "      <td>7003</td>\n",
       "      <td>5895</td>\n",
       "    </tr>\n",
       "  </tbody>\n",
       "</table>\n",
       "</div>"
      ],
      "text/plain": [
       "               city  monday  wednesday  friday\n",
       "0            Moscow   15740      11056   15945\n",
       "1  Saint-Petersburg    5614       7003    5895"
      ]
     },
     "metadata": {},
     "output_type": "display_data"
    }
   ],
   "source": [
    "# Таблица с результатами\n",
    "dat = [['Moscow', number_auditions_mon_mosk, number_auditions_wedn_mosk, number_auditions_fr_mosk],\n",
    "       ['Saint-Petersburg', number_auditions_mon_spb, number_auditions_wedn_spb, number_auditions_fr_spb]]\n",
    "col = ['city', 'monday', 'wednesday', 'friday']\n",
    "table_city_day = pd.DataFrame(data = dat, columns = col)\n",
    "display(table_city_day)"
   ]
  },
  {
   "cell_type": "markdown",
   "metadata": {
    "id": "-EgPIHYu_Zcu"
   },
   "source": [
    "**Выводы**\n",
    "\n",
    "Данные показывают разницу поведения пользователей:\n",
    "\n",
    "- В Москве пик прослушиваний приходится на понедельник и пятницу, а в среду заметен спад.\n",
    "- В Петербурге, наоборот, больше слушают музыку по средам. Активность в понедельник и пятницу здесь почти в равной мере уступает среде.\n",
    "\n",
    "Значит, данные говорят в пользу первой гипотезы.\n",
    "\n",
    "### Музыка в начале и в конце недели\n",
    "\n",
    "Согласно второй гипотезе, утром в понедельник в Москве преобладают одни жанры, а в Петербурге — другие. Так же и вечером пятницы преобладают разные жанры — в зависимости от города."
   ]
  },
  {
   "cell_type": "code",
   "execution_count": 30,
   "metadata": {
    "id": "qeaFfM_P_Zcu"
   },
   "outputs": [],
   "source": [
    "# получение таблицы moscow_general из тех строк таблицы df, \n",
    "# для которых значение в столбце 'city' равно 'Moscow'\n",
    "moscow_general = df[df['city'] == 'Moscow']"
   ]
  },
  {
   "cell_type": "code",
   "execution_count": 31,
   "metadata": {
    "id": "ORaVRKto_Zcu"
   },
   "outputs": [],
   "source": [
    "# получение таблицы spb_general из тех строк таблицы df,\n",
    "# для которых значение в столбце 'city' равно 'Saint-Petersburg'\n",
    "spb_general = df[df['city'] == 'Saint-Petersburg']"
   ]
  },
  {
   "cell_type": "code",
   "execution_count": 32,
   "metadata": {
    "id": "laJT9BYl_Zcu"
   },
   "outputs": [],
   "source": [
    "# функция которая возвращает информацию о самых популярных жанрах в указанный день в заданное время:\n",
    "def genre_weekday(table, day, time1, time2):\n",
    "    genre_df = table[(table['day'] == day) & (table['time'] > time1) & (table['time'] < time2)]\n",
    "    genre_df_count = genre_df.groupby('genre')['genre'].count()\n",
    "    genre_df_sorted = genre_df_count.sort_values(ascending=False)\n",
    "    return(genre_df_sorted[:10])"
   ]
  },
  {
   "cell_type": "code",
   "execution_count": 33,
   "metadata": {
    "id": "yz7itPUQ_Zcu"
   },
   "outputs": [
    {
     "data": {
      "text/plain": [
       "genre\n",
       "pop            781\n",
       "dance          549\n",
       "electronic     480\n",
       "rock           474\n",
       "hiphop         286\n",
       "ruspop         186\n",
       "world          181\n",
       "rusrap         175\n",
       "alternative    164\n",
       "unknown        161\n",
       "Name: genre, dtype: int64"
      ]
     },
     "execution_count": 33,
     "metadata": {},
     "output_type": "execute_result"
    }
   ],
   "source": [
    "genre_weekday(moscow_general, 'Monday', '07:00', '11:00')"
   ]
  },
  {
   "cell_type": "code",
   "execution_count": 34,
   "metadata": {
    "id": "kwUcHPdy_Zcu"
   },
   "outputs": [
    {
     "data": {
      "text/plain": [
       "genre\n",
       "pop            218\n",
       "dance          182\n",
       "rock           162\n",
       "electronic     147\n",
       "hiphop          80\n",
       "ruspop          64\n",
       "alternative     58\n",
       "rusrap          55\n",
       "jazz            44\n",
       "classical       40\n",
       "Name: genre, dtype: int64"
      ]
     },
     "execution_count": 34,
     "metadata": {},
     "output_type": "execute_result"
    }
   ],
   "source": [
    "# вызов функции для утра понедельника в Петербурге (вместо df — таблица spb_general)\n",
    "genre_weekday(spb_general, 'Monday', '07:00', '11:00')"
   ]
  },
  {
   "cell_type": "code",
   "execution_count": 35,
   "metadata": {
    "id": "EzXVRE1o_Zcu"
   },
   "outputs": [
    {
     "data": {
      "text/plain": [
       "genre\n",
       "pop            713\n",
       "rock           517\n",
       "dance          495\n",
       "electronic     482\n",
       "hiphop         273\n",
       "world          208\n",
       "ruspop         170\n",
       "alternative    163\n",
       "classical      163\n",
       "rusrap         142\n",
       "Name: genre, dtype: int64"
      ]
     },
     "execution_count": 35,
     "metadata": {},
     "output_type": "execute_result"
    }
   ],
   "source": [
    "# вызов функции для вечера пятницы в Москве\n",
    "genre_weekday(moscow_general, 'Friday', '17:00', '23:00')"
   ]
  },
  {
   "cell_type": "code",
   "execution_count": 36,
   "metadata": {
    "id": "JZaEKu5v_Zcu"
   },
   "outputs": [
    {
     "data": {
      "text/plain": [
       "genre\n",
       "pop            256\n",
       "rock           216\n",
       "electronic     216\n",
       "dance          210\n",
       "hiphop          97\n",
       "alternative     63\n",
       "jazz            61\n",
       "classical       60\n",
       "rusrap          59\n",
       "world           54\n",
       "Name: genre, dtype: int64"
      ]
     },
     "execution_count": 36,
     "metadata": {},
     "output_type": "execute_result"
    }
   ],
   "source": [
    "# вызов функции для вечера пятницы в Петербурге\n",
    "genre_weekday(spb_general, 'Friday', '17:00', '23:00')"
   ]
  },
  {
   "cell_type": "markdown",
   "metadata": {
    "id": "wrCe4MNX_Zcu"
   },
   "source": [
    "**Выводы**\n",
    "\n",
    "Если сравнить топ-10 жанров в понедельник утром, можно сделать такие выводы:\n",
    "\n",
    "1. В Москве и Петербурге слушают похожую музыку. Единственное отличие — в московский рейтинг вошёл жанр “world”, а в петербургский — джаз и классика.\n",
    "\n",
    "2. В Москве пропущенных значений оказалось так много, что значение `'unknown'` заняло десятое место среди самых популярных жанров. Значит, пропущенные значения занимают существенную долю в данных и угрожают достоверности исследования.\n",
    "\n",
    "Вечер пятницы не меняет эту картину. Некоторые жанры поднимаются немного выше, другие спускаются, но в целом топ-10 остаётся тем же самым.\n",
    "\n",
    "Таким образом, вторая гипотеза подтвердилась лишь частично:\n",
    "* Пользователи слушают похожую музыку в начале недели и в конце.\n",
    "* Разница между Москвой и Петербургом не слишком выражена. В Москве чаще слушают русскую популярную музыку, в Петербурге — джаз.\n",
    "\n",
    "Однако пропуски в данных ставят под сомнение этот результат. В Москве их так много, что рейтинг топ-10 мог бы выглядеть иначе, если бы не утерянные  данные о жанрах."
   ]
  },
  {
   "cell_type": "markdown",
   "metadata": {
    "id": "JolODAqr_Zcu"
   },
   "source": [
    "### Жанровые предпочтения в Москве и Петербурге\n",
    "\n",
    "Гипотеза: Петербург — столица рэпа, музыку этого жанра там слушают чаще, чем в Москве.  А Москва — город контрастов, в котором, тем не менее, преобладает поп-музыка."
   ]
  },
  {
   "cell_type": "code",
   "execution_count": 37,
   "metadata": {
    "id": "r19lIPke_Zcu"
   },
   "outputs": [],
   "source": [
    "moscow_general_count = moscow_general.groupby('genre')['genre'].count()\n",
    "moscow_genres = moscow_general_count.sort_values(ascending=False)"
   ]
  },
  {
   "cell_type": "code",
   "execution_count": 38,
   "metadata": {
    "id": "WhCSooF8_Zcv"
   },
   "outputs": [
    {
     "data": {
      "text/plain": [
       "genre\n",
       "pop            5892\n",
       "dance          4435\n",
       "rock           3965\n",
       "electronic     3786\n",
       "hiphop         2096\n",
       "classical      1616\n",
       "world          1432\n",
       "alternative    1379\n",
       "ruspop         1372\n",
       "rusrap         1161\n",
       "Name: genre, dtype: int64"
      ]
     },
     "execution_count": 38,
     "metadata": {},
     "output_type": "execute_result"
    }
   ],
   "source": [
    "# просмотр первых 10 строк moscow_genres\n",
    "moscow_genres[:10]"
   ]
  },
  {
   "cell_type": "code",
   "execution_count": 39,
   "metadata": {
    "id": "gluLIpE7_Zcv"
   },
   "outputs": [],
   "source": [
    "spb_general_count = spb_general.groupby('genre')['genre'].count()\n",
    "spb_genres = spb_general_count.sort_values(ascending=False)"
   ]
  },
  {
   "cell_type": "code",
   "execution_count": 40,
   "metadata": {
    "id": "uaGJHjVU_Zcv"
   },
   "outputs": [
    {
     "data": {
      "text/plain": [
       "genre\n",
       "pop            2431\n",
       "dance          1932\n",
       "rock           1879\n",
       "electronic     1736\n",
       "hiphop          960\n",
       "alternative     649\n",
       "classical       646\n",
       "rusrap          564\n",
       "ruspop          538\n",
       "world           515\n",
       "Name: genre, dtype: int64"
      ]
     },
     "execution_count": 40,
     "metadata": {},
     "output_type": "execute_result"
    }
   ],
   "source": [
    "# просмотр первых 10 строк spb_genres\n",
    "spb_genres[:10]"
   ]
  },
  {
   "cell_type": "markdown",
   "metadata": {
    "id": "tjUwbHb3_Zcv"
   },
   "source": [
    "**Выводы**\n",
    "\n",
    "Гипотеза частично подтвердилась:\n",
    "* Поп-музыка — самый популярный жанр в Москве, как и предполагала гипотеза. Более того, в топ-10 жанров встречается близкий жанр — русская популярная музыка.\n",
    "* Вопреки ожиданиям, рэп одинаково популярен в Москве и Петербурге.\n",
    "\n",
    "## Итоги исследования\n",
    "\n",
    "Мы проверили три гипотезы и установили:\n",
    "\n",
    "1. День недели по-разному влияет на активность пользователей в Москве и Петербурге. \n",
    "\n",
    "Первая гипотеза полностью подтвердилась.\n",
    "\n",
    "2. Музыкальные предпочтения не сильно меняются в течение недели — будь то Москва или Петербург. Небольшие различия заметны в начале недели, по понедельникам:\n",
    "* в Москве слушают музыку жанра “world”,\n",
    "* в Петербурге — джаз и классику.\n",
    "\n",
    "Таким образом, вторая гипотеза подтвердилась лишь отчасти. Этот результат мог оказаться иным, если бы не пропуски в данных.\n",
    "\n",
    "3. Во вкусах пользователей Москвы и Петербурга больше общего чем различий. Вопреки ожиданиям, предпочтения жанров в Петербурге напоминают московские.\n",
    "\n",
    "Третья гипотеза не подтвердилась. Если различия в предпочтениях и существуют, на основной массе пользователей они незаметны."
   ]
  },
  {
   "cell_type": "code",
   "execution_count": null,
   "metadata": {},
   "outputs": [],
   "source": []
  }
 ],
 "metadata": {
  "ExecuteTimeLog": [
   {
    "duration": 598,
    "start_time": "2021-09-26T13:15:54.553Z"
   },
   {
    "duration": 289,
    "start_time": "2021-09-26T13:15:57.550Z"
   },
   {
    "duration": 144,
    "start_time": "2021-09-26T13:16:05.118Z"
   },
   {
    "duration": 17,
    "start_time": "2021-09-26T13:16:16.253Z"
   },
   {
    "duration": 25,
    "start_time": "2021-09-26T13:16:39.889Z"
   },
   {
    "duration": 4,
    "start_time": "2021-09-26T13:42:46.128Z"
   },
   {
    "duration": 5,
    "start_time": "2021-09-26T13:43:43.862Z"
   },
   {
    "duration": 4,
    "start_time": "2021-09-26T13:47:40.925Z"
   },
   {
    "duration": 75,
    "start_time": "2021-09-26T13:47:44.659Z"
   },
   {
    "duration": 22,
    "start_time": "2021-09-26T13:47:50.563Z"
   },
   {
    "duration": 4,
    "start_time": "2021-09-26T13:47:53.145Z"
   },
   {
    "duration": 23,
    "start_time": "2021-09-26T13:50:22.453Z"
   },
   {
    "duration": 17,
    "start_time": "2021-09-26T14:55:17.230Z"
   },
   {
    "duration": 24,
    "start_time": "2021-09-26T14:55:27.044Z"
   },
   {
    "duration": 58,
    "start_time": "2021-09-26T14:56:47.232Z"
   },
   {
    "duration": 57,
    "start_time": "2021-09-26T14:57:00.410Z"
   },
   {
    "duration": 124,
    "start_time": "2021-09-26T14:57:33.244Z"
   },
   {
    "duration": 54,
    "start_time": "2021-09-26T14:58:16.760Z"
   },
   {
    "duration": 73,
    "start_time": "2021-09-26T14:59:37.932Z"
   },
   {
    "duration": 55,
    "start_time": "2021-09-26T14:59:45.911Z"
   },
   {
    "duration": 7,
    "start_time": "2021-09-26T15:02:07.233Z"
   },
   {
    "duration": 256,
    "start_time": "2021-09-26T15:03:42.359Z"
   },
   {
    "duration": 6,
    "start_time": "2021-09-26T15:04:13.642Z"
   },
   {
    "duration": 259,
    "start_time": "2021-09-26T15:04:25.601Z"
   },
   {
    "duration": 218,
    "start_time": "2021-09-26T15:06:04.447Z"
   },
   {
    "duration": 226,
    "start_time": "2021-09-26T15:06:44.575Z"
   },
   {
    "duration": 7,
    "start_time": "2021-09-26T15:10:19.869Z"
   },
   {
    "duration": 234,
    "start_time": "2021-09-26T15:10:27.005Z"
   },
   {
    "duration": 7,
    "start_time": "2021-09-26T15:10:42.485Z"
   },
   {
    "duration": 7,
    "start_time": "2021-09-26T15:10:48.211Z"
   },
   {
    "duration": 232,
    "start_time": "2021-09-26T15:12:42.922Z"
   },
   {
    "duration": 381,
    "start_time": "2021-09-26T15:13:49.470Z"
   },
   {
    "duration": 272,
    "start_time": "2021-09-26T15:14:01.583Z"
   },
   {
    "duration": 6,
    "start_time": "2021-09-26T15:17:41.517Z"
   },
   {
    "duration": 8,
    "start_time": "2021-09-26T15:18:29.862Z"
   },
   {
    "duration": 8,
    "start_time": "2021-09-26T15:20:13.114Z"
   },
   {
    "duration": 254,
    "start_time": "2021-09-26T15:22:17.229Z"
   },
   {
    "duration": 37,
    "start_time": "2021-09-26T15:23:06.559Z"
   },
   {
    "duration": 38,
    "start_time": "2021-09-26T15:23:44.757Z"
   },
   {
    "duration": 42,
    "start_time": "2021-09-26T15:24:58.542Z"
   },
   {
    "duration": 223,
    "start_time": "2021-09-26T15:52:10.106Z"
   },
   {
    "duration": 3,
    "start_time": "2021-09-26T15:52:14.540Z"
   },
   {
    "duration": 11,
    "start_time": "2021-09-26T15:52:17.100Z"
   },
   {
    "duration": 5,
    "start_time": "2021-09-26T15:52:37.130Z"
   },
   {
    "duration": 39,
    "start_time": "2021-09-26T15:53:06.131Z"
   },
   {
    "duration": 11,
    "start_time": "2021-09-26T15:57:58.311Z"
   },
   {
    "duration": 6972,
    "start_time": "2021-09-26T16:03:04.512Z"
   },
   {
    "duration": 1178,
    "start_time": "2021-09-26T16:03:23.458Z"
   },
   {
    "duration": 824,
    "start_time": "2021-09-26T16:03:39.986Z"
   },
   {
    "duration": 1185,
    "start_time": "2021-09-26T16:03:45.882Z"
   },
   {
    "duration": 7170,
    "start_time": "2021-09-26T16:03:53.030Z"
   },
   {
    "duration": 1180,
    "start_time": "2021-09-26T16:04:07.304Z"
   },
   {
    "duration": 844,
    "start_time": "2021-09-26T16:04:25.474Z"
   },
   {
    "duration": 239,
    "start_time": "2021-09-26T16:04:38.396Z"
   },
   {
    "duration": 232,
    "start_time": "2021-09-26T16:04:42.249Z"
   },
   {
    "duration": 1218,
    "start_time": "2021-09-26T16:04:48.045Z"
   },
   {
    "duration": 1323,
    "start_time": "2021-09-26T16:05:16.591Z"
   },
   {
    "duration": 51,
    "start_time": "2021-09-26T16:05:38.995Z"
   },
   {
    "duration": 35,
    "start_time": "2021-09-26T16:05:48.934Z"
   },
   {
    "duration": 25,
    "start_time": "2021-09-26T16:06:14.685Z"
   },
   {
    "duration": 26,
    "start_time": "2021-09-26T16:07:27.941Z"
   },
   {
    "duration": 72,
    "start_time": "2021-09-26T16:08:11.781Z"
   },
   {
    "duration": 28,
    "start_time": "2021-09-26T16:08:16.486Z"
   },
   {
    "duration": 29,
    "start_time": "2021-09-26T16:09:01.940Z"
   },
   {
    "duration": 25,
    "start_time": "2021-09-26T16:09:08.630Z"
   },
   {
    "duration": 240,
    "start_time": "2021-09-26T16:10:24.931Z"
   },
   {
    "duration": 130,
    "start_time": "2021-09-26T16:10:30.633Z"
   },
   {
    "duration": 97,
    "start_time": "2021-09-26T16:12:30.626Z"
   },
   {
    "duration": 24,
    "start_time": "2021-09-26T16:12:35.582Z"
   },
   {
    "duration": 24,
    "start_time": "2021-09-26T16:12:57.196Z"
   },
   {
    "duration": 24,
    "start_time": "2021-09-26T16:13:12.124Z"
   },
   {
    "duration": 11,
    "start_time": "2021-09-26T16:14:42.740Z"
   },
   {
    "duration": 25,
    "start_time": "2021-09-26T16:19:51.334Z"
   },
   {
    "duration": 23,
    "start_time": "2021-09-26T16:20:06.925Z"
   },
   {
    "duration": 40,
    "start_time": "2021-09-26T16:20:58.812Z"
   },
   {
    "duration": 39,
    "start_time": "2021-09-26T16:21:25.693Z"
   },
   {
    "duration": 39,
    "start_time": "2021-09-26T16:21:34.811Z"
   },
   {
    "duration": 30,
    "start_time": "2021-09-26T16:21:47.609Z"
   },
   {
    "duration": 3,
    "start_time": "2021-09-26T16:27:45.993Z"
   },
   {
    "duration": 220,
    "start_time": "2021-09-26T16:28:06.842Z"
   },
   {
    "duration": 640,
    "start_time": "2021-09-26T16:28:51.565Z"
   },
   {
    "duration": 392,
    "start_time": "2021-09-26T16:29:02.783Z"
   },
   {
    "duration": 396,
    "start_time": "2021-09-26T16:29:17.742Z"
   },
   {
    "duration": 221,
    "start_time": "2021-09-26T16:29:39.098Z"
   },
   {
    "duration": 20,
    "start_time": "2021-09-26T16:29:57.444Z"
   },
   {
    "duration": 24,
    "start_time": "2021-09-26T16:30:32.570Z"
   },
   {
    "duration": 26,
    "start_time": "2021-09-26T16:30:47.880Z"
   },
   {
    "duration": 33,
    "start_time": "2021-09-26T16:31:11.442Z"
   },
   {
    "duration": 36,
    "start_time": "2021-09-26T16:33:12.574Z"
   },
   {
    "duration": 3,
    "start_time": "2021-09-26T16:34:32.396Z"
   },
   {
    "duration": 16,
    "start_time": "2021-09-26T16:36:42.529Z"
   },
   {
    "duration": 18,
    "start_time": "2021-09-26T16:37:11.074Z"
   },
   {
    "duration": 16,
    "start_time": "2021-09-26T16:37:14.806Z"
   },
   {
    "duration": 3,
    "start_time": "2021-09-26T16:37:15.376Z"
   },
   {
    "duration": 28,
    "start_time": "2021-09-26T16:37:33.578Z"
   },
   {
    "duration": 17,
    "start_time": "2021-09-26T16:38:41.634Z"
   },
   {
    "duration": 17,
    "start_time": "2021-09-26T16:39:28.936Z"
   },
   {
    "duration": 14,
    "start_time": "2021-09-26T16:40:07.865Z"
   },
   {
    "duration": 16,
    "start_time": "2021-09-26T16:40:43.718Z"
   },
   {
    "duration": 3,
    "start_time": "2021-09-26T16:40:57.617Z"
   },
   {
    "duration": 16,
    "start_time": "2021-09-26T16:41:03.450Z"
   },
   {
    "duration": 14,
    "start_time": "2021-09-26T16:41:05.756Z"
   },
   {
    "duration": 16,
    "start_time": "2021-09-26T16:41:56.435Z"
   },
   {
    "duration": 22,
    "start_time": "2021-09-26T16:42:11.279Z"
   },
   {
    "duration": 16,
    "start_time": "2021-09-26T16:42:50.667Z"
   },
   {
    "duration": 15,
    "start_time": "2021-09-26T16:43:00.101Z"
   },
   {
    "duration": 16,
    "start_time": "2021-09-26T16:44:44.339Z"
   },
   {
    "duration": 14,
    "start_time": "2021-09-26T16:44:45.937Z"
   },
   {
    "duration": 226,
    "start_time": "2021-09-26T16:52:20.296Z"
   },
   {
    "duration": 3,
    "start_time": "2021-09-26T16:52:42.435Z"
   },
   {
    "duration": 5,
    "start_time": "2021-09-26T16:52:56.172Z"
   },
   {
    "duration": 4,
    "start_time": "2021-09-26T16:59:11.584Z"
   },
   {
    "duration": 222,
    "start_time": "2021-09-26T17:00:34.575Z"
   },
   {
    "duration": 224,
    "start_time": "2021-09-26T17:01:34.440Z"
   },
   {
    "duration": 1272,
    "start_time": "2021-09-26T17:01:52.966Z"
   },
   {
    "duration": 204,
    "start_time": "2021-09-26T17:01:54.241Z"
   },
   {
    "duration": 17,
    "start_time": "2021-09-26T17:01:54.449Z"
   },
   {
    "duration": 32,
    "start_time": "2021-09-26T17:01:54.468Z"
   },
   {
    "duration": 4,
    "start_time": "2021-09-26T17:01:54.502Z"
   },
   {
    "duration": 42,
    "start_time": "2021-09-26T17:01:54.507Z"
   },
   {
    "duration": 4,
    "start_time": "2021-09-26T17:01:54.551Z"
   },
   {
    "duration": 26,
    "start_time": "2021-09-26T17:01:54.558Z"
   },
   {
    "duration": 17,
    "start_time": "2021-09-26T17:01:54.586Z"
   },
   {
    "duration": 46,
    "start_time": "2021-09-26T17:01:54.605Z"
   },
   {
    "duration": 64,
    "start_time": "2021-09-26T17:01:54.652Z"
   },
   {
    "duration": 83,
    "start_time": "2021-09-26T17:01:54.718Z"
   },
   {
    "duration": 59,
    "start_time": "2021-09-26T17:01:54.803Z"
   },
   {
    "duration": 41,
    "start_time": "2021-09-26T17:01:54.864Z"
   },
   {
    "duration": 4,
    "start_time": "2021-09-26T17:01:54.907Z"
   },
   {
    "duration": 10,
    "start_time": "2021-09-26T17:01:54.913Z"
   },
   {
    "duration": 61,
    "start_time": "2021-09-26T17:01:54.925Z"
   },
   {
    "duration": 24,
    "start_time": "2021-09-26T17:01:54.987Z"
   },
   {
    "duration": 50,
    "start_time": "2021-09-26T17:01:55.012Z"
   },
   {
    "duration": 4,
    "start_time": "2021-09-26T17:01:55.064Z"
   },
   {
    "duration": 24,
    "start_time": "2021-09-26T17:01:55.069Z"
   },
   {
    "duration": 13,
    "start_time": "2021-09-26T17:01:55.095Z"
   },
   {
    "duration": 15,
    "start_time": "2021-09-26T17:01:55.110Z"
   },
   {
    "duration": 31,
    "start_time": "2021-09-26T17:01:55.127Z"
   },
   {
    "duration": 17,
    "start_time": "2021-09-26T17:01:55.160Z"
   },
   {
    "duration": 14,
    "start_time": "2021-09-26T17:01:55.180Z"
   },
   {
    "duration": 314,
    "start_time": "2021-09-26T17:01:55.196Z"
   },
   {
    "duration": -5677,
    "start_time": "2021-09-26T17:02:01.188Z"
   },
   {
    "duration": -5677,
    "start_time": "2021-09-26T17:02:01.189Z"
   },
   {
    "duration": -5677,
    "start_time": "2021-09-26T17:02:01.190Z"
   },
   {
    "duration": -5678,
    "start_time": "2021-09-26T17:02:01.192Z"
   },
   {
    "duration": -5677,
    "start_time": "2021-09-26T17:02:01.193Z"
   },
   {
    "duration": -5682,
    "start_time": "2021-09-26T17:02:01.199Z"
   },
   {
    "duration": -5682,
    "start_time": "2021-09-26T17:02:01.200Z"
   },
   {
    "duration": -5683,
    "start_time": "2021-09-26T17:02:01.202Z"
   },
   {
    "duration": -5683,
    "start_time": "2021-09-26T17:02:01.203Z"
   },
   {
    "duration": -5683,
    "start_time": "2021-09-26T17:02:01.204Z"
   },
   {
    "duration": -5684,
    "start_time": "2021-09-26T17:02:01.205Z"
   },
   {
    "duration": 234,
    "start_time": "2021-09-26T17:02:04.616Z"
   },
   {
    "duration": 3,
    "start_time": "2021-09-26T17:02:23.203Z"
   },
   {
    "duration": 134,
    "start_time": "2021-09-26T17:02:25.373Z"
   },
   {
    "duration": 10,
    "start_time": "2021-09-26T17:02:26.755Z"
   },
   {
    "duration": 24,
    "start_time": "2021-09-26T17:02:28.377Z"
   },
   {
    "duration": 4,
    "start_time": "2021-09-26T17:02:33.157Z"
   },
   {
    "duration": 16,
    "start_time": "2021-09-26T17:02:34.857Z"
   },
   {
    "duration": 4,
    "start_time": "2021-09-26T17:02:35.686Z"
   },
   {
    "duration": 22,
    "start_time": "2021-09-26T17:02:36.773Z"
   },
   {
    "duration": 18,
    "start_time": "2021-09-26T17:02:38.233Z"
   },
   {
    "duration": 23,
    "start_time": "2021-09-26T17:02:39.837Z"
   },
   {
    "duration": 53,
    "start_time": "2021-09-26T17:02:41.257Z"
   },
   {
    "duration": 74,
    "start_time": "2021-09-26T17:02:44.463Z"
   },
   {
    "duration": 82,
    "start_time": "2021-09-26T17:02:45.341Z"
   },
   {
    "duration": 39,
    "start_time": "2021-09-26T17:02:49.675Z"
   },
   {
    "duration": 3,
    "start_time": "2021-09-26T17:02:51.402Z"
   },
   {
    "duration": 10,
    "start_time": "2021-09-26T17:02:52.504Z"
   },
   {
    "duration": 39,
    "start_time": "2021-09-26T17:02:53.587Z"
   },
   {
    "duration": 25,
    "start_time": "2021-09-26T17:02:57.532Z"
   },
   {
    "duration": 36,
    "start_time": "2021-09-26T17:03:00.964Z"
   },
   {
    "duration": 4,
    "start_time": "2021-09-26T17:03:03.469Z"
   },
   {
    "duration": 17,
    "start_time": "2021-09-26T17:03:08.468Z"
   },
   {
    "duration": 14,
    "start_time": "2021-09-26T17:03:09.069Z"
   },
   {
    "duration": 15,
    "start_time": "2021-09-26T17:03:09.668Z"
   },
   {
    "duration": 14,
    "start_time": "2021-09-26T17:03:10.245Z"
   },
   {
    "duration": 17,
    "start_time": "2021-09-26T17:03:17.850Z"
   },
   {
    "duration": 14,
    "start_time": "2021-09-26T17:03:18.569Z"
   },
   {
    "duration": 239,
    "start_time": "2021-09-26T17:03:25.915Z"
   },
   {
    "duration": 227,
    "start_time": "2021-09-26T17:03:38.936Z"
   },
   {
    "duration": 12,
    "start_time": "2021-09-26T17:03:44.208Z"
   },
   {
    "duration": 8,
    "start_time": "2021-09-26T17:05:18.111Z"
   },
   {
    "duration": 9,
    "start_time": "2021-09-26T17:06:31.289Z"
   },
   {
    "duration": 8,
    "start_time": "2021-09-26T17:06:52.530Z"
   },
   {
    "duration": 9,
    "start_time": "2021-09-26T17:07:10.604Z"
   },
   {
    "duration": 8,
    "start_time": "2021-09-26T17:07:16.049Z"
   },
   {
    "duration": 12,
    "start_time": "2021-09-26T17:10:21.075Z"
   },
   {
    "duration": 9,
    "start_time": "2021-09-26T17:10:22.631Z"
   },
   {
    "duration": 23,
    "start_time": "2021-09-26T17:10:35.075Z"
   },
   {
    "duration": 12,
    "start_time": "2021-09-26T17:10:41.090Z"
   },
   {
    "duration": 11,
    "start_time": "2021-09-26T17:10:43.065Z"
   },
   {
    "duration": 93,
    "start_time": "2021-09-26T17:18:17.082Z"
   },
   {
    "duration": 69,
    "start_time": "2021-09-26T17:18:24.269Z"
   },
   {
    "duration": 13,
    "start_time": "2021-09-26T17:18:31.451Z"
   },
   {
    "duration": 4,
    "start_time": "2021-09-26T17:31:28.424Z"
   },
   {
    "duration": 19,
    "start_time": "2021-09-26T17:33:28.820Z"
   },
   {
    "duration": 13,
    "start_time": "2021-09-26T17:34:34.112Z"
   },
   {
    "duration": 17,
    "start_time": "2021-09-26T17:35:47.653Z"
   },
   {
    "duration": 13,
    "start_time": "2021-09-26T17:35:49.876Z"
   },
   {
    "duration": 3,
    "start_time": "2021-09-26T17:57:30.647Z"
   },
   {
    "duration": 234,
    "start_time": "2021-09-26T17:59:41.888Z"
   },
   {
    "duration": 11,
    "start_time": "2021-09-26T17:59:49.642Z"
   },
   {
    "duration": 11,
    "start_time": "2021-09-26T17:59:50.688Z"
   },
   {
    "duration": 228,
    "start_time": "2021-09-26T17:59:58.579Z"
   },
   {
    "duration": 258,
    "start_time": "2021-09-26T18:00:40.540Z"
   },
   {
    "duration": 259,
    "start_time": "2021-09-26T18:02:16.985Z"
   },
   {
    "duration": 4,
    "start_time": "2021-09-26T18:02:24.123Z"
   },
   {
    "duration": 239,
    "start_time": "2021-09-26T18:03:16.786Z"
   },
   {
    "duration": 13,
    "start_time": "2021-09-26T18:04:11.668Z"
   },
   {
    "duration": 230,
    "start_time": "2021-09-26T18:04:23.255Z"
   },
   {
    "duration": 11,
    "start_time": "2021-09-26T18:04:40.188Z"
   },
   {
    "duration": 13,
    "start_time": "2021-09-26T18:04:44.074Z"
   },
   {
    "duration": 549,
    "start_time": "2021-09-26T18:05:36.567Z"
   },
   {
    "duration": 152,
    "start_time": "2021-09-26T18:05:37.118Z"
   },
   {
    "duration": 18,
    "start_time": "2021-09-26T18:05:37.272Z"
   },
   {
    "duration": 23,
    "start_time": "2021-09-26T18:05:37.523Z"
   },
   {
    "duration": 4,
    "start_time": "2021-09-26T18:05:37.548Z"
   },
   {
    "duration": 26,
    "start_time": "2021-09-26T18:05:37.554Z"
   },
   {
    "duration": 4,
    "start_time": "2021-09-26T18:05:38.468Z"
   },
   {
    "duration": 27,
    "start_time": "2021-09-26T18:05:38.474Z"
   },
   {
    "duration": 17,
    "start_time": "2021-09-26T18:05:38.503Z"
   },
   {
    "duration": 28,
    "start_time": "2021-09-26T18:05:38.522Z"
   },
   {
    "duration": 59,
    "start_time": "2021-09-26T18:05:38.551Z"
   },
   {
    "duration": 83,
    "start_time": "2021-09-26T18:05:38.612Z"
   },
   {
    "duration": 60,
    "start_time": "2021-09-26T18:05:38.697Z"
   },
   {
    "duration": 38,
    "start_time": "2021-09-26T18:05:38.758Z"
   },
   {
    "duration": 3,
    "start_time": "2021-09-26T18:05:38.799Z"
   },
   {
    "duration": 12,
    "start_time": "2021-09-26T18:05:38.804Z"
   },
   {
    "duration": 53,
    "start_time": "2021-09-26T18:05:38.818Z"
   },
   {
    "duration": 23,
    "start_time": "2021-09-26T18:05:38.873Z"
   },
   {
    "duration": 51,
    "start_time": "2021-09-26T18:05:38.898Z"
   },
   {
    "duration": 3,
    "start_time": "2021-09-26T18:05:38.951Z"
   },
   {
    "duration": 22,
    "start_time": "2021-09-26T18:05:38.956Z"
   },
   {
    "duration": 14,
    "start_time": "2021-09-26T18:05:38.979Z"
   },
   {
    "duration": 18,
    "start_time": "2021-09-26T18:05:38.995Z"
   },
   {
    "duration": 14,
    "start_time": "2021-09-26T18:05:39.015Z"
   },
   {
    "duration": 18,
    "start_time": "2021-09-26T18:05:39.050Z"
   },
   {
    "duration": 14,
    "start_time": "2021-09-26T18:05:39.069Z"
   },
   {
    "duration": 8,
    "start_time": "2021-09-26T18:05:39.085Z"
   },
   {
    "duration": 14,
    "start_time": "2021-09-26T18:05:39.094Z"
   },
   {
    "duration": 10,
    "start_time": "2021-09-26T18:05:39.110Z"
   },
   {
    "duration": 4,
    "start_time": "2021-09-26T18:05:39.150Z"
   },
   {
    "duration": 27,
    "start_time": "2021-09-26T18:05:39.155Z"
   },
   {
    "duration": 12,
    "start_time": "2021-09-26T18:05:39.184Z"
   },
   {
    "duration": 18,
    "start_time": "2021-09-26T18:05:39.199Z"
   },
   {
    "duration": 31,
    "start_time": "2021-09-26T18:05:39.219Z"
   },
   {
    "duration": 10,
    "start_time": "2021-09-26T18:05:39.251Z"
   },
   {
    "duration": 4,
    "start_time": "2021-09-26T18:05:39.263Z"
   },
   {
    "duration": 12,
    "start_time": "2021-09-26T18:05:39.269Z"
   },
   {
    "duration": 3,
    "start_time": "2021-09-26T18:05:40.623Z"
   },
   {
    "duration": 8,
    "start_time": "2021-09-26T18:07:46.357Z"
   },
   {
    "duration": 5,
    "start_time": "2021-09-26T18:07:48.105Z"
   },
   {
    "duration": 571,
    "start_time": "2021-09-26T18:09:19.458Z"
   },
   {
    "duration": 148,
    "start_time": "2021-09-26T18:09:20.030Z"
   },
   {
    "duration": 16,
    "start_time": "2021-09-26T18:09:20.181Z"
   },
   {
    "duration": 25,
    "start_time": "2021-09-26T18:09:20.199Z"
   },
   {
    "duration": 25,
    "start_time": "2021-09-26T18:09:20.225Z"
   },
   {
    "duration": 21,
    "start_time": "2021-09-26T18:09:20.252Z"
   },
   {
    "duration": 9,
    "start_time": "2021-09-26T18:09:20.276Z"
   },
   {
    "duration": 29,
    "start_time": "2021-09-26T18:09:20.286Z"
   },
   {
    "duration": 42,
    "start_time": "2021-09-26T18:09:20.319Z"
   },
   {
    "duration": 27,
    "start_time": "2021-09-26T18:09:20.363Z"
   },
   {
    "duration": 81,
    "start_time": "2021-09-26T18:09:20.392Z"
   },
   {
    "duration": 81,
    "start_time": "2021-09-26T18:09:20.475Z"
   },
   {
    "duration": 50,
    "start_time": "2021-09-26T18:09:20.558Z"
   },
   {
    "duration": 47,
    "start_time": "2021-09-26T18:09:20.610Z"
   },
   {
    "duration": 3,
    "start_time": "2021-09-26T18:09:20.658Z"
   },
   {
    "duration": 12,
    "start_time": "2021-09-26T18:09:20.662Z"
   },
   {
    "duration": 42,
    "start_time": "2021-09-26T18:09:20.676Z"
   },
   {
    "duration": 45,
    "start_time": "2021-09-26T18:09:20.719Z"
   },
   {
    "duration": 30,
    "start_time": "2021-09-26T18:09:20.766Z"
   },
   {
    "duration": 3,
    "start_time": "2021-09-26T18:09:20.797Z"
   },
   {
    "duration": 25,
    "start_time": "2021-09-26T18:09:20.802Z"
   },
   {
    "duration": 14,
    "start_time": "2021-09-26T18:09:20.848Z"
   },
   {
    "duration": 14,
    "start_time": "2021-09-26T18:09:20.863Z"
   },
   {
    "duration": 13,
    "start_time": "2021-09-26T18:09:20.879Z"
   },
   {
    "duration": 16,
    "start_time": "2021-09-26T18:09:20.894Z"
   },
   {
    "duration": 40,
    "start_time": "2021-09-26T18:09:20.911Z"
   },
   {
    "duration": 9,
    "start_time": "2021-09-26T18:09:20.954Z"
   },
   {
    "duration": 15,
    "start_time": "2021-09-26T18:09:20.964Z"
   },
   {
    "duration": 8,
    "start_time": "2021-09-26T18:09:20.981Z"
   },
   {
    "duration": 3,
    "start_time": "2021-09-26T18:09:20.991Z"
   },
   {
    "duration": 26,
    "start_time": "2021-09-26T18:09:20.996Z"
   },
   {
    "duration": 33,
    "start_time": "2021-09-26T18:09:21.024Z"
   },
   {
    "duration": 17,
    "start_time": "2021-09-26T18:09:21.058Z"
   },
   {
    "duration": 12,
    "start_time": "2021-09-26T18:09:21.077Z"
   },
   {
    "duration": 13,
    "start_time": "2021-09-26T18:09:21.091Z"
   },
   {
    "duration": 6,
    "start_time": "2021-09-26T18:09:21.106Z"
   },
   {
    "duration": 15,
    "start_time": "2021-09-26T18:09:21.113Z"
   },
   {
    "duration": 5,
    "start_time": "2021-09-26T18:09:21.150Z"
   },
   {
    "duration": 632,
    "start_time": "2021-09-26T18:11:04.947Z"
   },
   {
    "duration": 164,
    "start_time": "2021-09-26T18:11:05.581Z"
   },
   {
    "duration": 18,
    "start_time": "2021-09-26T18:11:05.748Z"
   },
   {
    "duration": 30,
    "start_time": "2021-09-26T18:11:05.767Z"
   },
   {
    "duration": 4,
    "start_time": "2021-09-26T18:11:05.800Z"
   },
   {
    "duration": 43,
    "start_time": "2021-09-26T18:11:05.806Z"
   },
   {
    "duration": 4,
    "start_time": "2021-09-26T18:11:05.851Z"
   },
   {
    "duration": 30,
    "start_time": "2021-09-26T18:11:05.857Z"
   },
   {
    "duration": 23,
    "start_time": "2021-09-26T18:11:05.890Z"
   },
   {
    "duration": 38,
    "start_time": "2021-09-26T18:11:05.916Z"
   },
   {
    "duration": 62,
    "start_time": "2021-09-26T18:11:05.956Z"
   },
   {
    "duration": 103,
    "start_time": "2021-09-26T18:11:06.020Z"
   },
   {
    "duration": 72,
    "start_time": "2021-09-26T18:11:06.125Z"
   },
   {
    "duration": 52,
    "start_time": "2021-09-26T18:11:06.198Z"
   },
   {
    "duration": 3,
    "start_time": "2021-09-26T18:11:06.252Z"
   },
   {
    "duration": 14,
    "start_time": "2021-09-26T18:11:06.257Z"
   },
   {
    "duration": 43,
    "start_time": "2021-09-26T18:11:06.273Z"
   },
   {
    "duration": 49,
    "start_time": "2021-09-26T18:11:06.318Z"
   },
   {
    "duration": 34,
    "start_time": "2021-09-26T18:11:06.370Z"
   },
   {
    "duration": 4,
    "start_time": "2021-09-26T18:11:06.406Z"
   },
   {
    "duration": 42,
    "start_time": "2021-09-26T18:11:06.412Z"
   },
   {
    "duration": 14,
    "start_time": "2021-09-26T18:11:06.455Z"
   },
   {
    "duration": 17,
    "start_time": "2021-09-26T18:11:06.471Z"
   },
   {
    "duration": 14,
    "start_time": "2021-09-26T18:11:06.490Z"
   },
   {
    "duration": 48,
    "start_time": "2021-09-26T18:11:06.506Z"
   },
   {
    "duration": 15,
    "start_time": "2021-09-26T18:11:06.556Z"
   },
   {
    "duration": 15,
    "start_time": "2021-09-26T18:11:06.574Z"
   },
   {
    "duration": 20,
    "start_time": "2021-09-26T18:11:06.591Z"
   },
   {
    "duration": 26,
    "start_time": "2021-09-26T18:11:06.613Z"
   },
   {
    "duration": 10,
    "start_time": "2021-09-26T18:11:06.640Z"
   },
   {
    "duration": 30,
    "start_time": "2021-09-26T18:11:06.651Z"
   },
   {
    "duration": 18,
    "start_time": "2021-09-26T18:11:06.683Z"
   },
   {
    "duration": 32,
    "start_time": "2021-09-26T18:11:06.702Z"
   },
   {
    "duration": 13,
    "start_time": "2021-09-26T18:11:06.736Z"
   },
   {
    "duration": 22,
    "start_time": "2021-09-26T18:11:06.751Z"
   },
   {
    "duration": 14,
    "start_time": "2021-09-26T18:11:06.776Z"
   },
   {
    "duration": 18,
    "start_time": "2021-09-26T18:11:06.792Z"
   },
   {
    "duration": 7,
    "start_time": "2021-09-26T18:11:06.812Z"
   },
   {
    "duration": 595,
    "start_time": "2021-09-27T14:33:54.852Z"
   },
   {
    "duration": 131,
    "start_time": "2021-09-27T14:33:55.449Z"
   },
   {
    "duration": 16,
    "start_time": "2021-09-27T14:33:55.585Z"
   },
   {
    "duration": 43,
    "start_time": "2021-09-27T14:33:55.603Z"
   },
   {
    "duration": 4,
    "start_time": "2021-09-27T14:33:55.648Z"
   },
   {
    "duration": 21,
    "start_time": "2021-09-27T14:33:55.653Z"
   },
   {
    "duration": 3,
    "start_time": "2021-09-27T14:33:55.677Z"
   },
   {
    "duration": 25,
    "start_time": "2021-09-27T14:33:55.682Z"
   },
   {
    "duration": 44,
    "start_time": "2021-09-27T14:33:55.709Z"
   },
   {
    "duration": 30,
    "start_time": "2021-09-27T14:33:55.755Z"
   },
   {
    "duration": 58,
    "start_time": "2021-09-27T14:33:55.787Z"
   },
   {
    "duration": 65,
    "start_time": "2021-09-27T14:33:55.847Z"
   },
   {
    "duration": 66,
    "start_time": "2021-09-27T14:33:55.914Z"
   },
   {
    "duration": 41,
    "start_time": "2021-09-27T14:33:55.982Z"
   },
   {
    "duration": 19,
    "start_time": "2021-09-27T14:33:56.025Z"
   },
   {
    "duration": 14,
    "start_time": "2021-09-27T14:33:56.046Z"
   },
   {
    "duration": 44,
    "start_time": "2021-09-27T14:33:56.062Z"
   },
   {
    "duration": 38,
    "start_time": "2021-09-27T14:33:56.108Z"
   },
   {
    "duration": 31,
    "start_time": "2021-09-27T14:33:56.148Z"
   },
   {
    "duration": 4,
    "start_time": "2021-09-27T14:33:56.181Z"
   },
   {
    "duration": 22,
    "start_time": "2021-09-27T14:33:56.187Z"
   },
   {
    "duration": 34,
    "start_time": "2021-09-27T14:33:56.214Z"
   },
   {
    "duration": 16,
    "start_time": "2021-09-27T14:33:56.251Z"
   },
   {
    "duration": 15,
    "start_time": "2021-09-27T14:33:56.269Z"
   },
   {
    "duration": 14,
    "start_time": "2021-09-27T14:33:56.286Z"
   },
   {
    "duration": 45,
    "start_time": "2021-09-27T14:33:56.302Z"
   },
   {
    "duration": 8,
    "start_time": "2021-09-27T14:33:56.348Z"
   },
   {
    "duration": 12,
    "start_time": "2021-09-27T14:33:56.357Z"
   },
   {
    "duration": 15,
    "start_time": "2021-09-27T14:33:56.370Z"
   },
   {
    "duration": 4,
    "start_time": "2021-09-27T14:33:56.387Z"
   },
   {
    "duration": 25,
    "start_time": "2021-09-27T14:33:56.393Z"
   },
   {
    "duration": 33,
    "start_time": "2021-09-27T14:33:56.419Z"
   },
   {
    "duration": 20,
    "start_time": "2021-09-27T14:33:56.454Z"
   },
   {
    "duration": 13,
    "start_time": "2021-09-27T14:33:56.475Z"
   },
   {
    "duration": 7,
    "start_time": "2021-09-27T14:33:56.490Z"
   },
   {
    "duration": 4,
    "start_time": "2021-09-27T14:33:56.499Z"
   },
   {
    "duration": 40,
    "start_time": "2021-09-27T14:33:56.504Z"
   },
   {
    "duration": 4,
    "start_time": "2021-09-27T14:33:56.546Z"
   },
   {
    "duration": 560,
    "start_time": "2021-09-27T15:07:15.305Z"
   },
   {
    "duration": 133,
    "start_time": "2021-09-27T15:07:15.867Z"
   },
   {
    "duration": 16,
    "start_time": "2021-09-27T15:07:16.002Z"
   },
   {
    "duration": 21,
    "start_time": "2021-09-27T15:07:16.019Z"
   },
   {
    "duration": 3,
    "start_time": "2021-09-27T15:07:16.042Z"
   },
   {
    "duration": 20,
    "start_time": "2021-09-27T15:07:16.046Z"
   },
   {
    "duration": 3,
    "start_time": "2021-09-27T15:07:16.068Z"
   },
   {
    "duration": 46,
    "start_time": "2021-09-27T15:07:16.073Z"
   },
   {
    "duration": 15,
    "start_time": "2021-09-27T15:07:16.122Z"
   },
   {
    "duration": 20,
    "start_time": "2021-09-27T15:07:16.139Z"
   },
   {
    "duration": 78,
    "start_time": "2021-09-27T15:07:16.161Z"
   },
   {
    "duration": 77,
    "start_time": "2021-09-27T15:07:16.241Z"
   },
   {
    "duration": 47,
    "start_time": "2021-09-27T15:07:16.320Z"
   },
   {
    "duration": 49,
    "start_time": "2021-09-27T15:07:16.369Z"
   },
   {
    "duration": 2,
    "start_time": "2021-09-27T15:07:16.420Z"
   },
   {
    "duration": 10,
    "start_time": "2021-09-27T15:07:16.424Z"
   },
   {
    "duration": 38,
    "start_time": "2021-09-27T15:07:16.436Z"
   },
   {
    "duration": 42,
    "start_time": "2021-09-27T15:07:16.476Z"
   },
   {
    "duration": 28,
    "start_time": "2021-09-27T15:07:16.519Z"
   },
   {
    "duration": 3,
    "start_time": "2021-09-27T15:07:16.548Z"
   },
   {
    "duration": 19,
    "start_time": "2021-09-27T15:07:16.553Z"
   },
   {
    "duration": 37,
    "start_time": "2021-09-27T15:07:16.574Z"
   },
   {
    "duration": 14,
    "start_time": "2021-09-27T15:07:16.612Z"
   },
   {
    "duration": 12,
    "start_time": "2021-09-27T15:07:16.628Z"
   },
   {
    "duration": 14,
    "start_time": "2021-09-27T15:07:16.642Z"
   },
   {
    "duration": 45,
    "start_time": "2021-09-27T15:07:16.658Z"
   },
   {
    "duration": 8,
    "start_time": "2021-09-27T15:07:16.706Z"
   },
   {
    "duration": 14,
    "start_time": "2021-09-27T15:07:16.715Z"
   },
   {
    "duration": 10,
    "start_time": "2021-09-27T15:07:16.731Z"
   },
   {
    "duration": 4,
    "start_time": "2021-09-27T15:07:16.743Z"
   },
   {
    "duration": 23,
    "start_time": "2021-09-27T15:07:16.748Z"
   },
   {
    "duration": 31,
    "start_time": "2021-09-27T15:07:16.773Z"
   },
   {
    "duration": 16,
    "start_time": "2021-09-27T15:07:16.805Z"
   },
   {
    "duration": 14,
    "start_time": "2021-09-27T15:07:16.822Z"
   },
   {
    "duration": 9,
    "start_time": "2021-09-27T15:07:16.837Z"
   },
   {
    "duration": 4,
    "start_time": "2021-09-27T15:07:16.847Z"
   },
   {
    "duration": 9,
    "start_time": "2021-09-27T15:07:16.853Z"
   },
   {
    "duration": 6,
    "start_time": "2021-09-27T15:07:16.864Z"
   },
   {
    "duration": 520,
    "start_time": "2021-09-27T15:08:50.136Z"
   },
   {
    "duration": 131,
    "start_time": "2021-09-27T15:08:50.658Z"
   },
   {
    "duration": 16,
    "start_time": "2021-09-27T15:08:50.800Z"
   },
   {
    "duration": 26,
    "start_time": "2021-09-27T15:08:50.818Z"
   },
   {
    "duration": 7,
    "start_time": "2021-09-27T15:08:50.846Z"
   },
   {
    "duration": 25,
    "start_time": "2021-09-27T15:08:50.855Z"
   },
   {
    "duration": 17,
    "start_time": "2021-09-27T15:08:50.882Z"
   },
   {
    "duration": 21,
    "start_time": "2021-09-27T15:08:50.901Z"
   },
   {
    "duration": 15,
    "start_time": "2021-09-27T15:08:50.924Z"
   },
   {
    "duration": 19,
    "start_time": "2021-09-27T15:08:50.941Z"
   },
   {
    "duration": 79,
    "start_time": "2021-09-27T15:08:50.961Z"
   },
   {
    "duration": 71,
    "start_time": "2021-09-27T15:08:51.042Z"
   },
   {
    "duration": 47,
    "start_time": "2021-09-27T15:08:51.114Z"
   },
   {
    "duration": 46,
    "start_time": "2021-09-27T15:08:51.163Z"
   },
   {
    "duration": 3,
    "start_time": "2021-09-27T15:08:51.210Z"
   },
   {
    "duration": 14,
    "start_time": "2021-09-27T15:08:51.215Z"
   },
   {
    "duration": 39,
    "start_time": "2021-09-27T15:08:51.230Z"
   },
   {
    "duration": 37,
    "start_time": "2021-09-27T15:08:51.270Z"
   },
   {
    "duration": 25,
    "start_time": "2021-09-27T15:08:51.308Z"
   },
   {
    "duration": 3,
    "start_time": "2021-09-27T15:08:51.335Z"
   },
   {
    "duration": 23,
    "start_time": "2021-09-27T15:08:51.339Z"
   },
   {
    "duration": 14,
    "start_time": "2021-09-27T15:08:51.365Z"
   },
   {
    "duration": 12,
    "start_time": "2021-09-27T15:08:51.399Z"
   },
   {
    "duration": 12,
    "start_time": "2021-09-27T15:08:51.413Z"
   },
   {
    "duration": 14,
    "start_time": "2021-09-27T15:08:51.427Z"
   },
   {
    "duration": 12,
    "start_time": "2021-09-27T15:08:51.442Z"
   },
   {
    "duration": 8,
    "start_time": "2021-09-27T15:08:51.455Z"
   },
   {
    "duration": 40,
    "start_time": "2021-09-27T15:08:51.464Z"
   },
   {
    "duration": 8,
    "start_time": "2021-09-27T15:08:51.505Z"
   },
   {
    "duration": 7,
    "start_time": "2021-09-27T15:08:51.515Z"
   },
   {
    "duration": 29,
    "start_time": "2021-09-27T15:08:51.524Z"
   },
   {
    "duration": 13,
    "start_time": "2021-09-27T15:08:51.554Z"
   },
   {
    "duration": 37,
    "start_time": "2021-09-27T15:08:51.568Z"
   },
   {
    "duration": 12,
    "start_time": "2021-09-27T15:08:51.607Z"
   },
   {
    "duration": 8,
    "start_time": "2021-09-27T15:08:51.620Z"
   },
   {
    "duration": 5,
    "start_time": "2021-09-27T15:08:51.630Z"
   },
   {
    "duration": 9,
    "start_time": "2021-09-27T15:08:51.637Z"
   },
   {
    "duration": 5,
    "start_time": "2021-09-27T15:08:51.648Z"
   },
   {
    "duration": 533,
    "start_time": "2021-09-27T15:09:56.941Z"
   },
   {
    "duration": 132,
    "start_time": "2021-09-27T15:09:57.476Z"
   },
   {
    "duration": 17,
    "start_time": "2021-09-27T15:09:57.610Z"
   },
   {
    "duration": 28,
    "start_time": "2021-09-27T15:09:57.630Z"
   },
   {
    "duration": 5,
    "start_time": "2021-09-27T15:09:57.660Z"
   },
   {
    "duration": 49,
    "start_time": "2021-09-27T15:09:57.667Z"
   },
   {
    "duration": 5,
    "start_time": "2021-09-27T15:09:57.717Z"
   },
   {
    "duration": 23,
    "start_time": "2021-09-27T15:09:57.725Z"
   },
   {
    "duration": 18,
    "start_time": "2021-09-27T15:09:57.751Z"
   },
   {
    "duration": 47,
    "start_time": "2021-09-27T15:09:57.771Z"
   },
   {
    "duration": 62,
    "start_time": "2021-09-27T15:09:57.820Z"
   },
   {
    "duration": 81,
    "start_time": "2021-09-27T15:09:57.883Z"
   },
   {
    "duration": 60,
    "start_time": "2021-09-27T15:09:57.966Z"
   },
   {
    "duration": 39,
    "start_time": "2021-09-27T15:09:58.027Z"
   },
   {
    "duration": 2,
    "start_time": "2021-09-27T15:09:58.068Z"
   },
   {
    "duration": 30,
    "start_time": "2021-09-27T15:09:58.072Z"
   },
   {
    "duration": 39,
    "start_time": "2021-09-27T15:09:58.104Z"
   },
   {
    "duration": 21,
    "start_time": "2021-09-27T15:09:58.145Z"
   },
   {
    "duration": 47,
    "start_time": "2021-09-27T15:09:58.168Z"
   },
   {
    "duration": 4,
    "start_time": "2021-09-27T15:09:58.216Z"
   },
   {
    "duration": 18,
    "start_time": "2021-09-27T15:09:58.221Z"
   },
   {
    "duration": 12,
    "start_time": "2021-09-27T15:09:58.241Z"
   },
   {
    "duration": 13,
    "start_time": "2021-09-27T15:09:58.255Z"
   },
   {
    "duration": 37,
    "start_time": "2021-09-27T15:09:58.269Z"
   },
   {
    "duration": 14,
    "start_time": "2021-09-27T15:09:58.308Z"
   },
   {
    "duration": 13,
    "start_time": "2021-09-27T15:09:58.324Z"
   },
   {
    "duration": 8,
    "start_time": "2021-09-27T15:09:58.339Z"
   },
   {
    "duration": 12,
    "start_time": "2021-09-27T15:09:58.349Z"
   },
   {
    "duration": 42,
    "start_time": "2021-09-27T15:09:58.363Z"
   },
   {
    "duration": 4,
    "start_time": "2021-09-27T15:09:58.407Z"
   },
   {
    "duration": 19,
    "start_time": "2021-09-27T15:09:58.413Z"
   },
   {
    "duration": 13,
    "start_time": "2021-09-27T15:09:58.434Z"
   },
   {
    "duration": 17,
    "start_time": "2021-09-27T15:09:58.449Z"
   },
   {
    "duration": 14,
    "start_time": "2021-09-27T15:09:58.500Z"
   },
   {
    "duration": 8,
    "start_time": "2021-09-27T15:09:58.516Z"
   },
   {
    "duration": 5,
    "start_time": "2021-09-27T15:09:58.526Z"
   },
   {
    "duration": 7,
    "start_time": "2021-09-27T15:09:58.533Z"
   },
   {
    "duration": 6,
    "start_time": "2021-09-27T15:09:58.541Z"
   },
   {
    "duration": 501,
    "start_time": "2021-09-27T15:11:39.061Z"
   },
   {
    "duration": 127,
    "start_time": "2021-09-27T15:11:39.564Z"
   },
   {
    "duration": 15,
    "start_time": "2021-09-27T15:11:39.693Z"
   },
   {
    "duration": 25,
    "start_time": "2021-09-27T15:11:39.710Z"
   },
   {
    "duration": 4,
    "start_time": "2021-09-27T15:11:39.736Z"
   },
   {
    "duration": 23,
    "start_time": "2021-09-27T15:11:39.741Z"
   },
   {
    "duration": 3,
    "start_time": "2021-09-27T15:11:39.766Z"
   },
   {
    "duration": 45,
    "start_time": "2021-09-27T15:11:39.771Z"
   },
   {
    "duration": 18,
    "start_time": "2021-09-27T15:11:39.819Z"
   },
   {
    "duration": 24,
    "start_time": "2021-09-27T15:11:39.839Z"
   },
   {
    "duration": 81,
    "start_time": "2021-09-27T15:11:39.865Z"
   },
   {
    "duration": 84,
    "start_time": "2021-09-27T15:11:39.949Z"
   },
   {
    "duration": 52,
    "start_time": "2021-09-27T15:11:40.035Z"
   },
   {
    "duration": 43,
    "start_time": "2021-09-27T15:11:40.099Z"
   },
   {
    "duration": 3,
    "start_time": "2021-09-27T15:11:40.144Z"
   },
   {
    "duration": 11,
    "start_time": "2021-09-27T15:11:40.149Z"
   },
   {
    "duration": 62,
    "start_time": "2021-09-27T15:11:40.162Z"
   },
   {
    "duration": 22,
    "start_time": "2021-09-27T15:11:40.226Z"
   },
   {
    "duration": 27,
    "start_time": "2021-09-27T15:11:40.250Z"
   },
   {
    "duration": 22,
    "start_time": "2021-09-27T15:11:40.278Z"
   },
   {
    "duration": 14,
    "start_time": "2021-09-27T15:11:40.301Z"
   },
   {
    "duration": 13,
    "start_time": "2021-09-27T15:11:40.316Z"
   },
   {
    "duration": 26,
    "start_time": "2021-09-27T15:11:40.331Z"
   },
   {
    "duration": 13,
    "start_time": "2021-09-27T15:11:40.358Z"
   },
   {
    "duration": 34,
    "start_time": "2021-09-27T15:11:40.372Z"
   },
   {
    "duration": 14,
    "start_time": "2021-09-27T15:11:40.408Z"
   },
   {
    "duration": 8,
    "start_time": "2021-09-27T15:11:40.426Z"
   },
   {
    "duration": 12,
    "start_time": "2021-09-27T15:11:40.436Z"
   },
   {
    "duration": 10,
    "start_time": "2021-09-27T15:11:40.449Z"
   },
   {
    "duration": 41,
    "start_time": "2021-09-27T15:11:40.461Z"
   },
   {
    "duration": 21,
    "start_time": "2021-09-27T15:11:40.504Z"
   },
   {
    "duration": 12,
    "start_time": "2021-09-27T15:11:40.527Z"
   },
   {
    "duration": 18,
    "start_time": "2021-09-27T15:11:40.541Z"
   },
   {
    "duration": 42,
    "start_time": "2021-09-27T15:11:40.561Z"
   },
   {
    "duration": 10,
    "start_time": "2021-09-27T15:11:40.605Z"
   },
   {
    "duration": 5,
    "start_time": "2021-09-27T15:11:40.616Z"
   },
   {
    "duration": 8,
    "start_time": "2021-09-27T15:11:40.623Z"
   },
   {
    "duration": 5,
    "start_time": "2021-09-27T15:11:40.632Z"
   },
   {
    "duration": 566,
    "start_time": "2021-09-27T15:12:23.299Z"
   },
   {
    "duration": 126,
    "start_time": "2021-09-27T15:12:23.866Z"
   },
   {
    "duration": 18,
    "start_time": "2021-09-27T15:12:23.996Z"
   },
   {
    "duration": 26,
    "start_time": "2021-09-27T15:12:24.016Z"
   },
   {
    "duration": 4,
    "start_time": "2021-09-27T15:12:24.044Z"
   },
   {
    "duration": 21,
    "start_time": "2021-09-27T15:12:24.049Z"
   },
   {
    "duration": 27,
    "start_time": "2021-09-27T15:12:24.072Z"
   },
   {
    "duration": 22,
    "start_time": "2021-09-27T15:12:24.102Z"
   },
   {
    "duration": 18,
    "start_time": "2021-09-27T15:12:24.126Z"
   },
   {
    "duration": 21,
    "start_time": "2021-09-27T15:12:24.146Z"
   },
   {
    "duration": 84,
    "start_time": "2021-09-27T15:12:24.169Z"
   },
   {
    "duration": 81,
    "start_time": "2021-09-27T15:12:24.255Z"
   },
   {
    "duration": 48,
    "start_time": "2021-09-27T15:12:24.338Z"
   },
   {
    "duration": 49,
    "start_time": "2021-09-27T15:12:24.388Z"
   },
   {
    "duration": 3,
    "start_time": "2021-09-27T15:12:24.439Z"
   },
   {
    "duration": 15,
    "start_time": "2021-09-27T15:12:24.443Z"
   },
   {
    "duration": 54,
    "start_time": "2021-09-27T15:12:24.460Z"
   },
   {
    "duration": 24,
    "start_time": "2021-09-27T15:12:24.516Z"
   },
   {
    "duration": 27,
    "start_time": "2021-09-27T15:12:24.542Z"
   },
   {
    "duration": 3,
    "start_time": "2021-09-27T15:12:24.571Z"
   },
   {
    "duration": 16,
    "start_time": "2021-09-27T15:12:24.599Z"
   },
   {
    "duration": 14,
    "start_time": "2021-09-27T15:12:24.616Z"
   },
   {
    "duration": 18,
    "start_time": "2021-09-27T15:12:24.632Z"
   },
   {
    "duration": 13,
    "start_time": "2021-09-27T15:12:24.651Z"
   },
   {
    "duration": 43,
    "start_time": "2021-09-27T15:12:24.666Z"
   },
   {
    "duration": 12,
    "start_time": "2021-09-27T15:12:24.713Z"
   },
   {
    "duration": 9,
    "start_time": "2021-09-27T15:12:24.727Z"
   },
   {
    "duration": 11,
    "start_time": "2021-09-27T15:12:24.738Z"
   },
   {
    "duration": 11,
    "start_time": "2021-09-27T15:12:24.750Z"
   },
   {
    "duration": 4,
    "start_time": "2021-09-27T15:12:24.762Z"
   },
   {
    "duration": 45,
    "start_time": "2021-09-27T15:12:24.767Z"
   },
   {
    "duration": 12,
    "start_time": "2021-09-27T15:12:24.813Z"
   },
   {
    "duration": 18,
    "start_time": "2021-09-27T15:12:24.826Z"
   },
   {
    "duration": 11,
    "start_time": "2021-09-27T15:12:24.846Z"
   },
   {
    "duration": 44,
    "start_time": "2021-09-27T15:12:24.859Z"
   },
   {
    "duration": 5,
    "start_time": "2021-09-27T15:12:24.904Z"
   },
   {
    "duration": 8,
    "start_time": "2021-09-27T15:12:24.910Z"
   },
   {
    "duration": 4,
    "start_time": "2021-09-27T15:12:24.919Z"
   },
   {
    "duration": 5,
    "start_time": "2021-09-27T15:13:56.224Z"
   },
   {
    "duration": 5,
    "start_time": "2021-09-27T15:14:05.500Z"
   },
   {
    "duration": 12,
    "start_time": "2021-09-27T15:24:31.184Z"
   },
   {
    "duration": 257,
    "start_time": "2021-09-27T15:24:40.366Z"
   },
   {
    "duration": 193,
    "start_time": "2021-09-27T15:24:51.586Z"
   },
   {
    "duration": 56,
    "start_time": "2021-09-27T15:24:59.894Z"
   },
   {
    "duration": 186,
    "start_time": "2021-09-27T15:25:36.321Z"
   },
   {
    "duration": 691,
    "start_time": "2021-09-27T15:25:47.213Z"
   },
   {
    "duration": 133,
    "start_time": "2021-09-27T15:25:47.905Z"
   },
   {
    "duration": 16,
    "start_time": "2021-09-27T15:25:48.043Z"
   },
   {
    "duration": 23,
    "start_time": "2021-09-27T15:25:48.060Z"
   },
   {
    "duration": 17,
    "start_time": "2021-09-27T15:25:48.085Z"
   },
   {
    "duration": 23,
    "start_time": "2021-09-27T15:25:48.104Z"
   },
   {
    "duration": 4,
    "start_time": "2021-09-27T15:25:48.128Z"
   },
   {
    "duration": 23,
    "start_time": "2021-09-27T15:25:48.134Z"
   },
   {
    "duration": 47,
    "start_time": "2021-09-27T15:25:48.159Z"
   },
   {
    "duration": 23,
    "start_time": "2021-09-27T15:25:48.207Z"
   },
   {
    "duration": 88,
    "start_time": "2021-09-27T15:25:48.232Z"
   },
   {
    "duration": 79,
    "start_time": "2021-09-27T15:25:48.322Z"
   },
   {
    "duration": 54,
    "start_time": "2021-09-27T15:25:48.403Z"
   },
   {
    "duration": 56,
    "start_time": "2021-09-27T15:25:48.459Z"
   },
   {
    "duration": 4,
    "start_time": "2021-09-27T15:25:48.517Z"
   },
   {
    "duration": 11,
    "start_time": "2021-09-27T15:25:48.523Z"
   },
   {
    "duration": 63,
    "start_time": "2021-09-27T15:25:48.536Z"
   },
   {
    "duration": 289,
    "start_time": "2021-09-27T15:25:48.601Z"
   },
   {
    "duration": -4985,
    "start_time": "2021-09-27T15:25:53.878Z"
   },
   {
    "duration": -4986,
    "start_time": "2021-09-27T15:25:53.881Z"
   },
   {
    "duration": -4990,
    "start_time": "2021-09-27T15:25:53.886Z"
   },
   {
    "duration": -4991,
    "start_time": "2021-09-27T15:25:53.888Z"
   },
   {
    "duration": -4991,
    "start_time": "2021-09-27T15:25:53.890Z"
   },
   {
    "duration": -4993,
    "start_time": "2021-09-27T15:25:53.893Z"
   },
   {
    "duration": -4992,
    "start_time": "2021-09-27T15:25:53.894Z"
   },
   {
    "duration": -4994,
    "start_time": "2021-09-27T15:25:53.897Z"
   },
   {
    "duration": -4995,
    "start_time": "2021-09-27T15:25:53.900Z"
   },
   {
    "duration": -5000,
    "start_time": "2021-09-27T15:25:53.907Z"
   },
   {
    "duration": -5000,
    "start_time": "2021-09-27T15:25:53.908Z"
   },
   {
    "duration": -5001,
    "start_time": "2021-09-27T15:25:53.910Z"
   },
   {
    "duration": -5001,
    "start_time": "2021-09-27T15:25:53.912Z"
   },
   {
    "duration": -5002,
    "start_time": "2021-09-27T15:25:53.914Z"
   },
   {
    "duration": -5003,
    "start_time": "2021-09-27T15:25:53.916Z"
   },
   {
    "duration": -5007,
    "start_time": "2021-09-27T15:25:53.922Z"
   },
   {
    "duration": -5007,
    "start_time": "2021-09-27T15:25:53.923Z"
   },
   {
    "duration": -5008,
    "start_time": "2021-09-27T15:25:53.925Z"
   },
   {
    "duration": -5007,
    "start_time": "2021-09-27T15:25:53.926Z"
   },
   {
    "duration": -5008,
    "start_time": "2021-09-27T15:25:53.928Z"
   },
   {
    "duration": 11,
    "start_time": "2021-09-27T15:26:19.346Z"
   },
   {
    "duration": 22,
    "start_time": "2021-09-27T15:30:01.423Z"
   },
   {
    "duration": 19,
    "start_time": "2021-09-27T15:30:12.452Z"
   },
   {
    "duration": 60,
    "start_time": "2021-09-27T15:31:47.400Z"
   },
   {
    "duration": 239,
    "start_time": "2021-09-27T15:31:53.386Z"
   },
   {
    "duration": 197,
    "start_time": "2021-09-27T15:32:04.114Z"
   },
   {
    "duration": 257,
    "start_time": "2021-09-27T15:32:30.709Z"
   },
   {
    "duration": 62,
    "start_time": "2021-09-27T15:32:42.111Z"
   },
   {
    "duration": 228,
    "start_time": "2021-09-27T15:32:49.351Z"
   },
   {
    "duration": 205,
    "start_time": "2021-09-27T15:32:54.390Z"
   },
   {
    "duration": 208,
    "start_time": "2021-09-27T15:33:41.404Z"
   },
   {
    "duration": 30,
    "start_time": "2021-09-27T15:33:48.627Z"
   },
   {
    "duration": 194,
    "start_time": "2021-09-27T15:34:51.547Z"
   },
   {
    "duration": 19,
    "start_time": "2021-09-27T15:34:57.418Z"
   },
   {
    "duration": 17,
    "start_time": "2021-09-27T15:36:43.685Z"
   },
   {
    "duration": 41,
    "start_time": "2021-09-27T15:36:53.172Z"
   },
   {
    "duration": 46,
    "start_time": "2021-09-27T15:38:55.486Z"
   },
   {
    "duration": 45,
    "start_time": "2021-09-27T15:39:01.377Z"
   },
   {
    "duration": 53,
    "start_time": "2021-09-27T15:40:31.565Z"
   },
   {
    "duration": 55,
    "start_time": "2021-09-27T15:41:48.227Z"
   },
   {
    "duration": 52,
    "start_time": "2021-09-27T15:42:06.365Z"
   },
   {
    "duration": 49,
    "start_time": "2021-09-27T15:42:20.847Z"
   },
   {
    "duration": 53,
    "start_time": "2021-09-27T15:42:30.004Z"
   },
   {
    "duration": 4199,
    "start_time": "2021-09-27T15:42:44.618Z"
   },
   {
    "duration": 55,
    "start_time": "2021-09-27T15:42:53.312Z"
   },
   {
    "duration": 96,
    "start_time": "2021-09-27T15:44:16.613Z"
   },
   {
    "duration": 63,
    "start_time": "2021-09-27T15:44:39.405Z"
   },
   {
    "duration": 45,
    "start_time": "2021-09-27T15:45:59.568Z"
   },
   {
    "duration": 40,
    "start_time": "2021-09-27T15:46:16.873Z"
   },
   {
    "duration": 45,
    "start_time": "2021-09-27T15:46:27.423Z"
   },
   {
    "duration": 41,
    "start_time": "2021-09-27T15:46:31.270Z"
   },
   {
    "duration": 211,
    "start_time": "2021-09-27T15:46:54.504Z"
   },
   {
    "duration": 43,
    "start_time": "2021-09-27T15:47:03.508Z"
   },
   {
    "duration": -5047,
    "start_time": "2021-09-27T15:47:22.204Z"
   },
   {
    "duration": 41,
    "start_time": "2021-09-27T15:47:18.588Z"
   },
   {
    "duration": 5037,
    "start_time": "2021-09-27T15:47:24.304Z"
   },
   {
    "duration": 41,
    "start_time": "2021-09-27T15:47:33.951Z"
   },
   {
    "duration": 61,
    "start_time": "2021-09-27T15:47:44.657Z"
   },
   {
    "duration": 68,
    "start_time": "2021-09-27T15:51:34.395Z"
   },
   {
    "duration": 74,
    "start_time": "2021-09-27T15:52:31.553Z"
   },
   {
    "duration": 265,
    "start_time": "2021-09-27T15:52:41.841Z"
   },
   {
    "duration": 242,
    "start_time": "2021-09-27T15:53:02.714Z"
   },
   {
    "duration": 70,
    "start_time": "2021-09-27T15:53:18.458Z"
   },
   {
    "duration": 98,
    "start_time": "2021-09-27T15:53:36.323Z"
   },
   {
    "duration": 75,
    "start_time": "2021-09-27T15:53:54.053Z"
   },
   {
    "duration": 68,
    "start_time": "2021-09-27T15:54:09.375Z"
   },
   {
    "duration": 46,
    "start_time": "2021-09-27T15:54:34.496Z"
   },
   {
    "duration": 531,
    "start_time": "2021-09-27T15:55:30.764Z"
   },
   {
    "duration": 144,
    "start_time": "2021-09-27T15:55:31.297Z"
   },
   {
    "duration": 18,
    "start_time": "2021-09-27T15:55:31.444Z"
   },
   {
    "duration": 36,
    "start_time": "2021-09-27T15:55:31.464Z"
   },
   {
    "duration": 5,
    "start_time": "2021-09-27T15:55:31.502Z"
   },
   {
    "duration": 28,
    "start_time": "2021-09-27T15:55:31.509Z"
   },
   {
    "duration": 4,
    "start_time": "2021-09-27T15:55:31.538Z"
   },
   {
    "duration": 25,
    "start_time": "2021-09-27T15:55:31.545Z"
   },
   {
    "duration": 40,
    "start_time": "2021-09-27T15:55:31.573Z"
   },
   {
    "duration": 36,
    "start_time": "2021-09-27T15:55:31.615Z"
   },
   {
    "duration": 62,
    "start_time": "2021-09-27T15:55:31.652Z"
   },
   {
    "duration": 69,
    "start_time": "2021-09-27T15:55:31.716Z"
   },
   {
    "duration": 58,
    "start_time": "2021-09-27T15:55:31.787Z"
   },
   {
    "duration": 52,
    "start_time": "2021-09-27T15:55:31.847Z"
   },
   {
    "duration": 3,
    "start_time": "2021-09-27T15:55:31.901Z"
   },
   {
    "duration": 16,
    "start_time": "2021-09-27T15:55:31.905Z"
   },
   {
    "duration": 53,
    "start_time": "2021-09-27T15:55:31.923Z"
   },
   {
    "duration": 43,
    "start_time": "2021-09-27T15:55:31.978Z"
   },
   {
    "duration": 46,
    "start_time": "2021-09-27T15:55:32.022Z"
   },
   {
    "duration": 3,
    "start_time": "2021-09-27T15:55:32.069Z"
   },
   {
    "duration": 37,
    "start_time": "2021-09-27T15:55:32.074Z"
   },
   {
    "duration": 14,
    "start_time": "2021-09-27T15:55:32.112Z"
   },
   {
    "duration": 14,
    "start_time": "2021-09-27T15:55:32.130Z"
   },
   {
    "duration": 17,
    "start_time": "2021-09-27T15:55:32.146Z"
   },
   {
    "duration": 38,
    "start_time": "2021-09-27T15:55:32.165Z"
   },
   {
    "duration": 14,
    "start_time": "2021-09-27T15:55:32.205Z"
   },
   {
    "duration": 17,
    "start_time": "2021-09-27T15:55:32.221Z"
   },
   {
    "duration": 21,
    "start_time": "2021-09-27T15:55:32.239Z"
   },
   {
    "duration": 14,
    "start_time": "2021-09-27T15:55:32.262Z"
   },
   {
    "duration": 8,
    "start_time": "2021-09-27T15:55:32.278Z"
   },
   {
    "duration": 32,
    "start_time": "2021-09-27T15:55:32.288Z"
   },
   {
    "duration": 12,
    "start_time": "2021-09-27T15:55:32.322Z"
   },
   {
    "duration": 22,
    "start_time": "2021-09-27T15:55:32.336Z"
   },
   {
    "duration": 12,
    "start_time": "2021-09-27T15:55:32.360Z"
   },
   {
    "duration": 9,
    "start_time": "2021-09-27T15:55:32.373Z"
   },
   {
    "duration": 16,
    "start_time": "2021-09-27T15:55:32.384Z"
   },
   {
    "duration": 5,
    "start_time": "2021-09-27T15:55:32.402Z"
   },
   {
    "duration": 6,
    "start_time": "2021-09-27T15:55:32.409Z"
   },
   {
    "duration": 571,
    "start_time": "2021-09-27T15:59:30.199Z"
   },
   {
    "duration": 131,
    "start_time": "2021-09-27T15:59:30.772Z"
   },
   {
    "duration": 16,
    "start_time": "2021-09-27T15:59:30.905Z"
   },
   {
    "duration": 29,
    "start_time": "2021-09-27T15:59:30.923Z"
   },
   {
    "duration": 8,
    "start_time": "2021-09-27T15:59:30.954Z"
   },
   {
    "duration": 35,
    "start_time": "2021-09-27T15:59:30.964Z"
   },
   {
    "duration": 4,
    "start_time": "2021-09-27T15:59:31.001Z"
   },
   {
    "duration": 24,
    "start_time": "2021-09-27T15:59:31.007Z"
   },
   {
    "duration": 16,
    "start_time": "2021-09-27T15:59:31.034Z"
   },
   {
    "duration": 21,
    "start_time": "2021-09-27T15:59:31.052Z"
   },
   {
    "duration": 83,
    "start_time": "2021-09-27T15:59:31.075Z"
   },
   {
    "duration": 73,
    "start_time": "2021-09-27T15:59:31.159Z"
   },
   {
    "duration": 51,
    "start_time": "2021-09-27T15:59:31.234Z"
   },
   {
    "duration": 50,
    "start_time": "2021-09-27T15:59:31.286Z"
   },
   {
    "duration": 2,
    "start_time": "2021-09-27T15:59:31.338Z"
   },
   {
    "duration": 12,
    "start_time": "2021-09-27T15:59:31.342Z"
   },
   {
    "duration": 52,
    "start_time": "2021-09-27T15:59:31.355Z"
   },
   {
    "duration": 39,
    "start_time": "2021-09-27T15:59:31.408Z"
   },
   {
    "duration": 60,
    "start_time": "2021-09-27T15:59:31.449Z"
   },
   {
    "duration": 3,
    "start_time": "2021-09-27T15:59:31.511Z"
   },
   {
    "duration": 24,
    "start_time": "2021-09-27T15:59:31.515Z"
   },
   {
    "duration": 13,
    "start_time": "2021-09-27T15:59:31.540Z"
   },
   {
    "duration": 15,
    "start_time": "2021-09-27T15:59:31.555Z"
   },
   {
    "duration": 29,
    "start_time": "2021-09-27T15:59:31.571Z"
   },
   {
    "duration": 18,
    "start_time": "2021-09-27T15:59:31.602Z"
   },
   {
    "duration": 13,
    "start_time": "2021-09-27T15:59:31.622Z"
   },
   {
    "duration": 7,
    "start_time": "2021-09-27T15:59:31.639Z"
   },
   {
    "duration": 15,
    "start_time": "2021-09-27T15:59:31.648Z"
   },
   {
    "duration": 39,
    "start_time": "2021-09-27T15:59:31.665Z"
   },
   {
    "duration": 4,
    "start_time": "2021-09-27T15:59:31.706Z"
   },
   {
    "duration": 23,
    "start_time": "2021-09-27T15:59:31.711Z"
   },
   {
    "duration": 11,
    "start_time": "2021-09-27T15:59:31.736Z"
   },
   {
    "duration": 16,
    "start_time": "2021-09-27T15:59:31.749Z"
   },
   {
    "duration": 41,
    "start_time": "2021-09-27T15:59:31.766Z"
   },
   {
    "duration": 7,
    "start_time": "2021-09-27T15:59:31.809Z"
   },
   {
    "duration": 4,
    "start_time": "2021-09-27T15:59:31.818Z"
   },
   {
    "duration": 7,
    "start_time": "2021-09-27T15:59:31.824Z"
   },
   {
    "duration": 4,
    "start_time": "2021-09-27T15:59:31.832Z"
   },
   {
    "duration": 774,
    "start_time": "2021-09-28T12:49:16.850Z"
   },
   {
    "duration": 187,
    "start_time": "2021-09-28T12:49:17.626Z"
   },
   {
    "duration": 28,
    "start_time": "2021-09-28T12:49:17.817Z"
   },
   {
    "duration": 44,
    "start_time": "2021-09-28T12:49:17.848Z"
   },
   {
    "duration": 26,
    "start_time": "2021-09-28T12:49:17.896Z"
   },
   {
    "duration": 40,
    "start_time": "2021-09-28T12:49:17.924Z"
   },
   {
    "duration": 18,
    "start_time": "2021-09-28T12:49:17.967Z"
   },
   {
    "duration": 53,
    "start_time": "2021-09-28T12:49:17.991Z"
   },
   {
    "duration": 50,
    "start_time": "2021-09-28T12:49:18.049Z"
   },
   {
    "duration": 32,
    "start_time": "2021-09-28T12:49:18.101Z"
   },
   {
    "duration": 103,
    "start_time": "2021-09-28T12:49:18.137Z"
   },
   {
    "duration": 108,
    "start_time": "2021-09-28T12:49:18.243Z"
   },
   {
    "duration": 86,
    "start_time": "2021-09-28T12:49:18.353Z"
   },
   {
    "duration": 56,
    "start_time": "2021-09-28T12:49:18.442Z"
   },
   {
    "duration": 5,
    "start_time": "2021-09-28T12:49:18.521Z"
   },
   {
    "duration": 24,
    "start_time": "2021-09-28T12:49:18.529Z"
   },
   {
    "duration": 72,
    "start_time": "2021-09-28T12:49:18.556Z"
   },
   {
    "duration": 70,
    "start_time": "2021-09-28T12:49:18.631Z"
   },
   {
    "duration": 68,
    "start_time": "2021-09-28T12:49:18.705Z"
   },
   {
    "duration": 6,
    "start_time": "2021-09-28T12:49:18.776Z"
   },
   {
    "duration": 48,
    "start_time": "2021-09-28T12:49:18.785Z"
   },
   {
    "duration": 20,
    "start_time": "2021-09-28T12:49:18.836Z"
   },
   {
    "duration": 37,
    "start_time": "2021-09-28T12:49:18.863Z"
   },
   {
    "duration": 27,
    "start_time": "2021-09-28T12:49:18.904Z"
   },
   {
    "duration": 23,
    "start_time": "2021-09-28T12:49:18.934Z"
   },
   {
    "duration": 20,
    "start_time": "2021-09-28T12:49:18.960Z"
   },
   {
    "duration": 45,
    "start_time": "2021-09-28T12:49:18.983Z"
   },
   {
    "duration": 16,
    "start_time": "2021-09-28T12:49:19.031Z"
   },
   {
    "duration": 16,
    "start_time": "2021-09-28T12:49:19.049Z"
   },
   {
    "duration": 15,
    "start_time": "2021-09-28T12:49:19.068Z"
   },
   {
    "duration": 56,
    "start_time": "2021-09-28T12:49:19.085Z"
   },
   {
    "duration": 17,
    "start_time": "2021-09-28T12:49:19.143Z"
   },
   {
    "duration": 30,
    "start_time": "2021-09-28T12:49:19.162Z"
   },
   {
    "duration": 37,
    "start_time": "2021-09-28T12:49:19.195Z"
   },
   {
    "duration": 27,
    "start_time": "2021-09-28T12:49:19.234Z"
   },
   {
    "duration": 7,
    "start_time": "2021-09-28T12:49:19.263Z"
   },
   {
    "duration": 27,
    "start_time": "2021-09-28T12:49:19.272Z"
   },
   {
    "duration": 25,
    "start_time": "2021-09-28T12:49:19.301Z"
   },
   {
    "duration": 45,
    "start_time": "2021-09-28T12:49:56.444Z"
   },
   {
    "duration": 43,
    "start_time": "2021-09-28T12:50:30.981Z"
   },
   {
    "duration": 7,
    "start_time": "2021-09-28T12:50:38.899Z"
   },
   {
    "duration": 760,
    "start_time": "2021-09-28T13:04:51.606Z"
   },
   {
    "duration": 167,
    "start_time": "2021-09-28T13:04:52.369Z"
   },
   {
    "duration": 25,
    "start_time": "2021-09-28T13:04:52.539Z"
   },
   {
    "duration": 36,
    "start_time": "2021-09-28T13:04:52.566Z"
   },
   {
    "duration": 19,
    "start_time": "2021-09-28T13:04:52.605Z"
   },
   {
    "duration": 24,
    "start_time": "2021-09-28T13:04:52.626Z"
   },
   {
    "duration": 5,
    "start_time": "2021-09-28T13:04:52.653Z"
   },
   {
    "duration": 67,
    "start_time": "2021-09-28T13:04:52.662Z"
   },
   {
    "duration": 27,
    "start_time": "2021-09-28T13:04:52.732Z"
   },
   {
    "duration": 29,
    "start_time": "2021-09-28T13:04:52.761Z"
   },
   {
    "duration": 105,
    "start_time": "2021-09-28T13:04:52.793Z"
   },
   {
    "duration": 101,
    "start_time": "2021-09-28T13:04:52.900Z"
   },
   {
    "duration": 78,
    "start_time": "2021-09-28T13:04:53.004Z"
   },
   {
    "duration": 72,
    "start_time": "2021-09-28T13:04:53.084Z"
   },
   {
    "duration": 9,
    "start_time": "2021-09-28T13:04:53.159Z"
   },
   {
    "duration": 37,
    "start_time": "2021-09-28T13:04:53.170Z"
   },
   {
    "duration": 71,
    "start_time": "2021-09-28T13:04:53.209Z"
   },
   {
    "duration": 78,
    "start_time": "2021-09-28T13:04:53.282Z"
   },
   {
    "duration": 37,
    "start_time": "2021-09-28T13:04:53.362Z"
   },
   {
    "duration": 9280,
    "start_time": "2021-09-28T13:04:53.402Z"
   },
   {
    "duration": -5971,
    "start_time": "2021-09-28T13:05:08.657Z"
   },
   {
    "duration": -5971,
    "start_time": "2021-09-28T13:05:08.659Z"
   },
   {
    "duration": -5972,
    "start_time": "2021-09-28T13:05:08.661Z"
   },
   {
    "duration": -5973,
    "start_time": "2021-09-28T13:05:08.663Z"
   },
   {
    "duration": -5973,
    "start_time": "2021-09-28T13:05:08.664Z"
   },
   {
    "duration": -5973,
    "start_time": "2021-09-28T13:05:08.666Z"
   },
   {
    "duration": -5974,
    "start_time": "2021-09-28T13:05:08.668Z"
   },
   {
    "duration": -5975,
    "start_time": "2021-09-28T13:05:08.670Z"
   },
   {
    "duration": -5975,
    "start_time": "2021-09-28T13:05:08.672Z"
   },
   {
    "duration": -5976,
    "start_time": "2021-09-28T13:05:08.674Z"
   },
   {
    "duration": -5980,
    "start_time": "2021-09-28T13:05:08.679Z"
   },
   {
    "duration": -5980,
    "start_time": "2021-09-28T13:05:08.681Z"
   },
   {
    "duration": -5981,
    "start_time": "2021-09-28T13:05:08.683Z"
   },
   {
    "duration": -5980,
    "start_time": "2021-09-28T13:05:08.684Z"
   },
   {
    "duration": -5981,
    "start_time": "2021-09-28T13:05:08.686Z"
   },
   {
    "duration": -5981,
    "start_time": "2021-09-28T13:05:08.688Z"
   },
   {
    "duration": -5982,
    "start_time": "2021-09-28T13:05:08.690Z"
   },
   {
    "duration": -5984,
    "start_time": "2021-09-28T13:05:08.694Z"
   },
   {
    "duration": -5986,
    "start_time": "2021-09-28T13:05:08.697Z"
   },
   {
    "duration": -5987,
    "start_time": "2021-09-28T13:05:08.699Z"
   },
   {
    "duration": 41,
    "start_time": "2021-09-28T13:05:09.942Z"
   },
   {
    "duration": 702,
    "start_time": "2021-09-28T13:05:18.936Z"
   },
   {
    "duration": 170,
    "start_time": "2021-09-28T13:05:19.641Z"
   },
   {
    "duration": 25,
    "start_time": "2021-09-28T13:05:19.814Z"
   },
   {
    "duration": 42,
    "start_time": "2021-09-28T13:05:19.841Z"
   },
   {
    "duration": 5,
    "start_time": "2021-09-28T13:05:19.886Z"
   },
   {
    "duration": 41,
    "start_time": "2021-09-28T13:05:19.894Z"
   },
   {
    "duration": 16,
    "start_time": "2021-09-28T13:05:19.938Z"
   },
   {
    "duration": 31,
    "start_time": "2021-09-28T13:05:19.958Z"
   },
   {
    "duration": 33,
    "start_time": "2021-09-28T13:05:19.992Z"
   },
   {
    "duration": 39,
    "start_time": "2021-09-28T13:05:20.028Z"
   },
   {
    "duration": 84,
    "start_time": "2021-09-28T13:05:20.070Z"
   },
   {
    "duration": 104,
    "start_time": "2021-09-28T13:05:20.156Z"
   },
   {
    "duration": 79,
    "start_time": "2021-09-28T13:05:20.263Z"
   },
   {
    "duration": 56,
    "start_time": "2021-09-28T13:05:20.344Z"
   },
   {
    "duration": 21,
    "start_time": "2021-09-28T13:05:20.402Z"
   },
   {
    "duration": 23,
    "start_time": "2021-09-28T13:05:20.425Z"
   },
   {
    "duration": 57,
    "start_time": "2021-09-28T13:05:20.450Z"
   },
   {
    "duration": 58,
    "start_time": "2021-09-28T13:05:20.523Z"
   },
   {
    "duration": 67,
    "start_time": "2021-09-28T13:05:20.584Z"
   },
   {
    "duration": 6,
    "start_time": "2021-09-28T13:05:20.654Z"
   },
   {
    "duration": 98,
    "start_time": "2021-09-28T13:05:20.664Z"
   },
   {
    "duration": 5,
    "start_time": "2021-09-28T13:05:20.766Z"
   },
   {
    "duration": 26,
    "start_time": "2021-09-28T13:05:20.779Z"
   },
   {
    "duration": 19,
    "start_time": "2021-09-28T13:05:20.824Z"
   },
   {
    "duration": 24,
    "start_time": "2021-09-28T13:05:20.846Z"
   },
   {
    "duration": 49,
    "start_time": "2021-09-28T13:05:20.873Z"
   },
   {
    "duration": 22,
    "start_time": "2021-09-28T13:05:20.925Z"
   },
   {
    "duration": 32,
    "start_time": "2021-09-28T13:05:20.950Z"
   },
   {
    "duration": 38,
    "start_time": "2021-09-28T13:05:20.985Z"
   },
   {
    "duration": 17,
    "start_time": "2021-09-28T13:05:21.025Z"
   },
   {
    "duration": 31,
    "start_time": "2021-09-28T13:05:21.045Z"
   },
   {
    "duration": 7,
    "start_time": "2021-09-28T13:05:21.079Z"
   },
   {
    "duration": 42,
    "start_time": "2021-09-28T13:05:21.089Z"
   },
   {
    "duration": 19,
    "start_time": "2021-09-28T13:05:21.134Z"
   },
   {
    "duration": 24,
    "start_time": "2021-09-28T13:05:21.155Z"
   },
   {
    "duration": 46,
    "start_time": "2021-09-28T13:05:21.181Z"
   },
   {
    "duration": 11,
    "start_time": "2021-09-28T13:05:21.229Z"
   },
   {
    "duration": 14,
    "start_time": "2021-09-28T13:05:21.243Z"
   },
   {
    "duration": 14,
    "start_time": "2021-09-28T13:05:21.260Z"
   },
   {
    "duration": 7,
    "start_time": "2021-09-28T13:05:21.277Z"
   },
   {
    "duration": 46,
    "start_time": "2021-09-28T13:06:22.974Z"
   },
   {
    "duration": 855,
    "start_time": "2021-09-28T13:07:02.018Z"
   },
   {
    "duration": 201,
    "start_time": "2021-09-28T13:07:02.877Z"
   },
   {
    "duration": 26,
    "start_time": "2021-09-28T13:07:03.080Z"
   },
   {
    "duration": 33,
    "start_time": "2021-09-28T13:07:03.124Z"
   },
   {
    "duration": 18,
    "start_time": "2021-09-28T13:07:03.159Z"
   },
   {
    "duration": 43,
    "start_time": "2021-09-28T13:07:03.179Z"
   },
   {
    "duration": 13,
    "start_time": "2021-09-28T13:07:03.225Z"
   },
   {
    "duration": 32,
    "start_time": "2021-09-28T13:07:03.242Z"
   },
   {
    "duration": 25,
    "start_time": "2021-09-28T13:07:03.277Z"
   },
   {
    "duration": 49,
    "start_time": "2021-09-28T13:07:03.305Z"
   },
   {
    "duration": 104,
    "start_time": "2021-09-28T13:07:03.356Z"
   },
   {
    "duration": 113,
    "start_time": "2021-09-28T13:07:03.462Z"
   },
   {
    "duration": 91,
    "start_time": "2021-09-28T13:07:03.578Z"
   },
   {
    "duration": 65,
    "start_time": "2021-09-28T13:07:03.672Z"
   },
   {
    "duration": 4,
    "start_time": "2021-09-28T13:07:03.740Z"
   },
   {
    "duration": 16,
    "start_time": "2021-09-28T13:07:03.747Z"
   },
   {
    "duration": 78,
    "start_time": "2021-09-28T13:07:03.766Z"
   },
   {
    "duration": 42,
    "start_time": "2021-09-28T13:07:03.847Z"
   },
   {
    "duration": 61,
    "start_time": "2021-09-28T13:07:03.891Z"
   },
   {
    "duration": 5,
    "start_time": "2021-09-28T13:07:03.955Z"
   },
   {
    "duration": 81,
    "start_time": "2021-09-28T13:07:03.962Z"
   },
   {
    "duration": 5,
    "start_time": "2021-09-28T13:07:04.045Z"
   },
   {
    "duration": 47,
    "start_time": "2021-09-28T13:07:04.054Z"
   },
   {
    "duration": 34,
    "start_time": "2021-09-28T13:07:04.103Z"
   },
   {
    "duration": 48,
    "start_time": "2021-09-28T13:07:04.139Z"
   },
   {
    "duration": 30,
    "start_time": "2021-09-28T13:07:04.190Z"
   },
   {
    "duration": 34,
    "start_time": "2021-09-28T13:07:04.222Z"
   },
   {
    "duration": 48,
    "start_time": "2021-09-28T13:07:04.258Z"
   },
   {
    "duration": 41,
    "start_time": "2021-09-28T13:07:04.308Z"
   },
   {
    "duration": 35,
    "start_time": "2021-09-28T13:07:04.351Z"
   },
   {
    "duration": 31,
    "start_time": "2021-09-28T13:07:04.388Z"
   },
   {
    "duration": 26,
    "start_time": "2021-09-28T13:07:04.422Z"
   },
   {
    "duration": 49,
    "start_time": "2021-09-28T13:07:04.451Z"
   },
   {
    "duration": 33,
    "start_time": "2021-09-28T13:07:04.502Z"
   },
   {
    "duration": 37,
    "start_time": "2021-09-28T13:07:04.537Z"
   },
   {
    "duration": 43,
    "start_time": "2021-09-28T13:07:04.576Z"
   },
   {
    "duration": 66,
    "start_time": "2021-09-28T13:07:04.621Z"
   },
   {
    "duration": 33,
    "start_time": "2021-09-28T13:07:04.689Z"
   },
   {
    "duration": 36,
    "start_time": "2021-09-28T13:07:04.724Z"
   },
   {
    "duration": 22,
    "start_time": "2021-09-28T13:07:04.762Z"
   },
   {
    "duration": 862,
    "start_time": "2021-09-28T13:08:00.964Z"
   },
   {
    "duration": 204,
    "start_time": "2021-09-28T13:08:01.835Z"
   },
   {
    "duration": 27,
    "start_time": "2021-09-28T13:08:02.042Z"
   },
   {
    "duration": 56,
    "start_time": "2021-09-28T13:08:02.072Z"
   },
   {
    "duration": 26,
    "start_time": "2021-09-28T13:08:02.131Z"
   },
   {
    "duration": 45,
    "start_time": "2021-09-28T13:08:02.159Z"
   },
   {
    "duration": 27,
    "start_time": "2021-09-28T13:08:02.206Z"
   },
   {
    "duration": 48,
    "start_time": "2021-09-28T13:08:02.236Z"
   },
   {
    "duration": 69,
    "start_time": "2021-09-28T13:08:02.288Z"
   },
   {
    "duration": 51,
    "start_time": "2021-09-28T13:08:02.360Z"
   },
   {
    "duration": 102,
    "start_time": "2021-09-28T13:08:02.413Z"
   },
   {
    "duration": 95,
    "start_time": "2021-09-28T13:08:02.517Z"
   },
   {
    "duration": 85,
    "start_time": "2021-09-28T13:08:02.614Z"
   },
   {
    "duration": 90,
    "start_time": "2021-09-28T13:08:02.702Z"
   },
   {
    "duration": 4,
    "start_time": "2021-09-28T13:08:02.795Z"
   },
   {
    "duration": 45,
    "start_time": "2021-09-28T13:08:02.802Z"
   },
   {
    "duration": 101,
    "start_time": "2021-09-28T13:08:02.851Z"
   },
   {
    "duration": 45,
    "start_time": "2021-09-28T13:08:02.955Z"
   },
   {
    "duration": 54,
    "start_time": "2021-09-28T13:08:03.003Z"
   },
   {
    "duration": 6,
    "start_time": "2021-09-28T13:08:03.060Z"
   },
   {
    "duration": 85,
    "start_time": "2021-09-28T13:08:03.068Z"
   },
   {
    "duration": 5,
    "start_time": "2021-09-28T13:08:03.155Z"
   },
   {
    "duration": 67,
    "start_time": "2021-09-28T13:08:03.163Z"
   },
   {
    "duration": 34,
    "start_time": "2021-09-28T13:08:03.232Z"
   },
   {
    "duration": 49,
    "start_time": "2021-09-28T13:08:03.268Z"
   },
   {
    "duration": 40,
    "start_time": "2021-09-28T13:08:03.320Z"
   },
   {
    "duration": 46,
    "start_time": "2021-09-28T13:08:03.365Z"
   },
   {
    "duration": 37,
    "start_time": "2021-09-28T13:08:03.414Z"
   },
   {
    "duration": 28,
    "start_time": "2021-09-28T13:08:03.453Z"
   },
   {
    "duration": 41,
    "start_time": "2021-09-28T13:08:03.483Z"
   },
   {
    "duration": 53,
    "start_time": "2021-09-28T13:08:03.526Z"
   },
   {
    "duration": 17,
    "start_time": "2021-09-28T13:08:03.581Z"
   },
   {
    "duration": 55,
    "start_time": "2021-09-28T13:08:03.600Z"
   },
   {
    "duration": 44,
    "start_time": "2021-09-28T13:08:03.657Z"
   },
   {
    "duration": 42,
    "start_time": "2021-09-28T13:08:03.703Z"
   },
   {
    "duration": 35,
    "start_time": "2021-09-28T13:08:03.747Z"
   },
   {
    "duration": 37,
    "start_time": "2021-09-28T13:08:03.784Z"
   },
   {
    "duration": 18,
    "start_time": "2021-09-28T13:08:03.823Z"
   },
   {
    "duration": 33,
    "start_time": "2021-09-28T13:08:03.843Z"
   },
   {
    "duration": 38,
    "start_time": "2021-09-28T13:08:03.878Z"
   },
   {
    "duration": 692,
    "start_time": "2021-09-28T13:08:53.348Z"
   },
   {
    "duration": 183,
    "start_time": "2021-09-28T13:08:54.043Z"
   },
   {
    "duration": 29,
    "start_time": "2021-09-28T13:08:54.230Z"
   },
   {
    "duration": 32,
    "start_time": "2021-09-28T13:08:54.262Z"
   },
   {
    "duration": 28,
    "start_time": "2021-09-28T13:08:54.296Z"
   },
   {
    "duration": 25,
    "start_time": "2021-09-28T13:08:54.327Z"
   },
   {
    "duration": 10,
    "start_time": "2021-09-28T13:08:54.355Z"
   },
   {
    "duration": 59,
    "start_time": "2021-09-28T13:08:54.368Z"
   },
   {
    "duration": 22,
    "start_time": "2021-09-28T13:08:54.431Z"
   },
   {
    "duration": 28,
    "start_time": "2021-09-28T13:08:54.456Z"
   },
   {
    "duration": 107,
    "start_time": "2021-09-28T13:08:54.486Z"
   },
   {
    "duration": 104,
    "start_time": "2021-09-28T13:08:54.596Z"
   },
   {
    "duration": 78,
    "start_time": "2021-09-28T13:08:54.703Z"
   },
   {
    "duration": 73,
    "start_time": "2021-09-28T13:08:54.784Z"
   },
   {
    "duration": 3,
    "start_time": "2021-09-28T13:08:54.860Z"
   },
   {
    "duration": 15,
    "start_time": "2021-09-28T13:08:54.866Z"
   },
   {
    "duration": 77,
    "start_time": "2021-09-28T13:08:54.884Z"
   },
   {
    "duration": 15,
    "start_time": "2021-09-28T13:08:54.963Z"
   },
   {
    "duration": 67,
    "start_time": "2021-09-28T13:08:54.980Z"
   },
   {
    "duration": 6,
    "start_time": "2021-09-28T13:08:55.049Z"
   },
   {
    "duration": 19,
    "start_time": "2021-09-28T13:08:55.057Z"
   },
   {
    "duration": 5,
    "start_time": "2021-09-28T13:08:55.078Z"
   },
   {
    "duration": 53,
    "start_time": "2021-09-28T13:08:55.085Z"
   },
   {
    "duration": 17,
    "start_time": "2021-09-28T13:08:55.140Z"
   },
   {
    "duration": 23,
    "start_time": "2021-09-28T13:08:55.159Z"
   },
   {
    "duration": 42,
    "start_time": "2021-09-28T13:08:55.184Z"
   },
   {
    "duration": 20,
    "start_time": "2021-09-28T13:08:55.230Z"
   },
   {
    "duration": 17,
    "start_time": "2021-09-28T13:08:55.253Z"
   },
   {
    "duration": 50,
    "start_time": "2021-09-28T13:08:55.272Z"
   },
   {
    "duration": 14,
    "start_time": "2021-09-28T13:08:55.325Z"
   },
   {
    "duration": 14,
    "start_time": "2021-09-28T13:08:55.342Z"
   },
   {
    "duration": 5,
    "start_time": "2021-09-28T13:08:55.358Z"
   },
   {
    "duration": 34,
    "start_time": "2021-09-28T13:08:55.365Z"
   },
   {
    "duration": 37,
    "start_time": "2021-09-28T13:08:55.401Z"
   },
   {
    "duration": 24,
    "start_time": "2021-09-28T13:08:55.440Z"
   },
   {
    "duration": 16,
    "start_time": "2021-09-28T13:08:55.466Z"
   },
   {
    "duration": 45,
    "start_time": "2021-09-28T13:08:55.484Z"
   },
   {
    "duration": 10,
    "start_time": "2021-09-28T13:08:55.531Z"
   },
   {
    "duration": 17,
    "start_time": "2021-09-28T13:08:55.543Z"
   },
   {
    "duration": 13,
    "start_time": "2021-09-28T13:08:55.562Z"
   }
  ],
  "colab": {
   "collapsed_sections": [
    "E0vqbgi9ay0H",
    "VUC88oWjTJw2"
   ],
   "name": "yandex_music_project_2021.2.ipynb",
   "provenance": []
  },
  "kernelspec": {
   "display_name": "Python 3 (ipykernel)",
   "language": "python",
   "name": "python3"
  },
  "language_info": {
   "codemirror_mode": {
    "name": "ipython",
    "version": 3
   },
   "file_extension": ".py",
   "mimetype": "text/x-python",
   "name": "python",
   "nbconvert_exporter": "python",
   "pygments_lexer": "ipython3",
   "version": "3.9.7"
  },
  "toc": {
   "base_numbering": 1,
   "nav_menu": {},
   "number_sections": true,
   "sideBar": true,
   "skip_h1_title": true,
   "title_cell": "Table of Contents",
   "title_sidebar": "Contents",
   "toc_cell": false,
   "toc_position": {},
   "toc_section_display": true,
   "toc_window_display": false
  }
 },
 "nbformat": 4,
 "nbformat_minor": 1
}
