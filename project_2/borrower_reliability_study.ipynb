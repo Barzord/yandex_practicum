{
 "cells": [
  {
   "cell_type": "markdown",
   "metadata": {},
   "source": [
    "# Исследование надёжности заёмщиков\n",
    "\n",
    "Заказчик — кредитный отдел банка. Нужно разобраться, влияет ли семейное положение и количество детей клиента на факт погашения кредита в срок. Входные данные от банка — статистика о платёжеспособности клиентов.\n",
    "\n",
    "Результаты исследования будут учтены при построении модели **кредитного скоринга** — специальной системы, которая оценивает способность потенциального заёмщика вернуть кредит банку.\n",
    "\n",
    "**Цель исследования** - ответь на четыре вопроса:\n",
    "1. Есть ли зависимость между наличием детей и возвратом кредита в срок?\n",
    "2. Есть ли зависимость между семейным положением и возвратом кредита в срок?\n",
    "3. Есть ли зависимость между уровнем дохода и возвратом кредита в срок?\n",
    "4. Как разные цели кредита влияют на его возврат в срок?\n",
    "\n",
    "**Ход исследования**\n",
    "1. Обзор данных\n",
    "2. Предобработка данных\n",
    "3. Ответы на вопросы\n",
    "4. Общий вывод\n",
    "\n",
    "## 1. Обзор данных"
   ]
  },
  {
   "cell_type": "code",
   "execution_count": 1,
   "metadata": {},
   "outputs": [],
   "source": [
    "import pandas as pd\n",
    "from math import nan\n",
    "from pymystem3 import Mystem\n",
    "from collections import Counter\n",
    "\n",
    "import warnings\n",
    "warnings.filterwarnings(\"ignore\")"
   ]
  },
  {
   "cell_type": "code",
   "execution_count": 2,
   "metadata": {},
   "outputs": [
    {
     "name": "stdout",
     "output_type": "stream",
     "text": [
      "<class 'pandas.core.frame.DataFrame'>\n",
      "RangeIndex: 21525 entries, 0 to 21524\n",
      "Data columns (total 12 columns):\n",
      "children            21525 non-null int64\n",
      "days_employed       19351 non-null float64\n",
      "dob_years           21525 non-null int64\n",
      "education           21525 non-null object\n",
      "education_id        21525 non-null int64\n",
      "family_status       21525 non-null object\n",
      "family_status_id    21525 non-null int64\n",
      "gender              21525 non-null object\n",
      "income_type         21525 non-null object\n",
      "debt                21525 non-null int64\n",
      "total_income        19351 non-null float64\n",
      "purpose             21525 non-null object\n",
      "dtypes: float64(2), int64(5), object(5)\n",
      "memory usage: 2.0+ MB\n",
      "\n",
      "children: [ 1  0  3  2 -1  4 20  5] \n",
      "\n",
      "dob_years: [42 36 33 32 53 27 43 50 35 41 40 65 54 56 26 48 24 21 57 67 28 63 62 47\n",
      " 34 68 25 31 30 20 49 37 45 61 64 44 52 46 23 38 39 51  0 59 29 60 55 58\n",
      " 71 22 73 66 69 19 72 70 74 75] \n",
      "\n",
      "education: ['высшее' 'среднее' 'Среднее' 'СРЕДНЕЕ' 'ВЫСШЕЕ' 'неоконченное высшее'\n",
      " 'начальное' 'Высшее' 'НЕОКОНЧЕННОЕ ВЫСШЕЕ' 'Неоконченное высшее'\n",
      " 'НАЧАЛЬНОЕ' 'Начальное' 'Ученая степень' 'УЧЕНАЯ СТЕПЕНЬ'\n",
      " 'ученая степень'] \n",
      "\n",
      "education_id: [0 1 2 3 4] \n",
      "\n",
      "family_status: ['женат / замужем' 'гражданский брак' 'вдовец / вдова' 'в разводе'\n",
      " 'Не женат / не замужем'] \n",
      "\n",
      "family_status_id: [0 1 2 3 4] \n",
      "\n",
      "gender: ['F' 'M' 'XNA'] \n",
      "\n",
      "income_type: ['сотрудник' 'пенсионер' 'компаньон' 'госслужащий' 'безработный'\n",
      " 'предприниматель' 'студент' 'в декрете'] \n",
      "\n",
      "debt: [0 1] \n",
      "\n"
     ]
    },
    {
     "data": {
      "text/html": [
       "<div>\n",
       "<style scoped>\n",
       "    .dataframe tbody tr th:only-of-type {\n",
       "        vertical-align: middle;\n",
       "    }\n",
       "\n",
       "    .dataframe tbody tr th {\n",
       "        vertical-align: top;\n",
       "    }\n",
       "\n",
       "    .dataframe thead th {\n",
       "        text-align: right;\n",
       "    }\n",
       "</style>\n",
       "<table border=\"1\" class=\"dataframe\">\n",
       "  <thead>\n",
       "    <tr style=\"text-align: right;\">\n",
       "      <th></th>\n",
       "      <th>children</th>\n",
       "      <th>days_employed</th>\n",
       "      <th>dob_years</th>\n",
       "      <th>education</th>\n",
       "      <th>education_id</th>\n",
       "      <th>family_status</th>\n",
       "      <th>family_status_id</th>\n",
       "      <th>gender</th>\n",
       "      <th>income_type</th>\n",
       "      <th>debt</th>\n",
       "      <th>total_income</th>\n",
       "      <th>purpose</th>\n",
       "    </tr>\n",
       "  </thead>\n",
       "  <tbody>\n",
       "    <tr>\n",
       "      <td>0</td>\n",
       "      <td>1</td>\n",
       "      <td>-8437.673028</td>\n",
       "      <td>42</td>\n",
       "      <td>высшее</td>\n",
       "      <td>0</td>\n",
       "      <td>женат / замужем</td>\n",
       "      <td>0</td>\n",
       "      <td>F</td>\n",
       "      <td>сотрудник</td>\n",
       "      <td>0</td>\n",
       "      <td>253875.639453</td>\n",
       "      <td>покупка жилья</td>\n",
       "    </tr>\n",
       "    <tr>\n",
       "      <td>1</td>\n",
       "      <td>1</td>\n",
       "      <td>-4024.803754</td>\n",
       "      <td>36</td>\n",
       "      <td>среднее</td>\n",
       "      <td>1</td>\n",
       "      <td>женат / замужем</td>\n",
       "      <td>0</td>\n",
       "      <td>F</td>\n",
       "      <td>сотрудник</td>\n",
       "      <td>0</td>\n",
       "      <td>112080.014102</td>\n",
       "      <td>приобретение автомобиля</td>\n",
       "    </tr>\n",
       "    <tr>\n",
       "      <td>2</td>\n",
       "      <td>0</td>\n",
       "      <td>-5623.422610</td>\n",
       "      <td>33</td>\n",
       "      <td>Среднее</td>\n",
       "      <td>1</td>\n",
       "      <td>женат / замужем</td>\n",
       "      <td>0</td>\n",
       "      <td>M</td>\n",
       "      <td>сотрудник</td>\n",
       "      <td>0</td>\n",
       "      <td>145885.952297</td>\n",
       "      <td>покупка жилья</td>\n",
       "    </tr>\n",
       "    <tr>\n",
       "      <td>3</td>\n",
       "      <td>3</td>\n",
       "      <td>-4124.747207</td>\n",
       "      <td>32</td>\n",
       "      <td>среднее</td>\n",
       "      <td>1</td>\n",
       "      <td>женат / замужем</td>\n",
       "      <td>0</td>\n",
       "      <td>M</td>\n",
       "      <td>сотрудник</td>\n",
       "      <td>0</td>\n",
       "      <td>267628.550329</td>\n",
       "      <td>дополнительное образование</td>\n",
       "    </tr>\n",
       "    <tr>\n",
       "      <td>4</td>\n",
       "      <td>0</td>\n",
       "      <td>340266.072047</td>\n",
       "      <td>53</td>\n",
       "      <td>среднее</td>\n",
       "      <td>1</td>\n",
       "      <td>гражданский брак</td>\n",
       "      <td>1</td>\n",
       "      <td>F</td>\n",
       "      <td>пенсионер</td>\n",
       "      <td>0</td>\n",
       "      <td>158616.077870</td>\n",
       "      <td>сыграть свадьбу</td>\n",
       "    </tr>\n",
       "  </tbody>\n",
       "</table>\n",
       "</div>"
      ],
      "text/plain": [
       "   children  days_employed  dob_years education  education_id  \\\n",
       "0         1   -8437.673028         42    высшее             0   \n",
       "1         1   -4024.803754         36   среднее             1   \n",
       "2         0   -5623.422610         33   Среднее             1   \n",
       "3         3   -4124.747207         32   среднее             1   \n",
       "4         0  340266.072047         53   среднее             1   \n",
       "\n",
       "      family_status  family_status_id gender income_type  debt   total_income  \\\n",
       "0   женат / замужем                 0      F   сотрудник     0  253875.639453   \n",
       "1   женат / замужем                 0      F   сотрудник     0  112080.014102   \n",
       "2   женат / замужем                 0      M   сотрудник     0  145885.952297   \n",
       "3   женат / замужем                 0      M   сотрудник     0  267628.550329   \n",
       "4  гражданский брак                 1      F   пенсионер     0  158616.077870   \n",
       "\n",
       "                      purpose  \n",
       "0               покупка жилья  \n",
       "1     приобретение автомобиля  \n",
       "2               покупка жилья  \n",
       "3  дополнительное образование  \n",
       "4             сыграть свадьбу  "
      ]
     },
     "metadata": {},
     "output_type": "display_data"
    },
    {
     "data": {
      "text/html": [
       "<div>\n",
       "<style scoped>\n",
       "    .dataframe tbody tr th:only-of-type {\n",
       "        vertical-align: middle;\n",
       "    }\n",
       "\n",
       "    .dataframe tbody tr th {\n",
       "        vertical-align: top;\n",
       "    }\n",
       "\n",
       "    .dataframe thead th {\n",
       "        text-align: right;\n",
       "    }\n",
       "</style>\n",
       "<table border=\"1\" class=\"dataframe\">\n",
       "  <thead>\n",
       "    <tr style=\"text-align: right;\">\n",
       "      <th></th>\n",
       "      <th>children</th>\n",
       "      <th>days_employed</th>\n",
       "      <th>dob_years</th>\n",
       "      <th>education</th>\n",
       "      <th>education_id</th>\n",
       "      <th>family_status</th>\n",
       "      <th>family_status_id</th>\n",
       "      <th>gender</th>\n",
       "      <th>income_type</th>\n",
       "      <th>debt</th>\n",
       "      <th>total_income</th>\n",
       "      <th>purpose</th>\n",
       "    </tr>\n",
       "  </thead>\n",
       "  <tbody>\n",
       "    <tr>\n",
       "      <td>21520</td>\n",
       "      <td>1</td>\n",
       "      <td>-4529.316663</td>\n",
       "      <td>43</td>\n",
       "      <td>среднее</td>\n",
       "      <td>1</td>\n",
       "      <td>гражданский брак</td>\n",
       "      <td>1</td>\n",
       "      <td>F</td>\n",
       "      <td>компаньон</td>\n",
       "      <td>0</td>\n",
       "      <td>224791.862382</td>\n",
       "      <td>операции с жильем</td>\n",
       "    </tr>\n",
       "    <tr>\n",
       "      <td>21521</td>\n",
       "      <td>0</td>\n",
       "      <td>343937.404131</td>\n",
       "      <td>67</td>\n",
       "      <td>среднее</td>\n",
       "      <td>1</td>\n",
       "      <td>женат / замужем</td>\n",
       "      <td>0</td>\n",
       "      <td>F</td>\n",
       "      <td>пенсионер</td>\n",
       "      <td>0</td>\n",
       "      <td>155999.806512</td>\n",
       "      <td>сделка с автомобилем</td>\n",
       "    </tr>\n",
       "    <tr>\n",
       "      <td>21522</td>\n",
       "      <td>1</td>\n",
       "      <td>-2113.346888</td>\n",
       "      <td>38</td>\n",
       "      <td>среднее</td>\n",
       "      <td>1</td>\n",
       "      <td>гражданский брак</td>\n",
       "      <td>1</td>\n",
       "      <td>M</td>\n",
       "      <td>сотрудник</td>\n",
       "      <td>1</td>\n",
       "      <td>89672.561153</td>\n",
       "      <td>недвижимость</td>\n",
       "    </tr>\n",
       "    <tr>\n",
       "      <td>21523</td>\n",
       "      <td>3</td>\n",
       "      <td>-3112.481705</td>\n",
       "      <td>38</td>\n",
       "      <td>среднее</td>\n",
       "      <td>1</td>\n",
       "      <td>женат / замужем</td>\n",
       "      <td>0</td>\n",
       "      <td>M</td>\n",
       "      <td>сотрудник</td>\n",
       "      <td>1</td>\n",
       "      <td>244093.050500</td>\n",
       "      <td>на покупку своего автомобиля</td>\n",
       "    </tr>\n",
       "    <tr>\n",
       "      <td>21524</td>\n",
       "      <td>2</td>\n",
       "      <td>-1984.507589</td>\n",
       "      <td>40</td>\n",
       "      <td>среднее</td>\n",
       "      <td>1</td>\n",
       "      <td>женат / замужем</td>\n",
       "      <td>0</td>\n",
       "      <td>F</td>\n",
       "      <td>сотрудник</td>\n",
       "      <td>0</td>\n",
       "      <td>82047.418899</td>\n",
       "      <td>на покупку автомобиля</td>\n",
       "    </tr>\n",
       "  </tbody>\n",
       "</table>\n",
       "</div>"
      ],
      "text/plain": [
       "       children  days_employed  dob_years education  education_id  \\\n",
       "21520         1   -4529.316663         43   среднее             1   \n",
       "21521         0  343937.404131         67   среднее             1   \n",
       "21522         1   -2113.346888         38   среднее             1   \n",
       "21523         3   -3112.481705         38   среднее             1   \n",
       "21524         2   -1984.507589         40   среднее             1   \n",
       "\n",
       "          family_status  family_status_id gender income_type  debt  \\\n",
       "21520  гражданский брак                 1      F   компаньон     0   \n",
       "21521   женат / замужем                 0      F   пенсионер     0   \n",
       "21522  гражданский брак                 1      M   сотрудник     1   \n",
       "21523   женат / замужем                 0      M   сотрудник     1   \n",
       "21524   женат / замужем                 0      F   сотрудник     0   \n",
       "\n",
       "        total_income                       purpose  \n",
       "21520  224791.862382             операции с жильем  \n",
       "21521  155999.806512          сделка с автомобилем  \n",
       "21522   89672.561153                  недвижимость  \n",
       "21523  244093.050500  на покупку своего автомобиля  \n",
       "21524   82047.418899         на покупку автомобиля  "
      ]
     },
     "metadata": {},
     "output_type": "display_data"
    },
    {
     "data": {
      "text/html": [
       "<div>\n",
       "<style scoped>\n",
       "    .dataframe tbody tr th:only-of-type {\n",
       "        vertical-align: middle;\n",
       "    }\n",
       "\n",
       "    .dataframe tbody tr th {\n",
       "        vertical-align: top;\n",
       "    }\n",
       "\n",
       "    .dataframe thead th {\n",
       "        text-align: right;\n",
       "    }\n",
       "</style>\n",
       "<table border=\"1\" class=\"dataframe\">\n",
       "  <thead>\n",
       "    <tr style=\"text-align: right;\">\n",
       "      <th></th>\n",
       "      <th>children</th>\n",
       "      <th>days_employed</th>\n",
       "      <th>dob_years</th>\n",
       "      <th>education</th>\n",
       "      <th>education_id</th>\n",
       "      <th>family_status</th>\n",
       "      <th>family_status_id</th>\n",
       "      <th>gender</th>\n",
       "      <th>income_type</th>\n",
       "      <th>debt</th>\n",
       "      <th>total_income</th>\n",
       "      <th>purpose</th>\n",
       "    </tr>\n",
       "  </thead>\n",
       "  <tbody>\n",
       "    <tr>\n",
       "      <td>423</td>\n",
       "      <td>0</td>\n",
       "      <td>-191.167760</td>\n",
       "      <td>56</td>\n",
       "      <td>среднее</td>\n",
       "      <td>1</td>\n",
       "      <td>женат / замужем</td>\n",
       "      <td>0</td>\n",
       "      <td>M</td>\n",
       "      <td>сотрудник</td>\n",
       "      <td>0</td>\n",
       "      <td>138653.748793</td>\n",
       "      <td>автомобили</td>\n",
       "    </tr>\n",
       "    <tr>\n",
       "      <td>3522</td>\n",
       "      <td>0</td>\n",
       "      <td>-2319.817259</td>\n",
       "      <td>58</td>\n",
       "      <td>среднее</td>\n",
       "      <td>1</td>\n",
       "      <td>Не женат / не замужем</td>\n",
       "      <td>4</td>\n",
       "      <td>F</td>\n",
       "      <td>сотрудник</td>\n",
       "      <td>0</td>\n",
       "      <td>123152.627177</td>\n",
       "      <td>покупка жилья</td>\n",
       "    </tr>\n",
       "    <tr>\n",
       "      <td>8760</td>\n",
       "      <td>1</td>\n",
       "      <td>-2990.578297</td>\n",
       "      <td>34</td>\n",
       "      <td>высшее</td>\n",
       "      <td>0</td>\n",
       "      <td>гражданский брак</td>\n",
       "      <td>1</td>\n",
       "      <td>M</td>\n",
       "      <td>компаньон</td>\n",
       "      <td>0</td>\n",
       "      <td>232380.737167</td>\n",
       "      <td>свадьба</td>\n",
       "    </tr>\n",
       "    <tr>\n",
       "      <td>20695</td>\n",
       "      <td>0</td>\n",
       "      <td>-926.209452</td>\n",
       "      <td>28</td>\n",
       "      <td>среднее</td>\n",
       "      <td>1</td>\n",
       "      <td>Не женат / не замужем</td>\n",
       "      <td>4</td>\n",
       "      <td>F</td>\n",
       "      <td>сотрудник</td>\n",
       "      <td>0</td>\n",
       "      <td>210617.086601</td>\n",
       "      <td>получение высшего образования</td>\n",
       "    </tr>\n",
       "    <tr>\n",
       "      <td>4351</td>\n",
       "      <td>0</td>\n",
       "      <td>-2524.302106</td>\n",
       "      <td>42</td>\n",
       "      <td>СРЕДНЕЕ</td>\n",
       "      <td>1</td>\n",
       "      <td>женат / замужем</td>\n",
       "      <td>0</td>\n",
       "      <td>F</td>\n",
       "      <td>сотрудник</td>\n",
       "      <td>0</td>\n",
       "      <td>78487.540219</td>\n",
       "      <td>сделка с автомобилем</td>\n",
       "    </tr>\n",
       "  </tbody>\n",
       "</table>\n",
       "</div>"
      ],
      "text/plain": [
       "       children  days_employed  dob_years education  education_id  \\\n",
       "423           0    -191.167760         56   среднее             1   \n",
       "3522          0   -2319.817259         58   среднее             1   \n",
       "8760          1   -2990.578297         34    высшее             0   \n",
       "20695         0    -926.209452         28   среднее             1   \n",
       "4351          0   -2524.302106         42   СРЕДНЕЕ             1   \n",
       "\n",
       "               family_status  family_status_id gender income_type  debt  \\\n",
       "423          женат / замужем                 0      M   сотрудник     0   \n",
       "3522   Не женат / не замужем                 4      F   сотрудник     0   \n",
       "8760        гражданский брак                 1      M   компаньон     0   \n",
       "20695  Не женат / не замужем                 4      F   сотрудник     0   \n",
       "4351         женат / замужем                 0      F   сотрудник     0   \n",
       "\n",
       "        total_income                        purpose  \n",
       "423    138653.748793                     автомобили  \n",
       "3522   123152.627177                  покупка жилья  \n",
       "8760   232380.737167                        свадьба  \n",
       "20695  210617.086601  получение высшего образования  \n",
       "4351    78487.540219           сделка с автомобилем  "
      ]
     },
     "metadata": {},
     "output_type": "display_data"
    }
   ],
   "source": [
    "data = pd.read_csv('/datasets/data.csv')\n",
    "data.info()\n",
    "print('\\nchildren:',data['children'].unique(),'\\n')\n",
    "print('dob_years:',data['dob_years'].unique(),'\\n')\n",
    "print('education:',data['education'].unique(),'\\n')\n",
    "print('education_id:',data['education_id'].unique(),'\\n')\n",
    "print('family_status:',data['family_status'].unique(),'\\n')\n",
    "print('family_status_id:',data['family_status_id'].unique(),'\\n')\n",
    "print('gender:',data['gender'].unique(),'\\n')\n",
    "print('income_type:',data['income_type'].unique(),'\\n')\n",
    "print('debt:',data['debt'].unique(),'\\n')\n",
    "#print('purpose:',data['purpose'].unique(),'\\n')\n",
    "display(data.head(5))\n",
    "display(data.tail(5))\n",
    "display(data.sample(5 , random_state = 42))"
   ]
  },
  {
   "cell_type": "code",
   "execution_count": 3,
   "metadata": {},
   "outputs": [
    {
     "data": {
      "text/html": [
       "<div>\n",
       "<style scoped>\n",
       "    .dataframe tbody tr th:only-of-type {\n",
       "        vertical-align: middle;\n",
       "    }\n",
       "\n",
       "    .dataframe tbody tr th {\n",
       "        vertical-align: top;\n",
       "    }\n",
       "\n",
       "    .dataframe thead th {\n",
       "        text-align: right;\n",
       "    }\n",
       "</style>\n",
       "<table border=\"1\" class=\"dataframe\">\n",
       "  <thead>\n",
       "    <tr style=\"text-align: right;\">\n",
       "      <th></th>\n",
       "      <th>count</th>\n",
       "      <th>mean</th>\n",
       "      <th>std</th>\n",
       "      <th>min</th>\n",
       "      <th>25%</th>\n",
       "      <th>50%</th>\n",
       "      <th>75%</th>\n",
       "      <th>max</th>\n",
       "    </tr>\n",
       "  </thead>\n",
       "  <tbody>\n",
       "    <tr>\n",
       "      <td>children</td>\n",
       "      <td>21525.0</td>\n",
       "      <td>0.538908</td>\n",
       "      <td>1.381587</td>\n",
       "      <td>-1.000000</td>\n",
       "      <td>0.000000</td>\n",
       "      <td>0.000000</td>\n",
       "      <td>1.000000</td>\n",
       "      <td>2.000000e+01</td>\n",
       "    </tr>\n",
       "    <tr>\n",
       "      <td>days_employed</td>\n",
       "      <td>19351.0</td>\n",
       "      <td>63046.497661</td>\n",
       "      <td>140827.311974</td>\n",
       "      <td>-18388.949901</td>\n",
       "      <td>-2747.423625</td>\n",
       "      <td>-1203.369529</td>\n",
       "      <td>-291.095954</td>\n",
       "      <td>4.017554e+05</td>\n",
       "    </tr>\n",
       "    <tr>\n",
       "      <td>dob_years</td>\n",
       "      <td>21525.0</td>\n",
       "      <td>43.293380</td>\n",
       "      <td>12.574584</td>\n",
       "      <td>0.000000</td>\n",
       "      <td>33.000000</td>\n",
       "      <td>42.000000</td>\n",
       "      <td>53.000000</td>\n",
       "      <td>7.500000e+01</td>\n",
       "    </tr>\n",
       "    <tr>\n",
       "      <td>education_id</td>\n",
       "      <td>21525.0</td>\n",
       "      <td>0.817236</td>\n",
       "      <td>0.548138</td>\n",
       "      <td>0.000000</td>\n",
       "      <td>1.000000</td>\n",
       "      <td>1.000000</td>\n",
       "      <td>1.000000</td>\n",
       "      <td>4.000000e+00</td>\n",
       "    </tr>\n",
       "    <tr>\n",
       "      <td>family_status_id</td>\n",
       "      <td>21525.0</td>\n",
       "      <td>0.972544</td>\n",
       "      <td>1.420324</td>\n",
       "      <td>0.000000</td>\n",
       "      <td>0.000000</td>\n",
       "      <td>0.000000</td>\n",
       "      <td>1.000000</td>\n",
       "      <td>4.000000e+00</td>\n",
       "    </tr>\n",
       "    <tr>\n",
       "      <td>debt</td>\n",
       "      <td>21525.0</td>\n",
       "      <td>0.080883</td>\n",
       "      <td>0.272661</td>\n",
       "      <td>0.000000</td>\n",
       "      <td>0.000000</td>\n",
       "      <td>0.000000</td>\n",
       "      <td>0.000000</td>\n",
       "      <td>1.000000e+00</td>\n",
       "    </tr>\n",
       "    <tr>\n",
       "      <td>total_income</td>\n",
       "      <td>19351.0</td>\n",
       "      <td>167422.302208</td>\n",
       "      <td>102971.566448</td>\n",
       "      <td>20667.263793</td>\n",
       "      <td>103053.152913</td>\n",
       "      <td>145017.937533</td>\n",
       "      <td>203435.067663</td>\n",
       "      <td>2.265604e+06</td>\n",
       "    </tr>\n",
       "  </tbody>\n",
       "</table>\n",
       "</div>"
      ],
      "text/plain": [
       "                    count           mean            std           min  \\\n",
       "children          21525.0       0.538908       1.381587     -1.000000   \n",
       "days_employed     19351.0   63046.497661  140827.311974 -18388.949901   \n",
       "dob_years         21525.0      43.293380      12.574584      0.000000   \n",
       "education_id      21525.0       0.817236       0.548138      0.000000   \n",
       "family_status_id  21525.0       0.972544       1.420324      0.000000   \n",
       "debt              21525.0       0.080883       0.272661      0.000000   \n",
       "total_income      19351.0  167422.302208  102971.566448  20667.263793   \n",
       "\n",
       "                            25%            50%            75%           max  \n",
       "children               0.000000       0.000000       1.000000  2.000000e+01  \n",
       "days_employed      -2747.423625   -1203.369529    -291.095954  4.017554e+05  \n",
       "dob_years             33.000000      42.000000      53.000000  7.500000e+01  \n",
       "education_id           1.000000       1.000000       1.000000  4.000000e+00  \n",
       "family_status_id       0.000000       0.000000       1.000000  4.000000e+00  \n",
       "debt                   0.000000       0.000000       0.000000  1.000000e+00  \n",
       "total_income      103053.152913  145017.937533  203435.067663  2.265604e+06  "
      ]
     },
     "execution_count": 3,
     "metadata": {},
     "output_type": "execute_result"
    }
   ],
   "source": [
    "data.describe().T"
   ]
  },
  {
   "cell_type": "markdown",
   "metadata": {},
   "source": [
    "**Вывод**\n",
    "\n",
    "Столбцы days_employed и total_income имеют пропуски, причем одинаковое количество.\n",
    "\n",
    "Столбец children иммет явные неккореткные значения '-1' и возможнные неккоректные значения '20'(если таких значений мало в идеале одно, это может быть правдой но если их много то это явно ошибка).\n",
    "\n",
    "Столбец days_employed содержит данные о общем стаже работы клиентов, соответственно наличие в нем отрицательных значений является неккоректным.\n",
    "\n",
    "Столбец dob_years имеет неккоректные значения '0'.\n",
    "\n",
    "Столбец education имеет записи одних и тех же категорий в разном регистре.\n",
    "\n",
    "В столбце family_status одна категория выбивается из общего стиля нижнего регистра.\n",
    "\n",
    "В столбце gender имеются пропуски.\n",
    "\n",
    "Столбцы education и family_status имеют по сути дублирущие столбцы с id возможно создается избыточность(хотя и без расшифровки разумеется id не информативны).\n",
    "\n",
    "## Предобработка данных\n",
    "\n",
    "### Обработка пропусков\n",
    "\n",
    "Мы имеем пропуски в трех столбцах, в столбце gender они неявные(заполнены значениями 'XNA') и для ответа на вопросы нам этот столбец не нужен, по этому он останется как есть. Столбцы days_employed и total_income количественные переменные, соответственно, их можно заполнить характерными для выборок значениями. Но, во-первых, количество пропусков одинаковое, возможно есть какая-то корреляция с другими признаками. Во-вторых, в столбце days_employed, есть отрицательные значения."
   ]
  },
  {
   "cell_type": "code",
   "execution_count": 4,
   "metadata": {},
   "outputs": [
    {
     "data": {
      "text/html": [
       "<div>\n",
       "<style scoped>\n",
       "    .dataframe tbody tr th:only-of-type {\n",
       "        vertical-align: middle;\n",
       "    }\n",
       "\n",
       "    .dataframe tbody tr th {\n",
       "        vertical-align: top;\n",
       "    }\n",
       "\n",
       "    .dataframe thead th {\n",
       "        text-align: right;\n",
       "    }\n",
       "</style>\n",
       "<table border=\"1\" class=\"dataframe\">\n",
       "  <thead>\n",
       "    <tr style=\"text-align: right;\">\n",
       "      <th></th>\n",
       "      <th>children</th>\n",
       "      <th>days_employed</th>\n",
       "      <th>dob_years</th>\n",
       "      <th>education</th>\n",
       "      <th>education_id</th>\n",
       "      <th>family_status</th>\n",
       "      <th>family_status_id</th>\n",
       "      <th>gender</th>\n",
       "      <th>income_type</th>\n",
       "      <th>debt</th>\n",
       "      <th>total_income</th>\n",
       "      <th>purpose</th>\n",
       "    </tr>\n",
       "  </thead>\n",
       "  <tbody>\n",
       "    <tr>\n",
       "      <td>12</td>\n",
       "      <td>0</td>\n",
       "      <td>NaN</td>\n",
       "      <td>65</td>\n",
       "      <td>среднее</td>\n",
       "      <td>1</td>\n",
       "      <td>гражданский брак</td>\n",
       "      <td>1</td>\n",
       "      <td>M</td>\n",
       "      <td>пенсионер</td>\n",
       "      <td>0</td>\n",
       "      <td>NaN</td>\n",
       "      <td>сыграть свадьбу</td>\n",
       "    </tr>\n",
       "    <tr>\n",
       "      <td>26</td>\n",
       "      <td>0</td>\n",
       "      <td>NaN</td>\n",
       "      <td>41</td>\n",
       "      <td>среднее</td>\n",
       "      <td>1</td>\n",
       "      <td>женат / замужем</td>\n",
       "      <td>0</td>\n",
       "      <td>M</td>\n",
       "      <td>госслужащий</td>\n",
       "      <td>0</td>\n",
       "      <td>NaN</td>\n",
       "      <td>образование</td>\n",
       "    </tr>\n",
       "    <tr>\n",
       "      <td>29</td>\n",
       "      <td>0</td>\n",
       "      <td>NaN</td>\n",
       "      <td>63</td>\n",
       "      <td>среднее</td>\n",
       "      <td>1</td>\n",
       "      <td>Не женат / не замужем</td>\n",
       "      <td>4</td>\n",
       "      <td>F</td>\n",
       "      <td>пенсионер</td>\n",
       "      <td>0</td>\n",
       "      <td>NaN</td>\n",
       "      <td>строительство жилой недвижимости</td>\n",
       "    </tr>\n",
       "    <tr>\n",
       "      <td>41</td>\n",
       "      <td>0</td>\n",
       "      <td>NaN</td>\n",
       "      <td>50</td>\n",
       "      <td>среднее</td>\n",
       "      <td>1</td>\n",
       "      <td>женат / замужем</td>\n",
       "      <td>0</td>\n",
       "      <td>F</td>\n",
       "      <td>госслужащий</td>\n",
       "      <td>0</td>\n",
       "      <td>NaN</td>\n",
       "      <td>сделка с подержанным автомобилем</td>\n",
       "    </tr>\n",
       "    <tr>\n",
       "      <td>55</td>\n",
       "      <td>0</td>\n",
       "      <td>NaN</td>\n",
       "      <td>54</td>\n",
       "      <td>среднее</td>\n",
       "      <td>1</td>\n",
       "      <td>гражданский брак</td>\n",
       "      <td>1</td>\n",
       "      <td>F</td>\n",
       "      <td>пенсионер</td>\n",
       "      <td>1</td>\n",
       "      <td>NaN</td>\n",
       "      <td>сыграть свадьбу</td>\n",
       "    </tr>\n",
       "    <tr>\n",
       "      <td>...</td>\n",
       "      <td>...</td>\n",
       "      <td>...</td>\n",
       "      <td>...</td>\n",
       "      <td>...</td>\n",
       "      <td>...</td>\n",
       "      <td>...</td>\n",
       "      <td>...</td>\n",
       "      <td>...</td>\n",
       "      <td>...</td>\n",
       "      <td>...</td>\n",
       "      <td>...</td>\n",
       "      <td>...</td>\n",
       "    </tr>\n",
       "    <tr>\n",
       "      <td>21489</td>\n",
       "      <td>2</td>\n",
       "      <td>NaN</td>\n",
       "      <td>47</td>\n",
       "      <td>Среднее</td>\n",
       "      <td>1</td>\n",
       "      <td>женат / замужем</td>\n",
       "      <td>0</td>\n",
       "      <td>M</td>\n",
       "      <td>компаньон</td>\n",
       "      <td>0</td>\n",
       "      <td>NaN</td>\n",
       "      <td>сделка с автомобилем</td>\n",
       "    </tr>\n",
       "    <tr>\n",
       "      <td>21495</td>\n",
       "      <td>1</td>\n",
       "      <td>NaN</td>\n",
       "      <td>50</td>\n",
       "      <td>среднее</td>\n",
       "      <td>1</td>\n",
       "      <td>гражданский брак</td>\n",
       "      <td>1</td>\n",
       "      <td>F</td>\n",
       "      <td>сотрудник</td>\n",
       "      <td>0</td>\n",
       "      <td>NaN</td>\n",
       "      <td>свадьба</td>\n",
       "    </tr>\n",
       "    <tr>\n",
       "      <td>21497</td>\n",
       "      <td>0</td>\n",
       "      <td>NaN</td>\n",
       "      <td>48</td>\n",
       "      <td>ВЫСШЕЕ</td>\n",
       "      <td>0</td>\n",
       "      <td>женат / замужем</td>\n",
       "      <td>0</td>\n",
       "      <td>F</td>\n",
       "      <td>компаньон</td>\n",
       "      <td>0</td>\n",
       "      <td>NaN</td>\n",
       "      <td>строительство недвижимости</td>\n",
       "    </tr>\n",
       "    <tr>\n",
       "      <td>21502</td>\n",
       "      <td>1</td>\n",
       "      <td>NaN</td>\n",
       "      <td>42</td>\n",
       "      <td>среднее</td>\n",
       "      <td>1</td>\n",
       "      <td>женат / замужем</td>\n",
       "      <td>0</td>\n",
       "      <td>F</td>\n",
       "      <td>сотрудник</td>\n",
       "      <td>0</td>\n",
       "      <td>NaN</td>\n",
       "      <td>строительство жилой недвижимости</td>\n",
       "    </tr>\n",
       "    <tr>\n",
       "      <td>21510</td>\n",
       "      <td>2</td>\n",
       "      <td>NaN</td>\n",
       "      <td>28</td>\n",
       "      <td>среднее</td>\n",
       "      <td>1</td>\n",
       "      <td>женат / замужем</td>\n",
       "      <td>0</td>\n",
       "      <td>F</td>\n",
       "      <td>сотрудник</td>\n",
       "      <td>0</td>\n",
       "      <td>NaN</td>\n",
       "      <td>приобретение автомобиля</td>\n",
       "    </tr>\n",
       "  </tbody>\n",
       "</table>\n",
       "<p>2174 rows × 12 columns</p>\n",
       "</div>"
      ],
      "text/plain": [
       "       children  days_employed  dob_years education  education_id  \\\n",
       "12            0            NaN         65   среднее             1   \n",
       "26            0            NaN         41   среднее             1   \n",
       "29            0            NaN         63   среднее             1   \n",
       "41            0            NaN         50   среднее             1   \n",
       "55            0            NaN         54   среднее             1   \n",
       "...         ...            ...        ...       ...           ...   \n",
       "21489         2            NaN         47   Среднее             1   \n",
       "21495         1            NaN         50   среднее             1   \n",
       "21497         0            NaN         48    ВЫСШЕЕ             0   \n",
       "21502         1            NaN         42   среднее             1   \n",
       "21510         2            NaN         28   среднее             1   \n",
       "\n",
       "               family_status  family_status_id gender  income_type  debt  \\\n",
       "12          гражданский брак                 1      M    пенсионер     0   \n",
       "26           женат / замужем                 0      M  госслужащий     0   \n",
       "29     Не женат / не замужем                 4      F    пенсионер     0   \n",
       "41           женат / замужем                 0      F  госслужащий     0   \n",
       "55          гражданский брак                 1      F    пенсионер     1   \n",
       "...                      ...               ...    ...          ...   ...   \n",
       "21489        женат / замужем                 0      M    компаньон     0   \n",
       "21495       гражданский брак                 1      F    сотрудник     0   \n",
       "21497        женат / замужем                 0      F    компаньон     0   \n",
       "21502        женат / замужем                 0      F    сотрудник     0   \n",
       "21510        женат / замужем                 0      F    сотрудник     0   \n",
       "\n",
       "       total_income                           purpose  \n",
       "12              NaN                   сыграть свадьбу  \n",
       "26              NaN                       образование  \n",
       "29              NaN  строительство жилой недвижимости  \n",
       "41              NaN  сделка с подержанным автомобилем  \n",
       "55              NaN                   сыграть свадьбу  \n",
       "...             ...                               ...  \n",
       "21489           NaN              сделка с автомобилем  \n",
       "21495           NaN                           свадьба  \n",
       "21497           NaN        строительство недвижимости  \n",
       "21502           NaN  строительство жилой недвижимости  \n",
       "21510           NaN           приобретение автомобиля  \n",
       "\n",
       "[2174 rows x 12 columns]"
      ]
     },
     "metadata": {},
     "output_type": "display_data"
    }
   ],
   "source": [
    "display(data[data['days_employed'].isna() == True])# явной зависимости от признаков не обнаруженно"
   ]
  },
  {
   "cell_type": "code",
   "execution_count": 5,
   "metadata": {},
   "outputs": [
    {
     "name": "stdout",
     "output_type": "stream",
     "text": [
      "0\n"
     ]
    },
    {
     "data": {
      "text/html": [
       "<div>\n",
       "<style scoped>\n",
       "    .dataframe tbody tr th:only-of-type {\n",
       "        vertical-align: middle;\n",
       "    }\n",
       "\n",
       "    .dataframe tbody tr th {\n",
       "        vertical-align: top;\n",
       "    }\n",
       "\n",
       "    .dataframe thead th {\n",
       "        text-align: right;\n",
       "    }\n",
       "</style>\n",
       "<table border=\"1\" class=\"dataframe\">\n",
       "  <thead>\n",
       "    <tr style=\"text-align: right;\">\n",
       "      <th></th>\n",
       "      <th>children</th>\n",
       "      <th>days_employed</th>\n",
       "      <th>dob_years</th>\n",
       "      <th>education</th>\n",
       "      <th>education_id</th>\n",
       "      <th>family_status</th>\n",
       "      <th>family_status_id</th>\n",
       "      <th>gender</th>\n",
       "      <th>income_type</th>\n",
       "      <th>debt</th>\n",
       "      <th>total_income</th>\n",
       "      <th>purpose</th>\n",
       "    </tr>\n",
       "  </thead>\n",
       "  <tbody>\n",
       "    <tr>\n",
       "      <td>0</td>\n",
       "      <td>1</td>\n",
       "      <td>-8437.673028</td>\n",
       "      <td>42</td>\n",
       "      <td>высшее</td>\n",
       "      <td>0</td>\n",
       "      <td>женат / замужем</td>\n",
       "      <td>0</td>\n",
       "      <td>F</td>\n",
       "      <td>сотрудник</td>\n",
       "      <td>0</td>\n",
       "      <td>253875.639453</td>\n",
       "      <td>покупка жилья</td>\n",
       "    </tr>\n",
       "    <tr>\n",
       "      <td>1</td>\n",
       "      <td>1</td>\n",
       "      <td>-4024.803754</td>\n",
       "      <td>36</td>\n",
       "      <td>среднее</td>\n",
       "      <td>1</td>\n",
       "      <td>женат / замужем</td>\n",
       "      <td>0</td>\n",
       "      <td>F</td>\n",
       "      <td>сотрудник</td>\n",
       "      <td>0</td>\n",
       "      <td>112080.014102</td>\n",
       "      <td>приобретение автомобиля</td>\n",
       "    </tr>\n",
       "    <tr>\n",
       "      <td>2</td>\n",
       "      <td>0</td>\n",
       "      <td>-5623.422610</td>\n",
       "      <td>33</td>\n",
       "      <td>Среднее</td>\n",
       "      <td>1</td>\n",
       "      <td>женат / замужем</td>\n",
       "      <td>0</td>\n",
       "      <td>M</td>\n",
       "      <td>сотрудник</td>\n",
       "      <td>0</td>\n",
       "      <td>145885.952297</td>\n",
       "      <td>покупка жилья</td>\n",
       "    </tr>\n",
       "    <tr>\n",
       "      <td>3</td>\n",
       "      <td>3</td>\n",
       "      <td>-4124.747207</td>\n",
       "      <td>32</td>\n",
       "      <td>среднее</td>\n",
       "      <td>1</td>\n",
       "      <td>женат / замужем</td>\n",
       "      <td>0</td>\n",
       "      <td>M</td>\n",
       "      <td>сотрудник</td>\n",
       "      <td>0</td>\n",
       "      <td>267628.550329</td>\n",
       "      <td>дополнительное образование</td>\n",
       "    </tr>\n",
       "    <tr>\n",
       "      <td>5</td>\n",
       "      <td>0</td>\n",
       "      <td>-926.185831</td>\n",
       "      <td>27</td>\n",
       "      <td>высшее</td>\n",
       "      <td>0</td>\n",
       "      <td>гражданский брак</td>\n",
       "      <td>1</td>\n",
       "      <td>M</td>\n",
       "      <td>компаньон</td>\n",
       "      <td>0</td>\n",
       "      <td>255763.565419</td>\n",
       "      <td>покупка жилья</td>\n",
       "    </tr>\n",
       "    <tr>\n",
       "      <td>...</td>\n",
       "      <td>...</td>\n",
       "      <td>...</td>\n",
       "      <td>...</td>\n",
       "      <td>...</td>\n",
       "      <td>...</td>\n",
       "      <td>...</td>\n",
       "      <td>...</td>\n",
       "      <td>...</td>\n",
       "      <td>...</td>\n",
       "      <td>...</td>\n",
       "      <td>...</td>\n",
       "      <td>...</td>\n",
       "    </tr>\n",
       "    <tr>\n",
       "      <td>21519</td>\n",
       "      <td>1</td>\n",
       "      <td>-2351.431934</td>\n",
       "      <td>37</td>\n",
       "      <td>ученая степень</td>\n",
       "      <td>4</td>\n",
       "      <td>в разводе</td>\n",
       "      <td>3</td>\n",
       "      <td>M</td>\n",
       "      <td>сотрудник</td>\n",
       "      <td>0</td>\n",
       "      <td>115949.039788</td>\n",
       "      <td>покупка коммерческой недвижимости</td>\n",
       "    </tr>\n",
       "    <tr>\n",
       "      <td>21520</td>\n",
       "      <td>1</td>\n",
       "      <td>-4529.316663</td>\n",
       "      <td>43</td>\n",
       "      <td>среднее</td>\n",
       "      <td>1</td>\n",
       "      <td>гражданский брак</td>\n",
       "      <td>1</td>\n",
       "      <td>F</td>\n",
       "      <td>компаньон</td>\n",
       "      <td>0</td>\n",
       "      <td>224791.862382</td>\n",
       "      <td>операции с жильем</td>\n",
       "    </tr>\n",
       "    <tr>\n",
       "      <td>21522</td>\n",
       "      <td>1</td>\n",
       "      <td>-2113.346888</td>\n",
       "      <td>38</td>\n",
       "      <td>среднее</td>\n",
       "      <td>1</td>\n",
       "      <td>гражданский брак</td>\n",
       "      <td>1</td>\n",
       "      <td>M</td>\n",
       "      <td>сотрудник</td>\n",
       "      <td>1</td>\n",
       "      <td>89672.561153</td>\n",
       "      <td>недвижимость</td>\n",
       "    </tr>\n",
       "    <tr>\n",
       "      <td>21523</td>\n",
       "      <td>3</td>\n",
       "      <td>-3112.481705</td>\n",
       "      <td>38</td>\n",
       "      <td>среднее</td>\n",
       "      <td>1</td>\n",
       "      <td>женат / замужем</td>\n",
       "      <td>0</td>\n",
       "      <td>M</td>\n",
       "      <td>сотрудник</td>\n",
       "      <td>1</td>\n",
       "      <td>244093.050500</td>\n",
       "      <td>на покупку своего автомобиля</td>\n",
       "    </tr>\n",
       "    <tr>\n",
       "      <td>21524</td>\n",
       "      <td>2</td>\n",
       "      <td>-1984.507589</td>\n",
       "      <td>40</td>\n",
       "      <td>среднее</td>\n",
       "      <td>1</td>\n",
       "      <td>женат / замужем</td>\n",
       "      <td>0</td>\n",
       "      <td>F</td>\n",
       "      <td>сотрудник</td>\n",
       "      <td>0</td>\n",
       "      <td>82047.418899</td>\n",
       "      <td>на покупку автомобиля</td>\n",
       "    </tr>\n",
       "  </tbody>\n",
       "</table>\n",
       "<p>15906 rows × 12 columns</p>\n",
       "</div>"
      ],
      "text/plain": [
       "       children  days_employed  dob_years       education  education_id  \\\n",
       "0             1   -8437.673028         42          высшее             0   \n",
       "1             1   -4024.803754         36         среднее             1   \n",
       "2             0   -5623.422610         33         Среднее             1   \n",
       "3             3   -4124.747207         32         среднее             1   \n",
       "5             0    -926.185831         27          высшее             0   \n",
       "...         ...            ...        ...             ...           ...   \n",
       "21519         1   -2351.431934         37  ученая степень             4   \n",
       "21520         1   -4529.316663         43         среднее             1   \n",
       "21522         1   -2113.346888         38         среднее             1   \n",
       "21523         3   -3112.481705         38         среднее             1   \n",
       "21524         2   -1984.507589         40         среднее             1   \n",
       "\n",
       "          family_status  family_status_id gender income_type  debt  \\\n",
       "0       женат / замужем                 0      F   сотрудник     0   \n",
       "1       женат / замужем                 0      F   сотрудник     0   \n",
       "2       женат / замужем                 0      M   сотрудник     0   \n",
       "3       женат / замужем                 0      M   сотрудник     0   \n",
       "5      гражданский брак                 1      M   компаньон     0   \n",
       "...                 ...               ...    ...         ...   ...   \n",
       "21519         в разводе                 3      M   сотрудник     0   \n",
       "21520  гражданский брак                 1      F   компаньон     0   \n",
       "21522  гражданский брак                 1      M   сотрудник     1   \n",
       "21523   женат / замужем                 0      M   сотрудник     1   \n",
       "21524   женат / замужем                 0      F   сотрудник     0   \n",
       "\n",
       "        total_income                            purpose  \n",
       "0      253875.639453                      покупка жилья  \n",
       "1      112080.014102            приобретение автомобиля  \n",
       "2      145885.952297                      покупка жилья  \n",
       "3      267628.550329         дополнительное образование  \n",
       "5      255763.565419                      покупка жилья  \n",
       "...              ...                                ...  \n",
       "21519  115949.039788  покупка коммерческой недвижимости  \n",
       "21520  224791.862382                  операции с жильем  \n",
       "21522   89672.561153                       недвижимость  \n",
       "21523  244093.050500       на покупку своего автомобиля  \n",
       "21524   82047.418899              на покупку автомобиля  \n",
       "\n",
       "[15906 rows x 12 columns]"
      ]
     },
     "metadata": {},
     "output_type": "display_data"
    }
   ],
   "source": [
    "print(data[data['days_employed'] == 0]['days_employed'].count()) #проверяем есть ли нули\n",
    "display(data[data['days_employed'] < 0])"
   ]
  },
  {
   "cell_type": "markdown",
   "metadata": {},
   "source": [
    "Отрицатльных значний не просто много, их большинство. На первый взгляд выделить какую то взаимосвязь с другими признами нельзя."
   ]
  },
  {
   "cell_type": "code",
   "execution_count": 6,
   "metadata": {},
   "outputs": [
    {
     "data": {
      "text/html": [
       "<div>\n",
       "<style scoped>\n",
       "    .dataframe tbody tr th:only-of-type {\n",
       "        vertical-align: middle;\n",
       "    }\n",
       "\n",
       "    .dataframe tbody tr th {\n",
       "        vertical-align: top;\n",
       "    }\n",
       "\n",
       "    .dataframe thead th {\n",
       "        text-align: right;\n",
       "    }\n",
       "</style>\n",
       "<table border=\"1\" class=\"dataframe\">\n",
       "  <thead>\n",
       "    <tr style=\"text-align: right;\">\n",
       "      <th></th>\n",
       "      <th>children</th>\n",
       "      <th>days_employed</th>\n",
       "      <th>dob_years</th>\n",
       "      <th>education</th>\n",
       "      <th>education_id</th>\n",
       "      <th>family_status</th>\n",
       "      <th>family_status_id</th>\n",
       "      <th>gender</th>\n",
       "      <th>income_type</th>\n",
       "      <th>debt</th>\n",
       "      <th>total_income</th>\n",
       "      <th>purpose</th>\n",
       "    </tr>\n",
       "  </thead>\n",
       "  <tbody>\n",
       "    <tr>\n",
       "      <td>4</td>\n",
       "      <td>0</td>\n",
       "      <td>340266.072047</td>\n",
       "      <td>53</td>\n",
       "      <td>среднее</td>\n",
       "      <td>1</td>\n",
       "      <td>гражданский брак</td>\n",
       "      <td>1</td>\n",
       "      <td>F</td>\n",
       "      <td>пенсионер</td>\n",
       "      <td>0</td>\n",
       "      <td>158616.077870</td>\n",
       "      <td>сыграть свадьбу</td>\n",
       "    </tr>\n",
       "    <tr>\n",
       "      <td>18</td>\n",
       "      <td>0</td>\n",
       "      <td>400281.136913</td>\n",
       "      <td>53</td>\n",
       "      <td>среднее</td>\n",
       "      <td>1</td>\n",
       "      <td>вдовец / вдова</td>\n",
       "      <td>2</td>\n",
       "      <td>F</td>\n",
       "      <td>пенсионер</td>\n",
       "      <td>0</td>\n",
       "      <td>56823.777243</td>\n",
       "      <td>на покупку подержанного автомобиля</td>\n",
       "    </tr>\n",
       "    <tr>\n",
       "      <td>24</td>\n",
       "      <td>1</td>\n",
       "      <td>338551.952911</td>\n",
       "      <td>57</td>\n",
       "      <td>среднее</td>\n",
       "      <td>1</td>\n",
       "      <td>Не женат / не замужем</td>\n",
       "      <td>4</td>\n",
       "      <td>F</td>\n",
       "      <td>пенсионер</td>\n",
       "      <td>0</td>\n",
       "      <td>290547.235997</td>\n",
       "      <td>операции с коммерческой недвижимостью</td>\n",
       "    </tr>\n",
       "    <tr>\n",
       "      <td>25</td>\n",
       "      <td>0</td>\n",
       "      <td>363548.489348</td>\n",
       "      <td>67</td>\n",
       "      <td>среднее</td>\n",
       "      <td>1</td>\n",
       "      <td>женат / замужем</td>\n",
       "      <td>0</td>\n",
       "      <td>M</td>\n",
       "      <td>пенсионер</td>\n",
       "      <td>0</td>\n",
       "      <td>55112.757732</td>\n",
       "      <td>покупка недвижимости</td>\n",
       "    </tr>\n",
       "    <tr>\n",
       "      <td>30</td>\n",
       "      <td>1</td>\n",
       "      <td>335581.668515</td>\n",
       "      <td>62</td>\n",
       "      <td>среднее</td>\n",
       "      <td>1</td>\n",
       "      <td>женат / замужем</td>\n",
       "      <td>0</td>\n",
       "      <td>F</td>\n",
       "      <td>пенсионер</td>\n",
       "      <td>0</td>\n",
       "      <td>171456.067993</td>\n",
       "      <td>операции с коммерческой недвижимостью</td>\n",
       "    </tr>\n",
       "    <tr>\n",
       "      <td>...</td>\n",
       "      <td>...</td>\n",
       "      <td>...</td>\n",
       "      <td>...</td>\n",
       "      <td>...</td>\n",
       "      <td>...</td>\n",
       "      <td>...</td>\n",
       "      <td>...</td>\n",
       "      <td>...</td>\n",
       "      <td>...</td>\n",
       "      <td>...</td>\n",
       "      <td>...</td>\n",
       "      <td>...</td>\n",
       "    </tr>\n",
       "    <tr>\n",
       "      <td>21505</td>\n",
       "      <td>0</td>\n",
       "      <td>338904.866406</td>\n",
       "      <td>53</td>\n",
       "      <td>среднее</td>\n",
       "      <td>1</td>\n",
       "      <td>гражданский брак</td>\n",
       "      <td>1</td>\n",
       "      <td>M</td>\n",
       "      <td>пенсионер</td>\n",
       "      <td>0</td>\n",
       "      <td>75439.993167</td>\n",
       "      <td>сыграть свадьбу</td>\n",
       "    </tr>\n",
       "    <tr>\n",
       "      <td>21508</td>\n",
       "      <td>0</td>\n",
       "      <td>386497.714078</td>\n",
       "      <td>62</td>\n",
       "      <td>среднее</td>\n",
       "      <td>1</td>\n",
       "      <td>женат / замужем</td>\n",
       "      <td>0</td>\n",
       "      <td>M</td>\n",
       "      <td>пенсионер</td>\n",
       "      <td>0</td>\n",
       "      <td>72638.590915</td>\n",
       "      <td>недвижимость</td>\n",
       "    </tr>\n",
       "    <tr>\n",
       "      <td>21509</td>\n",
       "      <td>0</td>\n",
       "      <td>362161.054124</td>\n",
       "      <td>59</td>\n",
       "      <td>высшее</td>\n",
       "      <td>0</td>\n",
       "      <td>женат / замужем</td>\n",
       "      <td>0</td>\n",
       "      <td>M</td>\n",
       "      <td>пенсионер</td>\n",
       "      <td>0</td>\n",
       "      <td>73029.059379</td>\n",
       "      <td>операции с недвижимостью</td>\n",
       "    </tr>\n",
       "    <tr>\n",
       "      <td>21518</td>\n",
       "      <td>0</td>\n",
       "      <td>373995.710838</td>\n",
       "      <td>59</td>\n",
       "      <td>СРЕДНЕЕ</td>\n",
       "      <td>1</td>\n",
       "      <td>женат / замужем</td>\n",
       "      <td>0</td>\n",
       "      <td>F</td>\n",
       "      <td>пенсионер</td>\n",
       "      <td>0</td>\n",
       "      <td>153864.650328</td>\n",
       "      <td>сделка с автомобилем</td>\n",
       "    </tr>\n",
       "    <tr>\n",
       "      <td>21521</td>\n",
       "      <td>0</td>\n",
       "      <td>343937.404131</td>\n",
       "      <td>67</td>\n",
       "      <td>среднее</td>\n",
       "      <td>1</td>\n",
       "      <td>женат / замужем</td>\n",
       "      <td>0</td>\n",
       "      <td>F</td>\n",
       "      <td>пенсионер</td>\n",
       "      <td>0</td>\n",
       "      <td>155999.806512</td>\n",
       "      <td>сделка с автомобилем</td>\n",
       "    </tr>\n",
       "  </tbody>\n",
       "</table>\n",
       "<p>3445 rows × 12 columns</p>\n",
       "</div>"
      ],
      "text/plain": [
       "       children  days_employed  dob_years education  education_id  \\\n",
       "4             0  340266.072047         53   среднее             1   \n",
       "18            0  400281.136913         53   среднее             1   \n",
       "24            1  338551.952911         57   среднее             1   \n",
       "25            0  363548.489348         67   среднее             1   \n",
       "30            1  335581.668515         62   среднее             1   \n",
       "...         ...            ...        ...       ...           ...   \n",
       "21505         0  338904.866406         53   среднее             1   \n",
       "21508         0  386497.714078         62   среднее             1   \n",
       "21509         0  362161.054124         59    высшее             0   \n",
       "21518         0  373995.710838         59   СРЕДНЕЕ             1   \n",
       "21521         0  343937.404131         67   среднее             1   \n",
       "\n",
       "               family_status  family_status_id gender income_type  debt  \\\n",
       "4           гражданский брак                 1      F   пенсионер     0   \n",
       "18            вдовец / вдова                 2      F   пенсионер     0   \n",
       "24     Не женат / не замужем                 4      F   пенсионер     0   \n",
       "25           женат / замужем                 0      M   пенсионер     0   \n",
       "30           женат / замужем                 0      F   пенсионер     0   \n",
       "...                      ...               ...    ...         ...   ...   \n",
       "21505       гражданский брак                 1      M   пенсионер     0   \n",
       "21508        женат / замужем                 0      M   пенсионер     0   \n",
       "21509        женат / замужем                 0      M   пенсионер     0   \n",
       "21518        женат / замужем                 0      F   пенсионер     0   \n",
       "21521        женат / замужем                 0      F   пенсионер     0   \n",
       "\n",
       "        total_income                                purpose  \n",
       "4      158616.077870                        сыграть свадьбу  \n",
       "18      56823.777243     на покупку подержанного автомобиля  \n",
       "24     290547.235997  операции с коммерческой недвижимостью  \n",
       "25      55112.757732                   покупка недвижимости  \n",
       "30     171456.067993  операции с коммерческой недвижимостью  \n",
       "...              ...                                    ...  \n",
       "21505   75439.993167                        сыграть свадьбу  \n",
       "21508   72638.590915                           недвижимость  \n",
       "21509   73029.059379               операции с недвижимостью  \n",
       "21518  153864.650328                   сделка с автомобилем  \n",
       "21521  155999.806512                   сделка с автомобилем  \n",
       "\n",
       "[3445 rows x 12 columns]"
      ]
     },
     "metadata": {},
     "output_type": "display_data"
    },
    {
     "data": {
      "text/plain": [
       "array(['пенсионер', 'безработный'], dtype=object)"
      ]
     },
     "metadata": {},
     "output_type": "display_data"
    },
    {
     "data": {
      "text/html": [
       "<div>\n",
       "<style scoped>\n",
       "    .dataframe tbody tr th:only-of-type {\n",
       "        vertical-align: middle;\n",
       "    }\n",
       "\n",
       "    .dataframe tbody tr th {\n",
       "        vertical-align: top;\n",
       "    }\n",
       "\n",
       "    .dataframe thead th {\n",
       "        text-align: right;\n",
       "    }\n",
       "</style>\n",
       "<table border=\"1\" class=\"dataframe\">\n",
       "  <thead>\n",
       "    <tr style=\"text-align: right;\">\n",
       "      <th></th>\n",
       "      <th>children</th>\n",
       "      <th>days_employed</th>\n",
       "      <th>dob_years</th>\n",
       "      <th>education</th>\n",
       "      <th>education_id</th>\n",
       "      <th>family_status</th>\n",
       "      <th>family_status_id</th>\n",
       "      <th>gender</th>\n",
       "      <th>income_type</th>\n",
       "      <th>debt</th>\n",
       "      <th>total_income</th>\n",
       "      <th>purpose</th>\n",
       "    </tr>\n",
       "  </thead>\n",
       "  <tbody>\n",
       "    <tr>\n",
       "      <td>3133</td>\n",
       "      <td>1</td>\n",
       "      <td>337524.466835</td>\n",
       "      <td>31</td>\n",
       "      <td>среднее</td>\n",
       "      <td>1</td>\n",
       "      <td>женат / замужем</td>\n",
       "      <td>0</td>\n",
       "      <td>M</td>\n",
       "      <td>безработный</td>\n",
       "      <td>1</td>\n",
       "      <td>59956.991984</td>\n",
       "      <td>покупка жилья для сдачи</td>\n",
       "    </tr>\n",
       "    <tr>\n",
       "      <td>14798</td>\n",
       "      <td>0</td>\n",
       "      <td>395302.838654</td>\n",
       "      <td>45</td>\n",
       "      <td>Высшее</td>\n",
       "      <td>0</td>\n",
       "      <td>гражданский брак</td>\n",
       "      <td>1</td>\n",
       "      <td>F</td>\n",
       "      <td>безработный</td>\n",
       "      <td>0</td>\n",
       "      <td>202722.511368</td>\n",
       "      <td>ремонт жилью</td>\n",
       "    </tr>\n",
       "  </tbody>\n",
       "</table>\n",
       "</div>"
      ],
      "text/plain": [
       "       children  days_employed  dob_years education  education_id  \\\n",
       "3133          1  337524.466835         31   среднее             1   \n",
       "14798         0  395302.838654         45    Высшее             0   \n",
       "\n",
       "          family_status  family_status_id gender  income_type  debt  \\\n",
       "3133    женат / замужем                 0      M  безработный     1   \n",
       "14798  гражданский брак                 1      F  безработный     0   \n",
       "\n",
       "        total_income                  purpose  \n",
       "3133    59956.991984  покупка жилья для сдачи  \n",
       "14798  202722.511368             ремонт жилью  "
      ]
     },
     "metadata": {},
     "output_type": "display_data"
    },
    {
     "name": "stdout",
     "output_type": "stream",
     "text": [
      "\n",
      "Основные метрики стажа пенсионеров и безработных:\n",
      "\n",
      "Минимум:  328728.72060451825\n",
      "Среднее:  365004.3099162686\n",
      "Максимум: 401755.40047533 \n",
      "\n",
      "Минимальный стаж в годах(если указаны дни):  900.6266317932007\n",
      "Минимальный стаж в годах(если указаны часы): 37.526109658050025\n"
     ]
    }
   ],
   "source": [
    "display(data[data['days_employed'] > 0])\n",
    "display(data[data['days_employed'] > 0]['income_type'].unique())\n",
    "display(data[data['income_type'] == 'безработный'])\n",
    "\n",
    "print('\\nОсновные метрики стажа пенсионеров и безработных:\\n')\n",
    "print('Минимум: ',data[data['days_employed'] > 0]['days_employed'].min())\n",
    "print('Среднее: ',data[data['days_employed'] > 0]['days_employed'].mean())\n",
    "print('Максимум:',data[data['days_employed'] > 0]['days_employed'].max(),'\\n')\n",
    "\n",
    "print('Минимальный стаж в годах(если указаны дни): ',data[data['days_employed'] > 0]['days_employed'].min()/365)\n",
    "\n",
    "print('Минимальный стаж в годах(если указаны часы):',data[data['days_employed'] > 0]['days_employed'].min()/365/24)"
   ]
  },
  {
   "cell_type": "markdown",
   "metadata": {},
   "source": [
    "От сюда следует что положительные значения в наличии только у пенсионеров, и безработных(безработных всего двое, можно сказать просто пенсионерам), но отсюда вытекает еще одна проблема: положительные трудовые стажи явно не корректные, так как столбец показывает количество дней, то чтобы получить минимальный из данного списка стаж необходимо проработать более 900 лет, видимо были указаны часы а не дни."
   ]
  },
  {
   "cell_type": "code",
   "execution_count": 7,
   "metadata": {},
   "outputs": [
    {
     "name": "stdout",
     "output_type": "stream",
     "text": [
      "\n",
      "Основные метрики стажа пенсионеров и безработных после перевода часов в дни:\n",
      "\n",
      "Минимум:  13697.03002518826\n",
      "Среднее:  15208.51291317786\n",
      "Максимум: 16739.80835313875 \n",
      "\n",
      "\n",
      "Основные метрики стажа работающих:\n",
      "\n",
      "Минимум:  24.14163324048118\n",
      "Среднее:  2353.0159319988766\n",
      "Максимум: 18388.949900568383 \n",
      "\n"
     ]
    },
    {
     "data": {
      "text/html": [
       "<div>\n",
       "<style scoped>\n",
       "    .dataframe tbody tr th:only-of-type {\n",
       "        vertical-align: middle;\n",
       "    }\n",
       "\n",
       "    .dataframe tbody tr th {\n",
       "        vertical-align: top;\n",
       "    }\n",
       "\n",
       "    .dataframe thead th {\n",
       "        text-align: right;\n",
       "    }\n",
       "</style>\n",
       "<table border=\"1\" class=\"dataframe\">\n",
       "  <thead>\n",
       "    <tr style=\"text-align: right;\">\n",
       "      <th></th>\n",
       "      <th>children</th>\n",
       "      <th>days_employed</th>\n",
       "      <th>dob_years</th>\n",
       "      <th>education</th>\n",
       "      <th>education_id</th>\n",
       "      <th>family_status</th>\n",
       "      <th>family_status_id</th>\n",
       "      <th>gender</th>\n",
       "      <th>income_type</th>\n",
       "      <th>debt</th>\n",
       "      <th>total_income</th>\n",
       "      <th>purpose</th>\n",
       "    </tr>\n",
       "  </thead>\n",
       "  <tbody>\n",
       "    <tr>\n",
       "      <td>16335</td>\n",
       "      <td>1</td>\n",
       "      <td>-18388.949901</td>\n",
       "      <td>61</td>\n",
       "      <td>среднее</td>\n",
       "      <td>1</td>\n",
       "      <td>женат / замужем</td>\n",
       "      <td>0</td>\n",
       "      <td>F</td>\n",
       "      <td>сотрудник</td>\n",
       "      <td>0</td>\n",
       "      <td>186178.934089</td>\n",
       "      <td>операции с недвижимостью</td>\n",
       "    </tr>\n",
       "    <tr>\n",
       "      <td>4299</td>\n",
       "      <td>0</td>\n",
       "      <td>-17615.563266</td>\n",
       "      <td>61</td>\n",
       "      <td>среднее</td>\n",
       "      <td>1</td>\n",
       "      <td>женат / замужем</td>\n",
       "      <td>0</td>\n",
       "      <td>F</td>\n",
       "      <td>компаньон</td>\n",
       "      <td>0</td>\n",
       "      <td>122560.741753</td>\n",
       "      <td>покупка жилья</td>\n",
       "    </tr>\n",
       "    <tr>\n",
       "      <td>7329</td>\n",
       "      <td>0</td>\n",
       "      <td>-16593.472817</td>\n",
       "      <td>60</td>\n",
       "      <td>высшее</td>\n",
       "      <td>0</td>\n",
       "      <td>женат / замужем</td>\n",
       "      <td>0</td>\n",
       "      <td>F</td>\n",
       "      <td>сотрудник</td>\n",
       "      <td>0</td>\n",
       "      <td>124697.846781</td>\n",
       "      <td>заняться высшим образованием</td>\n",
       "    </tr>\n",
       "    <tr>\n",
       "      <td>17838</td>\n",
       "      <td>0</td>\n",
       "      <td>-16264.699501</td>\n",
       "      <td>59</td>\n",
       "      <td>среднее</td>\n",
       "      <td>1</td>\n",
       "      <td>женат / замужем</td>\n",
       "      <td>0</td>\n",
       "      <td>F</td>\n",
       "      <td>сотрудник</td>\n",
       "      <td>0</td>\n",
       "      <td>51238.967133</td>\n",
       "      <td>на покупку автомобиля</td>\n",
       "    </tr>\n",
       "    <tr>\n",
       "      <td>16825</td>\n",
       "      <td>0</td>\n",
       "      <td>-16119.687737</td>\n",
       "      <td>64</td>\n",
       "      <td>среднее</td>\n",
       "      <td>1</td>\n",
       "      <td>женат / замужем</td>\n",
       "      <td>0</td>\n",
       "      <td>F</td>\n",
       "      <td>сотрудник</td>\n",
       "      <td>0</td>\n",
       "      <td>91527.685995</td>\n",
       "      <td>покупка жилой недвижимости</td>\n",
       "    </tr>\n",
       "    <tr>\n",
       "      <td>3974</td>\n",
       "      <td>0</td>\n",
       "      <td>-15835.725775</td>\n",
       "      <td>64</td>\n",
       "      <td>среднее</td>\n",
       "      <td>1</td>\n",
       "      <td>гражданский брак</td>\n",
       "      <td>1</td>\n",
       "      <td>F</td>\n",
       "      <td>компаньон</td>\n",
       "      <td>0</td>\n",
       "      <td>96858.531436</td>\n",
       "      <td>сыграть свадьбу</td>\n",
       "    </tr>\n",
       "    <tr>\n",
       "      <td>1539</td>\n",
       "      <td>0</td>\n",
       "      <td>-15785.678893</td>\n",
       "      <td>59</td>\n",
       "      <td>высшее</td>\n",
       "      <td>0</td>\n",
       "      <td>Не женат / не замужем</td>\n",
       "      <td>4</td>\n",
       "      <td>F</td>\n",
       "      <td>сотрудник</td>\n",
       "      <td>0</td>\n",
       "      <td>119563.851852</td>\n",
       "      <td>операции с коммерческой недвижимостью</td>\n",
       "    </tr>\n",
       "    <tr>\n",
       "      <td>4321</td>\n",
       "      <td>0</td>\n",
       "      <td>-15773.061335</td>\n",
       "      <td>61</td>\n",
       "      <td>среднее</td>\n",
       "      <td>1</td>\n",
       "      <td>гражданский брак</td>\n",
       "      <td>1</td>\n",
       "      <td>F</td>\n",
       "      <td>сотрудник</td>\n",
       "      <td>0</td>\n",
       "      <td>205868.585780</td>\n",
       "      <td>свадьба</td>\n",
       "    </tr>\n",
       "    <tr>\n",
       "      <td>7731</td>\n",
       "      <td>0</td>\n",
       "      <td>-15618.063786</td>\n",
       "      <td>64</td>\n",
       "      <td>среднее</td>\n",
       "      <td>1</td>\n",
       "      <td>женат / замужем</td>\n",
       "      <td>0</td>\n",
       "      <td>F</td>\n",
       "      <td>компаньон</td>\n",
       "      <td>0</td>\n",
       "      <td>296525.358574</td>\n",
       "      <td>высшее образование</td>\n",
       "    </tr>\n",
       "    <tr>\n",
       "      <td>15675</td>\n",
       "      <td>0</td>\n",
       "      <td>-15410.040779</td>\n",
       "      <td>65</td>\n",
       "      <td>высшее</td>\n",
       "      <td>0</td>\n",
       "      <td>женат / замужем</td>\n",
       "      <td>0</td>\n",
       "      <td>F</td>\n",
       "      <td>сотрудник</td>\n",
       "      <td>0</td>\n",
       "      <td>188800.068859</td>\n",
       "      <td>покупка жилой недвижимости</td>\n",
       "    </tr>\n",
       "  </tbody>\n",
       "</table>\n",
       "</div>"
      ],
      "text/plain": [
       "       children  days_employed  dob_years education  education_id  \\\n",
       "16335         1  -18388.949901         61   среднее             1   \n",
       "4299          0  -17615.563266         61   среднее             1   \n",
       "7329          0  -16593.472817         60    высшее             0   \n",
       "17838         0  -16264.699501         59   среднее             1   \n",
       "16825         0  -16119.687737         64   среднее             1   \n",
       "3974          0  -15835.725775         64   среднее             1   \n",
       "1539          0  -15785.678893         59    высшее             0   \n",
       "4321          0  -15773.061335         61   среднее             1   \n",
       "7731          0  -15618.063786         64   среднее             1   \n",
       "15675         0  -15410.040779         65    высшее             0   \n",
       "\n",
       "               family_status  family_status_id gender income_type  debt  \\\n",
       "16335        женат / замужем                 0      F   сотрудник     0   \n",
       "4299         женат / замужем                 0      F   компаньон     0   \n",
       "7329         женат / замужем                 0      F   сотрудник     0   \n",
       "17838        женат / замужем                 0      F   сотрудник     0   \n",
       "16825        женат / замужем                 0      F   сотрудник     0   \n",
       "3974        гражданский брак                 1      F   компаньон     0   \n",
       "1539   Не женат / не замужем                 4      F   сотрудник     0   \n",
       "4321        гражданский брак                 1      F   сотрудник     0   \n",
       "7731         женат / замужем                 0      F   компаньон     0   \n",
       "15675        женат / замужем                 0      F   сотрудник     0   \n",
       "\n",
       "        total_income                                purpose  \n",
       "16335  186178.934089               операции с недвижимостью  \n",
       "4299   122560.741753                          покупка жилья  \n",
       "7329   124697.846781           заняться высшим образованием  \n",
       "17838   51238.967133                  на покупку автомобиля  \n",
       "16825   91527.685995             покупка жилой недвижимости  \n",
       "3974    96858.531436                        сыграть свадьбу  \n",
       "1539   119563.851852  операции с коммерческой недвижимостью  \n",
       "4321   205868.585780                                свадьба  \n",
       "7731   296525.358574                     высшее образование  \n",
       "15675  188800.068859             покупка жилой недвижимости  "
      ]
     },
     "metadata": {},
     "output_type": "display_data"
    },
    {
     "name": "stdout",
     "output_type": "stream",
     "text": [
      "10.619315340908543\n",
      "12.738182833896133\n",
      "14.538430637633375\n",
      "14.43917944962432\n",
      "19.83647195426324\n",
      "20.614449932022183\n",
      "15.751564675739715\n",
      "17.786133328975616\n",
      "21.210784147001107\n",
      "22.780710194258965\n",
      "14.171120047303809\n",
      "15.37525424262163\n",
      "13.687079264202318\n",
      "15.123151219060645\n",
      "27.594827577935902\n"
     ]
    }
   ],
   "source": [
    "print('\\nОсновные метрики стажа пенсионеров и безработных после перевода часов в дни:\\n')\n",
    "print('Минимум: ',data[data['days_employed'] > 0]['days_employed'].min()/24)\n",
    "print('Среднее: ',data[data['days_employed'] > 0]['days_employed'].mean()/24)\n",
    "print('Максимум:',data[data['days_employed'] > 0]['days_employed'].max()/24,'\\n')\n",
    "\n",
    "print('\\nОсновные метрики стажа работающих:\\n')\n",
    "print('Минимум: ',abs(data[data['days_employed'] < 0]['days_employed'].max()))\n",
    "print('Среднее: ',abs(data[data['days_employed'] < 0]['days_employed'].mean()))\n",
    "print('Максимум:',abs(data[data['days_employed'] < 0]['days_employed'].min()),'\\n')\n",
    "\n",
    "display(data[data['days_employed'] < 0].sort_values(['days_employed']).head(10))\n",
    "max_days_employed = data[data['days_employed'] < 0].sort_values(by = ['days_employed']).reset_index(drop=True)\n",
    "for value in range(15):\n",
    "    print(max_days_employed['days_employed'][value] / 365 + max_days_employed['dob_years'][value])"
   ]
  },
  {
   "cell_type": "markdown",
   "metadata": {},
   "source": [
    "Данные в целом в порядке, но если посмотреть на самые большие стажи, то можно увидеть клиентов которые начали работать минимум до достижения 11 лет, что возможно является ошибкой. Проведем преобразования."
   ]
  },
  {
   "cell_type": "code",
   "execution_count": 8,
   "metadata": {
    "scrolled": true
   },
   "outputs": [
    {
     "data": {
      "text/html": [
       "<div>\n",
       "<style scoped>\n",
       "    .dataframe tbody tr th:only-of-type {\n",
       "        vertical-align: middle;\n",
       "    }\n",
       "\n",
       "    .dataframe tbody tr th {\n",
       "        vertical-align: top;\n",
       "    }\n",
       "\n",
       "    .dataframe thead th {\n",
       "        text-align: right;\n",
       "    }\n",
       "</style>\n",
       "<table border=\"1\" class=\"dataframe\">\n",
       "  <thead>\n",
       "    <tr style=\"text-align: right;\">\n",
       "      <th></th>\n",
       "      <th>children</th>\n",
       "      <th>days_employed</th>\n",
       "      <th>dob_years</th>\n",
       "      <th>education</th>\n",
       "      <th>education_id</th>\n",
       "      <th>family_status</th>\n",
       "      <th>family_status_id</th>\n",
       "      <th>gender</th>\n",
       "      <th>income_type</th>\n",
       "      <th>debt</th>\n",
       "      <th>total_income</th>\n",
       "      <th>purpose</th>\n",
       "    </tr>\n",
       "  </thead>\n",
       "  <tbody>\n",
       "    <tr>\n",
       "      <td>0</td>\n",
       "      <td>1</td>\n",
       "      <td>-8437.673028</td>\n",
       "      <td>42</td>\n",
       "      <td>высшее</td>\n",
       "      <td>0</td>\n",
       "      <td>женат / замужем</td>\n",
       "      <td>0</td>\n",
       "      <td>F</td>\n",
       "      <td>сотрудник</td>\n",
       "      <td>0</td>\n",
       "      <td>253875.639453</td>\n",
       "      <td>покупка жилья</td>\n",
       "    </tr>\n",
       "    <tr>\n",
       "      <td>1</td>\n",
       "      <td>1</td>\n",
       "      <td>-4024.803754</td>\n",
       "      <td>36</td>\n",
       "      <td>среднее</td>\n",
       "      <td>1</td>\n",
       "      <td>женат / замужем</td>\n",
       "      <td>0</td>\n",
       "      <td>F</td>\n",
       "      <td>сотрудник</td>\n",
       "      <td>0</td>\n",
       "      <td>112080.014102</td>\n",
       "      <td>приобретение автомобиля</td>\n",
       "    </tr>\n",
       "    <tr>\n",
       "      <td>2</td>\n",
       "      <td>0</td>\n",
       "      <td>-5623.422610</td>\n",
       "      <td>33</td>\n",
       "      <td>Среднее</td>\n",
       "      <td>1</td>\n",
       "      <td>женат / замужем</td>\n",
       "      <td>0</td>\n",
       "      <td>M</td>\n",
       "      <td>сотрудник</td>\n",
       "      <td>0</td>\n",
       "      <td>145885.952297</td>\n",
       "      <td>покупка жилья</td>\n",
       "    </tr>\n",
       "    <tr>\n",
       "      <td>3</td>\n",
       "      <td>3</td>\n",
       "      <td>-4124.747207</td>\n",
       "      <td>32</td>\n",
       "      <td>среднее</td>\n",
       "      <td>1</td>\n",
       "      <td>женат / замужем</td>\n",
       "      <td>0</td>\n",
       "      <td>M</td>\n",
       "      <td>сотрудник</td>\n",
       "      <td>0</td>\n",
       "      <td>267628.550329</td>\n",
       "      <td>дополнительное образование</td>\n",
       "    </tr>\n",
       "    <tr>\n",
       "      <td>4</td>\n",
       "      <td>0</td>\n",
       "      <td>340266.072047</td>\n",
       "      <td>53</td>\n",
       "      <td>среднее</td>\n",
       "      <td>1</td>\n",
       "      <td>гражданский брак</td>\n",
       "      <td>1</td>\n",
       "      <td>F</td>\n",
       "      <td>пенсионер</td>\n",
       "      <td>0</td>\n",
       "      <td>158616.077870</td>\n",
       "      <td>сыграть свадьбу</td>\n",
       "    </tr>\n",
       "  </tbody>\n",
       "</table>\n",
       "</div>"
      ],
      "text/plain": [
       "   children  days_employed  dob_years education  education_id  \\\n",
       "0         1   -8437.673028         42    высшее             0   \n",
       "1         1   -4024.803754         36   среднее             1   \n",
       "2         0   -5623.422610         33   Среднее             1   \n",
       "3         3   -4124.747207         32   среднее             1   \n",
       "4         0  340266.072047         53   среднее             1   \n",
       "\n",
       "      family_status  family_status_id gender income_type  debt   total_income  \\\n",
       "0   женат / замужем                 0      F   сотрудник     0  253875.639453   \n",
       "1   женат / замужем                 0      F   сотрудник     0  112080.014102   \n",
       "2   женат / замужем                 0      M   сотрудник     0  145885.952297   \n",
       "3   женат / замужем                 0      M   сотрудник     0  267628.550329   \n",
       "4  гражданский брак                 1      F   пенсионер     0  158616.077870   \n",
       "\n",
       "                      purpose  \n",
       "0               покупка жилья  \n",
       "1     приобретение автомобиля  \n",
       "2               покупка жилья  \n",
       "3  дополнительное образование  \n",
       "4             сыграть свадьбу  "
      ]
     },
     "metadata": {},
     "output_type": "display_data"
    },
    {
     "data": {
      "text/html": [
       "<div>\n",
       "<style scoped>\n",
       "    .dataframe tbody tr th:only-of-type {\n",
       "        vertical-align: middle;\n",
       "    }\n",
       "\n",
       "    .dataframe tbody tr th {\n",
       "        vertical-align: top;\n",
       "    }\n",
       "\n",
       "    .dataframe thead th {\n",
       "        text-align: right;\n",
       "    }\n",
       "</style>\n",
       "<table border=\"1\" class=\"dataframe\">\n",
       "  <thead>\n",
       "    <tr style=\"text-align: right;\">\n",
       "      <th></th>\n",
       "      <th>children</th>\n",
       "      <th>days_employed</th>\n",
       "      <th>dob_years</th>\n",
       "      <th>education</th>\n",
       "      <th>education_id</th>\n",
       "      <th>family_status</th>\n",
       "      <th>family_status_id</th>\n",
       "      <th>gender</th>\n",
       "      <th>income_type</th>\n",
       "      <th>debt</th>\n",
       "      <th>total_income</th>\n",
       "      <th>purpose</th>\n",
       "    </tr>\n",
       "  </thead>\n",
       "  <tbody>\n",
       "    <tr>\n",
       "      <td>0</td>\n",
       "      <td>1</td>\n",
       "      <td>8437.673028</td>\n",
       "      <td>42</td>\n",
       "      <td>высшее</td>\n",
       "      <td>0</td>\n",
       "      <td>женат / замужем</td>\n",
       "      <td>0</td>\n",
       "      <td>F</td>\n",
       "      <td>сотрудник</td>\n",
       "      <td>0</td>\n",
       "      <td>253875.639453</td>\n",
       "      <td>покупка жилья</td>\n",
       "    </tr>\n",
       "    <tr>\n",
       "      <td>1</td>\n",
       "      <td>1</td>\n",
       "      <td>4024.803754</td>\n",
       "      <td>36</td>\n",
       "      <td>среднее</td>\n",
       "      <td>1</td>\n",
       "      <td>женат / замужем</td>\n",
       "      <td>0</td>\n",
       "      <td>F</td>\n",
       "      <td>сотрудник</td>\n",
       "      <td>0</td>\n",
       "      <td>112080.014102</td>\n",
       "      <td>приобретение автомобиля</td>\n",
       "    </tr>\n",
       "    <tr>\n",
       "      <td>2</td>\n",
       "      <td>0</td>\n",
       "      <td>5623.422610</td>\n",
       "      <td>33</td>\n",
       "      <td>Среднее</td>\n",
       "      <td>1</td>\n",
       "      <td>женат / замужем</td>\n",
       "      <td>0</td>\n",
       "      <td>M</td>\n",
       "      <td>сотрудник</td>\n",
       "      <td>0</td>\n",
       "      <td>145885.952297</td>\n",
       "      <td>покупка жилья</td>\n",
       "    </tr>\n",
       "    <tr>\n",
       "      <td>3</td>\n",
       "      <td>3</td>\n",
       "      <td>4124.747207</td>\n",
       "      <td>32</td>\n",
       "      <td>среднее</td>\n",
       "      <td>1</td>\n",
       "      <td>женат / замужем</td>\n",
       "      <td>0</td>\n",
       "      <td>M</td>\n",
       "      <td>сотрудник</td>\n",
       "      <td>0</td>\n",
       "      <td>267628.550329</td>\n",
       "      <td>дополнительное образование</td>\n",
       "    </tr>\n",
       "    <tr>\n",
       "      <td>4</td>\n",
       "      <td>0</td>\n",
       "      <td>14177.753002</td>\n",
       "      <td>53</td>\n",
       "      <td>среднее</td>\n",
       "      <td>1</td>\n",
       "      <td>гражданский брак</td>\n",
       "      <td>1</td>\n",
       "      <td>F</td>\n",
       "      <td>пенсионер</td>\n",
       "      <td>0</td>\n",
       "      <td>158616.077870</td>\n",
       "      <td>сыграть свадьбу</td>\n",
       "    </tr>\n",
       "  </tbody>\n",
       "</table>\n",
       "</div>"
      ],
      "text/plain": [
       "   children  days_employed  dob_years education  education_id  \\\n",
       "0         1    8437.673028         42    высшее             0   \n",
       "1         1    4024.803754         36   среднее             1   \n",
       "2         0    5623.422610         33   Среднее             1   \n",
       "3         3    4124.747207         32   среднее             1   \n",
       "4         0   14177.753002         53   среднее             1   \n",
       "\n",
       "      family_status  family_status_id gender income_type  debt   total_income  \\\n",
       "0   женат / замужем                 0      F   сотрудник     0  253875.639453   \n",
       "1   женат / замужем                 0      F   сотрудник     0  112080.014102   \n",
       "2   женат / замужем                 0      M   сотрудник     0  145885.952297   \n",
       "3   женат / замужем                 0      M   сотрудник     0  267628.550329   \n",
       "4  гражданский брак                 1      F   пенсионер     0  158616.077870   \n",
       "\n",
       "                      purpose  \n",
       "0               покупка жилья  \n",
       "1     приобретение автомобиля  \n",
       "2               покупка жилья  \n",
       "3  дополнительное образование  \n",
       "4             сыграть свадьбу  "
      ]
     },
     "metadata": {},
     "output_type": "display_data"
    }
   ],
   "source": [
    "display(data.head(5))\n",
    "\n",
    "for value in range(len(data)):\n",
    "    if data['days_employed'][value] > 0:\n",
    "        data['days_employed'][value] = data['days_employed'][value].copy() / 24\n",
    "    if data['days_employed'][value] < 0:\n",
    "        data['days_employed'][value] = abs(data['days_employed'][value])\n",
    "        \n",
    "display(data.head(5))"
   ]
  },
  {
   "cell_type": "code",
   "execution_count": 9,
   "metadata": {},
   "outputs": [
    {
     "name": "stdout",
     "output_type": "stream",
     "text": [
      "\n",
      "Основные метрики стажа пенсионеров и безработных:\n",
      "\n",
      "Минимум:  13697.03002518826\n",
      "Среднее:  15208.512913177861\n",
      "Максимум: 16739.80835313875 \n",
      "\n",
      "\n",
      "Основные метрики стажа работающих:\n",
      "\n",
      "Минимум:  24.14163324048118\n",
      "Среднее:  2353.015931998877\n",
      "Максимум: 18388.949900568383 \n",
      "\n",
      "\n",
      "Общие основные метрики стажа:\n",
      "\n",
      "Минимум:  24.14163324048118\n",
      "Среднее:  4641.641176180656\n",
      "Максимум: 18388.949900568383\n",
      "Медиана:  2194.220566878695 \n",
      "\n",
      "\n",
      "Основные метрики дохода:\n",
      "\n",
      "Минимум:  20667.26379327158\n",
      "Среднее:  167422.30220817294\n",
      "Максимум: 2265604.028722744\n",
      "Медиана:  145017.93753253992 \n",
      "\n"
     ]
    },
    {
     "data": {
      "text/html": [
       "<div>\n",
       "<style scoped>\n",
       "    .dataframe tbody tr th:only-of-type {\n",
       "        vertical-align: middle;\n",
       "    }\n",
       "\n",
       "    .dataframe tbody tr th {\n",
       "        vertical-align: top;\n",
       "    }\n",
       "\n",
       "    .dataframe thead th {\n",
       "        text-align: right;\n",
       "    }\n",
       "</style>\n",
       "<table border=\"1\" class=\"dataframe\">\n",
       "  <thead>\n",
       "    <tr style=\"text-align: right;\">\n",
       "      <th></th>\n",
       "      <th>children</th>\n",
       "      <th>days_employed</th>\n",
       "      <th>dob_years</th>\n",
       "      <th>education</th>\n",
       "      <th>education_id</th>\n",
       "      <th>family_status</th>\n",
       "      <th>family_status_id</th>\n",
       "      <th>gender</th>\n",
       "      <th>income_type</th>\n",
       "      <th>debt</th>\n",
       "      <th>total_income</th>\n",
       "      <th>purpose</th>\n",
       "    </tr>\n",
       "  </thead>\n",
       "  <tbody>\n",
       "    <tr>\n",
       "      <td>12412</td>\n",
       "      <td>0</td>\n",
       "      <td>1477.438114</td>\n",
       "      <td>44</td>\n",
       "      <td>высшее</td>\n",
       "      <td>0</td>\n",
       "      <td>женат / замужем</td>\n",
       "      <td>0</td>\n",
       "      <td>M</td>\n",
       "      <td>компаньон</td>\n",
       "      <td>0</td>\n",
       "      <td>2.265604e+06</td>\n",
       "      <td>ремонт жилью</td>\n",
       "    </tr>\n",
       "    <tr>\n",
       "      <td>19606</td>\n",
       "      <td>1</td>\n",
       "      <td>2577.664662</td>\n",
       "      <td>39</td>\n",
       "      <td>высшее</td>\n",
       "      <td>0</td>\n",
       "      <td>женат / замужем</td>\n",
       "      <td>0</td>\n",
       "      <td>M</td>\n",
       "      <td>компаньон</td>\n",
       "      <td>1</td>\n",
       "      <td>2.200852e+06</td>\n",
       "      <td>строительство недвижимости</td>\n",
       "    </tr>\n",
       "    <tr>\n",
       "      <td>9169</td>\n",
       "      <td>1</td>\n",
       "      <td>5248.554336</td>\n",
       "      <td>35</td>\n",
       "      <td>среднее</td>\n",
       "      <td>1</td>\n",
       "      <td>гражданский брак</td>\n",
       "      <td>1</td>\n",
       "      <td>M</td>\n",
       "      <td>сотрудник</td>\n",
       "      <td>0</td>\n",
       "      <td>1.726276e+06</td>\n",
       "      <td>дополнительное образование</td>\n",
       "    </tr>\n",
       "    <tr>\n",
       "      <td>20809</td>\n",
       "      <td>0</td>\n",
       "      <td>4719.273476</td>\n",
       "      <td>61</td>\n",
       "      <td>среднее</td>\n",
       "      <td>1</td>\n",
       "      <td>Не женат / не замужем</td>\n",
       "      <td>4</td>\n",
       "      <td>F</td>\n",
       "      <td>сотрудник</td>\n",
       "      <td>0</td>\n",
       "      <td>1.715018e+06</td>\n",
       "      <td>покупка жилья для семьи</td>\n",
       "    </tr>\n",
       "    <tr>\n",
       "      <td>17178</td>\n",
       "      <td>0</td>\n",
       "      <td>5734.127087</td>\n",
       "      <td>42</td>\n",
       "      <td>высшее</td>\n",
       "      <td>0</td>\n",
       "      <td>гражданский брак</td>\n",
       "      <td>1</td>\n",
       "      <td>M</td>\n",
       "      <td>компаньон</td>\n",
       "      <td>0</td>\n",
       "      <td>1.711309e+06</td>\n",
       "      <td>сыграть свадьбу</td>\n",
       "    </tr>\n",
       "    <tr>\n",
       "      <td>17503</td>\n",
       "      <td>0</td>\n",
       "      <td>2285.476482</td>\n",
       "      <td>43</td>\n",
       "      <td>среднее</td>\n",
       "      <td>1</td>\n",
       "      <td>женат / замужем</td>\n",
       "      <td>0</td>\n",
       "      <td>M</td>\n",
       "      <td>компаньон</td>\n",
       "      <td>0</td>\n",
       "      <td>1.597613e+06</td>\n",
       "      <td>операции с недвижимостью</td>\n",
       "    </tr>\n",
       "    <tr>\n",
       "      <td>18368</td>\n",
       "      <td>1</td>\n",
       "      <td>333.935516</td>\n",
       "      <td>41</td>\n",
       "      <td>ВЫСШЕЕ</td>\n",
       "      <td>0</td>\n",
       "      <td>гражданский брак</td>\n",
       "      <td>1</td>\n",
       "      <td>M</td>\n",
       "      <td>компаньон</td>\n",
       "      <td>0</td>\n",
       "      <td>1.551153e+06</td>\n",
       "      <td>свадьба</td>\n",
       "    </tr>\n",
       "    <tr>\n",
       "      <td>18353</td>\n",
       "      <td>1</td>\n",
       "      <td>3173.282035</td>\n",
       "      <td>41</td>\n",
       "      <td>высшее</td>\n",
       "      <td>0</td>\n",
       "      <td>Не женат / не замужем</td>\n",
       "      <td>4</td>\n",
       "      <td>F</td>\n",
       "      <td>компаньон</td>\n",
       "      <td>0</td>\n",
       "      <td>1.427934e+06</td>\n",
       "      <td>автомобиль</td>\n",
       "    </tr>\n",
       "    <tr>\n",
       "      <td>15268</td>\n",
       "      <td>1</td>\n",
       "      <td>10207.448165</td>\n",
       "      <td>64</td>\n",
       "      <td>высшее</td>\n",
       "      <td>0</td>\n",
       "      <td>в разводе</td>\n",
       "      <td>3</td>\n",
       "      <td>M</td>\n",
       "      <td>компаньон</td>\n",
       "      <td>0</td>\n",
       "      <td>1.350246e+06</td>\n",
       "      <td>жилье</td>\n",
       "    </tr>\n",
       "    <tr>\n",
       "      <td>11071</td>\n",
       "      <td>1</td>\n",
       "      <td>1851.200013</td>\n",
       "      <td>36</td>\n",
       "      <td>высшее</td>\n",
       "      <td>0</td>\n",
       "      <td>гражданский брак</td>\n",
       "      <td>1</td>\n",
       "      <td>F</td>\n",
       "      <td>сотрудник</td>\n",
       "      <td>0</td>\n",
       "      <td>1.286281e+06</td>\n",
       "      <td>покупка коммерческой недвижимости</td>\n",
       "    </tr>\n",
       "  </tbody>\n",
       "</table>\n",
       "</div>"
      ],
      "text/plain": [
       "       children  days_employed  dob_years education  education_id  \\\n",
       "12412         0    1477.438114         44    высшее             0   \n",
       "19606         1    2577.664662         39    высшее             0   \n",
       "9169          1    5248.554336         35   среднее             1   \n",
       "20809         0    4719.273476         61   среднее             1   \n",
       "17178         0    5734.127087         42    высшее             0   \n",
       "17503         0    2285.476482         43   среднее             1   \n",
       "18368         1     333.935516         41    ВЫСШЕЕ             0   \n",
       "18353         1    3173.282035         41    высшее             0   \n",
       "15268         1   10207.448165         64    высшее             0   \n",
       "11071         1    1851.200013         36    высшее             0   \n",
       "\n",
       "               family_status  family_status_id gender income_type  debt  \\\n",
       "12412        женат / замужем                 0      M   компаньон     0   \n",
       "19606        женат / замужем                 0      M   компаньон     1   \n",
       "9169        гражданский брак                 1      M   сотрудник     0   \n",
       "20809  Не женат / не замужем                 4      F   сотрудник     0   \n",
       "17178       гражданский брак                 1      M   компаньон     0   \n",
       "17503        женат / замужем                 0      M   компаньон     0   \n",
       "18368       гражданский брак                 1      M   компаньон     0   \n",
       "18353  Не женат / не замужем                 4      F   компаньон     0   \n",
       "15268              в разводе                 3      M   компаньон     0   \n",
       "11071       гражданский брак                 1      F   сотрудник     0   \n",
       "\n",
       "       total_income                            purpose  \n",
       "12412  2.265604e+06                       ремонт жилью  \n",
       "19606  2.200852e+06         строительство недвижимости  \n",
       "9169   1.726276e+06         дополнительное образование  \n",
       "20809  1.715018e+06            покупка жилья для семьи  \n",
       "17178  1.711309e+06                    сыграть свадьбу  \n",
       "17503  1.597613e+06           операции с недвижимостью  \n",
       "18368  1.551153e+06                            свадьба  \n",
       "18353  1.427934e+06                         автомобиль  \n",
       "15268  1.350246e+06                              жилье  \n",
       "11071  1.286281e+06  покупка коммерческой недвижимости  "
      ]
     },
     "metadata": {},
     "output_type": "display_data"
    }
   ],
   "source": [
    "print('\\nОсновные метрики стажа пенсионеров и безработных:\\n')\n",
    "print('Минимум: ',data[(data['income_type'] == 'пенсионер') | (data['income_type'] == 'безработный')]['days_employed'].min())\n",
    "print('Среднее: ',data[(data['income_type'] == 'пенсионер') | (data['income_type'] == 'безработный')]['days_employed'].mean())\n",
    "print('Максимум:',data[(data['income_type'] == 'пенсионер') | (data['income_type'] == 'безработный')]['days_employed'].max(),'\\n')\n",
    "\n",
    "print('\\nОсновные метрики стажа работающих:\\n')\n",
    "print('Минимум: ',data[(data['income_type'] != 'пенсионер') & (data['income_type'] != 'безработный')]['days_employed'].min())\n",
    "print('Среднее: ',data[(data['income_type'] != 'пенсионер') & (data['income_type'] != 'безработный')]['days_employed'].mean())\n",
    "print('Максимум:',data[(data['income_type'] != 'пенсионер') & (data['income_type'] != 'безработный')]['days_employed'].max(),'\\n')\n",
    "\n",
    "print('\\nОбщие основные метрики стажа:\\n')\n",
    "print('Минимум: ',data['days_employed'].min())\n",
    "print('Среднее: ',data['days_employed'].mean())\n",
    "print('Максимум:',data['days_employed'].max())\n",
    "print('Медиана: ',data['days_employed'].median(),'\\n')\n",
    "\n",
    "print('\\nОсновные метрики дохода:\\n')\n",
    "print('Минимум: ',data['total_income'].min())\n",
    "print('Среднее: ',data['total_income'].mean())\n",
    "print('Максимум:',data['total_income'].max())\n",
    "print('Медиана: ',data['total_income'].median(),'\\n')\n",
    "\n",
    "display(data.sort_values(['total_income'], ascending=False).head(10))"
   ]
  },
  {
   "cell_type": "markdown",
   "metadata": {},
   "source": [
    "Характерными значениями положи медианы, в стаже скорее всего есть выбросы у работающих(в доходе может и нет но так как пропусков относительно немного и разница медианы и среднего небольшая думаю сильно это погоду не испортит)."
   ]
  },
  {
   "cell_type": "code",
   "execution_count": 10,
   "metadata": {},
   "outputs": [],
   "source": [
    "median_days_employed = data['days_employed'].median()\n",
    "median_total_income = data['total_income'].median()\n",
    "\n",
    "data['days_employed'] = data['days_employed'].fillna(median_days_employed)\n",
    "data['total_income'] = data['total_income'].fillna(median_total_income)"
   ]
  },
  {
   "cell_type": "code",
   "execution_count": 11,
   "metadata": {},
   "outputs": [
    {
     "name": "stdout",
     "output_type": "stream",
     "text": [
      "4394.454537173804\n",
      "165159.48739726353\n",
      "<class 'pandas.core.frame.DataFrame'>\n",
      "RangeIndex: 21525 entries, 0 to 21524\n",
      "Data columns (total 12 columns):\n",
      "children            21525 non-null int64\n",
      "days_employed       21525 non-null float64\n",
      "dob_years           21525 non-null int64\n",
      "education           21525 non-null object\n",
      "education_id        21525 non-null int64\n",
      "family_status       21525 non-null object\n",
      "family_status_id    21525 non-null int64\n",
      "gender              21525 non-null object\n",
      "income_type         21525 non-null object\n",
      "debt                21525 non-null int64\n",
      "total_income        21525 non-null float64\n",
      "purpose             21525 non-null object\n",
      "dtypes: float64(2), int64(5), object(5)\n",
      "memory usage: 2.0+ MB\n",
      "None\n"
     ]
    }
   ],
   "source": [
    "print(data['days_employed'].mean())\n",
    "print(data['total_income'].mean())\n",
    "print(data.info())"
   ]
  },
  {
   "cell_type": "markdown",
   "metadata": {},
   "source": [
    "### Замена типа данных"
   ]
  },
  {
   "cell_type": "code",
   "execution_count": 12,
   "metadata": {},
   "outputs": [
    {
     "data": {
      "text/html": [
       "<div>\n",
       "<style scoped>\n",
       "    .dataframe tbody tr th:only-of-type {\n",
       "        vertical-align: middle;\n",
       "    }\n",
       "\n",
       "    .dataframe tbody tr th {\n",
       "        vertical-align: top;\n",
       "    }\n",
       "\n",
       "    .dataframe thead th {\n",
       "        text-align: right;\n",
       "    }\n",
       "</style>\n",
       "<table border=\"1\" class=\"dataframe\">\n",
       "  <thead>\n",
       "    <tr style=\"text-align: right;\">\n",
       "      <th></th>\n",
       "      <th>children</th>\n",
       "      <th>days_employed</th>\n",
       "      <th>dob_years</th>\n",
       "      <th>education</th>\n",
       "      <th>education_id</th>\n",
       "      <th>family_status</th>\n",
       "      <th>family_status_id</th>\n",
       "      <th>gender</th>\n",
       "      <th>income_type</th>\n",
       "      <th>debt</th>\n",
       "      <th>total_income</th>\n",
       "      <th>purpose</th>\n",
       "    </tr>\n",
       "  </thead>\n",
       "  <tbody>\n",
       "    <tr>\n",
       "      <td>0</td>\n",
       "      <td>1</td>\n",
       "      <td>8437</td>\n",
       "      <td>42</td>\n",
       "      <td>высшее</td>\n",
       "      <td>0</td>\n",
       "      <td>женат / замужем</td>\n",
       "      <td>0</td>\n",
       "      <td>F</td>\n",
       "      <td>сотрудник</td>\n",
       "      <td>0</td>\n",
       "      <td>253875.639453</td>\n",
       "      <td>покупка жилья</td>\n",
       "    </tr>\n",
       "    <tr>\n",
       "      <td>1</td>\n",
       "      <td>1</td>\n",
       "      <td>4024</td>\n",
       "      <td>36</td>\n",
       "      <td>среднее</td>\n",
       "      <td>1</td>\n",
       "      <td>женат / замужем</td>\n",
       "      <td>0</td>\n",
       "      <td>F</td>\n",
       "      <td>сотрудник</td>\n",
       "      <td>0</td>\n",
       "      <td>112080.014102</td>\n",
       "      <td>приобретение автомобиля</td>\n",
       "    </tr>\n",
       "    <tr>\n",
       "      <td>2</td>\n",
       "      <td>0</td>\n",
       "      <td>5623</td>\n",
       "      <td>33</td>\n",
       "      <td>Среднее</td>\n",
       "      <td>1</td>\n",
       "      <td>женат / замужем</td>\n",
       "      <td>0</td>\n",
       "      <td>M</td>\n",
       "      <td>сотрудник</td>\n",
       "      <td>0</td>\n",
       "      <td>145885.952297</td>\n",
       "      <td>покупка жилья</td>\n",
       "    </tr>\n",
       "    <tr>\n",
       "      <td>3</td>\n",
       "      <td>3</td>\n",
       "      <td>4124</td>\n",
       "      <td>32</td>\n",
       "      <td>среднее</td>\n",
       "      <td>1</td>\n",
       "      <td>женат / замужем</td>\n",
       "      <td>0</td>\n",
       "      <td>M</td>\n",
       "      <td>сотрудник</td>\n",
       "      <td>0</td>\n",
       "      <td>267628.550329</td>\n",
       "      <td>дополнительное образование</td>\n",
       "    </tr>\n",
       "    <tr>\n",
       "      <td>4</td>\n",
       "      <td>0</td>\n",
       "      <td>14177</td>\n",
       "      <td>53</td>\n",
       "      <td>среднее</td>\n",
       "      <td>1</td>\n",
       "      <td>гражданский брак</td>\n",
       "      <td>1</td>\n",
       "      <td>F</td>\n",
       "      <td>пенсионер</td>\n",
       "      <td>0</td>\n",
       "      <td>158616.077870</td>\n",
       "      <td>сыграть свадьбу</td>\n",
       "    </tr>\n",
       "  </tbody>\n",
       "</table>\n",
       "</div>"
      ],
      "text/plain": [
       "   children  days_employed  dob_years education  education_id  \\\n",
       "0         1           8437         42    высшее             0   \n",
       "1         1           4024         36   среднее             1   \n",
       "2         0           5623         33   Среднее             1   \n",
       "3         3           4124         32   среднее             1   \n",
       "4         0          14177         53   среднее             1   \n",
       "\n",
       "      family_status  family_status_id gender income_type  debt   total_income  \\\n",
       "0   женат / замужем                 0      F   сотрудник     0  253875.639453   \n",
       "1   женат / замужем                 0      F   сотрудник     0  112080.014102   \n",
       "2   женат / замужем                 0      M   сотрудник     0  145885.952297   \n",
       "3   женат / замужем                 0      M   сотрудник     0  267628.550329   \n",
       "4  гражданский брак                 1      F   пенсионер     0  158616.077870   \n",
       "\n",
       "                      purpose  \n",
       "0               покупка жилья  \n",
       "1     приобретение автомобиля  \n",
       "2               покупка жилья  \n",
       "3  дополнительное образование  \n",
       "4             сыграть свадьбу  "
      ]
     },
     "metadata": {},
     "output_type": "display_data"
    }
   ],
   "source": [
    "data['days_employed'] = data['days_employed'].astype('int')\n",
    "display(data.head())"
   ]
  },
  {
   "cell_type": "code",
   "execution_count": 13,
   "metadata": {},
   "outputs": [],
   "source": [
    "#display(data.groupby('family_status')['family_status_id'].value_counts())"
   ]
  },
  {
   "cell_type": "code",
   "execution_count": 14,
   "metadata": {},
   "outputs": [
    {
     "name": "stdout",
     "output_type": "stream",
     "text": [
      "<class 'pandas.core.frame.DataFrame'>\n",
      "RangeIndex: 21525 entries, 0 to 21524\n",
      "Data columns (total 12 columns):\n",
      "children            21525 non-null int64\n",
      "days_employed       21525 non-null int64\n",
      "dob_years           21525 non-null int64\n",
      "education           21525 non-null object\n",
      "education_id        21525 non-null int64\n",
      "family_status       21525 non-null object\n",
      "family_status_id    21525 non-null int64\n",
      "gender              21525 non-null object\n",
      "income_type         21525 non-null object\n",
      "debt                21525 non-null int64\n",
      "total_income        21525 non-null float64\n",
      "purpose             21525 non-null object\n",
      "dtypes: float64(1), int64(6), object(5)\n",
      "memory usage: 2.0+ MB\n"
     ]
    },
    {
     "data": {
      "text/html": [
       "<div>\n",
       "<style scoped>\n",
       "    .dataframe tbody tr th:only-of-type {\n",
       "        vertical-align: middle;\n",
       "    }\n",
       "\n",
       "    .dataframe tbody tr th {\n",
       "        vertical-align: top;\n",
       "    }\n",
       "\n",
       "    .dataframe thead th {\n",
       "        text-align: right;\n",
       "    }\n",
       "</style>\n",
       "<table border=\"1\" class=\"dataframe\">\n",
       "  <thead>\n",
       "    <tr style=\"text-align: right;\">\n",
       "      <th></th>\n",
       "      <th>children</th>\n",
       "      <th>days_employed</th>\n",
       "      <th>dob_years</th>\n",
       "      <th>education</th>\n",
       "      <th>education_id</th>\n",
       "      <th>family_status</th>\n",
       "      <th>family_status_id</th>\n",
       "      <th>gender</th>\n",
       "      <th>income_type</th>\n",
       "      <th>debt</th>\n",
       "      <th>total_income</th>\n",
       "      <th>purpose</th>\n",
       "    </tr>\n",
       "  </thead>\n",
       "  <tbody>\n",
       "    <tr>\n",
       "      <td>0</td>\n",
       "      <td>1</td>\n",
       "      <td>8437</td>\n",
       "      <td>42</td>\n",
       "      <td>высшее</td>\n",
       "      <td>0</td>\n",
       "      <td>женат / замужем</td>\n",
       "      <td>0</td>\n",
       "      <td>F</td>\n",
       "      <td>сотрудник</td>\n",
       "      <td>0</td>\n",
       "      <td>253875.640625</td>\n",
       "      <td>покупка жилья</td>\n",
       "    </tr>\n",
       "    <tr>\n",
       "      <td>1</td>\n",
       "      <td>1</td>\n",
       "      <td>4024</td>\n",
       "      <td>36</td>\n",
       "      <td>среднее</td>\n",
       "      <td>1</td>\n",
       "      <td>женат / замужем</td>\n",
       "      <td>0</td>\n",
       "      <td>F</td>\n",
       "      <td>сотрудник</td>\n",
       "      <td>0</td>\n",
       "      <td>112080.015625</td>\n",
       "      <td>приобретение автомобиля</td>\n",
       "    </tr>\n",
       "    <tr>\n",
       "      <td>2</td>\n",
       "      <td>0</td>\n",
       "      <td>5623</td>\n",
       "      <td>33</td>\n",
       "      <td>Среднее</td>\n",
       "      <td>1</td>\n",
       "      <td>женат / замужем</td>\n",
       "      <td>0</td>\n",
       "      <td>M</td>\n",
       "      <td>сотрудник</td>\n",
       "      <td>0</td>\n",
       "      <td>145885.953125</td>\n",
       "      <td>покупка жилья</td>\n",
       "    </tr>\n",
       "    <tr>\n",
       "      <td>3</td>\n",
       "      <td>3</td>\n",
       "      <td>4124</td>\n",
       "      <td>32</td>\n",
       "      <td>среднее</td>\n",
       "      <td>1</td>\n",
       "      <td>женат / замужем</td>\n",
       "      <td>0</td>\n",
       "      <td>M</td>\n",
       "      <td>сотрудник</td>\n",
       "      <td>0</td>\n",
       "      <td>267628.562500</td>\n",
       "      <td>дополнительное образование</td>\n",
       "    </tr>\n",
       "    <tr>\n",
       "      <td>4</td>\n",
       "      <td>0</td>\n",
       "      <td>14177</td>\n",
       "      <td>53</td>\n",
       "      <td>среднее</td>\n",
       "      <td>1</td>\n",
       "      <td>гражданский брак</td>\n",
       "      <td>1</td>\n",
       "      <td>F</td>\n",
       "      <td>пенсионер</td>\n",
       "      <td>0</td>\n",
       "      <td>158616.078125</td>\n",
       "      <td>сыграть свадьбу</td>\n",
       "    </tr>\n",
       "  </tbody>\n",
       "</table>\n",
       "</div>"
      ],
      "text/plain": [
       "   children  days_employed  dob_years education  education_id  \\\n",
       "0         1           8437         42    высшее             0   \n",
       "1         1           4024         36   среднее             1   \n",
       "2         0           5623         33   Среднее             1   \n",
       "3         3           4124         32   среднее             1   \n",
       "4         0          14177         53   среднее             1   \n",
       "\n",
       "      family_status  family_status_id gender income_type  debt   total_income  \\\n",
       "0   женат / замужем                 0      F   сотрудник     0  253875.640625   \n",
       "1   женат / замужем                 0      F   сотрудник     0  112080.015625   \n",
       "2   женат / замужем                 0      M   сотрудник     0  145885.953125   \n",
       "3   женат / замужем                 0      M   сотрудник     0  267628.562500   \n",
       "4  гражданский брак                 1      F   пенсионер     0  158616.078125   \n",
       "\n",
       "                      purpose  \n",
       "0               покупка жилья  \n",
       "1     приобретение автомобиля  \n",
       "2               покупка жилья  \n",
       "3  дополнительное образование  \n",
       "4             сыграть свадьбу  "
      ]
     },
     "metadata": {},
     "output_type": "display_data"
    },
    {
     "name": "stdout",
     "output_type": "stream",
     "text": [
      "<class 'pandas.core.frame.DataFrame'>\n",
      "RangeIndex: 21525 entries, 0 to 21524\n",
      "Data columns (total 12 columns):\n",
      "children            21525 non-null int8\n",
      "days_employed       21525 non-null int16\n",
      "dob_years           21525 non-null int8\n",
      "education           21525 non-null object\n",
      "education_id        21525 non-null int8\n",
      "family_status       21525 non-null object\n",
      "family_status_id    21525 non-null int8\n",
      "gender              21525 non-null object\n",
      "income_type         21525 non-null object\n",
      "debt                21525 non-null int64\n",
      "total_income        21525 non-null float32\n",
      "purpose             21525 non-null object\n",
      "dtypes: float32(1), int16(1), int64(1), int8(4), object(5)\n",
      "memory usage: 1.2+ MB\n"
     ]
    }
   ],
   "source": [
    "data.info()\n",
    "data['children'] = data['children'].astype('int8')\n",
    "data['days_employed'] = data['days_employed'].astype('int16')\n",
    "data['dob_years'] = data['dob_years'].astype('int8')\n",
    "data['education_id'] = data['education_id'].astype('int8')\n",
    "data['family_status_id'] = data['family_status_id'].astype('int8')\n",
    "data['total_income'] = data['total_income'].astype('float32')\n",
    "display(data.head())\n",
    "data.info()"
   ]
  },
  {
   "cell_type": "markdown",
   "metadata": {},
   "source": [
    "### Обработка дубликатов"
   ]
  },
  {
   "cell_type": "code",
   "execution_count": 15,
   "metadata": {},
   "outputs": [
    {
     "name": "stdout",
     "output_type": "stream",
     "text": [
      "54\n",
      "['высшее' 'среднее' 'неоконченное высшее' 'начальное' 'ученая степень']\n",
      "['женат / замужем' 'гражданский брак' 'вдовец / вдова' 'в разводе'\n",
      " 'не женат / не замужем']\n"
     ]
    }
   ],
   "source": [
    "print(len(data) - len(data.drop_duplicates()))# проверяем количество явных дубликатов\n",
    "data = data.drop_duplicates().reset_index(drop=True) # удаление дубликатов этим методом\n",
    "\n",
    "for value in range(len(data)):\n",
    "    data['education'][value] = data['education'][value].lower()\n",
    "    data['family_status'][value] = data['family_status'][value].lower() # за компанию\n",
    "\n",
    "print(data['education'].unique())\n",
    "print(data['family_status'].unique())"
   ]
  },
  {
   "cell_type": "code",
   "execution_count": 16,
   "metadata": {},
   "outputs": [
    {
     "name": "stdout",
     "output_type": "stream",
     "text": [
      " 0     14107\n",
      " 1      4809\n",
      " 2      2052\n",
      " 3       330\n",
      " 20       76\n",
      "-1        47\n",
      " 4        41\n",
      " 5         9\n",
      "Name: children, dtype: int64 \n",
      "\n",
      "[42 36 33 32 53 27 43 50 35 41 40 65 54 56 26 48 24 21 57 67 28 63 62 47\n",
      " 34 68 25 31 30 20 49 37 45 61 64 44 52 46 23 38 39 51  0 59 29 60 55 58\n",
      " 71 22 73 66 69 19 72 70 74 75] \n",
      "\n",
      "<class 'pandas.core.frame.DataFrame'>\n",
      "RangeIndex: 21471 entries, 0 to 21470\n",
      "Data columns (total 12 columns):\n",
      "children            21471 non-null int8\n",
      "days_employed       21471 non-null int16\n",
      "dob_years           21471 non-null int8\n",
      "education           21471 non-null object\n",
      "education_id        21471 non-null int8\n",
      "family_status       21471 non-null object\n",
      "family_status_id    21471 non-null int8\n",
      "gender              21471 non-null object\n",
      "income_type         21471 non-null object\n",
      "debt                21471 non-null int64\n",
      "total_income        21471 non-null float32\n",
      "purpose             21471 non-null object\n",
      "dtypes: float32(1), int16(1), int64(1), int8(4), object(5)\n",
      "memory usage: 1.2+ MB\n",
      "\n",
      " [42 36 33 32 53 27 43 50 35 41 40 65 54 56 26 48 24 21 57 67 28 63 62 47\n",
      " 34 68 25 31 30 20 49 37 45 61 64 44 52 46 23 38 39 51 59 29 60 55 58 71\n",
      " 22 73 66 69 19 72 70 74 75] \n",
      "\n",
      "0    14230\n",
      "1     4809\n",
      "2     2052\n",
      "3      330\n",
      "4       41\n",
      "5        9\n",
      "Name: children, dtype: int64 \n",
      "\n",
      "<class 'pandas.core.frame.DataFrame'>\n",
      "RangeIndex: 21471 entries, 0 to 21470\n",
      "Data columns (total 12 columns):\n",
      "children            21471 non-null int64\n",
      "days_employed       21471 non-null int16\n",
      "dob_years           21471 non-null int8\n",
      "education           21471 non-null object\n",
      "education_id        21471 non-null int8\n",
      "family_status       21471 non-null object\n",
      "family_status_id    21471 non-null int8\n",
      "gender              21471 non-null object\n",
      "income_type         21471 non-null object\n",
      "debt                21471 non-null int64\n",
      "total_income        21471 non-null float32\n",
      "purpose             21471 non-null object\n",
      "dtypes: float32(1), int16(1), int64(2), int8(3), object(5)\n",
      "memory usage: 1.3+ MB\n"
     ]
    }
   ],
   "source": [
    "print(data['children'].value_counts(),'\\n')\n",
    "print(data['dob_years'].unique(),'\\n')\n",
    "mean_dob_years = data['dob_years'].mean().astype('int')\n",
    "data.info()\n",
    "for value in range(len(data)):\n",
    "    if (data['children'][value] == 20) | (data['children'][value] == -1):\n",
    "        data['children'][value] = nan\n",
    "    if (data['dob_years'][value] == 0):\n",
    "        data['dob_years'][value] = mean_dob_years\n",
    "median_children = data['children'].median()\n",
    "data['children'] = data['children'].fillna(median_children).astype('int')\n",
    "\n",
    "print('\\n',data['dob_years'].unique(),'\\n')\n",
    "\n",
    "print(data['children'].value_counts(),'\\n')\n",
    "data.info()"
   ]
  },
  {
   "cell_type": "markdown",
   "metadata": {},
   "source": [
    "### Лемматизация"
   ]
  },
  {
   "cell_type": "code",
   "execution_count": 17,
   "metadata": {},
   "outputs": [
    {
     "name": "stdout",
     "output_type": "stream",
     "text": [
      "Counter({' ': 55066, 'недвижимость': 6353, 'покупка': 5900, 'жилье': 4461, 'автомобиль': 4308, 'образование': 4014, 'с': 2918, 'операция': 2604, 'свадьба': 2335, 'свой': 2231, 'на': 2228, 'строительство': 1879, 'высокий': 1374, 'получение': 1315, 'коммерческий': 1312, 'для': 1290, 'жилой': 1231, 'сделка': 941, 'дополнительный': 907, 'заниматься': 904, 'подержать': 853, 'проведение': 773, 'сыграть': 769, 'сдача': 652, 'семья': 638, 'собственный': 635, 'со': 627, 'ремонт': 607, 'приобретение': 461, 'профильный': 436, 'подержанный': 111, '\\n': 1})\n"
     ]
    }
   ],
   "source": [
    "m = Mystem()\n",
    "\n",
    "lemmas = m.lemmatize(' '.join(data['purpose']))\n",
    "    \n",
    "print(Counter(lemmas))"
   ]
  },
  {
   "cell_type": "code",
   "execution_count": 18,
   "metadata": {},
   "outputs": [
    {
     "data": {
      "text/html": [
       "<div>\n",
       "<style scoped>\n",
       "    .dataframe tbody tr th:only-of-type {\n",
       "        vertical-align: middle;\n",
       "    }\n",
       "\n",
       "    .dataframe tbody tr th {\n",
       "        vertical-align: top;\n",
       "    }\n",
       "\n",
       "    .dataframe thead th {\n",
       "        text-align: right;\n",
       "    }\n",
       "</style>\n",
       "<table border=\"1\" class=\"dataframe\">\n",
       "  <thead>\n",
       "    <tr style=\"text-align: right;\">\n",
       "      <th></th>\n",
       "      <th>children</th>\n",
       "      <th>days_employed</th>\n",
       "      <th>dob_years</th>\n",
       "      <th>education</th>\n",
       "      <th>education_id</th>\n",
       "      <th>family_status</th>\n",
       "      <th>family_status_id</th>\n",
       "      <th>gender</th>\n",
       "      <th>income_type</th>\n",
       "      <th>debt</th>\n",
       "      <th>total_income</th>\n",
       "      <th>purpose</th>\n",
       "      <th>purpose_category</th>\n",
       "    </tr>\n",
       "  </thead>\n",
       "  <tbody>\n",
       "    <tr>\n",
       "      <td>0</td>\n",
       "      <td>1</td>\n",
       "      <td>8437</td>\n",
       "      <td>42</td>\n",
       "      <td>высшее</td>\n",
       "      <td>0</td>\n",
       "      <td>женат / замужем</td>\n",
       "      <td>0</td>\n",
       "      <td>F</td>\n",
       "      <td>сотрудник</td>\n",
       "      <td>0</td>\n",
       "      <td>253875.640625</td>\n",
       "      <td>покупка жилья</td>\n",
       "      <td>недвижимость</td>\n",
       "    </tr>\n",
       "    <tr>\n",
       "      <td>1</td>\n",
       "      <td>1</td>\n",
       "      <td>4024</td>\n",
       "      <td>36</td>\n",
       "      <td>среднее</td>\n",
       "      <td>1</td>\n",
       "      <td>женат / замужем</td>\n",
       "      <td>0</td>\n",
       "      <td>F</td>\n",
       "      <td>сотрудник</td>\n",
       "      <td>0</td>\n",
       "      <td>112080.015625</td>\n",
       "      <td>приобретение автомобиля</td>\n",
       "      <td>автомобиль</td>\n",
       "    </tr>\n",
       "    <tr>\n",
       "      <td>2</td>\n",
       "      <td>0</td>\n",
       "      <td>5623</td>\n",
       "      <td>33</td>\n",
       "      <td>среднее</td>\n",
       "      <td>1</td>\n",
       "      <td>женат / замужем</td>\n",
       "      <td>0</td>\n",
       "      <td>M</td>\n",
       "      <td>сотрудник</td>\n",
       "      <td>0</td>\n",
       "      <td>145885.953125</td>\n",
       "      <td>покупка жилья</td>\n",
       "      <td>недвижимость</td>\n",
       "    </tr>\n",
       "    <tr>\n",
       "      <td>3</td>\n",
       "      <td>3</td>\n",
       "      <td>4124</td>\n",
       "      <td>32</td>\n",
       "      <td>среднее</td>\n",
       "      <td>1</td>\n",
       "      <td>женат / замужем</td>\n",
       "      <td>0</td>\n",
       "      <td>M</td>\n",
       "      <td>сотрудник</td>\n",
       "      <td>0</td>\n",
       "      <td>267628.562500</td>\n",
       "      <td>дополнительное образование</td>\n",
       "      <td>образование</td>\n",
       "    </tr>\n",
       "    <tr>\n",
       "      <td>4</td>\n",
       "      <td>0</td>\n",
       "      <td>14177</td>\n",
       "      <td>53</td>\n",
       "      <td>среднее</td>\n",
       "      <td>1</td>\n",
       "      <td>гражданский брак</td>\n",
       "      <td>1</td>\n",
       "      <td>F</td>\n",
       "      <td>пенсионер</td>\n",
       "      <td>0</td>\n",
       "      <td>158616.078125</td>\n",
       "      <td>сыграть свадьбу</td>\n",
       "      <td>свадьба</td>\n",
       "    </tr>\n",
       "    <tr>\n",
       "      <td>...</td>\n",
       "      <td>...</td>\n",
       "      <td>...</td>\n",
       "      <td>...</td>\n",
       "      <td>...</td>\n",
       "      <td>...</td>\n",
       "      <td>...</td>\n",
       "      <td>...</td>\n",
       "      <td>...</td>\n",
       "      <td>...</td>\n",
       "      <td>...</td>\n",
       "      <td>...</td>\n",
       "      <td>...</td>\n",
       "      <td>...</td>\n",
       "    </tr>\n",
       "    <tr>\n",
       "      <td>21466</td>\n",
       "      <td>1</td>\n",
       "      <td>4529</td>\n",
       "      <td>43</td>\n",
       "      <td>среднее</td>\n",
       "      <td>1</td>\n",
       "      <td>гражданский брак</td>\n",
       "      <td>1</td>\n",
       "      <td>F</td>\n",
       "      <td>компаньон</td>\n",
       "      <td>0</td>\n",
       "      <td>224791.859375</td>\n",
       "      <td>операции с жильем</td>\n",
       "      <td>недвижимость</td>\n",
       "    </tr>\n",
       "    <tr>\n",
       "      <td>21467</td>\n",
       "      <td>0</td>\n",
       "      <td>14330</td>\n",
       "      <td>67</td>\n",
       "      <td>среднее</td>\n",
       "      <td>1</td>\n",
       "      <td>женат / замужем</td>\n",
       "      <td>0</td>\n",
       "      <td>F</td>\n",
       "      <td>пенсионер</td>\n",
       "      <td>0</td>\n",
       "      <td>155999.812500</td>\n",
       "      <td>сделка с автомобилем</td>\n",
       "      <td>автомобиль</td>\n",
       "    </tr>\n",
       "    <tr>\n",
       "      <td>21468</td>\n",
       "      <td>1</td>\n",
       "      <td>2113</td>\n",
       "      <td>38</td>\n",
       "      <td>среднее</td>\n",
       "      <td>1</td>\n",
       "      <td>гражданский брак</td>\n",
       "      <td>1</td>\n",
       "      <td>M</td>\n",
       "      <td>сотрудник</td>\n",
       "      <td>1</td>\n",
       "      <td>89672.562500</td>\n",
       "      <td>недвижимость</td>\n",
       "      <td>недвижимость</td>\n",
       "    </tr>\n",
       "    <tr>\n",
       "      <td>21469</td>\n",
       "      <td>3</td>\n",
       "      <td>3112</td>\n",
       "      <td>38</td>\n",
       "      <td>среднее</td>\n",
       "      <td>1</td>\n",
       "      <td>женат / замужем</td>\n",
       "      <td>0</td>\n",
       "      <td>M</td>\n",
       "      <td>сотрудник</td>\n",
       "      <td>1</td>\n",
       "      <td>244093.046875</td>\n",
       "      <td>на покупку своего автомобиля</td>\n",
       "      <td>автомобиль</td>\n",
       "    </tr>\n",
       "    <tr>\n",
       "      <td>21470</td>\n",
       "      <td>2</td>\n",
       "      <td>1984</td>\n",
       "      <td>40</td>\n",
       "      <td>среднее</td>\n",
       "      <td>1</td>\n",
       "      <td>женат / замужем</td>\n",
       "      <td>0</td>\n",
       "      <td>F</td>\n",
       "      <td>сотрудник</td>\n",
       "      <td>0</td>\n",
       "      <td>82047.421875</td>\n",
       "      <td>на покупку автомобиля</td>\n",
       "      <td>автомобиль</td>\n",
       "    </tr>\n",
       "  </tbody>\n",
       "</table>\n",
       "<p>21471 rows × 13 columns</p>\n",
       "</div>"
      ],
      "text/plain": [
       "       children  days_employed  dob_years education  education_id  \\\n",
       "0             1           8437         42    высшее             0   \n",
       "1             1           4024         36   среднее             1   \n",
       "2             0           5623         33   среднее             1   \n",
       "3             3           4124         32   среднее             1   \n",
       "4             0          14177         53   среднее             1   \n",
       "...         ...            ...        ...       ...           ...   \n",
       "21466         1           4529         43   среднее             1   \n",
       "21467         0          14330         67   среднее             1   \n",
       "21468         1           2113         38   среднее             1   \n",
       "21469         3           3112         38   среднее             1   \n",
       "21470         2           1984         40   среднее             1   \n",
       "\n",
       "          family_status  family_status_id gender income_type  debt  \\\n",
       "0       женат / замужем                 0      F   сотрудник     0   \n",
       "1       женат / замужем                 0      F   сотрудник     0   \n",
       "2       женат / замужем                 0      M   сотрудник     0   \n",
       "3       женат / замужем                 0      M   сотрудник     0   \n",
       "4      гражданский брак                 1      F   пенсионер     0   \n",
       "...                 ...               ...    ...         ...   ...   \n",
       "21466  гражданский брак                 1      F   компаньон     0   \n",
       "21467   женат / замужем                 0      F   пенсионер     0   \n",
       "21468  гражданский брак                 1      M   сотрудник     1   \n",
       "21469   женат / замужем                 0      M   сотрудник     1   \n",
       "21470   женат / замужем                 0      F   сотрудник     0   \n",
       "\n",
       "        total_income                       purpose purpose_category  \n",
       "0      253875.640625                 покупка жилья     недвижимость  \n",
       "1      112080.015625       приобретение автомобиля       автомобиль  \n",
       "2      145885.953125                 покупка жилья     недвижимость  \n",
       "3      267628.562500    дополнительное образование      образование  \n",
       "4      158616.078125               сыграть свадьбу          свадьба  \n",
       "...              ...                           ...              ...  \n",
       "21466  224791.859375             операции с жильем     недвижимость  \n",
       "21467  155999.812500          сделка с автомобилем       автомобиль  \n",
       "21468   89672.562500                  недвижимость     недвижимость  \n",
       "21469  244093.046875  на покупку своего автомобиля       автомобиль  \n",
       "21470   82047.421875         на покупку автомобиля       автомобиль  \n",
       "\n",
       "[21471 rows x 13 columns]"
      ]
     },
     "metadata": {},
     "output_type": "display_data"
    },
    {
     "name": "stdout",
     "output_type": "stream",
     "text": [
      "['недвижимость' 'автомобиль' 'образование' 'свадьба']\n",
      "<class 'pandas.core.frame.DataFrame'>\n",
      "RangeIndex: 21471 entries, 0 to 21470\n",
      "Data columns (total 13 columns):\n",
      "children            21471 non-null int64\n",
      "days_employed       21471 non-null int16\n",
      "dob_years           21471 non-null int8\n",
      "education           21471 non-null object\n",
      "education_id        21471 non-null int8\n",
      "family_status       21471 non-null object\n",
      "family_status_id    21471 non-null int8\n",
      "gender              21471 non-null object\n",
      "income_type         21471 non-null object\n",
      "debt                21471 non-null int64\n",
      "total_income        21471 non-null float32\n",
      "purpose             21471 non-null object\n",
      "purpose_category    21471 non-null object\n",
      "dtypes: float32(1), int16(1), int64(2), int8(3), object(6)\n",
      "memory usage: 1.5+ MB\n"
     ]
    }
   ],
   "source": [
    "real_estate = ['недвижимость','жилье']\n",
    "auto = 'автомобиль'\n",
    "education = 'образование'\n",
    "wedding = 'свадьба'\n",
    "data['purpose_category'] = ''\n",
    "for value in range(len(data)):\n",
    "    if (real_estate[0] in m.lemmatize(data['purpose'][value])) or (real_estate[1] in m.lemmatize(data['purpose'][value])):\n",
    "        data['purpose_category'][value] = 'недвижимость'\n",
    "    elif auto in m.lemmatize(data['purpose'][value]):\n",
    "        data['purpose_category'][value] = 'автомобиль'\n",
    "    elif education in m.lemmatize(data['purpose'][value]):\n",
    "        data['purpose_category'][value] = 'образование'\n",
    "    elif wedding in m.lemmatize(data['purpose'][value]):\n",
    "        data['purpose_category'][value] = 'свадьба'\n",
    "    else:\n",
    "        data['purpose_category'][value] = 'остальное'\n",
    "display(data)\n",
    "print(data['purpose_category'].unique())\n",
    "data.info()"
   ]
  },
  {
   "cell_type": "code",
   "execution_count": 19,
   "metadata": {},
   "outputs": [
    {
     "data": {
      "text/html": [
       "<div>\n",
       "<style scoped>\n",
       "    .dataframe tbody tr th:only-of-type {\n",
       "        vertical-align: middle;\n",
       "    }\n",
       "\n",
       "    .dataframe tbody tr th {\n",
       "        vertical-align: top;\n",
       "    }\n",
       "\n",
       "    .dataframe thead th {\n",
       "        text-align: right;\n",
       "    }\n",
       "</style>\n",
       "<table border=\"1\" class=\"dataframe\">\n",
       "  <thead>\n",
       "    <tr style=\"text-align: right;\">\n",
       "      <th></th>\n",
       "      <th>children</th>\n",
       "      <th>days_employed</th>\n",
       "      <th>dob_years</th>\n",
       "      <th>education</th>\n",
       "      <th>education_id</th>\n",
       "      <th>family_status</th>\n",
       "      <th>family_status_id</th>\n",
       "      <th>gender</th>\n",
       "      <th>income_type</th>\n",
       "      <th>debt</th>\n",
       "      <th>total_income</th>\n",
       "      <th>purpose</th>\n",
       "      <th>purpose_category</th>\n",
       "    </tr>\n",
       "  </thead>\n",
       "  <tbody>\n",
       "    <tr>\n",
       "      <td>0</td>\n",
       "      <td>1</td>\n",
       "      <td>8437</td>\n",
       "      <td>42</td>\n",
       "      <td>высшее</td>\n",
       "      <td>0</td>\n",
       "      <td>женат / замужем</td>\n",
       "      <td>0</td>\n",
       "      <td>F</td>\n",
       "      <td>сотрудник</td>\n",
       "      <td>0</td>\n",
       "      <td>253875.640625</td>\n",
       "      <td>покупка жилья</td>\n",
       "      <td>недвижимость</td>\n",
       "    </tr>\n",
       "    <tr>\n",
       "      <td>1</td>\n",
       "      <td>1</td>\n",
       "      <td>4024</td>\n",
       "      <td>36</td>\n",
       "      <td>среднее</td>\n",
       "      <td>1</td>\n",
       "      <td>женат / замужем</td>\n",
       "      <td>0</td>\n",
       "      <td>F</td>\n",
       "      <td>сотрудник</td>\n",
       "      <td>0</td>\n",
       "      <td>112080.015625</td>\n",
       "      <td>приобретение автомобиля</td>\n",
       "      <td>автомобиль</td>\n",
       "    </tr>\n",
       "    <tr>\n",
       "      <td>2</td>\n",
       "      <td>0</td>\n",
       "      <td>5623</td>\n",
       "      <td>33</td>\n",
       "      <td>среднее</td>\n",
       "      <td>1</td>\n",
       "      <td>женат / замужем</td>\n",
       "      <td>0</td>\n",
       "      <td>M</td>\n",
       "      <td>сотрудник</td>\n",
       "      <td>0</td>\n",
       "      <td>145885.953125</td>\n",
       "      <td>покупка жилья</td>\n",
       "      <td>недвижимость</td>\n",
       "    </tr>\n",
       "    <tr>\n",
       "      <td>3</td>\n",
       "      <td>3</td>\n",
       "      <td>4124</td>\n",
       "      <td>32</td>\n",
       "      <td>среднее</td>\n",
       "      <td>1</td>\n",
       "      <td>женат / замужем</td>\n",
       "      <td>0</td>\n",
       "      <td>M</td>\n",
       "      <td>сотрудник</td>\n",
       "      <td>0</td>\n",
       "      <td>267628.562500</td>\n",
       "      <td>дополнительное образование</td>\n",
       "      <td>образование</td>\n",
       "    </tr>\n",
       "    <tr>\n",
       "      <td>4</td>\n",
       "      <td>0</td>\n",
       "      <td>14177</td>\n",
       "      <td>53</td>\n",
       "      <td>среднее</td>\n",
       "      <td>1</td>\n",
       "      <td>гражданский брак</td>\n",
       "      <td>1</td>\n",
       "      <td>F</td>\n",
       "      <td>пенсионер</td>\n",
       "      <td>0</td>\n",
       "      <td>158616.078125</td>\n",
       "      <td>сыграть свадьбу</td>\n",
       "      <td>свадьба</td>\n",
       "    </tr>\n",
       "    <tr>\n",
       "      <td>...</td>\n",
       "      <td>...</td>\n",
       "      <td>...</td>\n",
       "      <td>...</td>\n",
       "      <td>...</td>\n",
       "      <td>...</td>\n",
       "      <td>...</td>\n",
       "      <td>...</td>\n",
       "      <td>...</td>\n",
       "      <td>...</td>\n",
       "      <td>...</td>\n",
       "      <td>...</td>\n",
       "      <td>...</td>\n",
       "      <td>...</td>\n",
       "    </tr>\n",
       "    <tr>\n",
       "      <td>21466</td>\n",
       "      <td>1</td>\n",
       "      <td>4529</td>\n",
       "      <td>43</td>\n",
       "      <td>среднее</td>\n",
       "      <td>1</td>\n",
       "      <td>гражданский брак</td>\n",
       "      <td>1</td>\n",
       "      <td>F</td>\n",
       "      <td>компаньон</td>\n",
       "      <td>0</td>\n",
       "      <td>224791.859375</td>\n",
       "      <td>операции с жильем</td>\n",
       "      <td>недвижимость</td>\n",
       "    </tr>\n",
       "    <tr>\n",
       "      <td>21467</td>\n",
       "      <td>0</td>\n",
       "      <td>14330</td>\n",
       "      <td>67</td>\n",
       "      <td>среднее</td>\n",
       "      <td>1</td>\n",
       "      <td>женат / замужем</td>\n",
       "      <td>0</td>\n",
       "      <td>F</td>\n",
       "      <td>пенсионер</td>\n",
       "      <td>0</td>\n",
       "      <td>155999.812500</td>\n",
       "      <td>сделка с автомобилем</td>\n",
       "      <td>автомобиль</td>\n",
       "    </tr>\n",
       "    <tr>\n",
       "      <td>21468</td>\n",
       "      <td>1</td>\n",
       "      <td>2113</td>\n",
       "      <td>38</td>\n",
       "      <td>среднее</td>\n",
       "      <td>1</td>\n",
       "      <td>гражданский брак</td>\n",
       "      <td>1</td>\n",
       "      <td>M</td>\n",
       "      <td>сотрудник</td>\n",
       "      <td>1</td>\n",
       "      <td>89672.562500</td>\n",
       "      <td>недвижимость</td>\n",
       "      <td>недвижимость</td>\n",
       "    </tr>\n",
       "    <tr>\n",
       "      <td>21469</td>\n",
       "      <td>3</td>\n",
       "      <td>3112</td>\n",
       "      <td>38</td>\n",
       "      <td>среднее</td>\n",
       "      <td>1</td>\n",
       "      <td>женат / замужем</td>\n",
       "      <td>0</td>\n",
       "      <td>M</td>\n",
       "      <td>сотрудник</td>\n",
       "      <td>1</td>\n",
       "      <td>244093.046875</td>\n",
       "      <td>на покупку своего автомобиля</td>\n",
       "      <td>автомобиль</td>\n",
       "    </tr>\n",
       "    <tr>\n",
       "      <td>21470</td>\n",
       "      <td>2</td>\n",
       "      <td>1984</td>\n",
       "      <td>40</td>\n",
       "      <td>среднее</td>\n",
       "      <td>1</td>\n",
       "      <td>женат / замужем</td>\n",
       "      <td>0</td>\n",
       "      <td>F</td>\n",
       "      <td>сотрудник</td>\n",
       "      <td>0</td>\n",
       "      <td>82047.421875</td>\n",
       "      <td>на покупку автомобиля</td>\n",
       "      <td>автомобиль</td>\n",
       "    </tr>\n",
       "  </tbody>\n",
       "</table>\n",
       "<p>21471 rows × 13 columns</p>\n",
       "</div>"
      ],
      "text/plain": [
       "       children  days_employed  dob_years education  education_id  \\\n",
       "0             1           8437         42    высшее             0   \n",
       "1             1           4024         36   среднее             1   \n",
       "2             0           5623         33   среднее             1   \n",
       "3             3           4124         32   среднее             1   \n",
       "4             0          14177         53   среднее             1   \n",
       "...         ...            ...        ...       ...           ...   \n",
       "21466         1           4529         43   среднее             1   \n",
       "21467         0          14330         67   среднее             1   \n",
       "21468         1           2113         38   среднее             1   \n",
       "21469         3           3112         38   среднее             1   \n",
       "21470         2           1984         40   среднее             1   \n",
       "\n",
       "          family_status  family_status_id gender income_type  debt  \\\n",
       "0       женат / замужем                 0      F   сотрудник     0   \n",
       "1       женат / замужем                 0      F   сотрудник     0   \n",
       "2       женат / замужем                 0      M   сотрудник     0   \n",
       "3       женат / замужем                 0      M   сотрудник     0   \n",
       "4      гражданский брак                 1      F   пенсионер     0   \n",
       "...                 ...               ...    ...         ...   ...   \n",
       "21466  гражданский брак                 1      F   компаньон     0   \n",
       "21467   женат / замужем                 0      F   пенсионер     0   \n",
       "21468  гражданский брак                 1      M   сотрудник     1   \n",
       "21469   женат / замужем                 0      M   сотрудник     1   \n",
       "21470   женат / замужем                 0      F   сотрудник     0   \n",
       "\n",
       "        total_income                       purpose purpose_category  \n",
       "0      253875.640625                 покупка жилья     недвижимость  \n",
       "1      112080.015625       приобретение автомобиля       автомобиль  \n",
       "2      145885.953125                 покупка жилья     недвижимость  \n",
       "3      267628.562500    дополнительное образование      образование  \n",
       "4      158616.078125               сыграть свадьбу          свадьба  \n",
       "...              ...                           ...              ...  \n",
       "21466  224791.859375             операции с жильем     недвижимость  \n",
       "21467  155999.812500          сделка с автомобилем       автомобиль  \n",
       "21468   89672.562500                  недвижимость     недвижимость  \n",
       "21469  244093.046875  на покупку своего автомобиля       автомобиль  \n",
       "21470   82047.421875         на покупку автомобиля       автомобиль  \n",
       "\n",
       "[21471 rows x 13 columns]"
      ]
     },
     "metadata": {},
     "output_type": "display_data"
    },
    {
     "name": "stdout",
     "output_type": "stream",
     "text": [
      "['недвижимость' 'автомобиль' 'образование' 'свадьба']\n"
     ]
    }
   ],
   "source": [
    "display(data)\n",
    "print(data['purpose_category'].unique())"
   ]
  },
  {
   "cell_type": "markdown",
   "metadata": {},
   "source": [
    "**Вывод**\n",
    "\n",
    "Подключили Mystem для лемматизации, Counter для подсчета вхождений, слемматизировали, подсчитали, выделили самые частые группы, пробежлись с проверкой по фрейму записали группы.\n",
    "\n",
    "### Категоризация данных"
   ]
  },
  {
   "cell_type": "code",
   "execution_count": 20,
   "metadata": {},
   "outputs": [
    {
     "data": {
      "text/html": [
       "<div>\n",
       "<style scoped>\n",
       "    .dataframe tbody tr th:only-of-type {\n",
       "        vertical-align: middle;\n",
       "    }\n",
       "\n",
       "    .dataframe tbody tr th {\n",
       "        vertical-align: top;\n",
       "    }\n",
       "\n",
       "    .dataframe thead th {\n",
       "        text-align: right;\n",
       "    }\n",
       "</style>\n",
       "<table border=\"1\" class=\"dataframe\">\n",
       "  <thead>\n",
       "    <tr style=\"text-align: right;\">\n",
       "      <th></th>\n",
       "      <th>children</th>\n",
       "      <th>days_employed</th>\n",
       "      <th>dob_years</th>\n",
       "      <th>education</th>\n",
       "      <th>education_id</th>\n",
       "      <th>family_status</th>\n",
       "      <th>family_status_id</th>\n",
       "      <th>gender</th>\n",
       "      <th>income_type</th>\n",
       "      <th>debt</th>\n",
       "      <th>total_income</th>\n",
       "      <th>purpose</th>\n",
       "      <th>purpose_category</th>\n",
       "      <th>income_category</th>\n",
       "    </tr>\n",
       "  </thead>\n",
       "  <tbody>\n",
       "    <tr>\n",
       "      <td>0</td>\n",
       "      <td>1</td>\n",
       "      <td>8437</td>\n",
       "      <td>42</td>\n",
       "      <td>высшее</td>\n",
       "      <td>0</td>\n",
       "      <td>женат / замужем</td>\n",
       "      <td>0</td>\n",
       "      <td>F</td>\n",
       "      <td>сотрудник</td>\n",
       "      <td>0</td>\n",
       "      <td>253875.640625</td>\n",
       "      <td>покупка жилья</td>\n",
       "      <td>недвижимость</td>\n",
       "      <td>высокий доход</td>\n",
       "    </tr>\n",
       "    <tr>\n",
       "      <td>1</td>\n",
       "      <td>1</td>\n",
       "      <td>4024</td>\n",
       "      <td>36</td>\n",
       "      <td>среднее</td>\n",
       "      <td>1</td>\n",
       "      <td>женат / замужем</td>\n",
       "      <td>0</td>\n",
       "      <td>F</td>\n",
       "      <td>сотрудник</td>\n",
       "      <td>0</td>\n",
       "      <td>112080.015625</td>\n",
       "      <td>приобретение автомобиля</td>\n",
       "      <td>автомобиль</td>\n",
       "      <td>низкий доход</td>\n",
       "    </tr>\n",
       "    <tr>\n",
       "      <td>2</td>\n",
       "      <td>0</td>\n",
       "      <td>5623</td>\n",
       "      <td>33</td>\n",
       "      <td>среднее</td>\n",
       "      <td>1</td>\n",
       "      <td>женат / замужем</td>\n",
       "      <td>0</td>\n",
       "      <td>M</td>\n",
       "      <td>сотрудник</td>\n",
       "      <td>0</td>\n",
       "      <td>145885.953125</td>\n",
       "      <td>покупка жилья</td>\n",
       "      <td>недвижимость</td>\n",
       "      <td>средний доход</td>\n",
       "    </tr>\n",
       "    <tr>\n",
       "      <td>3</td>\n",
       "      <td>3</td>\n",
       "      <td>4124</td>\n",
       "      <td>32</td>\n",
       "      <td>среднее</td>\n",
       "      <td>1</td>\n",
       "      <td>женат / замужем</td>\n",
       "      <td>0</td>\n",
       "      <td>M</td>\n",
       "      <td>сотрудник</td>\n",
       "      <td>0</td>\n",
       "      <td>267628.562500</td>\n",
       "      <td>дополнительное образование</td>\n",
       "      <td>образование</td>\n",
       "      <td>высокий доход</td>\n",
       "    </tr>\n",
       "    <tr>\n",
       "      <td>4</td>\n",
       "      <td>0</td>\n",
       "      <td>14177</td>\n",
       "      <td>53</td>\n",
       "      <td>среднее</td>\n",
       "      <td>1</td>\n",
       "      <td>гражданский брак</td>\n",
       "      <td>1</td>\n",
       "      <td>F</td>\n",
       "      <td>пенсионер</td>\n",
       "      <td>0</td>\n",
       "      <td>158616.078125</td>\n",
       "      <td>сыграть свадьбу</td>\n",
       "      <td>свадьба</td>\n",
       "      <td>средний доход</td>\n",
       "    </tr>\n",
       "    <tr>\n",
       "      <td>...</td>\n",
       "      <td>...</td>\n",
       "      <td>...</td>\n",
       "      <td>...</td>\n",
       "      <td>...</td>\n",
       "      <td>...</td>\n",
       "      <td>...</td>\n",
       "      <td>...</td>\n",
       "      <td>...</td>\n",
       "      <td>...</td>\n",
       "      <td>...</td>\n",
       "      <td>...</td>\n",
       "      <td>...</td>\n",
       "      <td>...</td>\n",
       "      <td>...</td>\n",
       "    </tr>\n",
       "    <tr>\n",
       "      <td>21466</td>\n",
       "      <td>1</td>\n",
       "      <td>4529</td>\n",
       "      <td>43</td>\n",
       "      <td>среднее</td>\n",
       "      <td>1</td>\n",
       "      <td>гражданский брак</td>\n",
       "      <td>1</td>\n",
       "      <td>F</td>\n",
       "      <td>компаньон</td>\n",
       "      <td>0</td>\n",
       "      <td>224791.859375</td>\n",
       "      <td>операции с жильем</td>\n",
       "      <td>недвижимость</td>\n",
       "      <td>высокий доход</td>\n",
       "    </tr>\n",
       "    <tr>\n",
       "      <td>21467</td>\n",
       "      <td>0</td>\n",
       "      <td>14330</td>\n",
       "      <td>67</td>\n",
       "      <td>среднее</td>\n",
       "      <td>1</td>\n",
       "      <td>женат / замужем</td>\n",
       "      <td>0</td>\n",
       "      <td>F</td>\n",
       "      <td>пенсионер</td>\n",
       "      <td>0</td>\n",
       "      <td>155999.812500</td>\n",
       "      <td>сделка с автомобилем</td>\n",
       "      <td>автомобиль</td>\n",
       "      <td>средний доход</td>\n",
       "    </tr>\n",
       "    <tr>\n",
       "      <td>21468</td>\n",
       "      <td>1</td>\n",
       "      <td>2113</td>\n",
       "      <td>38</td>\n",
       "      <td>среднее</td>\n",
       "      <td>1</td>\n",
       "      <td>гражданский брак</td>\n",
       "      <td>1</td>\n",
       "      <td>M</td>\n",
       "      <td>сотрудник</td>\n",
       "      <td>1</td>\n",
       "      <td>89672.562500</td>\n",
       "      <td>недвижимость</td>\n",
       "      <td>недвижимость</td>\n",
       "      <td>низкий доход</td>\n",
       "    </tr>\n",
       "    <tr>\n",
       "      <td>21469</td>\n",
       "      <td>3</td>\n",
       "      <td>3112</td>\n",
       "      <td>38</td>\n",
       "      <td>среднее</td>\n",
       "      <td>1</td>\n",
       "      <td>женат / замужем</td>\n",
       "      <td>0</td>\n",
       "      <td>M</td>\n",
       "      <td>сотрудник</td>\n",
       "      <td>1</td>\n",
       "      <td>244093.046875</td>\n",
       "      <td>на покупку своего автомобиля</td>\n",
       "      <td>автомобиль</td>\n",
       "      <td>высокий доход</td>\n",
       "    </tr>\n",
       "    <tr>\n",
       "      <td>21470</td>\n",
       "      <td>2</td>\n",
       "      <td>1984</td>\n",
       "      <td>40</td>\n",
       "      <td>среднее</td>\n",
       "      <td>1</td>\n",
       "      <td>женат / замужем</td>\n",
       "      <td>0</td>\n",
       "      <td>F</td>\n",
       "      <td>сотрудник</td>\n",
       "      <td>0</td>\n",
       "      <td>82047.421875</td>\n",
       "      <td>на покупку автомобиля</td>\n",
       "      <td>автомобиль</td>\n",
       "      <td>низкий доход</td>\n",
       "    </tr>\n",
       "  </tbody>\n",
       "</table>\n",
       "<p>21471 rows × 14 columns</p>\n",
       "</div>"
      ],
      "text/plain": [
       "       children  days_employed  dob_years education  education_id  \\\n",
       "0             1           8437         42    высшее             0   \n",
       "1             1           4024         36   среднее             1   \n",
       "2             0           5623         33   среднее             1   \n",
       "3             3           4124         32   среднее             1   \n",
       "4             0          14177         53   среднее             1   \n",
       "...         ...            ...        ...       ...           ...   \n",
       "21466         1           4529         43   среднее             1   \n",
       "21467         0          14330         67   среднее             1   \n",
       "21468         1           2113         38   среднее             1   \n",
       "21469         3           3112         38   среднее             1   \n",
       "21470         2           1984         40   среднее             1   \n",
       "\n",
       "          family_status  family_status_id gender income_type  debt  \\\n",
       "0       женат / замужем                 0      F   сотрудник     0   \n",
       "1       женат / замужем                 0      F   сотрудник     0   \n",
       "2       женат / замужем                 0      M   сотрудник     0   \n",
       "3       женат / замужем                 0      M   сотрудник     0   \n",
       "4      гражданский брак                 1      F   пенсионер     0   \n",
       "...                 ...               ...    ...         ...   ...   \n",
       "21466  гражданский брак                 1      F   компаньон     0   \n",
       "21467   женат / замужем                 0      F   пенсионер     0   \n",
       "21468  гражданский брак                 1      M   сотрудник     1   \n",
       "21469   женат / замужем                 0      M   сотрудник     1   \n",
       "21470   женат / замужем                 0      F   сотрудник     0   \n",
       "\n",
       "        total_income                       purpose purpose_category  \\\n",
       "0      253875.640625                 покупка жилья     недвижимость   \n",
       "1      112080.015625       приобретение автомобиля       автомобиль   \n",
       "2      145885.953125                 покупка жилья     недвижимость   \n",
       "3      267628.562500    дополнительное образование      образование   \n",
       "4      158616.078125               сыграть свадьбу          свадьба   \n",
       "...              ...                           ...              ...   \n",
       "21466  224791.859375             операции с жильем     недвижимость   \n",
       "21467  155999.812500          сделка с автомобилем       автомобиль   \n",
       "21468   89672.562500                  недвижимость     недвижимость   \n",
       "21469  244093.046875  на покупку своего автомобиля       автомобиль   \n",
       "21470   82047.421875         на покупку автомобиля       автомобиль   \n",
       "\n",
       "      income_category  \n",
       "0       высокий доход  \n",
       "1        низкий доход  \n",
       "2       средний доход  \n",
       "3       высокий доход  \n",
       "4       средний доход  \n",
       "...               ...  \n",
       "21466   высокий доход  \n",
       "21467   средний доход  \n",
       "21468    низкий доход  \n",
       "21469   высокий доход  \n",
       "21470    низкий доход  \n",
       "\n",
       "[21471 rows x 14 columns]"
      ]
     },
     "metadata": {},
     "output_type": "display_data"
    }
   ],
   "source": [
    "def income_category(income):\n",
    "    if income <= 120000:\n",
    "        return 'низкий доход'\n",
    "    elif 300 < income <= 200000:\n",
    "        return 'средний доход'\n",
    "    elif income > 200000:\n",
    "        return 'высокий доход'\n",
    "\n",
    "data['income_category'] = data['total_income'].apply(income_category)\n",
    "\n",
    "display(data)"
   ]
  },
  {
   "cell_type": "markdown",
   "metadata": {},
   "source": [
    "**Вывод**\n",
    "\n",
    "приблизительно поделил выборку на три части, меньше 120000 - низкий доход, меньше 200000 - средний, все что больше высокий."
   ]
  },
  {
   "cell_type": "code",
   "execution_count": 21,
   "metadata": {},
   "outputs": [
    {
     "data": {
      "text/plain": [
       "income_category\n",
       "высокий доход    5066\n",
       "низкий доход     6845\n",
       "средний доход    9560\n",
       "Name: total_income, dtype: int64"
      ]
     },
     "metadata": {},
     "output_type": "display_data"
    }
   ],
   "source": [
    "display(data.groupby('income_category')['total_income'].count())"
   ]
  },
  {
   "cell_type": "markdown",
   "metadata": {},
   "source": [
    "## Шаг 3. Ответьте на вопросы\n",
    "\n",
    "- Есть ли зависимость между наличием детей и возвратом кредита в срок?"
   ]
  },
  {
   "cell_type": "code",
   "execution_count": 22,
   "metadata": {},
   "outputs": [
    {
     "data": {
      "text/plain": [
       "children  debt\n",
       "0         0       13158\n",
       "          1        1072\n",
       "1         0        4365\n",
       "          1         444\n",
       "2         0        1858\n",
       "          1         194\n",
       "3         0         303\n",
       "          1          27\n",
       "4         0          37\n",
       "          1           4\n",
       "5         0           9\n",
       "Name: debt, dtype: int64"
      ]
     },
     "metadata": {},
     "output_type": "display_data"
    },
    {
     "name": "stdout",
     "output_type": "stream",
     "text": [
      "\n",
      "% невозвратов если нет детей: 0.07533380182712579\n",
      "% невозвратов если есть дети: 0.09239055379091286\n",
      "\n",
      "---------------------------------------\n",
      "\n",
      "% невозвратов если один ребенок: 0.09232688708671241\n",
      "% невозвратов если детей >2:     0.09251644736842106\n"
     ]
    }
   ],
   "source": [
    "children = data.groupby('children')['debt'].value_counts()\n",
    "display(children)\n",
    "print('\\n% невозвратов если нет детей:',1072/(1072+13158))\n",
    "print('% невозвратов если есть дети:',(444 + 194 + 27 + 4)/children[2:11].sum())\n",
    "print('\\n---------------------------------------\\n')\n",
    "print('% невозвратов если один ребенок:',444/(444 + 4365))\n",
    "print('% невозвратов если детей >2:    ',(194 + 27 + 4)/children[4:11].sum())"
   ]
  },
  {
   "cell_type": "markdown",
   "metadata": {},
   "source": [
    "**Вывод**\n",
    "\n",
    "Разница невозвратов пол процента в сторону клиентов с детьми(можно сказать не существенная)\n",
    "\n",
    "- Есть ли зависимость между семейным положением и возвратом кредита в срок?"
   ]
  },
  {
   "cell_type": "code",
   "execution_count": 23,
   "metadata": {},
   "outputs": [
    {
     "data": {
      "text/plain": [
       "family_status          debt\n",
       "в разводе              0        1110\n",
       "                       1          85\n",
       "вдовец / вдова         0         896\n",
       "                       1          63\n",
       "гражданский брак       0        3775\n",
       "                       1         388\n",
       "женат / замужем        0       11413\n",
       "                       1         931\n",
       "не женат / не замужем  0        2536\n",
       "                       1         274\n",
       "Name: debt, dtype: int64"
      ]
     },
     "metadata": {},
     "output_type": "display_data"
    },
    {
     "name": "stdout",
     "output_type": "stream",
     "text": [
      "\n",
      "проценты невозвратов:\n",
      "\n",
      "в разводе              0.07112970711297072\n",
      "вдовец / вдова         0.06569343065693431\n",
      "гражданский брак       0.09320201777564256\n",
      "женат / замужем        0.07542125729099157\n",
      "не женат / не замужем  0.09750889679715302\n"
     ]
    }
   ],
   "source": [
    "family = data.groupby('family_status')['debt'].value_counts()\n",
    "display(family)\n",
    "print('\\nпроценты невозвратов:\\n')\n",
    "print('в разводе             ',85/(85+1110))\n",
    "print('вдовец / вдова        ',63/(63+896))\n",
    "print('гражданский брак      ',388/(388+3775))\n",
    "print('женат / замужем       ',931/(931+11413))\n",
    "print('не женат / не замужем ',274/(274+2536))"
   ]
  },
  {
   "cell_type": "markdown",
   "metadata": {},
   "source": [
    "**Вывод**\n",
    "\n",
    "Четкий ответ дать сложно разница между группами небольшая, и сами группы сильно отличаются по размеру(количество вдов/вдовцов к примеру сильно меньше женат/не замужем), но наблюдаеься тенденция что люди не вступающие в оффициальный брак чаще имеют просрочку по кредиту\n",
    "\n",
    "- Есть ли зависимость между уровнем дохода и возвратом кредита в срок?"
   ]
  },
  {
   "cell_type": "code",
   "execution_count": 24,
   "metadata": {},
   "outputs": [
    {
     "data": {
      "text/plain": [
       "income_category  debt\n",
       "высокий доход    0       4708\n",
       "                 1        358\n",
       "низкий доход     0       6294\n",
       "                 1        551\n",
       "средний доход    0       8728\n",
       "                 1        832\n",
       "Name: debt, dtype: int64"
      ]
     },
     "metadata": {},
     "output_type": "display_data"
    },
    {
     "name": "stdout",
     "output_type": "stream",
     "text": [
      "\n",
      "низкий доход:   0.08049671292914536\n",
      "\n",
      "средний доход:  0.08702928870292886\n",
      "\n",
      "высокий доход:  0.07066719305171733\n"
     ]
    }
   ],
   "source": [
    "income = data.groupby('income_category')['debt'].value_counts()\n",
    "display(income)\n",
    "\n",
    "print('\\nнизкий доход:  ',551/(551+6294))\n",
    "print('\\nсредний доход: ',832/(832+8728))\n",
    "print('\\nвысокий доход: ',358/(358+4708))"
   ]
  },
  {
   "cell_type": "markdown",
   "metadata": {},
   "source": [
    "**Вывод**\n",
    "\n",
    "Разница не большая, можно выделлить что люди с высоким доходом возвращают охотнее\n",
    "\n",
    "- Как разные цели кредита влияют на его возврат в срок?"
   ]
  },
  {
   "cell_type": "code",
   "execution_count": 25,
   "metadata": {},
   "outputs": [
    {
     "data": {
      "text/plain": [
       "purpose_category  debt\n",
       "автомобиль        0        3905\n",
       "                  1         403\n",
       "недвижимость      0       10032\n",
       "                  1         782\n",
       "образование       0        3644\n",
       "                  1         370\n",
       "свадьба           0        2149\n",
       "                  1         186\n",
       "Name: debt, dtype: int64"
      ]
     },
     "metadata": {},
     "output_type": "display_data"
    },
    {
     "name": "stdout",
     "output_type": "stream",
     "text": [
      "\n",
      "автомобиль:   0.09354688950789229\n",
      "\n",
      "недвижимость: 0.0723136674680969\n",
      "\n",
      "образование:  0.09217737917289487\n",
      "\n",
      "свадьба    :  0.07965738758029979\n"
     ]
    }
   ],
   "source": [
    "purpose = data.groupby('purpose_category')['debt'].value_counts()\n",
    "display(purpose)\n",
    "\n",
    "print('\\nавтомобиль:  ',403/(403+3905))\n",
    "print('\\nнедвижимость:',782/(782+10032))\n",
    "print('\\nобразование: ',370/(370+3644))\n",
    "print('\\nсвадьба    : ',186/(186+2149))"
   ]
  },
  {
   "cell_type": "markdown",
   "metadata": {},
   "source": [
    "**Вывод**\n",
    "\n",
    "Люди берущие кредиты на покупку/постройку/ремонт/какие либо еще операции с недвижимостью самые надежные клиенты(по факту опять сделать однозначный вывод сложно данные не равномерно распределены)\n",
    "\n",
    "## Шаг 4. Общий вывод\n",
    "\n",
    "Были исследованы данные, в них обнаружены:\n",
    "1. Разного рода пропуски и шумы.\n",
    "2. Стаж безработных и пенсионеров по какой то причине измеряется в часах, а стажи всех остальных имеют отрицательные значения.\n",
    "\n",
    "Ответы на вопросы:\n",
    "1. Есть ли зависимость между наличием детей и возвратом кредита в срок?\n",
    "- Есть, при наличии детей вероятность просрочить выплату увеличивается с 7.5% до 9.2% что составляет ~1.7%\n",
    "2. Есть ли зависимость между семейным положением и возвратом кредита в срок?\n",
    "\n",
    "    - Есть, для групп были полученны следующие вероятности просрочить выплату:\n",
    "\n",
    "        - в разводе - 7.11%\n",
    "\n",
    "        - вдовец / вдова - 6.57%\n",
    "\n",
    "        - гражданский брак - 9.32%\n",
    "\n",
    "        - женат / замужем - 7.54%\n",
    "\n",
    "        - не женат / не замужем - 9.75%\n",
    "\n",
    "        - Можно выделить что люди заключающие оффициальный брак(и состоящие в нем ранее) имеют вероятность просрочить выплату на ~2.47% меньше (7.07% против 9.54% соответственно)\n",
    "\n",
    "3. Есть ли зависимость между уровнем дохода и возвратом кредита в срок?\n",
    "    - Есть, но не ярко выраженная, люди с доходами выше среднего имеют вероятность просрочить выплату на ~1% меньше(7.1% против 8.35%)\n",
    "\n",
    "4. Как разные цели кредита влияют на его возврат в срок?\n",
    "    - Есть, для групп были полученны следующие вероятности просрочить выплату:\n",
    "\n",
    "---\n",
    "автомобиль - 9.35%\n",
    "\n",
    "недвижимость - 7.23%\n",
    "\n",
    "образование - 9.22%\n",
    "\n",
    "свадьба - 7.97%\n",
    "\n",
    "---\n",
    "\n",
    "- Люди, берущие кредит на недвижимость и свадьбы, имеют вероятность просрочить кредит на ~1.69% ниже, чем люди берущие кредит на покупку авто и оплату образования (7.6% против 9.26%)\n",
    "\n",
    "---\n",
    "\n",
    "П.с: группы не достаточно большие и неравномерные, стоит провести анализ на выборке побольше."
   ]
  },
  {
   "cell_type": "code",
   "execution_count": null,
   "metadata": {},
   "outputs": [],
   "source": []
  }
 ],
 "metadata": {
  "ExecuteTimeLog": [
   {
    "duration": 925,
    "start_time": "2021-10-28T13:57:53.970Z"
   },
   {
    "duration": 101,
    "start_time": "2021-10-28T14:00:44.436Z"
   },
   {
    "duration": 91,
    "start_time": "2021-10-28T14:11:19.543Z"
   },
   {
    "duration": 150,
    "start_time": "2021-10-28T14:13:48.991Z"
   },
   {
    "duration": 81,
    "start_time": "2021-10-28T14:32:03.265Z"
   },
   {
    "duration": 119,
    "start_time": "2021-10-28T14:33:14.643Z"
   },
   {
    "duration": 118,
    "start_time": "2021-10-28T14:33:35.251Z"
   },
   {
    "duration": 119,
    "start_time": "2021-10-28T14:34:23.698Z"
   },
   {
    "duration": 118,
    "start_time": "2021-10-28T14:35:11.282Z"
   },
   {
    "duration": 119,
    "start_time": "2021-10-28T14:35:25.654Z"
   },
   {
    "duration": 164,
    "start_time": "2021-10-28T14:35:40.570Z"
   },
   {
    "duration": 86,
    "start_time": "2021-10-28T14:35:50.602Z"
   },
   {
    "duration": 84,
    "start_time": "2021-10-28T14:36:13.659Z"
   },
   {
    "duration": 85,
    "start_time": "2021-10-28T14:36:42.883Z"
   },
   {
    "duration": 84,
    "start_time": "2021-10-28T14:37:08.170Z"
   },
   {
    "duration": 88,
    "start_time": "2021-10-28T14:38:25.363Z"
   },
   {
    "duration": 109,
    "start_time": "2021-10-28T14:39:07.671Z"
   },
   {
    "duration": 91,
    "start_time": "2021-10-28T14:39:45.774Z"
   },
   {
    "duration": 94,
    "start_time": "2021-10-28T14:40:19.363Z"
   },
   {
    "duration": 101,
    "start_time": "2021-10-28T14:41:15.186Z"
   },
   {
    "duration": 123,
    "start_time": "2021-10-28T14:41:38.693Z"
   },
   {
    "duration": 119,
    "start_time": "2021-10-28T14:42:05.030Z"
   },
   {
    "duration": 86,
    "start_time": "2021-10-28T14:42:48.913Z"
   },
   {
    "duration": 81,
    "start_time": "2021-10-28T14:42:55.615Z"
   },
   {
    "duration": 95,
    "start_time": "2021-10-28T14:49:53.240Z"
   },
   {
    "duration": 127,
    "start_time": "2021-10-28T14:55:44.789Z"
   },
   {
    "duration": 106,
    "start_time": "2021-10-28T14:55:55.476Z"
   },
   {
    "duration": 105,
    "start_time": "2021-10-28T14:56:17.348Z"
   },
   {
    "duration": 106,
    "start_time": "2021-10-28T14:56:24.699Z"
   },
   {
    "duration": 8,
    "start_time": "2021-10-28T15:03:09.568Z"
   },
   {
    "duration": 37,
    "start_time": "2021-10-28T15:03:51.121Z"
   },
   {
    "duration": 12,
    "start_time": "2021-10-28T15:04:02.584Z"
   },
   {
    "duration": 36,
    "start_time": "2021-10-28T15:04:08.720Z"
   },
   {
    "duration": 13,
    "start_time": "2021-10-28T15:04:16.469Z"
   },
   {
    "duration": 11,
    "start_time": "2021-10-28T15:04:26.292Z"
   },
   {
    "duration": 15,
    "start_time": "2021-10-28T15:04:36.368Z"
   },
   {
    "duration": 20,
    "start_time": "2021-10-28T15:05:35.529Z"
   },
   {
    "duration": 28,
    "start_time": "2021-10-28T15:05:48.999Z"
   },
   {
    "duration": 23,
    "start_time": "2021-10-28T15:06:22.934Z"
   },
   {
    "duration": 121,
    "start_time": "2021-10-28T15:14:16.898Z"
   },
   {
    "duration": 17,
    "start_time": "2021-10-28T15:22:57.162Z"
   },
   {
    "duration": 42,
    "start_time": "2021-10-28T15:23:03.666Z"
   },
   {
    "duration": 36,
    "start_time": "2021-10-28T15:24:36.497Z"
   },
   {
    "duration": 43,
    "start_time": "2021-10-28T15:24:58.639Z"
   },
   {
    "duration": 40,
    "start_time": "2021-10-28T15:25:21.764Z"
   },
   {
    "duration": 40,
    "start_time": "2021-10-28T15:25:30.044Z"
   },
   {
    "duration": 13,
    "start_time": "2021-10-28T15:25:56.634Z"
   },
   {
    "duration": 18,
    "start_time": "2021-10-28T15:26:07.869Z"
   },
   {
    "duration": 44,
    "start_time": "2021-10-28T15:26:24.367Z"
   },
   {
    "duration": 39,
    "start_time": "2021-10-28T15:27:04.590Z"
   },
   {
    "duration": 40,
    "start_time": "2021-10-28T15:27:24.894Z"
   },
   {
    "duration": 25,
    "start_time": "2021-10-28T15:27:47.180Z"
   },
   {
    "duration": 38,
    "start_time": "2021-10-28T15:27:55.214Z"
   },
   {
    "duration": 35,
    "start_time": "2021-10-28T15:31:46.963Z"
   },
   {
    "duration": 496,
    "start_time": "2021-10-28T15:32:36.446Z"
   },
   {
    "duration": 44,
    "start_time": "2021-10-28T15:32:47.068Z"
   },
   {
    "duration": 40,
    "start_time": "2021-10-28T15:32:55.696Z"
   },
   {
    "duration": 55,
    "start_time": "2021-10-28T15:34:11.832Z"
   },
   {
    "duration": 5,
    "start_time": "2021-10-28T15:41:16.756Z"
   },
   {
    "duration": 381,
    "start_time": "2021-10-28T15:49:52.686Z"
   },
   {
    "duration": 73,
    "start_time": "2021-10-28T15:50:06.797Z"
   },
   {
    "duration": 80,
    "start_time": "2021-10-28T15:51:02.032Z"
   },
   {
    "duration": 74,
    "start_time": "2021-10-28T15:54:01.327Z"
   },
   {
    "duration": 75,
    "start_time": "2021-10-28T15:54:12.896Z"
   },
   {
    "duration": 85,
    "start_time": "2021-10-28T15:55:04.918Z"
   },
   {
    "duration": 110,
    "start_time": "2021-10-28T15:58:54.997Z"
   },
   {
    "duration": 78,
    "start_time": "2021-10-28T15:59:25.024Z"
   },
   {
    "duration": 38,
    "start_time": "2021-10-28T16:00:43.721Z"
   },
   {
    "duration": 71,
    "start_time": "2021-10-28T16:04:19.499Z"
   },
   {
    "duration": 71,
    "start_time": "2021-10-28T16:04:30.983Z"
   },
   {
    "duration": 73,
    "start_time": "2021-10-28T16:04:39.917Z"
   },
   {
    "duration": 73,
    "start_time": "2021-10-28T16:04:51.474Z"
   },
   {
    "duration": 70,
    "start_time": "2021-10-28T16:05:10.470Z"
   },
   {
    "duration": 51,
    "start_time": "2021-10-28T16:06:17.220Z"
   },
   {
    "duration": 53,
    "start_time": "2021-10-28T16:06:45.346Z"
   },
   {
    "duration": 56,
    "start_time": "2021-10-28T16:07:29.914Z"
   },
   {
    "duration": 41,
    "start_time": "2021-10-28T16:09:41.311Z"
   },
   {
    "duration": 18,
    "start_time": "2021-10-28T16:10:11.823Z"
   },
   {
    "duration": 18,
    "start_time": "2021-10-28T16:10:35.094Z"
   },
   {
    "duration": 80,
    "start_time": "2021-10-28T16:12:00.526Z"
   },
   {
    "duration": 76,
    "start_time": "2021-10-28T16:12:09.933Z"
   },
   {
    "duration": 77,
    "start_time": "2021-10-28T16:13:01.937Z"
   },
   {
    "duration": 438,
    "start_time": "2021-10-28T16:14:14.596Z"
   },
   {
    "duration": 12,
    "start_time": "2021-10-28T16:14:28.530Z"
   },
   {
    "duration": 387,
    "start_time": "2021-10-28T16:14:47.042Z"
   },
   {
    "duration": 36,
    "start_time": "2021-10-28T16:16:23.691Z"
   },
   {
    "duration": 37,
    "start_time": "2021-10-28T16:17:01.210Z"
   },
   {
    "duration": 117,
    "start_time": "2021-10-28T16:17:49.793Z"
   },
   {
    "duration": 37,
    "start_time": "2021-10-28T16:18:10.455Z"
   },
   {
    "duration": 488,
    "start_time": "2021-10-28T16:23:20.092Z"
   },
   {
    "duration": 394,
    "start_time": "2021-10-28T16:23:47.860Z"
   },
   {
    "duration": 18,
    "start_time": "2021-10-28T16:25:11.564Z"
   },
   {
    "duration": 20,
    "start_time": "2021-10-28T16:25:41.556Z"
   },
   {
    "duration": 15,
    "start_time": "2021-10-28T16:26:52.357Z"
   },
   {
    "duration": 9884,
    "start_time": "2021-10-28T16:28:31.931Z"
   },
   {
    "duration": 9116,
    "start_time": "2021-10-28T16:29:05.260Z"
   },
   {
    "duration": 9844,
    "start_time": "2021-10-28T16:29:20.708Z"
   },
   {
    "duration": 9462,
    "start_time": "2021-10-28T16:29:37.093Z"
   },
   {
    "duration": 28,
    "start_time": "2021-10-28T16:29:51.423Z"
   },
   {
    "duration": 17,
    "start_time": "2021-10-28T16:29:59.771Z"
   },
   {
    "duration": 9206,
    "start_time": "2021-10-28T16:30:04.865Z"
   },
   {
    "duration": 17,
    "start_time": "2021-10-28T16:30:22.617Z"
   },
   {
    "duration": 18,
    "start_time": "2021-10-28T16:30:29.029Z"
   },
   {
    "duration": 2761,
    "start_time": "2021-10-28T16:32:00.042Z"
   },
   {
    "duration": 2729,
    "start_time": "2021-10-28T16:33:00.377Z"
   },
   {
    "duration": 20,
    "start_time": "2021-10-28T16:33:03.108Z"
   },
   {
    "duration": 6869,
    "start_time": "2021-10-28T16:36:34.955Z"
   },
   {
    "duration": 2632,
    "start_time": "2021-10-28T16:37:26.730Z"
   },
   {
    "duration": 485,
    "start_time": "2021-10-28T16:41:17.229Z"
   },
   {
    "duration": 417,
    "start_time": "2021-10-28T16:44:54.281Z"
   },
   {
    "duration": 2856,
    "start_time": "2021-10-28T16:45:19.213Z"
   },
   {
    "duration": 4,
    "start_time": "2021-10-28T16:46:49.664Z"
   },
   {
    "duration": 6,
    "start_time": "2021-10-28T16:46:56.384Z"
   },
   {
    "duration": 5,
    "start_time": "2021-10-28T16:47:02.637Z"
   },
   {
    "duration": 5,
    "start_time": "2021-10-28T16:47:08.626Z"
   },
   {
    "duration": 19,
    "start_time": "2021-10-28T16:47:19.684Z"
   },
   {
    "duration": 112,
    "start_time": "2021-10-28T16:47:46.057Z"
   },
   {
    "duration": 37,
    "start_time": "2021-10-28T16:48:02.353Z"
   },
   {
    "duration": 39,
    "start_time": "2021-10-28T16:48:03.091Z"
   },
   {
    "duration": 73,
    "start_time": "2021-10-28T16:48:04.958Z"
   },
   {
    "duration": 2905,
    "start_time": "2021-10-28T16:48:08.563Z"
   },
   {
    "duration": 2936,
    "start_time": "2021-10-28T16:49:44.528Z"
   },
   {
    "duration": 106,
    "start_time": "2021-10-28T16:50:13.217Z"
   },
   {
    "duration": 34,
    "start_time": "2021-10-28T16:50:15.555Z"
   },
   {
    "duration": 38,
    "start_time": "2021-10-28T16:50:16.059Z"
   },
   {
    "duration": 80,
    "start_time": "2021-10-28T16:50:19.891Z"
   },
   {
    "duration": 950,
    "start_time": "2021-10-28T16:50:22.361Z"
   },
   {
    "duration": 108,
    "start_time": "2021-10-28T16:52:03.755Z"
   },
   {
    "duration": 35,
    "start_time": "2021-10-28T16:52:06.359Z"
   },
   {
    "duration": 38,
    "start_time": "2021-10-28T16:52:07.678Z"
   },
   {
    "duration": 74,
    "start_time": "2021-10-28T16:52:11.694Z"
   },
   {
    "duration": 895,
    "start_time": "2021-10-28T16:52:35.776Z"
   },
   {
    "duration": 106,
    "start_time": "2021-10-28T16:54:14.319Z"
   },
   {
    "duration": 34,
    "start_time": "2021-10-28T16:54:16.636Z"
   },
   {
    "duration": 42,
    "start_time": "2021-10-28T16:54:17.786Z"
   },
   {
    "duration": 71,
    "start_time": "2021-10-28T16:54:20.051Z"
   },
   {
    "duration": 38,
    "start_time": "2021-10-28T16:54:21.586Z"
   },
   {
    "duration": 367,
    "start_time": "2021-10-28T16:55:36.272Z"
   },
   {
    "duration": 375,
    "start_time": "2021-10-28T16:55:45.171Z"
   },
   {
    "duration": 487,
    "start_time": "2021-10-28T16:56:43.204Z"
   },
   {
    "duration": 47,
    "start_time": "2021-10-28T16:56:55.300Z"
   },
   {
    "duration": 48,
    "start_time": "2021-10-28T16:57:16.766Z"
   },
   {
    "duration": 42,
    "start_time": "2021-10-28T17:00:11.014Z"
   },
   {
    "duration": 55,
    "start_time": "2021-10-28T17:00:24.523Z"
   },
   {
    "duration": 43,
    "start_time": "2021-10-28T17:01:42.637Z"
   },
   {
    "duration": 65,
    "start_time": "2021-10-28T17:06:39.097Z"
   },
   {
    "duration": 123,
    "start_time": "2021-10-28T17:09:30.718Z"
   },
   {
    "duration": 32,
    "start_time": "2021-10-28T17:09:39.104Z"
   },
   {
    "duration": 436,
    "start_time": "2021-10-28T17:11:08.608Z"
   },
   {
    "duration": 5785,
    "start_time": "2021-10-28T17:11:19.716Z"
   },
   {
    "duration": 5691,
    "start_time": "2021-10-28T17:11:46.677Z"
   },
   {
    "duration": 6057,
    "start_time": "2021-10-28T17:12:46.606Z"
   },
   {
    "duration": 5759,
    "start_time": "2021-10-28T17:13:18.163Z"
   },
   {
    "duration": 399,
    "start_time": "2021-10-28T17:16:45.931Z"
   },
   {
    "duration": 445,
    "start_time": "2021-10-28T17:19:01.432Z"
   },
   {
    "duration": 60,
    "start_time": "2021-10-28T17:22:10.112Z"
   },
   {
    "duration": 62,
    "start_time": "2021-10-28T17:22:52.905Z"
   },
   {
    "duration": 62,
    "start_time": "2021-10-28T17:23:01.548Z"
   },
   {
    "duration": 58,
    "start_time": "2021-10-28T17:25:40.993Z"
   },
   {
    "duration": 68,
    "start_time": "2021-10-28T17:30:49.052Z"
   },
   {
    "duration": 82,
    "start_time": "2021-10-28T17:34:24.937Z"
   },
   {
    "duration": 69,
    "start_time": "2021-10-28T17:34:54.364Z"
   },
   {
    "duration": 3704,
    "start_time": "2021-10-28T17:41:01.876Z"
   },
   {
    "duration": 7,
    "start_time": "2021-10-28T17:46:49.802Z"
   },
   {
    "duration": 10,
    "start_time": "2021-10-28T17:49:31.928Z"
   },
   {
    "duration": 43,
    "start_time": "2021-10-28T17:49:51.713Z"
   },
   {
    "duration": 12,
    "start_time": "2021-10-28T17:50:14.243Z"
   },
   {
    "duration": 57,
    "start_time": "2021-10-28T17:55:43.980Z"
   },
   {
    "duration": 67,
    "start_time": "2021-10-28T17:56:35.666Z"
   },
   {
    "duration": 59,
    "start_time": "2021-10-28T17:56:53.954Z"
   },
   {
    "duration": 59,
    "start_time": "2021-10-28T17:57:37.136Z"
   },
   {
    "duration": 378,
    "start_time": "2021-10-28T18:02:01.578Z"
   },
   {
    "duration": 107,
    "start_time": "2021-10-28T18:03:11.504Z"
   },
   {
    "duration": 35,
    "start_time": "2021-10-28T18:03:14.488Z"
   },
   {
    "duration": 38,
    "start_time": "2021-10-28T18:03:15.442Z"
   },
   {
    "duration": 82,
    "start_time": "2021-10-28T18:03:25.555Z"
   },
   {
    "duration": 66,
    "start_time": "2021-10-28T18:03:33.135Z"
   },
   {
    "duration": 422,
    "start_time": "2021-10-28T18:03:42.472Z"
   },
   {
    "duration": 4158,
    "start_time": "2021-10-28T18:04:13.280Z"
   },
   {
    "duration": 4184,
    "start_time": "2021-10-28T18:05:23.601Z"
   },
   {
    "duration": 546,
    "start_time": "2021-10-28T18:07:01.533Z"
   },
   {
    "duration": 3839,
    "start_time": "2021-10-28T18:07:09.082Z"
   },
   {
    "duration": 3936,
    "start_time": "2021-10-28T18:09:13.022Z"
   },
   {
    "duration": 2980,
    "start_time": "2021-10-28T18:10:11.722Z"
   },
   {
    "duration": 2998,
    "start_time": "2021-10-28T18:10:44.163Z"
   },
   {
    "duration": 2905,
    "start_time": "2021-10-28T18:11:25.648Z"
   },
   {
    "duration": 3786,
    "start_time": "2021-10-28T18:11:40.856Z"
   },
   {
    "duration": 58,
    "start_time": "2021-10-28T18:15:16.760Z"
   },
   {
    "duration": 58,
    "start_time": "2021-10-28T18:19:16.494Z"
   },
   {
    "duration": 230,
    "start_time": "2021-10-28T18:21:46.342Z"
   },
   {
    "duration": 128,
    "start_time": "2021-10-28T18:22:09.848Z"
   },
   {
    "duration": 83,
    "start_time": "2021-10-28T18:22:22.988Z"
   },
   {
    "duration": 80,
    "start_time": "2021-10-28T18:23:04.232Z"
   },
   {
    "duration": 99,
    "start_time": "2021-10-28T18:23:28.681Z"
   },
   {
    "duration": 82,
    "start_time": "2021-10-28T18:25:54.030Z"
   },
   {
    "duration": 92,
    "start_time": "2021-10-28T18:29:04.241Z"
   },
   {
    "duration": 6,
    "start_time": "2021-10-28T18:54:27.656Z"
   },
   {
    "duration": 8,
    "start_time": "2021-10-28T18:55:14.374Z"
   },
   {
    "duration": 10,
    "start_time": "2021-10-28T18:55:53.554Z"
   },
   {
    "duration": 21,
    "start_time": "2021-10-28T18:56:36.422Z"
   },
   {
    "duration": 8,
    "start_time": "2021-10-28T18:57:23.937Z"
   },
   {
    "duration": 15,
    "start_time": "2021-10-28T18:58:39.963Z"
   },
   {
    "duration": 60,
    "start_time": "2021-10-28T19:02:53.130Z"
   },
   {
    "duration": 34,
    "start_time": "2021-10-28T19:03:24.005Z"
   },
   {
    "duration": 21,
    "start_time": "2021-10-28T19:04:36.423Z"
   },
   {
    "duration": 26,
    "start_time": "2021-10-28T19:08:47.455Z"
   },
   {
    "duration": 132,
    "start_time": "2021-10-28T19:10:03.701Z"
   },
   {
    "duration": 115,
    "start_time": "2021-10-28T19:10:13.289Z"
   },
   {
    "duration": 35,
    "start_time": "2021-10-28T19:10:15.425Z"
   },
   {
    "duration": 40,
    "start_time": "2021-10-28T19:10:15.679Z"
   },
   {
    "duration": 76,
    "start_time": "2021-10-28T19:10:16.231Z"
   },
   {
    "duration": 69,
    "start_time": "2021-10-28T19:10:17.064Z"
   },
   {
    "duration": 4082,
    "start_time": "2021-10-28T19:10:18.097Z"
   },
   {
    "duration": 100,
    "start_time": "2021-10-28T19:10:22.183Z"
   },
   {
    "duration": 10,
    "start_time": "2021-10-28T19:10:22.302Z"
   },
   {
    "duration": 22,
    "start_time": "2021-10-28T19:10:22.315Z"
   },
   {
    "duration": 20,
    "start_time": "2021-10-28T19:10:23.589Z"
   },
   {
    "duration": 343,
    "start_time": "2021-10-28T19:10:27.979Z"
   },
   {
    "duration": 52,
    "start_time": "2021-10-28T19:10:43.832Z"
   },
   {
    "duration": 63,
    "start_time": "2021-10-28T19:10:52.640Z"
   },
   {
    "duration": 965,
    "start_time": "2021-10-28T19:11:19.061Z"
   },
   {
    "duration": 33,
    "start_time": "2021-10-28T19:11:20.029Z"
   },
   {
    "duration": 59,
    "start_time": "2021-10-28T19:11:20.065Z"
   },
   {
    "duration": 95,
    "start_time": "2021-10-28T19:11:20.128Z"
   },
   {
    "duration": 92,
    "start_time": "2021-10-28T19:11:20.226Z"
   },
   {
    "duration": 3923,
    "start_time": "2021-10-28T19:11:20.320Z"
   },
   {
    "duration": 105,
    "start_time": "2021-10-28T19:11:24.246Z"
   },
   {
    "duration": 8,
    "start_time": "2021-10-28T19:11:24.354Z"
   },
   {
    "duration": 37,
    "start_time": "2021-10-28T19:11:24.364Z"
   },
   {
    "duration": 18,
    "start_time": "2021-10-28T19:11:24.403Z"
   },
   {
    "duration": 47,
    "start_time": "2021-10-28T19:11:24.423Z"
   },
   {
    "duration": 496,
    "start_time": "2021-10-28T19:12:44.130Z"
   },
   {
    "duration": 414,
    "start_time": "2021-10-28T19:13:13.722Z"
   },
   {
    "duration": 423,
    "start_time": "2021-10-28T19:13:27.484Z"
   },
   {
    "duration": 50,
    "start_time": "2021-10-28T19:13:34.399Z"
   },
   {
    "duration": 434,
    "start_time": "2021-10-28T19:14:02.853Z"
   },
   {
    "duration": 399,
    "start_time": "2021-10-28T19:15:52.894Z"
   },
   {
    "duration": 47,
    "start_time": "2021-10-28T19:16:18.209Z"
   },
   {
    "duration": 7006,
    "start_time": "2021-10-28T19:19:23.929Z"
   },
   {
    "duration": 50,
    "start_time": "2021-10-28T19:24:44.241Z"
   },
   {
    "duration": 6981,
    "start_time": "2021-10-28T19:25:45.158Z"
   },
   {
    "duration": 6215,
    "start_time": "2021-10-28T19:27:49.619Z"
   },
   {
    "duration": 12847,
    "start_time": "2021-10-28T19:29:27.555Z"
   },
   {
    "duration": 14460,
    "start_time": "2021-10-28T19:33:26.812Z"
   },
   {
    "duration": 13638,
    "start_time": "2021-10-28T19:33:49.385Z"
   },
   {
    "duration": 6,
    "start_time": "2021-10-28T19:36:04.447Z"
   },
   {
    "duration": 26,
    "start_time": "2021-10-28T19:36:13.367Z"
   },
   {
    "duration": 23,
    "start_time": "2021-10-28T19:36:35.221Z"
   },
   {
    "duration": 20,
    "start_time": "2021-10-28T19:36:52.728Z"
   },
   {
    "duration": 7,
    "start_time": "2021-10-28T19:37:04.470Z"
   },
   {
    "duration": 26,
    "start_time": "2021-10-28T19:37:21.331Z"
   },
   {
    "duration": 35,
    "start_time": "2021-10-28T19:37:46.463Z"
   },
   {
    "duration": 6,
    "start_time": "2021-10-28T19:39:05.881Z"
   },
   {
    "duration": 7,
    "start_time": "2021-10-28T19:39:12.595Z"
   },
   {
    "duration": 5,
    "start_time": "2021-10-28T19:39:19.170Z"
   },
   {
    "duration": 1019,
    "start_time": "2021-10-28T19:39:41.396Z"
   },
   {
    "duration": 7,
    "start_time": "2021-10-28T19:40:42.708Z"
   },
   {
    "duration": 9,
    "start_time": "2021-10-28T19:42:03.758Z"
   },
   {
    "duration": 29,
    "start_time": "2021-10-28T19:43:34.344Z"
   },
   {
    "duration": 407,
    "start_time": "2021-10-28T19:45:02.956Z"
   },
   {
    "duration": 376,
    "start_time": "2021-10-28T19:46:11.692Z"
   },
   {
    "duration": 25,
    "start_time": "2021-10-28T19:50:09.159Z"
   },
   {
    "duration": 40,
    "start_time": "2021-10-28T19:51:26.227Z"
   },
   {
    "duration": 923,
    "start_time": "2021-10-28T19:52:05.560Z"
   },
   {
    "duration": 47,
    "start_time": "2021-10-28T19:52:06.486Z"
   },
   {
    "duration": 63,
    "start_time": "2021-10-28T19:52:06.539Z"
   },
   {
    "duration": 99,
    "start_time": "2021-10-28T19:52:06.605Z"
   },
   {
    "duration": 96,
    "start_time": "2021-10-28T19:52:06.707Z"
   },
   {
    "duration": 3684,
    "start_time": "2021-10-28T19:52:06.805Z"
   },
   {
    "duration": 88,
    "start_time": "2021-10-28T19:52:10.492Z"
   },
   {
    "duration": 17,
    "start_time": "2021-10-28T19:52:10.583Z"
   },
   {
    "duration": 18,
    "start_time": "2021-10-28T19:52:10.603Z"
   },
   {
    "duration": 19,
    "start_time": "2021-10-28T19:52:10.624Z"
   },
   {
    "duration": 12244,
    "start_time": "2021-10-28T19:52:10.645Z"
   },
   {
    "duration": 49,
    "start_time": "2021-10-28T19:52:22.892Z"
   },
   {
    "duration": 977,
    "start_time": "2021-10-28T19:54:53.902Z"
   },
   {
    "duration": 51,
    "start_time": "2021-10-28T19:54:54.882Z"
   },
   {
    "duration": 39,
    "start_time": "2021-10-28T19:54:54.936Z"
   },
   {
    "duration": 103,
    "start_time": "2021-10-28T19:54:55.001Z"
   },
   {
    "duration": 99,
    "start_time": "2021-10-28T19:54:55.107Z"
   },
   {
    "duration": 3705,
    "start_time": "2021-10-28T19:54:55.209Z"
   },
   {
    "duration": 104,
    "start_time": "2021-10-28T19:54:58.916Z"
   },
   {
    "duration": 9,
    "start_time": "2021-10-28T19:54:59.024Z"
   },
   {
    "duration": 19,
    "start_time": "2021-10-28T19:54:59.036Z"
   },
   {
    "duration": 50,
    "start_time": "2021-10-28T19:54:59.057Z"
   },
   {
    "duration": 12463,
    "start_time": "2021-10-28T19:54:59.109Z"
   },
   {
    "duration": 706,
    "start_time": "2021-10-28T19:55:11.574Z"
   },
   {
    "duration": 682,
    "start_time": "2021-10-28T19:56:08.638Z"
   },
   {
    "duration": 1146,
    "start_time": "2021-10-28T19:56:31.462Z"
   },
   {
    "duration": 719,
    "start_time": "2021-10-28T19:56:53.645Z"
   },
   {
    "duration": 709,
    "start_time": "2021-10-28T20:00:36.983Z"
   },
   {
    "duration": 1401,
    "start_time": "2021-10-28T20:01:10.526Z"
   },
   {
    "duration": 883,
    "start_time": "2021-10-28T20:01:21.422Z"
   },
   {
    "duration": 36,
    "start_time": "2021-10-28T20:01:22.308Z"
   },
   {
    "duration": 78,
    "start_time": "2021-10-28T20:01:22.347Z"
   },
   {
    "duration": 89,
    "start_time": "2021-10-28T20:01:22.427Z"
   },
   {
    "duration": 98,
    "start_time": "2021-10-28T20:01:22.518Z"
   },
   {
    "duration": 3901,
    "start_time": "2021-10-28T20:01:22.619Z"
   },
   {
    "duration": 107,
    "start_time": "2021-10-28T20:01:26.522Z"
   },
   {
    "duration": 8,
    "start_time": "2021-10-28T20:01:26.632Z"
   },
   {
    "duration": 16,
    "start_time": "2021-10-28T20:01:26.643Z"
   },
   {
    "duration": 50,
    "start_time": "2021-10-28T20:01:26.662Z"
   },
   {
    "duration": 12570,
    "start_time": "2021-10-28T20:01:26.715Z"
   },
   {
    "duration": 735,
    "start_time": "2021-10-28T20:01:39.288Z"
   },
   {
    "duration": 881,
    "start_time": "2021-10-28T20:04:03.222Z"
   },
   {
    "duration": 35,
    "start_time": "2021-10-28T20:04:04.106Z"
   },
   {
    "duration": 70,
    "start_time": "2021-10-28T20:04:04.145Z"
   },
   {
    "duration": 92,
    "start_time": "2021-10-28T20:04:04.219Z"
   },
   {
    "duration": 89,
    "start_time": "2021-10-28T20:04:04.313Z"
   },
   {
    "duration": 3765,
    "start_time": "2021-10-28T20:04:04.405Z"
   },
   {
    "duration": 97,
    "start_time": "2021-10-28T20:04:08.172Z"
   },
   {
    "duration": 8,
    "start_time": "2021-10-28T20:04:08.273Z"
   },
   {
    "duration": 16,
    "start_time": "2021-10-28T20:04:08.302Z"
   },
   {
    "duration": 19,
    "start_time": "2021-10-28T20:04:08.321Z"
   },
   {
    "duration": 12454,
    "start_time": "2021-10-28T20:04:08.342Z"
   },
   {
    "duration": 745,
    "start_time": "2021-10-28T20:04:20.801Z"
   },
   {
    "duration": 929,
    "start_time": "2021-10-28T21:15:16.786Z"
   },
   {
    "duration": 38,
    "start_time": "2021-10-28T21:15:17.719Z"
   },
   {
    "duration": 76,
    "start_time": "2021-10-28T21:15:17.766Z"
   },
   {
    "duration": 116,
    "start_time": "2021-10-28T21:15:17.845Z"
   },
   {
    "duration": 99,
    "start_time": "2021-10-28T21:15:17.963Z"
   },
   {
    "duration": 3730,
    "start_time": "2021-10-28T21:15:18.064Z"
   },
   {
    "duration": 103,
    "start_time": "2021-10-28T21:15:21.800Z"
   },
   {
    "duration": 10,
    "start_time": "2021-10-28T21:15:21.906Z"
   },
   {
    "duration": 20,
    "start_time": "2021-10-28T21:15:21.919Z"
   },
   {
    "duration": 70,
    "start_time": "2021-10-28T21:15:21.942Z"
   },
   {
    "duration": 12342,
    "start_time": "2021-10-28T21:15:22.015Z"
   },
   {
    "duration": 1109,
    "start_time": "2021-10-28T21:15:34.360Z"
   },
   {
    "duration": 1122,
    "start_time": "2021-10-28T21:17:03.053Z"
   },
   {
    "duration": 885,
    "start_time": "2021-10-28T21:17:52.141Z"
   },
   {
    "duration": 36,
    "start_time": "2021-10-28T21:17:53.029Z"
   },
   {
    "duration": 63,
    "start_time": "2021-10-28T21:17:53.068Z"
   },
   {
    "duration": 104,
    "start_time": "2021-10-28T21:17:53.134Z"
   },
   {
    "duration": 117,
    "start_time": "2021-10-28T21:17:53.242Z"
   },
   {
    "duration": 3747,
    "start_time": "2021-10-28T21:17:53.362Z"
   },
   {
    "duration": 120,
    "start_time": "2021-10-28T21:17:57.113Z"
   },
   {
    "duration": 12,
    "start_time": "2021-10-28T21:17:57.236Z"
   },
   {
    "duration": 56,
    "start_time": "2021-10-28T21:17:57.253Z"
   },
   {
    "duration": 22,
    "start_time": "2021-10-28T21:17:57.313Z"
   },
   {
    "duration": 12490,
    "start_time": "2021-10-28T21:17:57.338Z"
   },
   {
    "duration": 1143,
    "start_time": "2021-10-28T21:18:09.831Z"
   },
   {
    "duration": 8,
    "start_time": "2021-10-28T21:22:37.147Z"
   },
   {
    "duration": 7264,
    "start_time": "2021-10-28T21:32:00.920Z"
   },
   {
    "duration": 966,
    "start_time": "2021-10-28T21:32:20.495Z"
   },
   {
    "duration": 5382,
    "start_time": "2021-10-28T21:35:53.842Z"
   },
   {
    "duration": 5382,
    "start_time": "2021-10-28T21:37:12.790Z"
   },
   {
    "duration": 5729,
    "start_time": "2021-10-28T21:39:30.479Z"
   },
   {
    "duration": 5560,
    "start_time": "2021-10-28T21:39:49.743Z"
   },
   {
    "duration": 6420,
    "start_time": "2021-10-28T21:40:33.607Z"
   },
   {
    "duration": 5311,
    "start_time": "2021-10-28T21:40:52.815Z"
   },
   {
    "duration": 907,
    "start_time": "2021-10-28T21:41:08.697Z"
   },
   {
    "duration": 35,
    "start_time": "2021-10-28T21:41:09.607Z"
   },
   {
    "duration": 75,
    "start_time": "2021-10-28T21:41:09.645Z"
   },
   {
    "duration": 107,
    "start_time": "2021-10-28T21:41:09.723Z"
   },
   {
    "duration": 100,
    "start_time": "2021-10-28T21:41:09.833Z"
   },
   {
    "duration": 3650,
    "start_time": "2021-10-28T21:41:09.936Z"
   },
   {
    "duration": 111,
    "start_time": "2021-10-28T21:41:13.589Z"
   },
   {
    "duration": 8,
    "start_time": "2021-10-28T21:41:13.703Z"
   },
   {
    "duration": 17,
    "start_time": "2021-10-28T21:41:13.714Z"
   },
   {
    "duration": 19,
    "start_time": "2021-10-28T21:41:13.733Z"
   },
   {
    "duration": 12014,
    "start_time": "2021-10-28T21:41:13.754Z"
   },
   {
    "duration": 1211,
    "start_time": "2021-10-28T21:41:25.771Z"
   },
   {
    "duration": 467,
    "start_time": "2021-10-28T21:41:26.985Z"
   },
   {
    "duration": 5219,
    "start_time": "2021-10-28T21:41:54.519Z"
   },
   {
    "duration": 83,
    "start_time": "2021-10-28T21:42:38.894Z"
   },
   {
    "duration": 4510,
    "start_time": "2021-10-28T21:46:26.024Z"
   },
   {
    "duration": 3909,
    "start_time": "2021-10-28T21:46:59.037Z"
   },
   {
    "duration": 41,
    "start_time": "2021-10-28T22:00:04.809Z"
   },
   {
    "duration": 370,
    "start_time": "2021-10-28T22:00:36.964Z"
   },
   {
    "duration": 9,
    "start_time": "2021-10-28T22:00:49.295Z"
   },
   {
    "duration": 413,
    "start_time": "2021-10-28T22:01:03.640Z"
   },
   {
    "duration": 394,
    "start_time": "2021-10-28T22:01:16.534Z"
   },
   {
    "duration": 919,
    "start_time": "2021-10-28T22:01:28.375Z"
   },
   {
    "duration": 37,
    "start_time": "2021-10-28T22:01:29.301Z"
   },
   {
    "duration": 78,
    "start_time": "2021-10-28T22:01:29.347Z"
   },
   {
    "duration": 98,
    "start_time": "2021-10-28T22:01:29.428Z"
   },
   {
    "duration": 98,
    "start_time": "2021-10-28T22:01:29.528Z"
   },
   {
    "duration": 3831,
    "start_time": "2021-10-28T22:01:29.628Z"
   },
   {
    "duration": 105,
    "start_time": "2021-10-28T22:01:33.463Z"
   },
   {
    "duration": 7,
    "start_time": "2021-10-28T22:01:33.571Z"
   },
   {
    "duration": 18,
    "start_time": "2021-10-28T22:01:33.600Z"
   },
   {
    "duration": 22,
    "start_time": "2021-10-28T22:01:33.620Z"
   },
   {
    "duration": 12604,
    "start_time": "2021-10-28T22:01:33.645Z"
   },
   {
    "duration": 1130,
    "start_time": "2021-10-28T22:01:46.252Z"
   },
   {
    "duration": 3529,
    "start_time": "2021-10-28T22:01:47.384Z"
   },
   {
    "duration": 466,
    "start_time": "2021-10-28T22:01:50.916Z"
   },
   {
    "duration": 354,
    "start_time": "2021-10-28T22:02:16.321Z"
   },
   {
    "duration": 17,
    "start_time": "2021-10-28T22:02:38.949Z"
   },
   {
    "duration": 30,
    "start_time": "2021-10-28T22:03:02.810Z"
   },
   {
    "duration": 22,
    "start_time": "2021-10-28T22:03:17.100Z"
   },
   {
    "duration": 36,
    "start_time": "2021-10-28T22:03:22.968Z"
   },
   {
    "duration": 8989,
    "start_time": "2021-10-28T22:05:17.279Z"
   },
   {
    "duration": 1183,
    "start_time": "2021-10-28T22:05:46.978Z"
   },
   {
    "duration": 36,
    "start_time": "2021-10-28T22:05:55.604Z"
   },
   {
    "duration": 541,
    "start_time": "2021-10-28T22:18:39.222Z"
   },
   {
    "duration": 9214,
    "start_time": "2021-10-28T22:19:50.626Z"
   },
   {
    "duration": 22155,
    "start_time": "2021-10-28T22:21:10.079Z"
   },
   {
    "duration": 30,
    "start_time": "2021-10-28T22:22:02.138Z"
   },
   {
    "duration": 1525,
    "start_time": "2021-10-28T22:23:28.246Z"
   },
   {
    "duration": 34,
    "start_time": "2021-10-28T22:23:39.672Z"
   },
   {
    "duration": 20373,
    "start_time": "2021-10-28T22:23:52.751Z"
   },
   {
    "duration": 36,
    "start_time": "2021-10-28T22:24:13.127Z"
   },
   {
    "duration": 905,
    "start_time": "2021-10-28T22:24:21.387Z"
   },
   {
    "duration": 34,
    "start_time": "2021-10-28T22:24:22.295Z"
   },
   {
    "duration": 68,
    "start_time": "2021-10-28T22:24:22.332Z"
   },
   {
    "duration": 104,
    "start_time": "2021-10-28T22:24:22.403Z"
   },
   {
    "duration": 96,
    "start_time": "2021-10-28T22:24:22.510Z"
   },
   {
    "duration": 3635,
    "start_time": "2021-10-28T22:24:22.609Z"
   },
   {
    "duration": 106,
    "start_time": "2021-10-28T22:24:26.247Z"
   },
   {
    "duration": 8,
    "start_time": "2021-10-28T22:24:26.357Z"
   },
   {
    "duration": 47,
    "start_time": "2021-10-28T22:24:26.368Z"
   },
   {
    "duration": 19,
    "start_time": "2021-10-28T22:24:26.418Z"
   },
   {
    "duration": 12015,
    "start_time": "2021-10-28T22:24:26.440Z"
   },
   {
    "duration": 1120,
    "start_time": "2021-10-28T22:24:38.457Z"
   },
   {
    "duration": 4030,
    "start_time": "2021-10-28T22:24:39.579Z"
   },
   {
    "duration": 20474,
    "start_time": "2021-10-28T22:24:43.612Z"
   },
   {
    "duration": 63,
    "start_time": "2021-10-28T22:25:04.089Z"
   },
   {
    "duration": 17,
    "start_time": "2021-10-28T22:26:26.236Z"
   },
   {
    "duration": 716,
    "start_time": "2021-10-29T08:54:12.484Z"
   },
   {
    "duration": 23,
    "start_time": "2021-10-29T08:54:13.204Z"
   },
   {
    "duration": 53,
    "start_time": "2021-10-29T08:54:13.229Z"
   },
   {
    "duration": 53,
    "start_time": "2021-10-29T08:54:13.284Z"
   },
   {
    "duration": 73,
    "start_time": "2021-10-29T08:54:13.339Z"
   },
   {
    "duration": 1894,
    "start_time": "2021-10-29T08:54:13.414Z"
   },
   {
    "duration": 76,
    "start_time": "2021-10-29T08:54:15.310Z"
   },
   {
    "duration": 7,
    "start_time": "2021-10-29T08:54:15.388Z"
   },
   {
    "duration": 13,
    "start_time": "2021-10-29T08:54:15.397Z"
   },
   {
    "duration": 14,
    "start_time": "2021-10-29T08:54:15.412Z"
   },
   {
    "duration": 8511,
    "start_time": "2021-10-29T08:54:15.428Z"
   },
   {
    "duration": 676,
    "start_time": "2021-10-29T08:54:23.941Z"
   },
   {
    "duration": 3502,
    "start_time": "2021-10-29T08:54:24.619Z"
   },
   {
    "duration": 15425,
    "start_time": "2021-10-29T08:54:28.123Z"
   },
   {
    "duration": 33,
    "start_time": "2021-10-29T08:54:43.550Z"
   },
   {
    "duration": 86,
    "start_time": "2021-10-29T09:05:35.122Z"
   },
   {
    "duration": 183,
    "start_time": "2021-10-29T09:06:00.767Z"
   },
   {
    "duration": 23,
    "start_time": "2021-10-29T09:08:33.649Z"
   },
   {
    "duration": 32,
    "start_time": "2021-10-29T09:08:48.655Z"
   },
   {
    "duration": 31,
    "start_time": "2021-10-29T09:09:26.682Z"
   },
   {
    "duration": 32,
    "start_time": "2021-10-29T09:09:42.567Z"
   },
   {
    "duration": 30,
    "start_time": "2021-10-29T09:09:47.997Z"
   },
   {
    "duration": 87,
    "start_time": "2021-10-29T09:09:54.666Z"
   },
   {
    "duration": 30,
    "start_time": "2021-10-29T09:10:02.195Z"
   },
   {
    "duration": 35,
    "start_time": "2021-10-29T09:10:16.315Z"
   },
   {
    "duration": 1192,
    "start_time": "2021-10-29T09:24:59.131Z"
   },
   {
    "duration": 28,
    "start_time": "2021-10-29T09:25:14.735Z"
   },
   {
    "duration": 250,
    "start_time": "2021-10-29T09:28:02.892Z"
   },
   {
    "duration": 9,
    "start_time": "2021-10-29T09:28:51.079Z"
   },
   {
    "duration": 21,
    "start_time": "2021-10-29T09:28:58.646Z"
   },
   {
    "duration": 236,
    "start_time": "2021-10-29T09:29:37.623Z"
   },
   {
    "duration": 17,
    "start_time": "2021-10-29T09:29:42.019Z"
   },
   {
    "duration": 7,
    "start_time": "2021-10-29T09:30:30.689Z"
   },
   {
    "duration": 16,
    "start_time": "2021-10-29T09:30:57.200Z"
   },
   {
    "duration": 16,
    "start_time": "2021-10-29T09:32:19.079Z"
   },
   {
    "duration": 21,
    "start_time": "2021-10-29T09:32:45.458Z"
   },
   {
    "duration": 15,
    "start_time": "2021-10-29T09:33:22.355Z"
   },
   {
    "duration": 20,
    "start_time": "2021-10-29T09:33:36.381Z"
   },
   {
    "duration": 7,
    "start_time": "2021-10-29T09:34:05.194Z"
   },
   {
    "duration": 255,
    "start_time": "2021-10-29T09:34:44.839Z"
   },
   {
    "duration": 9,
    "start_time": "2021-10-29T09:35:41.506Z"
   },
   {
    "duration": 8,
    "start_time": "2021-10-29T09:36:12.700Z"
   },
   {
    "duration": 8,
    "start_time": "2021-10-29T09:36:21.449Z"
   },
   {
    "duration": 256,
    "start_time": "2021-10-29T09:38:22.398Z"
   },
   {
    "duration": 238,
    "start_time": "2021-10-29T09:38:28.754Z"
   },
   {
    "duration": 9,
    "start_time": "2021-10-29T09:38:33.294Z"
   },
   {
    "duration": 248,
    "start_time": "2021-10-29T09:39:38.060Z"
   },
   {
    "duration": 9,
    "start_time": "2021-10-29T09:39:50.694Z"
   },
   {
    "duration": 10,
    "start_time": "2021-10-29T09:40:03.586Z"
   },
   {
    "duration": 8,
    "start_time": "2021-10-29T09:40:12.817Z"
   },
   {
    "duration": 9,
    "start_time": "2021-10-29T09:40:23.215Z"
   },
   {
    "duration": 9,
    "start_time": "2021-10-29T09:40:30.865Z"
   },
   {
    "duration": 8,
    "start_time": "2021-10-29T09:40:45.092Z"
   },
   {
    "duration": 10,
    "start_time": "2021-10-29T09:41:07.680Z"
   },
   {
    "duration": 10,
    "start_time": "2021-10-29T09:41:35.278Z"
   },
   {
    "duration": 8,
    "start_time": "2021-10-29T09:41:42.617Z"
   },
   {
    "duration": 11,
    "start_time": "2021-10-29T09:42:01.181Z"
   },
   {
    "duration": 12,
    "start_time": "2021-10-29T09:42:19.503Z"
   },
   {
    "duration": 88,
    "start_time": "2021-10-29T09:43:37.353Z"
   },
   {
    "duration": 11,
    "start_time": "2021-10-29T09:43:44.669Z"
   },
   {
    "duration": 11,
    "start_time": "2021-10-29T09:44:07.386Z"
   },
   {
    "duration": 11,
    "start_time": "2021-10-29T09:44:17.314Z"
   },
   {
    "duration": 11,
    "start_time": "2021-10-29T09:44:27.503Z"
   },
   {
    "duration": 11,
    "start_time": "2021-10-29T09:44:44.775Z"
   },
   {
    "duration": 12,
    "start_time": "2021-10-29T09:44:50.033Z"
   },
   {
    "duration": 12,
    "start_time": "2021-10-29T09:44:54.651Z"
   },
   {
    "duration": 12,
    "start_time": "2021-10-29T09:45:09.553Z"
   },
   {
    "duration": 13,
    "start_time": "2021-10-29T09:45:17.408Z"
   },
   {
    "duration": 13,
    "start_time": "2021-10-29T09:45:32.304Z"
   },
   {
    "duration": 14,
    "start_time": "2021-10-29T09:46:28.357Z"
   },
   {
    "duration": 12,
    "start_time": "2021-10-29T09:46:37.964Z"
   },
   {
    "duration": 11,
    "start_time": "2021-10-29T09:46:42.172Z"
   },
   {
    "duration": 12,
    "start_time": "2021-10-29T09:46:45.568Z"
   },
   {
    "duration": 13,
    "start_time": "2021-10-29T09:46:50.514Z"
   },
   {
    "duration": 13,
    "start_time": "2021-10-29T09:46:59.306Z"
   },
   {
    "duration": 11,
    "start_time": "2021-10-29T09:47:04.144Z"
   },
   {
    "duration": 12,
    "start_time": "2021-10-29T09:47:18.368Z"
   },
   {
    "duration": 10,
    "start_time": "2021-10-29T09:47:24.403Z"
   },
   {
    "duration": 85,
    "start_time": "2021-10-29T09:47:42.401Z"
   },
   {
    "duration": 15,
    "start_time": "2021-10-29T09:47:46.357Z"
   },
   {
    "duration": 6277,
    "start_time": "2021-10-29T09:48:20.378Z"
   },
   {
    "duration": -8213,
    "start_time": "2021-10-29T09:48:42.115Z"
   },
   {
    "duration": 12,
    "start_time": "2021-10-29T09:48:42.338Z"
   },
   {
    "duration": 12,
    "start_time": "2021-10-29T09:49:58.836Z"
   },
   {
    "duration": 4,
    "start_time": "2021-10-29T09:53:00.497Z"
   },
   {
    "duration": 251,
    "start_time": "2021-10-29T09:53:14.851Z"
   },
   {
    "duration": 11,
    "start_time": "2021-10-29T09:53:28.955Z"
   },
   {
    "duration": 9,
    "start_time": "2021-10-29T09:53:43.294Z"
   },
   {
    "duration": 10,
    "start_time": "2021-10-29T09:53:47.304Z"
   },
   {
    "duration": 29,
    "start_time": "2021-10-29T09:56:35.594Z"
   },
   {
    "duration": 13,
    "start_time": "2021-10-29T09:56:48.870Z"
   },
   {
    "duration": 12,
    "start_time": "2021-10-29T09:59:07.605Z"
   },
   {
    "duration": 238,
    "start_time": "2021-10-29T09:59:48.634Z"
   },
   {
    "duration": 11,
    "start_time": "2021-10-29T10:00:03.136Z"
   },
   {
    "duration": 11,
    "start_time": "2021-10-29T10:00:11.891Z"
   },
   {
    "duration": 14,
    "start_time": "2021-10-29T10:07:22.220Z"
   },
   {
    "duration": 252,
    "start_time": "2021-10-29T10:08:33.894Z"
   },
   {
    "duration": 14,
    "start_time": "2021-10-29T10:08:42.291Z"
   },
   {
    "duration": 11,
    "start_time": "2021-10-29T10:10:07.046Z"
   },
   {
    "duration": 12,
    "start_time": "2021-10-29T10:12:39.172Z"
   },
   {
    "duration": 12,
    "start_time": "2021-10-29T10:12:59.258Z"
   },
   {
    "duration": 14,
    "start_time": "2021-10-29T10:17:53.582Z"
   },
   {
    "duration": 13,
    "start_time": "2021-10-29T10:18:00.502Z"
   },
   {
    "duration": 14,
    "start_time": "2021-10-29T10:18:07.000Z"
   },
   {
    "duration": 9,
    "start_time": "2021-10-29T10:23:23.338Z"
   },
   {
    "duration": 14,
    "start_time": "2021-10-29T10:23:32.258Z"
   },
   {
    "duration": 14,
    "start_time": "2021-10-29T10:23:41.316Z"
   },
   {
    "duration": 13,
    "start_time": "2021-10-29T10:23:52.071Z"
   },
   {
    "duration": 12,
    "start_time": "2021-10-29T10:31:23.165Z"
   },
   {
    "duration": 11,
    "start_time": "2021-10-29T10:32:49.884Z"
   },
   {
    "duration": 10,
    "start_time": "2021-10-29T10:54:59.989Z"
   },
   {
    "duration": 14,
    "start_time": "2021-10-29T10:57:23.272Z"
   },
   {
    "duration": 1361,
    "start_time": "2021-10-30T11:26:34.110Z"
   },
   {
    "duration": 92,
    "start_time": "2021-10-30T11:26:35.473Z"
   },
   {
    "duration": 23,
    "start_time": "2021-10-30T11:26:35.567Z"
   },
   {
    "duration": 40,
    "start_time": "2021-10-30T11:26:35.592Z"
   },
   {
    "duration": 46,
    "start_time": "2021-10-30T11:26:35.634Z"
   },
   {
    "duration": 70,
    "start_time": "2021-10-30T11:26:35.681Z"
   },
   {
    "duration": 1907,
    "start_time": "2021-10-30T11:26:35.752Z"
   },
   {
    "duration": 72,
    "start_time": "2021-10-30T11:26:37.662Z"
   },
   {
    "duration": 6,
    "start_time": "2021-10-30T11:26:37.736Z"
   },
   {
    "duration": 19,
    "start_time": "2021-10-30T11:26:37.743Z"
   },
   {
    "duration": 28,
    "start_time": "2021-10-30T11:26:37.764Z"
   },
   {
    "duration": 8585,
    "start_time": "2021-10-30T11:26:37.794Z"
   },
   {
    "duration": 774,
    "start_time": "2021-10-30T11:26:46.381Z"
   },
   {
    "duration": 2563,
    "start_time": "2021-10-30T11:26:47.157Z"
   },
   {
    "duration": 15307,
    "start_time": "2021-10-30T11:26:49.723Z"
   },
   {
    "duration": 21,
    "start_time": "2021-10-30T11:27:05.032Z"
   },
   {
    "duration": 27,
    "start_time": "2021-10-30T11:27:05.055Z"
   },
   {
    "duration": 41,
    "start_time": "2021-10-30T11:27:05.084Z"
   },
   {
    "duration": 12,
    "start_time": "2021-10-30T11:27:05.127Z"
   },
   {
    "duration": 12,
    "start_time": "2021-10-30T11:27:05.140Z"
   },
   {
    "duration": 13,
    "start_time": "2021-10-30T11:27:05.154Z"
   },
   {
    "duration": 80,
    "start_time": "2021-10-30T20:31:00.470Z"
   },
   {
    "duration": 291,
    "start_time": "2021-10-30T20:39:41.191Z"
   },
   {
    "duration": 1021,
    "start_time": "2021-10-30T20:39:47.987Z"
   },
   {
    "duration": 151,
    "start_time": "2021-10-30T20:39:49.732Z"
   },
   {
    "duration": 135,
    "start_time": "2021-10-30T20:40:06.733Z"
   },
   {
    "duration": 280,
    "start_time": "2021-10-30T20:43:58.293Z"
   },
   {
    "duration": 243,
    "start_time": "2021-10-30T20:44:44.571Z"
   },
   {
    "duration": 234,
    "start_time": "2021-10-30T20:45:01.543Z"
   },
   {
    "duration": -9295,
    "start_time": "2021-10-30T20:46:07.969Z"
   },
   {
    "duration": 616,
    "start_time": "2021-10-30T20:46:00.004Z"
   },
   {
    "duration": 49,
    "start_time": "2021-10-30T20:47:34.137Z"
   },
   {
    "duration": 48,
    "start_time": "2021-10-30T20:47:42.438Z"
   },
   {
    "duration": 48,
    "start_time": "2021-10-30T20:48:13.888Z"
   },
   {
    "duration": 50,
    "start_time": "2021-10-30T20:48:20.598Z"
   },
   {
    "duration": 85,
    "start_time": "2021-10-30T20:49:40.854Z"
   },
   {
    "duration": 282,
    "start_time": "2021-10-30T20:49:48.121Z"
   },
   {
    "duration": 784,
    "start_time": "2021-10-30T20:51:52.398Z"
   },
   {
    "duration": 159,
    "start_time": "2021-10-30T20:51:53.185Z"
   },
   {
    "duration": 57,
    "start_time": "2021-10-30T20:51:53.350Z"
   },
   {
    "duration": 41,
    "start_time": "2021-10-30T20:51:53.431Z"
   },
   {
    "duration": 86,
    "start_time": "2021-10-30T20:51:53.475Z"
   },
   {
    "duration": 137,
    "start_time": "2021-10-30T20:51:53.564Z"
   },
   {
    "duration": 116,
    "start_time": "2021-10-30T20:51:53.730Z"
   },
   {
    "duration": 6383,
    "start_time": "2021-10-30T20:51:53.851Z"
   },
   {
    "duration": 112,
    "start_time": "2021-10-30T20:52:00.237Z"
   },
   {
    "duration": 9,
    "start_time": "2021-10-30T20:52:00.352Z"
   },
   {
    "duration": 27,
    "start_time": "2021-10-30T20:52:00.363Z"
   },
   {
    "duration": 65,
    "start_time": "2021-10-30T20:52:00.394Z"
   },
   {
    "duration": 11392,
    "start_time": "2021-10-30T20:52:00.462Z"
   },
   {
    "duration": 1099,
    "start_time": "2021-10-30T20:52:11.856Z"
   },
   {
    "duration": 3337,
    "start_time": "2021-10-30T20:52:12.957Z"
   },
   {
    "duration": 21905,
    "start_time": "2021-10-30T20:52:16.297Z"
   },
   {
    "duration": 45,
    "start_time": "2021-10-30T20:52:38.204Z"
   },
   {
    "duration": 44,
    "start_time": "2021-10-30T20:52:38.252Z"
   },
   {
    "duration": 47,
    "start_time": "2021-10-30T20:52:38.299Z"
   },
   {
    "duration": 18,
    "start_time": "2021-10-30T20:52:38.348Z"
   },
   {
    "duration": 18,
    "start_time": "2021-10-30T20:52:38.369Z"
   },
   {
    "duration": 56,
    "start_time": "2021-10-30T20:52:38.392Z"
   },
   {
    "duration": 39,
    "start_time": "2021-10-30T20:54:06.707Z"
   },
   {
    "duration": 35,
    "start_time": "2021-10-30T20:54:32.984Z"
   },
   {
    "duration": 33,
    "start_time": "2021-10-30T20:54:37.008Z"
   },
   {
    "duration": 721,
    "start_time": "2021-10-30T20:54:45.164Z"
   },
   {
    "duration": 156,
    "start_time": "2021-10-30T20:54:45.888Z"
   },
   {
    "duration": 53,
    "start_time": "2021-10-30T20:54:46.047Z"
   },
   {
    "duration": 60,
    "start_time": "2021-10-30T20:54:46.103Z"
   },
   {
    "duration": 38,
    "start_time": "2021-10-30T20:54:46.166Z"
   },
   {
    "duration": 105,
    "start_time": "2021-10-30T20:54:46.230Z"
   },
   {
    "duration": 94,
    "start_time": "2021-10-30T20:54:46.337Z"
   },
   {
    "duration": 3729,
    "start_time": "2021-10-30T20:54:46.434Z"
   },
   {
    "duration": 104,
    "start_time": "2021-10-30T20:54:50.166Z"
   },
   {
    "duration": 9,
    "start_time": "2021-10-30T20:54:50.272Z"
   },
   {
    "duration": 16,
    "start_time": "2021-10-30T20:54:50.283Z"
   },
   {
    "duration": 32,
    "start_time": "2021-10-30T20:54:50.330Z"
   },
   {
    "duration": 11993,
    "start_time": "2021-10-30T20:54:50.364Z"
   },
   {
    "duration": 1107,
    "start_time": "2021-10-30T20:55:02.360Z"
   },
   {
    "duration": 4887,
    "start_time": "2021-10-30T20:55:03.471Z"
   },
   {
    "duration": 22285,
    "start_time": "2021-10-30T20:55:08.361Z"
   },
   {
    "duration": 55,
    "start_time": "2021-10-30T20:55:30.650Z"
   },
   {
    "duration": 74,
    "start_time": "2021-10-30T20:55:30.731Z"
   },
   {
    "duration": 33,
    "start_time": "2021-10-30T20:55:30.829Z"
   },
   {
    "duration": 20,
    "start_time": "2021-10-30T20:55:30.865Z"
   },
   {
    "duration": 53,
    "start_time": "2021-10-30T20:55:30.887Z"
   },
   {
    "duration": 17,
    "start_time": "2021-10-30T20:55:30.942Z"
   },
   {
    "duration": 18,
    "start_time": "2021-10-30T20:55:30.962Z"
   },
   {
    "duration": 18,
    "start_time": "2021-10-30T20:55:39.995Z"
   },
   {
    "duration": 17,
    "start_time": "2021-10-30T20:55:41.961Z"
   },
   {
    "duration": 17,
    "start_time": "2021-10-30T20:55:43.557Z"
   },
   {
    "duration": 1317,
    "start_time": "2021-10-30T21:06:25.120Z"
   },
   {
    "duration": 9,
    "start_time": "2021-10-30T21:06:38.375Z"
   },
   {
    "duration": 6,
    "start_time": "2021-10-30T21:06:47.141Z"
   },
   {
    "duration": 9,
    "start_time": "2021-10-30T21:06:53.079Z"
   },
   {
    "duration": 21,
    "start_time": "2021-10-30T21:07:15.434Z"
   },
   {
    "duration": 1017,
    "start_time": "2021-10-30T21:11:04.645Z"
   },
   {
    "duration": 221,
    "start_time": "2021-10-30T21:11:05.666Z"
   },
   {
    "duration": 102,
    "start_time": "2021-10-30T21:11:05.891Z"
   },
   {
    "duration": 49,
    "start_time": "2021-10-30T21:11:05.997Z"
   },
   {
    "duration": 39,
    "start_time": "2021-10-30T21:11:06.048Z"
   },
   {
    "duration": 101,
    "start_time": "2021-10-30T21:11:06.090Z"
   },
   {
    "duration": 93,
    "start_time": "2021-10-30T21:11:06.193Z"
   },
   {
    "duration": 3800,
    "start_time": "2021-10-30T21:11:06.290Z"
   },
   {
    "duration": 109,
    "start_time": "2021-10-30T21:11:10.094Z"
   },
   {
    "duration": 26,
    "start_time": "2021-10-30T21:11:10.205Z"
   },
   {
    "duration": 17,
    "start_time": "2021-10-30T21:11:10.233Z"
   },
   {
    "duration": 18,
    "start_time": "2021-10-30T21:11:10.253Z"
   },
   {
    "duration": 4,
    "start_time": "2021-10-30T21:11:10.273Z"
   },
   {
    "duration": 86,
    "start_time": "2021-10-30T21:11:10.279Z"
   },
   {
    "duration": 11462,
    "start_time": "2021-10-30T21:11:10.367Z"
   },
   {
    "duration": 1266,
    "start_time": "2021-10-30T21:11:21.832Z"
   },
   {
    "duration": 3391,
    "start_time": "2021-10-30T21:11:23.100Z"
   },
   {
    "duration": 22435,
    "start_time": "2021-10-30T21:11:26.494Z"
   },
   {
    "duration": 33,
    "start_time": "2021-10-30T21:11:48.931Z"
   },
   {
    "duration": 72,
    "start_time": "2021-10-30T21:11:48.966Z"
   },
   {
    "duration": 26,
    "start_time": "2021-10-30T21:11:49.040Z"
   },
   {
    "duration": 19,
    "start_time": "2021-10-30T21:11:49.069Z"
   },
   {
    "duration": 47,
    "start_time": "2021-10-30T21:11:49.093Z"
   },
   {
    "duration": 19,
    "start_time": "2021-10-30T21:11:49.143Z"
   },
   {
    "duration": 1071,
    "start_time": "2021-10-30T21:12:17.560Z"
   },
   {
    "duration": 226,
    "start_time": "2021-10-30T21:12:18.635Z"
   },
   {
    "duration": 100,
    "start_time": "2021-10-30T21:12:18.865Z"
   },
   {
    "duration": 68,
    "start_time": "2021-10-30T21:12:18.969Z"
   },
   {
    "duration": 61,
    "start_time": "2021-10-30T21:12:19.040Z"
   },
   {
    "duration": 155,
    "start_time": "2021-10-30T21:12:19.105Z"
   },
   {
    "duration": 102,
    "start_time": "2021-10-30T21:12:19.263Z"
   },
   {
    "duration": 3573,
    "start_time": "2021-10-30T21:12:19.368Z"
   },
   {
    "duration": 108,
    "start_time": "2021-10-30T21:12:22.945Z"
   },
   {
    "duration": 8,
    "start_time": "2021-10-30T21:12:23.055Z"
   },
   {
    "duration": 18,
    "start_time": "2021-10-30T21:12:23.065Z"
   },
   {
    "duration": 51,
    "start_time": "2021-10-30T21:12:23.085Z"
   },
   {
    "duration": 3,
    "start_time": "2021-10-30T21:12:23.139Z"
   },
   {
    "duration": 49,
    "start_time": "2021-10-30T21:12:23.145Z"
   },
   {
    "duration": 11608,
    "start_time": "2021-10-30T21:12:23.196Z"
   },
   {
    "duration": 1203,
    "start_time": "2021-10-30T21:12:34.806Z"
   },
   {
    "duration": 3589,
    "start_time": "2021-10-30T21:12:36.012Z"
   },
   {
    "duration": 22661,
    "start_time": "2021-10-30T21:12:39.605Z"
   },
   {
    "duration": 35,
    "start_time": "2021-10-30T21:13:02.268Z"
   },
   {
    "duration": 67,
    "start_time": "2021-10-30T21:13:02.306Z"
   },
   {
    "duration": 55,
    "start_time": "2021-10-30T21:13:02.376Z"
   },
   {
    "duration": 17,
    "start_time": "2021-10-30T21:13:02.434Z"
   },
   {
    "duration": 18,
    "start_time": "2021-10-30T21:13:02.455Z"
   },
   {
    "duration": 58,
    "start_time": "2021-10-30T21:13:02.475Z"
   },
   {
    "duration": 5,
    "start_time": "2021-10-30T21:13:25.128Z"
   },
   {
    "duration": 29,
    "start_time": "2021-10-30T21:21:05.112Z"
   },
   {
    "duration": 9,
    "start_time": "2021-10-30T21:22:14.422Z"
   },
   {
    "duration": 10,
    "start_time": "2021-10-30T21:25:04.802Z"
   },
   {
    "duration": 21,
    "start_time": "2021-10-30T21:28:35.165Z"
   },
   {
    "duration": 1043,
    "start_time": "2021-10-30T21:28:55.305Z"
   },
   {
    "duration": 196,
    "start_time": "2021-10-30T21:28:56.351Z"
   },
   {
    "duration": 78,
    "start_time": "2021-10-30T21:28:56.551Z"
   },
   {
    "duration": 40,
    "start_time": "2021-10-30T21:28:56.632Z"
   },
   {
    "duration": 74,
    "start_time": "2021-10-30T21:28:56.674Z"
   },
   {
    "duration": 87,
    "start_time": "2021-10-30T21:28:56.750Z"
   },
   {
    "duration": 73,
    "start_time": "2021-10-30T21:28:56.840Z"
   },
   {
    "duration": 3605,
    "start_time": "2021-10-30T21:28:56.916Z"
   },
   {
    "duration": 115,
    "start_time": "2021-10-30T21:29:00.529Z"
   },
   {
    "duration": 8,
    "start_time": "2021-10-30T21:29:00.646Z"
   },
   {
    "duration": 25,
    "start_time": "2021-10-30T21:29:00.657Z"
   },
   {
    "duration": 50,
    "start_time": "2021-10-30T21:29:00.685Z"
   },
   {
    "duration": 3,
    "start_time": "2021-10-30T21:29:00.738Z"
   },
   {
    "duration": 89,
    "start_time": "2021-10-30T21:29:00.743Z"
   },
   {
    "duration": 11623,
    "start_time": "2021-10-30T21:29:00.834Z"
   },
   {
    "duration": 1203,
    "start_time": "2021-10-30T21:29:12.460Z"
   },
   {
    "duration": 3386,
    "start_time": "2021-10-30T21:29:13.665Z"
   },
   {
    "duration": 22245,
    "start_time": "2021-10-30T21:29:17.054Z"
   },
   {
    "duration": 48,
    "start_time": "2021-10-30T21:29:39.301Z"
   },
   {
    "duration": 78,
    "start_time": "2021-10-30T21:29:39.351Z"
   },
   {
    "duration": 21,
    "start_time": "2021-10-30T21:29:39.432Z"
   },
   {
    "duration": 24,
    "start_time": "2021-10-30T21:29:39.456Z"
   },
   {
    "duration": 53,
    "start_time": "2021-10-30T21:29:39.484Z"
   },
   {
    "duration": 17,
    "start_time": "2021-10-30T21:29:39.539Z"
   },
   {
    "duration": 17,
    "start_time": "2021-10-30T21:29:39.558Z"
   },
   {
    "duration": 22,
    "start_time": "2021-10-30T21:37:21.473Z"
   },
   {
    "duration": 20,
    "start_time": "2021-10-30T21:37:35.350Z"
   },
   {
    "duration": 21,
    "start_time": "2021-10-30T21:37:48.208Z"
   },
   {
    "duration": 20,
    "start_time": "2021-10-30T21:38:01.402Z"
   },
   {
    "duration": 20,
    "start_time": "2021-10-30T21:38:21.410Z"
   },
   {
    "duration": 20,
    "start_time": "2021-10-30T21:38:24.770Z"
   },
   {
    "duration": 20,
    "start_time": "2021-10-30T21:38:29.574Z"
   },
   {
    "duration": 20,
    "start_time": "2021-10-30T21:38:32.504Z"
   },
   {
    "duration": 18,
    "start_time": "2021-10-30T21:38:35.547Z"
   },
   {
    "duration": 20,
    "start_time": "2021-10-30T21:38:38.589Z"
   },
   {
    "duration": 26,
    "start_time": "2021-10-30T21:38:41.337Z"
   },
   {
    "duration": 21,
    "start_time": "2021-10-30T21:38:49.012Z"
   },
   {
    "duration": 19,
    "start_time": "2021-10-30T21:38:51.493Z"
   },
   {
    "duration": 18,
    "start_time": "2021-10-30T21:39:07.192Z"
   },
   {
    "duration": 20,
    "start_time": "2021-10-30T21:39:26.544Z"
   },
   {
    "duration": 22,
    "start_time": "2021-10-30T21:39:35.038Z"
   },
   {
    "duration": 24,
    "start_time": "2021-10-30T21:39:47.269Z"
   },
   {
    "duration": 17,
    "start_time": "2021-10-30T21:41:46.715Z"
   },
   {
    "duration": 16,
    "start_time": "2021-10-30T21:42:02.534Z"
   },
   {
    "duration": 18,
    "start_time": "2021-10-30T21:42:08.959Z"
   },
   {
    "duration": 68,
    "start_time": "2021-10-30T22:22:37.757Z"
   },
   {
    "duration": 86,
    "start_time": "2021-10-30T22:22:42.771Z"
   },
   {
    "duration": 77,
    "start_time": "2021-10-30T22:22:50.999Z"
   },
   {
    "duration": 735,
    "start_time": "2021-10-30T22:23:36.875Z"
   },
   {
    "duration": 147,
    "start_time": "2021-10-30T22:23:37.613Z"
   },
   {
    "duration": 73,
    "start_time": "2021-10-30T22:23:37.763Z"
   },
   {
    "duration": 34,
    "start_time": "2021-10-30T22:23:37.838Z"
   },
   {
    "duration": 65,
    "start_time": "2021-10-30T22:23:37.874Z"
   },
   {
    "duration": 102,
    "start_time": "2021-10-30T22:23:37.942Z"
   },
   {
    "duration": 97,
    "start_time": "2021-10-30T22:23:38.047Z"
   },
   {
    "duration": 3650,
    "start_time": "2021-10-30T22:23:38.150Z"
   },
   {
    "duration": 99,
    "start_time": "2021-10-30T22:23:41.803Z"
   },
   {
    "duration": 25,
    "start_time": "2021-10-30T22:23:41.904Z"
   },
   {
    "duration": 18,
    "start_time": "2021-10-30T22:23:41.932Z"
   },
   {
    "duration": 19,
    "start_time": "2021-10-30T22:23:41.952Z"
   },
   {
    "duration": 7,
    "start_time": "2021-10-30T22:23:41.973Z"
   },
   {
    "duration": 90,
    "start_time": "2021-10-30T22:23:41.982Z"
   },
   {
    "duration": 11719,
    "start_time": "2021-10-30T22:23:42.074Z"
   },
   {
    "duration": 1173,
    "start_time": "2021-10-30T22:23:53.796Z"
   },
   {
    "duration": 3264,
    "start_time": "2021-10-30T22:23:54.972Z"
   },
   {
    "duration": 21274,
    "start_time": "2021-10-30T22:23:58.239Z"
   },
   {
    "duration": 45,
    "start_time": "2021-10-30T22:24:19.517Z"
   },
   {
    "duration": 78,
    "start_time": "2021-10-30T22:24:19.564Z"
   },
   {
    "duration": 15,
    "start_time": "2021-10-30T22:24:19.644Z"
   },
   {
    "duration": 17,
    "start_time": "2021-10-30T22:24:19.662Z"
   },
   {
    "duration": 56,
    "start_time": "2021-10-30T22:24:19.684Z"
   },
   {
    "duration": 16,
    "start_time": "2021-10-30T22:24:19.742Z"
   },
   {
    "duration": 16,
    "start_time": "2021-10-30T22:24:19.761Z"
   }
  ],
  "kernelspec": {
   "display_name": "Python 3 (ipykernel)",
   "language": "python",
   "name": "python3"
  },
  "language_info": {
   "codemirror_mode": {
    "name": "ipython",
    "version": 3
   },
   "file_extension": ".py",
   "mimetype": "text/x-python",
   "name": "python",
   "nbconvert_exporter": "python",
   "pygments_lexer": "ipython3",
   "version": "3.9.7"
  },
  "toc": {
   "base_numbering": 1,
   "nav_menu": {},
   "number_sections": true,
   "sideBar": true,
   "skip_h1_title": true,
   "title_cell": "Table of Contents",
   "title_sidebar": "Contents",
   "toc_cell": false,
   "toc_position": {},
   "toc_section_display": true,
   "toc_window_display": false
  }
 },
 "nbformat": 4,
 "nbformat_minor": 2
}
